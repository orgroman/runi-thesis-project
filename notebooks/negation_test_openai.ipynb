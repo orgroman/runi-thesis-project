{
 "cells": [
  {
   "cell_type": "markdown",
   "metadata": {},
   "source": [
    "## Configure Azure Key Vault and OpenAI Credentials\n",
    "\n",
    "Securely retrieve OpenAI API key from Azure Key Vault for authentication.\n",
    "This ensures sensitive credentials are not hardcoded in the notebook."
   ]
  },
  {
   "cell_type": "code",
   "execution_count": 1,
   "metadata": {},
   "outputs": [
    {
     "name": "stdout",
     "output_type": "stream",
     "text": [
      "Successfully retrieved OpenAI API key from Azure Key Vault\n"
     ]
    }
   ],
   "source": [
    "from azure.identity import DefaultAzureCredential\n",
    "from azure.keyvault.secrets import SecretClient\n",
    "import os\n",
    "\n",
    "def get_openai_key():\n",
    "    \"\"\"Retrieve OpenAI API key from Azure Key Vault\"\"\"\n",
    "    try:\n",
    "        # Initialize the Azure credentials\n",
    "        credential = DefaultAzureCredential()\n",
    "        \n",
    "        # Create a secret client\n",
    "        vault_url = f\"https://kvrunithesis.vault.azure.net/\"\n",
    "        secret_client = SecretClient(vault_url=vault_url, credential=credential)\n",
    "        \n",
    "        # Get the secret\n",
    "        secret = secret_client.get_secret(\"alon-thesis-openai-key\")\n",
    "        \n",
    "        # Set as environment variable\n",
    "        os.environ[\"OPENAI_API_KEY\"] = secret.value\n",
    "        \n",
    "        print(\"Successfully retrieved OpenAI API key from Azure Key Vault\")\n",
    "    except Exception as e:\n",
    "        print(f\"Error retrieving secret from Key Vault: {str(e)}\")\n",
    "        raise\n",
    "\n",
    "# Retrieve and set the OpenAI API key\n",
    "get_openai_key()\n",
    "\n",
    "# Now you can initialize the OpenAI client which will automatically use the environment variable"
   ]
  },
  {
   "cell_type": "code",
   "execution_count": 2,
   "metadata": {},
   "outputs": [],
   "source": [
    "import pandas as pd\n",
    "\n",
    "# Load the test data\n",
    "csv_file = r'C:\\Users\\orgrd\\workspace\\data\\patentmatch_test\\patentmatch_test_no_claims.csv'\n",
    "df = pd.read_csv(csv_file)"
   ]
  },
  {
   "cell_type": "code",
   "execution_count": 3,
   "metadata": {},
   "outputs": [
    {
     "data": {
      "text/html": [
       "<div>\n",
       "<style scoped>\n",
       "    .dataframe tbody tr th:only-of-type {\n",
       "        vertical-align: middle;\n",
       "    }\n",
       "\n",
       "    .dataframe tbody tr th {\n",
       "        vertical-align: top;\n",
       "    }\n",
       "\n",
       "    .dataframe thead th {\n",
       "        text-align: right;\n",
       "    }\n",
       "</style>\n",
       "<table border=\"1\" class=\"dataframe\">\n",
       "  <thead>\n",
       "    <tr style=\"text-align: right;\">\n",
       "      <th></th>\n",
       "      <th>Unnamed: 0</th>\n",
       "      <th>index</th>\n",
       "      <th>claim_id</th>\n",
       "      <th>patent_application_id</th>\n",
       "      <th>cited_document_id</th>\n",
       "      <th>text</th>\n",
       "      <th>text_b</th>\n",
       "      <th>label</th>\n",
       "      <th>date</th>\n",
       "    </tr>\n",
       "  </thead>\n",
       "  <tbody>\n",
       "    <tr>\n",
       "      <th>0</th>\n",
       "      <td>5113165</td>\n",
       "      <td>5113165</td>\n",
       "      <td>111187_0</td>\n",
       "      <td>EP3157302A1</td>\n",
       "      <td>EP2903333</td>\n",
       "      <td>A network of handling a paging procedure in a ...</td>\n",
       "      <td>FIG.16 is a diagram illustrating an example of...</td>\n",
       "      <td>0</td>\n",
       "      <td>20170419</td>\n",
       "    </tr>\n",
       "    <tr>\n",
       "      <th>1</th>\n",
       "      <td>5658863</td>\n",
       "      <td>5658863</td>\n",
       "      <td>209068_1</td>\n",
       "      <td>EP3202314A1</td>\n",
       "      <td>EP2229880</td>\n",
       "      <td>A sensor information processing program for ca...</td>\n",
       "      <td>In a first step the fundamental movement frequ...</td>\n",
       "      <td>1</td>\n",
       "      <td>20170809</td>\n",
       "    </tr>\n",
       "    <tr>\n",
       "      <th>2</th>\n",
       "      <td>5584990</td>\n",
       "      <td>5584990</td>\n",
       "      <td>171472_0</td>\n",
       "      <td>EP3196007A1</td>\n",
       "      <td>EP2939828</td>\n",
       "      <td>A moulded trim part for a vehicle according to...</td>\n",
       "      <td>It was found that the thermoplastic polyuretha...</td>\n",
       "      <td>0</td>\n",
       "      <td>20170726</td>\n",
       "    </tr>\n",
       "    <tr>\n",
       "      <th>3</th>\n",
       "      <td>5137320</td>\n",
       "      <td>5137320</td>\n",
       "      <td>87572_0</td>\n",
       "      <td>EP3160147A1</td>\n",
       "      <td>EP1670252</td>\n",
       "      <td>A method for fast channel change characterized...</td>\n",
       "      <td>As to the issue of delivery modes the strategy...</td>\n",
       "      <td>0</td>\n",
       "      <td>20170426</td>\n",
       "    </tr>\n",
       "    <tr>\n",
       "      <th>4</th>\n",
       "      <td>5800528</td>\n",
       "      <td>5800528</td>\n",
       "      <td>204115_0</td>\n",
       "      <td>EP3217403A1</td>\n",
       "      <td>EP1855216</td>\n",
       "      <td>An audio asset information storage system comp...</td>\n",
       "      <td>Further it is assumed in the above circumstanc...</td>\n",
       "      <td>0</td>\n",
       "      <td>20170913</td>\n",
       "    </tr>\n",
       "  </tbody>\n",
       "</table>\n",
       "</div>"
      ],
      "text/plain": [
       "   Unnamed: 0    index  claim_id patent_application_id cited_document_id  \\\n",
       "0     5113165  5113165  111187_0           EP3157302A1         EP2903333   \n",
       "1     5658863  5658863  209068_1           EP3202314A1         EP2229880   \n",
       "2     5584990  5584990  171472_0           EP3196007A1         EP2939828   \n",
       "3     5137320  5137320   87572_0           EP3160147A1         EP1670252   \n",
       "4     5800528  5800528  204115_0           EP3217403A1         EP1855216   \n",
       "\n",
       "                                                text  \\\n",
       "0  A network of handling a paging procedure in a ...   \n",
       "1  A sensor information processing program for ca...   \n",
       "2  A moulded trim part for a vehicle according to...   \n",
       "3  A method for fast channel change characterized...   \n",
       "4  An audio asset information storage system comp...   \n",
       "\n",
       "                                              text_b  label      date  \n",
       "0  FIG.16 is a diagram illustrating an example of...      0  20170419  \n",
       "1  In a first step the fundamental movement frequ...      1  20170809  \n",
       "2  It was found that the thermoplastic polyuretha...      0  20170726  \n",
       "3  As to the issue of delivery modes the strategy...      0  20170426  \n",
       "4  Further it is assumed in the above circumstanc...      0  20170913  "
      ]
     },
     "execution_count": 3,
     "metadata": {},
     "output_type": "execute_result"
    }
   ],
   "source": [
    "df.head()"
   ]
  },
  {
   "cell_type": "markdown",
   "metadata": {},
   "source": [
    "## Prepare JSONL Files for OpenAI Processing\n",
    "\n",
    "This section prepares the data for batch processing with OpenAI's API. Here's what we're doing:\n",
    "\n",
    "1. **Setup**: Import required libraries and configure logging\n",
    "2. **Data Model**: Define a Pydantic model `NegationResponse` to validate OpenAI's responses\n",
    "3. **Batch Processing**: \n",
    "   - Split data into batches of 1000 rows each\n",
    "   - Create JSONL files with proper OpenAI API format\n",
    "   - Each line contains:\n",
    "     - Custom ID for tracking\n",
    "     - API endpoint\n",
    "     - Request body with messages and response format\n",
    "4. **Output**: Save batches as separate JSONL files in `output_jsonl` directory\n",
    "\n",
    "The JSONL format is required for OpenAI's batch processing endpoint."
   ]
  },
  {
   "cell_type": "code",
   "execution_count": 4,
   "metadata": {},
   "outputs": [
    {
     "name": "stdout",
     "output_type": "stream",
     "text": [
      "Processing batch 1/373\n",
      "Processing batch 2/373\n",
      "Processing batch 3/373\n",
      "Processing batch 4/373\n",
      "Processing batch 5/373\n",
      "Processing batch 6/373\n",
      "Processing batch 7/373\n",
      "Processing batch 8/373\n",
      "Processing batch 9/373\n",
      "Processing batch 10/373\n",
      "Processing batch 11/373\n",
      "Processing batch 12/373\n",
      "Processing batch 13/373\n",
      "Processing batch 14/373\n",
      "Processing batch 15/373\n",
      "Processing batch 16/373\n",
      "Processing batch 17/373\n",
      "Processing batch 18/373\n",
      "Processing batch 19/373\n",
      "Processing batch 20/373\n",
      "Processing batch 21/373\n",
      "Processing batch 22/373\n",
      "Processing batch 23/373\n",
      "Processing batch 24/373\n",
      "Processing batch 25/373\n",
      "Processing batch 26/373\n",
      "Processing batch 27/373\n",
      "Processing batch 28/373\n",
      "Processing batch 29/373\n",
      "Processing batch 30/373\n",
      "Processing batch 31/373\n",
      "Processing batch 32/373\n",
      "Processing batch 33/373\n",
      "Processing batch 34/373\n",
      "Processing batch 35/373\n",
      "Processing batch 36/373\n",
      "Processing batch 37/373\n",
      "Processing batch 38/373\n",
      "Processing batch 39/373\n",
      "Processing batch 40/373\n",
      "Processing batch 41/373\n",
      "Processing batch 42/373\n",
      "Processing batch 43/373\n",
      "Processing batch 44/373\n",
      "Processing batch 45/373\n",
      "Processing batch 46/373\n",
      "Processing batch 47/373\n",
      "Processing batch 48/373\n",
      "Processing batch 49/373\n",
      "Processing batch 50/373\n",
      "Processing batch 51/373\n",
      "Processing batch 52/373\n",
      "Processing batch 53/373\n",
      "Processing batch 54/373\n",
      "Processing batch 55/373\n",
      "Processing batch 56/373\n",
      "Processing batch 57/373\n",
      "Processing batch 58/373\n",
      "Processing batch 59/373\n",
      "Processing batch 60/373\n",
      "Processing batch 61/373\n",
      "Processing batch 62/373\n",
      "Processing batch 63/373\n",
      "Processing batch 64/373\n",
      "Processing batch 65/373\n",
      "Processing batch 66/373\n",
      "Processing batch 67/373\n",
      "Processing batch 68/373\n",
      "Processing batch 69/373\n",
      "Processing batch 70/373\n",
      "Processing batch 71/373\n",
      "Processing batch 72/373\n",
      "Processing batch 73/373\n",
      "Processing batch 74/373\n",
      "Processing batch 75/373\n",
      "Processing batch 76/373\n",
      "Processing batch 77/373\n",
      "Processing batch 78/373\n",
      "Processing batch 79/373\n",
      "Processing batch 80/373\n",
      "Processing batch 81/373\n",
      "Processing batch 82/373\n",
      "Processing batch 83/373\n",
      "Processing batch 84/373\n",
      "Processing batch 85/373\n",
      "Processing batch 86/373\n",
      "Processing batch 87/373\n",
      "Processing batch 88/373\n",
      "Processing batch 89/373\n",
      "Processing batch 90/373\n",
      "Processing batch 91/373\n",
      "Processing batch 92/373\n",
      "Processing batch 93/373\n",
      "Processing batch 94/373\n",
      "Processing batch 95/373\n",
      "Processing batch 96/373\n",
      "Processing batch 97/373\n",
      "Processing batch 98/373\n",
      "Processing batch 99/373\n",
      "Processing batch 100/373\n",
      "Processing batch 101/373\n",
      "Processing batch 102/373\n",
      "Processing batch 103/373\n",
      "Processing batch 104/373\n",
      "Processing batch 105/373\n",
      "Processing batch 106/373\n",
      "Processing batch 107/373\n",
      "Processing batch 108/373\n",
      "Processing batch 109/373\n",
      "Processing batch 110/373\n",
      "Processing batch 111/373\n",
      "Processing batch 112/373\n",
      "Processing batch 113/373\n",
      "Processing batch 114/373\n",
      "Processing batch 115/373\n",
      "Processing batch 116/373\n",
      "Processing batch 117/373\n",
      "Processing batch 118/373\n",
      "Processing batch 119/373\n",
      "Processing batch 120/373\n",
      "Processing batch 121/373\n",
      "Processing batch 122/373\n",
      "Processing batch 123/373\n",
      "Processing batch 124/373\n",
      "Processing batch 125/373\n",
      "Processing batch 126/373\n",
      "Processing batch 127/373\n",
      "Processing batch 128/373\n",
      "Processing batch 129/373\n",
      "Processing batch 130/373\n",
      "Processing batch 131/373\n",
      "Processing batch 132/373\n",
      "Processing batch 133/373\n",
      "Processing batch 134/373\n",
      "Processing batch 135/373\n",
      "Processing batch 136/373\n",
      "Processing batch 137/373\n",
      "Processing batch 138/373\n",
      "Processing batch 139/373\n",
      "Processing batch 140/373\n",
      "Processing batch 141/373\n",
      "Processing batch 142/373\n",
      "Processing batch 143/373\n",
      "Processing batch 144/373\n",
      "Processing batch 145/373\n",
      "Processing batch 146/373\n",
      "Processing batch 147/373\n",
      "Processing batch 148/373\n",
      "Processing batch 149/373\n",
      "Processing batch 150/373\n",
      "Processing batch 151/373\n",
      "Processing batch 152/373\n",
      "Processing batch 153/373\n",
      "Processing batch 154/373\n",
      "Processing batch 155/373\n",
      "Processing batch 156/373\n",
      "Processing batch 157/373\n",
      "Processing batch 158/373\n",
      "Processing batch 159/373\n",
      "Processing batch 160/373\n",
      "Processing batch 161/373\n",
      "Processing batch 162/373\n",
      "Processing batch 163/373\n",
      "Processing batch 164/373\n",
      "Processing batch 165/373\n",
      "Processing batch 166/373\n",
      "Processing batch 167/373\n",
      "Processing batch 168/373\n",
      "Processing batch 169/373\n",
      "Processing batch 170/373\n",
      "Processing batch 171/373\n",
      "Processing batch 172/373\n",
      "Processing batch 173/373\n",
      "Processing batch 174/373\n",
      "Processing batch 175/373\n",
      "Processing batch 176/373\n",
      "Processing batch 177/373\n",
      "Processing batch 178/373\n",
      "Processing batch 179/373\n",
      "Processing batch 180/373\n",
      "Processing batch 181/373\n",
      "Processing batch 182/373\n",
      "Processing batch 183/373\n",
      "Processing batch 184/373\n",
      "Processing batch 185/373\n",
      "Processing batch 186/373\n",
      "Processing batch 187/373\n",
      "Processing batch 188/373\n",
      "Processing batch 189/373\n",
      "Processing batch 190/373\n",
      "Processing batch 191/373\n",
      "Processing batch 192/373\n",
      "Processing batch 193/373\n",
      "Processing batch 194/373\n",
      "Processing batch 195/373\n",
      "Processing batch 196/373\n",
      "Processing batch 197/373\n",
      "Processing batch 198/373\n",
      "Processing batch 199/373\n",
      "Processing batch 200/373\n",
      "Processing batch 201/373\n",
      "Processing batch 202/373\n",
      "Processing batch 203/373\n",
      "Processing batch 204/373\n",
      "Processing batch 205/373\n",
      "Processing batch 206/373\n",
      "Processing batch 207/373\n",
      "Processing batch 208/373\n",
      "Processing batch 209/373\n",
      "Processing batch 210/373\n",
      "Processing batch 211/373\n",
      "Processing batch 212/373\n",
      "Processing batch 213/373\n",
      "Processing batch 214/373\n",
      "Processing batch 215/373\n",
      "Processing batch 216/373\n",
      "Processing batch 217/373\n",
      "Processing batch 218/373\n",
      "Processing batch 219/373\n",
      "Processing batch 220/373\n",
      "Processing batch 221/373\n",
      "Processing batch 222/373\n",
      "Processing batch 223/373\n",
      "Processing batch 224/373\n",
      "Processing batch 225/373\n",
      "Processing batch 226/373\n",
      "Processing batch 227/373\n",
      "Processing batch 228/373\n",
      "Processing batch 229/373\n",
      "Processing batch 230/373\n",
      "Processing batch 231/373\n",
      "Processing batch 232/373\n",
      "Processing batch 233/373\n",
      "Processing batch 234/373\n",
      "Processing batch 235/373\n",
      "Processing batch 236/373\n",
      "Processing batch 237/373\n",
      "Processing batch 238/373\n",
      "Processing batch 239/373\n",
      "Processing batch 240/373\n",
      "Processing batch 241/373\n",
      "Processing batch 242/373\n",
      "Processing batch 243/373\n",
      "Processing batch 244/373\n",
      "Processing batch 245/373\n",
      "Processing batch 246/373\n",
      "Processing batch 247/373\n",
      "Processing batch 248/373\n",
      "Processing batch 249/373\n",
      "Processing batch 250/373\n",
      "Processing batch 251/373\n",
      "Processing batch 252/373\n",
      "Processing batch 253/373\n",
      "Processing batch 254/373\n",
      "Processing batch 255/373\n",
      "Processing batch 256/373\n",
      "Processing batch 257/373\n",
      "Processing batch 258/373\n",
      "Processing batch 259/373\n",
      "Processing batch 260/373\n",
      "Processing batch 261/373\n",
      "Processing batch 262/373\n",
      "Processing batch 263/373\n",
      "Processing batch 264/373\n",
      "Processing batch 265/373\n",
      "Processing batch 266/373\n",
      "Processing batch 267/373\n",
      "Processing batch 268/373\n",
      "Processing batch 269/373\n",
      "Processing batch 270/373\n",
      "Processing batch 271/373\n",
      "Processing batch 272/373\n",
      "Processing batch 273/373\n",
      "Processing batch 274/373\n",
      "Processing batch 275/373\n",
      "Processing batch 276/373\n",
      "Processing batch 277/373\n",
      "Processing batch 278/373\n",
      "Processing batch 279/373\n",
      "Processing batch 280/373\n",
      "Processing batch 281/373\n",
      "Processing batch 282/373\n",
      "Processing batch 283/373\n",
      "Processing batch 284/373\n",
      "Processing batch 285/373\n",
      "Processing batch 286/373\n",
      "Processing batch 287/373\n",
      "Processing batch 288/373\n",
      "Processing batch 289/373\n",
      "Processing batch 290/373\n",
      "Processing batch 291/373\n",
      "Processing batch 292/373\n",
      "Processing batch 293/373\n",
      "Processing batch 294/373\n",
      "Processing batch 295/373\n",
      "Processing batch 296/373\n",
      "Processing batch 297/373\n",
      "Processing batch 298/373\n",
      "Processing batch 299/373\n",
      "Processing batch 300/373\n",
      "Processing batch 301/373\n",
      "Processing batch 302/373\n",
      "Processing batch 303/373\n",
      "Processing batch 304/373\n",
      "Processing batch 305/373\n",
      "Processing batch 306/373\n",
      "Processing batch 307/373\n",
      "Processing batch 308/373\n",
      "Processing batch 309/373\n",
      "Processing batch 310/373\n",
      "Processing batch 311/373\n",
      "Processing batch 312/373\n",
      "Processing batch 313/373\n",
      "Processing batch 314/373\n",
      "Processing batch 315/373\n",
      "Processing batch 316/373\n",
      "Processing batch 317/373\n",
      "Processing batch 318/373\n",
      "Processing batch 319/373\n",
      "Processing batch 320/373\n",
      "Processing batch 321/373\n",
      "Processing batch 322/373\n",
      "Processing batch 323/373\n",
      "Processing batch 324/373\n",
      "Processing batch 325/373\n",
      "Processing batch 326/373\n",
      "Processing batch 327/373\n",
      "Processing batch 328/373\n",
      "Processing batch 329/373\n",
      "Processing batch 330/373\n",
      "Processing batch 331/373\n",
      "Processing batch 332/373\n",
      "Processing batch 333/373\n",
      "Processing batch 334/373\n",
      "Processing batch 335/373\n",
      "Processing batch 336/373\n",
      "Processing batch 337/373\n",
      "Processing batch 338/373\n",
      "Processing batch 339/373\n",
      "Processing batch 340/373\n",
      "Processing batch 341/373\n",
      "Processing batch 342/373\n",
      "Processing batch 343/373\n",
      "Processing batch 344/373\n",
      "Processing batch 345/373\n",
      "Processing batch 346/373\n",
      "Processing batch 347/373\n",
      "Processing batch 348/373\n",
      "Processing batch 349/373\n",
      "Processing batch 350/373\n",
      "Processing batch 351/373\n",
      "Processing batch 352/373\n",
      "Processing batch 353/373\n",
      "Processing batch 354/373\n",
      "Processing batch 355/373\n",
      "Processing batch 356/373\n",
      "Processing batch 357/373\n",
      "Processing batch 358/373\n",
      "Processing batch 359/373\n",
      "Processing batch 360/373\n",
      "Processing batch 361/373\n",
      "Processing batch 362/373\n",
      "Processing batch 363/373\n",
      "Processing batch 364/373\n",
      "Processing batch 365/373\n",
      "Processing batch 366/373\n",
      "Processing batch 367/373\n",
      "Processing batch 368/373\n",
      "Processing batch 369/373\n",
      "Processing batch 370/373\n",
      "Processing batch 371/373\n",
      "Processing batch 372/373\n",
      "Processing batch 373/373\n",
      "\n",
      "Sample output from first batch:\n",
      "{\"custom_id\": \"request_text_EP3157302A1_5113165\", \"method\": \"POST\", \"url\": \"/v1/chat/completions\", \"body\": {\"model\": \"gpt-4-turbo-preview\", \"messages\": [{\"role\": \"system\", \"content\": \"Analyze the text for negations and identify their types.\"}, {\"role\": \"user\", \"content\": \"Analyze the following text: A network of handling a paging procedure in a wireless communication system the network comprising a storage unit 210 for storing instructions and a processing circuit 200 coupled to the storage unit 210 wherein the storage unit 210 stores and the processing circuit 200 is configured to execute the instructions of receiving a first Non Access Stratum NAS message comprising a first time interval for monitoring a paging occasion and a second time interval for monitoring the paging occasion from a communication device wherein the second time interval is larger than the first time interval transmitting a second NAS message comprising a third time interval for monitoring the paging occasion to the communication device and storing the first time interval and the third time interval after receiving the first NAS message wherein the third time interval is larger than the first time interval performing the paging procedure by using the third time interval when a packet data network PDN connection for an emergency bearer service is not established or not establishing and performing the paging procedure by using the first time interval when the PDN connection for the emergency bearer service is established or establishing.\"}], \"response_format\": {\"type\": \"json_schema\", \"json_schema\": {\"name\": \"negation_response\", \"schema\": {\"properties\": {\"negation_present\": {\"title\": \"Negation Present\", \"type\": \"boolean\"}, \"negation_types\": {\"anyOf\": [{\"items\": {\"type\": \"string\"}, \"type\": \"array\"}, {\"type\": \"null\"}], \"title\": \"Negation Types\"}, \"short_explanation\": {\"title\": \"Short Explanation\", \"type\": \"string\"}}, \"required\": [\"negation_present\", \"negation_types\", \"short_explanation\"], \"title\": \"NegationResponse\", \"type\": \"object\"}}}, \"max_tokens\": 500}}\n",
      "\n"
     ]
    }
   ],
   "source": [
    "# Prepare the openai required jsonl files\n",
    "from functools import partial\n",
    "import json\n",
    "import logging\n",
    "from pathlib import Path\n",
    "from typing import List, Optional\n",
    "from pydantic import BaseModel\n",
    "from tqdm import tqdm\n",
    "\n",
    "# Configure logging\n",
    "logging.basicConfig(level=logging.INFO)\n",
    "logger = logging.getLogger(__name__)\n",
    "\n",
    "# Define the NegationResponse model\n",
    "class NegationResponse(BaseModel):\n",
    "    negation_present: bool\n",
    "    negation_types: Optional[List[str]]\n",
    "    short_explanation: str\n",
    "\n",
    "# Create output directory\n",
    "output_dir = Path('output_jsonl')\n",
    "output_dir.mkdir(exist_ok=True)\n",
    "\n",
    "# Process in smaller batches\n",
    "batch_size = 1000\n",
    "num_batches = len(df) // batch_size + 1\n",
    "\n",
    "def create_jsonl_line(row, column):\n",
    "    text = row[column]\n",
    "    messages = [\n",
    "        {\"role\": \"system\", \"content\": \"Analyze the text for negations and identify their types.\"},\n",
    "        {\"role\": \"user\", \"content\": f\"Analyze the following text: {text}\"}\n",
    "    ]\n",
    "    \n",
    "    body = {\n",
    "        \"model\": \"gpt-4-turbo-preview\",\n",
    "        \"messages\": messages,\n",
    "        \"response_format\": {\n",
    "            \"type\": \"json_schema\",\n",
    "            \"json_schema\": {\n",
    "                \"name\": \"negation_response\",\n",
    "                \"schema\": NegationResponse.model_json_schema()\n",
    "            }\n",
    "        },\n",
    "        \"max_tokens\": 500\n",
    "    }\n",
    "    \n",
    "    return {\n",
    "        \"custom_id\": f'request_{column}_{row[\"patent_application_id\"]}_{row[\"index\"]}',\n",
    "        \"method\": \"POST\",\n",
    "        \"url\": \"/v1/chat/completions\",\n",
    "        \"body\": body\n",
    "    }\n",
    "\n",
    "# Process batches\n",
    "for i in range(num_batches):\n",
    "    start_idx = i * batch_size\n",
    "    end_idx = min((i + 1) * batch_size, len(df))\n",
    "    batch_df = df.iloc[start_idx:end_idx]\n",
    "    \n",
    "    print(f\"Processing batch {i + 1}/{num_batches}\")\n",
    "    lines = batch_df.apply(create_jsonl_line, axis=1, args=('text',))\n",
    "    \n",
    "    with open(output_dir / f\"batch_{i}.jsonl\", \"w\", encoding='utf-8') as f:\n",
    "        for line in lines:\n",
    "            f.write(json.dumps(line, ensure_ascii=False) + \"\\n\")\n",
    "\n",
    "# Show sample output\n",
    "print(\"\\nSample output from first batch:\")\n",
    "with open(output_dir / \"batch_0.jsonl\", \"r\", encoding='utf-8') as f:\n",
    "    print(f.readline())\n"
   ]
  },
  {
   "cell_type": "code",
   "execution_count": 11,
   "metadata": {},
   "outputs": [
    {
     "name": "stdout",
     "output_type": "stream",
     "text": [
      "\n",
      "Uploading new batch files to OpenAI...\n",
      "\n",
      "Uploaded 0 files to OpenAI\n",
      "Tracking information saved to path\\to\\your\\batch_files\\tracking\n"
     ]
    },
    {
     "name": "stderr",
     "output_type": "stream",
     "text": [
      "<string>:7: RuntimeWarning: coroutine 'main' was never awaited\n",
      "RuntimeWarning: Enable tracemalloc to get the object allocation traceback\n"
     ]
    }
   ],
   "source": [
    "import os\n",
    "import json\n",
    "import asyncio\n",
    "import aiohttp\n",
    "from pathlib import Path\n",
    "from datetime import datetime\n",
    "import openai\n",
    "\n",
    "# Set your OpenAI API key\n",
    "openai.api_key = os.getenv('OPENAI_API_KEY')\n",
    "if not openai.api_key:\n",
    "    raise ValueError(\"Please set the OPENAI_API_KEY environment variable.\")\n",
    "\n",
    "# Define the directory containing your JSONL batch files\n",
    "batch_files_dir = Path('path/to/your/batch_files')\n",
    "\n",
    "# Create a directory for tracking OpenAI file metadata\n",
    "tracking_dir = batch_files_dir / \"tracking\"\n",
    "tracking_dir.mkdir(parents=True, exist_ok=True)\n",
    "\n",
    "async def upload_and_track_file(session, jsonl_path):\n",
    "    \"\"\"Upload a JSONL file to OpenAI and track its metadata asynchronously.\"\"\"\n",
    "    url = 'https://api.openai.com/v1/files'\n",
    "    headers = {\n",
    "        'Authorization': f\"Bearer {openai.api_key}\",\n",
    "    }\n",
    "    form_data = aiohttp.FormData()\n",
    "    form_data.add_field('purpose', 'batch')  # Set purpose to 'batch' for batch processing\n",
    "    form_data.add_field('file', jsonl_path.open('rb'), filename=jsonl_path.name, content_type='application/jsonl')\n",
    "\n",
    "    async with session.post(url, headers=headers, data=form_data) as response:\n",
    "        if response.status == 200:\n",
    "            response_json = await response.json()\n",
    "            tracking_info = {\n",
    "                \"file_id\": response_json['id'],\n",
    "                \"original_filename\": jsonl_path.name,\n",
    "                \"status\": response_json['status'],\n",
    "                \"created_at\": response_json['created_at'],\n",
    "                \"upload_timestamp\": datetime.now().isoformat(),\n",
    "                \"bytes\": response_json['bytes'],\n",
    "                \"purpose\": response_json['purpose']\n",
    "            }\n",
    "            # Save tracking info\n",
    "            tracking_file = tracking_dir / f\"{response_json['id']}_metadata.json\"\n",
    "            with open(tracking_file, 'w') as f:\n",
    "                json.dump(tracking_info, f, indent=2)\n",
    "            return tracking_info\n",
    "        else:\n",
    "            error_text = await response.text()\n",
    "            print(f\"Error uploading {jsonl_path.name}: {error_text}\")\n",
    "            return None\n",
    "\n",
    "async def main_2():\n",
    "    \"\"\"Main function to upload new batch files asynchronously.\"\"\"\n",
    "    print(\"\\nUploading new batch files to OpenAI...\")\n",
    "    async with aiohttp.ClientSession() as session:\n",
    "        tasks = []\n",
    "        for batch_file in sorted(batch_files_dir.glob(\"batch_*.jsonl\")):\n",
    "            print(f\"Uploading {batch_file.name}...\")\n",
    "            tasks.append(upload_and_track_file(session, batch_file))\n",
    "            await asyncio.sleep(1)  # Brief delay to avoid rate limits\n",
    "\n",
    "        uploaded_files = await asyncio.gather(*tasks)\n",
    "\n",
    "        # Filter out None values in case of upload failures\n",
    "        uploaded_files = [file for file in uploaded_files if file]\n",
    "\n",
    "        # Save summary of all uploads\n",
    "        summary_file = tracking_dir / \"upload_summary.json\"\n",
    "        with open(summary_file, 'w') as f:\n",
    "            json.dump({\n",
    "                \"upload_timestamp\": datetime.now().isoformat(),\n",
    "                \"total_files\": len(uploaded_files),\n",
    "                \"files\": uploaded_files\n",
    "            }, f, indent=2)\n",
    "\n",
    "        print(f\"\\nUploaded {len(uploaded_files)} files to OpenAI\")\n",
    "        print(f\"Tracking information saved to {tracking_dir}\")\n",
    "\n",
    "await main_2()"
   ]
  },
  {
   "cell_type": "markdown",
   "metadata": {},
   "source": [
    "## Process OpenAI Batch Requests\n",
    "\n",
    "This section handles batch processing with OpenAI, including:\n",
    "1. Reading file IDs from tracking directory\n",
    "2. Managing batch submissions (max 50 concurrent batches)\n",
    "3. Tracking progress and handling errors\n",
    "4. Retrying failed requests\n",
    "5. Saving results as they arrive"
   ]
  },
  {
   "cell_type": "code",
   "execution_count": null,
   "metadata": {},
   "outputs": [
    {
     "name": "stdout",
     "output_type": "stream",
     "text": [
      "Uploading batch_0.jsonl and submitting batch job...\n",
      "Uploading batch_1.jsonl and submitting batch job...\n",
      "Uploading batch_10.jsonl and submitting batch job...\n",
      "Uploading batch_100.jsonl and submitting batch job...\n",
      "Uploading batch_101.jsonl and submitting batch job...\n",
      "Uploading batch_102.jsonl and submitting batch job...\n",
      "Uploading batch_103.jsonl and submitting batch job...\n",
      "Uploading batch_104.jsonl and submitting batch job...\n",
      "Uploading batch_105.jsonl and submitting batch job...\n",
      "Uploading batch_106.jsonl and submitting batch job...\n",
      "Uploading batch_107.jsonl and submitting batch job...\n",
      "Uploading batch_108.jsonl and submitting batch job...\n",
      "Uploading batch_109.jsonl and submitting batch job...\n",
      "Uploading batch_11.jsonl and submitting batch job...\n",
      "Uploading batch_110.jsonl and submitting batch job...\n",
      "Uploading batch_111.jsonl and submitting batch job...\n",
      "Uploading batch_112.jsonl and submitting batch job...\n",
      "Uploading batch_113.jsonl and submitting batch job...\n",
      "Uploading batch_114.jsonl and submitting batch job...\n",
      "Uploading batch_115.jsonl and submitting batch job...\n",
      "Uploading batch_116.jsonl and submitting batch job...\n",
      "Uploading batch_117.jsonl and submitting batch job...\n",
      "Uploading batch_118.jsonl and submitting batch job...\n",
      "Uploading batch_119.jsonl and submitting batch job...\n",
      "Uploading batch_12.jsonl and submitting batch job...\n",
      "Uploading batch_120.jsonl and submitting batch job...\n",
      "Uploading batch_121.jsonl and submitting batch job...\n",
      "Uploading batch_122.jsonl and submitting batch job...\n",
      "Uploading batch_123.jsonl and submitting batch job...\n",
      "Uploading batch_124.jsonl and submitting batch job...\n",
      "Uploading batch_125.jsonl and submitting batch job...\n",
      "Uploading batch_126.jsonl and submitting batch job...\n",
      "Uploading batch_127.jsonl and submitting batch job...\n",
      "Uploading batch_128.jsonl and submitting batch job...\n",
      "Uploading batch_129.jsonl and submitting batch job...\n",
      "Uploading batch_13.jsonl and submitting batch job...\n",
      "Uploading batch_130.jsonl and submitting batch job...\n",
      "Uploading batch_131.jsonl and submitting batch job...\n",
      "Uploading batch_132.jsonl and submitting batch job...\n",
      "Uploading batch_133.jsonl and submitting batch job...\n",
      "Uploading batch_134.jsonl and submitting batch job...\n",
      "Uploading batch_135.jsonl and submitting batch job...\n",
      "Uploading batch_136.jsonl and submitting batch job...\n",
      "Uploading batch_137.jsonl and submitting batch job...\n",
      "Uploading batch_138.jsonl and submitting batch job...\n",
      "Uploading batch_139.jsonl and submitting batch job...\n",
      "Uploading batch_14.jsonl and submitting batch job...\n",
      "Uploading batch_140.jsonl and submitting batch job...\n",
      "Uploading batch_141.jsonl and submitting batch job...\n",
      "Uploading batch_142.jsonl and submitting batch job...\n",
      "Uploading batch_143.jsonl and submitting batch job...\n",
      "Uploading batch_144.jsonl and submitting batch job...\n",
      "Uploading batch_145.jsonl and submitting batch job...\n",
      "Uploading batch_146.jsonl and submitting batch job...\n",
      "Uploading batch_147.jsonl and submitting batch job...\n",
      "Uploading batch_148.jsonl and submitting batch job...\n",
      "Uploading batch_149.jsonl and submitting batch job...\n",
      "Uploading batch_15.jsonl and submitting batch job...\n",
      "Uploading batch_150.jsonl and submitting batch job...\n",
      "Uploading batch_151.jsonl and submitting batch job...\n",
      "Uploading batch_152.jsonl and submitting batch job...\n",
      "Uploading batch_153.jsonl and submitting batch job...\n",
      "Uploading batch_154.jsonl and submitting batch job...\n",
      "Uploading batch_155.jsonl and submitting batch job...\n",
      "Uploading batch_156.jsonl and submitting batch job...\n",
      "Uploading batch_157.jsonl and submitting batch job...\n",
      "Uploading batch_158.jsonl and submitting batch job...\n",
      "Uploading batch_159.jsonl and submitting batch job...\n",
      "Uploading batch_16.jsonl and submitting batch job...\n",
      "Uploading batch_160.jsonl and submitting batch job...\n",
      "Uploading batch_161.jsonl and submitting batch job...\n",
      "Uploading batch_162.jsonl and submitting batch job...\n",
      "Uploading batch_163.jsonl and submitting batch job...\n",
      "Uploading batch_164.jsonl and submitting batch job...\n",
      "Uploading batch_165.jsonl and submitting batch job...\n",
      "Uploading batch_166.jsonl and submitting batch job...\n",
      "Uploading batch_167.jsonl and submitting batch job...\n",
      "Uploading batch_168.jsonl and submitting batch job...\n",
      "Uploading batch_169.jsonl and submitting batch job...\n",
      "Uploading batch_17.jsonl and submitting batch job...\n",
      "Uploading batch_170.jsonl and submitting batch job...\n",
      "Uploading batch_171.jsonl and submitting batch job...\n",
      "Uploading batch_172.jsonl and submitting batch job...\n",
      "Uploading batch_173.jsonl and submitting batch job...\n",
      "Uploading batch_174.jsonl and submitting batch job...\n",
      "Uploading batch_175.jsonl and submitting batch job...\n",
      "Uploading batch_176.jsonl and submitting batch job...\n",
      "Uploading batch_177.jsonl and submitting batch job...\n",
      "Uploading batch_178.jsonl and submitting batch job...\n",
      "Uploading batch_179.jsonl and submitting batch job...\n",
      "Uploading batch_18.jsonl and submitting batch job...\n",
      "Uploading batch_180.jsonl and submitting batch job...\n",
      "Uploading batch_181.jsonl and submitting batch job...\n",
      "Uploading batch_182.jsonl and submitting batch job...\n",
      "Uploading batch_183.jsonl and submitting batch job...\n",
      "Uploading batch_184.jsonl and submitting batch job...\n",
      "Uploading batch_185.jsonl and submitting batch job...\n",
      "Uploading batch_186.jsonl and submitting batch job...\n",
      "Uploading batch_187.jsonl and submitting batch job...\n",
      "Uploading batch_188.jsonl and submitting batch job...\n",
      "Uploading batch_189.jsonl and submitting batch job...\n",
      "Uploading batch_19.jsonl and submitting batch job...\n",
      "Uploading batch_190.jsonl and submitting batch job...\n",
      "Uploading batch_191.jsonl and submitting batch job...\n",
      "Uploading batch_192.jsonl and submitting batch job...\n",
      "Uploading batch_193.jsonl and submitting batch job...\n",
      "Uploading batch_194.jsonl and submitting batch job...\n",
      "Uploading batch_195.jsonl and submitting batch job...\n",
      "Uploading batch_196.jsonl and submitting batch job...\n",
      "Uploading batch_197.jsonl and submitting batch job...\n",
      "Uploading batch_198.jsonl and submitting batch job...\n",
      "Uploading batch_199.jsonl and submitting batch job...\n",
      "Uploading batch_2.jsonl and submitting batch job...\n",
      "Uploading batch_20.jsonl and submitting batch job...\n",
      "Uploading batch_200.jsonl and submitting batch job...\n",
      "Uploading batch_201.jsonl and submitting batch job...\n",
      "Uploading batch_202.jsonl and submitting batch job...\n",
      "Uploading batch_203.jsonl and submitting batch job...\n",
      "Uploading batch_204.jsonl and submitting batch job...\n",
      "Uploading batch_205.jsonl and submitting batch job...\n",
      "Uploading batch_206.jsonl and submitting batch job...\n",
      "Uploading batch_207.jsonl and submitting batch job...\n",
      "Uploading batch_208.jsonl and submitting batch job...\n",
      "Uploading batch_209.jsonl and submitting batch job...\n",
      "Uploading batch_21.jsonl and submitting batch job...\n",
      "Uploading batch_210.jsonl and submitting batch job...\n",
      "Uploading batch_211.jsonl and submitting batch job...\n",
      "Uploading batch_212.jsonl and submitting batch job...\n",
      "Uploading batch_213.jsonl and submitting batch job...\n",
      "Uploading batch_214.jsonl and submitting batch job...\n",
      "Uploading batch_215.jsonl and submitting batch job...\n",
      "Uploading batch_216.jsonl and submitting batch job...\n",
      "Uploading batch_217.jsonl and submitting batch job...\n",
      "Uploading batch_218.jsonl and submitting batch job...\n",
      "Uploading batch_219.jsonl and submitting batch job...\n",
      "Uploading batch_22.jsonl and submitting batch job...\n",
      "Uploading batch_220.jsonl and submitting batch job...\n",
      "Uploading batch_221.jsonl and submitting batch job...\n",
      "Uploading batch_222.jsonl and submitting batch job...\n",
      "Uploading batch_223.jsonl and submitting batch job...\n",
      "Uploading batch_224.jsonl and submitting batch job...\n",
      "Uploading batch_225.jsonl and submitting batch job...\n",
      "Uploading batch_226.jsonl and submitting batch job...\n",
      "Uploading batch_227.jsonl and submitting batch job...\n",
      "Uploading batch_228.jsonl and submitting batch job...\n",
      "Uploading batch_229.jsonl and submitting batch job...\n",
      "Uploading batch_23.jsonl and submitting batch job...\n",
      "Uploading batch_230.jsonl and submitting batch job...\n",
      "Uploading batch_231.jsonl and submitting batch job...\n",
      "Uploading batch_232.jsonl and submitting batch job...\n",
      "Uploading batch_233.jsonl and submitting batch job...\n",
      "Uploading batch_234.jsonl and submitting batch job...\n",
      "Uploading batch_235.jsonl and submitting batch job...\n",
      "Uploading batch_236.jsonl and submitting batch job...\n",
      "Uploading batch_237.jsonl and submitting batch job...\n",
      "Uploading batch_238.jsonl and submitting batch job...\n",
      "Uploading batch_239.jsonl and submitting batch job...\n",
      "Uploading batch_24.jsonl and submitting batch job...\n",
      "Uploading batch_240.jsonl and submitting batch job...\n",
      "Uploading batch_241.jsonl and submitting batch job...\n",
      "Uploading batch_242.jsonl and submitting batch job...\n",
      "Uploading batch_243.jsonl and submitting batch job...\n",
      "Uploading batch_244.jsonl and submitting batch job...\n",
      "Uploading batch_245.jsonl and submitting batch job...\n",
      "Uploading batch_246.jsonl and submitting batch job...\n",
      "Uploading batch_247.jsonl and submitting batch job...\n",
      "Uploading batch_248.jsonl and submitting batch job...\n",
      "Uploading batch_249.jsonl and submitting batch job...\n",
      "Uploading batch_25.jsonl and submitting batch job...\n",
      "Uploading batch_250.jsonl and submitting batch job...\n",
      "Uploading batch_251.jsonl and submitting batch job...\n",
      "Uploading batch_252.jsonl and submitting batch job...\n",
      "Uploading batch_253.jsonl and submitting batch job...\n",
      "Uploading batch_254.jsonl and submitting batch job...\n",
      "Uploading batch_255.jsonl and submitting batch job...\n",
      "Uploading batch_256.jsonl and submitting batch job...\n",
      "Uploading batch_257.jsonl and submitting batch job...\n",
      "Uploading batch_258.jsonl and submitting batch job...\n",
      "Uploading batch_259.jsonl and submitting batch job...\n",
      "Uploading batch_26.jsonl and submitting batch job...\n",
      "Uploading batch_260.jsonl and submitting batch job...\n",
      "Uploading batch_261.jsonl and submitting batch job...\n",
      "Uploading batch_262.jsonl and submitting batch job...\n",
      "Uploading batch_263.jsonl and submitting batch job...\n",
      "Uploading batch_264.jsonl and submitting batch job...\n",
      "Uploading batch_265.jsonl and submitting batch job...\n",
      "Uploading batch_266.jsonl and submitting batch job...\n",
      "Uploading batch_267.jsonl and submitting batch job...\n",
      "Uploading batch_268.jsonl and submitting batch job...\n",
      "Uploading batch_269.jsonl and submitting batch job...\n",
      "Uploading batch_27.jsonl and submitting batch job...\n",
      "Uploading batch_270.jsonl and submitting batch job...\n",
      "Uploading batch_271.jsonl and submitting batch job...\n",
      "Uploading batch_272.jsonl and submitting batch job...\n",
      "Uploading batch_273.jsonl and submitting batch job...\n",
      "Uploading batch_274.jsonl and submitting batch job...\n",
      "Uploading batch_275.jsonl and submitting batch job...\n",
      "Uploading batch_276.jsonl and submitting batch job...\n",
      "Uploading batch_277.jsonl and submitting batch job...\n",
      "Uploading batch_278.jsonl and submitting batch job...\n",
      "Uploading batch_279.jsonl and submitting batch job...\n",
      "Uploading batch_28.jsonl and submitting batch job...\n",
      "Uploading batch_280.jsonl and submitting batch job...\n",
      "Uploading batch_281.jsonl and submitting batch job...\n",
      "Uploading batch_282.jsonl and submitting batch job...\n",
      "Uploading batch_283.jsonl and submitting batch job...\n",
      "Uploading batch_284.jsonl and submitting batch job...\n",
      "Uploading batch_285.jsonl and submitting batch job...\n",
      "Uploading batch_286.jsonl and submitting batch job...\n",
      "Uploading batch_287.jsonl and submitting batch job...\n",
      "Uploading batch_288.jsonl and submitting batch job...\n",
      "Uploading batch_289.jsonl and submitting batch job...\n",
      "Uploading batch_29.jsonl and submitting batch job...\n",
      "Uploading batch_290.jsonl and submitting batch job...\n",
      "Uploading batch_291.jsonl and submitting batch job...\n",
      "Uploading batch_292.jsonl and submitting batch job...\n",
      "Uploading batch_293.jsonl and submitting batch job...\n",
      "Uploading batch_294.jsonl and submitting batch job...\n",
      "Uploading batch_295.jsonl and submitting batch job...\n",
      "Uploading batch_296.jsonl and submitting batch job...\n",
      "Uploading batch_297.jsonl and submitting batch job...\n",
      "Uploading batch_298.jsonl and submitting batch job...\n",
      "Uploading batch_299.jsonl and submitting batch job...\n",
      "Uploading batch_3.jsonl and submitting batch job...\n",
      "Uploading batch_30.jsonl and submitting batch job...\n",
      "Uploading batch_300.jsonl and submitting batch job...\n",
      "Uploading batch_301.jsonl and submitting batch job...\n",
      "Uploading batch_302.jsonl and submitting batch job...\n",
      "Uploading batch_303.jsonl and submitting batch job...\n",
      "Uploading batch_304.jsonl and submitting batch job...\n",
      "Uploading batch_305.jsonl and submitting batch job...\n",
      "Uploading batch_306.jsonl and submitting batch job...\n",
      "Uploading batch_307.jsonl and submitting batch job...\n",
      "Uploading batch_308.jsonl and submitting batch job...\n",
      "Uploading batch_309.jsonl and submitting batch job...\n",
      "Uploading batch_31.jsonl and submitting batch job...\n",
      "Uploading batch_310.jsonl and submitting batch job...\n",
      "Uploading batch_311.jsonl and submitting batch job...\n",
      "Uploading batch_312.jsonl and submitting batch job...\n",
      "Uploading batch_313.jsonl and submitting batch job...\n",
      "Uploading batch_314.jsonl and submitting batch job...\n",
      "Uploading batch_315.jsonl and submitting batch job...\n",
      "Uploading batch_316.jsonl and submitting batch job...\n",
      "Uploading batch_317.jsonl and submitting batch job...\n",
      "Uploading batch_318.jsonl and submitting batch job...\n",
      "Uploading batch_319.jsonl and submitting batch job...\n",
      "Uploading batch_32.jsonl and submitting batch job...\n",
      "Uploading batch_320.jsonl and submitting batch job...\n",
      "Uploading batch_321.jsonl and submitting batch job...\n",
      "Uploading batch_322.jsonl and submitting batch job...\n",
      "Uploading batch_323.jsonl and submitting batch job...\n",
      "Uploading batch_324.jsonl and submitting batch job...\n",
      "Uploading batch_325.jsonl and submitting batch job...\n",
      "Uploading batch_326.jsonl and submitting batch job...\n",
      "Uploading batch_327.jsonl and submitting batch job...\n",
      "Uploading batch_328.jsonl and submitting batch job...\n",
      "Uploading batch_329.jsonl and submitting batch job...\n",
      "Uploading batch_33.jsonl and submitting batch job...\n",
      "Uploading batch_330.jsonl and submitting batch job...\n",
      "Uploading batch_331.jsonl and submitting batch job...\n",
      "Uploading batch_332.jsonl and submitting batch job...\n",
      "Uploading batch_333.jsonl and submitting batch job...\n",
      "Uploading batch_334.jsonl and submitting batch job...\n",
      "Uploading batch_335.jsonl and submitting batch job...\n",
      "Uploading batch_336.jsonl and submitting batch job...\n",
      "Uploading batch_337.jsonl and submitting batch job...\n",
      "Uploading batch_338.jsonl and submitting batch job...\n",
      "Uploading batch_339.jsonl and submitting batch job...\n",
      "Uploading batch_34.jsonl and submitting batch job...\n",
      "Uploading batch_340.jsonl and submitting batch job...\n",
      "Uploading batch_341.jsonl and submitting batch job...\n",
      "Uploading batch_342.jsonl and submitting batch job...\n",
      "Uploading batch_343.jsonl and submitting batch job...\n",
      "Uploading batch_344.jsonl and submitting batch job...\n",
      "Uploading batch_345.jsonl and submitting batch job...\n",
      "Uploading batch_346.jsonl and submitting batch job...\n",
      "Uploading batch_347.jsonl and submitting batch job...\n",
      "Uploading batch_348.jsonl and submitting batch job...\n",
      "Uploading batch_349.jsonl and submitting batch job...\n",
      "Uploading batch_35.jsonl and submitting batch job...\n",
      "Uploading batch_350.jsonl and submitting batch job...\n",
      "Uploading batch_351.jsonl and submitting batch job...\n",
      "Uploading batch_352.jsonl and submitting batch job...\n",
      "Uploading batch_353.jsonl and submitting batch job...\n",
      "Uploading batch_354.jsonl and submitting batch job...\n",
      "Uploading batch_355.jsonl and submitting batch job...\n",
      "Uploading batch_356.jsonl and submitting batch job...\n",
      "Uploading batch_357.jsonl and submitting batch job...\n",
      "Uploading batch_358.jsonl and submitting batch job...\n",
      "Uploading batch_359.jsonl and submitting batch job...\n",
      "Uploading batch_36.jsonl and submitting batch job...\n",
      "Uploading batch_360.jsonl and submitting batch job...\n",
      "Uploading batch_361.jsonl and submitting batch job...\n",
      "Uploading batch_362.jsonl and submitting batch job...\n",
      "Uploading batch_363.jsonl and submitting batch job...\n",
      "Uploading batch_364.jsonl and submitting batch job...\n",
      "Uploading batch_365.jsonl and submitting batch job...\n",
      "Uploading batch_366.jsonl and submitting batch job...\n",
      "Uploading batch_367.jsonl and submitting batch job...\n",
      "Uploading batch_368.jsonl and submitting batch job...\n",
      "Uploading batch_369.jsonl and submitting batch job...\n",
      "Uploading batch_37.jsonl and submitting batch job...\n",
      "Uploading batch_370.jsonl and submitting batch job...\n",
      "Uploading batch_371.jsonl and submitting batch job...\n",
      "Uploading batch_372.jsonl and submitting batch job...\n",
      "Uploading batch_38.jsonl and submitting batch job...\n",
      "Uploading batch_39.jsonl and submitting batch job...\n",
      "Uploading batch_4.jsonl and submitting batch job...\n",
      "Uploading batch_40.jsonl and submitting batch job...\n",
      "Uploading batch_41.jsonl and submitting batch job...\n",
      "Uploading batch_42.jsonl and submitting batch job...\n",
      "Uploading batch_43.jsonl and submitting batch job...\n",
      "Uploading batch_44.jsonl and submitting batch job...\n",
      "Uploading batch_45.jsonl and submitting batch job...\n",
      "Uploading batch_46.jsonl and submitting batch job...\n",
      "Uploading batch_47.jsonl and submitting batch job...\n",
      "Uploading batch_48.jsonl and submitting batch job...\n",
      "Uploading batch_49.jsonl and submitting batch job...\n",
      "Uploading batch_5.jsonl and submitting batch job...\n",
      "Uploading batch_50.jsonl and submitting batch job...\n",
      "Uploading batch_51.jsonl and submitting batch job...\n",
      "Uploading batch_52.jsonl and submitting batch job...\n",
      "Uploading batch_53.jsonl and submitting batch job...\n",
      "Uploading batch_54.jsonl and submitting batch job...\n",
      "Uploading batch_55.jsonl and submitting batch job...\n",
      "Uploading batch_56.jsonl and submitting batch job...\n",
      "Uploading batch_57.jsonl and submitting batch job...\n",
      "Uploading batch_58.jsonl and submitting batch job...\n",
      "Uploading batch_59.jsonl and submitting batch job...\n",
      "Uploading batch_6.jsonl and submitting batch job...\n",
      "Uploading batch_60.jsonl and submitting batch job...\n",
      "Uploading batch_61.jsonl and submitting batch job...\n",
      "Uploading batch_62.jsonl and submitting batch job...\n",
      "Uploading batch_63.jsonl and submitting batch job...\n",
      "Uploading batch_64.jsonl and submitting batch job...\n",
      "Uploading batch_65.jsonl and submitting batch job...\n",
      "Uploading batch_66.jsonl and submitting batch job...\n",
      "Uploading batch_67.jsonl and submitting batch job...\n",
      "Uploading batch_68.jsonl and submitting batch job...\n",
      "Uploading batch_69.jsonl and submitting batch job...\n",
      "Uploading batch_7.jsonl and submitting batch job...\n",
      "Uploading batch_70.jsonl and submitting batch job...\n",
      "Uploading batch_71.jsonl and submitting batch job...\n",
      "Uploading batch_72.jsonl and submitting batch job...\n",
      "Uploading batch_73.jsonl and submitting batch job...\n",
      "Uploading batch_74.jsonl and submitting batch job...\n",
      "Uploading batch_75.jsonl and submitting batch job...\n",
      "Uploading batch_76.jsonl and submitting batch job...\n",
      "Uploading batch_77.jsonl and submitting batch job...\n",
      "Uploading batch_78.jsonl and submitting batch job...\n",
      "Uploading batch_79.jsonl and submitting batch job...\n",
      "Uploading batch_8.jsonl and submitting batch job...\n",
      "Uploading batch_80.jsonl and submitting batch job...\n",
      "Uploading batch_81.jsonl and submitting batch job...\n",
      "Uploading batch_82.jsonl and submitting batch job...\n",
      "Uploading batch_83.jsonl and submitting batch job...\n",
      "Uploading batch_84.jsonl and submitting batch job...\n",
      "Uploading batch_85.jsonl and submitting batch job...\n",
      "Uploading batch_86.jsonl and submitting batch job...\n",
      "Uploading batch_87.jsonl and submitting batch job...\n",
      "Uploading batch_88.jsonl and submitting batch job...\n",
      "Uploading batch_89.jsonl and submitting batch job...\n",
      "Uploading batch_9.jsonl and submitting batch job...\n",
      "Uploading batch_90.jsonl and submitting batch job...\n",
      "Uploading batch_91.jsonl and submitting batch job...\n",
      "Uploading batch_92.jsonl and submitting batch job...\n",
      "Uploading batch_93.jsonl and submitting batch job...\n",
      "Uploading batch_94.jsonl and submitting batch job...\n",
      "Uploading batch_95.jsonl and submitting batch job...\n",
      "Uploading batch_96.jsonl and submitting batch job...\n",
      "Uploading batch_97.jsonl and submitting batch job...\n",
      "Uploading batch_98.jsonl and submitting batch job...\n",
      "Uploading batch_99.jsonl and submitting batch job...\n",
      "File batch_131.jsonl uploaded successfully. File ID: file-UhaPhcmrzRe6AriJi7D8Xn\n",
      "Submit batch for file id: file-UhaPhcmrzRe6AriJi7D8Xn\n"
     ]
    },
    {
     "name": "stderr",
     "output_type": "stream",
     "text": [
      "WARNING:__main__:Finished call to '__main__.submit_batch_job' after 0.406(s), this was the 1st time calling it.\n"
     ]
    },
    {
     "name": "stdout",
     "output_type": "stream",
     "text": [
      "File batch_174.jsonl uploaded successfully. File ID: file-4iELHf65RHG46TRJG97A5m\n",
      "Submit batch for file id: file-4iELHf65RHG46TRJG97A5m\n"
     ]
    },
    {
     "name": "stderr",
     "output_type": "stream",
     "text": [
      "WARNING:__main__:Finished call to '__main__.submit_batch_job' after 0.391(s), this was the 1st time calling it.\n"
     ]
    },
    {
     "name": "stdout",
     "output_type": "stream",
     "text": [
      "File batch_189.jsonl uploaded successfully. File ID: file-ThUzQnduMpC1Uok36nmaua\n",
      "Submit batch for file id: file-ThUzQnduMpC1Uok36nmaua\n"
     ]
    },
    {
     "name": "stderr",
     "output_type": "stream",
     "text": [
      "WARNING:__main__:Finished call to '__main__.submit_batch_job' after 0.360(s), this was the 1st time calling it.\n"
     ]
    },
    {
     "name": "stdout",
     "output_type": "stream",
     "text": [
      "File batch_130.jsonl uploaded successfully. File ID: file-H4UcdjvzFU3NSvLfV9Lz91\n",
      "Submit batch for file id: file-H4UcdjvzFU3NSvLfV9Lz91\n"
     ]
    },
    {
     "name": "stderr",
     "output_type": "stream",
     "text": [
      "WARNING:__main__:Finished call to '__main__.submit_batch_job' after 0.360(s), this was the 1st time calling it.\n"
     ]
    },
    {
     "name": "stdout",
     "output_type": "stream",
     "text": [
      "File batch_19.jsonl uploaded successfully. File ID: file-3fmNDSb9bejhsKQQVEJkeG\n",
      "Submit batch for file id: file-3fmNDSb9bejhsKQQVEJkeG\n"
     ]
    },
    {
     "name": "stderr",
     "output_type": "stream",
     "text": [
      "WARNING:__main__:Finished call to '__main__.submit_batch_job' after 0.437(s), this was the 1st time calling it.\n"
     ]
    },
    {
     "name": "stdout",
     "output_type": "stream",
     "text": [
      "File batch_171.jsonl uploaded successfully. File ID: file-1NMVxFsL8X9gXuXCd1M7aw\n",
      "Submit batch for file id: file-1NMVxFsL8X9gXuXCd1M7aw\n",
      "File batch_111.jsonl uploaded successfully. File ID: file-FqRbp1o9UcMyS43rtgozVF\n",
      "Submit batch for file id: file-FqRbp1o9UcMyS43rtgozVF\n",
      "File batch_122.jsonl uploaded successfully. File ID: file-QxKgbxPLvdvGzS4VTHTkLN\n",
      "Submit batch for file id: file-QxKgbxPLvdvGzS4VTHTkLN\n"
     ]
    },
    {
     "name": "stderr",
     "output_type": "stream",
     "text": [
      "WARNING:__main__:Finished call to '__main__.submit_batch_job' after 0.500(s), this was the 1st time calling it.\n",
      "WARNING:__main__:Finished call to '__main__.submit_batch_job' after 0.469(s), this was the 1st time calling it.\n"
     ]
    },
    {
     "name": "stdout",
     "output_type": "stream",
     "text": [
      "File batch_190.jsonl uploaded successfully. File ID: file-GzunAg1Jw91Jwt7gBFJBHV\n",
      "Submit batch for file id: file-GzunAg1Jw91Jwt7gBFJBHV\n"
     ]
    },
    {
     "name": "stderr",
     "output_type": "stream",
     "text": [
      "WARNING:__main__:Finished call to '__main__.submit_batch_job' after 0.578(s), this was the 1st time calling it.\n"
     ]
    },
    {
     "name": "stdout",
     "output_type": "stream",
     "text": [
      "File batch_10.jsonl uploaded successfully. File ID: file-5gqNiwo1LRu7sVuKnG8kaU\n",
      "Submit batch for file id: file-5gqNiwo1LRu7sVuKnG8kaU\n",
      "File batch_120.jsonl uploaded successfully. File ID: file-GeQEbs1FumYAywStuHXGz2\n",
      "Submit batch for file id: file-GeQEbs1FumYAywStuHXGz2\n",
      "Submit batch for file id: file-UhaPhcmrzRe6AriJi7D8Xn\n"
     ]
    },
    {
     "name": "stderr",
     "output_type": "stream",
     "text": [
      "WARNING:__main__:Finished call to '__main__.submit_batch_job' after 0.578(s), this was the 1st time calling it.\n"
     ]
    },
    {
     "name": "stdout",
     "output_type": "stream",
     "text": [
      "File batch_181.jsonl uploaded successfully. File ID: file-CzMBcRbrD3bdGSTfdLPbkJ\n",
      "Submit batch for file id: file-CzMBcRbrD3bdGSTfdLPbkJ\n"
     ]
    },
    {
     "name": "stderr",
     "output_type": "stream",
     "text": [
      "WARNING:__main__:Finished call to '__main__.submit_batch_job' after 0.343(s), this was the 1st time calling it.\n",
      "WARNING:__main__:Finished call to '__main__.submit_batch_job' after 0.500(s), this was the 1st time calling it.\n",
      "WARNING:__main__:Finished call to '__main__.submit_batch_job' after 0.422(s), this was the 1st time calling it.\n"
     ]
    },
    {
     "name": "stdout",
     "output_type": "stream",
     "text": [
      "File batch_173.jsonl uploaded successfully. File ID: file-7xLX9EvuFRC8z5d1BkZmwg\n",
      "Submit batch for file id: file-7xLX9EvuFRC8z5d1BkZmwg\n",
      "File batch_127.jsonl uploaded successfully. File ID: file-LBdJ7yEGUcrf9PUqaYEYYr\n",
      "Submit batch for file id: file-LBdJ7yEGUcrf9PUqaYEYYr\n",
      "Submit batch for file id: file-4iELHf65RHG46TRJG97A5m\n",
      "File batch_157.jsonl uploaded successfully. File ID: file-TRjcj5TSPkxG7Zuu5SiC4X\n",
      "Submit batch for file id: file-TRjcj5TSPkxG7Zuu5SiC4X\n",
      "File batch_145.jsonl uploaded successfully. File ID: file-BrP9mvdjjaEE4uoPjKTy8e\n",
      "Submit batch for file id: file-BrP9mvdjjaEE4uoPjKTy8e\n",
      "File batch_151.jsonl uploaded successfully. File ID: file-1fDq8cz6i6fWC9p4riYfn8\n",
      "Submit batch for file id: file-1fDq8cz6i6fWC9p4riYfn8\n"
     ]
    },
    {
     "name": "stderr",
     "output_type": "stream",
     "text": [
      "WARNING:__main__:Finished call to '__main__.submit_batch_job' after 0.438(s), this was the 1st time calling it.\n",
      "WARNING:__main__:Finished call to '__main__.submit_batch_job' after 0.406(s), this was the 1st time calling it.\n",
      "WARNING:__main__:Finished call to '__main__.submit_batch_job' after 0.438(s), this was the 1st time calling it.\n",
      "WARNING:__main__:Finished call to '__main__.submit_batch_job' after 0.453(s), this was the 1st time calling it.\n"
     ]
    },
    {
     "name": "stdout",
     "output_type": "stream",
     "text": [
      "File batch_134.jsonl uploaded successfully. File ID: file-1isXv9KCKi8aFR2XJdh1rr\n",
      "Submit batch for file id: file-1isXv9KCKi8aFR2XJdh1rr\n",
      "File batch_160.jsonl uploaded successfully. File ID: file-PArMLLVcLezL2Yyv5an18b\n",
      "Submit batch for file id: file-PArMLLVcLezL2Yyv5an18b\n",
      "File batch_113.jsonl uploaded successfully. File ID: file-Fprg6acBD5mfwJRKg7qhBU\n",
      "Submit batch for file id: file-Fprg6acBD5mfwJRKg7qhBU\n",
      "File batch_13.jsonl uploaded successfully. File ID: file-MKjjGe4CJK4cEyuAZP17ik\n",
      "Submit batch for file id: file-MKjjGe4CJK4cEyuAZP17ik\n"
     ]
    },
    {
     "name": "stderr",
     "output_type": "stream",
     "text": [
      "WARNING:__main__:Finished call to '__main__.submit_batch_job' after 0.453(s), this was the 1st time calling it.\n",
      "WARNING:__main__:Finished call to '__main__.submit_batch_job' after 0.468(s), this was the 1st time calling it.\n",
      "WARNING:__main__:Finished call to '__main__.submit_batch_job' after 0.797(s), this was the 1st time calling it.\n"
     ]
    },
    {
     "name": "stdout",
     "output_type": "stream",
     "text": [
      "File batch_101.jsonl uploaded successfully. File ID: file-Dj4JPGJmPNbtDFrc7PvEtb\n",
      "Submit batch for file id: file-Dj4JPGJmPNbtDFrc7PvEtb\n",
      "File batch_133.jsonl uploaded successfully. File ID: file-KZjZHp1tuQw7CjVSefKgH8\n",
      "Submit batch for file id: file-KZjZHp1tuQw7CjVSefKgH8\n",
      "File batch_1.jsonl uploaded successfully. File ID: file-Khcv7WqDiZQWtK29NyAVHK\n",
      "Submit batch for file id: file-Khcv7WqDiZQWtK29NyAVHK\n",
      "File batch_184.jsonl uploaded successfully. File ID: file-KGpSmjoPL3664QVP2y99ee\n",
      "Submit batch for file id: file-KGpSmjoPL3664QVP2y99ee\n"
     ]
    },
    {
     "name": "stderr",
     "output_type": "stream",
     "text": [
      "WARNING:__main__:Finished call to '__main__.submit_batch_job' after 0.469(s), this was the 1st time calling it.\n",
      "WARNING:__main__:Finished call to '__main__.submit_batch_job' after 0.453(s), this was the 1st time calling it.\n",
      "WARNING:__main__:Finished call to '__main__.submit_batch_job' after 0.453(s), this was the 1st time calling it.\n",
      "WARNING:__main__:Finished call to '__main__.submit_batch_job' after 0.468(s), this was the 1st time calling it.\n",
      "WARNING:__main__:Finished call to '__main__.submit_batch_job' after 0.406(s), this was the 1st time calling it.\n"
     ]
    },
    {
     "name": "stdout",
     "output_type": "stream",
     "text": [
      "File batch_175.jsonl uploaded successfully. File ID: file-Q77rQfKqLTy7JdP6B53MXR\n",
      "Submit batch for file id: file-Q77rQfKqLTy7JdP6B53MXR\n",
      "File batch_163.jsonl uploaded successfully. File ID: file-L18uPjHMMmG7dko5B4TDvL\n",
      "Submit batch for file id: file-L18uPjHMMmG7dko5B4TDvL\n"
     ]
    },
    {
     "name": "stderr",
     "output_type": "stream",
     "text": [
      "WARNING:__main__:Finished call to '__main__.submit_batch_job' after 0.453(s), this was the 1st time calling it.\n",
      "WARNING:__main__:Finished call to '__main__.submit_batch_job' after 0.422(s), this was the 1st time calling it.\n"
     ]
    },
    {
     "name": "stdout",
     "output_type": "stream",
     "text": [
      "File batch_153.jsonl uploaded successfully. File ID: file-34GkneJBJey5PxfHBjf76d\n",
      "Submit batch for file id: file-34GkneJBJey5PxfHBjf76d\n",
      "File batch_135.jsonl uploaded successfully. File ID: file-EKGwz4JDNFvAdYi2kiWPs1\n",
      "Submit batch for file id: file-EKGwz4JDNFvAdYi2kiWPs1\n",
      "File batch_142.jsonl uploaded successfully. File ID: file-5HwBpd5vU8mbS5isXXWtHf\n",
      "Submit batch for file id: file-5HwBpd5vU8mbS5isXXWtHf\n",
      "File batch_15.jsonl uploaded successfully. File ID: file-Fo5ksX8z6SbdXXNTLTH13J\n",
      "Submit batch for file id: file-Fo5ksX8z6SbdXXNTLTH13J\n",
      "File batch_0.jsonl uploaded successfully. File ID: file-6LX5UEFn5XPUWdDQowifhb\n",
      "Submit batch for file id: file-6LX5UEFn5XPUWdDQowifhb\n",
      "File batch_144.jsonl uploaded successfully. File ID: file-UmdSKAtbz7mytCsPcw4ytH\n",
      "Submit batch for file id: file-UmdSKAtbz7mytCsPcw4ytH\n"
     ]
    },
    {
     "name": "stderr",
     "output_type": "stream",
     "text": [
      "WARNING:__main__:Finished call to '__main__.submit_batch_job' after 0.438(s), this was the 1st time calling it.\n"
     ]
    },
    {
     "name": "stdout",
     "output_type": "stream",
     "text": [
      "File batch_165.jsonl uploaded successfully. File ID: file-FX3XzucfTo4aRreRY5vW5G\n",
      "Submit batch for file id: file-FX3XzucfTo4aRreRY5vW5G\n",
      "File batch_100.jsonl uploaded successfully. File ID: file-6hwGTQJkvpNby3vCRzdi8r\n",
      "Submit batch for file id: file-6hwGTQJkvpNby3vCRzdi8r\n",
      "File batch_194.jsonl uploaded successfully. File ID: file-KvNYFYP6LV3vBkLhfEteq9\n",
      "Submit batch for file id: file-KvNYFYP6LV3vBkLhfEteq9\n",
      "File batch_103.jsonl uploaded successfully. File ID: file-Weof6ATP6ra6AmywrA4ETG\n",
      "Submit batch for file id: file-Weof6ATP6ra6AmywrA4ETG\n",
      "Submit batch for file id: file-ThUzQnduMpC1Uok36nmaua\n",
      "File batch_116.jsonl uploaded successfully. File ID: file-R2re44U418x6UDTCX1jeRS\n",
      "Submit batch for file id: file-R2re44U418x6UDTCX1jeRS\n",
      "File batch_146.jsonl uploaded successfully. File ID: file-5tCKkf9LDpsN5aoKguJHGb\n",
      "Submit batch for file id: file-5tCKkf9LDpsN5aoKguJHGb\n"
     ]
    },
    {
     "name": "stderr",
     "output_type": "stream",
     "text": [
      "WARNING:__main__:Finished call to '__main__.submit_batch_job' after 0.438(s), this was the 1st time calling it.\n",
      "WARNING:__main__:Finished call to '__main__.submit_batch_job' after 0.469(s), this was the 1st time calling it.\n",
      "WARNING:__main__:Finished call to '__main__.submit_batch_job' after 0.438(s), this was the 1st time calling it.\n",
      "WARNING:__main__:Finished call to '__main__.submit_batch_job' after 0.469(s), this was the 1st time calling it.\n",
      "WARNING:__main__:Finished call to '__main__.submit_batch_job' after 0.437(s), this was the 1st time calling it.\n",
      "WARNING:__main__:Finished call to '__main__.submit_batch_job' after 0.407(s), this was the 1st time calling it.\n",
      "WARNING:__main__:Finished call to '__main__.submit_batch_job' after 0.406(s), this was the 1st time calling it.\n",
      "WARNING:__main__:Finished call to '__main__.submit_batch_job' after 0.406(s), this was the 1st time calling it.\n",
      "WARNING:__main__:Finished call to '__main__.submit_batch_job' after 0.562(s), this was the 1st time calling it.\n",
      "WARNING:__main__:Finished call to '__main__.submit_batch_job' after 0.515(s), this was the 1st time calling it.\n",
      "WARNING:__main__:Finished call to '__main__.submit_batch_job' after 0.515(s), this was the 1st time calling it.\n"
     ]
    },
    {
     "name": "stdout",
     "output_type": "stream",
     "text": [
      "File batch_123.jsonl uploaded successfully. File ID: file-L3rBpKhbj1kT17QdawZKVx\n",
      "Submit batch for file id: file-L3rBpKhbj1kT17QdawZKVx\n",
      "File batch_110.jsonl uploaded successfully. File ID: file-9PzdXV5aKUbgUEnvjVBRc8\n",
      "Submit batch for file id: file-9PzdXV5aKUbgUEnvjVBRc8\n",
      "File batch_164.jsonl uploaded successfully. File ID: file-Y93zkbzQ4n9ZrAkSi1o5f4\n",
      "Submit batch for file id: file-Y93zkbzQ4n9ZrAkSi1o5f4\n",
      "File batch_104.jsonl uploaded successfully. File ID: file-RfqpSJZ8byFyaWm12Aw7EJ\n",
      "Submit batch for file id: file-RfqpSJZ8byFyaWm12Aw7EJ\n"
     ]
    },
    {
     "name": "stderr",
     "output_type": "stream",
     "text": [
      "WARNING:__main__:Finished call to '__main__.submit_batch_job' after 0.406(s), this was the 1st time calling it.\n"
     ]
    },
    {
     "name": "stdout",
     "output_type": "stream",
     "text": [
      "File batch_192.jsonl uploaded successfully. File ID: file-HQBzF5n1VF7pqCBgiULxp8\n",
      "Submit batch for file id: file-HQBzF5n1VF7pqCBgiULxp8\n",
      "File batch_187.jsonl uploaded successfully. File ID: file-VXUmzc7fTWyzxoUPJ9uCGJ\n",
      "Submit batch for file id: file-VXUmzc7fTWyzxoUPJ9uCGJ\n",
      "Submit batch for file id: file-H4UcdjvzFU3NSvLfV9Lz91\n",
      "File batch_137.jsonl uploaded successfully. File ID: file-GoXRYrJMdnER63ECcb1DUw\n",
      "Submit batch for file id: file-GoXRYrJMdnER63ECcb1DUw\n",
      "File batch_176.jsonl uploaded successfully. File ID: file-6w6qWFHB46Q5bz6yNLrpfT\n",
      "Submit batch for file id: file-6w6qWFHB46Q5bz6yNLrpfT\n"
     ]
    },
    {
     "name": "stderr",
     "output_type": "stream",
     "text": [
      "WARNING:__main__:Finished call to '__main__.submit_batch_job' after 0.985(s), this was the 1st time calling it.\n",
      "WARNING:__main__:Finished call to '__main__.submit_batch_job' after 0.375(s), this was the 1st time calling it.\n",
      "WARNING:__main__:Finished call to '__main__.submit_batch_job' after 0.390(s), this was the 1st time calling it.\n",
      "WARNING:__main__:Finished call to '__main__.submit_batch_job' after 0.422(s), this was the 1st time calling it.\n",
      "WARNING:__main__:Finished call to '__main__.submit_batch_job' after 0.359(s), this was the 1st time calling it.\n",
      "WARNING:__main__:Finished call to '__main__.submit_batch_job' after 0.375(s), this was the 1st time calling it.\n"
     ]
    },
    {
     "name": "stdout",
     "output_type": "stream",
     "text": [
      "File batch_180.jsonl uploaded successfully. File ID: file-1AQYB4Rc2rmE784MmJxRK5\n",
      "Submit batch for file id: file-1AQYB4Rc2rmE784MmJxRK5\n",
      "File batch_109.jsonl uploaded successfully. File ID: file-TZoTML1cBjTi2nZxNtWTmj\n",
      "Submit batch for file id: file-TZoTML1cBjTi2nZxNtWTmj\n"
     ]
    },
    {
     "name": "stderr",
     "output_type": "stream",
     "text": [
      "WARNING:__main__:Finished call to '__main__.submit_batch_job' after 0.391(s), this was the 1st time calling it.\n",
      "WARNING:__main__:Finished call to '__main__.submit_batch_job' after 0.406(s), this was the 1st time calling it.\n"
     ]
    },
    {
     "name": "stdout",
     "output_type": "stream",
     "text": [
      "File batch_143.jsonl uploaded successfully. File ID: file-WVUgq3Pzipr9EmVoe6epU5\n",
      "Submit batch for file id: file-WVUgq3Pzipr9EmVoe6epU5\n",
      "File batch_152.jsonl uploaded successfully. File ID: file-2gEWPEqJvtVEy1XQm9gEJh\n",
      "Submit batch for file id: file-2gEWPEqJvtVEy1XQm9gEJh\n"
     ]
    },
    {
     "name": "stderr",
     "output_type": "stream",
     "text": [
      "WARNING:__main__:Finished call to '__main__.submit_batch_job' after 0.438(s), this was the 1st time calling it.\n",
      "WARNING:__main__:Finished call to '__main__.submit_batch_job' after 0.438(s), this was the 1st time calling it.\n"
     ]
    },
    {
     "name": "stdout",
     "output_type": "stream",
     "text": [
      "File batch_147.jsonl uploaded successfully. File ID: file-8svkkDGm6DstHAhtxKWN4d\n",
      "Submit batch for file id: file-8svkkDGm6DstHAhtxKWN4d\n",
      "File batch_117.jsonl uploaded successfully. File ID: file-BqLuoDMp7RDSL3vg4Zme5E\n",
      "Submit batch for file id: file-BqLuoDMp7RDSL3vg4Zme5E\n",
      "File batch_102.jsonl uploaded successfully. File ID: file-6awy19xdcBWtTJhAP9tjxT\n",
      "Submit batch for file id: file-6awy19xdcBWtTJhAP9tjxT\n",
      "Submit batch for file id: file-3fmNDSb9bejhsKQQVEJkeG\n",
      "File batch_107.jsonl uploaded successfully. File ID: file-CXDGiUgoYice4vcgoJyvtF\n",
      "Submit batch for file id: file-CXDGiUgoYice4vcgoJyvtF\n"
     ]
    },
    {
     "name": "stderr",
     "output_type": "stream",
     "text": [
      "WARNING:__main__:Finished call to '__main__.submit_batch_job' after 0.453(s), this was the 1st time calling it.\n",
      "WARNING:__main__:Finished call to '__main__.submit_batch_job' after 0.453(s), this was the 1st time calling it.\n",
      "WARNING:__main__:Finished call to '__main__.submit_batch_job' after 0.453(s), this was the 1st time calling it.\n"
     ]
    },
    {
     "name": "stdout",
     "output_type": "stream",
     "text": [
      "File batch_148.jsonl uploaded successfully. File ID: file-YLn8FVmakzjTvym4ZjDHkx\n",
      "Submit batch for file id: file-YLn8FVmakzjTvym4ZjDHkx\n"
     ]
    },
    {
     "name": "stderr",
     "output_type": "stream",
     "text": [
      "WARNING:__main__:Finished call to '__main__.submit_batch_job' after 0.485(s), this was the 1st time calling it.\n",
      "WARNING:__main__:Finished call to '__main__.submit_batch_job' after 0.485(s), this was the 1st time calling it.\n",
      "WARNING:__main__:Finished call to '__main__.submit_batch_job' after 0.453(s), this was the 1st time calling it.\n"
     ]
    },
    {
     "name": "stdout",
     "output_type": "stream",
     "text": [
      "File batch_172.jsonl uploaded successfully. File ID: file-39vzF4LaqdajCSPfygAteN\n",
      "Submit batch for file id: file-39vzF4LaqdajCSPfygAteN\n",
      "Submit batch for file id: file-1NMVxFsL8X9gXuXCd1M7aw\n",
      "Submit batch for file id: file-FqRbp1o9UcMyS43rtgozVF\n",
      "File batch_16.jsonl uploaded successfully. File ID: file-CVuJGzm57nnPkHVotMCYMz\n",
      "Submit batch for file id: file-CVuJGzm57nnPkHVotMCYMz\n"
     ]
    },
    {
     "name": "stderr",
     "output_type": "stream",
     "text": [
      "WARNING:__main__:Finished call to '__main__.submit_batch_job' after 0.500(s), this was the 1st time calling it.\n"
     ]
    },
    {
     "name": "stdout",
     "output_type": "stream",
     "text": [
      "File batch_118.jsonl uploaded successfully. File ID: file-9e7SdTfz6YxMvai4wzwZsm\n",
      "Submit batch for file id: file-9e7SdTfz6YxMvai4wzwZsm\n",
      "Submit batch for file id: file-QxKgbxPLvdvGzS4VTHTkLN\n"
     ]
    },
    {
     "name": "stderr",
     "output_type": "stream",
     "text": [
      "WARNING:__main__:Finished call to '__main__.submit_batch_job' after 0.500(s), this was the 1st time calling it.\n",
      "WARNING:__main__:Finished call to '__main__.submit_batch_job' after 0.453(s), this was the 1st time calling it.\n"
     ]
    },
    {
     "name": "stdout",
     "output_type": "stream",
     "text": [
      "File batch_112.jsonl uploaded successfully. File ID: file-JWMMg384xxLy7Jjtznt7Fp\n",
      "Submit batch for file id: file-JWMMg384xxLy7Jjtznt7Fp\n",
      "File batch_119.jsonl uploaded successfully. File ID: file-MsPvyzEpQnZFTeXbQ2c1sF\n",
      "Submit batch for file id: file-MsPvyzEpQnZFTeXbQ2c1sF\n",
      "File batch_126.jsonl uploaded successfully. File ID: file-RhT1MjMfQahCFq5EMzqfwK\n",
      "Submit batch for file id: file-RhT1MjMfQahCFq5EMzqfwK\n"
     ]
    },
    {
     "name": "stderr",
     "output_type": "stream",
     "text": [
      "WARNING:__main__:Finished call to '__main__.submit_batch_job' after 0.469(s), this was the 1st time calling it.\n"
     ]
    },
    {
     "name": "stdout",
     "output_type": "stream",
     "text": [
      "Submit batch for file id: file-GzunAg1Jw91Jwt7gBFJBHV\n",
      "File batch_191.jsonl uploaded successfully. File ID: file-8hhtBWdyi9VfpM67FuJpWK\n",
      "Submit batch for file id: file-8hhtBWdyi9VfpM67FuJpWK\n",
      "File batch_178.jsonl uploaded successfully. File ID: file-4LZVubFvWedm1goW8RqwZx\n",
      "Submit batch for file id: file-4LZVubFvWedm1goW8RqwZx\n",
      "File batch_186.jsonl uploaded successfully. File ID: file-W8CE6Ej9oUNWhDaC4kipuZ\n",
      "Submit batch for file id: file-W8CE6Ej9oUNWhDaC4kipuZ\n",
      "Submit batch for file id: file-GeQEbs1FumYAywStuHXGz2\n"
     ]
    },
    {
     "name": "stderr",
     "output_type": "stream",
     "text": [
      "WARNING:__main__:Finished call to '__main__.submit_batch_job' after 0.500(s), this was the 1st time calling it.\n",
      "WARNING:__main__:Finished call to '__main__.submit_batch_job' after 0.484(s), this was the 1st time calling it.\n",
      "WARNING:__main__:Finished call to '__main__.submit_batch_job' after 0.453(s), this was the 1st time calling it.\n"
     ]
    },
    {
     "name": "stdout",
     "output_type": "stream",
     "text": [
      "Submit batch for file id: file-5gqNiwo1LRu7sVuKnG8kaU\n",
      "Submit batch for file id: file-CzMBcRbrD3bdGSTfdLPbkJ\n"
     ]
    },
    {
     "name": "stderr",
     "output_type": "stream",
     "text": [
      "WARNING:__main__:Finished call to '__main__.submit_batch_job' after 0.547(s), this was the 1st time calling it.\n",
      "WARNING:__main__:Finished call to '__main__.submit_batch_job' after 0.453(s), this was the 1st time calling it.\n"
     ]
    },
    {
     "name": "stdout",
     "output_type": "stream",
     "text": [
      "File batch_121.jsonl uploaded successfully. File ID: file-Dz7fYP8ujbF3Y6HXTpCSPD\n",
      "Submit batch for file id: file-Dz7fYP8ujbF3Y6HXTpCSPD\n",
      "Submit batch for file id: file-7xLX9EvuFRC8z5d1BkZmwg\n",
      "File batch_219.jsonl uploaded successfully. File ID: file-R7zwdPKreYKoKpGqgWYJMh\n",
      "Submit batch for file id: file-R7zwdPKreYKoKpGqgWYJMh\n",
      "File batch_169.jsonl uploaded successfully. File ID: file-RusKox4cP5mvXYPe2vzKjj\n",
      "Submit batch for file id: file-RusKox4cP5mvXYPe2vzKjj\n",
      "Submit batch for file id: file-LBdJ7yEGUcrf9PUqaYEYYr\n",
      "File batch_149.jsonl uploaded successfully. File ID: file-MqjpxfVDJHZXuRTmUzXggp\n",
      "Submit batch for file id: file-MqjpxfVDJHZXuRTmUzXggp\n",
      "Submit batch for file id: file-TRjcj5TSPkxG7Zuu5SiC4X\n",
      "Submit batch for file id: file-BrP9mvdjjaEE4uoPjKTy8e\n"
     ]
    },
    {
     "name": "stderr",
     "output_type": "stream",
     "text": [
      "WARNING:__main__:Finished call to '__main__.submit_batch_job' after 0.437(s), this was the 1st time calling it.\n",
      "WARNING:__main__:Finished call to '__main__.submit_batch_job' after 0.609(s), this was the 1st time calling it.\n",
      "WARNING:__main__:Finished call to '__main__.submit_batch_job' after 0.609(s), this was the 1st time calling it.\n"
     ]
    },
    {
     "name": "stdout",
     "output_type": "stream",
     "text": [
      "Submit batch for file id: file-1isXv9KCKi8aFR2XJdh1rr\n",
      "Submit batch for file id: file-PArMLLVcLezL2Yyv5an18b\n",
      "File batch_177.jsonl uploaded successfully. File ID: file-2VNRAfJfE8uLJeBv68nkcr\n",
      "Submit batch for file id: file-2VNRAfJfE8uLJeBv68nkcr\n",
      "File batch_114.jsonl uploaded successfully. File ID: file-QbzTdYT5yRo5wdB8YPWCCu\n",
      "Submit batch for file id: file-QbzTdYT5yRo5wdB8YPWCCu\n",
      "File batch_170.jsonl uploaded successfully. File ID: file-MPazBAFopFUQ3TGzaQCvUV\n",
      "Submit batch for file id: file-MPazBAFopFUQ3TGzaQCvUV\n",
      "File batch_124.jsonl uploaded successfully. File ID: file-Q5euvqtoYoWQmoJUCvvNyu\n",
      "Submit batch for file id: file-Q5euvqtoYoWQmoJUCvvNyu\n",
      "File batch_179.jsonl uploaded successfully. File ID: file-6vZzfNQmAZ5iMUNFdt2sMz\n",
      "Submit batch for file id: file-6vZzfNQmAZ5iMUNFdt2sMz\n",
      "Submit batch for file id: file-1fDq8cz6i6fWC9p4riYfn8\n"
     ]
    },
    {
     "name": "stderr",
     "output_type": "stream",
     "text": [
      "WARNING:__main__:Finished call to '__main__.submit_batch_job' after 0.734(s), this was the 1st time calling it.\n",
      "WARNING:__main__:Finished call to '__main__.submit_batch_job' after 1.313(s), this was the 1st time calling it.\n"
     ]
    },
    {
     "name": "stdout",
     "output_type": "stream",
     "text": [
      "Submit batch for file id: file-Fprg6acBD5mfwJRKg7qhBU\n",
      "File batch_139.jsonl uploaded successfully. File ID: file-JCvBVLSPxu88FrHjhv7MWg\n",
      "Submit batch for file id: file-JCvBVLSPxu88FrHjhv7MWg\n",
      "Submit batch for file id: file-MKjjGe4CJK4cEyuAZP17ik\n"
     ]
    },
    {
     "name": "stderr",
     "output_type": "stream",
     "text": [
      "WARNING:__main__:Finished call to '__main__.submit_batch_job' after 0.453(s), this was the 1st time calling it.\n",
      "WARNING:__main__:Finished call to '__main__.submit_batch_job' after 0.453(s), this was the 1st time calling it.\n",
      "WARNING:__main__:Finished call to '__main__.submit_batch_job' after 0.484(s), this was the 1st time calling it.\n",
      "WARNING:__main__:Finished call to '__main__.submit_batch_job' after 0.516(s), this was the 1st time calling it.\n",
      "WARNING:__main__:Finished call to '__main__.submit_batch_job' after 0.516(s), this was the 1st time calling it.\n"
     ]
    },
    {
     "name": "stdout",
     "output_type": "stream",
     "text": [
      "File batch_182.jsonl uploaded successfully. File ID: file-JCA6qGgzpDMSisGBR7ZZiD\n",
      "Submit batch for file id: file-JCA6qGgzpDMSisGBR7ZZiD\n",
      "File batch_154.jsonl uploaded successfully. File ID: file-GbeuaWnD78VE2N4cW2WCJA\n",
      "Submit batch for file id: file-GbeuaWnD78VE2N4cW2WCJA\n",
      "Submit batch for file id: file-Dj4JPGJmPNbtDFrc7PvEtb\n",
      "File batch_18.jsonl uploaded successfully. File ID: file-HJFDWCvghb97uFooa2WPUK\n",
      "Submit batch for file id: file-HJFDWCvghb97uFooa2WPUK\n",
      "File batch_193.jsonl uploaded successfully. File ID: file-DxcRgz27AcV6rBZ55hA2L6\n",
      "Submit batch for file id: file-DxcRgz27AcV6rBZ55hA2L6\n",
      "Submit batch for file id: file-Khcv7WqDiZQWtK29NyAVHK\n",
      "Submit batch for file id: file-KZjZHp1tuQw7CjVSefKgH8\n",
      "File batch_106.jsonl uploaded successfully. File ID: file-7P2Y5dijJGmAYZrEEGSUPc\n",
      "Submit batch for file id: file-7P2Y5dijJGmAYZrEEGSUPc\n",
      "Submit batch for file id: file-KGpSmjoPL3664QVP2y99ee\n"
     ]
    },
    {
     "name": "stderr",
     "output_type": "stream",
     "text": [
      "WARNING:__main__:Finished call to '__main__.submit_batch_job' after 0.453(s), this was the 1st time calling it.\n",
      "WARNING:__main__:Finished call to '__main__.submit_batch_job' after 0.390(s), this was the 1st time calling it.\n",
      "WARNING:__main__:Finished call to '__main__.submit_batch_job' after 0.453(s), this was the 1st time calling it.\n",
      "WARNING:__main__:Finished call to '__main__.submit_batch_job' after 0.375(s), this was the 1st time calling it.\n",
      "WARNING:__main__:Finished call to '__main__.submit_batch_job' after 0.453(s), this was the 1st time calling it.\n",
      "WARNING:__main__:Finished call to '__main__.submit_batch_job' after 0.375(s), this was the 1st time calling it.\n"
     ]
    },
    {
     "name": "stdout",
     "output_type": "stream",
     "text": [
      "Submit batch for file id: file-Q77rQfKqLTy7JdP6B53MXR\n",
      "File batch_136.jsonl uploaded successfully. File ID: file-Sfn6y2g3SKoBBdu7meGb4K\n",
      "Submit batch for file id: file-Sfn6y2g3SKoBBdu7meGb4K\n",
      "Submit batch for file id: file-L18uPjHMMmG7dko5B4TDvL\n"
     ]
    },
    {
     "name": "stderr",
     "output_type": "stream",
     "text": [
      "WARNING:__main__:Finished call to '__main__.submit_batch_job' after 0.406(s), this was the 1st time calling it.\n"
     ]
    },
    {
     "name": "stdout",
     "output_type": "stream",
     "text": [
      "File batch_17.jsonl uploaded successfully. File ID: file-9Xvqt7PtFSfThGStUCiedy\n",
      "Submit batch for file id: file-9Xvqt7PtFSfThGStUCiedy\n",
      "File batch_195.jsonl uploaded successfully. File ID: file-SeeGpHaTU54Pn5vfJs5i7a\n",
      "Submit batch for file id: file-SeeGpHaTU54Pn5vfJs5i7a\n",
      "Submit batch for file id: file-34GkneJBJey5PxfHBjf76d\n",
      "File batch_14.jsonl uploaded successfully. File ID: file-AH2aU4FJmDZDMzjGLSfnA6\n",
      "Submit batch for file id: file-AH2aU4FJmDZDMzjGLSfnA6\n",
      "Submit batch for file id: file-EKGwz4JDNFvAdYi2kiWPs1\n",
      "Submit batch for file id: file-5HwBpd5vU8mbS5isXXWtHf\n",
      "Submit batch for file id: file-Fo5ksX8z6SbdXXNTLTH13J\n",
      "Submit batch for file id: file-6LX5UEFn5XPUWdDQowifhb\n"
     ]
    },
    {
     "name": "stderr",
     "output_type": "stream",
     "text": [
      "WARNING:__main__:Finished call to '__main__.submit_batch_job' after 0.422(s), this was the 1st time calling it.\n"
     ]
    },
    {
     "name": "stdout",
     "output_type": "stream",
     "text": [
      "Submit batch for file id: file-UmdSKAtbz7mytCsPcw4ytH\n",
      "File batch_197.jsonl uploaded successfully. File ID: file-EZHqfST1ymFHUiPRLEcAVo\n",
      "Submit batch for file id: file-EZHqfST1ymFHUiPRLEcAVo\n",
      "Submit batch for file id: file-6hwGTQJkvpNby3vCRzdi8r\n",
      "Submit batch for file id: file-KvNYFYP6LV3vBkLhfEteq9\n",
      "File batch_159.jsonl uploaded successfully. File ID: file-AvYasrXaMb2PaUBr7KsUuj\n",
      "Submit batch for file id: file-AvYasrXaMb2PaUBr7KsUuj\n",
      "Submit batch for file id: file-FX3XzucfTo4aRreRY5vW5G\n",
      "Submit batch for file id: file-Weof6ATP6ra6AmywrA4ETG\n",
      "Submit batch for file id: file-R2re44U418x6UDTCX1jeRS\n"
     ]
    },
    {
     "name": "stderr",
     "output_type": "stream",
     "text": [
      "WARNING:__main__:Finished call to '__main__.submit_batch_job' after 0.469(s), this was the 1st time calling it.\n",
      "WARNING:__main__:Finished call to '__main__.submit_batch_job' after 0.469(s), this was the 1st time calling it.\n"
     ]
    },
    {
     "name": "stdout",
     "output_type": "stream",
     "text": [
      "File batch_108.jsonl uploaded successfully. File ID: file-PG6d28LBLJVUhFFqb9y3it\n",
      "Submit batch for file id: file-PG6d28LBLJVUhFFqb9y3it\n",
      "File batch_188.jsonl uploaded successfully. File ID: file-PBCWt6VC4PdusBVdypB6Kk\n",
      "Submit batch for file id: file-PBCWt6VC4PdusBVdypB6Kk\n",
      "File batch_115.jsonl uploaded successfully. File ID: file-7SAcxb657Lmspvy3jPvqEA\n",
      "Submit batch for file id: file-7SAcxb657Lmspvy3jPvqEA\n"
     ]
    },
    {
     "name": "stderr",
     "output_type": "stream",
     "text": [
      "WARNING:__main__:Finished call to '__main__.submit_batch_job' after 0.438(s), this was the 1st time calling it.\n",
      "WARNING:__main__:Finished call to '__main__.submit_batch_job' after 0.469(s), this was the 1st time calling it.\n",
      "WARNING:__main__:Finished call to '__main__.submit_batch_job' after 0.469(s), this was the 1st time calling it.\n"
     ]
    },
    {
     "name": "stdout",
     "output_type": "stream",
     "text": [
      "File batch_216.jsonl uploaded successfully. File ID: file-5JP5KfPcU4H7pfwYVeuGzf\n",
      "Submit batch for file id: file-5JP5KfPcU4H7pfwYVeuGzf\n",
      "File batch_217.jsonl uploaded successfully. File ID: file-EPiN4kAQni5obnyRf37yJX\n",
      "Submit batch for file id: file-EPiN4kAQni5obnyRf37yJX\n",
      "File batch_162.jsonl uploaded successfully. File ID: file-D2AGbCD8rynDVymHhZD4Uk\n",
      "Submit batch for file id: file-D2AGbCD8rynDVymHhZD4Uk\n",
      "File batch_221.jsonl uploaded successfully. File ID: file-UJd11Zaj3nUhDRk5PnBdKb\n",
      "Submit batch for file id: file-UJd11Zaj3nUhDRk5PnBdKb\n",
      "File batch_183.jsonl uploaded successfully. File ID: file-Kn8BaWsVXTonkcGkWFHnJR\n",
      "Submit batch for file id: file-Kn8BaWsVXTonkcGkWFHnJR\n",
      "File batch_185.jsonl uploaded successfully. File ID: file-Gq1ZtdRHmkxbKX3uqBmHHa\n",
      "Submit batch for file id: file-Gq1ZtdRHmkxbKX3uqBmHHa\n",
      "Submit batch for file id: file-L3rBpKhbj1kT17QdawZKVx\n"
     ]
    },
    {
     "name": "stderr",
     "output_type": "stream",
     "text": [
      "WARNING:__main__:Finished call to '__main__.submit_batch_job' after 0.484(s), this was the 1st time calling it.\n",
      "WARNING:__main__:Finished call to '__main__.submit_batch_job' after 0.453(s), this was the 1st time calling it.\n",
      "WARNING:__main__:Finished call to '__main__.submit_batch_job' after 0.484(s), this was the 1st time calling it.\n",
      "WARNING:__main__:Finished call to '__main__.submit_batch_job' after 0.453(s), this was the 1st time calling it.\n"
     ]
    },
    {
     "name": "stdout",
     "output_type": "stream",
     "text": [
      "Submit batch for file id: file-5tCKkf9LDpsN5aoKguJHGb\n",
      "Submit batch for file id: file-Y93zkbzQ4n9ZrAkSi1o5f4\n",
      "Submit batch for file id: file-9PzdXV5aKUbgUEnvjVBRc8\n",
      "Submit batch for file id: file-RfqpSJZ8byFyaWm12Aw7EJ\n",
      "Submit batch for file id: file-HQBzF5n1VF7pqCBgiULxp8\n",
      "File batch_198.jsonl uploaded successfully. File ID: file-DLj9HK5z54wRKkfGkM2BDA\n",
      "Submit batch for file id: file-DLj9HK5z54wRKkfGkM2BDA\n",
      "File batch_129.jsonl uploaded successfully. File ID: file-FB6JmWT9ujn1oyNeHZEc1w\n",
      "Submit batch for file id: file-FB6JmWT9ujn1oyNeHZEc1w\n",
      "Submit batch for file id: file-VXUmzc7fTWyzxoUPJ9uCGJ\n"
     ]
    },
    {
     "name": "stderr",
     "output_type": "stream",
     "text": [
      "WARNING:__main__:Finished call to '__main__.submit_batch_job' after 0.437(s), this was the 1st time calling it.\n",
      "WARNING:__main__:Finished call to '__main__.submit_batch_job' after 0.453(s), this was the 1st time calling it.\n",
      "WARNING:__main__:Finished call to '__main__.submit_batch_job' after 0.484(s), this was the 1st time calling it.\n",
      "WARNING:__main__:Finished call to '__main__.submit_batch_job' after 0.469(s), this was the 1st time calling it.\n"
     ]
    },
    {
     "name": "stdout",
     "output_type": "stream",
     "text": [
      "File batch_125.jsonl uploaded successfully. File ID: file-AWLD8ue4aEtao94hJzhmRo\n",
      "Submit batch for file id: file-AWLD8ue4aEtao94hJzhmRo\n",
      "File batch_105.jsonl uploaded successfully. File ID: file-6XD8DC3eDgnMiYMmeaf7tM\n",
      "Submit batch for file id: file-6XD8DC3eDgnMiYMmeaf7tM\n",
      "File batch_156.jsonl uploaded successfully. File ID: file-LjX7A3bhUk5aC3iwdrnvSU\n",
      "Submit batch for file id: file-LjX7A3bhUk5aC3iwdrnvSU\n",
      "Submit batch for file id: file-GoXRYrJMdnER63ECcb1DUw\n",
      "File batch_227.jsonl uploaded successfully. File ID: file-9neMc7wz17qcqiYswev27L\n",
      "Submit batch for file id: file-9neMc7wz17qcqiYswev27L\n",
      "File batch_158.jsonl uploaded successfully. File ID: file-WtCzUQsVSPL1Y65sNJEc7g\n",
      "Submit batch for file id: file-WtCzUQsVSPL1Y65sNJEc7g\n",
      "Submit batch for file id: file-6w6qWFHB46Q5bz6yNLrpfT\n"
     ]
    },
    {
     "name": "stderr",
     "output_type": "stream",
     "text": [
      "WARNING:__main__:Finished call to '__main__.submit_batch_job' after 0.422(s), this was the 1st time calling it.\n",
      "WARNING:__main__:Finished call to '__main__.submit_batch_job' after 0.422(s), this was the 1st time calling it.\n"
     ]
    },
    {
     "name": "stdout",
     "output_type": "stream",
     "text": [
      "Submit batch for file id: file-1AQYB4Rc2rmE784MmJxRK5\n",
      "File batch_248.jsonl uploaded successfully. File ID: file-Mt67XkaLqcyKF6b5UKwDAi\n",
      "Submit batch for file id: file-Mt67XkaLqcyKF6b5UKwDAi\n",
      "File batch_138.jsonl uploaded successfully. File ID: file-VL7eoJqsPh3JttMQFXxcX2\n",
      "Submit batch for file id: file-VL7eoJqsPh3JttMQFXxcX2\n",
      "Submit batch for file id: file-TZoTML1cBjTi2nZxNtWTmj\n"
     ]
    },
    {
     "name": "stderr",
     "output_type": "stream",
     "text": [
      "WARNING:__main__:Finished call to '__main__.submit_batch_job' after 0.547(s), this was the 1st time calling it.\n",
      "WARNING:__main__:Finished call to '__main__.submit_batch_job' after 0.547(s), this was the 1st time calling it.\n",
      "WARNING:__main__:Finished call to '__main__.submit_batch_job' after 0.453(s), this was the 1st time calling it.\n"
     ]
    },
    {
     "name": "stdout",
     "output_type": "stream",
     "text": [
      "Submit batch for file id: file-2gEWPEqJvtVEy1XQm9gEJh\n",
      "Submit batch for file id: file-WVUgq3Pzipr9EmVoe6epU5\n",
      "File batch_150.jsonl uploaded successfully. File ID: file-QxNNDkW5S234Y6vg4Jpk4g\n",
      "Submit batch for file id: file-QxNNDkW5S234Y6vg4Jpk4g\n"
     ]
    },
    {
     "name": "stderr",
     "output_type": "stream",
     "text": [
      "WARNING:__main__:Finished call to '__main__.submit_batch_job' after 0.453(s), this was the 1st time calling it.\n",
      "WARNING:__main__:Finished call to '__main__.submit_batch_job' after 0.438(s), this was the 1st time calling it.\n"
     ]
    },
    {
     "name": "stdout",
     "output_type": "stream",
     "text": [
      "Submit batch for file id: file-8svkkDGm6DstHAhtxKWN4d\n",
      "Submit batch for file id: file-BqLuoDMp7RDSL3vg4Zme5E\n",
      "Submit batch for file id: file-6awy19xdcBWtTJhAP9tjxT\n",
      "Submit batch for file id: file-CXDGiUgoYice4vcgoJyvtF\n"
     ]
    },
    {
     "name": "stderr",
     "output_type": "stream",
     "text": [
      "WARNING:__main__:Finished call to '__main__.submit_batch_job' after 0.953(s), this was the 1st time calling it.\n",
      "WARNING:__main__:Finished call to '__main__.submit_batch_job' after 0.484(s), this was the 1st time calling it.\n"
     ]
    },
    {
     "name": "stdout",
     "output_type": "stream",
     "text": [
      "Submit batch for file id: file-YLn8FVmakzjTvym4ZjDHkx\n",
      "File batch_12.jsonl uploaded successfully. File ID: file-1TtRzxoA72k9yC8pbsv89H\n",
      "Submit batch for file id: file-1TtRzxoA72k9yC8pbsv89H\n"
     ]
    },
    {
     "name": "stderr",
     "output_type": "stream",
     "text": [
      "WARNING:__main__:Finished call to '__main__.submit_batch_job' after 1.172(s), this was the 1st time calling it.\n"
     ]
    },
    {
     "name": "stdout",
     "output_type": "stream",
     "text": [
      "File batch_128.jsonl uploaded successfully. File ID: file-UCapekh7L3faz494LsR6rL\n",
      "Submit batch for file id: file-UCapekh7L3faz494LsR6rL\n",
      "Submit batch for file id: file-39vzF4LaqdajCSPfygAteN\n",
      "Submit batch for file id: file-CVuJGzm57nnPkHVotMCYMz\n"
     ]
    },
    {
     "name": "stderr",
     "output_type": "stream",
     "text": [
      "WARNING:__main__:Finished call to '__main__.submit_batch_job' after 0.578(s), this was the 1st time calling it.\n"
     ]
    },
    {
     "name": "stdout",
     "output_type": "stream",
     "text": [
      "Submit batch for file id: file-9e7SdTfz6YxMvai4wzwZsm\n",
      "File batch_220.jsonl uploaded successfully. File ID: file-WQ1hCJVagY6hFQBNXXWeqU\n",
      "Submit batch for file id: file-WQ1hCJVagY6hFQBNXXWeqU\n"
     ]
    },
    {
     "name": "stderr",
     "output_type": "stream",
     "text": [
      "WARNING:__main__:Finished call to '__main__.submit_batch_job' after 0.484(s), this was the 1st time calling it.\n"
     ]
    },
    {
     "name": "stdout",
     "output_type": "stream",
     "text": [
      "File batch_11.jsonl uploaded successfully. File ID: file-1DC97oBbDR9b9L6J9xuwUN\n",
      "Submit batch for file id: file-1DC97oBbDR9b9L6J9xuwUN\n",
      "Submit batch for file id: file-JWMMg384xxLy7Jjtznt7Fp\n",
      "Submit batch for file id: file-MsPvyzEpQnZFTeXbQ2c1sF\n",
      "Submit batch for file id: file-RhT1MjMfQahCFq5EMzqfwK\n"
     ]
    },
    {
     "name": "stderr",
     "output_type": "stream",
     "text": [
      "WARNING:__main__:Finished call to '__main__.submit_batch_job' after 0.391(s), this was the 1st time calling it.\n",
      "WARNING:__main__:Finished call to '__main__.submit_batch_job' after 0.390(s), this was the 1st time calling it.\n"
     ]
    },
    {
     "name": "stdout",
     "output_type": "stream",
     "text": [
      "Submit batch for file id: file-W8CE6Ej9oUNWhDaC4kipuZ\n",
      "Submit batch for file id: file-8hhtBWdyi9VfpM67FuJpWK\n",
      "File batch_200.jsonl uploaded successfully. File ID: file-H2DKafEw7tpPqYFRKAPsAS\n",
      "Submit batch for file id: file-H2DKafEw7tpPqYFRKAPsAS\n",
      "File batch_161.jsonl uploaded successfully. File ID: file-3Kd917ker4zbzSVRkHGpwC\n",
      "Submit batch for file id: file-3Kd917ker4zbzSVRkHGpwC\n",
      "File batch_214.jsonl uploaded successfully. File ID: file-XARqa9WH45zwwwkhgtx7y3\n",
      "Submit batch for file id: file-XARqa9WH45zwwwkhgtx7y3\n"
     ]
    },
    {
     "name": "stderr",
     "output_type": "stream",
     "text": [
      "WARNING:__main__:Finished call to '__main__.submit_batch_job' after 0.484(s), this was the 1st time calling it.\n"
     ]
    },
    {
     "name": "stdout",
     "output_type": "stream",
     "text": [
      "File batch_167.jsonl uploaded successfully. File ID: file-GQnoTVCR7VndXcAVBwdm6E\n",
      "Submit batch for file id: file-GQnoTVCR7VndXcAVBwdm6E\n",
      "File batch_206.jsonl uploaded successfully. File ID: file-KKr2PrCzPicACpGM3jmm2N\n",
      "Submit batch for file id: file-KKr2PrCzPicACpGM3jmm2N\n",
      "Submit batch for file id: file-Dz7fYP8ujbF3Y6HXTpCSPD\n",
      "File batch_22.jsonl uploaded successfully. File ID: file-4cVeyM24GbrS97QtpnzkyY\n",
      "Submit batch for file id: file-4cVeyM24GbrS97QtpnzkyY\n",
      "File batch_140.jsonl uploaded successfully. File ID: file-8n8TtNJ4QU7iTjLAmwu4KD\n",
      "Submit batch for file id: file-8n8TtNJ4QU7iTjLAmwu4KD\n"
     ]
    },
    {
     "name": "stderr",
     "output_type": "stream",
     "text": [
      "WARNING:__main__:Finished call to '__main__.submit_batch_job' after 0.547(s), this was the 1st time calling it.\n",
      "WARNING:__main__:Finished call to '__main__.submit_batch_job' after 0.500(s), this was the 1st time calling it.\n",
      "WARNING:__main__:Finished call to '__main__.submit_batch_job' after 0.469(s), this was the 1st time calling it.\n",
      "WARNING:__main__:Finished call to '__main__.submit_batch_job' after 0.484(s), this was the 1st time calling it.\n"
     ]
    },
    {
     "name": "stdout",
     "output_type": "stream",
     "text": [
      "Submit batch for file id: file-RusKox4cP5mvXYPe2vzKjj\n",
      "Submit batch for file id: file-R7zwdPKreYKoKpGqgWYJMh\n"
     ]
    },
    {
     "name": "stderr",
     "output_type": "stream",
     "text": [
      "WARNING:__main__:Finished call to '__main__.submit_batch_job' after 0.516(s), this was the 1st time calling it.\n",
      "WARNING:__main__:Finished call to '__main__.submit_batch_job' after 0.469(s), this was the 1st time calling it.\n"
     ]
    },
    {
     "name": "stdout",
     "output_type": "stream",
     "text": [
      "Submit batch for file id: file-MqjpxfVDJHZXuRTmUzXggp\n",
      "Submit batch for file id: file-4LZVubFvWedm1goW8RqwZx\n",
      "Submit batch for file id: file-6vZzfNQmAZ5iMUNFdt2sMz\n",
      "Submit batch for file id: file-Q5euvqtoYoWQmoJUCvvNyu\n",
      "Submit batch for file id: file-MPazBAFopFUQ3TGzaQCvUV\n"
     ]
    },
    {
     "name": "stderr",
     "output_type": "stream",
     "text": [
      "WARNING:__main__:Finished call to '__main__.submit_batch_job' after 6.078(s), this was the 2nd time calling it.\n"
     ]
    },
    {
     "name": "stdout",
     "output_type": "stream",
     "text": [
      "Submit batch for file id: file-QbzTdYT5yRo5wdB8YPWCCu\n",
      "Submit batch for file id: file-2VNRAfJfE8uLJeBv68nkcr\n",
      "File batch_224.jsonl uploaded successfully. File ID: file-HQy3KopReGQ4XxSRtr8zFf\n",
      "Submit batch for file id: file-HQy3KopReGQ4XxSRtr8zFf\n"
     ]
    },
    {
     "name": "stderr",
     "output_type": "stream",
     "text": [
      "WARNING:__main__:Finished call to '__main__.submit_batch_job' after 6.218(s), this was the 2nd time calling it.\n"
     ]
    },
    {
     "name": "stdout",
     "output_type": "stream",
     "text": [
      "Submit batch for file id: file-JCvBVLSPxu88FrHjhv7MWg\n",
      "File batch_201.jsonl uploaded successfully. File ID: file-WiP7RB887ZGpFxsSbnTxF3\n",
      "Submit batch for file id: file-WiP7RB887ZGpFxsSbnTxF3\n",
      "Submit batch for file id: file-HJFDWCvghb97uFooa2WPUK\n",
      "Submit batch for file id: file-GbeuaWnD78VE2N4cW2WCJA\n",
      "Submit batch for file id: file-JCA6qGgzpDMSisGBR7ZZiD\n",
      "Submit batch for file id: file-DxcRgz27AcV6rBZ55hA2L6\n",
      "File batch_279.jsonl uploaded successfully. File ID: file-1weuXVVN2icyC92PXCefVY\n",
      "Submit batch for file id: file-1weuXVVN2icyC92PXCefVY\n",
      "Submit batch for file id: file-7P2Y5dijJGmAYZrEEGSUPc\n"
     ]
    },
    {
     "name": "stderr",
     "output_type": "stream",
     "text": [
      "WARNING:__main__:Finished call to '__main__.submit_batch_job' after 0.468(s), this was the 1st time calling it.\n",
      "WARNING:__main__:Finished call to '__main__.submit_batch_job' after 0.453(s), this was the 1st time calling it.\n",
      "WARNING:__main__:Finished call to '__main__.submit_batch_job' after 0.406(s), this was the 1st time calling it.\n"
     ]
    },
    {
     "name": "stdout",
     "output_type": "stream",
     "text": [
      "Submit batch for file id: file-Sfn6y2g3SKoBBdu7meGb4K\n",
      "File batch_204.jsonl uploaded successfully. File ID: file-UmAcePcSKBczWfVhzi1CUc\n",
      "Submit batch for file id: file-UmAcePcSKBczWfVhzi1CUc\n",
      "File batch_199.jsonl uploaded successfully. File ID: file-RHmvdYBaqLpxSqMaypSZN6\n",
      "Submit batch for file id: file-RHmvdYBaqLpxSqMaypSZN6\n"
     ]
    },
    {
     "name": "stderr",
     "output_type": "stream",
     "text": [
      "WARNING:__main__:Finished call to '__main__.submit_batch_job' after 5.781(s), this was the 2nd time calling it.\n",
      "WARNING:__main__:Finished call to '__main__.submit_batch_job' after 0.375(s), this was the 1st time calling it.\n"
     ]
    },
    {
     "name": "stdout",
     "output_type": "stream",
     "text": [
      "File batch_168.jsonl uploaded successfully. File ID: file-RZQfxZurqFWDwkuqyviNxb\n",
      "Submit batch for file id: file-RZQfxZurqFWDwkuqyviNxb\n",
      "File batch_132.jsonl uploaded successfully. File ID: file-Y86pUud7eLJQ23JnuF7EXi\n",
      "Submit batch for file id: file-Y86pUud7eLJQ23JnuF7EXi\n",
      "Submit batch for file id: file-9Xvqt7PtFSfThGStUCiedy\n",
      "File batch_212.jsonl uploaded successfully. File ID: file-K2y1e5jtZZmttopmiskf2m\n",
      "Submit batch for file id: file-K2y1e5jtZZmttopmiskf2m\n",
      "Submit batch for file id: file-SeeGpHaTU54Pn5vfJs5i7a\n",
      "Submit batch for file id: file-AH2aU4FJmDZDMzjGLSfnA6\n"
     ]
    },
    {
     "name": "stderr",
     "output_type": "stream",
     "text": [
      "WARNING:__main__:Finished call to '__main__.submit_batch_job' after 0.375(s), this was the 1st time calling it.\n",
      "WARNING:__main__:Finished call to '__main__.submit_batch_job' after 0.375(s), this was the 1st time calling it.\n",
      "WARNING:__main__:Finished call to '__main__.submit_batch_job' after 0.359(s), this was the 1st time calling it.\n"
     ]
    },
    {
     "name": "stdout",
     "output_type": "stream",
     "text": [
      "Submit batch for file id: file-EZHqfST1ymFHUiPRLEcAVo\n",
      "Submit batch for file id: file-AvYasrXaMb2PaUBr7KsUuj\n",
      "File batch_2.jsonl uploaded successfully. File ID: file-GbbG95fXcUuHLXUkU7UBSv\n",
      "Submit batch for file id: file-GbbG95fXcUuHLXUkU7UBSv\n",
      "File batch_225.jsonl uploaded successfully. File ID: file-KeZXfSr2AaLQ9hr4KbRYYu\n",
      "Submit batch for file id: file-KeZXfSr2AaLQ9hr4KbRYYu\n",
      "Submit batch for file id: file-PG6d28LBLJVUhFFqb9y3it\n",
      "File batch_257.jsonl uploaded successfully. File ID: file-3M43s57LXh7Njd2aFcmoGU\n",
      "Submit batch for file id: file-3M43s57LXh7Njd2aFcmoGU\n",
      "Submit batch for file id: file-PBCWt6VC4PdusBVdypB6Kk\n",
      "File batch_235.jsonl uploaded successfully. File ID: file-MKsm3ivsfGq29MXMMLossD\n",
      "Submit batch for file id: file-MKsm3ivsfGq29MXMMLossD\n",
      "Submit batch for file id: file-7SAcxb657Lmspvy3jPvqEA\n"
     ]
    },
    {
     "name": "stderr",
     "output_type": "stream",
     "text": [
      "WARNING:__main__:Finished call to '__main__.submit_batch_job' after 0.328(s), this was the 1st time calling it.\n",
      "WARNING:__main__:Finished call to '__main__.submit_batch_job' after 0.328(s), this was the 1st time calling it.\n"
     ]
    },
    {
     "name": "stdout",
     "output_type": "stream",
     "text": [
      "Submit batch for file id: file-5JP5KfPcU4H7pfwYVeuGzf\n",
      "File batch_226.jsonl uploaded successfully. File ID: file-BrHvWdhETb79rkE6Vwdp9p\n",
      "Submit batch for file id: file-BrHvWdhETb79rkE6Vwdp9p\n",
      "File batch_269.jsonl uploaded successfully. File ID: file-TaBS4jG93wG8KnrhnxvsPu\n",
      "Submit batch for file id: file-TaBS4jG93wG8KnrhnxvsPu\n",
      "Submit batch for file id: file-EPiN4kAQni5obnyRf37yJX\n",
      "File batch_21.jsonl uploaded successfully. File ID: file-ASpVXbwd6tMHgsHms8CZ7f\n",
      "Submit batch for file id: file-ASpVXbwd6tMHgsHms8CZ7f\n",
      "Submit batch for file id: file-D2AGbCD8rynDVymHhZD4Uk\n",
      "Submit batch for file id: file-UJd11Zaj3nUhDRk5PnBdKb\n",
      "Submit batch for file id: file-Kn8BaWsVXTonkcGkWFHnJR\n",
      "Submit batch for file id: file-Gq1ZtdRHmkxbKX3uqBmHHa\n",
      "File batch_222.jsonl uploaded successfully. File ID: file-XpA2Tv4pKi6Zk1UbobqKBE\n",
      "Submit batch for file id: file-XpA2Tv4pKi6Zk1UbobqKBE\n"
     ]
    },
    {
     "name": "stderr",
     "output_type": "stream",
     "text": [
      "WARNING:__main__:Finished call to '__main__.submit_batch_job' after 0.360(s), this was the 1st time calling it.\n",
      "WARNING:__main__:Finished call to '__main__.submit_batch_job' after 0.312(s), this was the 1st time calling it.\n",
      "WARNING:__main__:Finished call to '__main__.submit_batch_job' after 0.313(s), this was the 1st time calling it.\n",
      "WARNING:__main__:Finished call to '__main__.submit_batch_job' after 0.375(s), this was the 1st time calling it.\n",
      "WARNING:__main__:Finished call to '__main__.submit_batch_job' after 0.703(s), this was the 1st time calling it.\n",
      "WARNING:__main__:Finished call to '__main__.submit_batch_job' after 0.328(s), this was the 1st time calling it.\n"
     ]
    },
    {
     "name": "stdout",
     "output_type": "stream",
     "text": [
      "Submit batch for file id: file-DLj9HK5z54wRKkfGkM2BDA\n",
      "Submit batch for file id: file-FB6JmWT9ujn1oyNeHZEc1w\n",
      "File batch_246.jsonl uploaded successfully. File ID: file-FfLu7p8zRRdeEV5cMYAFpq\n",
      "Submit batch for file id: file-FfLu7p8zRRdeEV5cMYAFpq\n",
      "File batch_196.jsonl uploaded successfully. File ID: file-9LBdPJkBAZbumxZZsPiT4M\n",
      "Submit batch for file id: file-9LBdPJkBAZbumxZZsPiT4M\n",
      "Submit batch for file id: file-6XD8DC3eDgnMiYMmeaf7tM\n",
      "Submit batch for file id: file-AWLD8ue4aEtao94hJzhmRo\n",
      "Submit batch for file id: file-WtCzUQsVSPL1Y65sNJEc7g\n",
      "File batch_141.jsonl uploaded successfully. File ID: file-MrKgNiAENA9k7TgtyTW5XE\n",
      "Submit batch for file id: file-MrKgNiAENA9k7TgtyTW5XE\n",
      "File batch_250.jsonl uploaded successfully. File ID: file-EHeEmhBkMdoZa9L25EaVrn\n",
      "Submit batch for file id: file-EHeEmhBkMdoZa9L25EaVrn\n",
      "Submit batch for file id: file-Mt67XkaLqcyKF6b5UKwDAi\n",
      "Submit batch for file id: file-VL7eoJqsPh3JttMQFXxcX2\n"
     ]
    },
    {
     "name": "stderr",
     "output_type": "stream",
     "text": [
      "WARNING:__main__:Finished call to '__main__.submit_batch_job' after 0.313(s), this was the 1st time calling it.\n",
      "WARNING:__main__:Finished call to '__main__.submit_batch_job' after 0.328(s), this was the 1st time calling it.\n",
      "WARNING:__main__:Finished call to '__main__.submit_batch_job' after 0.328(s), this was the 1st time calling it.\n"
     ]
    },
    {
     "name": "stdout",
     "output_type": "stream",
     "text": [
      "File batch_26.jsonl uploaded successfully. File ID: file-2Ltmg1q16gSE3FXtvNN2BS\n",
      "Submit batch for file id: file-2Ltmg1q16gSE3FXtvNN2BS\n"
     ]
    },
    {
     "name": "stderr",
     "output_type": "stream",
     "text": [
      "WARNING:__main__:Finished call to '__main__.submit_batch_job' after 0.344(s), this was the 1st time calling it.\n",
      "WARNING:__main__:Finished call to '__main__.submit_batch_job' after 0.313(s), this was the 1st time calling it.\n"
     ]
    },
    {
     "name": "stdout",
     "output_type": "stream",
     "text": [
      "Submit batch for file id: file-QxNNDkW5S234Y6vg4Jpk4g\n",
      "Submit batch for file id: file-LjX7A3bhUk5aC3iwdrnvSU\n",
      "File batch_218.jsonl uploaded successfully. File ID: file-7L78h4LMtLn4ZjS8gzLcbn\n",
      "Submit batch for file id: file-7L78h4LMtLn4ZjS8gzLcbn\n",
      "File batch_234.jsonl uploaded successfully. File ID: file-LijNRbyaSRL7Q79o6MCkuT\n",
      "Submit batch for file id: file-LijNRbyaSRL7Q79o6MCkuT\n",
      "File batch_228.jsonl uploaded successfully. File ID: file-Mrg8Mcgi9NLXkhvQF2NGxw\n",
      "Submit batch for file id: file-Mrg8Mcgi9NLXkhvQF2NGxw\n",
      "File batch_231.jsonl uploaded successfully. File ID: file-Hrggj2pPCH18WQUrtKweGp\n",
      "Submit batch for file id: file-Hrggj2pPCH18WQUrtKweGp\n"
     ]
    },
    {
     "name": "stderr",
     "output_type": "stream",
     "text": [
      "WARNING:__main__:Finished call to '__main__.submit_batch_job' after 0.359(s), this was the 1st time calling it.\n"
     ]
    },
    {
     "name": "stdout",
     "output_type": "stream",
     "text": [
      "File batch_166.jsonl uploaded successfully. File ID: file-F9yZa2Se6WBcXz4ZKxpKJa\n",
      "Submit batch for file id: file-F9yZa2Se6WBcXz4ZKxpKJa\n",
      "File batch_27.jsonl uploaded successfully. File ID: file-8STC8RdFtBqvH1PUzJXFj9\n",
      "Submit batch for file id: file-8STC8RdFtBqvH1PUzJXFj9\n",
      "Submit batch for file id: file-9neMc7wz17qcqiYswev27L\n",
      "File batch_207.jsonl uploaded successfully. File ID: file-84rTiET5w3U9WSYu4cT85m\n",
      "Submit batch for file id: file-84rTiET5w3U9WSYu4cT85m\n"
     ]
    },
    {
     "name": "stderr",
     "output_type": "stream",
     "text": [
      "WARNING:__main__:Finished call to '__main__.submit_batch_job' after 0.375(s), this was the 1st time calling it.\n",
      "WARNING:__main__:Finished call to '__main__.submit_batch_job' after 0.328(s), this was the 1st time calling it.\n",
      "WARNING:__main__:Finished call to '__main__.submit_batch_job' after 0.359(s), this was the 1st time calling it.\n",
      "WARNING:__main__:Finished call to '__main__.submit_batch_job' after 0.360(s), this was the 1st time calling it.\n",
      "WARNING:__main__:Finished call to '__main__.submit_batch_job' after 0.360(s), this was the 1st time calling it.\n",
      "WARNING:__main__:Finished call to '__main__.submit_batch_job' after 0.344(s), this was the 1st time calling it.\n"
     ]
    },
    {
     "name": "stdout",
     "output_type": "stream",
     "text": [
      "File batch_209.jsonl uploaded successfully. File ID: file-QuTXhwbkuMfzRah2zzV8xq\n",
      "Submit batch for file id: file-QuTXhwbkuMfzRah2zzV8xq\n",
      "Submit batch for file id: file-1TtRzxoA72k9yC8pbsv89H\n",
      "File batch_20.jsonl uploaded successfully. File ID: file-8MPjNtSTZ1KwAS3Ra24n4Z\n",
      "Submit batch for file id: file-8MPjNtSTZ1KwAS3Ra24n4Z\n",
      "File batch_155.jsonl uploaded successfully. File ID: file-QBoUaVBAbhaGjGF4DS97ZR\n",
      "Submit batch for file id: file-QBoUaVBAbhaGjGF4DS97ZR\n",
      "Submit batch for file id: file-UCapekh7L3faz494LsR6rL\n"
     ]
    },
    {
     "name": "stderr",
     "output_type": "stream",
     "text": [
      "WARNING:__main__:Finished call to '__main__.submit_batch_job' after 0.390(s), this was the 1st time calling it.\n",
      "WARNING:__main__:Finished call to '__main__.submit_batch_job' after 0.422(s), this was the 1st time calling it.\n"
     ]
    },
    {
     "name": "stdout",
     "output_type": "stream",
     "text": [
      "File batch_202.jsonl uploaded successfully. File ID: file-9hpFDkLex8puaBwK6a5dYf\n",
      "Submit batch for file id: file-9hpFDkLex8puaBwK6a5dYf\n",
      "File batch_230.jsonl uploaded successfully. File ID: file-Vq8MY7bSDHH7EBivkdBfzv\n",
      "Submit batch for file id: file-Vq8MY7bSDHH7EBivkdBfzv\n",
      "Submit batch for file id: file-WQ1hCJVagY6hFQBNXXWeqU\n",
      "File batch_239.jsonl uploaded successfully. File ID: file-JE7KehiLm1aVXDaZD5bbm5\n",
      "Submit batch for file id: file-JE7KehiLm1aVXDaZD5bbm5\n",
      "Submit batch for file id: file-1DC97oBbDR9b9L6J9xuwUN\n",
      "File batch_213.jsonl uploaded successfully. File ID: file-HBgr6Kd3WLarVaQ2UepwJM\n",
      "Submit batch for file id: file-HBgr6Kd3WLarVaQ2UepwJM\n"
     ]
    },
    {
     "name": "stderr",
     "output_type": "stream",
     "text": [
      "WARNING:__main__:Finished call to '__main__.submit_batch_job' after 0.390(s), this was the 1st time calling it.\n"
     ]
    },
    {
     "name": "stdout",
     "output_type": "stream",
     "text": [
      "File batch_215.jsonl uploaded successfully. File ID: file-QffWa2umHVLU4xUK4tTeDk\n",
      "Submit batch for file id: file-QffWa2umHVLU4xUK4tTeDk\n",
      "Submit batch for file id: file-H2DKafEw7tpPqYFRKAPsAS\n",
      "File batch_264.jsonl uploaded successfully. File ID: file-46QfZhZgK9puwPQx6Lagqp\n",
      "Submit batch for file id: file-46QfZhZgK9puwPQx6Lagqp\n",
      "File batch_294.jsonl uploaded successfully. File ID: file-4a3aHowwYv9mHJ7VkQyLEf\n",
      "Submit batch for file id: file-4a3aHowwYv9mHJ7VkQyLEf\n",
      "File batch_23.jsonl uploaded successfully. File ID: file-Ubg8Ffv37JpcX3ah5bgVk3\n",
      "Submit batch for file id: file-Ubg8Ffv37JpcX3ah5bgVk3\n",
      "Submit batch for file id: file-3Kd917ker4zbzSVRkHGpwC\n",
      "Submit batch for file id: file-XARqa9WH45zwwwkhgtx7y3\n"
     ]
    },
    {
     "name": "stderr",
     "output_type": "stream",
     "text": [
      "WARNING:__main__:Finished call to '__main__.submit_batch_job' after 0.953(s), this was the 1st time calling it.\n",
      "WARNING:__main__:Finished call to '__main__.submit_batch_job' after 0.953(s), this was the 1st time calling it.\n",
      "WARNING:__main__:Finished call to '__main__.submit_batch_job' after 0.797(s), this was the 1st time calling it.\n",
      "WARNING:__main__:Finished call to '__main__.submit_batch_job' after 0.719(s), this was the 1st time calling it.\n",
      "WARNING:__main__:Finished call to '__main__.submit_batch_job' after 0.812(s), this was the 1st time calling it.\n"
     ]
    },
    {
     "name": "stdout",
     "output_type": "stream",
     "text": [
      "Submit batch for file id: file-GQnoTVCR7VndXcAVBwdm6E\n",
      "Submit batch for file id: file-KKr2PrCzPicACpGM3jmm2N\n",
      "Submit batch for file id: file-4cVeyM24GbrS97QtpnzkyY\n",
      "Submit batch for file id: file-8n8TtNJ4QU7iTjLAmwu4KD\n"
     ]
    },
    {
     "name": "stderr",
     "output_type": "stream",
     "text": [
      "WARNING:__main__:Finished call to '__main__.submit_batch_job' after 0.469(s), this was the 1st time calling it.\n",
      "WARNING:__main__:Finished call to '__main__.submit_batch_job' after 0.469(s), this was the 1st time calling it.\n",
      "WARNING:__main__:Finished call to '__main__.submit_batch_job' after 0.500(s), this was the 1st time calling it.\n"
     ]
    },
    {
     "name": "stdout",
     "output_type": "stream",
     "text": [
      "File batch_245.jsonl uploaded successfully. File ID: file-Ne94NDsDQudxkAgf54bP7Q\n",
      "Submit batch for file id: file-Ne94NDsDQudxkAgf54bP7Q\n",
      "File batch_233.jsonl uploaded successfully. File ID: file-WXNS6EdEQSWSYPggnCttsN\n",
      "Submit batch for file id: file-WXNS6EdEQSWSYPggnCttsN\n",
      "File batch_282.jsonl uploaded successfully. File ID: file-7AExaetPwDrqEVPbH8yH7h\n",
      "Submit batch for file id: file-7AExaetPwDrqEVPbH8yH7h\n"
     ]
    },
    {
     "name": "stderr",
     "output_type": "stream",
     "text": [
      "WARNING:__main__:Finished call to '__main__.submit_batch_job' after 0.391(s), this was the 1st time calling it.\n",
      "WARNING:__main__:Finished call to '__main__.submit_batch_job' after 0.375(s), this was the 1st time calling it.\n"
     ]
    },
    {
     "name": "stdout",
     "output_type": "stream",
     "text": [
      "File batch_265.jsonl uploaded successfully. File ID: file-JUZxiH16PZHH7WCVER69BK\n",
      "Submit batch for file id: file-JUZxiH16PZHH7WCVER69BK\n",
      "File batch_210.jsonl uploaded successfully. File ID: file-Lf6fXJnhCfoDyWUKDzpEhY\n",
      "Submit batch for file id: file-Lf6fXJnhCfoDyWUKDzpEhY\n"
     ]
    },
    {
     "name": "stderr",
     "output_type": "stream",
     "text": [
      "WARNING:__main__:Finished call to '__main__.submit_batch_job' after 0.390(s), this was the 1st time calling it.\n",
      "WARNING:__main__:Finished call to '__main__.submit_batch_job' after 0.344(s), this was the 1st time calling it.\n"
     ]
    },
    {
     "name": "stdout",
     "output_type": "stream",
     "text": [
      "File batch_285.jsonl uploaded successfully. File ID: file-5SBs6To3ANVJf1Ubf7odTP\n",
      "Submit batch for file id: file-5SBs6To3ANVJf1Ubf7odTP\n",
      "File batch_258.jsonl uploaded successfully. File ID: file-JyUvsv2RrpUz36oGKpYABY\n",
      "Submit batch for file id: file-JyUvsv2RrpUz36oGKpYABY\n"
     ]
    },
    {
     "name": "stderr",
     "output_type": "stream",
     "text": [
      "WARNING:__main__:Finished call to '__main__.submit_batch_job' after 0.406(s), this was the 1st time calling it.\n",
      "WARNING:__main__:Finished call to '__main__.submit_batch_job' after 0.375(s), this was the 1st time calling it.\n"
     ]
    },
    {
     "name": "stdout",
     "output_type": "stream",
     "text": [
      "Submit batch for file id: file-HQy3KopReGQ4XxSRtr8zFf\n",
      "Submit batch for file id: file-WiP7RB887ZGpFxsSbnTxF3\n",
      "Submit batch for file id: file-1weuXVVN2icyC92PXCefVY\n"
     ]
    },
    {
     "name": "stderr",
     "output_type": "stream",
     "text": [
      "WARNING:__main__:Finished call to '__main__.submit_batch_job' after 0.422(s), this was the 1st time calling it.\n"
     ]
    },
    {
     "name": "stdout",
     "output_type": "stream",
     "text": [
      "File batch_276.jsonl uploaded successfully. File ID: file-QpcR7Ehpa7oMizNqxjejVr\n",
      "Submit batch for file id: file-QpcR7Ehpa7oMizNqxjejVr\n",
      "Submit batch for file id: file-RusKox4cP5mvXYPe2vzKjj\n",
      "File batch_203.jsonl uploaded successfully. File ID: file-CFSApXYfKAUGnYPuYHLZcx\n",
      "Submit batch for file id: file-CFSApXYfKAUGnYPuYHLZcx\n",
      "File batch_223.jsonl uploaded successfully. File ID: file-6F9a7NJw4jRjx1hvt7xfwZ\n",
      "Submit batch for file id: file-6F9a7NJw4jRjx1hvt7xfwZ\n",
      "Submit batch for file id: file-UmAcePcSKBczWfVhzi1CUc\n",
      "Submit batch for file id: file-MqjpxfVDJHZXuRTmUzXggp\n",
      "File batch_271.jsonl uploaded successfully. File ID: file-KB93N3dRX62zbjRnHr38yT\n",
      "Submit batch for file id: file-KB93N3dRX62zbjRnHr38yT\n",
      "File batch_256.jsonl uploaded successfully. File ID: file-Q1y94UNAcbK5d3ZqiWTd3m\n",
      "Submit batch for file id: file-Q1y94UNAcbK5d3ZqiWTd3m\n",
      "File batch_263.jsonl uploaded successfully. File ID: file-4WD4NrziSJua7SdRc3k17V\n",
      "Submit batch for file id: file-4WD4NrziSJua7SdRc3k17V\n",
      "Submit batch for file id: file-RZQfxZurqFWDwkuqyviNxb\n",
      "File batch_268.jsonl uploaded successfully. File ID: file-3Jqap9jryMbuZavWeEJWm4\n",
      "Submit batch for file id: file-3Jqap9jryMbuZavWeEJWm4\n"
     ]
    },
    {
     "name": "stderr",
     "output_type": "stream",
     "text": [
      "WARNING:__main__:Finished call to '__main__.submit_batch_job' after 0.437(s), this was the 1st time calling it.\n",
      "WARNING:__main__:Finished call to '__main__.submit_batch_job' after 0.454(s), this was the 1st time calling it.\n",
      "WARNING:__main__:Finished call to '__main__.submit_batch_job' after 0.469(s), this was the 1st time calling it.\n"
     ]
    },
    {
     "name": "stdout",
     "output_type": "stream",
     "text": [
      "Submit batch for file id: file-Y86pUud7eLJQ23JnuF7EXi\n",
      "Submit batch for file id: file-K2y1e5jtZZmttopmiskf2m\n",
      "File batch_28.jsonl uploaded successfully. File ID: file-9QHdcBjuysNEvRuT8ir5fc\n",
      "Submit batch for file id: file-9QHdcBjuysNEvRuT8ir5fc\n"
     ]
    },
    {
     "name": "stderr",
     "output_type": "stream",
     "text": [
      "WARNING:__main__:Finished call to '__main__.submit_batch_job' after 0.438(s), this was the 1st time calling it.\n",
      "WARNING:__main__:Finished call to '__main__.submit_batch_job' after 0.453(s), this was the 1st time calling it.\n",
      "WARNING:__main__:Finished call to '__main__.submit_batch_job' after 0.469(s), this was the 1st time calling it.\n",
      "WARNING:__main__:Finished call to '__main__.submit_batch_job' after 0.437(s), this was the 1st time calling it.\n",
      "WARNING:__main__:Finished call to '__main__.submit_batch_job' after 0.453(s), this was the 1st time calling it.\n"
     ]
    },
    {
     "name": "stdout",
     "output_type": "stream",
     "text": [
      "Submit batch for file id: file-GbbG95fXcUuHLXUkU7UBSv\n",
      "File batch_208.jsonl uploaded successfully. File ID: file-T9jpStdLsFSk8aNsndQKeQ\n",
      "Submit batch for file id: file-T9jpStdLsFSk8aNsndQKeQ\n",
      "Submit batch for file id: file-KeZXfSr2AaLQ9hr4KbRYYu\n",
      "File batch_205.jsonl uploaded successfully. File ID: file-TXibRn1VLSS5PV96ewPG9q\n",
      "Submit batch for file id: file-TXibRn1VLSS5PV96ewPG9q\n",
      "File batch_244.jsonl uploaded successfully. File ID: file-5k6h1jvUbpmGqzL7xjg4Gn\n",
      "Submit batch for file id: file-5k6h1jvUbpmGqzL7xjg4Gn\n",
      "Submit batch for file id: file-MKsm3ivsfGq29MXMMLossD\n",
      "Submit batch for file id: file-Sfn6y2g3SKoBBdu7meGb4K\n",
      "File batch_211.jsonl uploaded successfully. File ID: file-TFaT6E6pD2DtFH3x2aESRC\n",
      "Submit batch for file id: file-TFaT6E6pD2DtFH3x2aESRC\n",
      "Submit batch for file id: file-BrHvWdhETb79rkE6Vwdp9p\n"
     ]
    },
    {
     "name": "stderr",
     "output_type": "stream",
     "text": [
      "WARNING:__main__:Finished call to '__main__.submit_batch_job' after 0.437(s), this was the 1st time calling it.\n"
     ]
    },
    {
     "name": "stdout",
     "output_type": "stream",
     "text": [
      "Submit batch for file id: file-ASpVXbwd6tMHgsHms8CZ7f\n",
      "Submit batch for file id: file-TaBS4jG93wG8KnrhnxvsPu\n",
      "Submit batch for file id: file-3M43s57LXh7Njd2aFcmoGU\n",
      "Submit batch for file id: file-XpA2Tv4pKi6Zk1UbobqKBE\n"
     ]
    },
    {
     "name": "stderr",
     "output_type": "stream",
     "text": [
      "WARNING:__main__:Finished call to '__main__.submit_batch_job' after 0.406(s), this was the 1st time calling it.\n",
      "WARNING:__main__:Finished call to '__main__.submit_batch_job' after 0.407(s), this was the 1st time calling it.\n",
      "WARNING:__main__:Finished call to '__main__.submit_batch_job' after 0.406(s), this was the 1st time calling it.\n"
     ]
    },
    {
     "name": "stdout",
     "output_type": "stream",
     "text": [
      "File batch_303.jsonl uploaded successfully. File ID: file-WUTBx4NL1crKFUpRxcYc7e\n",
      "Submit batch for file id: file-WUTBx4NL1crKFUpRxcYc7e\n",
      "File batch_249.jsonl uploaded successfully. File ID: file-SgVJubzDMPSExd2Nuzd6pu\n",
      "Submit batch for file id: file-SgVJubzDMPSExd2Nuzd6pu\n",
      "Submit batch for file id: file-FfLu7p8zRRdeEV5cMYAFpq\n",
      "Submit batch for file id: file-9LBdPJkBAZbumxZZsPiT4M\n"
     ]
    },
    {
     "name": "stderr",
     "output_type": "stream",
     "text": [
      "WARNING:__main__:Finished call to '__main__.submit_batch_job' after 0.375(s), this was the 1st time calling it.\n",
      "WARNING:__main__:Finished call to '__main__.submit_batch_job' after 0.391(s), this was the 1st time calling it.\n"
     ]
    },
    {
     "name": "stdout",
     "output_type": "stream",
     "text": [
      "Submit batch for file id: file-MrKgNiAENA9k7TgtyTW5XE\n",
      "File batch_293.jsonl uploaded successfully. File ID: file-Aaa6eonHrnDmBfkXJ9G7oV\n",
      "Submit batch for file id: file-Aaa6eonHrnDmBfkXJ9G7oV\n",
      "Submit batch for file id: file-EHeEmhBkMdoZa9L25EaVrn\n",
      "Submit batch for file id: file-2Ltmg1q16gSE3FXtvNN2BS\n",
      "File batch_25.jsonl uploaded successfully. File ID: file-4L4kHV2ujzABGwsCpEKdYS\n",
      "Submit batch for file id: file-4L4kHV2ujzABGwsCpEKdYS\n"
     ]
    },
    {
     "name": "stderr",
     "output_type": "stream",
     "text": [
      "WARNING:__main__:Finished call to '__main__.submit_batch_job' after 0.391(s), this was the 1st time calling it.\n"
     ]
    },
    {
     "name": "stdout",
     "output_type": "stream",
     "text": [
      "File batch_296.jsonl uploaded successfully. File ID: file-DwwzJtfZVPhE9jWsnCfeZR\n",
      "Submit batch for file id: file-DwwzJtfZVPhE9jWsnCfeZR\n"
     ]
    },
    {
     "name": "stderr",
     "output_type": "stream",
     "text": [
      "WARNING:__main__:Finished call to '__main__.submit_batch_job' after 0.375(s), this was the 1st time calling it.\n",
      "WARNING:__main__:Finished call to '__main__.submit_batch_job' after 0.359(s), this was the 1st time calling it.\n"
     ]
    },
    {
     "name": "stdout",
     "output_type": "stream",
     "text": [
      "Submit batch for file id: file-7L78h4LMtLn4ZjS8gzLcbn\n",
      "Submit batch for file id: file-LijNRbyaSRL7Q79o6MCkuT\n",
      "Submit batch for file id: file-Mrg8Mcgi9NLXkhvQF2NGxw\n",
      "Submit batch for file id: file-Hrggj2pPCH18WQUrtKweGp\n",
      "Submit batch for file id: file-8STC8RdFtBqvH1PUzJXFj9\n",
      "Submit batch for file id: file-F9yZa2Se6WBcXz4ZKxpKJa\n",
      "Submit batch for file id: file-84rTiET5w3U9WSYu4cT85m\n",
      "File batch_232.jsonl uploaded successfully. File ID: file-BRehFfPmnGrDV41VjpqheB\n",
      "Submit batch for file id: file-BRehFfPmnGrDV41VjpqheB\n",
      "File batch_274.jsonl uploaded successfully. File ID: file-AnScj8EhL9YHAdQUsDUaNJ\n",
      "Submit batch for file id: file-AnScj8EhL9YHAdQUsDUaNJ\n",
      "File batch_284.jsonl uploaded successfully. File ID: file-MvA9jW3wAS3VeXvqd32ibf\n",
      "Submit batch for file id: file-MvA9jW3wAS3VeXvqd32ibf\n",
      "File batch_254.jsonl uploaded successfully. File ID: file-9E3LGoXsq7kbcXH19AUXAH\n",
      "Submit batch for file id: file-9E3LGoXsq7kbcXH19AUXAH\n"
     ]
    },
    {
     "name": "stderr",
     "output_type": "stream",
     "text": [
      "WARNING:__main__:Finished call to '__main__.submit_batch_job' after 0.375(s), this was the 1st time calling it.\n",
      "WARNING:__main__:Finished call to '__main__.submit_batch_job' after 0.359(s), this was the 1st time calling it.\n"
     ]
    },
    {
     "name": "stdout",
     "output_type": "stream",
     "text": [
      "Submit batch for file id: file-QuTXhwbkuMfzRah2zzV8xq\n",
      "File batch_229.jsonl uploaded successfully. File ID: file-7YBF14C3UvtnBeXWGekawb\n",
      "Submit batch for file id: file-7YBF14C3UvtnBeXWGekawb\n",
      "File batch_259.jsonl uploaded successfully. File ID: file-ByDUbdQETT5PgvgaZfUwcV\n",
      "Submit batch for file id: file-ByDUbdQETT5PgvgaZfUwcV\n",
      "Submit batch for file id: file-8MPjNtSTZ1KwAS3Ra24n4Z\n",
      "Submit batch for file id: file-QBoUaVBAbhaGjGF4DS97ZR\n",
      "File batch_240.jsonl uploaded successfully. File ID: file-DHcegJiB7KFmVQ9aFT73y2\n",
      "Submit batch for file id: file-DHcegJiB7KFmVQ9aFT73y2\n"
     ]
    },
    {
     "name": "stderr",
     "output_type": "stream",
     "text": [
      "WARNING:__main__:Finished call to '__main__.submit_batch_job' after 0.375(s), this was the 1st time calling it.\n",
      "WARNING:__main__:Finished call to '__main__.submit_batch_job' after 0.344(s), this was the 1st time calling it.\n",
      "WARNING:__main__:Finished call to '__main__.submit_batch_job' after 0.328(s), this was the 1st time calling it.\n",
      "WARNING:__main__:Finished call to '__main__.submit_batch_job' after 0.312(s), this was the 1st time calling it.\n"
     ]
    },
    {
     "name": "stdout",
     "output_type": "stream",
     "text": [
      "File batch_237.jsonl uploaded successfully. File ID: file-J33qhkwiCVF5nDK88UxFx3\n",
      "Submit batch for file id: file-J33qhkwiCVF5nDK88UxFx3\n",
      "File batch_260.jsonl uploaded successfully. File ID: file-4mxeqoRRJkBhd2F8HwMh3b\n",
      "Submit batch for file id: file-4mxeqoRRJkBhd2F8HwMh3b\n",
      "File batch_304.jsonl uploaded successfully. File ID: file-QF7wJfxh46iU7UtrUxnixu\n",
      "Submit batch for file id: file-QF7wJfxh46iU7UtrUxnixu\n",
      "File batch_247.jsonl uploaded successfully. File ID: file-T7eUJXbnPPVHG4VSG3QSeT\n",
      "Submit batch for file id: file-T7eUJXbnPPVHG4VSG3QSeT\n"
     ]
    },
    {
     "name": "stderr",
     "output_type": "stream",
     "text": [
      "WARNING:__main__:Finished call to '__main__.submit_batch_job' after 0.296(s), this was the 1st time calling it.\n",
      "WARNING:__main__:Finished call to '__main__.submit_batch_job' after 0.297(s), this was the 1st time calling it.\n"
     ]
    },
    {
     "name": "stdout",
     "output_type": "stream",
     "text": [
      "File batch_241.jsonl uploaded successfully. File ID: file-4Mg8rPYVTKLu2YHhDaNyUX\n",
      "Submit batch for file id: file-4Mg8rPYVTKLu2YHhDaNyUX\n",
      "File batch_24.jsonl uploaded successfully. File ID: file-XySj38C66amMfQUsduJNo8\n",
      "Submit batch for file id: file-XySj38C66amMfQUsduJNo8\n",
      "File batch_253.jsonl uploaded successfully. File ID: file-233tPtAXnN3FJeWikNSw6P\n",
      "Submit batch for file id: file-233tPtAXnN3FJeWikNSw6P\n",
      "File batch_243.jsonl uploaded successfully. File ID: file-PaN3tGWY6pioXsym64691H\n",
      "Submit batch for file id: file-PaN3tGWY6pioXsym64691H\n"
     ]
    },
    {
     "name": "stderr",
     "output_type": "stream",
     "text": [
      "WARNING:__main__:Finished call to '__main__.submit_batch_job' after 0.297(s), this was the 1st time calling it.\n",
      "WARNING:__main__:Finished call to '__main__.submit_batch_job' after 0.328(s), this was the 1st time calling it.\n",
      "WARNING:__main__:Finished call to '__main__.submit_batch_job' after 0.297(s), this was the 1st time calling it.\n"
     ]
    },
    {
     "name": "stdout",
     "output_type": "stream",
     "text": [
      "File batch_278.jsonl uploaded successfully. File ID: file-4Phphj1wLL8X2gFspuBWcD\n",
      "Submit batch for file id: file-4Phphj1wLL8X2gFspuBWcD\n",
      "File batch_262.jsonl uploaded successfully. File ID: file-AbmMYHBoedsqRjaB228tiM\n",
      "Submit batch for file id: file-AbmMYHBoedsqRjaB228tiM\n",
      "File batch_283.jsonl uploaded successfully. File ID: file-Pcf3SemnEWXH7gbE5ck3yY\n",
      "Submit batch for file id: file-Pcf3SemnEWXH7gbE5ck3yY\n"
     ]
    },
    {
     "name": "stderr",
     "output_type": "stream",
     "text": [
      "WARNING:__main__:Finished call to '__main__.submit_batch_job' after 0.312(s), this was the 1st time calling it.\n",
      "WARNING:__main__:Finished call to '__main__.submit_batch_job' after 0.297(s), this was the 1st time calling it.\n",
      "WARNING:__main__:Finished call to '__main__.submit_batch_job' after 0.313(s), this was the 1st time calling it.\n"
     ]
    },
    {
     "name": "stdout",
     "output_type": "stream",
     "text": [
      "Submit batch for file id: file-9hpFDkLex8puaBwK6a5dYf\n",
      "Submit batch for file id: file-Vq8MY7bSDHH7EBivkdBfzv\n",
      "Submit batch for file id: file-HBgr6Kd3WLarVaQ2UepwJM\n",
      "Submit batch for file id: file-QffWa2umHVLU4xUK4tTeDk\n",
      "Submit batch for file id: file-JE7KehiLm1aVXDaZD5bbm5\n",
      "File batch_251.jsonl uploaded successfully. File ID: file-QSFV23JwdAFnx24caqf8Cj\n",
      "Submit batch for file id: file-QSFV23JwdAFnx24caqf8Cj\n",
      "File batch_281.jsonl uploaded successfully. File ID: file-Dn5JJTfp9iGvZo3TAMZL5S\n",
      "Submit batch for file id: file-Dn5JJTfp9iGvZo3TAMZL5S\n",
      "Submit batch for file id: file-46QfZhZgK9puwPQx6Lagqp\n"
     ]
    },
    {
     "name": "stderr",
     "output_type": "stream",
     "text": [
      "WARNING:__main__:Finished call to '__main__.submit_batch_job' after 0.641(s), this was the 1st time calling it.\n",
      "WARNING:__main__:Finished call to '__main__.submit_batch_job' after 0.797(s), this was the 1st time calling it.\n",
      "WARNING:__main__:Finished call to '__main__.submit_batch_job' after 0.281(s), this was the 1st time calling it.\n",
      "WARNING:__main__:Finished call to '__main__.submit_batch_job' after 0.297(s), this was the 1st time calling it.\n",
      "WARNING:__main__:Finished call to '__main__.submit_batch_job' after 0.344(s), this was the 1st time calling it.\n",
      "WARNING:__main__:Finished call to '__main__.submit_batch_job' after 0.313(s), this was the 1st time calling it.\n"
     ]
    },
    {
     "name": "stdout",
     "output_type": "stream",
     "text": [
      "Submit batch for file id: file-4a3aHowwYv9mHJ7VkQyLEf\n",
      "File batch_242.jsonl uploaded successfully. File ID: file-RpbNLSHeefJMqrdKURxDQA\n",
      "Submit batch for file id: file-RpbNLSHeefJMqrdKURxDQA\n",
      "Submit batch for file id: file-Ubg8Ffv37JpcX3ah5bgVk3\n",
      "File batch_297.jsonl uploaded successfully. File ID: file-NzKKRmWzW97Df5orqJ3Fay\n",
      "Submit batch for file id: file-NzKKRmWzW97Df5orqJ3Fay\n",
      "File batch_275.jsonl uploaded successfully. File ID: file-DCtZcAb1kQNse8E5BdLLSt\n",
      "Submit batch for file id: file-DCtZcAb1kQNse8E5BdLLSt\n",
      "Submit batch for file id: file-Ne94NDsDQudxkAgf54bP7Q\n",
      "Submit batch for file id: file-7AExaetPwDrqEVPbH8yH7h\n",
      "Submit batch for file id: file-WXNS6EdEQSWSYPggnCttsN\n",
      "File batch_255.jsonl uploaded successfully. File ID: file-SA3Nk7sFigYoeiaY5sU3uc\n",
      "Submit batch for file id: file-SA3Nk7sFigYoeiaY5sU3uc\n",
      "Submit batch for file id: file-JUZxiH16PZHH7WCVER69BK\n"
     ]
    },
    {
     "name": "stderr",
     "output_type": "stream",
     "text": [
      "WARNING:__main__:Finished call to '__main__.submit_batch_job' after 0.641(s), this was the 1st time calling it.\n",
      "WARNING:__main__:Finished call to '__main__.submit_batch_job' after 0.531(s), this was the 1st time calling it.\n",
      "WARNING:__main__:Finished call to '__main__.submit_batch_job' after 0.500(s), this was the 1st time calling it.\n",
      "WARNING:__main__:Finished call to '__main__.submit_batch_job' after 0.375(s), this was the 1st time calling it.\n"
     ]
    },
    {
     "name": "stdout",
     "output_type": "stream",
     "text": [
      "Submit batch for file id: file-Lf6fXJnhCfoDyWUKDzpEhY\n",
      "File batch_267.jsonl uploaded successfully. File ID: file-J41NvT2zBZ7fMjCjXi4c8e\n",
      "Submit batch for file id: file-J41NvT2zBZ7fMjCjXi4c8e\n",
      "Submit batch for file id: file-5SBs6To3ANVJf1Ubf7odTP\n",
      "File batch_325.jsonl uploaded successfully. File ID: file-WoqMy12NNpwyD4KpdtV69w\n",
      "Submit batch for file id: file-WoqMy12NNpwyD4KpdtV69w\n"
     ]
    },
    {
     "name": "stderr",
     "output_type": "stream",
     "text": [
      "WARNING:__main__:Finished call to '__main__.submit_batch_job' after 0.359(s), this was the 1st time calling it.\n"
     ]
    },
    {
     "name": "stdout",
     "output_type": "stream",
     "text": [
      "File batch_261.jsonl uploaded successfully. File ID: file-NubwwqeMToiEKz1CUn2kBM\n",
      "Submit batch for file id: file-NubwwqeMToiEKz1CUn2kBM\n",
      "Submit batch for file id: file-JyUvsv2RrpUz36oGKpYABY\n"
     ]
    },
    {
     "name": "stderr",
     "output_type": "stream",
     "text": [
      "WARNING:__main__:Finished call to '__main__.submit_batch_job' after 0.344(s), this was the 1st time calling it.\n",
      "WARNING:__main__:Finished call to '__main__.submit_batch_job' after 0.344(s), this was the 1st time calling it.\n"
     ]
    },
    {
     "name": "stdout",
     "output_type": "stream",
     "text": [
      "File batch_270.jsonl uploaded successfully. File ID: file-AfpyVCTP8cahVWBxZ7bmn8\n",
      "Submit batch for file id: file-AfpyVCTP8cahVWBxZ7bmn8\n",
      "File batch_280.jsonl uploaded successfully. File ID: file-TpiSQVpTgnNrbre7zw24zX\n",
      "Submit batch for file id: file-TpiSQVpTgnNrbre7zw24zX\n"
     ]
    },
    {
     "name": "stderr",
     "output_type": "stream",
     "text": [
      "WARNING:__main__:Finished call to '__main__.submit_batch_job' after 0.297(s), this was the 1st time calling it.\n",
      "WARNING:__main__:Finished call to '__main__.submit_batch_job' after 0.328(s), this was the 1st time calling it.\n"
     ]
    },
    {
     "name": "stdout",
     "output_type": "stream",
     "text": [
      "File batch_252.jsonl uploaded successfully. File ID: file-FMHGoutAUvzuBckLfieXSq\n",
      "Submit batch for file id: file-FMHGoutAUvzuBckLfieXSq\n",
      "Submit batch for file id: file-QpcR7Ehpa7oMizNqxjejVr\n",
      "File batch_273.jsonl uploaded successfully. File ID: file-NU7jahUpXNTxKDcdFqKqDV\n",
      "Submit batch for file id: file-NU7jahUpXNTxKDcdFqKqDV\n",
      "File batch_295.jsonl uploaded successfully. File ID: file-QDUfF2WEjkS767sfVE6X48\n",
      "Submit batch for file id: file-QDUfF2WEjkS767sfVE6X48\n",
      "Submit batch for file id: file-CFSApXYfKAUGnYPuYHLZcx\n",
      "File batch_300.jsonl uploaded successfully. File ID: file-XuwxokJjhjkKuknpx99Wet\n",
      "Submit batch for file id: file-XuwxokJjhjkKuknpx99Wet\n",
      "File batch_291.jsonl uploaded successfully. File ID: file-EZCf3xxGdUQG64VnHbbQC7\n",
      "Submit batch for file id: file-EZCf3xxGdUQG64VnHbbQC7\n",
      "File batch_266.jsonl uploaded successfully. File ID: file-AhYpTwxW2VRxanDHEUwvuk\n",
      "Submit batch for file id: file-AhYpTwxW2VRxanDHEUwvuk\n"
     ]
    },
    {
     "name": "stderr",
     "output_type": "stream",
     "text": [
      "WARNING:__main__:Finished call to '__main__.submit_batch_job' after 0.328(s), this was the 1st time calling it.\n",
      "WARNING:__main__:Finished call to '__main__.submit_batch_job' after 0.344(s), this was the 1st time calling it.\n"
     ]
    },
    {
     "name": "stdout",
     "output_type": "stream",
     "text": [
      "Submit batch for file id: file-6F9a7NJw4jRjx1hvt7xfwZ\n",
      "File batch_309.jsonl uploaded successfully. File ID: file-TwuXb97KRrBLNe9qECTPEv\n",
      "Submit batch for file id: file-TwuXb97KRrBLNe9qECTPEv\n",
      "File batch_236.jsonl uploaded successfully. File ID: file-TJ4b9bEh8TYxbjsKHjUU1k\n",
      "Submit batch for file id: file-TJ4b9bEh8TYxbjsKHjUU1k\n",
      "Submit batch for file id: file-KB93N3dRX62zbjRnHr38yT\n",
      "File batch_286.jsonl uploaded successfully. File ID: file-DgufWyLBVkzRjX5JkUTVWh\n",
      "Submit batch for file id: file-DgufWyLBVkzRjX5JkUTVWh\n"
     ]
    },
    {
     "name": "stderr",
     "output_type": "stream",
     "text": [
      "WARNING:__main__:Finished call to '__main__.submit_batch_job' after 0.390(s), this was the 1st time calling it.\n",
      "WARNING:__main__:Finished call to '__main__.submit_batch_job' after 0.344(s), this was the 1st time calling it.\n",
      "WARNING:__main__:Finished call to '__main__.submit_batch_job' after 0.360(s), this was the 1st time calling it.\n",
      "WARNING:__main__:Finished call to '__main__.submit_batch_job' after 0.375(s), this was the 1st time calling it.\n"
     ]
    },
    {
     "name": "stdout",
     "output_type": "stream",
     "text": [
      "Submit batch for file id: file-4WD4NrziSJua7SdRc3k17V\n",
      "Submit batch for file id: file-Q1y94UNAcbK5d3ZqiWTd3m\n",
      "Submit batch for file id: file-3Jqap9jryMbuZavWeEJWm4\n",
      "Submit batch for file id: file-9QHdcBjuysNEvRuT8ir5fc\n"
     ]
    },
    {
     "name": "stderr",
     "output_type": "stream",
     "text": [
      "WARNING:__main__:Finished call to '__main__.submit_batch_job' after 0.359(s), this was the 1st time calling it.\n",
      "WARNING:__main__:Finished call to '__main__.submit_batch_job' after 0.375(s), this was the 1st time calling it.\n",
      "WARNING:__main__:Finished call to '__main__.submit_batch_job' after 0.375(s), this was the 1st time calling it.\n",
      "WARNING:__main__:Finished call to '__main__.submit_batch_job' after 5.828(s), this was the 2nd time calling it.\n"
     ]
    },
    {
     "name": "stdout",
     "output_type": "stream",
     "text": [
      "File batch_272.jsonl uploaded successfully. File ID: file-QQNfXqPKm2AFyuvHJHGKnL\n",
      "Submit batch for file id: file-QQNfXqPKm2AFyuvHJHGKnL\n",
      "File batch_238.jsonl uploaded successfully. File ID: file-HLac8aTUBq2Ne2UPDMpoLq\n",
      "Submit batch for file id: file-HLac8aTUBq2Ne2UPDMpoLq\n"
     ]
    },
    {
     "name": "stderr",
     "output_type": "stream",
     "text": [
      "WARNING:__main__:Finished call to '__main__.submit_batch_job' after 0.391(s), this was the 1st time calling it.\n"
     ]
    },
    {
     "name": "stdout",
     "output_type": "stream",
     "text": [
      "File batch_372.jsonl uploaded successfully. File ID: file-2XzbKDc3oNhmgGNBTDpHaM\n",
      "Submit batch for file id: file-2XzbKDc3oNhmgGNBTDpHaM\n",
      "Submit batch for file id: file-T9jpStdLsFSk8aNsndQKeQ\n",
      "Submit batch for file id: file-TXibRn1VLSS5PV96ewPG9q\n",
      "File batch_277.jsonl uploaded successfully. File ID: file-DMtVF1cq3dqPv7imHcbx4J\n",
      "Submit batch for file id: file-DMtVF1cq3dqPv7imHcbx4J\n",
      "Submit batch for file id: file-5k6h1jvUbpmGqzL7xjg4Gn\n",
      "Submit batch for file id: file-TFaT6E6pD2DtFH3x2aESRC\n"
     ]
    },
    {
     "name": "stderr",
     "output_type": "stream",
     "text": [
      "WARNING:__main__:Finished call to '__main__.submit_batch_job' after 0.438(s), this was the 1st time calling it.\n",
      "WARNING:__main__:Finished call to '__main__.submit_batch_job' after 0.406(s), this was the 1st time calling it.\n",
      "WARNING:__main__:Finished call to '__main__.submit_batch_job' after 0.406(s), this was the 1st time calling it.\n"
     ]
    },
    {
     "name": "stdout",
     "output_type": "stream",
     "text": [
      "File batch_348.jsonl uploaded successfully. File ID: file-FLoV1jnTC1CE51PhbBsVyF\n",
      "Submit batch for file id: file-FLoV1jnTC1CE51PhbBsVyF\n",
      "File batch_29.jsonl uploaded successfully. File ID: file-4UUBuBdpQgdKvzHJSuC8C6\n",
      "Submit batch for file id: file-4UUBuBdpQgdKvzHJSuC8C6\n",
      "Submit batch for file id: file-WUTBx4NL1crKFUpRxcYc7e\n",
      "Submit batch for file id: file-SgVJubzDMPSExd2Nuzd6pu\n"
     ]
    },
    {
     "name": "stderr",
     "output_type": "stream",
     "text": [
      "WARNING:__main__:Finished call to '__main__.submit_batch_job' after 0.453(s), this was the 1st time calling it.\n"
     ]
    },
    {
     "name": "stdout",
     "output_type": "stream",
     "text": [
      "Submit batch for file id: file-Aaa6eonHrnDmBfkXJ9G7oV\n",
      "Submit batch for file id: file-4L4kHV2ujzABGwsCpEKdYS\n",
      "Submit batch for file id: file-DwwzJtfZVPhE9jWsnCfeZR\n"
     ]
    },
    {
     "name": "stderr",
     "output_type": "stream",
     "text": [
      "WARNING:__main__:Finished call to '__main__.submit_batch_job' after 1.079(s), this was the 1st time calling it.\n"
     ]
    },
    {
     "name": "stdout",
     "output_type": "stream",
     "text": [
      "File batch_305.jsonl uploaded successfully. File ID: file-N1qvSo9aoPWYSgSWXaXZ7z\n",
      "Submit batch for file id: file-N1qvSo9aoPWYSgSWXaXZ7z\n",
      "File batch_30.jsonl uploaded successfully. File ID: file-QtbZL6tHmRzD1KySbRSojf\n",
      "Submit batch for file id: file-QtbZL6tHmRzD1KySbRSojf\n",
      "File batch_287.jsonl uploaded successfully. File ID: file-Vbsj8VnhZGYt7XgjbSydCb\n",
      "Submit batch for file id: file-Vbsj8VnhZGYt7XgjbSydCb\n",
      "File batch_319.jsonl uploaded successfully. File ID: file-2MC7TaaAr4dkftq6fFnZQG\n",
      "Submit batch for file id: file-2MC7TaaAr4dkftq6fFnZQG\n",
      "Submit batch for file id: file-BRehFfPmnGrDV41VjpqheB\n",
      "Submit batch for file id: file-AnScj8EhL9YHAdQUsDUaNJ\n",
      "Submit batch for file id: file-MvA9jW3wAS3VeXvqd32ibf\n",
      "File batch_3.jsonl uploaded successfully. File ID: file-Q8Gnm5pXy82NjV9WfWiZ7T\n",
      "Submit batch for file id: file-Q8Gnm5pXy82NjV9WfWiZ7T\n",
      "File batch_292.jsonl uploaded successfully. File ID: file-3UBWgPuCGKJ5q22TWXkmJT\n",
      "Submit batch for file id: file-3UBWgPuCGKJ5q22TWXkmJT\n",
      "File batch_299.jsonl uploaded successfully. File ID: file-F88h5Uk7ehNnX47r63WyyR\n",
      "Submit batch for file id: file-F88h5Uk7ehNnX47r63WyyR\n"
     ]
    },
    {
     "name": "stderr",
     "output_type": "stream",
     "text": [
      "WARNING:__main__:Finished call to '__main__.submit_batch_job' after 0.422(s), this was the 1st time calling it.\n"
     ]
    },
    {
     "name": "stdout",
     "output_type": "stream",
     "text": [
      "Submit batch for file id: file-9E3LGoXsq7kbcXH19AUXAH\n",
      "Submit batch for file id: file-7YBF14C3UvtnBeXWGekawb\n",
      "Submit batch for file id: file-ByDUbdQETT5PgvgaZfUwcV\n",
      "File batch_302.jsonl uploaded successfully. File ID: file-5S94rp8vZBgUuatwzycyoc\n",
      "Submit batch for file id: file-5S94rp8vZBgUuatwzycyoc\n",
      "Submit batch for file id: file-DHcegJiB7KFmVQ9aFT73y2\n",
      "File batch_290.jsonl uploaded successfully. File ID: file-2AVzgX5Y8RwqRfxzPwPng8\n",
      "Submit batch for file id: file-2AVzgX5Y8RwqRfxzPwPng8\n"
     ]
    },
    {
     "name": "stderr",
     "output_type": "stream",
     "text": [
      "WARNING:__main__:Finished call to '__main__.submit_batch_job' after 0.766(s), this was the 1st time calling it.\n",
      "WARNING:__main__:Finished call to '__main__.submit_batch_job' after 0.813(s), this was the 1st time calling it.\n"
     ]
    },
    {
     "name": "stdout",
     "output_type": "stream",
     "text": [
      "File batch_355.jsonl uploaded successfully. File ID: file-3iGHHm8HTTgLU41De48z6P\n",
      "Submit batch for file id: file-3iGHHm8HTTgLU41De48z6P\n",
      "Submit batch for file id: file-J33qhkwiCVF5nDK88UxFx3\n",
      "File batch_306.jsonl uploaded successfully. File ID: file-M2fPBFZVGiMYPfi6ebhnZb\n",
      "Submit batch for file id: file-M2fPBFZVGiMYPfi6ebhnZb\n",
      "Submit batch for file id: file-QF7wJfxh46iU7UtrUxnixu\n"
     ]
    },
    {
     "name": "stderr",
     "output_type": "stream",
     "text": [
      "WARNING:__main__:Finished call to '__main__.submit_batch_job' after 0.672(s), this was the 1st time calling it.\n",
      "WARNING:__main__:Finished call to '__main__.submit_batch_job' after 0.484(s), this was the 1st time calling it.\n",
      "WARNING:__main__:Finished call to '__main__.submit_batch_job' after 0.484(s), this was the 1st time calling it.\n",
      "WARNING:__main__:Finished call to '__main__.submit_batch_job' after 0.484(s), this was the 1st time calling it.\n",
      "WARNING:__main__:Finished call to '__main__.submit_batch_job' after 0.406(s), this was the 1st time calling it.\n",
      "WARNING:__main__:Finished call to '__main__.submit_batch_job' after 0.406(s), this was the 1st time calling it.\n"
     ]
    },
    {
     "name": "stdout",
     "output_type": "stream",
     "text": [
      "File batch_301.jsonl uploaded successfully. File ID: file-8jhq1LgpBuNCYUM74Wki7p\n",
      "Submit batch for file id: file-8jhq1LgpBuNCYUM74Wki7p\n",
      "Submit batch for file id: file-T7eUJXbnPPVHG4VSG3QSeT\n",
      "Submit batch for file id: file-XySj38C66amMfQUsduJNo8\n"
     ]
    },
    {
     "name": "stderr",
     "output_type": "stream",
     "text": [
      "WARNING:__main__:Finished call to '__main__.submit_batch_job' after 0.437(s), this was the 1st time calling it.\n",
      "WARNING:__main__:Finished call to '__main__.submit_batch_job' after 0.375(s), this was the 1st time calling it.\n",
      "WARNING:__main__:Finished call to '__main__.submit_batch_job' after 0.359(s), this was the 1st time calling it.\n"
     ]
    },
    {
     "name": "stdout",
     "output_type": "stream",
     "text": [
      "Submit batch for file id: file-233tPtAXnN3FJeWikNSw6P\n",
      "Submit batch for file id: file-PaN3tGWY6pioXsym64691H\n",
      "File batch_342.jsonl uploaded successfully. File ID: file-C9YPTJUjuQ3YwsMRSYi57X\n",
      "Submit batch for file id: file-C9YPTJUjuQ3YwsMRSYi57X\n",
      "Submit batch for file id: file-4Phphj1wLL8X2gFspuBWcD\n",
      "Submit batch for file id: file-4Mg8rPYVTKLu2YHhDaNyUX\n",
      "Submit batch for file id: file-4mxeqoRRJkBhd2F8HwMh3b\n",
      "Submit batch for file id: file-AbmMYHBoedsqRjaB228tiM\n",
      "Submit batch for file id: file-Pcf3SemnEWXH7gbE5ck3yY\n",
      "Submit batch for file id: file-Dn5JJTfp9iGvZo3TAMZL5S\n",
      "Submit batch for file id: file-QSFV23JwdAFnx24caqf8Cj\n"
     ]
    },
    {
     "name": "stderr",
     "output_type": "stream",
     "text": [
      "WARNING:__main__:Finished call to '__main__.submit_batch_job' after 0.422(s), this was the 1st time calling it.\n"
     ]
    },
    {
     "name": "stdout",
     "output_type": "stream",
     "text": [
      "File batch_314.jsonl uploaded successfully. File ID: file-T8zTV5a2gdXr9XLwcXihjP\n",
      "Submit batch for file id: file-T8zTV5a2gdXr9XLwcXihjP\n",
      "File batch_340.jsonl uploaded successfully. File ID: file-Q3nAh4mS6MAXDKjkWrbYBv\n",
      "Submit batch for file id: file-Q3nAh4mS6MAXDKjkWrbYBv\n"
     ]
    },
    {
     "name": "stderr",
     "output_type": "stream",
     "text": [
      "WARNING:__main__:Finished call to '__main__.submit_batch_job' after 0.406(s), this was the 1st time calling it.\n"
     ]
    },
    {
     "name": "stdout",
     "output_type": "stream",
     "text": [
      "File batch_329.jsonl uploaded successfully. File ID: file-2fXDtEf9HWQp16vYJRKbW7\n",
      "Submit batch for file id: file-2fXDtEf9HWQp16vYJRKbW7\n",
      "Submit batch for file id: file-RpbNLSHeefJMqrdKURxDQA\n",
      "File batch_289.jsonl uploaded successfully. File ID: file-UhbpDxHDRRjVjEu9ssaCGE\n",
      "Submit batch for file id: file-UhbpDxHDRRjVjEu9ssaCGE\n",
      "Submit batch for file id: file-NzKKRmWzW97Df5orqJ3Fay\n",
      "Submit batch for file id: file-DCtZcAb1kQNse8E5BdLLSt\n",
      "File batch_345.jsonl uploaded successfully. File ID: file-8UAk9kX5rpzBaw4XdxDPHC\n",
      "Submit batch for file id: file-8UAk9kX5rpzBaw4XdxDPHC\n",
      "Submit batch for file id: file-SA3Nk7sFigYoeiaY5sU3uc\n"
     ]
    },
    {
     "name": "stderr",
     "output_type": "stream",
     "text": [
      "WARNING:__main__:Finished call to '__main__.submit_batch_job' after 0.453(s), this was the 1st time calling it.\n",
      "WARNING:__main__:Finished call to '__main__.submit_batch_job' after 0.500(s), this was the 1st time calling it.\n",
      "WARNING:__main__:Finished call to '__main__.submit_batch_job' after 0.453(s), this was the 1st time calling it.\n",
      "WARNING:__main__:Finished call to '__main__.submit_batch_job' after 5.953(s), this was the 2nd time calling it.\n",
      "WARNING:__main__:Finished call to '__main__.submit_batch_job' after 0.422(s), this was the 1st time calling it.\n"
     ]
    },
    {
     "name": "stdout",
     "output_type": "stream",
     "text": [
      "Submit batch for file id: file-J41NvT2zBZ7fMjCjXi4c8e\n",
      "Submit batch for file id: file-WoqMy12NNpwyD4KpdtV69w\n",
      "File batch_33.jsonl uploaded successfully. File ID: file-2GktNG8Fgh57fMM32WsWUc\n",
      "Submit batch for file id: file-2GktNG8Fgh57fMM32WsWUc\n",
      "Submit batch for file id: file-NubwwqeMToiEKz1CUn2kBM\n",
      "Submit batch for file id: file-AfpyVCTP8cahVWBxZ7bmn8\n",
      "Submit batch for file id: file-TpiSQVpTgnNrbre7zw24zX\n",
      "File batch_315.jsonl uploaded successfully. File ID: file-UuFN5cRUBU8YwzcWz7WHDW\n",
      "Submit batch for file id: file-UuFN5cRUBU8YwzcWz7WHDW\n"
     ]
    },
    {
     "name": "stderr",
     "output_type": "stream",
     "text": [
      "WARNING:__main__:Finished call to '__main__.submit_batch_job' after 0.531(s), this was the 1st time calling it.\n"
     ]
    },
    {
     "name": "stdout",
     "output_type": "stream",
     "text": [
      "Submit batch for file id: file-FMHGoutAUvzuBckLfieXSq\n",
      "Submit batch for file id: file-NU7jahUpXNTxKDcdFqKqDV\n",
      "File batch_316.jsonl uploaded successfully. File ID: file-XQ7TSQWCDhBiiVZJkdscMM\n",
      "Submit batch for file id: file-XQ7TSQWCDhBiiVZJkdscMM\n",
      "Submit batch for file id: file-QDUfF2WEjkS767sfVE6X48\n"
     ]
    },
    {
     "name": "stderr",
     "output_type": "stream",
     "text": [
      "WARNING:__main__:Finished call to '__main__.submit_batch_job' after 0.531(s), this was the 1st time calling it.\n"
     ]
    },
    {
     "name": "stdout",
     "output_type": "stream",
     "text": [
      "Submit batch for file id: file-EZCf3xxGdUQG64VnHbbQC7\n",
      "Submit batch for file id: file-XuwxokJjhjkKuknpx99Wet\n",
      "Submit batch for file id: file-AhYpTwxW2VRxanDHEUwvuk\n",
      "File batch_310.jsonl uploaded successfully. File ID: file-Q4ijcGU2MDnmFgQo7eme3R\n",
      "Submit batch for file id: file-Q4ijcGU2MDnmFgQo7eme3R\n",
      "Submit batch for file id: file-TJ4b9bEh8TYxbjsKHjUU1k\n",
      "Submit batch for file id: file-TwuXb97KRrBLNe9qECTPEv\n",
      "Submit batch for file id: file-DgufWyLBVkzRjX5JkUTVWh\n"
     ]
    },
    {
     "name": "stderr",
     "output_type": "stream",
     "text": [
      "WARNING:__main__:Finished call to '__main__.submit_batch_job' after 0.515(s), this was the 1st time calling it.\n"
     ]
    },
    {
     "name": "stdout",
     "output_type": "stream",
     "text": [
      "File batch_330.jsonl uploaded successfully. File ID: file-V5cYuxPWYf6haNzQfn666Y\n",
      "Submit batch for file id: file-V5cYuxPWYf6haNzQfn666Y\n",
      "File batch_344.jsonl uploaded successfully. File ID: file-88MsoJMotSSdgMZZQHmUsf\n",
      "Submit batch for file id: file-88MsoJMotSSdgMZZQHmUsf\n",
      "File batch_288.jsonl uploaded successfully. File ID: file-1KBbPBwKpLgcSmwyKnxAdL\n",
      "Submit batch for file id: file-1KBbPBwKpLgcSmwyKnxAdL\n",
      "File batch_312.jsonl uploaded successfully. File ID: file-9sQT68kJppbanW6aKCEvg2\n",
      "Submit batch for file id: file-9sQT68kJppbanW6aKCEvg2\n"
     ]
    },
    {
     "name": "stderr",
     "output_type": "stream",
     "text": [
      "WARNING:__main__:Finished call to '__main__.submit_batch_job' after 0.484(s), this was the 1st time calling it.\n"
     ]
    },
    {
     "name": "stdout",
     "output_type": "stream",
     "text": [
      "File batch_31.jsonl uploaded successfully. File ID: file-KmE7z4sf4SrFvHUbk3iKiV\n",
      "Submit batch for file id: file-KmE7z4sf4SrFvHUbk3iKiV\n",
      "Submit batch for file id: file-QQNfXqPKm2AFyuvHJHGKnL\n",
      "File batch_359.jsonl uploaded successfully. File ID: file-TvwDRcbEQRBNgqytNJVurE\n",
      "Submit batch for file id: file-TvwDRcbEQRBNgqytNJVurE\n",
      "File batch_324.jsonl uploaded successfully. File ID: file-WSY4tom2Htqvp2D2XtYugo\n",
      "Submit batch for file id: file-WSY4tom2Htqvp2D2XtYugo\n"
     ]
    },
    {
     "name": "stderr",
     "output_type": "stream",
     "text": [
      "WARNING:__main__:Finished call to '__main__.submit_batch_job' after 0.421(s), this was the 1st time calling it.\n",
      "WARNING:__main__:Finished call to '__main__.submit_batch_job' after 0.453(s), this was the 1st time calling it.\n",
      "WARNING:__main__:Finished call to '__main__.submit_batch_job' after 0.406(s), this was the 1st time calling it.\n",
      "WARNING:__main__:Finished call to '__main__.submit_batch_job' after 0.453(s), this was the 1st time calling it.\n"
     ]
    },
    {
     "name": "stdout",
     "output_type": "stream",
     "text": [
      "Submit batch for file id: file-HLac8aTUBq2Ne2UPDMpoLq\n",
      "Submit batch for file id: file-2XzbKDc3oNhmgGNBTDpHaM\n",
      "File batch_34.jsonl uploaded successfully. File ID: file-SK7V9N56wsqrJBMK7sNdMx\n",
      "Submit batch for file id: file-SK7V9N56wsqrJBMK7sNdMx\n",
      "File batch_326.jsonl uploaded successfully. File ID: file-4GWZ4dUbAWgyquFqqBeJiP\n",
      "Submit batch for file id: file-4GWZ4dUbAWgyquFqqBeJiP\n",
      "Submit batch for file id: file-DMtVF1cq3dqPv7imHcbx4J\n"
     ]
    },
    {
     "name": "stderr",
     "output_type": "stream",
     "text": [
      "WARNING:__main__:Finished call to '__main__.submit_batch_job' after 0.531(s), this was the 1st time calling it.\n",
      "WARNING:__main__:Finished call to '__main__.submit_batch_job' after 0.360(s), this was the 1st time calling it.\n",
      "WARNING:__main__:Finished call to '__main__.submit_batch_job' after 0.484(s), this was the 1st time calling it.\n",
      "WARNING:__main__:Finished call to '__main__.submit_batch_job' after 0.625(s), this was the 1st time calling it.\n",
      "WARNING:__main__:Finished call to '__main__.submit_batch_job' after 0.469(s), this was the 1st time calling it.\n"
     ]
    },
    {
     "name": "stdout",
     "output_type": "stream",
     "text": [
      "File batch_317.jsonl uploaded successfully. File ID: file-SPGQYmrkQioZ9dGRfWmZat\n",
      "Submit batch for file id: file-SPGQYmrkQioZ9dGRfWmZat\n",
      "File batch_32.jsonl uploaded successfully. File ID: file-MKM5g1oChwzDNURrxM73aE\n",
      "Submit batch for file id: file-MKM5g1oChwzDNURrxM73aE\n",
      "Submit batch for file id: file-4WD4NrziSJua7SdRc3k17V\n",
      "Submit batch for file id: file-4UUBuBdpQgdKvzHJSuC8C6\n"
     ]
    },
    {
     "name": "stderr",
     "output_type": "stream",
     "text": [
      "WARNING:__main__:Finished call to '__main__.submit_batch_job' after 0.453(s), this was the 1st time calling it.\n",
      "WARNING:__main__:Finished call to '__main__.submit_batch_job' after 0.454(s), this was the 1st time calling it.\n"
     ]
    },
    {
     "name": "stdout",
     "output_type": "stream",
     "text": [
      "File batch_54.jsonl uploaded successfully. File ID: file-F6bdYEYnB37jMEHyBZYRdw\n",
      "Submit batch for file id: file-F6bdYEYnB37jMEHyBZYRdw\n",
      "File batch_308.jsonl uploaded successfully. File ID: file-2SMBuhsySwVMVRUy5Q8evy\n",
      "Submit batch for file id: file-2SMBuhsySwVMVRUy5Q8evy\n"
     ]
    },
    {
     "name": "stderr",
     "output_type": "stream",
     "text": [
      "WARNING:__main__:Finished call to '__main__.submit_batch_job' after 0.422(s), this was the 1st time calling it.\n"
     ]
    },
    {
     "name": "stdout",
     "output_type": "stream",
     "text": [
      "File batch_37.jsonl uploaded successfully. File ID: file-VWakNrN2exV4wWRF6EhbPW\n",
      "Submit batch for file id: file-VWakNrN2exV4wWRF6EhbPW\n",
      "File batch_35.jsonl uploaded successfully. File ID: file-2jyAyZiAUjteTukuK35NB6\n",
      "Submit batch for file id: file-2jyAyZiAUjteTukuK35NB6\n",
      "File batch_332.jsonl uploaded successfully. File ID: file-6gPyR5mxt2Z1u2NnFs2ADR\n",
      "Submit batch for file id: file-6gPyR5mxt2Z1u2NnFs2ADR\n",
      "File batch_339.jsonl uploaded successfully. File ID: file-WS5FAGYcmFWhaMwvqeqHNw\n",
      "Submit batch for file id: file-WS5FAGYcmFWhaMwvqeqHNw\n",
      "Submit batch for file id: file-FLoV1jnTC1CE51PhbBsVyF\n"
     ]
    },
    {
     "name": "stderr",
     "output_type": "stream",
     "text": [
      "WARNING:__main__:Finished call to '__main__.submit_batch_job' after 0.406(s), this was the 1st time calling it.\n"
     ]
    },
    {
     "name": "stdout",
     "output_type": "stream",
     "text": [
      "File batch_321.jsonl uploaded successfully. File ID: file-BcY6crxbgCYgyFrQRaz6Pt\n",
      "Submit batch for file id: file-BcY6crxbgCYgyFrQRaz6Pt\n",
      "File batch_338.jsonl uploaded successfully. File ID: file-QpFW9gwRjSDHyAeUgTpAQV\n",
      "Submit batch for file id: file-QpFW9gwRjSDHyAeUgTpAQV\n",
      "File batch_311.jsonl uploaded successfully. File ID: file-W4PvSGzes5aqB17Y1smkCh\n",
      "Submit batch for file id: file-W4PvSGzes5aqB17Y1smkCh\n",
      "File batch_298.jsonl uploaded successfully. File ID: file-JAMEqTTNVxndn5Npb8wtka\n",
      "Submit batch for file id: file-JAMEqTTNVxndn5Npb8wtka\n"
     ]
    },
    {
     "name": "stderr",
     "output_type": "stream",
     "text": [
      "WARNING:__main__:Finished call to '__main__.submit_batch_job' after 0.406(s), this was the 1st time calling it.\n",
      "WARNING:__main__:Finished call to '__main__.submit_batch_job' after 0.422(s), this was the 1st time calling it.\n",
      "WARNING:__main__:Finished call to '__main__.submit_batch_job' after 0.421(s), this was the 1st time calling it.\n",
      "WARNING:__main__:Finished call to '__main__.submit_batch_job' after 0.421(s), this was the 1st time calling it.\n"
     ]
    },
    {
     "name": "stdout",
     "output_type": "stream",
     "text": [
      "File batch_346.jsonl uploaded successfully. File ID: file-BgRPvkoMoqXDM66KTaMxfM\n",
      "Submit batch for file id: file-BgRPvkoMoqXDM66KTaMxfM\n",
      "File batch_38.jsonl uploaded successfully. File ID: file-HLFTuazmdsKCPFdEGwfAYx\n",
      "Submit batch for file id: file-HLFTuazmdsKCPFdEGwfAYx\n",
      "File batch_5.jsonl uploaded successfully. File ID: file-W6xedKAk9Zwkn5QYeWKs7N\n",
      "Submit batch for file id: file-W6xedKAk9Zwkn5QYeWKs7N\n",
      "File batch_368.jsonl uploaded successfully. File ID: file-VmtMXGxF7wcXrFcGLDeUZh\n",
      "Submit batch for file id: file-VmtMXGxF7wcXrFcGLDeUZh\n"
     ]
    },
    {
     "name": "stderr",
     "output_type": "stream",
     "text": [
      "WARNING:__main__:Finished call to '__main__.submit_batch_job' after 0.469(s), this was the 1st time calling it.\n",
      "WARNING:__main__:Finished call to '__main__.submit_batch_job' after 0.453(s), this was the 1st time calling it.\n",
      "WARNING:__main__:Finished call to '__main__.submit_batch_job' after 0.468(s), this was the 1st time calling it.\n",
      "WARNING:__main__:Finished call to '__main__.submit_batch_job' after 0.469(s), this was the 1st time calling it.\n",
      "WARNING:__main__:Finished call to '__main__.submit_batch_job' after 0.469(s), this was the 1st time calling it.\n"
     ]
    },
    {
     "name": "stdout",
     "output_type": "stream",
     "text": [
      "File batch_343.jsonl uploaded successfully. File ID: file-DbPeHtJ6fBgf4DZeeUnmNn\n",
      "Submit batch for file id: file-DbPeHtJ6fBgf4DZeeUnmNn\n",
      "Submit batch for file id: file-2MC7TaaAr4dkftq6fFnZQG\n",
      "Submit batch for file id: file-N1qvSo9aoPWYSgSWXaXZ7z\n",
      "Submit batch for file id: file-QtbZL6tHmRzD1KySbRSojf\n",
      "File batch_307.jsonl uploaded successfully. File ID: file-XL1vWF5Dk46HD2WWcsWmiH\n",
      "Submit batch for file id: file-XL1vWF5Dk46HD2WWcsWmiH\n"
     ]
    },
    {
     "name": "stderr",
     "output_type": "stream",
     "text": [
      "WARNING:__main__:Finished call to '__main__.submit_batch_job' after 0.437(s), this was the 1st time calling it.\n",
      "WARNING:__main__:Finished call to '__main__.submit_batch_job' after 0.437(s), this was the 1st time calling it.\n",
      "WARNING:__main__:Finished call to '__main__.submit_batch_job' after 0.468(s), this was the 1st time calling it.\n",
      "WARNING:__main__:Finished call to '__main__.submit_batch_job' after 18.922(s), this was the 1st time calling it.\n"
     ]
    },
    {
     "name": "stdout",
     "output_type": "stream",
     "text": [
      "File batch_367.jsonl uploaded successfully. File ID: file-MDqCg3P15rFoep9KXowkbK\n",
      "Submit batch for file id: file-MDqCg3P15rFoep9KXowkbK\n",
      "File batch_337.jsonl uploaded successfully. File ID: file-8MkDuQwXcvJQZPkr1WRpzN\n",
      "Submit batch for file id: file-8MkDuQwXcvJQZPkr1WRpzN\n",
      "Submit batch for file id: file-Vbsj8VnhZGYt7XgjbSydCb\n",
      "Submit batch for file id: file-Q8Gnm5pXy82NjV9WfWiZ7T\n",
      "Submit batch for file id: file-F88h5Uk7ehNnX47r63WyyR\n",
      "Submit batch for file id: file-3UBWgPuCGKJ5q22TWXkmJT\n",
      "Submit batch for file id: file-5S94rp8vZBgUuatwzycyoc\n",
      "File batch_318.jsonl uploaded successfully. File ID: file-PdemxDdFGttGVSVpNmnkCU\n",
      "Submit batch for file id: file-PdemxDdFGttGVSVpNmnkCU\n",
      "File batch_350.jsonl uploaded successfully. File ID: file-VZp9Bu1g5yFU3AmFoqNGRF\n",
      "Submit batch for file id: file-VZp9Bu1g5yFU3AmFoqNGRF\n",
      "Submit batch for file id: file-2AVzgX5Y8RwqRfxzPwPng8\n"
     ]
    },
    {
     "name": "stderr",
     "output_type": "stream",
     "text": [
      "WARNING:__main__:Finished call to '__main__.submit_batch_job' after 0.422(s), this was the 1st time calling it.\n",
      "WARNING:__main__:Finished call to '__main__.submit_batch_job' after 6.219(s), this was the 2nd time calling it.\n",
      "WARNING:__main__:Finished call to '__main__.submit_batch_job' after 0.391(s), this was the 1st time calling it.\n"
     ]
    },
    {
     "name": "stdout",
     "output_type": "stream",
     "text": [
      "Submit batch for file id: file-3iGHHm8HTTgLU41De48z6P\n",
      "File batch_328.jsonl uploaded successfully. File ID: file-PHYb6NuxAo4rdUe3sTykUW\n",
      "Submit batch for file id: file-PHYb6NuxAo4rdUe3sTykUW\n",
      "Submit batch for file id: file-M2fPBFZVGiMYPfi6ebhnZb\n",
      "Submit batch for file id: file-8jhq1LgpBuNCYUM74Wki7p\n"
     ]
    },
    {
     "name": "stderr",
     "output_type": "stream",
     "text": [
      "WARNING:__main__:Finished call to '__main__.submit_batch_job' after 0.406(s), this was the 1st time calling it.\n",
      "WARNING:__main__:Finished call to '__main__.submit_batch_job' after 0.437(s), this was the 1st time calling it.\n",
      "WARNING:__main__:Finished call to '__main__.submit_batch_job' after 0.437(s), this was the 1st time calling it.\n"
     ]
    },
    {
     "name": "stdout",
     "output_type": "stream",
     "text": [
      "File batch_44.jsonl uploaded successfully. File ID: file-H9umBQ55SBNkgKD5DyNEoH\n",
      "Submit batch for file id: file-H9umBQ55SBNkgKD5DyNEoH\n",
      "File batch_356.jsonl uploaded successfully. File ID: file-Tdrw4YXSENM3QfrTGQKBF5\n",
      "Submit batch for file id: file-Tdrw4YXSENM3QfrTGQKBF5\n",
      "Submit batch for file id: file-C9YPTJUjuQ3YwsMRSYi57X\n",
      "File batch_320.jsonl uploaded successfully. File ID: file-Ja5B2rwvgBqawbXmZyhSLD\n",
      "Submit batch for file id: file-Ja5B2rwvgBqawbXmZyhSLD\n",
      "File batch_347.jsonl uploaded successfully. File ID: file-JwQADN93qKJfgkZjWg9piw\n",
      "Submit batch for file id: file-JwQADN93qKJfgkZjWg9piw\n"
     ]
    },
    {
     "name": "stderr",
     "output_type": "stream",
     "text": [
      "WARNING:__main__:Finished call to '__main__.submit_batch_job' after 0.438(s), this was the 1st time calling it.\n",
      "WARNING:__main__:Finished call to '__main__.submit_batch_job' after 0.922(s), this was the 1st time calling it.\n",
      "WARNING:__main__:Finished call to '__main__.submit_batch_job' after 0.422(s), this was the 1st time calling it.\n",
      "WARNING:__main__:Finished call to '__main__.submit_batch_job' after 37.781(s), this was the 2nd time calling it.\n",
      "WARNING:__main__:Finished call to '__main__.submit_batch_job' after 37.375(s), this was the 2nd time calling it.\n",
      "WARNING:__main__:Finished call to '__main__.submit_batch_job' after 0.422(s), this was the 1st time calling it.\n"
     ]
    },
    {
     "name": "stdout",
     "output_type": "stream",
     "text": [
      "File batch_353.jsonl uploaded successfully. File ID: file-2AXx8RGZweKu1H1KYfPtKu\n",
      "Submit batch for file id: file-2AXx8RGZweKu1H1KYfPtKu\n",
      "File batch_334.jsonl uploaded successfully. File ID: file-GK4MBhkxWmJnZ7wyRLpgwy\n",
      "Submit batch for file id: file-GK4MBhkxWmJnZ7wyRLpgwy\n"
     ]
    },
    {
     "name": "stderr",
     "output_type": "stream",
     "text": [
      "WARNING:__main__:Finished call to '__main__.submit_batch_job' after 0.422(s), this was the 1st time calling it.\n",
      "WARNING:__main__:Finished call to '__main__.submit_batch_job' after 0.437(s), this was the 1st time calling it.\n",
      "WARNING:__main__:Finished call to '__main__.submit_batch_job' after 35.469(s), this was the 2nd time calling it.\n",
      "WARNING:__main__:Finished call to '__main__.submit_batch_job' after 34.625(s), this was the 2nd time calling it.\n",
      "WARNING:__main__:Finished call to '__main__.submit_batch_job' after 0.390(s), this was the 1st time calling it.\n",
      "WARNING:__main__:Finished call to '__main__.submit_batch_job' after 34.015(s), this was the 2nd time calling it.\n",
      "WARNING:__main__:Finished call to '__main__.submit_batch_job' after 0.360(s), this was the 1st time calling it.\n"
     ]
    },
    {
     "name": "stdout",
     "output_type": "stream",
     "text": [
      "Submit batch for file id: file-T8zTV5a2gdXr9XLwcXihjP\n",
      "File batch_57.jsonl uploaded successfully. File ID: file-NPkj8akvzm3xY2Nng3zLhr\n",
      "Submit batch for file id: file-NPkj8akvzm3xY2Nng3zLhr\n",
      "File batch_327.jsonl uploaded successfully. File ID: file-4Dx4o9pBBkbrHBFB754EBT\n",
      "Submit batch for file id: file-4Dx4o9pBBkbrHBFB754EBT\n"
     ]
    },
    {
     "name": "stderr",
     "output_type": "stream",
     "text": [
      "WARNING:__main__:Finished call to '__main__.submit_batch_job' after 33.640(s), this was the 2nd time calling it.\n",
      "WARNING:__main__:Finished call to '__main__.submit_batch_job' after 33.625(s), this was the 2nd time calling it.\n",
      "WARNING:__main__:Finished call to '__main__.submit_batch_job' after 33.453(s), this was the 2nd time calling it.\n",
      "WARNING:__main__:Finished call to '__main__.submit_batch_job' after 33.296(s), this was the 2nd time calling it.\n",
      "WARNING:__main__:Finished call to '__main__.submit_batch_job' after 32.921(s), this was the 2nd time calling it.\n",
      "WARNING:__main__:Finished call to '__main__.submit_batch_job' after 0.359(s), this was the 1st time calling it.\n",
      "WARNING:__main__:Finished call to '__main__.submit_batch_job' after 33.062(s), this was the 2nd time calling it.\n"
     ]
    },
    {
     "name": "stdout",
     "output_type": "stream",
     "text": [
      "Submit batch for file id: file-Q3nAh4mS6MAXDKjkWrbYBv\n",
      "File batch_42.jsonl uploaded successfully. File ID: file-3yHx3RxL5TjHBpqJRwuu5W\n",
      "Submit batch for file id: file-3yHx3RxL5TjHBpqJRwuu5W\n"
     ]
    },
    {
     "name": "stderr",
     "output_type": "stream",
     "text": [
      "WARNING:__main__:Finished call to '__main__.submit_batch_job' after 32.641(s), this was the 2nd time calling it.\n",
      "WARNING:__main__:Finished call to '__main__.submit_batch_job' after 32.922(s), this was the 2nd time calling it.\n",
      "WARNING:__main__:Finished call to '__main__.submit_batch_job' after 32.672(s), this was the 2nd time calling it.\n",
      "WARNING:__main__:Finished call to '__main__.submit_batch_job' after 32.625(s), this was the 2nd time calling it.\n",
      "WARNING:__main__:Finished call to '__main__.submit_batch_job' after 0.375(s), this was the 1st time calling it.\n",
      "WARNING:__main__:Finished call to '__main__.submit_batch_job' after 5.797(s), this was the 2nd time calling it.\n",
      "WARNING:__main__:Finished call to '__main__.submit_batch_job' after 32.297(s), this was the 2nd time calling it.\n"
     ]
    },
    {
     "name": "stdout",
     "output_type": "stream",
     "text": [
      "Submit batch for file id: file-2fXDtEf9HWQp16vYJRKbW7\n",
      "Submit batch for file id: file-UhbpDxHDRRjVjEu9ssaCGE\n",
      "Submit batch for file id: file-8UAk9kX5rpzBaw4XdxDPHC\n",
      "File batch_371.jsonl uploaded successfully. File ID: file-BMKsPEj3CGi5B6TT6xtSgs\n",
      "Submit batch for file id: file-BMKsPEj3CGi5B6TT6xtSgs\n"
     ]
    },
    {
     "name": "stderr",
     "output_type": "stream",
     "text": [
      "WARNING:__main__:Finished call to '__main__.submit_batch_job' after 0.359(s), this was the 1st time calling it.\n",
      "WARNING:__main__:Finished call to '__main__.submit_batch_job' after 32.657(s), this was the 2nd time calling it.\n",
      "WARNING:__main__:Finished call to '__main__.submit_batch_job' after 32.375(s), this was the 2nd time calling it.\n",
      "WARNING:__main__:Finished call to '__main__.submit_batch_job' after 32.203(s), this was the 2nd time calling it.\n",
      "WARNING:__main__:Finished call to '__main__.submit_batch_job' after 5.828(s), this was the 2nd time calling it.\n",
      "WARNING:__main__:Finished call to '__main__.submit_batch_job' after 32.062(s), this was the 2nd time calling it.\n",
      "WARNING:__main__:Finished call to '__main__.submit_batch_job' after 5.750(s), this was the 2nd time calling it.\n"
     ]
    },
    {
     "name": "stdout",
     "output_type": "stream",
     "text": [
      "File batch_51.jsonl uploaded successfully. File ID: file-QPhfFGGDm13XYLfLDuDcVo\n",
      "Submit batch for file id: file-QPhfFGGDm13XYLfLDuDcVo\n"
     ]
    },
    {
     "name": "stderr",
     "output_type": "stream",
     "text": [
      "WARNING:__main__:Finished call to '__main__.submit_batch_job' after 31.984(s), this was the 2nd time calling it.\n",
      "WARNING:__main__:Finished call to '__main__.submit_batch_job' after 32.109(s), this was the 2nd time calling it.\n",
      "WARNING:__main__:Finished call to '__main__.submit_batch_job' after 0.328(s), this was the 1st time calling it.\n",
      "WARNING:__main__:Finished call to '__main__.submit_batch_job' after 32.078(s), this was the 2nd time calling it.\n",
      "WARNING:__main__:Finished call to '__main__.submit_batch_job' after 31.984(s), this was the 2nd time calling it.\n",
      "WARNING:__main__:Finished call to '__main__.submit_batch_job' after 31.750(s), this was the 2nd time calling it.\n",
      "WARNING:__main__:Finished call to '__main__.submit_batch_job' after 0.328(s), this was the 1st time calling it.\n",
      "WARNING:__main__:Finished call to '__main__.submit_batch_job' after 31.625(s), this was the 2nd time calling it.\n",
      "WARNING:__main__:Finished call to '__main__.submit_batch_job' after 31.422(s), this was the 2nd time calling it.\n",
      "WARNING:__main__:Finished call to '__main__.submit_batch_job' after 31.391(s), this was the 2nd time calling it.\n",
      "WARNING:__main__:Finished call to '__main__.submit_batch_job' after 31.438(s), this was the 2nd time calling it.\n",
      "WARNING:__main__:Finished call to '__main__.submit_batch_job' after 31.375(s), this was the 2nd time calling it.\n",
      "WARNING:__main__:Finished call to '__main__.submit_batch_job' after 31.422(s), this was the 2nd time calling it.\n",
      "WARNING:__main__:Finished call to '__main__.submit_batch_job' after 31.328(s), this was the 2nd time calling it.\n",
      "WARNING:__main__:Finished call to '__main__.submit_batch_job' after 31.344(s), this was the 2nd time calling it.\n",
      "WARNING:__main__:Finished call to '__main__.submit_batch_job' after 31.328(s), this was the 2nd time calling it.\n",
      "WARNING:__main__:Finished call to '__main__.submit_batch_job' after 31.375(s), this was the 2nd time calling it.\n",
      "WARNING:__main__:Finished call to '__main__.submit_batch_job' after 33.203(s), this was the 2nd time calling it.\n"
     ]
    },
    {
     "name": "stdout",
     "output_type": "stream",
     "text": [
      "Submit batch for file id: file-2GktNG8Fgh57fMM32WsWUc\n",
      "File batch_358.jsonl uploaded successfully. File ID: file-Pewzr3iPfUGNaz6TuxBZRx\n",
      "Submit batch for file id: file-Pewzr3iPfUGNaz6TuxBZRx\n"
     ]
    },
    {
     "name": "stderr",
     "output_type": "stream",
     "text": [
      "WARNING:__main__:Finished call to '__main__.submit_batch_job' after 31.312(s), this was the 2nd time calling it.\n",
      "WARNING:__main__:Finished call to '__main__.submit_batch_job' after 31.312(s), this was the 2nd time calling it.\n",
      "WARNING:__main__:Finished call to '__main__.submit_batch_job' after 30.750(s), this was the 2nd time calling it.\n",
      "WARNING:__main__:Finished call to '__main__.submit_batch_job' after 31.282(s), this was the 2nd time calling it.\n",
      "WARNING:__main__:Finished call to '__main__.submit_batch_job' after 30.703(s), this was the 2nd time calling it.\n",
      "WARNING:__main__:Finished call to '__main__.submit_batch_job' after 30.703(s), this was the 2nd time calling it.\n",
      "WARNING:__main__:Finished call to '__main__.submit_batch_job' after 5.844(s), this was the 2nd time calling it.\n",
      "WARNING:__main__:Finished call to '__main__.submit_batch_job' after 30.547(s), this was the 2nd time calling it.\n",
      "WARNING:__main__:Finished call to '__main__.submit_batch_job' after 30.593(s), this was the 2nd time calling it.\n",
      "WARNING:__main__:Finished call to '__main__.submit_batch_job' after 30.500(s), this was the 2nd time calling it.\n",
      "WARNING:__main__:Finished call to '__main__.submit_batch_job' after 30.485(s), this was the 2nd time calling it.\n"
     ]
    },
    {
     "name": "stdout",
     "output_type": "stream",
     "text": [
      "File batch_322.jsonl uploaded successfully. File ID: file-SdD4uAiAPrNcWE3d9qeMQR\n",
      "Submit batch for file id: file-SdD4uAiAPrNcWE3d9qeMQR\n",
      "File batch_364.jsonl uploaded successfully. File ID: file-1u9Bt8e2ibrsQJJjdunnYv\n",
      "Submit batch for file id: file-1u9Bt8e2ibrsQJJjdunnYv\n",
      "Submit batch for file id: file-UuFN5cRUBU8YwzcWz7WHDW\n",
      "File batch_333.jsonl uploaded successfully. File ID: file-GsjuNhkyucFtemhFqBw9jK\n",
      "Submit batch for file id: file-GsjuNhkyucFtemhFqBw9jK\n",
      "Submit batch for file id: file-DCtZcAb1kQNse8E5BdLLSt\n"
     ]
    },
    {
     "name": "stderr",
     "output_type": "stream",
     "text": [
      "WARNING:__main__:Finished call to '__main__.submit_batch_job' after 0.297(s), this was the 1st time calling it.\n",
      "WARNING:__main__:Finished call to '__main__.submit_batch_job' after 30.266(s), this was the 2nd time calling it.\n",
      "WARNING:__main__:Finished call to '__main__.submit_batch_job' after 30.485(s), this was the 2nd time calling it.\n",
      "WARNING:__main__:Finished call to '__main__.submit_batch_job' after 30.047(s), this was the 2nd time calling it.\n",
      "WARNING:__main__:Finished call to '__main__.submit_batch_job' after 30.281(s), this was the 2nd time calling it.\n",
      "WARNING:__main__:Finished call to '__main__.submit_batch_job' after 30.016(s), this was the 2nd time calling it.\n",
      "WARNING:__main__:Finished call to '__main__.submit_batch_job' after 30.953(s), this was the 2nd time calling it.\n",
      "WARNING:__main__:Finished call to '__main__.submit_batch_job' after 0.297(s), this was the 1st time calling it.\n",
      "WARNING:__main__:Finished call to '__main__.submit_batch_job' after 0.266(s), this was the 1st time calling it.\n",
      "WARNING:__main__:Finished call to '__main__.submit_batch_job' after 29.860(s), this was the 2nd time calling it.\n",
      "WARNING:__main__:Finished call to '__main__.submit_batch_job' after 30.046(s), this was the 2nd time calling it.\n",
      "WARNING:__main__:Finished call to '__main__.submit_batch_job' after 29.640(s), this was the 2nd time calling it.\n",
      "WARNING:__main__:Finished call to '__main__.submit_batch_job' after 29.500(s), this was the 2nd time calling it.\n"
     ]
    },
    {
     "name": "stdout",
     "output_type": "stream",
     "text": [
      "File batch_331.jsonl uploaded successfully. File ID: file-BLJkpqTaeHRqi71x52mNo2\n",
      "Submit batch for file id: file-BLJkpqTaeHRqi71x52mNo2\n",
      "Submit batch for file id: file-XQ7TSQWCDhBiiVZJkdscMM\n"
     ]
    },
    {
     "name": "stderr",
     "output_type": "stream",
     "text": [
      "WARNING:__main__:Finished call to '__main__.submit_batch_job' after 29.469(s), this was the 2nd time calling it.\n",
      "WARNING:__main__:Finished call to '__main__.submit_batch_job' after 0.297(s), this was the 1st time calling it.\n",
      "WARNING:__main__:Finished call to '__main__.submit_batch_job' after 29.282(s), this was the 2nd time calling it.\n",
      "WARNING:__main__:Finished call to '__main__.submit_batch_job' after 28.640(s), this was the 2nd time calling it.\n",
      "WARNING:__main__:Finished call to '__main__.submit_batch_job' after 29.218(s), this was the 2nd time calling it.\n",
      "WARNING:__main__:Finished call to '__main__.submit_batch_job' after 0.297(s), this was the 1st time calling it.\n",
      "WARNING:__main__:Finished call to '__main__.submit_batch_job' after 29.094(s), this was the 2nd time calling it.\n",
      "WARNING:__main__:Finished call to '__main__.submit_batch_job' after 29.000(s), this was the 2nd time calling it.\n",
      "WARNING:__main__:Finished call to '__main__.submit_batch_job' after 28.531(s), this was the 2nd time calling it.\n",
      "WARNING:__main__:Finished call to '__main__.submit_batch_job' after 29.016(s), this was the 2nd time calling it.\n",
      "WARNING:__main__:Finished call to '__main__.submit_batch_job' after 28.016(s), this was the 2nd time calling it.\n",
      "WARNING:__main__:Finished call to '__main__.submit_batch_job' after 28.016(s), this was the 2nd time calling it.\n",
      "WARNING:__main__:Finished call to '__main__.submit_batch_job' after 28.047(s), this was the 2nd time calling it.\n",
      "WARNING:__main__:Finished call to '__main__.submit_batch_job' after 5.781(s), this was the 2nd time calling it.\n",
      "WARNING:__main__:Finished call to '__main__.submit_batch_job' after 28.062(s), this was the 2nd time calling it.\n",
      "WARNING:__main__:Finished call to '__main__.submit_batch_job' after 28.078(s), this was the 2nd time calling it.\n",
      "WARNING:__main__:Finished call to '__main__.submit_batch_job' after 27.844(s), this was the 2nd time calling it.\n"
     ]
    },
    {
     "name": "stdout",
     "output_type": "stream",
     "text": [
      "File batch_68.jsonl uploaded successfully. File ID: file-EREeKA86cHncJY5T723gTU\n",
      "Submit batch for file id: file-EREeKA86cHncJY5T723gTU\n",
      "Submit batch for file id: file-Q4ijcGU2MDnmFgQo7eme3R\n",
      "Submit batch for file id: file-V5cYuxPWYf6haNzQfn666Y\n",
      "File batch_366.jsonl uploaded successfully. File ID: file-T2TohLGKZbNawbsAJeZXXS\n",
      "Submit batch for file id: file-T2TohLGKZbNawbsAJeZXXS\n",
      "File batch_335.jsonl uploaded successfully. File ID: file-CTQq6gZzf8K4m4RTXH33kZ\n",
      "Submit batch for file id: file-CTQq6gZzf8K4m4RTXH33kZ\n"
     ]
    },
    {
     "name": "stderr",
     "output_type": "stream",
     "text": [
      "WARNING:__main__:Finished call to '__main__.submit_batch_job' after 27.687(s), this was the 2nd time calling it.\n",
      "WARNING:__main__:Finished call to '__main__.submit_batch_job' after 29.344(s), this was the 2nd time calling it.\n",
      "WARNING:__main__:Finished call to '__main__.submit_batch_job' after 30.797(s), this was the 2nd time calling it.\n",
      "WARNING:__main__:Finished call to '__main__.submit_batch_job' after 27.797(s), this was the 2nd time calling it.\n",
      "WARNING:__main__:Finished call to '__main__.submit_batch_job' after 30.453(s), this was the 2nd time calling it.\n",
      "WARNING:__main__:Finished call to '__main__.submit_batch_job' after 0.281(s), this was the 1st time calling it.\n",
      "WARNING:__main__:Finished call to '__main__.submit_batch_job' after 27.734(s), this was the 2nd time calling it.\n",
      "WARNING:__main__:Finished call to '__main__.submit_batch_job' after 27.687(s), this was the 2nd time calling it.\n",
      "WARNING:__main__:Finished call to '__main__.submit_batch_job' after 27.078(s), this was the 2nd time calling it.\n",
      "WARNING:__main__:Finished call to '__main__.submit_batch_job' after 27.047(s), this was the 2nd time calling it.\n"
     ]
    },
    {
     "name": "stdout",
     "output_type": "stream",
     "text": [
      "File batch_83.jsonl uploaded successfully. File ID: file-E9pFaSMNwmSRgnrojGiauK\n",
      "Submit batch for file id: file-E9pFaSMNwmSRgnrojGiauK\n",
      "Submit batch for file id: file-88MsoJMotSSdgMZZQHmUsf\n",
      "File batch_354.jsonl uploaded successfully. File ID: file-KEfdb4HG8ZHo7v3irUmPrf\n",
      "Submit batch for file id: file-KEfdb4HG8ZHo7v3irUmPrf\n",
      "Submit batch for file id: file-KmE7z4sf4SrFvHUbk3iKiV\n"
     ]
    },
    {
     "name": "stderr",
     "output_type": "stream",
     "text": [
      "WARNING:__main__:Finished call to '__main__.submit_batch_job' after 27.094(s), this was the 2nd time calling it.\n",
      "WARNING:__main__:Finished call to '__main__.submit_batch_job' after 26.922(s), this was the 2nd time calling it.\n",
      "WARNING:__main__:Finished call to '__main__.submit_batch_job' after 26.860(s), this was the 2nd time calling it.\n",
      "WARNING:__main__:Finished call to '__main__.submit_batch_job' after 27.969(s), this was the 2nd time calling it.\n",
      "WARNING:__main__:Finished call to '__main__.submit_batch_job' after 26.547(s), this was the 2nd time calling it.\n",
      "WARNING:__main__:Finished call to '__main__.submit_batch_job' after 26.469(s), this was the 2nd time calling it.\n",
      "WARNING:__main__:Finished call to '__main__.submit_batch_job' after 26.625(s), this was the 2nd time calling it.\n",
      "WARNING:__main__:Finished call to '__main__.submit_batch_job' after 26.735(s), this was the 2nd time calling it.\n",
      "WARNING:__main__:Finished call to '__main__.submit_batch_job' after 26.375(s), this was the 2nd time calling it.\n",
      "WARNING:__main__:Finished call to '__main__.submit_batch_job' after 0.281(s), this was the 1st time calling it.\n",
      "WARNING:__main__:Finished call to '__main__.submit_batch_job' after 26.453(s), this was the 2nd time calling it.\n",
      "WARNING:__main__:Finished call to '__main__.submit_batch_job' after 26.375(s), this was the 2nd time calling it.\n",
      "WARNING:__main__:Finished call to '__main__.submit_batch_job' after 0.297(s), this was the 1st time calling it.\n",
      "WARNING:__main__:Finished call to '__main__.submit_batch_job' after 0.297(s), this was the 1st time calling it.\n",
      "WARNING:__main__:Finished call to '__main__.submit_batch_job' after 26.391(s), this was the 2nd time calling it.\n",
      "WARNING:__main__:Finished call to '__main__.submit_batch_job' after 26.062(s), this was the 2nd time calling it.\n",
      "WARNING:__main__:Finished call to '__main__.submit_batch_job' after 26.375(s), this was the 2nd time calling it.\n"
     ]
    },
    {
     "name": "stdout",
     "output_type": "stream",
     "text": [
      "Submit batch for file id: file-9sQT68kJppbanW6aKCEvg2\n",
      "File batch_370.jsonl uploaded successfully. File ID: file-92UwsHCxkmjWdH9PXJJy8B\n",
      "Submit batch for file id: file-92UwsHCxkmjWdH9PXJJy8B\n",
      "Submit batch for file id: file-1KBbPBwKpLgcSmwyKnxAdL\n",
      "File batch_313.jsonl uploaded successfully. File ID: file-StTXZszJwWqUoK8iCwjRHU\n",
      "Submit batch for file id: file-StTXZszJwWqUoK8iCwjRHU\n",
      "File batch_323.jsonl uploaded successfully. File ID: file-8YSwsw2WxFpt8r4rTXyoB7\n",
      "Submit batch for file id: file-8YSwsw2WxFpt8r4rTXyoB7\n",
      "File batch_56.jsonl uploaded successfully. File ID: file-Kfj1h9e7R5Jpag5oD3KLHs\n",
      "Submit batch for file id: file-Kfj1h9e7R5Jpag5oD3KLHs\n",
      "Submit batch for file id: file-WSY4tom2Htqvp2D2XtYugo\n"
     ]
    },
    {
     "name": "stderr",
     "output_type": "stream",
     "text": [
      "WARNING:__main__:Finished call to '__main__.submit_batch_job' after 25.985(s), this was the 2nd time calling it.\n",
      "WARNING:__main__:Finished call to '__main__.submit_batch_job' after 26.110(s), this was the 2nd time calling it.\n",
      "WARNING:__main__:Finished call to '__main__.submit_batch_job' after 25.859(s), this was the 2nd time calling it.\n",
      "WARNING:__main__:Finished call to '__main__.submit_batch_job' after 5.781(s), this was the 2nd time calling it.\n",
      "WARNING:__main__:Finished call to '__main__.submit_batch_job' after 0.328(s), this was the 1st time calling it.\n",
      "WARNING:__main__:Finished call to '__main__.submit_batch_job' after 26.125(s), this was the 2nd time calling it.\n",
      "WARNING:__main__:Finished call to '__main__.submit_batch_job' after 26.172(s), this was the 2nd time calling it.\n",
      "WARNING:__main__:Finished call to '__main__.submit_batch_job' after 25.907(s), this was the 2nd time calling it.\n",
      "WARNING:__main__:Finished call to '__main__.submit_batch_job' after 25.688(s), this was the 2nd time calling it.\n",
      "WARNING:__main__:Finished call to '__main__.submit_batch_job' after 26.157(s), this was the 2nd time calling it.\n",
      "WARNING:__main__:Finished call to '__main__.submit_batch_job' after 24.984(s), this was the 2nd time calling it.\n",
      "WARNING:__main__:Finished call to '__main__.submit_batch_job' after 0.312(s), this was the 1st time calling it.\n",
      "WARNING:__main__:Finished call to '__main__.submit_batch_job' after 23.906(s), this was the 2nd time calling it.\n",
      "WARNING:__main__:Finished call to '__main__.submit_batch_job' after 25.234(s), this was the 2nd time calling it.\n",
      "WARNING:__main__:Finished call to '__main__.submit_batch_job' after 0.312(s), this was the 1st time calling it.\n",
      "WARNING:__main__:Finished call to '__main__.submit_batch_job' after 24.656(s), this was the 2nd time calling it.\n",
      "WARNING:__main__:Finished call to '__main__.submit_batch_job' after 24.265(s), this was the 2nd time calling it.\n",
      "WARNING:__main__:Finished call to '__main__.submit_batch_job' after 0.312(s), this was the 1st time calling it.\n",
      "WARNING:__main__:Finished call to '__main__.submit_batch_job' after 23.031(s), this was the 2nd time calling it.\n",
      "WARNING:__main__:Finished call to '__main__.submit_batch_job' after 23.953(s), this was the 2nd time calling it.\n",
      "WARNING:__main__:Finished call to '__main__.submit_batch_job' after 23.797(s), this was the 2nd time calling it.\n",
      "WARNING:__main__:Finished call to '__main__.submit_batch_job' after 24.578(s), this was the 2nd time calling it.\n",
      "WARNING:__main__:Finished call to '__main__.submit_batch_job' after 24.125(s), this was the 2nd time calling it.\n",
      "WARNING:__main__:Finished call to '__main__.submit_batch_job' after 24.188(s), this was the 2nd time calling it.\n",
      "WARNING:__main__:Finished call to '__main__.submit_batch_job' after 0.281(s), this was the 1st time calling it.\n",
      "WARNING:__main__:Finished call to '__main__.submit_batch_job' after 23.985(s), this was the 2nd time calling it.\n",
      "WARNING:__main__:Finished call to '__main__.submit_batch_job' after 26.172(s), this was the 2nd time calling it.\n",
      "WARNING:__main__:Finished call to '__main__.submit_batch_job' after 22.906(s), this was the 2nd time calling it.\n",
      "WARNING:__main__:Finished call to '__main__.submit_batch_job' after 23.000(s), this was the 2nd time calling it.\n"
     ]
    },
    {
     "name": "stdout",
     "output_type": "stream",
     "text": [
      "Submit batch for file id: file-SK7V9N56wsqrJBMK7sNdMx\n",
      "Submit batch for file id: file-TvwDRcbEQRBNgqytNJVurE\n",
      "File batch_63.jsonl uploaded successfully. File ID: file-LnMkodr3RLUicak4j8Hb3t\n",
      "Submit batch for file id: file-LnMkodr3RLUicak4j8Hb3t\n",
      "Submit batch for file id: file-4GWZ4dUbAWgyquFqqBeJiP\n"
     ]
    },
    {
     "name": "stderr",
     "output_type": "stream",
     "text": [
      "WARNING:__main__:Finished call to '__main__.submit_batch_job' after 22.266(s), this was the 2nd time calling it.\n",
      "WARNING:__main__:Finished call to '__main__.submit_batch_job' after 22.359(s), this was the 2nd time calling it.\n",
      "WARNING:__main__:Finished call to '__main__.submit_batch_job' after 21.890(s), this was the 2nd time calling it.\n",
      "WARNING:__main__:Finished call to '__main__.submit_batch_job' after 22.359(s), this was the 2nd time calling it.\n",
      "WARNING:__main__:Finished call to '__main__.submit_batch_job' after 29.469(s), this was the 3rd time calling it.\n",
      "WARNING:__main__:Finished call to '__main__.submit_batch_job' after 21.813(s), this was the 2nd time calling it.\n",
      "WARNING:__main__:Finished call to '__main__.submit_batch_job' after 29.390(s), this was the 3rd time calling it.\n",
      "WARNING:__main__:Finished call to '__main__.submit_batch_job' after 22.609(s), this was the 2nd time calling it.\n",
      "WARNING:__main__:Finished call to '__main__.submit_batch_job' after 21.672(s), this was the 2nd time calling it.\n",
      "WARNING:__main__:Finished call to '__main__.submit_batch_job' after 28.078(s), this was the 3rd time calling it.\n",
      "WARNING:__main__:Finished call to '__main__.submit_batch_job' after 0.266(s), this was the 1st time calling it.\n",
      "WARNING:__main__:Finished call to '__main__.submit_batch_job' after 21.797(s), this was the 2nd time calling it.\n",
      "WARNING:__main__:Finished call to '__main__.submit_batch_job' after 21.547(s), this was the 2nd time calling it.\n",
      "WARNING:__main__:Finished call to '__main__.submit_batch_job' after 21.531(s), this was the 2nd time calling it.\n",
      "WARNING:__main__:Finished call to '__main__.submit_batch_job' after 21.562(s), this was the 2nd time calling it.\n",
      "WARNING:__main__:Finished call to '__main__.submit_batch_job' after 21.109(s), this was the 2nd time calling it.\n",
      "WARNING:__main__:Finished call to '__main__.submit_batch_job' after 20.312(s), this was the 2nd time calling it.\n",
      "WARNING:__main__:Finished call to '__main__.submit_batch_job' after 20.375(s), this was the 2nd time calling it.\n",
      "WARNING:__main__:Finished call to '__main__.submit_batch_job' after 20.484(s), this was the 2nd time calling it.\n",
      "WARNING:__main__:Finished call to '__main__.submit_batch_job' after 20.750(s), this was the 2nd time calling it.\n",
      "WARNING:__main__:Finished call to '__main__.submit_batch_job' after 20.328(s), this was the 2nd time calling it.\n",
      "WARNING:__main__:Finished call to '__main__.submit_batch_job' after 21.078(s), this was the 2nd time calling it.\n",
      "WARNING:__main__:Finished call to '__main__.submit_batch_job' after 20.828(s), this was the 2nd time calling it.\n",
      "WARNING:__main__:Finished call to '__main__.submit_batch_job' after 21.422(s), this was the 2nd time calling it.\n",
      "WARNING:__main__:Finished call to '__main__.submit_batch_job' after 20.922(s), this was the 2nd time calling it.\n",
      "WARNING:__main__:Finished call to '__main__.submit_batch_job' after 20.297(s), this was the 2nd time calling it.\n",
      "WARNING:__main__:Finished call to '__main__.submit_batch_job' after 20.219(s), this was the 2nd time calling it.\n",
      "WARNING:__main__:Finished call to '__main__.submit_batch_job' after 20.360(s), this was the 2nd time calling it.\n",
      "WARNING:__main__:Finished call to '__main__.submit_batch_job' after 20.047(s), this was the 2nd time calling it.\n",
      "WARNING:__main__:Finished call to '__main__.submit_batch_job' after 20.047(s), this was the 2nd time calling it.\n",
      "WARNING:__main__:Finished call to '__main__.submit_batch_job' after 20.047(s), this was the 2nd time calling it.\n",
      "WARNING:__main__:Finished call to '__main__.submit_batch_job' after 19.672(s), this was the 2nd time calling it.\n",
      "WARNING:__main__:Finished call to '__main__.submit_batch_job' after 19.844(s), this was the 2nd time calling it.\n",
      "WARNING:__main__:Finished call to '__main__.submit_batch_job' after 19.625(s), this was the 2nd time calling it.\n"
     ]
    },
    {
     "name": "stdout",
     "output_type": "stream",
     "text": [
      "Submit batch for file id: file-SPGQYmrkQioZ9dGRfWmZat\n",
      "File batch_369.jsonl uploaded successfully. File ID: file-TGi9iR6bGUYTrFgoCFYSgG\n",
      "Submit batch for file id: file-TGi9iR6bGUYTrFgoCFYSgG\n",
      "Submit batch for file id: file-MKM5g1oChwzDNURrxM73aE\n",
      "File batch_336.jsonl uploaded successfully. File ID: file-GMmTXCAPUoEQZ5BTKoW7Xr\n",
      "Submit batch for file id: file-GMmTXCAPUoEQZ5BTKoW7Xr\n"
     ]
    },
    {
     "name": "stderr",
     "output_type": "stream",
     "text": [
      "WARNING:__main__:Finished call to '__main__.submit_batch_job' after 19.281(s), this was the 2nd time calling it.\n",
      "WARNING:__main__:Finished call to '__main__.submit_batch_job' after 18.531(s), this was the 2nd time calling it.\n",
      "WARNING:__main__:Finished call to '__main__.submit_batch_job' after 19.344(s), this was the 2nd time calling it.\n",
      "WARNING:__main__:Finished call to '__main__.submit_batch_job' after 17.359(s), this was the 2nd time calling it.\n",
      "WARNING:__main__:Finished call to '__main__.submit_batch_job' after 16.765(s), this was the 2nd time calling it.\n",
      "WARNING:__main__:Finished call to '__main__.submit_batch_job' after 18.828(s), this was the 2nd time calling it.\n",
      "WARNING:__main__:Finished call to '__main__.submit_batch_job' after 18.641(s), this was the 2nd time calling it.\n",
      "WARNING:__main__:Finished call to '__main__.submit_batch_job' after 18.813(s), this was the 2nd time calling it.\n",
      "WARNING:__main__:Finished call to '__main__.submit_batch_job' after 18.438(s), this was the 2nd time calling it.\n",
      "WARNING:__main__:Finished call to '__main__.submit_batch_job' after 18.313(s), this was the 2nd time calling it.\n",
      "WARNING:__main__:Finished call to '__main__.submit_batch_job' after 18.891(s), this was the 2nd time calling it.\n",
      "WARNING:__main__:Finished call to '__main__.submit_batch_job' after 16.953(s), this was the 2nd time calling it.\n",
      "WARNING:__main__:Finished call to '__main__.submit_batch_job' after 17.484(s), this was the 2nd time calling it.\n",
      "WARNING:__main__:Finished call to '__main__.submit_batch_job' after 17.843(s), this was the 2nd time calling it.\n",
      "WARNING:__main__:Finished call to '__main__.submit_batch_job' after 17.703(s), this was the 2nd time calling it.\n",
      "WARNING:__main__:Finished call to '__main__.submit_batch_job' after 17.750(s), this was the 2nd time calling it.\n",
      "WARNING:__main__:Finished call to '__main__.submit_batch_job' after 19.312(s), this was the 2nd time calling it.\n",
      "WARNING:__main__:Finished call to '__main__.submit_batch_job' after 19.843(s), this was the 2nd time calling it.\n",
      "WARNING:__main__:Finished call to '__main__.submit_batch_job' after 16.750(s), this was the 2nd time calling it.\n",
      "WARNING:__main__:Finished call to '__main__.submit_batch_job' after 0.343(s), this was the 1st time calling it.\n",
      "WARNING:__main__:Finished call to '__main__.submit_batch_job' after 5.796(s), this was the 2nd time calling it.\n",
      "WARNING:__main__:Finished call to '__main__.submit_batch_job' after 17.578(s), this was the 2nd time calling it.\n",
      "WARNING:__main__:Finished call to '__main__.submit_batch_job' after 17.437(s), this was the 2nd time calling it.\n",
      "WARNING:__main__:Finished call to '__main__.submit_batch_job' after 20.015(s), this was the 2nd time calling it.\n"
     ]
    },
    {
     "name": "stdout",
     "output_type": "stream",
     "text": [
      "Submit batch for file id: file-F6bdYEYnB37jMEHyBZYRdw\n",
      "Submit batch for file id: file-2SMBuhsySwVMVRUy5Q8evy\n",
      "File batch_351.jsonl uploaded successfully. File ID: file-CjbMGVaVoWuMTk2BaEHNEc\n",
      "Submit batch for file id: file-CjbMGVaVoWuMTk2BaEHNEc\n",
      "File batch_363.jsonl uploaded successfully. File ID: file-RpfWUuLgJwpAbjB38WjuHK\n",
      "Submit batch for file id: file-RpfWUuLgJwpAbjB38WjuHK\n"
     ]
    },
    {
     "name": "stderr",
     "output_type": "stream",
     "text": [
      "WARNING:__main__:Finished call to '__main__.submit_batch_job' after 16.828(s), this was the 2nd time calling it.\n",
      "WARNING:__main__:Finished call to '__main__.submit_batch_job' after 5.938(s), this was the 2nd time calling it.\n",
      "WARNING:__main__:Finished call to '__main__.submit_batch_job' after 16.453(s), this was the 2nd time calling it.\n",
      "WARNING:__main__:Finished call to '__main__.submit_batch_job' after 16.516(s), this was the 2nd time calling it.\n",
      "WARNING:__main__:Finished call to '__main__.submit_batch_job' after 16.266(s), this was the 2nd time calling it.\n",
      "WARNING:__main__:Finished call to '__main__.submit_batch_job' after 16.031(s), this was the 2nd time calling it.\n",
      "WARNING:__main__:Finished call to '__main__.submit_batch_job' after 0.484(s), this was the 1st time calling it.\n",
      "WARNING:__main__:Finished call to '__main__.submit_batch_job' after 14.422(s), this was the 2nd time calling it.\n",
      "WARNING:__main__:Finished call to '__main__.submit_batch_job' after 14.875(s), this was the 2nd time calling it.\n",
      "WARNING:__main__:Finished call to '__main__.submit_batch_job' after 0.360(s), this was the 1st time calling it.\n",
      "WARNING:__main__:Finished call to '__main__.submit_batch_job' after 14.313(s), this was the 2nd time calling it.\n",
      "WARNING:__main__:Finished call to '__main__.submit_batch_job' after 15.438(s), this was the 2nd time calling it.\n",
      "WARNING:__main__:Finished call to '__main__.submit_batch_job' after 15.250(s), this was the 2nd time calling it.\n",
      "WARNING:__main__:Finished call to '__main__.submit_batch_job' after 15.234(s), this was the 2nd time calling it.\n",
      "WARNING:__main__:Finished call to '__main__.submit_batch_job' after 14.453(s), this was the 2nd time calling it.\n",
      "WARNING:__main__:Finished call to '__main__.submit_batch_job' after 15.140(s), this was the 2nd time calling it.\n",
      "WARNING:__main__:Finished call to '__main__.submit_batch_job' after 14.922(s), this was the 2nd time calling it.\n",
      "WARNING:__main__:Finished call to '__main__.submit_batch_job' after 14.375(s), this was the 2nd time calling it.\n",
      "WARNING:__main__:Finished call to '__main__.submit_batch_job' after 14.015(s), this was the 2nd time calling it.\n",
      "WARNING:__main__:Finished call to '__main__.submit_batch_job' after 16.140(s), this was the 2nd time calling it.\n",
      "WARNING:__main__:Finished call to '__main__.submit_batch_job' after 14.703(s), this was the 2nd time calling it.\n",
      "WARNING:__main__:Finished call to '__main__.submit_batch_job' after 15.531(s), this was the 2nd time calling it.\n",
      "WARNING:__main__:Finished call to '__main__.submit_batch_job' after 14.688(s), this was the 2nd time calling it.\n",
      "WARNING:__main__:Finished call to '__main__.submit_batch_job' after 15.375(s), this was the 2nd time calling it.\n",
      "WARNING:__main__:Finished call to '__main__.submit_batch_job' after 14.610(s), this was the 2nd time calling it.\n",
      "WARNING:__main__:Finished call to '__main__.submit_batch_job' after 13.766(s), this was the 2nd time calling it.\n",
      "WARNING:__main__:Finished call to '__main__.submit_batch_job' after 14.860(s), this was the 2nd time calling it.\n",
      "WARNING:__main__:Finished call to '__main__.submit_batch_job' after 14.985(s), this was the 2nd time calling it.\n",
      "WARNING:__main__:Finished call to '__main__.submit_batch_job' after 15.094(s), this was the 2nd time calling it.\n",
      "WARNING:__main__:Finished call to '__main__.submit_batch_job' after 15.469(s), this was the 2nd time calling it.\n",
      "WARNING:__main__:Finished call to '__main__.submit_batch_job' after 14.812(s), this was the 2nd time calling it.\n"
     ]
    },
    {
     "name": "stdout",
     "output_type": "stream",
     "text": [
      "File batch_43.jsonl uploaded successfully. File ID: file-48PtGcVKrxLXeRd2Gb6jth\n",
      "Submit batch for file id: file-48PtGcVKrxLXeRd2Gb6jth\n",
      "Submit batch for file id: file-VWakNrN2exV4wWRF6EhbPW\n",
      "File batch_341.jsonl uploaded successfully. File ID: file-EU6DXJX52qVSNfH47NQZFv\n",
      "Submit batch for file id: file-EU6DXJX52qVSNfH47NQZFv\n",
      "File batch_360.jsonl uploaded successfully. File ID: file-ARbcb6daxPvkz321rT8Um2\n",
      "Submit batch for file id: file-ARbcb6daxPvkz321rT8Um2\n",
      "Submit batch for file id: file-2jyAyZiAUjteTukuK35NB6\n",
      "Submit batch for file id: file-WS5FAGYcmFWhaMwvqeqHNw\n",
      "Submit batch for file id: file-6gPyR5mxt2Z1u2NnFs2ADR\n"
     ]
    },
    {
     "name": "stderr",
     "output_type": "stream",
     "text": [
      "WARNING:__main__:Finished call to '__main__.submit_batch_job' after 13.468(s), this was the 2nd time calling it.\n",
      "WARNING:__main__:Finished call to '__main__.submit_batch_job' after 0.359(s), this was the 1st time calling it.\n",
      "WARNING:__main__:Finished call to '__main__.submit_batch_job' after 13.500(s), this was the 2nd time calling it.\n",
      "WARNING:__main__:Finished call to '__main__.submit_batch_job' after 13.406(s), this was the 2nd time calling it.\n",
      "WARNING:__main__:Finished call to '__main__.submit_batch_job' after 0.297(s), this was the 1st time calling it.\n",
      "WARNING:__main__:Finished call to '__main__.submit_batch_job' after 0.297(s), this was the 1st time calling it.\n",
      "WARNING:__main__:Finished call to '__main__.submit_batch_job' after 5.703(s), this was the 2nd time calling it.\n",
      "WARNING:__main__:Finished call to '__main__.submit_batch_job' after 13.297(s), this was the 2nd time calling it.\n"
     ]
    },
    {
     "name": "stdout",
     "output_type": "stream",
     "text": [
      "File batch_82.jsonl uploaded successfully. File ID: file-FNm2ryVaWgk9CDSPqxaTNK\n",
      "Submit batch for file id: file-FNm2ryVaWgk9CDSPqxaTNK\n",
      "File batch_362.jsonl uploaded successfully. File ID: file-BMNRxC48UPsUzZdyBD4XPR\n",
      "Submit batch for file id: file-BMNRxC48UPsUzZdyBD4XPR\n",
      "File batch_40.jsonl uploaded successfully. File ID: file-MobUfaYeC9fQtNvY1idKYQ\n",
      "Submit batch for file id: file-MobUfaYeC9fQtNvY1idKYQ\n",
      "Submit batch for file id: file-BcY6crxbgCYgyFrQRaz6Pt\n",
      "Submit batch for file id: file-QpFW9gwRjSDHyAeUgTpAQV\n",
      "Submit batch for file id: file-W4PvSGzes5aqB17Y1smkCh\n",
      "Submit batch for file id: file-JAMEqTTNVxndn5Npb8wtka\n"
     ]
    },
    {
     "name": "stderr",
     "output_type": "stream",
     "text": [
      "WARNING:__main__:Finished call to '__main__.submit_batch_job' after 13.063(s), this was the 2nd time calling it.\n",
      "WARNING:__main__:Finished call to '__main__.submit_batch_job' after 13.281(s), this was the 2nd time calling it.\n",
      "WARNING:__main__:Finished call to '__main__.submit_batch_job' after 12.937(s), this was the 2nd time calling it.\n",
      "WARNING:__main__:Finished call to '__main__.submit_batch_job' after 12.875(s), this was the 2nd time calling it.\n",
      "WARNING:__main__:Finished call to '__main__.submit_batch_job' after 12.969(s), this was the 2nd time calling it.\n",
      "WARNING:__main__:Finished call to '__main__.submit_batch_job' after 10.844(s), this was the 2nd time calling it.\n",
      "WARNING:__main__:Finished call to '__main__.submit_batch_job' after 12.000(s), this was the 2nd time calling it.\n",
      "WARNING:__main__:Finished call to '__main__.submit_batch_job' after 10.297(s), this was the 2nd time calling it.\n",
      "WARNING:__main__:Finished call to '__main__.submit_batch_job' after 12.422(s), this was the 2nd time calling it.\n",
      "WARNING:__main__:Finished call to '__main__.submit_batch_job' after 10.297(s), this was the 2nd time calling it.\n",
      "WARNING:__main__:Finished call to '__main__.submit_batch_job' after 12.906(s), this was the 2nd time calling it.\n",
      "WARNING:__main__:Finished call to '__main__.submit_batch_job' after 12.891(s), this was the 2nd time calling it.\n",
      "WARNING:__main__:Finished call to '__main__.submit_batch_job' after 10.500(s), this was the 2nd time calling it.\n",
      "WARNING:__main__:Finished call to '__main__.submit_batch_job' after 12.797(s), this was the 2nd time calling it.\n",
      "WARNING:__main__:Finished call to '__main__.submit_batch_job' after 10.515(s), this was the 2nd time calling it.\n",
      "WARNING:__main__:Finished call to '__main__.submit_batch_job' after 18.109(s), this was the 3rd time calling it.\n",
      "WARNING:__main__:Finished call to '__main__.submit_batch_job' after 12.828(s), this was the 2nd time calling it.\n",
      "WARNING:__main__:Finished call to '__main__.submit_batch_job' after 10.312(s), this was the 2nd time calling it.\n",
      "WARNING:__main__:Finished call to '__main__.submit_batch_job' after 10.140(s), this was the 2nd time calling it.\n",
      "WARNING:__main__:Finished call to '__main__.submit_batch_job' after 12.250(s), this was the 2nd time calling it.\n",
      "WARNING:__main__:Finished call to '__main__.submit_batch_job' after 12.218(s), this was the 2nd time calling it.\n",
      "WARNING:__main__:Finished call to '__main__.submit_batch_job' after 10.093(s), this was the 2nd time calling it.\n",
      "WARNING:__main__:Finished call to '__main__.submit_batch_job' after 12.765(s), this was the 2nd time calling it.\n",
      "WARNING:__main__:Finished call to '__main__.submit_batch_job' after 10.125(s), this was the 2nd time calling it.\n",
      "WARNING:__main__:Finished call to '__main__.submit_batch_job' after 11.766(s), this was the 2nd time calling it.\n",
      "WARNING:__main__:Finished call to '__main__.submit_batch_job' after 0.297(s), this was the 1st time calling it.\n",
      "WARNING:__main__:Finished call to '__main__.submit_batch_job' after 14.500(s), this was the 2nd time calling it.\n",
      "WARNING:__main__:Finished call to '__main__.submit_batch_job' after 0.281(s), this was the 1st time calling it.\n",
      "WARNING:__main__:Finished call to '__main__.submit_batch_job' after 9.968(s), this was the 2nd time calling it.\n",
      "WARNING:__main__:Finished call to '__main__.submit_batch_job' after 11.734(s), this was the 2nd time calling it.\n",
      "WARNING:__main__:Finished call to '__main__.submit_batch_job' after 0.297(s), this was the 1st time calling it.\n",
      "WARNING:__main__:Finished call to '__main__.submit_batch_job' after 9.922(s), this was the 2nd time calling it.\n",
      "WARNING:__main__:Finished call to '__main__.submit_batch_job' after 0.500(s), this was the 1st time calling it.\n",
      "WARNING:__main__:Finished call to '__main__.submit_batch_job' after 9.250(s), this was the 2nd time calling it.\n",
      "WARNING:__main__:Finished call to '__main__.submit_batch_job' after 8.890(s), this was the 2nd time calling it.\n",
      "WARNING:__main__:Finished call to '__main__.submit_batch_job' after 8.046(s), this was the 2nd time calling it.\n",
      "WARNING:__main__:Finished call to '__main__.submit_batch_job' after 9.797(s), this was the 2nd time calling it.\n",
      "WARNING:__main__:Finished call to '__main__.submit_batch_job' after 14.375(s), this was the 3rd time calling it.\n",
      "WARNING:__main__:Finished call to '__main__.submit_batch_job' after 5.718(s), this was the 2nd time calling it.\n"
     ]
    },
    {
     "name": "stdout",
     "output_type": "stream",
     "text": [
      "File batch_48.jsonl uploaded successfully. File ID: file-RgyeJcJutqJBZxkhcVTFYn\n",
      "Submit batch for file id: file-RgyeJcJutqJBZxkhcVTFYn\n",
      "Submit batch for file id: file-BgRPvkoMoqXDM66KTaMxfM\n",
      "Submit batch for file id: file-HLFTuazmdsKCPFdEGwfAYx\n",
      "File batch_8.jsonl uploaded successfully. File ID: file-LeXQRLFTHd2GMY6naGmM5e\n",
      "Submit batch for file id: file-LeXQRLFTHd2GMY6naGmM5e\n",
      "Submit batch for file id: file-W6xedKAk9Zwkn5QYeWKs7N\n",
      "File batch_41.jsonl uploaded successfully. File ID: file-7VTpJZr5MySVvJUQ55JQ8J\n",
      "Submit batch for file id: file-7VTpJZr5MySVvJUQ55JQ8J\n",
      "Submit batch for file id: file-VmtMXGxF7wcXrFcGLDeUZh\n"
     ]
    },
    {
     "name": "stderr",
     "output_type": "stream",
     "text": [
      "WARNING:__main__:Finished call to '__main__.submit_batch_job' after 7.688(s), this was the 2nd time calling it.\n",
      "WARNING:__main__:Finished call to '__main__.submit_batch_job' after 7.312(s), this was the 2nd time calling it.\n",
      "WARNING:__main__:Finished call to '__main__.submit_batch_job' after 7.531(s), this was the 2nd time calling it.\n",
      "WARNING:__main__:Finished call to '__main__.submit_batch_job' after 7.046(s), this was the 2nd time calling it.\n",
      "WARNING:__main__:Finished call to '__main__.submit_batch_job' after 7.156(s), this was the 2nd time calling it.\n",
      "WARNING:__main__:Finished call to '__main__.submit_batch_job' after 7.359(s), this was the 2nd time calling it.\n",
      "WARNING:__main__:Finished call to '__main__.submit_batch_job' after 6.359(s), this was the 2nd time calling it.\n",
      "WARNING:__main__:Finished call to '__main__.submit_batch_job' after 6.984(s), this was the 2nd time calling it.\n",
      "WARNING:__main__:Finished call to '__main__.submit_batch_job' after 6.312(s), this was the 2nd time calling it.\n",
      "WARNING:__main__:Finished call to '__main__.submit_batch_job' after 7.156(s), this was the 2nd time calling it.\n",
      "WARNING:__main__:Finished call to '__main__.submit_batch_job' after 6.046(s), this was the 2nd time calling it.\n",
      "WARNING:__main__:Finished call to '__main__.submit_batch_job' after 5.890(s), this was the 2nd time calling it.\n",
      "WARNING:__main__:Finished call to '__main__.submit_batch_job' after 6.093(s), this was the 2nd time calling it.\n",
      "WARNING:__main__:Finished call to '__main__.submit_batch_job' after 5.765(s), this was the 2nd time calling it.\n",
      "WARNING:__main__:Finished call to '__main__.submit_batch_job' after 7.375(s), this was the 2nd time calling it.\n",
      "WARNING:__main__:Finished call to '__main__.submit_batch_job' after 6.109(s), this was the 2nd time calling it.\n",
      "WARNING:__main__:Finished call to '__main__.submit_batch_job' after 5.828(s), this was the 2nd time calling it.\n",
      "WARNING:__main__:Finished call to '__main__.submit_batch_job' after 0.266(s), this was the 1st time calling it.\n",
      "WARNING:__main__:Finished call to '__main__.submit_batch_job' after 5.719(s), this was the 2nd time calling it.\n",
      "WARNING:__main__:Finished call to '__main__.submit_batch_job' after 5.687(s), this was the 2nd time calling it.\n",
      "WARNING:__main__:Finished call to '__main__.submit_batch_job' after 0.266(s), this was the 1st time calling it.\n",
      "WARNING:__main__:Finished call to '__main__.submit_batch_job' after 5.687(s), this was the 2nd time calling it.\n",
      "WARNING:__main__:Finished call to '__main__.submit_batch_job' after 0.265(s), this was the 1st time calling it.\n"
     ]
    },
    {
     "name": "stdout",
     "output_type": "stream",
     "text": [
      "File batch_64.jsonl uploaded successfully. File ID: file-WrnJrqEmPukmoVjgfWqDv7\n",
      "Submit batch for file id: file-WrnJrqEmPukmoVjgfWqDv7\n",
      "Submit batch for file id: file-RHmvdYBaqLpxSqMaypSZN6\n",
      "Submit batch for file id: file-DbPeHtJ6fBgf4DZeeUnmNn\n",
      "File batch_47.jsonl uploaded successfully. File ID: file-NThfuvn1fDADecNP8ZYhSR\n",
      "Submit batch for file id: file-NThfuvn1fDADecNP8ZYhSR\n"
     ]
    },
    {
     "name": "stderr",
     "output_type": "stream",
     "text": [
      "WARNING:__main__:Finished call to '__main__.submit_batch_job' after 5.718(s), this was the 2nd time calling it.\n",
      "WARNING:__main__:Finished call to '__main__.submit_batch_job' after 0.265(s), this was the 1st time calling it.\n",
      "WARNING:__main__:Finished call to '__main__.submit_batch_job' after 5.688(s), this was the 2nd time calling it.\n",
      "WARNING:__main__:Finished call to '__main__.submit_batch_job' after 24.188(s), this was the 2nd time calling it.\n",
      "WARNING:__main__:Finished call to '__main__.submit_batch_job' after 0.266(s), this was the 1st time calling it.\n"
     ]
    },
    {
     "name": "stdout",
     "output_type": "stream",
     "text": [
      "Submit batch for file id: file-MDqCg3P15rFoep9KXowkbK\n",
      "File batch_45.jsonl uploaded successfully. File ID: file-RziAkibZ371jUpgQTtD9XD\n",
      "Submit batch for file id: file-RziAkibZ371jUpgQTtD9XD\n",
      "File batch_70.jsonl uploaded successfully. File ID: file-BcYjC8yq24uq3edTcM6sLp\n",
      "Submit batch for file id: file-BcYjC8yq24uq3edTcM6sLp\n",
      "Submit batch for file id: file-8MkDuQwXcvJQZPkr1WRpzN\n",
      "File batch_365.jsonl uploaded successfully. File ID: file-QYZBaJPyrTsK9HRtkixn1S\n",
      "Submit batch for file id: file-QYZBaJPyrTsK9HRtkixn1S\n",
      "File batch_89.jsonl uploaded successfully. File ID: file-M6vqjx7iJS4UnXAssmNU45\n",
      "Submit batch for file id: file-M6vqjx7iJS4UnXAssmNU45\n",
      "File batch_62.jsonl uploaded successfully. File ID: file-FgP1tfYxnMRQCnHkab4XCC\n",
      "Submit batch for file id: file-FgP1tfYxnMRQCnHkab4XCC\n",
      "File batch_79.jsonl uploaded successfully. File ID: file-Tr1jAgWvz4F4pfyJZkQZVo\n",
      "Submit batch for file id: file-Tr1jAgWvz4F4pfyJZkQZVo\n",
      "File batch_52.jsonl uploaded successfully. File ID: file-8JjpMKrZycPontb9SVds2h\n",
      "Submit batch for file id: file-8JjpMKrZycPontb9SVds2h\n",
      "Submit batch for file id: file-VZp9Bu1g5yFU3AmFoqNGRF\n",
      "Submit batch for file id: file-PdemxDdFGttGVSVpNmnkCU\n"
     ]
    },
    {
     "name": "stderr",
     "output_type": "stream",
     "text": [
      "WARNING:__main__:Finished call to '__main__.submit_batch_job' after 0.250(s), this was the 1st time calling it.\n",
      "WARNING:__main__:Finished call to '__main__.submit_batch_job' after 5.657(s), this was the 2nd time calling it.\n",
      "WARNING:__main__:Finished call to '__main__.submit_batch_job' after 5.641(s), this was the 2nd time calling it.\n",
      "WARNING:__main__:Finished call to '__main__.submit_batch_job' after 0.281(s), this was the 1st time calling it.\n",
      "WARNING:__main__:Finished call to '__main__.submit_batch_job' after 0.266(s), this was the 1st time calling it.\n",
      "WARNING:__main__:Finished call to '__main__.submit_batch_job' after 0.250(s), this was the 1st time calling it.\n",
      "WARNING:__main__:Finished call to '__main__.submit_batch_job' after 0.266(s), this was the 1st time calling it.\n",
      "WARNING:__main__:Finished call to '__main__.submit_batch_job' after 0.250(s), this was the 1st time calling it.\n",
      "WARNING:__main__:Finished call to '__main__.submit_batch_job' after 5.687(s), this was the 2nd time calling it.\n"
     ]
    },
    {
     "name": "stdout",
     "output_type": "stream",
     "text": [
      "File batch_349.jsonl uploaded successfully. File ID: file-4ysB3dATxdLtyFmGoMLJbm\n",
      "Submit batch for file id: file-4ysB3dATxdLtyFmGoMLJbm\n",
      "Submit batch for file id: file-PHYb6NuxAo4rdUe3sTykUW\n",
      "File batch_49.jsonl uploaded successfully. File ID: file-FwXwCpj511e6CWRvvuSouN\n",
      "Submit batch for file id: file-FwXwCpj511e6CWRvvuSouN\n",
      "Submit batch for file id: file-XL1vWF5Dk46HD2WWcsWmiH\n",
      "File batch_39.jsonl uploaded successfully. File ID: file-FKsNVDiy75uq3y1QEVkgrD\n",
      "Submit batch for file id: file-FKsNVDiy75uq3y1QEVkgrD\n",
      "File batch_61.jsonl uploaded successfully. File ID: file-9pmuPCdP8Kzt1xT6bKFBsD\n",
      "Submit batch for file id: file-9pmuPCdP8Kzt1xT6bKFBsD\n"
     ]
    },
    {
     "name": "stderr",
     "output_type": "stream",
     "text": [
      "WARNING:__main__:Finished call to '__main__.submit_batch_job' after 0.250(s), this was the 1st time calling it.\n",
      "WARNING:__main__:Finished call to '__main__.submit_batch_job' after 5.687(s), this was the 2nd time calling it.\n",
      "WARNING:__main__:Finished call to '__main__.submit_batch_job' after 0.265(s), this was the 1st time calling it.\n",
      "WARNING:__main__:Finished call to '__main__.submit_batch_job' after 5.703(s), this was the 2nd time calling it.\n",
      "WARNING:__main__:Finished call to '__main__.submit_batch_job' after 6.156(s), this was the 2nd time calling it.\n",
      "WARNING:__main__:Finished call to '__main__.submit_batch_job' after 0.235(s), this was the 1st time calling it.\n",
      "WARNING:__main__:Finished call to '__main__.submit_batch_job' after 0.250(s), this was the 1st time calling it.\n",
      "WARNING:__main__:Finished call to '__main__.submit_batch_job' after 0.266(s), this was the 1st time calling it.\n"
     ]
    },
    {
     "name": "stdout",
     "output_type": "stream",
     "text": [
      "Submit batch for file id: file-H9umBQ55SBNkgKD5DyNEoH\n",
      "Submit batch for file id: file-Tdrw4YXSENM3QfrTGQKBF5\n"
     ]
    },
    {
     "name": "stderr",
     "output_type": "stream",
     "text": [
      "WARNING:__main__:Finished call to '__main__.submit_batch_job' after 5.672(s), this was the 2nd time calling it.\n",
      "WARNING:__main__:Finished call to '__main__.submit_batch_job' after 5.641(s), this was the 2nd time calling it.\n"
     ]
    },
    {
     "name": "stdout",
     "output_type": "stream",
     "text": [
      "Submit batch for file id: file-Ja5B2rwvgBqawbXmZyhSLD\n",
      "Submit batch for file id: file-JwQADN93qKJfgkZjWg9piw\n",
      "Submit batch for file id: file-2AXx8RGZweKu1H1KYfPtKu\n",
      "Submit batch for file id: file-QtbZL6tHmRzD1KySbRSojf\n",
      "File batch_352.jsonl uploaded successfully. File ID: file-XTF1Vw6ny7HJmK373gw8oR\n",
      "Submit batch for file id: file-XTF1Vw6ny7HJmK373gw8oR\n",
      "File batch_46.jsonl uploaded successfully. File ID: file-QSUvfRzgRr5HpNghTDDWM3\n",
      "Submit batch for file id: file-QSUvfRzgRr5HpNghTDDWM3\n",
      "File batch_7.jsonl uploaded successfully. File ID: file-A7iJ41EqiTyJ2VwxDp49qa\n",
      "Submit batch for file id: file-A7iJ41EqiTyJ2VwxDp49qa\n",
      "File batch_76.jsonl uploaded successfully. File ID: file-MjMR2x32dToxY33RGkjuD7\n",
      "Submit batch for file id: file-MjMR2x32dToxY33RGkjuD7\n",
      "File batch_36.jsonl uploaded successfully. File ID: file-Wa1JHvq4qG361g9iiWX1N4\n",
      "Submit batch for file id: file-Wa1JHvq4qG361g9iiWX1N4\n"
     ]
    },
    {
     "name": "stderr",
     "output_type": "stream",
     "text": [
      "WARNING:__main__:Finished call to '__main__.submit_batch_job' after 5.672(s), this was the 2nd time calling it.\n",
      "WARNING:__main__:Finished call to '__main__.submit_batch_job' after 5.672(s), this was the 2nd time calling it.\n",
      "WARNING:__main__:Finished call to '__main__.submit_batch_job' after 12.438(s), this was the 3rd time calling it.\n",
      "WARNING:__main__:Finished call to '__main__.submit_batch_job' after 5.625(s), this was the 2nd time calling it.\n",
      "WARNING:__main__:Finished call to '__main__.submit_batch_job' after 0.218(s), this was the 1st time calling it.\n",
      "WARNING:__main__:Finished call to '__main__.submit_batch_job' after 0.218(s), this was the 1st time calling it.\n",
      "WARNING:__main__:Finished call to '__main__.submit_batch_job' after 0.219(s), this was the 1st time calling it.\n"
     ]
    },
    {
     "name": "stdout",
     "output_type": "stream",
     "text": [
      "File batch_85.jsonl uploaded successfully. File ID: file-AcpkMAU8hZmEdmP8zoi6Qm\n",
      "Submit batch for file id: file-AcpkMAU8hZmEdmP8zoi6Qm\n",
      "Submit batch for file id: file-GK4MBhkxWmJnZ7wyRLpgwy\n",
      "File batch_50.jsonl uploaded successfully. File ID: file-73PzCnFFqM22rsR6CJ9jwd\n",
      "Submit batch for file id: file-73PzCnFFqM22rsR6CJ9jwd\n",
      "File batch_67.jsonl uploaded successfully. File ID: file-U9gTH3LrY4XrxSLfsGvLPM\n",
      "Submit batch for file id: file-U9gTH3LrY4XrxSLfsGvLPM\n",
      "File batch_357.jsonl uploaded successfully. File ID: file-TiqaXQszBeB7jLUgJK5zUC\n",
      "Submit batch for file id: file-TiqaXQszBeB7jLUgJK5zUC\n",
      "File batch_60.jsonl uploaded successfully. File ID: file-5xH83SH3nrjj5FUjM8hE5z\n",
      "Submit batch for file id: file-5xH83SH3nrjj5FUjM8hE5z\n",
      "File batch_58.jsonl uploaded successfully. File ID: file-SGoozFukVkQGkRjNpvqu6M\n",
      "Submit batch for file id: file-SGoozFukVkQGkRjNpvqu6M\n",
      "File batch_94.jsonl uploaded successfully. File ID: file-GmUMG16MtN9gaT5pGe2yUf\n",
      "Submit batch for file id: file-GmUMG16MtN9gaT5pGe2yUf\n",
      "File batch_80.jsonl uploaded successfully. File ID: file-19hekmGRNLex8qyv4jhnFF\n",
      "Submit batch for file id: file-19hekmGRNLex8qyv4jhnFF\n",
      "File batch_71.jsonl uploaded successfully. File ID: file-K1PkdGJiqkdhJ4GzKwK9fm\n",
      "Submit batch for file id: file-K1PkdGJiqkdhJ4GzKwK9fm\n",
      "Submit batch for file id: file-NPkj8akvzm3xY2Nng3zLhr\n"
     ]
    },
    {
     "name": "stderr",
     "output_type": "stream",
     "text": [
      "WARNING:__main__:Finished call to '__main__.submit_batch_job' after 0.219(s), this was the 1st time calling it.\n",
      "WARNING:__main__:Finished call to '__main__.submit_batch_job' after 0.234(s), this was the 1st time calling it.\n",
      "WARNING:__main__:Finished call to '__main__.submit_batch_job' after 0.219(s), this was the 1st time calling it.\n",
      "WARNING:__main__:Finished call to '__main__.submit_batch_job' after 5.610(s), this was the 2nd time calling it.\n",
      "WARNING:__main__:Finished call to '__main__.submit_batch_job' after 0.234(s), this was the 1st time calling it.\n",
      "WARNING:__main__:Finished call to '__main__.submit_batch_job' after 0.234(s), this was the 1st time calling it.\n",
      "WARNING:__main__:Finished call to '__main__.submit_batch_job' after 0.218(s), this was the 1st time calling it.\n",
      "WARNING:__main__:Finished call to '__main__.submit_batch_job' after 0.219(s), this was the 1st time calling it.\n",
      "WARNING:__main__:Finished call to '__main__.submit_batch_job' after 0.203(s), this was the 1st time calling it.\n",
      "WARNING:__main__:Finished call to '__main__.submit_batch_job' after 0.204(s), this was the 1st time calling it.\n",
      "WARNING:__main__:Finished call to '__main__.submit_batch_job' after 0.219(s), this was the 1st time calling it.\n",
      "WARNING:__main__:Finished call to '__main__.submit_batch_job' after 0.250(s), this was the 1st time calling it.\n",
      "WARNING:__main__:Finished call to '__main__.submit_batch_job' after 5.578(s), this was the 2nd time calling it.\n"
     ]
    },
    {
     "name": "stdout",
     "output_type": "stream",
     "text": [
      "File batch_92.jsonl uploaded successfully. File ID: file-1RSpMvog5uDCq2UMxVmfbV\n",
      "Submit batch for file id: file-1RSpMvog5uDCq2UMxVmfbV\n",
      "File batch_73.jsonl uploaded successfully. File ID: file-2PNqqZAVUw8DUdW6ow24Nk\n",
      "Submit batch for file id: file-2PNqqZAVUw8DUdW6ow24Nk\n",
      "File batch_4.jsonl uploaded successfully. File ID: file-3M7wi21PaBYezt1qttZRqL\n",
      "Submit batch for file id: file-3M7wi21PaBYezt1qttZRqL\n",
      "File batch_74.jsonl uploaded successfully. File ID: file-3NHyHyt4fTK2ypn4GpK54T\n",
      "Submit batch for file id: file-3NHyHyt4fTK2ypn4GpK54T\n",
      "File batch_66.jsonl uploaded successfully. File ID: file-FU68rpH3iXMw4a22fBpRHt\n",
      "Submit batch for file id: file-FU68rpH3iXMw4a22fBpRHt\n",
      "File batch_91.jsonl uploaded successfully. File ID: file-FBpbUrfk5hFRS7qQf2wU7i\n",
      "Submit batch for file id: file-FBpbUrfk5hFRS7qQf2wU7i\n",
      "File batch_361.jsonl uploaded successfully. File ID: file-Ng8hKcLpo77rK2QwqX7auq\n",
      "Submit batch for file id: file-Ng8hKcLpo77rK2QwqX7auq\n",
      "Submit batch for file id: file-4Dx4o9pBBkbrHBFB754EBT\n",
      "File batch_59.jsonl uploaded successfully. File ID: file-KSGYAE72fyQKWzumYLtZLY\n",
      "Submit batch for file id: file-KSGYAE72fyQKWzumYLtZLY\n",
      "File batch_65.jsonl uploaded successfully. File ID: file-WdG9GHe5CUPVbZx2Uc1dT5\n",
      "Submit batch for file id: file-WdG9GHe5CUPVbZx2Uc1dT5\n"
     ]
    },
    {
     "name": "stderr",
     "output_type": "stream",
     "text": [
      "WARNING:__main__:Finished call to '__main__.submit_batch_job' after 0.219(s), this was the 1st time calling it.\n",
      "WARNING:__main__:Finished call to '__main__.submit_batch_job' after 0.219(s), this was the 1st time calling it.\n",
      "WARNING:__main__:Finished call to '__main__.submit_batch_job' after 0.218(s), this was the 1st time calling it.\n",
      "WARNING:__main__:Finished call to '__main__.submit_batch_job' after 0.234(s), this was the 1st time calling it.\n",
      "WARNING:__main__:Finished call to '__main__.submit_batch_job' after 0.219(s), this was the 1st time calling it.\n",
      "WARNING:__main__:Finished call to '__main__.submit_batch_job' after 0.234(s), this was the 1st time calling it.\n",
      "WARNING:__main__:Finished call to '__main__.submit_batch_job' after 5.594(s), this was the 2nd time calling it.\n",
      "WARNING:__main__:Finished call to '__main__.submit_batch_job' after 0.219(s), this was the 1st time calling it.\n",
      "WARNING:__main__:Finished call to '__main__.submit_batch_job' after 0.203(s), this was the 1st time calling it.\n",
      "WARNING:__main__:Finished call to '__main__.submit_batch_job' after 0.219(s), this was the 1st time calling it.\n"
     ]
    },
    {
     "name": "stdout",
     "output_type": "stream",
     "text": [
      "File batch_93.jsonl uploaded successfully. File ID: file-QpWac8fzcNRqMVD1imLZN2\n",
      "Submit batch for file id: file-QpWac8fzcNRqMVD1imLZN2\n",
      "Submit batch for file id: file-3yHx3RxL5TjHBpqJRwuu5W\n",
      "File batch_98.jsonl uploaded successfully. File ID: file-9WwhAQQH5C9pjPUdQPS7PH\n",
      "Submit batch for file id: file-9WwhAQQH5C9pjPUdQPS7PH\n"
     ]
    },
    {
     "name": "stderr",
     "output_type": "stream",
     "text": [
      "WARNING:__main__:Finished call to '__main__.submit_batch_job' after 0.219(s), this was the 1st time calling it.\n",
      "WARNING:__main__:Finished call to '__main__.submit_batch_job' after 5.562(s), this was the 2nd time calling it.\n",
      "WARNING:__main__:Finished call to '__main__.submit_batch_job' after 0.234(s), this was the 1st time calling it.\n"
     ]
    },
    {
     "name": "stdout",
     "output_type": "stream",
     "text": [
      "Submit batch for file id: file-UhaPhcmrzRe6AriJi7D8Xn\n",
      "Submit batch for file id: file-4iELHf65RHG46TRJG97A5m\n",
      "File batch_55.jsonl uploaded successfully. File ID: file-VWbofwLYTc2XKR1tWy27Xm\n",
      "Submit batch for file id: file-VWbofwLYTc2XKR1tWy27Xm\n",
      "Submit batch for file id: file-BMKsPEj3CGi5B6TT6xtSgs\n",
      "File batch_69.jsonl uploaded successfully. File ID: file-QEEnDUbDpxadhah3wi8xeh\n",
      "Submit batch for file id: file-QEEnDUbDpxadhah3wi8xeh\n",
      "File batch_95.jsonl uploaded successfully. File ID: file-BJ6SoE2jasuvWdQdQzY6QG\n",
      "Submit batch for file id: file-BJ6SoE2jasuvWdQdQzY6QG\n",
      "File batch_53.jsonl uploaded successfully. File ID: file-WtbAvhtw8owkMrg8aThABy\n",
      "Submit batch for file id: file-WtbAvhtw8owkMrg8aThABy\n",
      "Submit batch for file id: file-QPhfFGGDm13XYLfLDuDcVo\n",
      "File batch_99.jsonl uploaded successfully. File ID: file-7NHGfB6gapXMomUNiCV9i7\n",
      "Submit batch for file id: file-7NHGfB6gapXMomUNiCV9i7\n",
      "File batch_84.jsonl uploaded successfully. File ID: file-F2ytrfRktUCSFpBePnJokc\n",
      "Submit batch for file id: file-F2ytrfRktUCSFpBePnJokc\n",
      "Submit batch for file id: file-ThUzQnduMpC1Uok36nmaua\n",
      "File batch_88.jsonl uploaded successfully. File ID: file-GhD1dQH9vwfzVy4DwSAZ6D\n",
      "Submit batch for file id: file-GhD1dQH9vwfzVy4DwSAZ6D\n",
      "File batch_77.jsonl uploaded successfully. File ID: file-9tgGZ5CVwidwqHs6vs7Y2D\n",
      "Submit batch for file id: file-9tgGZ5CVwidwqHs6vs7Y2D\n",
      "File batch_86.jsonl uploaded successfully. File ID: file-FnbEuh9cXtH1rY17Ahq38a\n",
      "Submit batch for file id: file-FnbEuh9cXtH1rY17Ahq38a\n"
     ]
    },
    {
     "name": "stderr",
     "output_type": "stream",
     "text": [
      "WARNING:__main__:Finished call to '__main__.submit_batch_job' after 0.203(s), this was the 1st time calling it.\n",
      "WARNING:__main__:Finished call to '__main__.submit_batch_job' after 43.579(s), this was the 3rd time calling it.\n",
      "WARNING:__main__:Finished call to '__main__.submit_batch_job' after 44.000(s), this was the 3rd time calling it.\n",
      "WARNING:__main__:Finished call to '__main__.submit_batch_job' after 5.562(s), this was the 2nd time calling it.\n",
      "WARNING:__main__:Finished call to '__main__.submit_batch_job' after 0.219(s), this was the 1st time calling it.\n",
      "WARNING:__main__:Finished call to '__main__.submit_batch_job' after 0.218(s), this was the 1st time calling it.\n",
      "WARNING:__main__:Finished call to '__main__.submit_batch_job' after 0.219(s), this was the 1st time calling it.\n",
      "WARNING:__main__:Finished call to '__main__.submit_batch_job' after 5.562(s), this was the 2nd time calling it.\n",
      "WARNING:__main__:Finished call to '__main__.submit_batch_job' after 0.219(s), this was the 1st time calling it.\n",
      "WARNING:__main__:Finished call to '__main__.submit_batch_job' after 0.234(s), this was the 1st time calling it.\n",
      "WARNING:__main__:Finished call to '__main__.submit_batch_job' after 41.688(s), this was the 3rd time calling it.\n",
      "WARNING:__main__:Finished call to '__main__.submit_batch_job' after 0.219(s), this was the 1st time calling it.\n",
      "WARNING:__main__:Finished call to '__main__.submit_batch_job' after 0.219(s), this was the 1st time calling it.\n",
      "WARNING:__main__:Finished call to '__main__.submit_batch_job' after 0.188(s), this was the 1st time calling it.\n"
     ]
    },
    {
     "name": "stdout",
     "output_type": "stream",
     "text": [
      "File batch_72.jsonl uploaded successfully. File ID: file-14UtbHeH4gqhTEmMB7B6QX\n",
      "Submit batch for file id: file-14UtbHeH4gqhTEmMB7B6QX\n",
      "Submit batch for file id: file-H4UcdjvzFU3NSvLfV9Lz91\n",
      "File batch_81.jsonl uploaded successfully. File ID: file-MWn3HdNBGpCa3QDR7CiBE6\n",
      "Submit batch for file id: file-MWn3HdNBGpCa3QDR7CiBE6\n",
      "File batch_75.jsonl uploaded successfully. File ID: file-452kpXTmFLdXh9aRAfhH3A\n",
      "Submit batch for file id: file-452kpXTmFLdXh9aRAfhH3A\n",
      "Submit batch for file id: file-3fmNDSb9bejhsKQQVEJkeG\n",
      "File batch_6.jsonl uploaded successfully. File ID: file-Dt7PZkigoGW6CSiksJWKdx\n",
      "Submit batch for file id: file-Dt7PZkigoGW6CSiksJWKdx\n",
      "Submit batch for file id: file-1NMVxFsL8X9gXuXCd1M7aw\n",
      "Submit batch for file id: file-FqRbp1o9UcMyS43rtgozVF\n",
      "Submit batch for file id: file-QxKgbxPLvdvGzS4VTHTkLN\n"
     ]
    },
    {
     "name": "stderr",
     "output_type": "stream",
     "text": [
      "WARNING:__main__:Finished call to '__main__.submit_batch_job' after 0.219(s), this was the 1st time calling it.\n",
      "WARNING:__main__:Finished call to '__main__.submit_batch_job' after 40.828(s), this was the 3rd time calling it.\n",
      "WARNING:__main__:Finished call to '__main__.submit_batch_job' after 0.219(s), this was the 1st time calling it.\n",
      "WARNING:__main__:Finished call to '__main__.submit_batch_job' after 0.218(s), this was the 1st time calling it.\n",
      "WARNING:__main__:Finished call to '__main__.submit_batch_job' after 0.234(s), this was the 1st time calling it.\n",
      "WARNING:__main__:Finished call to '__main__.submit_batch_job' after 40.234(s), this was the 3rd time calling it.\n",
      "WARNING:__main__:Finished call to '__main__.submit_batch_job' after 39.844(s), this was the 3rd time calling it.\n",
      "WARNING:__main__:Finished call to '__main__.submit_batch_job' after 39.875(s), this was the 3rd time calling it.\n",
      "WARNING:__main__:Finished call to '__main__.submit_batch_job' after 39.672(s), this was the 3rd time calling it.\n"
     ]
    },
    {
     "name": "stdout",
     "output_type": "stream",
     "text": [
      "File batch_96.jsonl uploaded successfully. File ID: file-DyynCjH5cKoz3hSsmNynvY\n",
      "Submit batch for file id: file-DyynCjH5cKoz3hSsmNynvY\n",
      "File batch_97.jsonl uploaded successfully. File ID: file-C4wp4VMHepZpHQ85ouox9U\n",
      "Submit batch for file id: file-C4wp4VMHepZpHQ85ouox9U\n",
      "Submit batch for file id: file-GeQEbs1FumYAywStuHXGz2\n",
      "Submit batch for file id: file-GzunAg1Jw91Jwt7gBFJBHV\n",
      "Submit batch for file id: file-5gqNiwo1LRu7sVuKnG8kaU\n",
      "Submit batch for file id: file-7xLX9EvuFRC8z5d1BkZmwg\n",
      "File batch_78.jsonl uploaded successfully. File ID: file-AMgw3d9pcadAK8ZnQRGSDs\n",
      "Submit batch for file id: file-AMgw3d9pcadAK8ZnQRGSDs\n",
      "Submit batch for file id: file-Pewzr3iPfUGNaz6TuxBZRx\n"
     ]
    },
    {
     "name": "stderr",
     "output_type": "stream",
     "text": [
      "WARNING:__main__:Finished call to '__main__.submit_batch_job' after 0.218(s), this was the 1st time calling it.\n",
      "WARNING:__main__:Finished call to '__main__.submit_batch_job' after 0.203(s), this was the 1st time calling it.\n",
      "WARNING:__main__:Finished call to '__main__.submit_batch_job' after 39.156(s), this was the 3rd time calling it.\n",
      "WARNING:__main__:Finished call to '__main__.submit_batch_job' after 39.531(s), this was the 3rd time calling it.\n",
      "WARNING:__main__:Finished call to '__main__.submit_batch_job' after 39.281(s), this was the 3rd time calling it.\n",
      "WARNING:__main__:Finished call to '__main__.submit_batch_job' after 38.860(s), this was the 3rd time calling it.\n",
      "WARNING:__main__:Finished call to '__main__.submit_batch_job' after 0.219(s), this was the 1st time calling it.\n",
      "WARNING:__main__:Finished call to '__main__.submit_batch_job' after 5.500(s), this was the 2nd time calling it.\n"
     ]
    },
    {
     "name": "stdout",
     "output_type": "stream",
     "text": [
      "Submit batch for file id: file-CzMBcRbrD3bdGSTfdLPbkJ\n",
      "Submit batch for file id: file-LBdJ7yEGUcrf9PUqaYEYYr\n",
      "Submit batch for file id: file-TRjcj5TSPkxG7Zuu5SiC4X\n",
      "Submit batch for file id: file-SdD4uAiAPrNcWE3d9qeMQR\n",
      "Submit batch for file id: file-1u9Bt8e2ibrsQJJjdunnYv\n",
      "Submit batch for file id: file-Q3nAh4mS6MAXDKjkWrbYBv\n",
      "Submit batch for file id: file-1isXv9KCKi8aFR2XJdh1rr\n",
      "Submit batch for file id: file-GsjuNhkyucFtemhFqBw9jK\n"
     ]
    },
    {
     "name": "stderr",
     "output_type": "stream",
     "text": [
      "WARNING:__main__:Finished call to '__main__.submit_batch_job' after 39.156(s), this was the 3rd time calling it.\n",
      "WARNING:__main__:Finished call to '__main__.submit_batch_job' after 38.890(s), this was the 3rd time calling it.\n",
      "WARNING:__main__:Finished call to '__main__.submit_batch_job' after 38.844(s), this was the 3rd time calling it.\n",
      "WARNING:__main__:Finished call to '__main__.submit_batch_job' after 38.485(s), this was the 3rd time calling it.\n",
      "WARNING:__main__:Finished call to '__main__.submit_batch_job' after 11.985(s), this was the 3rd time calling it.\n",
      "WARNING:__main__:Finished call to '__main__.submit_batch_job' after 5.515(s), this was the 2nd time calling it.\n",
      "WARNING:__main__:Finished call to '__main__.submit_batch_job' after 5.484(s), this was the 2nd time calling it.\n",
      "WARNING:__main__:Finished call to '__main__.submit_batch_job' after 5.516(s), this was the 2nd time calling it.\n"
     ]
    },
    {
     "name": "stdout",
     "output_type": "stream",
     "text": [
      "Submit batch for file id: file-PArMLLVcLezL2Yyv5an18b\n",
      "Submit batch for file id: file-1fDq8cz6i6fWC9p4riYfn8\n",
      "Submit batch for file id: file-Fprg6acBD5mfwJRKg7qhBU\n",
      "File batch_9.jsonl uploaded successfully. File ID: file-1uFDWcaPVM8ChELTmdJCcG\n",
      "Submit batch for file id: file-1uFDWcaPVM8ChELTmdJCcG\n",
      "Submit batch for file id: file-2fXDtEf9HWQp16vYJRKbW7\n",
      "Submit batch for file id: file-MKjjGe4CJK4cEyuAZP17ik\n",
      "Submit batch for file id: file-BLJkpqTaeHRqi71x52mNo2\n",
      "Submit batch for file id: file-8UAk9kX5rpzBaw4XdxDPHC\n",
      "Submit batch for file id: file-Dj4JPGJmPNbtDFrc7PvEtb\n",
      "Submit batch for file id: file-Khcv7WqDiZQWtK29NyAVHK\n"
     ]
    },
    {
     "name": "stderr",
     "output_type": "stream",
     "text": [
      "WARNING:__main__:Finished call to '__main__.submit_batch_job' after 38.593(s), this was the 3rd time calling it.\n",
      "WARNING:__main__:Finished call to '__main__.submit_batch_job' after 38.891(s), this was the 3rd time calling it.\n",
      "WARNING:__main__:Finished call to '__main__.submit_batch_job' after 38.422(s), this was the 3rd time calling it.\n",
      "WARNING:__main__:Finished call to '__main__.submit_batch_job' after 0.235(s), this was the 1st time calling it.\n",
      "WARNING:__main__:Finished call to '__main__.submit_batch_job' after 38.265(s), this was the 3rd time calling it.\n",
      "WARNING:__main__:Finished call to '__main__.submit_batch_job' after 5.500(s), this was the 2nd time calling it.\n",
      "WARNING:__main__:Finished call to '__main__.submit_batch_job' after 12.063(s), this was the 3rd time calling it.\n",
      "WARNING:__main__:Finished call to '__main__.submit_batch_job' after 11.984(s), this was the 3rd time calling it.\n"
     ]
    },
    {
     "name": "stdout",
     "output_type": "stream",
     "text": [
      "Submit batch for file id: file-KZjZHp1tuQw7CjVSefKgH8\n",
      "Submit batch for file id: file-KGpSmjoPL3664QVP2y99ee\n",
      "Submit batch for file id: file-Q77rQfKqLTy7JdP6B53MXR\n",
      "Submit batch for file id: file-L18uPjHMMmG7dko5B4TDvL\n",
      "Submit batch for file id: file-EREeKA86cHncJY5T723gTU\n",
      "Submit batch for file id: file-5HwBpd5vU8mbS5isXXWtHf\n",
      "Submit batch for file id: file-34GkneJBJey5PxfHBjf76d\n",
      "Submit batch for file id: file-EKGwz4JDNFvAdYi2kiWPs1\n",
      "File batch_87.jsonl uploaded successfully. File ID: file-9Es3UigCPuAWFRi3ST68f2\n",
      "Submit batch for file id: file-9Es3UigCPuAWFRi3ST68f2\n",
      "Submit batch for file id: file-6LX5UEFn5XPUWdDQowifhb\n",
      "Submit batch for file id: file-Fo5ksX8z6SbdXXNTLTH13J\n"
     ]
    },
    {
     "name": "stderr",
     "output_type": "stream",
     "text": [
      "WARNING:__main__:Finished call to '__main__.submit_batch_job' after 38.219(s), this was the 3rd time calling it.\n",
      "WARNING:__main__:Finished call to '__main__.submit_batch_job' after 38.344(s), this was the 3rd time calling it.\n",
      "WARNING:__main__:Finished call to '__main__.submit_batch_job' after 38.203(s), this was the 3rd time calling it.\n",
      "WARNING:__main__:Finished call to '__main__.submit_batch_job' after 38.328(s), this was the 3rd time calling it.\n",
      "WARNING:__main__:Finished call to '__main__.submit_batch_job' after 37.969(s), this was the 3rd time calling it.\n",
      "WARNING:__main__:Finished call to '__main__.submit_batch_job' after 37.844(s), this was the 3rd time calling it.\n",
      "WARNING:__main__:Finished call to '__main__.submit_batch_job' after 5.500(s), this was the 2nd time calling it.\n",
      "WARNING:__main__:Finished call to '__main__.submit_batch_job' after 37.641(s), this was the 3rd time calling it.\n",
      "WARNING:__main__:Finished call to '__main__.submit_batch_job' after 37.656(s), this was the 3rd time calling it.\n",
      "WARNING:__main__:Finished call to '__main__.submit_batch_job' after 0.218(s), this was the 1st time calling it.\n",
      "WARNING:__main__:Finished call to '__main__.submit_batch_job' after 37.641(s), this was the 3rd time calling it.\n",
      "WARNING:__main__:Finished call to '__main__.submit_batch_job' after 37.641(s), this was the 3rd time calling it.\n",
      "WARNING:__main__:Finished call to '__main__.submit_batch_job' after 37.594(s), this was the 3rd time calling it.\n"
     ]
    },
    {
     "name": "stdout",
     "output_type": "stream",
     "text": [
      "Submit batch for file id: file-UmdSKAtbz7mytCsPcw4ytH\n",
      "Submit batch for file id: file-6hwGTQJkvpNby3vCRzdi8r\n",
      "Submit batch for file id: file-KvNYFYP6LV3vBkLhfEteq9\n",
      "Submit batch for file id: file-E9pFaSMNwmSRgnrojGiauK\n",
      "File batch_90.jsonl uploaded successfully. File ID: file-UeP82H3VUMSuBxtVeLZBFF\n",
      "Submit batch for file id: file-UeP82H3VUMSuBxtVeLZBFF\n",
      "Submit batch for file id: file-T2TohLGKZbNawbsAJeZXXS\n",
      "Submit batch for file id: file-FX3XzucfTo4aRreRY5vW5G\n",
      "Submit batch for file id: file-CTQq6gZzf8K4m4RTXH33kZ\n",
      "Submit batch for file id: file-Weof6ATP6ra6AmywrA4ETG\n",
      "Submit batch for file id: file-BrP9mvdjjaEE4uoPjKTy8e\n",
      "Submit batch for file id: file-R2re44U418x6UDTCX1jeRS\n",
      "Submit batch for file id: file-L3rBpKhbj1kT17QdawZKVx\n",
      "Submit batch for file id: file-5tCKkf9LDpsN5aoKguJHGb\n",
      "Submit batch for file id: file-RfqpSJZ8byFyaWm12Aw7EJ\n",
      "Submit batch for file id: file-9PzdXV5aKUbgUEnvjVBRc8\n"
     ]
    },
    {
     "name": "stderr",
     "output_type": "stream",
     "text": [
      "WARNING:__main__:Finished call to '__main__.submit_batch_job' after 37.532(s), this was the 3rd time calling it.\n",
      "WARNING:__main__:Finished call to '__main__.submit_batch_job' after 5.484(s), this was the 2nd time calling it.\n",
      "WARNING:__main__:Finished call to '__main__.submit_batch_job' after 37.531(s), this was the 3rd time calling it.\n",
      "WARNING:__main__:Finished call to '__main__.submit_batch_job' after 37.547(s), this was the 3rd time calling it.\n",
      "WARNING:__main__:Finished call to '__main__.submit_batch_job' after 37.593(s), this was the 3rd time calling it.\n",
      "WARNING:__main__:Finished call to '__main__.submit_batch_job' after 5.515(s), this was the 2nd time calling it.\n",
      "WARNING:__main__:Finished call to '__main__.submit_batch_job' after 37.515(s), this was the 3rd time calling it.\n",
      "WARNING:__main__:Finished call to '__main__.submit_batch_job' after 0.234(s), this was the 1st time calling it.\n",
      "WARNING:__main__:Finished call to '__main__.submit_batch_job' after 5.531(s), this was the 2nd time calling it.\n",
      "WARNING:__main__:Finished call to '__main__.submit_batch_job' after 37.531(s), this was the 3rd time calling it.\n",
      "WARNING:__main__:Finished call to '__main__.submit_batch_job' after 39.422(s), this was the 3rd time calling it.\n",
      "WARNING:__main__:Finished call to '__main__.submit_batch_job' after 36.985(s), this was the 3rd time calling it.\n",
      "WARNING:__main__:Finished call to '__main__.submit_batch_job' after 37.485(s), this was the 3rd time calling it.\n",
      "WARNING:__main__:Finished call to '__main__.submit_batch_job' after 36.922(s), this was the 3rd time calling it.\n"
     ]
    },
    {
     "name": "stdout",
     "output_type": "stream",
     "text": [
      "Submit batch for file id: file-2GktNG8Fgh57fMM32WsWUc\n",
      "Submit batch for file id: file-KEfdb4HG8ZHo7v3irUmPrf\n",
      "Submit batch for file id: file-HQBzF5n1VF7pqCBgiULxp8\n",
      "Submit batch for file id: file-VXUmzc7fTWyzxoUPJ9uCGJ\n",
      "Submit batch for file id: file-GoXRYrJMdnER63ECcb1DUw\n",
      "Submit batch for file id: file-6w6qWFHB46Q5bz6yNLrpfT\n",
      "Submit batch for file id: file-8YSwsw2WxFpt8r4rTXyoB7\n",
      "Submit batch for file id: file-StTXZszJwWqUoK8iCwjRHU\n",
      "Submit batch for file id: file-2gEWPEqJvtVEy1XQm9gEJh\n",
      "Submit batch for file id: file-1AQYB4Rc2rmE784MmJxRK5\n",
      "Submit batch for file id: file-92UwsHCxkmjWdH9PXJJy8B\n",
      "Submit batch for file id: file-Kfj1h9e7R5Jpag5oD3KLHs\n",
      "Submit batch for file id: file-8svkkDGm6DstHAhtxKWN4d\n",
      "Submit batch for file id: file-WVUgq3Pzipr9EmVoe6epU5\n",
      "Submit batch for file id: file-BqLuoDMp7RDSL3vg4Zme5E\n"
     ]
    },
    {
     "name": "stderr",
     "output_type": "stream",
     "text": [
      "WARNING:__main__:Finished call to '__main__.submit_batch_job' after 36.922(s), this was the 3rd time calling it.\n",
      "WARNING:__main__:Finished call to '__main__.submit_batch_job' after 5.531(s), this was the 2nd time calling it.\n",
      "WARNING:__main__:Finished call to '__main__.submit_batch_job' after 12.062(s), this was the 3rd time calling it.\n",
      "WARNING:__main__:Finished call to '__main__.submit_batch_job' after 36.812(s), this was the 3rd time calling it.\n",
      "WARNING:__main__:Finished call to '__main__.submit_batch_job' after 36.797(s), this was the 3rd time calling it.\n",
      "WARNING:__main__:Finished call to '__main__.submit_batch_job' after 36.719(s), this was the 3rd time calling it.\n",
      "WARNING:__main__:Finished call to '__main__.submit_batch_job' after 36.703(s), this was the 3rd time calling it.\n",
      "WARNING:__main__:Finished call to '__main__.submit_batch_job' after 5.515(s), this was the 2nd time calling it.\n",
      "WARNING:__main__:Finished call to '__main__.submit_batch_job' after 5.531(s), this was the 2nd time calling it.\n",
      "WARNING:__main__:Finished call to '__main__.submit_batch_job' after 36.250(s), this was the 3rd time calling it.\n",
      "WARNING:__main__:Finished call to '__main__.submit_batch_job' after 5.547(s), this was the 2nd time calling it.\n",
      "WARNING:__main__:Finished call to '__main__.submit_batch_job' after 5.500(s), this was the 2nd time calling it.\n",
      "WARNING:__main__:Finished call to '__main__.submit_batch_job' after 36.485(s), this was the 3rd time calling it.\n",
      "WARNING:__main__:Finished call to '__main__.submit_batch_job' after 36.719(s), this was the 3rd time calling it.\n",
      "WARNING:__main__:Finished call to '__main__.submit_batch_job' after 36.516(s), this was the 3rd time calling it.\n",
      "WARNING:__main__:Finished call to '__main__.submit_batch_job' after 36.235(s), this was the 3rd time calling it.\n"
     ]
    },
    {
     "name": "stdout",
     "output_type": "stream",
     "text": [
      "Submit batch for file id: file-Y93zkbzQ4n9ZrAkSi1o5f4\n",
      "Submit batch for file id: file-YLn8FVmakzjTvym4ZjDHkx\n",
      "Submit batch for file id: file-39vzF4LaqdajCSPfygAteN\n",
      "Submit batch for file id: file-CXDGiUgoYice4vcgoJyvtF\n",
      "Submit batch for file id: file-CVuJGzm57nnPkHVotMCYMz\n",
      "Submit batch for file id: file-9e7SdTfz6YxMvai4wzwZsm\n",
      "Submit batch for file id: file-JWMMg384xxLy7Jjtznt7Fp\n",
      "Submit batch for file id: file-LnMkodr3RLUicak4j8Hb3t\n",
      "Submit batch for file id: file-Dz7fYP8ujbF3Y6HXTpCSPD\n",
      "Submit batch for file id: file-R7zwdPKreYKoKpGqgWYJMh\n",
      "Submit batch for file id: file-MsPvyzEpQnZFTeXbQ2c1sF\n",
      "Submit batch for file id: file-8hhtBWdyi9VfpM67FuJpWK\n",
      "Submit batch for file id: file-W8CE6Ej9oUNWhDaC4kipuZ\n",
      "Submit batch for file id: file-4LZVubFvWedm1goW8RqwZx\n"
     ]
    },
    {
     "name": "stderr",
     "output_type": "stream",
     "text": [
      "WARNING:__main__:Finished call to '__main__.submit_batch_job' after 36.078(s), this was the 3rd time calling it.\n",
      "WARNING:__main__:Finished call to '__main__.submit_batch_job' after 37.187(s), this was the 3rd time calling it.\n",
      "WARNING:__main__:Finished call to '__main__.submit_batch_job' after 35.828(s), this was the 3rd time calling it.\n",
      "WARNING:__main__:Finished call to '__main__.submit_batch_job' after 36.250(s), this was the 3rd time calling it.\n",
      "WARNING:__main__:Finished call to '__main__.submit_batch_job' after 35.703(s), this was the 3rd time calling it.\n",
      "WARNING:__main__:Finished call to '__main__.submit_batch_job' after 35.750(s), this was the 3rd time calling it.\n",
      "WARNING:__main__:Finished call to '__main__.submit_batch_job' after 35.500(s), this was the 3rd time calling it.\n",
      "WARNING:__main__:Finished call to '__main__.submit_batch_job' after 34.844(s), this was the 3rd time calling it.\n",
      "WARNING:__main__:Finished call to '__main__.submit_batch_job' after 5.485(s), this was the 2nd time calling it.\n",
      "WARNING:__main__:Finished call to '__main__.submit_batch_job' after 35.468(s), this was the 3rd time calling it.\n",
      "WARNING:__main__:Finished call to '__main__.submit_batch_job' after 34.765(s), this was the 3rd time calling it.\n",
      "WARNING:__main__:Finished call to '__main__.submit_batch_job' after 35.234(s), this was the 3rd time calling it.\n",
      "WARNING:__main__:Finished call to '__main__.submit_batch_job' after 35.250(s), this was the 3rd time calling it.\n"
     ]
    },
    {
     "name": "stdout",
     "output_type": "stream",
     "text": [
      "Submit batch for file id: file-Q5euvqtoYoWQmoJUCvvNyu\n",
      "Submit batch for file id: file-6vZzfNQmAZ5iMUNFdt2sMz\n",
      "Submit batch for file id: file-MPazBAFopFUQ3TGzaQCvUV\n",
      "Submit batch for file id: file-XQ7TSQWCDhBiiVZJkdscMM\n",
      "Submit batch for file id: file-QbzTdYT5yRo5wdB8YPWCCu\n",
      "Submit batch for file id: file-2VNRAfJfE8uLJeBv68nkcr\n",
      "Submit batch for file id: file-JCvBVLSPxu88FrHjhv7MWg\n",
      "Submit batch for file id: file-HJFDWCvghb97uFooa2WPUK\n",
      "Submit batch for file id: file-RhT1MjMfQahCFq5EMzqfwK\n",
      "Submit batch for file id: file-TZoTML1cBjTi2nZxNtWTmj\n",
      "Submit batch for file id: file-JCA6qGgzpDMSisGBR7ZZiD\n",
      "Submit batch for file id: file-6awy19xdcBWtTJhAP9tjxT\n"
     ]
    },
    {
     "name": "stderr",
     "output_type": "stream",
     "text": [
      "WARNING:__main__:Finished call to '__main__.submit_batch_job' after 34.234(s), this was the 3rd time calling it.\n",
      "WARNING:__main__:Finished call to '__main__.submit_batch_job' after 34.234(s), this was the 3rd time calling it.\n",
      "WARNING:__main__:Finished call to '__main__.submit_batch_job' after 35.375(s), this was the 3rd time calling it.\n",
      "WARNING:__main__:Finished call to '__main__.submit_batch_job' after 12.015(s), this was the 3rd time calling it.\n",
      "WARNING:__main__:Finished call to '__main__.submit_batch_job' after 34.281(s), this was the 3rd time calling it.\n",
      "WARNING:__main__:Finished call to '__main__.submit_batch_job' after 34.297(s), this was the 3rd time calling it.\n",
      "WARNING:__main__:Finished call to '__main__.submit_batch_job' after 34.328(s), this was the 3rd time calling it.\n",
      "WARNING:__main__:Finished call to '__main__.submit_batch_job' after 34.078(s), this was the 3rd time calling it.\n",
      "WARNING:__main__:Finished call to '__main__.submit_batch_job' after 33.906(s), this was the 3rd time calling it.\n",
      "WARNING:__main__:Finished call to '__main__.submit_batch_job' after 35.547(s), this was the 3rd time calling it.\n",
      "WARNING:__main__:Finished call to '__main__.submit_batch_job' after 37.031(s), this was the 3rd time calling it.\n",
      "WARNING:__main__:Finished call to '__main__.submit_batch_job' after 36.657(s), this was the 3rd time calling it.\n"
     ]
    },
    {
     "name": "stdout",
     "output_type": "stream",
     "text": [
      "Submit batch for file id: file-9Xvqt7PtFSfThGStUCiedy\n",
      "Submit batch for file id: file-DxcRgz27AcV6rBZ55hA2L6\n",
      "Submit batch for file id: file-7P2Y5dijJGmAYZrEEGSUPc\n",
      "Submit batch for file id: file-SeeGpHaTU54Pn5vfJs5i7a\n",
      "Submit batch for file id: file-TGi9iR6bGUYTrFgoCFYSgG\n",
      "Submit batch for file id: file-EZHqfST1ymFHUiPRLEcAVo\n",
      "Submit batch for file id: file-AH2aU4FJmDZDMzjGLSfnA6\n",
      "Submit batch for file id: file-GbeuaWnD78VE2N4cW2WCJA\n",
      "Submit batch for file id: file-PG6d28LBLJVUhFFqb9y3it\n",
      "Submit batch for file id: file-PBCWt6VC4PdusBVdypB6Kk\n",
      "Submit batch for file id: file-7SAcxb657Lmspvy3jPvqEA\n",
      "Submit batch for file id: file-5JP5KfPcU4H7pfwYVeuGzf\n",
      "Submit batch for file id: file-AvYasrXaMb2PaUBr7KsUuj\n",
      "Submit batch for file id: file-D2AGbCD8rynDVymHhZD4Uk\n",
      "Submit batch for file id: file-EPiN4kAQni5obnyRf37yJX\n",
      "Submit batch for file id: file-Kn8BaWsVXTonkcGkWFHnJR\n",
      "Submit batch for file id: file-UJd11Zaj3nUhDRk5PnBdKb\n",
      "Submit batch for file id: file-DLj9HK5z54wRKkfGkM2BDA\n",
      "Submit batch for file id: file-Gq1ZtdRHmkxbKX3uqBmHHa\n"
     ]
    },
    {
     "name": "stderr",
     "output_type": "stream",
     "text": [
      "WARNING:__main__:Finished call to '__main__.submit_batch_job' after 34.016(s), this was the 3rd time calling it.\n",
      "WARNING:__main__:Finished call to '__main__.submit_batch_job' after 33.297(s), this was the 3rd time calling it.\n",
      "WARNING:__main__:Finished call to '__main__.submit_batch_job' after 33.266(s), this was the 3rd time calling it.\n",
      "WARNING:__main__:Finished call to '__main__.submit_batch_job' after 33.984(s), this was the 3rd time calling it.\n",
      "WARNING:__main__:Finished call to '__main__.submit_batch_job' after 33.921(s), this was the 3rd time calling it.\n",
      "WARNING:__main__:Finished call to '__main__.submit_batch_job' after 5.547(s), this was the 2nd time calling it.\n",
      "WARNING:__main__:Finished call to '__main__.submit_batch_job' after 33.141(s), this was the 3rd time calling it.\n",
      "WARNING:__main__:Finished call to '__main__.submit_batch_job' after 33.313(s), this was the 3rd time calling it.\n",
      "WARNING:__main__:Finished call to '__main__.submit_batch_job' after 32.953(s), this was the 3rd time calling it.\n",
      "WARNING:__main__:Finished call to '__main__.submit_batch_job' after 34.187(s), this was the 3rd time calling it.\n",
      "WARNING:__main__:Finished call to '__main__.submit_batch_job' after 33.203(s), this was the 3rd time calling it.\n",
      "WARNING:__main__:Finished call to '__main__.submit_batch_job' after 32.890(s), this was the 3rd time calling it.\n",
      "WARNING:__main__:Finished call to '__main__.submit_batch_job' after 32.968(s), this was the 3rd time calling it.\n",
      "WARNING:__main__:Finished call to '__main__.submit_batch_job' after 32.703(s), this was the 3rd time calling it.\n"
     ]
    },
    {
     "name": "stdout",
     "output_type": "stream",
     "text": [
      "Submit batch for file id: file-WtCzUQsVSPL1Y65sNJEc7g\n",
      "Submit batch for file id: file-Mt67XkaLqcyKF6b5UKwDAi\n",
      "Submit batch for file id: file-AWLD8ue4aEtao94hJzhmRo\n",
      "Submit batch for file id: file-FB6JmWT9ujn1oyNeHZEc1w\n",
      "Submit batch for file id: file-88MsoJMotSSdgMZZQHmUsf\n",
      "Submit batch for file id: file-6XD8DC3eDgnMiYMmeaf7tM\n",
      "Submit batch for file id: file-VL7eoJqsPh3JttMQFXxcX2\n",
      "Submit batch for file id: file-GMmTXCAPUoEQZ5BTKoW7Xr\n",
      "Submit batch for file id: file-CjbMGVaVoWuMTk2BaEHNEc\n",
      "Submit batch for file id: file-QxNNDkW5S234Y6vg4Jpk4g\n",
      "Submit batch for file id: file-LjX7A3bhUk5aC3iwdrnvSU\n",
      "Submit batch for file id: file-4cVeyM24GbrS97QtpnzkyY\n",
      "Submit batch for file id: file-UCapekh7L3faz494LsR6rL\n",
      "Submit batch for file id: file-1TtRzxoA72k9yC8pbsv89H\n",
      "Submit batch for file id: file-WQ1hCJVagY6hFQBNXXWeqU\n",
      "Submit batch for file id: file-H2DKafEw7tpPqYFRKAPsAS\n",
      "Submit batch for file id: file-XARqa9WH45zwwwkhgtx7y3\n",
      "Submit batch for file id: file-9neMc7wz17qcqiYswev27L\n",
      "Submit batch for file id: file-1DC97oBbDR9b9L6J9xuwUN\n",
      "Submit batch for file id: file-KKr2PrCzPicACpGM3jmm2N\n",
      "Submit batch for file id: file-3Kd917ker4zbzSVRkHGpwC\n",
      "Submit batch for file id: file-HQy3KopReGQ4XxSRtr8zFf\n",
      "Submit batch for file id: file-8n8TtNJ4QU7iTjLAmwu4KD\n",
      "Submit batch for file id: file-GQnoTVCR7VndXcAVBwdm6E\n"
     ]
    },
    {
     "name": "stderr",
     "output_type": "stream",
     "text": [
      "WARNING:__main__:Finished call to '__main__.submit_batch_job' after 32.828(s), this was the 3rd time calling it.\n",
      "WARNING:__main__:Finished call to '__main__.submit_batch_job' after 32.781(s), this was the 3rd time calling it.\n",
      "WARNING:__main__:Finished call to '__main__.submit_batch_job' after 32.359(s), this was the 3rd time calling it.\n",
      "WARNING:__main__:Finished call to '__main__.submit_batch_job' after 32.703(s), this was the 3rd time calling it.\n",
      "WARNING:__main__:Finished call to '__main__.submit_batch_job' after 32.703(s), this was the 3rd time calling it.\n",
      "WARNING:__main__:Finished call to '__main__.submit_batch_job' after 32.672(s), this was the 3rd time calling it.\n",
      "WARNING:__main__:Finished call to '__main__.submit_batch_job' after 32.328(s), this was the 3rd time calling it.\n",
      "WARNING:__main__:Finished call to '__main__.submit_batch_job' after 32.328(s), this was the 3rd time calling it.\n",
      "WARNING:__main__:Finished call to '__main__.submit_batch_job' after 11.984(s), this was the 3rd time calling it.\n",
      "WARNING:__main__:Finished call to '__main__.submit_batch_job' after 32.375(s), this was the 3rd time calling it.\n",
      "WARNING:__main__:Finished call to '__main__.submit_batch_job' after 32.203(s), this was the 3rd time calling it.\n",
      "WARNING:__main__:Finished call to '__main__.submit_batch_job' after 32.078(s), this was the 3rd time calling it.\n",
      "WARNING:__main__:Finished call to '__main__.submit_batch_job' after 5.765(s), this was the 2nd time calling it.\n",
      "WARNING:__main__:Finished call to '__main__.submit_batch_job' after 31.234(s), this was the 3rd time calling it.\n",
      "WARNING:__main__:Finished call to '__main__.submit_batch_job' after 31.484(s), this was the 3rd time calling it.\n",
      "WARNING:__main__:Finished call to '__main__.submit_batch_job' after 5.625(s), this was the 2nd time calling it.\n",
      "WARNING:__main__:Finished call to '__main__.submit_batch_job' after 30.422(s), this was the 3rd time calling it.\n"
     ]
    },
    {
     "name": "stdout",
     "output_type": "stream",
     "text": [
      "Submit batch for file id: file-RpfWUuLgJwpAbjB38WjuHK\n",
      "Submit batch for file id: file-1weuXVVN2icyC92PXCefVY\n",
      "Submit batch for file id: file-WiP7RB887ZGpFxsSbnTxF3\n",
      "Submit batch for file id: file-48PtGcVKrxLXeRd2Gb6jth\n",
      "Submit batch for file id: file-ARbcb6daxPvkz321rT8Um2\n",
      "Submit batch for file id: file-RZQfxZurqFWDwkuqyviNxb\n",
      "Submit batch for file id: file-K2y1e5jtZZmttopmiskf2m\n",
      "Submit batch for file id: file-GbbG95fXcUuHLXUkU7UBSv\n",
      "Submit batch for file id: file-Y86pUud7eLJQ23JnuF7EXi\n",
      "Submit batch for file id: file-KeZXfSr2AaLQ9hr4KbRYYu\n",
      "Submit batch for file id: file-MKsm3ivsfGq29MXMMLossD\n",
      "Submit batch for file id: file-UmAcePcSKBczWfVhzi1CUc\n"
     ]
    },
    {
     "name": "stderr",
     "output_type": "stream",
     "text": [
      "WARNING:__main__:Finished call to '__main__.submit_batch_job' after 30.031(s), this was the 3rd time calling it.\n",
      "WARNING:__main__:Finished call to '__main__.submit_batch_job' after 30.218(s), this was the 3rd time calling it.\n",
      "WARNING:__main__:Finished call to '__main__.submit_batch_job' after 32.437(s), this was the 3rd time calling it.\n",
      "WARNING:__main__:Finished call to '__main__.submit_batch_job' after 32.453(s), this was the 3rd time calling it.\n",
      "WARNING:__main__:Finished call to '__main__.submit_batch_job' after 31.984(s), this was the 3rd time calling it.\n",
      "WARNING:__main__:Finished call to '__main__.submit_batch_job' after 29.296(s), this was the 3rd time calling it.\n",
      "WARNING:__main__:Finished call to '__main__.submit_batch_job' after 30.937(s), this was the 3rd time calling it.\n",
      "WARNING:__main__:Finished call to '__main__.submit_batch_job' after 30.843(s), this was the 3rd time calling it.\n",
      "WARNING:__main__:Finished call to '__main__.submit_batch_job' after 30.187(s), this was the 3rd time calling it.\n",
      "WARNING:__main__:Finished call to '__main__.submit_batch_job' after 30.266(s), this was the 3rd time calling it.\n",
      "WARNING:__main__:Finished call to '__main__.submit_batch_job' after 30.562(s), this was the 3rd time calling it.\n",
      "WARNING:__main__:Finished call to '__main__.submit_batch_job' after 30.406(s), this was the 3rd time calling it.\n",
      "WARNING:__main__:Finished call to '__main__.submit_batch_job' after 32.266(s), this was the 3rd time calling it.\n",
      "WARNING:__main__:Finished call to '__main__.submit_batch_job' after 5.578(s), this was the 2nd time calling it.\n",
      "WARNING:__main__:Finished call to '__main__.submit_batch_job' after 29.296(s), this was the 3rd time calling it.\n",
      "WARNING:__main__:Finished call to '__main__.submit_batch_job' after 28.484(s), this was the 3rd time calling it.\n",
      "WARNING:__main__:Finished call to '__main__.submit_batch_job' after 29.234(s), this was the 3rd time calling it.\n",
      "WARNING:__main__:Finished call to '__main__.submit_batch_job' after 5.578(s), this was the 2nd time calling it.\n",
      "WARNING:__main__:Finished call to '__main__.submit_batch_job' after 5.578(s), this was the 2nd time calling it.\n",
      "WARNING:__main__:Finished call to '__main__.submit_batch_job' after 28.578(s), this was the 3rd time calling it.\n"
     ]
    },
    {
     "name": "stdout",
     "output_type": "stream",
     "text": [
      "Submit batch for file id: file-3M43s57LXh7Njd2aFcmoGU\n",
      "Submit batch for file id: file-TaBS4jG93wG8KnrhnxvsPu\n",
      "Submit batch for file id: file-Hrggj2pPCH18WQUrtKweGp\n",
      "Submit batch for file id: file-ASpVXbwd6tMHgsHms8CZ7f\n",
      "Submit batch for file id: file-EHeEmhBkMdoZa9L25EaVrn\n",
      "Submit batch for file id: file-9LBdPJkBAZbumxZZsPiT4M\n",
      "Submit batch for file id: file-BrHvWdhETb79rkE6Vwdp9p\n",
      "Submit batch for file id: file-7L78h4LMtLn4ZjS8gzLcbn\n",
      "Submit batch for file id: file-2Ltmg1q16gSE3FXtvNN2BS\n",
      "Submit batch for file id: file-Mrg8Mcgi9NLXkhvQF2NGxw\n",
      "Submit batch for file id: file-LijNRbyaSRL7Q79o6MCkuT\n",
      "Submit batch for file id: file-FfLu7p8zRRdeEV5cMYAFpq\n",
      "Submit batch for file id: file-8STC8RdFtBqvH1PUzJXFj9\n",
      "Submit batch for file id: file-MrKgNiAENA9k7TgtyTW5XE\n",
      "Submit batch for file id: file-XpA2Tv4pKi6Zk1UbobqKBE\n",
      "Submit batch for file id: file-84rTiET5w3U9WSYu4cT85m\n",
      "Submit batch for file id: file-FNm2ryVaWgk9CDSPqxaTNK\n",
      "Submit batch for file id: file-MobUfaYeC9fQtNvY1idKYQ\n",
      "Submit batch for file id: file-EU6DXJX52qVSNfH47NQZFv\n",
      "Submit batch for file id: file-BMNRxC48UPsUzZdyBD4XPR\n",
      "Submit batch for file id: file-F9yZa2Se6WBcXz4ZKxpKJa\n",
      "Submit batch for file id: file-QuTXhwbkuMfzRah2zzV8xq\n",
      "Submit batch for file id: file-8MPjNtSTZ1KwAS3Ra24n4Z\n"
     ]
    },
    {
     "name": "stderr",
     "output_type": "stream",
     "text": [
      "WARNING:__main__:Finished call to '__main__.submit_batch_job' after 28.140(s), this was the 3rd time calling it.\n",
      "WARNING:__main__:Finished call to '__main__.submit_batch_job' after 28.609(s), this was the 3rd time calling it.\n",
      "WARNING:__main__:Finished call to '__main__.submit_batch_job' after 28.047(s), this was the 3rd time calling it.\n",
      "WARNING:__main__:Finished call to '__main__.submit_batch_job' after 27.891(s), this was the 3rd time calling it.\n",
      "WARNING:__main__:Finished call to '__main__.submit_batch_job' after 26.579(s), this was the 3rd time calling it.\n",
      "WARNING:__main__:Finished call to '__main__.submit_batch_job' after 27.766(s), this was the 3rd time calling it.\n",
      "WARNING:__main__:Finished call to '__main__.submit_batch_job' after 26.516(s), this was the 3rd time calling it.\n",
      "WARNING:__main__:Finished call to '__main__.submit_batch_job' after 28.844(s), this was the 3rd time calling it.\n",
      "WARNING:__main__:Finished call to '__main__.submit_batch_job' after 27.032(s), this was the 3rd time calling it.\n",
      "WARNING:__main__:Finished call to '__main__.submit_batch_job' after 27.313(s), this was the 3rd time calling it.\n",
      "WARNING:__main__:Finished call to '__main__.submit_batch_job' after 27.766(s), this was the 3rd time calling it.\n",
      "WARNING:__main__:Finished call to '__main__.submit_batch_job' after 28.016(s), this was the 3rd time calling it.\n",
      "WARNING:__main__:Finished call to '__main__.submit_batch_job' after 27.282(s), this was the 3rd time calling it.\n",
      "WARNING:__main__:Finished call to '__main__.submit_batch_job' after 27.750(s), this was the 3rd time calling it.\n",
      "WARNING:__main__:Finished call to '__main__.submit_batch_job' after 26.703(s), this was the 3rd time calling it.\n",
      "WARNING:__main__:Finished call to '__main__.submit_batch_job' after 26.547(s), this was the 3rd time calling it.\n",
      "WARNING:__main__:Finished call to '__main__.submit_batch_job' after 27.141(s), this was the 3rd time calling it.\n",
      "WARNING:__main__:Finished call to '__main__.submit_batch_job' after 26.516(s), this was the 3rd time calling it.\n",
      "WARNING:__main__:Finished call to '__main__.submit_batch_job' after 27.641(s), this was the 3rd time calling it.\n",
      "WARNING:__main__:Finished call to '__main__.submit_batch_job' after 5.500(s), this was the 2nd time calling it.\n",
      "WARNING:__main__:Finished call to '__main__.submit_batch_job' after 27.000(s), this was the 3rd time calling it.\n",
      "WARNING:__main__:Finished call to '__main__.submit_batch_job' after 26.453(s), this was the 3rd time calling it.\n",
      "WARNING:__main__:Finished call to '__main__.submit_batch_job' after 5.500(s), this was the 2nd time calling it.\n",
      "WARNING:__main__:Finished call to '__main__.submit_batch_job' after 5.719(s), this was the 2nd time calling it.\n",
      "WARNING:__main__:Finished call to '__main__.submit_batch_job' after 26.250(s), this was the 3rd time calling it.\n",
      "WARNING:__main__:Finished call to '__main__.submit_batch_job' after 5.531(s), this was the 2nd time calling it.\n",
      "WARNING:__main__:Finished call to '__main__.submit_batch_job' after 26.578(s), this was the 3rd time calling it.\n",
      "WARNING:__main__:Finished call to '__main__.submit_batch_job' after 26.265(s), this was the 3rd time calling it.\n"
     ]
    },
    {
     "name": "stdout",
     "output_type": "stream",
     "text": [
      "Submit batch for file id: file-9hpFDkLex8puaBwK6a5dYf\n",
      "Submit batch for file id: file-HBgr6Kd3WLarVaQ2UepwJM\n",
      "Submit batch for file id: file-QBoUaVBAbhaGjGF4DS97ZR\n",
      "Submit batch for file id: file-QffWa2umHVLU4xUK4tTeDk\n",
      "Submit batch for file id: file-RgyeJcJutqJBZxkhcVTFYn\n",
      "Submit batch for file id: file-9QHdcBjuysNEvRuT8ir5fc\n",
      "Submit batch for file id: file-Lf6fXJnhCfoDyWUKDzpEhY\n",
      "Submit batch for file id: file-46QfZhZgK9puwPQx6Lagqp\n",
      "Submit batch for file id: file-4a3aHowwYv9mHJ7VkQyLEf\n",
      "Submit batch for file id: file-Ne94NDsDQudxkAgf54bP7Q\n",
      "Submit batch for file id: file-5SBs6To3ANVJf1Ubf7odTP\n",
      "Submit batch for file id: file-JyUvsv2RrpUz36oGKpYABY\n",
      "Submit batch for file id: file-JUZxiH16PZHH7WCVER69BK\n",
      "Submit batch for file id: file-TXibRn1VLSS5PV96ewPG9q\n",
      "Submit batch for file id: file-7AExaetPwDrqEVPbH8yH7h\n",
      "Submit batch for file id: file-WXNS6EdEQSWSYPggnCttsN\n",
      "Submit batch for file id: file-3Jqap9jryMbuZavWeEJWm4\n",
      "Submit batch for file id: file-Vq8MY7bSDHH7EBivkdBfzv\n",
      "Submit batch for file id: file-KB93N3dRX62zbjRnHr38yT\n",
      "Submit batch for file id: file-5k6h1jvUbpmGqzL7xjg4Gn\n",
      "Submit batch for file id: file-JE7KehiLm1aVXDaZD5bbm5\n",
      "Submit batch for file id: file-CFSApXYfKAUGnYPuYHLZcx\n",
      "Submit batch for file id: file-QpcR7Ehpa7oMizNqxjejVr\n",
      "Submit batch for file id: file-T9jpStdLsFSk8aNsndQKeQ\n",
      "Submit batch for file id: file-SPGQYmrkQioZ9dGRfWmZat\n",
      "Submit batch for file id: file-Ubg8Ffv37JpcX3ah5bgVk3\n",
      "Submit batch for file id: file-6F9a7NJw4jRjx1hvt7xfwZ\n",
      "Submit batch for file id: file-Q1y94UNAcbK5d3ZqiWTd3m\n",
      "Submit batch for file id: file-LeXQRLFTHd2GMY6naGmM5e\n"
     ]
    },
    {
     "name": "stderr",
     "output_type": "stream",
     "text": [
      "WARNING:__main__:Finished call to '__main__.submit_batch_job' after 26.062(s), this was the 3rd time calling it.\n",
      "WARNING:__main__:Finished call to '__main__.submit_batch_job' after 26.281(s), this was the 3rd time calling it.\n",
      "WARNING:__main__:Finished call to '__main__.submit_batch_job' after 25.906(s), this was the 3rd time calling it.\n",
      "WARNING:__main__:Finished call to '__main__.submit_batch_job' after 25.844(s), this was the 3rd time calling it.\n",
      "WARNING:__main__:Finished call to '__main__.submit_batch_job' after 5.500(s), this was the 2nd time calling it.\n",
      "WARNING:__main__:Finished call to '__main__.submit_batch_job' after 23.907(s), this was the 3rd time calling it.\n",
      "WARNING:__main__:Finished call to '__main__.submit_batch_job' after 23.954(s), this was the 3rd time calling it.\n",
      "WARNING:__main__:Finished call to '__main__.submit_batch_job' after 23.000(s), this was the 3rd time calling it.\n",
      "WARNING:__main__:Finished call to '__main__.submit_batch_job' after 24.860(s), this was the 3rd time calling it.\n",
      "WARNING:__main__:Finished call to '__main__.submit_batch_job' after 23.656(s), this was the 3rd time calling it.\n",
      "WARNING:__main__:Finished call to '__main__.submit_batch_job' after 23.797(s), this was the 3rd time calling it.\n",
      "WARNING:__main__:Finished call to '__main__.submit_batch_job' after 23.609(s), this was the 3rd time calling it.\n",
      "WARNING:__main__:Finished call to '__main__.submit_batch_job' after 25.531(s), this was the 3rd time calling it.\n",
      "WARNING:__main__:Finished call to '__main__.submit_batch_job' after 23.187(s), this was the 3rd time calling it.\n",
      "WARNING:__main__:Finished call to '__main__.submit_batch_job' after 24.062(s), this was the 3rd time calling it.\n",
      "WARNING:__main__:Finished call to '__main__.submit_batch_job' after 25.047(s), this was the 3rd time calling it.\n"
     ]
    },
    {
     "name": "stdout",
     "output_type": "stream",
     "text": [
      "Submit batch for file id: file-7VTpJZr5MySVvJUQ55JQ8J\n",
      "Submit batch for file id: file-WrnJrqEmPukmoVjgfWqDv7\n",
      "Submit batch for file id: file-MKM5g1oChwzDNURrxM73aE\n",
      "Submit batch for file id: file-TFaT6E6pD2DtFH3x2aESRC\n"
     ]
    },
    {
     "name": "stderr",
     "output_type": "stream",
     "text": [
      "WARNING:__main__:Finished call to '__main__.submit_batch_job' after 25.078(s), this was the 3rd time calling it.\n",
      "WARNING:__main__:Finished call to '__main__.submit_batch_job' after 23.719(s), this was the 3rd time calling it.\n",
      "WARNING:__main__:Finished call to '__main__.submit_batch_job' after 26.250(s), this was the 3rd time calling it.\n",
      "WARNING:__main__:Finished call to '__main__.submit_batch_job' after 25.610(s), this was the 3rd time calling it.\n",
      "WARNING:__main__:Finished call to '__main__.submit_batch_job' after 25.547(s), this was the 3rd time calling it.\n",
      "WARNING:__main__:Finished call to '__main__.submit_batch_job' after 22.985(s), this was the 3rd time calling it.\n",
      "WARNING:__main__:Finished call to '__main__.submit_batch_job' after 24.688(s), this was the 3rd time calling it.\n",
      "WARNING:__main__:Finished call to '__main__.submit_batch_job' after 12.031(s), this was the 3rd time calling it.\n",
      "WARNING:__main__:Finished call to '__main__.submit_batch_job' after 26.078(s), this was the 3rd time calling it.\n",
      "WARNING:__main__:Finished call to '__main__.submit_batch_job' after 24.797(s), this was the 3rd time calling it.\n",
      "WARNING:__main__:Finished call to '__main__.submit_batch_job' after 24.563(s), this was the 3rd time calling it.\n",
      "WARNING:__main__:Finished call to '__main__.submit_batch_job' after 25.141(s), this was the 3rd time calling it.\n",
      "WARNING:__main__:Finished call to '__main__.submit_batch_job' after 5.484(s), this was the 2nd time calling it.\n",
      "WARNING:__main__:Finished call to '__main__.submit_batch_job' after 23.047(s), this was the 3rd time calling it.\n",
      "WARNING:__main__:Finished call to '__main__.submit_batch_job' after 5.547(s), this was the 2nd time calling it.\n",
      "WARNING:__main__:Finished call to '__main__.submit_batch_job' after 12.172(s), this was the 3rd time calling it.\n"
     ]
    },
    {
     "name": "stdout",
     "output_type": "stream",
     "text": [
      "Submit batch for file id: file-WUTBx4NL1crKFUpRxcYc7e\n",
      "Submit batch for file id: file-SgVJubzDMPSExd2Nuzd6pu\n",
      "Submit batch for file id: file-NThfuvn1fDADecNP8ZYhSR\n",
      "Submit batch for file id: file-T7eUJXbnPPVHG4VSG3QSeT\n",
      "Submit batch for file id: file-Aaa6eonHrnDmBfkXJ9G7oV\n",
      "Submit batch for file id: file-Pcf3SemnEWXH7gbE5ck3yY\n",
      "Submit batch for file id: file-DwwzJtfZVPhE9jWsnCfeZR\n",
      "Submit batch for file id: file-AnScj8EhL9YHAdQUsDUaNJ\n",
      "Submit batch for file id: file-Dn5JJTfp9iGvZo3TAMZL5S\n",
      "Submit batch for file id: file-4L4kHV2ujzABGwsCpEKdYS\n",
      "Submit batch for file id: file-NzKKRmWzW97Df5orqJ3Fay\n",
      "Submit batch for file id: file-QSFV23JwdAFnx24caqf8Cj\n",
      "Submit batch for file id: file-DHcegJiB7KFmVQ9aFT73y2\n",
      "Submit batch for file id: file-7YBF14C3UvtnBeXWGekawb\n",
      "Submit batch for file id: file-QF7wJfxh46iU7UtrUxnixu\n",
      "Submit batch for file id: file-AbmMYHBoedsqRjaB228tiM\n",
      "Submit batch for file id: file-ByDUbdQETT5PgvgaZfUwcV\n",
      "Submit batch for file id: file-J33qhkwiCVF5nDK88UxFx3\n",
      "Submit batch for file id: file-4Phphj1wLL8X2gFspuBWcD\n",
      "Submit batch for file id: file-MvA9jW3wAS3VeXvqd32ibf\n",
      "Submit batch for file id: file-4mxeqoRRJkBhd2F8HwMh3b\n",
      "Submit batch for file id: file-SA3Nk7sFigYoeiaY5sU3uc\n",
      "Submit batch for file id: file-PaN3tGWY6pioXsym64691H\n",
      "Submit batch for file id: file-233tPtAXnN3FJeWikNSw6P\n",
      "Submit batch for file id: file-4Mg8rPYVTKLu2YHhDaNyUX\n",
      "Submit batch for file id: file-9E3LGoXsq7kbcXH19AUXAH\n",
      "Submit batch for file id: file-BRehFfPmnGrDV41VjpqheB\n",
      "Submit batch for file id: file-J41NvT2zBZ7fMjCjXi4c8e\n",
      "Submit batch for file id: file-XySj38C66amMfQUsduJNo8\n",
      "Submit batch for file id: file-BcYjC8yq24uq3edTcM6sLp\n",
      "Submit batch for file id: file-RziAkibZ371jUpgQTtD9XD\n",
      "Submit batch for file id: file-QYZBaJPyrTsK9HRtkixn1S\n"
     ]
    },
    {
     "name": "stderr",
     "output_type": "stream",
     "text": [
      "WARNING:__main__:Finished call to '__main__.submit_batch_job' after 22.672(s), this was the 3rd time calling it.\n",
      "WARNING:__main__:Finished call to '__main__.submit_batch_job' after 22.766(s), this was the 3rd time calling it.\n",
      "WARNING:__main__:Finished call to '__main__.submit_batch_job' after 5.766(s), this was the 2nd time calling it.\n",
      "WARNING:__main__:Finished call to '__main__.submit_batch_job' after 5.485(s), this was the 2nd time calling it.\n",
      "WARNING:__main__:Finished call to '__main__.submit_batch_job' after 20.641(s), this was the 3rd time calling it.\n",
      "WARNING:__main__:Finished call to '__main__.submit_batch_job' after 22.485(s), this was the 3rd time calling it.\n",
      "WARNING:__main__:Finished call to '__main__.submit_batch_job' after 21.109(s), this was the 3rd time calling it.\n",
      "WARNING:__main__:Finished call to '__main__.submit_batch_job' after 22.265(s), this was the 3rd time calling it.\n",
      "WARNING:__main__:Finished call to '__main__.submit_batch_job' after 20.547(s), this was the 3rd time calling it.\n",
      "WARNING:__main__:Finished call to '__main__.submit_batch_job' after 21.453(s), this was the 3rd time calling it.\n",
      "WARNING:__main__:Finished call to '__main__.submit_batch_job' after 21.141(s), this was the 3rd time calling it.\n",
      "WARNING:__main__:Finished call to '__main__.submit_batch_job' after 21.578(s), this was the 3rd time calling it.\n",
      "WARNING:__main__:Finished call to '__main__.submit_batch_job' after 20.594(s), this was the 3rd time calling it.\n",
      "WARNING:__main__:Finished call to '__main__.submit_batch_job' after 20.234(s), this was the 3rd time calling it.\n",
      "WARNING:__main__:Finished call to '__main__.submit_batch_job' after 19.985(s), this was the 3rd time calling it.\n",
      "WARNING:__main__:Finished call to '__main__.submit_batch_job' after 20.688(s), this was the 3rd time calling it.\n",
      "WARNING:__main__:Finished call to '__main__.submit_batch_job' after 20.907(s), this was the 3rd time calling it.\n",
      "WARNING:__main__:Finished call to '__main__.submit_batch_job' after 20.829(s), this was the 3rd time calling it.\n",
      "WARNING:__main__:Finished call to '__main__.submit_batch_job' after 21.375(s), this was the 3rd time calling it.\n",
      "WARNING:__main__:Finished call to '__main__.submit_batch_job' after 20.922(s), this was the 3rd time calling it.\n",
      "WARNING:__main__:Finished call to '__main__.submit_batch_job' after 21.079(s), this was the 3rd time calling it.\n",
      "WARNING:__main__:Finished call to '__main__.submit_batch_job' after 21.313(s), this was the 3rd time calling it.\n",
      "WARNING:__main__:Finished call to '__main__.submit_batch_job' after 19.672(s), this was the 3rd time calling it.\n",
      "WARNING:__main__:Finished call to '__main__.submit_batch_job' after 22.375(s), this was the 3rd time calling it.\n",
      "WARNING:__main__:Finished call to '__main__.submit_batch_job' after 21.688(s), this was the 3rd time calling it.\n",
      "WARNING:__main__:Finished call to '__main__.submit_batch_job' after 21.204(s), this was the 3rd time calling it.\n",
      "WARNING:__main__:Finished call to '__main__.submit_batch_job' after 21.500(s), this was the 3rd time calling it.\n",
      "WARNING:__main__:Finished call to '__main__.submit_batch_job' after 21.703(s), this was the 3rd time calling it.\n",
      "WARNING:__main__:Finished call to '__main__.submit_batch_job' after 21.031(s), this was the 3rd time calling it.\n",
      "WARNING:__main__:Finished call to '__main__.submit_batch_job' after 21.765(s), this was the 3rd time calling it.\n",
      "WARNING:__main__:Finished call to '__main__.submit_batch_job' after 5.484(s), this was the 2nd time calling it.\n",
      "WARNING:__main__:Finished call to '__main__.submit_batch_job' after 5.468(s), this was the 2nd time calling it.\n",
      "WARNING:__main__:Finished call to '__main__.submit_batch_job' after 5.485(s), this was the 2nd time calling it.\n"
     ]
    },
    {
     "name": "stdout",
     "output_type": "stream",
     "text": [
      "Submit batch for file id: file-NubwwqeMToiEKz1CUn2kBM\n",
      "Submit batch for file id: file-WoqMy12NNpwyD4KpdtV69w\n",
      "Submit batch for file id: file-M6vqjx7iJS4UnXAssmNU45\n",
      "Submit batch for file id: file-FgP1tfYxnMRQCnHkab4XCC\n",
      "Submit batch for file id: file-Tr1jAgWvz4F4pfyJZkQZVo\n",
      "Submit batch for file id: file-6gPyR5mxt2Z1u2NnFs2ADR\n",
      "Submit batch for file id: file-AfpyVCTP8cahVWBxZ7bmn8\n",
      "Submit batch for file id: file-FMHGoutAUvzuBckLfieXSq\n",
      "Submit batch for file id: file-NU7jahUpXNTxKDcdFqKqDV\n",
      "Submit batch for file id: file-QDUfF2WEjkS767sfVE6X48\n",
      "Submit batch for file id: file-EZCf3xxGdUQG64VnHbbQC7\n",
      "Submit batch for file id: file-TpiSQVpTgnNrbre7zw24zX\n",
      "Submit batch for file id: file-8JjpMKrZycPontb9SVds2h\n",
      "Submit batch for file id: file-XuwxokJjhjkKuknpx99Wet\n",
      "Submit batch for file id: file-2MC7TaaAr4dkftq6fFnZQG\n",
      "Submit batch for file id: file-DMtVF1cq3dqPv7imHcbx4J\n",
      "Submit batch for file id: file-AhYpTwxW2VRxanDHEUwvuk\n",
      "Submit batch for file id: file-QQNfXqPKm2AFyuvHJHGKnL\n",
      "Submit batch for file id: file-3UBWgPuCGKJ5q22TWXkmJT\n",
      "Submit batch for file id: file-N1qvSo9aoPWYSgSWXaXZ7z\n",
      "Submit batch for file id: file-Q8Gnm5pXy82NjV9WfWiZ7T\n",
      "Submit batch for file id: file-2XzbKDc3oNhmgGNBTDpHaM\n",
      "Submit batch for file id: file-DgufWyLBVkzRjX5JkUTVWh\n",
      "Submit batch for file id: file-5S94rp8vZBgUuatwzycyoc\n",
      "Submit batch for file id: file-Vbsj8VnhZGYt7XgjbSydCb\n",
      "Submit batch for file id: file-3iGHHm8HTTgLU41De48z6P\n",
      "Submit batch for file id: file-HLac8aTUBq2Ne2UPDMpoLq\n",
      "Submit batch for file id: file-TwuXb97KRrBLNe9qECTPEv\n",
      "Submit batch for file id: file-TJ4b9bEh8TYxbjsKHjUU1k\n",
      "Submit batch for file id: file-F88h5Uk7ehNnX47r63WyyR\n"
     ]
    },
    {
     "name": "stderr",
     "output_type": "stream",
     "text": [
      "WARNING:__main__:Finished call to '__main__.submit_batch_job' after 19.609(s), this was the 3rd time calling it.\n",
      "WARNING:__main__:Finished call to '__main__.submit_batch_job' after 5.453(s), this was the 2nd time calling it.\n",
      "WARNING:__main__:Finished call to '__main__.submit_batch_job' after 5.469(s), this was the 2nd time calling it.\n",
      "WARNING:__main__:Finished call to '__main__.submit_batch_job' after 19.719(s), this was the 3rd time calling it.\n",
      "WARNING:__main__:Finished call to '__main__.submit_batch_job' after 5.453(s), this was the 2nd time calling it.\n",
      "WARNING:__main__:Finished call to '__main__.submit_batch_job' after 11.921(s), this was the 3rd time calling it.\n",
      "WARNING:__main__:Finished call to '__main__.submit_batch_job' after 19.516(s), this was the 3rd time calling it.\n",
      "WARNING:__main__:Finished call to '__main__.submit_batch_job' after 19.484(s), this was the 3rd time calling it.\n",
      "WARNING:__main__:Finished call to '__main__.submit_batch_job' after 19.281(s), this was the 3rd time calling it.\n",
      "WARNING:__main__:Finished call to '__main__.submit_batch_job' after 19.140(s), this was the 3rd time calling it.\n",
      "WARNING:__main__:Finished call to '__main__.submit_batch_job' after 19.078(s), this was the 3rd time calling it.\n",
      "WARNING:__main__:Finished call to '__main__.submit_batch_job' after 19.188(s), this was the 3rd time calling it.\n",
      "WARNING:__main__:Finished call to '__main__.submit_batch_job' after 5.469(s), this was the 2nd time calling it.\n",
      "WARNING:__main__:Finished call to '__main__.submit_batch_job' after 16.297(s), this was the 3rd time calling it.\n"
     ]
    },
    {
     "name": "stdout",
     "output_type": "stream",
     "text": [
      "Submit batch for file id: file-FLoV1jnTC1CE51PhbBsVyF\n",
      "Submit batch for file id: file-2AVzgX5Y8RwqRfxzPwPng8\n",
      "Submit batch for file id: file-4UUBuBdpQgdKvzHJSuC8C6\n",
      "Submit batch for file id: file-RpbNLSHeefJMqrdKURxDQA\n",
      "Submit batch for file id: file-M2fPBFZVGiMYPfi6ebhnZb\n",
      "Submit batch for file id: file-4ysB3dATxdLtyFmGoMLJbm\n",
      "Submit batch for file id: file-8jhq1LgpBuNCYUM74Wki7p\n",
      "Submit batch for file id: file-T8zTV5a2gdXr9XLwcXihjP\n",
      "Submit batch for file id: file-UhbpDxHDRRjVjEu9ssaCGE\n",
      "Submit batch for file id: file-UuFN5cRUBU8YwzcWz7WHDW\n",
      "Submit batch for file id: file-C9YPTJUjuQ3YwsMRSYi57X\n",
      "Submit batch for file id: file-9pmuPCdP8Kzt1xT6bKFBsD\n",
      "Submit batch for file id: file-W4PvSGzes5aqB17Y1smkCh\n",
      "Submit batch for file id: file-FKsNVDiy75uq3y1QEVkgrD\n",
      "Submit batch for file id: file-FwXwCpj511e6CWRvvuSouN\n",
      "Submit batch for file id: file-Q4ijcGU2MDnmFgQo7eme3R\n",
      "Submit batch for file id: file-KmE7z4sf4SrFvHUbk3iKiV\n"
     ]
    },
    {
     "name": "stderr",
     "output_type": "stream",
     "text": [
      "WARNING:__main__:Finished call to '__main__.submit_batch_job' after 16.734(s), this was the 3rd time calling it.\n",
      "WARNING:__main__:Finished call to '__main__.submit_batch_job' after 16.734(s), this was the 3rd time calling it.\n",
      "WARNING:__main__:Finished call to '__main__.submit_batch_job' after 18.469(s), this was the 3rd time calling it.\n",
      "WARNING:__main__:Finished call to '__main__.submit_batch_job' after 18.656(s), this was the 3rd time calling it.\n",
      "WARNING:__main__:Finished call to '__main__.submit_batch_job' after 16.531(s), this was the 3rd time calling it.\n",
      "WARNING:__main__:Finished call to '__main__.submit_batch_job' after 18.437(s), this was the 3rd time calling it.\n",
      "WARNING:__main__:Finished call to '__main__.submit_batch_job' after 19.047(s), this was the 3rd time calling it.\n",
      "WARNING:__main__:Finished call to '__main__.submit_batch_job' after 19.140(s), this was the 3rd time calling it.\n",
      "WARNING:__main__:Finished call to '__main__.submit_batch_job' after 18.234(s), this was the 3rd time calling it.\n",
      "WARNING:__main__:Finished call to '__main__.submit_batch_job' after 19.031(s), this was the 3rd time calling it.\n",
      "WARNING:__main__:Finished call to '__main__.submit_batch_job' after 18.984(s), this was the 3rd time calling it.\n",
      "WARNING:__main__:Finished call to '__main__.submit_batch_job' after 16.531(s), this was the 3rd time calling it.\n",
      "WARNING:__main__:Finished call to '__main__.submit_batch_job' after 16.359(s), this was the 3rd time calling it.\n",
      "WARNING:__main__:Finished call to '__main__.submit_batch_job' after 17.078(s), this was the 3rd time calling it.\n",
      "WARNING:__main__:Finished call to '__main__.submit_batch_job' after 19.125(s), this was the 3rd time calling it.\n",
      "WARNING:__main__:Finished call to '__main__.submit_batch_job' after 16.547(s), this was the 3rd time calling it.\n",
      "WARNING:__main__:Finished call to '__main__.submit_batch_job' after 17.985(s), this was the 3rd time calling it.\n",
      "WARNING:__main__:Finished call to '__main__.submit_batch_job' after 16.171(s), this was the 3rd time calling it.\n",
      "WARNING:__main__:Finished call to '__main__.submit_batch_job' after 16.359(s), this was the 3rd time calling it.\n",
      "WARNING:__main__:Finished call to '__main__.submit_batch_job' after 5.468(s), this was the 2nd time calling it.\n",
      "WARNING:__main__:Finished call to '__main__.submit_batch_job' after 20.703(s), this was the 3rd time calling it.\n",
      "WARNING:__main__:Finished call to '__main__.submit_batch_job' after 17.937(s), this was the 3rd time calling it.\n",
      "WARNING:__main__:Finished call to '__main__.submit_batch_job' after 16.156(s), this was the 3rd time calling it.\n",
      "WARNING:__main__:Finished call to '__main__.submit_batch_job' after 15.469(s), this was the 3rd time calling it.\n",
      "WARNING:__main__:Finished call to '__main__.submit_batch_job' after 15.125(s), this was the 3rd time calling it.\n",
      "WARNING:__main__:Finished call to '__main__.submit_batch_job' after 14.281(s), this was the 3rd time calling it.\n",
      "WARNING:__main__:Finished call to '__main__.submit_batch_job' after 16.016(s), this was the 3rd time calling it.\n",
      "WARNING:__main__:Finished call to '__main__.submit_batch_job' after 11.921(s), this was the 3rd time calling it.\n",
      "WARNING:__main__:Finished call to '__main__.submit_batch_job' after 5.453(s), this was the 2nd time calling it.\n",
      "WARNING:__main__:Finished call to '__main__.submit_batch_job' after 5.453(s), this was the 2nd time calling it.\n",
      "WARNING:__main__:Finished call to '__main__.submit_batch_job' after 5.485(s), this was the 2nd time calling it.\n",
      "WARNING:__main__:Finished call to '__main__.submit_batch_job' after 13.515(s), this was the 3rd time calling it.\n"
     ]
    },
    {
     "name": "stdout",
     "output_type": "stream",
     "text": [
      "Submit batch for file id: file-V5cYuxPWYf6haNzQfn666Y\n",
      "Submit batch for file id: file-VWakNrN2exV4wWRF6EhbPW\n",
      "Submit batch for file id: file-TvwDRcbEQRBNgqytNJVurE\n",
      "Submit batch for file id: file-2SMBuhsySwVMVRUy5Q8evy\n",
      "Submit batch for file id: file-1KBbPBwKpLgcSmwyKnxAdL\n",
      "Submit batch for file id: file-SK7V9N56wsqrJBMK7sNdMx\n",
      "Submit batch for file id: file-WS5FAGYcmFWhaMwvqeqHNw\n",
      "Submit batch for file id: file-F6bdYEYnB37jMEHyBZYRdw\n",
      "Submit batch for file id: file-WSY4tom2Htqvp2D2XtYugo\n",
      "Submit batch for file id: file-JAMEqTTNVxndn5Npb8wtka\n",
      "Submit batch for file id: file-BcY6crxbgCYgyFrQRaz6Pt\n",
      "Submit batch for file id: file-4GWZ4dUbAWgyquFqqBeJiP\n",
      "Submit batch for file id: file-2jyAyZiAUjteTukuK35NB6\n",
      "Submit batch for file id: file-9sQT68kJppbanW6aKCEvg2\n",
      "Submit batch for file id: file-QpFW9gwRjSDHyAeUgTpAQV\n",
      "Submit batch for file id: file-BgRPvkoMoqXDM66KTaMxfM\n",
      "Submit batch for file id: file-HLFTuazmdsKCPFdEGwfAYx\n",
      "Submit batch for file id: file-W6xedKAk9Zwkn5QYeWKs7N\n",
      "Submit batch for file id: file-VmtMXGxF7wcXrFcGLDeUZh\n"
     ]
    },
    {
     "name": "stderr",
     "output_type": "stream",
     "text": [
      "WARNING:__main__:Finished call to '__main__.submit_batch_job' after 13.906(s), this was the 3rd time calling it.\n",
      "WARNING:__main__:Finished call to '__main__.submit_batch_job' after 13.344(s), this was the 3rd time calling it.\n",
      "WARNING:__main__:Finished call to '__main__.submit_batch_job' after 12.500(s), this was the 3rd time calling it.\n",
      "WARNING:__main__:Finished call to '__main__.submit_batch_job' after 11.953(s), this was the 3rd time calling it.\n",
      "WARNING:__main__:Finished call to '__main__.submit_batch_job' after 12.281(s), this was the 3rd time calling it.\n",
      "WARNING:__main__:Finished call to '__main__.submit_batch_job' after 13.172(s), this was the 3rd time calling it.\n",
      "WARNING:__main__:Finished call to '__main__.submit_batch_job' after 13.250(s), this was the 3rd time calling it.\n",
      "WARNING:__main__:Finished call to '__main__.submit_batch_job' after 13.750(s), this was the 3rd time calling it.\n",
      "WARNING:__main__:Finished call to '__main__.submit_batch_job' after 12.094(s), this was the 3rd time calling it.\n",
      "WARNING:__main__:Finished call to '__main__.submit_batch_job' after 12.250(s), this was the 3rd time calling it.\n",
      "WARNING:__main__:Finished call to '__main__.submit_batch_job' after 13.563(s), this was the 3rd time calling it.\n",
      "WARNING:__main__:Finished call to '__main__.submit_batch_job' after 12.563(s), this was the 3rd time calling it.\n",
      "WARNING:__main__:Finished call to '__main__.submit_batch_job' after 13.360(s), this was the 3rd time calling it.\n",
      "WARNING:__main__:Finished call to '__main__.submit_batch_job' after 12.343(s), this was the 3rd time calling it.\n",
      "WARNING:__main__:Finished call to '__main__.submit_batch_job' after 13.609(s), this was the 3rd time calling it.\n",
      "WARNING:__main__:Finished call to '__main__.submit_batch_job' after 12.078(s), this was the 3rd time calling it.\n",
      "WARNING:__main__:Finished call to '__main__.submit_batch_job' after 11.937(s), this was the 3rd time calling it.\n",
      "WARNING:__main__:Finished call to '__main__.submit_batch_job' after 11.875(s), this was the 3rd time calling it.\n",
      "WARNING:__main__:Finished call to '__main__.submit_batch_job' after 11.906(s), this was the 3rd time calling it.\n",
      "WARNING:__main__:Finished call to '__main__.submit_batch_job' after 11.921(s), this was the 3rd time calling it.\n"
     ]
    },
    {
     "name": "stdout",
     "output_type": "stream",
     "text": [
      "Submit batch for file id: file-RHmvdYBaqLpxSqMaypSZN6\n",
      "Submit batch for file id: file-DbPeHtJ6fBgf4DZeeUnmNn\n",
      "Submit batch for file id: file-XTF1Vw6ny7HJmK373gw8oR\n",
      "Submit batch for file id: file-QSUvfRzgRr5HpNghTDDWM3\n",
      "Submit batch for file id: file-A7iJ41EqiTyJ2VwxDp49qa\n",
      "Submit batch for file id: file-MjMR2x32dToxY33RGkjuD7\n",
      "Submit batch for file id: file-Wa1JHvq4qG361g9iiWX1N4\n",
      "Submit batch for file id: file-AcpkMAU8hZmEdmP8zoi6Qm\n",
      "Submit batch for file id: file-73PzCnFFqM22rsR6CJ9jwd\n",
      "Submit batch for file id: file-U9gTH3LrY4XrxSLfsGvLPM\n",
      "Submit batch for file id: file-TiqaXQszBeB7jLUgJK5zUC\n"
     ]
    },
    {
     "name": "stderr",
     "output_type": "stream",
     "text": [
      "WARNING:__main__:Finished call to '__main__.submit_batch_job' after 11.906(s), this was the 3rd time calling it.\n",
      "WARNING:__main__:Finished call to '__main__.submit_batch_job' after 30.422(s), this was the 3rd time calling it.\n",
      "WARNING:__main__:Finished call to '__main__.submit_batch_job' after 5.422(s), this was the 2nd time calling it.\n",
      "WARNING:__main__:Finished call to '__main__.submit_batch_job' after 5.422(s), this was the 2nd time calling it.\n",
      "WARNING:__main__:Finished call to '__main__.submit_batch_job' after 5.437(s), this was the 2nd time calling it.\n",
      "WARNING:__main__:Finished call to '__main__.submit_batch_job' after 5.437(s), this was the 2nd time calling it.\n",
      "WARNING:__main__:Finished call to '__main__.submit_batch_job' after 5.438(s), this was the 2nd time calling it.\n",
      "WARNING:__main__:Finished call to '__main__.submit_batch_job' after 5.516(s), this was the 2nd time calling it.\n",
      "WARNING:__main__:Finished call to '__main__.submit_batch_job' after 5.469(s), this was the 2nd time calling it.\n",
      "WARNING:__main__:Finished call to '__main__.submit_batch_job' after 5.453(s), this was the 2nd time calling it.\n",
      "WARNING:__main__:Finished call to '__main__.submit_batch_job' after 5.437(s), this was the 2nd time calling it.\n"
     ]
    },
    {
     "name": "stdout",
     "output_type": "stream",
     "text": [
      "Submit batch for file id: file-MDqCg3P15rFoep9KXowkbK\n",
      "Submit batch for file id: file-8MkDuQwXcvJQZPkr1WRpzN\n",
      "Submit batch for file id: file-5xH83SH3nrjj5FUjM8hE5z\n",
      "Submit batch for file id: file-SGoozFukVkQGkRjNpvqu6M\n",
      "Submit batch for file id: file-19hekmGRNLex8qyv4jhnFF\n",
      "Submit batch for file id: file-K1PkdGJiqkdhJ4GzKwK9fm\n",
      "Submit batch for file id: file-GmUMG16MtN9gaT5pGe2yUf\n",
      "Submit batch for file id: file-1RSpMvog5uDCq2UMxVmfbV\n",
      "Submit batch for file id: file-2PNqqZAVUw8DUdW6ow24Nk\n",
      "Submit batch for file id: file-PdemxDdFGttGVSVpNmnkCU\n",
      "Submit batch for file id: file-VZp9Bu1g5yFU3AmFoqNGRF\n",
      "Submit batch for file id: file-FU68rpH3iXMw4a22fBpRHt\n"
     ]
    },
    {
     "name": "stderr",
     "output_type": "stream",
     "text": [
      "WARNING:__main__:Finished call to '__main__.submit_batch_job' after 11.875(s), this was the 3rd time calling it.\n",
      "WARNING:__main__:Finished call to '__main__.submit_batch_job' after 11.891(s), this was the 3rd time calling it.\n",
      "WARNING:__main__:Finished call to '__main__.submit_batch_job' after 5.438(s), this was the 2nd time calling it.\n",
      "WARNING:__main__:Finished call to '__main__.submit_batch_job' after 5.422(s), this was the 2nd time calling it.\n",
      "WARNING:__main__:Finished call to '__main__.submit_batch_job' after 5.407(s), this was the 2nd time calling it.\n",
      "WARNING:__main__:Finished call to '__main__.submit_batch_job' after 5.422(s), this was the 2nd time calling it.\n",
      "WARNING:__main__:Finished call to '__main__.submit_batch_job' after 5.484(s), this was the 2nd time calling it.\n",
      "WARNING:__main__:Finished call to '__main__.submit_batch_job' after 5.422(s), this was the 2nd time calling it.\n",
      "WARNING:__main__:Finished call to '__main__.submit_batch_job' after 5.422(s), this was the 2nd time calling it.\n",
      "WARNING:__main__:Finished call to '__main__.submit_batch_job' after 11.890(s), this was the 3rd time calling it.\n",
      "WARNING:__main__:Finished call to '__main__.submit_batch_job' after 11.906(s), this was the 3rd time calling it.\n",
      "WARNING:__main__:Finished call to '__main__.submit_batch_job' after 5.437(s), this was the 2nd time calling it.\n"
     ]
    },
    {
     "name": "stdout",
     "output_type": "stream",
     "text": [
      "Submit batch for file id: file-FBpbUrfk5hFRS7qQf2wU7i\n",
      "Submit batch for file id: file-3M7wi21PaBYezt1qttZRqL\n",
      "Submit batch for file id: file-3NHyHyt4fTK2ypn4GpK54T\n",
      "Submit batch for file id: file-Ng8hKcLpo77rK2QwqX7auq\n",
      "Submit batch for file id: file-KSGYAE72fyQKWzumYLtZLY\n",
      "Submit batch for file id: file-WdG9GHe5CUPVbZx2Uc1dT5\n",
      "Submit batch for file id: file-PHYb6NuxAo4rdUe3sTykUW\n",
      "Submit batch for file id: file-QpWac8fzcNRqMVD1imLZN2\n",
      "Submit batch for file id: file-XL1vWF5Dk46HD2WWcsWmiH\n"
     ]
    },
    {
     "name": "stderr",
     "output_type": "stream",
     "text": [
      "WARNING:__main__:Finished call to '__main__.submit_batch_job' after 5.453(s), this was the 2nd time calling it.\n",
      "WARNING:__main__:Finished call to '__main__.submit_batch_job' after 5.468(s), this was the 2nd time calling it.\n",
      "WARNING:__main__:Finished call to '__main__.submit_batch_job' after 5.468(s), this was the 2nd time calling it.\n",
      "WARNING:__main__:Finished call to '__main__.submit_batch_job' after 5.453(s), this was the 2nd time calling it.\n",
      "WARNING:__main__:Finished call to '__main__.submit_batch_job' after 5.453(s), this was the 2nd time calling it.\n",
      "WARNING:__main__:Finished call to '__main__.submit_batch_job' after 11.906(s), this was the 3rd time calling it.\n",
      "WARNING:__main__:Finished call to '__main__.submit_batch_job' after 5.453(s), this was the 2nd time calling it.\n",
      "WARNING:__main__:Finished call to '__main__.submit_batch_job' after 5.453(s), this was the 2nd time calling it.\n",
      "WARNING:__main__:Finished call to '__main__.submit_batch_job' after 12.390(s), this was the 3rd time calling it.\n"
     ]
    },
    {
     "name": "stdout",
     "output_type": "stream",
     "text": [
      "Submit batch for file id: file-9WwhAQQH5C9pjPUdQPS7PH\n",
      "Submit batch for file id: file-VWbofwLYTc2XKR1tWy27Xm\n",
      "Submit batch for file id: file-H9umBQ55SBNkgKD5DyNEoH\n",
      "Submit batch for file id: file-Tdrw4YXSENM3QfrTGQKBF5\n",
      "Submit batch for file id: file-QEEnDUbDpxadhah3wi8xeh\n",
      "Submit batch for file id: file-BJ6SoE2jasuvWdQdQzY6QG\n"
     ]
    },
    {
     "name": "stderr",
     "output_type": "stream",
     "text": [
      "WARNING:__main__:Finished call to '__main__.submit_batch_job' after 5.469(s), this was the 2nd time calling it.\n",
      "WARNING:__main__:Finished call to '__main__.submit_batch_job' after 11.906(s), this was the 3rd time calling it.\n",
      "WARNING:__main__:Finished call to '__main__.submit_batch_job' after 5.453(s), this was the 2nd time calling it.\n",
      "WARNING:__main__:Finished call to '__main__.submit_batch_job' after 11.875(s), this was the 3rd time calling it.\n",
      "WARNING:__main__:Finished call to '__main__.submit_batch_job' after 5.437(s), this was the 2nd time calling it.\n",
      "WARNING:__main__:Finished call to '__main__.submit_batch_job' after 5.421(s), this was the 2nd time calling it.\n"
     ]
    },
    {
     "name": "stdout",
     "output_type": "stream",
     "text": [
      "Submit batch for file id: file-WtbAvhtw8owkMrg8aThABy\n",
      "Submit batch for file id: file-F2ytrfRktUCSFpBePnJokc\n",
      "Submit batch for file id: file-7NHGfB6gapXMomUNiCV9i7\n",
      "Submit batch for file id: file-9tgGZ5CVwidwqHs6vs7Y2D\n",
      "Submit batch for file id: file-GhD1dQH9vwfzVy4DwSAZ6D\n",
      "Submit batch for file id: file-Ja5B2rwvgBqawbXmZyhSLD\n",
      "Submit batch for file id: file-JwQADN93qKJfgkZjWg9piw\n",
      "Submit batch for file id: file-FnbEuh9cXtH1rY17Ahq38a\n",
      "Submit batch for file id: file-14UtbHeH4gqhTEmMB7B6QX\n",
      "Submit batch for file id: file-MWn3HdNBGpCa3QDR7CiBE6\n",
      "Submit batch for file id: file-2AXx8RGZweKu1H1KYfPtKu\n",
      "Submit batch for file id: file-452kpXTmFLdXh9aRAfhH3A\n",
      "Submit batch for file id: file-Dt7PZkigoGW6CSiksJWKdx\n"
     ]
    },
    {
     "name": "stderr",
     "output_type": "stream",
     "text": [
      "WARNING:__main__:Finished call to '__main__.submit_batch_job' after 5.437(s), this was the 2nd time calling it.\n",
      "WARNING:__main__:Finished call to '__main__.submit_batch_job' after 5.438(s), this was the 2nd time calling it.\n",
      "WARNING:__main__:Finished call to '__main__.submit_batch_job' after 5.469(s), this was the 2nd time calling it.\n",
      "WARNING:__main__:Finished call to '__main__.submit_batch_job' after 5.453(s), this was the 2nd time calling it.\n",
      "WARNING:__main__:Finished call to '__main__.submit_batch_job' after 11.906(s), this was the 3rd time calling it.\n",
      "WARNING:__main__:Finished call to '__main__.submit_batch_job' after 5.422(s), this was the 2nd time calling it.\n",
      "WARNING:__main__:Finished call to '__main__.submit_batch_job' after 5.469(s), this was the 2nd time calling it.\n",
      "WARNING:__main__:Finished call to '__main__.submit_batch_job' after 11.937(s), this was the 3rd time calling it.\n",
      "WARNING:__main__:Finished call to '__main__.submit_batch_job' after 5.453(s), this was the 2nd time calling it.\n",
      "WARNING:__main__:Finished call to '__main__.submit_batch_job' after 5.453(s), this was the 2nd time calling it.\n",
      "WARNING:__main__:Finished call to '__main__.submit_batch_job' after 11.859(s), this was the 3rd time calling it.\n",
      "WARNING:__main__:Finished call to '__main__.submit_batch_job' after 5.468(s), this was the 2nd time calling it.\n",
      "WARNING:__main__:Finished call to '__main__.submit_batch_job' after 5.500(s), this was the 2nd time calling it.\n"
     ]
    },
    {
     "name": "stdout",
     "output_type": "stream",
     "text": [
      "Submit batch for file id: file-GK4MBhkxWmJnZ7wyRLpgwy\n",
      "Submit batch for file id: file-DyynCjH5cKoz3hSsmNynvY\n",
      "Submit batch for file id: file-C4wp4VMHepZpHQ85ouox9U\n",
      "Submit batch for file id: file-NPkj8akvzm3xY2Nng3zLhr\n"
     ]
    },
    {
     "name": "stderr",
     "output_type": "stream",
     "text": [
      "WARNING:__main__:Finished call to '__main__.submit_batch_job' after 5.437(s), this was the 2nd time calling it.\n",
      "WARNING:__main__:Finished call to '__main__.submit_batch_job' after 11.875(s), this was the 3rd time calling it.\n",
      "WARNING:__main__:Finished call to '__main__.submit_batch_job' after 5.406(s), this was the 2nd time calling it.\n",
      "WARNING:__main__:Finished call to '__main__.submit_batch_job' after 11.812(s), this was the 3rd time calling it.\n"
     ]
    },
    {
     "name": "stdout",
     "output_type": "stream",
     "text": [
      "Submit batch for file id: file-AMgw3d9pcadAK8ZnQRGSDs\n",
      "Submit batch for file id: file-4Dx4o9pBBkbrHBFB754EBT\n"
     ]
    },
    {
     "name": "stderr",
     "output_type": "stream",
     "text": [
      "WARNING:__main__:Finished call to '__main__.submit_batch_job' after 5.437(s), this was the 2nd time calling it.\n",
      "WARNING:__main__:Finished call to '__main__.submit_batch_job' after 11.844(s), this was the 3rd time calling it.\n"
     ]
    },
    {
     "name": "stdout",
     "output_type": "stream",
     "text": [
      "Submit batch for file id: file-3yHx3RxL5TjHBpqJRwuu5W\n",
      "Submit batch for file id: file-1uFDWcaPVM8ChELTmdJCcG\n"
     ]
    },
    {
     "name": "stderr",
     "output_type": "stream",
     "text": [
      "WARNING:__main__:Finished call to '__main__.submit_batch_job' after 11.781(s), this was the 3rd time calling it.\n",
      "WARNING:__main__:Finished call to '__main__.submit_batch_job' after 5.469(s), this was the 2nd time calling it.\n"
     ]
    },
    {
     "name": "stdout",
     "output_type": "stream",
     "text": [
      "Submit batch for file id: file-BMKsPEj3CGi5B6TT6xtSgs\n",
      "Submit batch for file id: file-QPhfFGGDm13XYLfLDuDcVo\n",
      "Submit batch for file id: file-9Es3UigCPuAWFRi3ST68f2\n"
     ]
    },
    {
     "name": "stderr",
     "output_type": "stream",
     "text": [
      "WARNING:__main__:Finished call to '__main__.submit_batch_job' after 11.781(s), this was the 3rd time calling it.\n",
      "WARNING:__main__:Finished call to '__main__.submit_batch_job' after 11.781(s), this was the 3rd time calling it.\n",
      "WARNING:__main__:Finished call to '__main__.submit_batch_job' after 5.437(s), this was the 2nd time calling it.\n"
     ]
    },
    {
     "name": "stdout",
     "output_type": "stream",
     "text": [
      "Submit batch for file id: file-UeP82H3VUMSuBxtVeLZBFF\n"
     ]
    },
    {
     "name": "stderr",
     "output_type": "stream",
     "text": [
      "WARNING:__main__:Finished call to '__main__.submit_batch_job' after 5.468(s), this was the 2nd time calling it.\n"
     ]
    },
    {
     "name": "stdout",
     "output_type": "stream",
     "text": [
      "Submit batch for file id: file-Pewzr3iPfUGNaz6TuxBZRx\n",
      "Submit batch for file id: file-SdD4uAiAPrNcWE3d9qeMQR\n",
      "Submit batch for file id: file-1u9Bt8e2ibrsQJJjdunnYv\n"
     ]
    },
    {
     "name": "stderr",
     "output_type": "stream",
     "text": [
      "WARNING:__main__:Finished call to '__main__.submit_batch_job' after 11.735(s), this was the 3rd time calling it.\n",
      "WARNING:__main__:Finished call to '__main__.submit_batch_job' after 11.734(s), this was the 3rd time calling it.\n",
      "WARNING:__main__:Finished call to '__main__.submit_batch_job' after 11.719(s), this was the 3rd time calling it.\n"
     ]
    },
    {
     "name": "stdout",
     "output_type": "stream",
     "text": [
      "Submit batch for file id: file-GsjuNhkyucFtemhFqBw9jK\n",
      "Submit batch for file id: file-BLJkpqTaeHRqi71x52mNo2\n"
     ]
    },
    {
     "name": "stderr",
     "output_type": "stream",
     "text": [
      "WARNING:__main__:Finished call to '__main__.submit_batch_job' after 11.719(s), this was the 3rd time calling it.\n",
      "WARNING:__main__:Finished call to '__main__.submit_batch_job' after 11.735(s), this was the 3rd time calling it.\n"
     ]
    },
    {
     "name": "stdout",
     "output_type": "stream",
     "text": [
      "Submit batch for file id: file-EREeKA86cHncJY5T723gTU\n",
      "Submit batch for file id: file-E9pFaSMNwmSRgnrojGiauK\n"
     ]
    },
    {
     "name": "stderr",
     "output_type": "stream",
     "text": [
      "WARNING:__main__:Finished call to '__main__.submit_batch_job' after 11.688(s), this was the 3rd time calling it.\n",
      "WARNING:__main__:Finished call to '__main__.submit_batch_job' after 11.687(s), this was the 3rd time calling it.\n"
     ]
    },
    {
     "name": "stdout",
     "output_type": "stream",
     "text": [
      "Submit batch for file id: file-CTQq6gZzf8K4m4RTXH33kZ\n",
      "Submit batch for file id: file-T2TohLGKZbNawbsAJeZXXS\n",
      "Submit batch for file id: file-KEfdb4HG8ZHo7v3irUmPrf\n"
     ]
    },
    {
     "name": "stderr",
     "output_type": "stream",
     "text": [
      "WARNING:__main__:Finished call to '__main__.submit_batch_job' after 11.734(s), this was the 3rd time calling it.\n",
      "WARNING:__main__:Finished call to '__main__.submit_batch_job' after 11.781(s), this was the 3rd time calling it.\n",
      "WARNING:__main__:Finished call to '__main__.submit_batch_job' after 11.781(s), this was the 3rd time calling it.\n"
     ]
    },
    {
     "name": "stdout",
     "output_type": "stream",
     "text": [
      "Submit batch for file id: file-StTXZszJwWqUoK8iCwjRHU\n",
      "Submit batch for file id: file-8YSwsw2WxFpt8r4rTXyoB7\n",
      "Submit batch for file id: file-Kfj1h9e7R5Jpag5oD3KLHs\n",
      "Submit batch for file id: file-92UwsHCxkmjWdH9PXJJy8B\n"
     ]
    },
    {
     "name": "stderr",
     "output_type": "stream",
     "text": [
      "WARNING:__main__:Finished call to '__main__.submit_batch_job' after 11.734(s), this was the 3rd time calling it.\n",
      "WARNING:__main__:Finished call to '__main__.submit_batch_job' after 11.750(s), this was the 3rd time calling it.\n",
      "WARNING:__main__:Finished call to '__main__.submit_batch_job' after 11.718(s), this was the 3rd time calling it.\n",
      "WARNING:__main__:Finished call to '__main__.submit_batch_job' after 11.812(s), this was the 3rd time calling it.\n"
     ]
    },
    {
     "name": "stdout",
     "output_type": "stream",
     "text": [
      "Submit batch for file id: file-LnMkodr3RLUicak4j8Hb3t\n"
     ]
    },
    {
     "name": "stderr",
     "output_type": "stream",
     "text": [
      "WARNING:__main__:Finished call to '__main__.submit_batch_job' after 11.703(s), this was the 3rd time calling it.\n"
     ]
    },
    {
     "name": "stdout",
     "output_type": "stream",
     "text": [
      "Submit batch for file id: file-TGi9iR6bGUYTrFgoCFYSgG\n"
     ]
    },
    {
     "name": "stderr",
     "output_type": "stream",
     "text": [
      "WARNING:__main__:Finished call to '__main__.submit_batch_job' after 11.781(s), this was the 3rd time calling it.\n"
     ]
    },
    {
     "name": "stdout",
     "output_type": "stream",
     "text": [
      "Submit batch for file id: file-RusKox4cP5mvXYPe2vzKjj\n",
      "Submit batch for file id: file-MqjpxfVDJHZXuRTmUzXggp\n",
      "Submit batch for file id: file-CjbMGVaVoWuMTk2BaEHNEc\n",
      "Submit batch for file id: file-GMmTXCAPUoEQZ5BTKoW7Xr\n",
      "Submit batch for file id: file-Sfn6y2g3SKoBBdu7meGb4K\n",
      "Submit batch for file id: file-RpfWUuLgJwpAbjB38WjuHK\n",
      "Submit batch for file id: file-ARbcb6daxPvkz321rT8Um2\n",
      "Submit batch for file id: file-48PtGcVKrxLXeRd2Gb6jth\n"
     ]
    },
    {
     "name": "stderr",
     "output_type": "stream",
     "text": [
      "WARNING:__main__:Finished call to '__main__.submit_batch_job' after 41.718(s), this was the 4th time calling it.\n",
      "WARNING:__main__:Finished call to '__main__.submit_batch_job' after 40.422(s), this was the 4th time calling it.\n",
      "WARNING:__main__:Finished call to '__main__.submit_batch_job' after 11.969(s), this was the 3rd time calling it.\n",
      "WARNING:__main__:Finished call to '__main__.submit_batch_job' after 12.125(s), this was the 3rd time calling it.\n",
      "WARNING:__main__:Finished call to '__main__.submit_batch_job' after 41.844(s), this was the 4th time calling it.\n",
      "WARNING:__main__:Finished call to '__main__.submit_batch_job' after 11.891(s), this was the 3rd time calling it.\n",
      "WARNING:__main__:Finished call to '__main__.submit_batch_job' after 11.797(s), this was the 3rd time calling it.\n"
     ]
    },
    {
     "name": "stdout",
     "output_type": "stream",
     "text": [
      "Submit batch for file id: file-FNm2ryVaWgk9CDSPqxaTNK\n",
      "Submit batch for file id: file-MobUfaYeC9fQtNvY1idKYQ\n",
      "Submit batch for file id: file-EU6DXJX52qVSNfH47NQZFv\n",
      "Submit batch for file id: file-BMNRxC48UPsUzZdyBD4XPR\n"
     ]
    },
    {
     "name": "stderr",
     "output_type": "stream",
     "text": [
      "WARNING:__main__:Finished call to '__main__.submit_batch_job' after 11.735(s), this was the 3rd time calling it.\n",
      "WARNING:__main__:Finished call to '__main__.submit_batch_job' after 11.937(s), this was the 3rd time calling it.\n",
      "WARNING:__main__:Finished call to '__main__.submit_batch_job' after 11.937(s), this was the 3rd time calling it.\n",
      "WARNING:__main__:Finished call to '__main__.submit_batch_job' after 11.734(s), this was the 3rd time calling it.\n"
     ]
    },
    {
     "name": "stdout",
     "output_type": "stream",
     "text": [
      "Submit batch for file id: file-RgyeJcJutqJBZxkhcVTFYn\n",
      "Submit batch for file id: file-7VTpJZr5MySVvJUQ55JQ8J\n"
     ]
    },
    {
     "name": "stderr",
     "output_type": "stream",
     "text": [
      "WARNING:__main__:Finished call to '__main__.submit_batch_job' after 11.969(s), this was the 3rd time calling it.\n",
      "WARNING:__main__:Finished call to '__main__.submit_batch_job' after 11.734(s), this was the 3rd time calling it.\n",
      "WARNING:__main__:Finished call to '__main__.submit_batch_job' after 11.703(s), this was the 3rd time calling it.\n"
     ]
    },
    {
     "name": "stdout",
     "output_type": "stream",
     "text": [
      "Submit batch for file id: file-WrnJrqEmPukmoVjgfWqDv7\n",
      "Submit batch for file id: file-LeXQRLFTHd2GMY6naGmM5e\n",
      "Submit batch for file id: file-NThfuvn1fDADecNP8ZYhSR\n",
      "Submit batch for file id: file-4WD4NrziSJua7SdRc3k17V\n",
      "Submit batch for file id: file-RziAkibZ371jUpgQTtD9XD\n",
      "Submit batch for file id: file-BcYjC8yq24uq3edTcM6sLp\n"
     ]
    },
    {
     "name": "stderr",
     "output_type": "stream",
     "text": [
      "WARNING:__main__:Finished call to '__main__.submit_batch_job' after 11.797(s), this was the 3rd time calling it.\n",
      "WARNING:__main__:Finished call to '__main__.submit_batch_job' after 11.703(s), this was the 3rd time calling it.\n",
      "WARNING:__main__:Finished call to '__main__.submit_batch_job' after 12.000(s), this was the 3rd time calling it.\n",
      "WARNING:__main__:Finished call to '__main__.submit_batch_job' after 30.328(s), this was the 4th time calling it.\n"
     ]
    },
    {
     "name": "stdout",
     "output_type": "stream",
     "text": [
      "Submit batch for file id: file-QYZBaJPyrTsK9HRtkixn1S\n",
      "Submit batch for file id: file-M6vqjx7iJS4UnXAssmNU45\n",
      "Submit batch for file id: file-FgP1tfYxnMRQCnHkab4XCC\n",
      "Submit batch for file id: file-Tr1jAgWvz4F4pfyJZkQZVo\n",
      "Submit batch for file id: file-DCtZcAb1kQNse8E5BdLLSt\n",
      "Submit batch for file id: file-8JjpMKrZycPontb9SVds2h\n"
     ]
    },
    {
     "name": "stderr",
     "output_type": "stream",
     "text": [
      "WARNING:__main__:Finished call to '__main__.submit_batch_job' after 11.719(s), this was the 3rd time calling it.\n",
      "WARNING:__main__:Finished call to '__main__.submit_batch_job' after 11.703(s), this was the 3rd time calling it.\n",
      "WARNING:__main__:Finished call to '__main__.submit_batch_job' after 11.703(s), this was the 3rd time calling it.\n",
      "WARNING:__main__:Finished call to '__main__.submit_batch_job' after 11.672(s), this was the 3rd time calling it.\n",
      "WARNING:__main__:Finished call to '__main__.submit_batch_job' after 11.688(s), this was the 3rd time calling it.\n",
      "WARNING:__main__:Finished call to '__main__.submit_batch_job' after 11.656(s), this was the 3rd time calling it.\n",
      "WARNING:__main__:Finished call to '__main__.submit_batch_job' after 26.578(s), this was the 4th time calling it.\n"
     ]
    },
    {
     "name": "stdout",
     "output_type": "stream",
     "text": [
      "Submit batch for file id: file-4ysB3dATxdLtyFmGoMLJbm\n",
      "Submit batch for file id: file-9pmuPCdP8Kzt1xT6bKFBsD\n",
      "Submit batch for file id: file-FKsNVDiy75uq3y1QEVkgrD\n",
      "Submit batch for file id: file-FwXwCpj511e6CWRvvuSouN\n"
     ]
    },
    {
     "name": "stderr",
     "output_type": "stream",
     "text": [
      "WARNING:__main__:Finished call to '__main__.submit_batch_job' after 11.719(s), this was the 3rd time calling it.\n",
      "WARNING:__main__:Finished call to '__main__.submit_batch_job' after 11.672(s), this was the 3rd time calling it.\n",
      "WARNING:__main__:Finished call to '__main__.submit_batch_job' after 11.672(s), this was the 3rd time calling it.\n",
      "WARNING:__main__:Finished call to '__main__.submit_batch_job' after 11.703(s), this was the 3rd time calling it.\n",
      "WARNING:__main__:Finished call to '__main__.submit_batch_job' after 11.703(s), this was the 3rd time calling it.\n"
     ]
    },
    {
     "name": "stdout",
     "output_type": "stream",
     "text": [
      "Submit batch for file id: file-QSUvfRzgRr5HpNghTDDWM3\n",
      "Submit batch for file id: file-XTF1Vw6ny7HJmK373gw8oR\n",
      "Submit batch for file id: file-Wa1JHvq4qG361g9iiWX1N4\n",
      "Submit batch for file id: file-MjMR2x32dToxY33RGkjuD7\n",
      "Submit batch for file id: file-AcpkMAU8hZmEdmP8zoi6Qm\n",
      "Submit batch for file id: file-A7iJ41EqiTyJ2VwxDp49qa\n",
      "Submit batch for file id: file-73PzCnFFqM22rsR6CJ9jwd\n",
      "Submit batch for file id: file-U9gTH3LrY4XrxSLfsGvLPM\n",
      "Submit batch for file id: file-TiqaXQszBeB7jLUgJK5zUC\n",
      "Submit batch for file id: file-19hekmGRNLex8qyv4jhnFF\n"
     ]
    },
    {
     "name": "stderr",
     "output_type": "stream",
     "text": [
      "WARNING:__main__:Finished call to '__main__.submit_batch_job' after 11.640(s), this was the 3rd time calling it.\n",
      "WARNING:__main__:Finished call to '__main__.submit_batch_job' after 11.672(s), this was the 3rd time calling it.\n",
      "WARNING:__main__:Finished call to '__main__.submit_batch_job' after 11.641(s), this was the 3rd time calling it.\n",
      "WARNING:__main__:Finished call to '__main__.submit_batch_job' after 11.641(s), this was the 3rd time calling it.\n",
      "WARNING:__main__:Finished call to '__main__.submit_batch_job' after 11.656(s), this was the 3rd time calling it.\n",
      "WARNING:__main__:Finished call to '__main__.submit_batch_job' after 11.750(s), this was the 3rd time calling it.\n",
      "WARNING:__main__:Finished call to '__main__.submit_batch_job' after 11.656(s), this was the 3rd time calling it.\n",
      "WARNING:__main__:Finished call to '__main__.submit_batch_job' after 11.703(s), this was the 3rd time calling it.\n",
      "WARNING:__main__:Finished call to '__main__.submit_batch_job' after 11.656(s), this was the 3rd time calling it.\n"
     ]
    },
    {
     "name": "stdout",
     "output_type": "stream",
     "text": [
      "Submit batch for file id: file-5xH83SH3nrjj5FUjM8hE5z\n",
      "Submit batch for file id: file-SGoozFukVkQGkRjNpvqu6M\n",
      "Submit batch for file id: file-K1PkdGJiqkdhJ4GzKwK9fm\n",
      "Submit batch for file id: file-GmUMG16MtN9gaT5pGe2yUf\n",
      "Submit batch for file id: file-1RSpMvog5uDCq2UMxVmfbV\n",
      "Submit batch for file id: file-2PNqqZAVUw8DUdW6ow24Nk\n",
      "Submit batch for file id: file-FU68rpH3iXMw4a22fBpRHt\n"
     ]
    },
    {
     "name": "stderr",
     "output_type": "stream",
     "text": [
      "WARNING:__main__:Finished call to '__main__.submit_batch_job' after 11.641(s), this was the 3rd time calling it.\n",
      "WARNING:__main__:Finished call to '__main__.submit_batch_job' after 11.672(s), this was the 3rd time calling it.\n",
      "WARNING:__main__:Finished call to '__main__.submit_batch_job' after 11.641(s), this was the 3rd time calling it.\n",
      "WARNING:__main__:Finished call to '__main__.submit_batch_job' after 11.656(s), this was the 3rd time calling it.\n",
      "WARNING:__main__:Finished call to '__main__.submit_batch_job' after 11.687(s), this was the 3rd time calling it.\n",
      "WARNING:__main__:Finished call to '__main__.submit_batch_job' after 11.656(s), this was the 3rd time calling it.\n",
      "WARNING:__main__:Finished call to '__main__.submit_batch_job' after 11.625(s), this was the 3rd time calling it.\n",
      "WARNING:__main__:Finished call to '__main__.submit_batch_job' after 11.656(s), this was the 3rd time calling it.\n"
     ]
    },
    {
     "name": "stdout",
     "output_type": "stream",
     "text": [
      "Submit batch for file id: file-FBpbUrfk5hFRS7qQf2wU7i\n",
      "Submit batch for file id: file-3M7wi21PaBYezt1qttZRqL\n",
      "Submit batch for file id: file-3NHyHyt4fTK2ypn4GpK54T\n",
      "Submit batch for file id: file-Ng8hKcLpo77rK2QwqX7auq\n",
      "Submit batch for file id: file-WdG9GHe5CUPVbZx2Uc1dT5\n",
      "Submit batch for file id: file-KSGYAE72fyQKWzumYLtZLY\n",
      "Submit batch for file id: file-QpWac8fzcNRqMVD1imLZN2\n"
     ]
    },
    {
     "name": "stderr",
     "output_type": "stream",
     "text": [
      "WARNING:__main__:Finished call to '__main__.submit_batch_job' after 11.687(s), this was the 3rd time calling it.\n",
      "WARNING:__main__:Finished call to '__main__.submit_batch_job' after 11.672(s), this was the 3rd time calling it.\n",
      "WARNING:__main__:Finished call to '__main__.submit_batch_job' after 11.703(s), this was the 3rd time calling it.\n",
      "WARNING:__main__:Finished call to '__main__.submit_batch_job' after 11.672(s), this was the 3rd time calling it.\n",
      "WARNING:__main__:Finished call to '__main__.submit_batch_job' after 11.656(s), this was the 3rd time calling it.\n",
      "WARNING:__main__:Finished call to '__main__.submit_batch_job' after 11.672(s), this was the 3rd time calling it.\n",
      "WARNING:__main__:Finished call to '__main__.submit_batch_job' after 11.672(s), this was the 3rd time calling it.\n"
     ]
    },
    {
     "name": "stdout",
     "output_type": "stream",
     "text": [
      "Submit batch for file id: file-9WwhAQQH5C9pjPUdQPS7PH\n",
      "Submit batch for file id: file-VWbofwLYTc2XKR1tWy27Xm\n",
      "Submit batch for file id: file-QtbZL6tHmRzD1KySbRSojf\n",
      "Submit batch for file id: file-QEEnDUbDpxadhah3wi8xeh\n",
      "Submit batch for file id: file-BJ6SoE2jasuvWdQdQzY6QG\n"
     ]
    },
    {
     "name": "stderr",
     "output_type": "stream",
     "text": [
      "WARNING:__main__:Finished call to '__main__.submit_batch_job' after 11.687(s), this was the 3rd time calling it.\n",
      "WARNING:__main__:Finished call to '__main__.submit_batch_job' after 11.687(s), this was the 3rd time calling it.\n",
      "WARNING:__main__:Finished call to '__main__.submit_batch_job' after 24.672(s), this was the 4th time calling it.\n",
      "WARNING:__main__:Finished call to '__main__.submit_batch_job' after 11.656(s), this was the 3rd time calling it.\n",
      "WARNING:__main__:Finished call to '__main__.submit_batch_job' after 11.656(s), this was the 3rd time calling it.\n"
     ]
    },
    {
     "name": "stdout",
     "output_type": "stream",
     "text": [
      "Submit batch for file id: file-7NHGfB6gapXMomUNiCV9i7\n",
      "Submit batch for file id: file-F2ytrfRktUCSFpBePnJokc\n",
      "Submit batch for file id: file-WtbAvhtw8owkMrg8aThABy\n",
      "Submit batch for file id: file-FnbEuh9cXtH1rY17Ahq38a\n",
      "Submit batch for file id: file-9tgGZ5CVwidwqHs6vs7Y2D\n",
      "Submit batch for file id: file-GhD1dQH9vwfzVy4DwSAZ6D\n",
      "Submit batch for file id: file-14UtbHeH4gqhTEmMB7B6QX\n",
      "Submit batch for file id: file-MWn3HdNBGpCa3QDR7CiBE6\n"
     ]
    },
    {
     "name": "stderr",
     "output_type": "stream",
     "text": [
      "WARNING:__main__:Finished call to '__main__.submit_batch_job' after 11.672(s), this was the 3rd time calling it.\n",
      "WARNING:__main__:Finished call to '__main__.submit_batch_job' after 11.703(s), this was the 3rd time calling it.\n",
      "WARNING:__main__:Finished call to '__main__.submit_batch_job' after 11.672(s), this was the 3rd time calling it.\n",
      "WARNING:__main__:Finished call to '__main__.submit_batch_job' after 11.656(s), this was the 3rd time calling it.\n",
      "WARNING:__main__:Finished call to '__main__.submit_batch_job' after 11.641(s), this was the 3rd time calling it.\n",
      "WARNING:__main__:Finished call to '__main__.submit_batch_job' after 11.688(s), this was the 3rd time calling it.\n",
      "WARNING:__main__:Finished call to '__main__.submit_batch_job' after 11.672(s), this was the 3rd time calling it.\n",
      "WARNING:__main__:Finished call to '__main__.submit_batch_job' after 11.672(s), this was the 3rd time calling it.\n"
     ]
    },
    {
     "name": "stdout",
     "output_type": "stream",
     "text": [
      "Submit batch for file id: file-Dt7PZkigoGW6CSiksJWKdx\n",
      "Submit batch for file id: file-452kpXTmFLdXh9aRAfhH3A\n",
      "Submit batch for file id: file-DyynCjH5cKoz3hSsmNynvY\n",
      "Submit batch for file id: file-C4wp4VMHepZpHQ85ouox9U\n"
     ]
    },
    {
     "name": "stderr",
     "output_type": "stream",
     "text": [
      "WARNING:__main__:Finished call to '__main__.submit_batch_job' after 11.672(s), this was the 3rd time calling it.\n",
      "WARNING:__main__:Finished call to '__main__.submit_batch_job' after 11.703(s), this was the 3rd time calling it.\n",
      "WARNING:__main__:Finished call to '__main__.submit_batch_job' after 11.609(s), this was the 3rd time calling it.\n",
      "WARNING:__main__:Finished call to '__main__.submit_batch_job' after 11.656(s), this was the 3rd time calling it.\n"
     ]
    },
    {
     "name": "stdout",
     "output_type": "stream",
     "text": [
      "Submit batch for file id: file-AMgw3d9pcadAK8ZnQRGSDs\n"
     ]
    },
    {
     "name": "stderr",
     "output_type": "stream",
     "text": [
      "WARNING:__main__:Finished call to '__main__.submit_batch_job' after 11.656(s), this was the 3rd time calling it.\n"
     ]
    },
    {
     "name": "stdout",
     "output_type": "stream",
     "text": [
      "Submit batch for file id: file-4iELHf65RHG46TRJG97A5m\n",
      "Submit batch for file id: file-UhaPhcmrzRe6AriJi7D8Xn\n",
      "Submit batch for file id: file-1uFDWcaPVM8ChELTmdJCcG\n",
      "Submit batch for file id: file-ThUzQnduMpC1Uok36nmaua\n"
     ]
    },
    {
     "name": "stderr",
     "output_type": "stream",
     "text": [
      "WARNING:__main__:Finished call to '__main__.submit_batch_job' after 55.797(s), this was the 4th time calling it.\n",
      "WARNING:__main__:Finished call to '__main__.submit_batch_job' after 56.218(s), this was the 4th time calling it.\n",
      "WARNING:__main__:Finished call to '__main__.submit_batch_job' after 11.688(s), this was the 3rd time calling it.\n",
      "WARNING:__main__:Finished call to '__main__.submit_batch_job' after 53.922(s), this was the 4th time calling it.\n"
     ]
    },
    {
     "name": "stdout",
     "output_type": "stream",
     "text": [
      "Submit batch for file id: file-H4UcdjvzFU3NSvLfV9Lz91\n",
      "Submit batch for file id: file-3fmNDSb9bejhsKQQVEJkeG\n",
      "Submit batch for file id: file-1NMVxFsL8X9gXuXCd1M7aw\n",
      "Submit batch for file id: file-FqRbp1o9UcMyS43rtgozVF\n",
      "Submit batch for file id: file-QxKgbxPLvdvGzS4VTHTkLN\n",
      "Submit batch for file id: file-9Es3UigCPuAWFRi3ST68f2\n"
     ]
    },
    {
     "name": "stderr",
     "output_type": "stream",
     "text": [
      "WARNING:__main__:Finished call to '__main__.submit_batch_job' after 53.047(s), this was the 4th time calling it.\n",
      "WARNING:__main__:Finished call to '__main__.submit_batch_job' after 52.468(s), this was the 4th time calling it.\n",
      "WARNING:__main__:Finished call to '__main__.submit_batch_job' after 52.078(s), this was the 4th time calling it.\n",
      "WARNING:__main__:Finished call to '__main__.submit_batch_job' after 51.906(s), this was the 4th time calling it.\n",
      "WARNING:__main__:Finished call to '__main__.submit_batch_job' after 11.656(s), this was the 3rd time calling it.\n",
      "WARNING:__main__:Finished call to '__main__.submit_batch_job' after 52.125(s), this was the 4th time calling it.\n"
     ]
    },
    {
     "name": "stdout",
     "output_type": "stream",
     "text": [
      "Submit batch for file id: file-GeQEbs1FumYAywStuHXGz2\n",
      "Submit batch for file id: file-GzunAg1Jw91Jwt7gBFJBHV\n",
      "Submit batch for file id: file-5gqNiwo1LRu7sVuKnG8kaU\n",
      "Submit batch for file id: file-7xLX9EvuFRC8z5d1BkZmwg\n",
      "Submit batch for file id: file-UeP82H3VUMSuBxtVeLZBFF\n",
      "Submit batch for file id: file-CzMBcRbrD3bdGSTfdLPbkJ\n",
      "Submit batch for file id: file-TRjcj5TSPkxG7Zuu5SiC4X\n",
      "Submit batch for file id: file-LBdJ7yEGUcrf9PUqaYEYYr\n",
      "Submit batch for file id: file-1isXv9KCKi8aFR2XJdh1rr\n",
      "Submit batch for file id: file-Q3nAh4mS6MAXDKjkWrbYBv\n"
     ]
    },
    {
     "name": "stderr",
     "output_type": "stream",
     "text": [
      "WARNING:__main__:Finished call to '__main__.submit_batch_job' after 51.750(s), this was the 4th time calling it.\n",
      "WARNING:__main__:Finished call to '__main__.submit_batch_job' after 51.375(s), this was the 4th time calling it.\n",
      "WARNING:__main__:Finished call to '__main__.submit_batch_job' after 11.687(s), this was the 3rd time calling it.\n",
      "WARNING:__main__:Finished call to '__main__.submit_batch_job' after 51.094(s), this was the 4th time calling it.\n",
      "WARNING:__main__:Finished call to '__main__.submit_batch_job' after 51.547(s), this was the 4th time calling it.\n",
      "WARNING:__main__:Finished call to '__main__.submit_batch_job' after 51.344(s), this was the 4th time calling it.\n",
      "WARNING:__main__:Finished call to '__main__.submit_batch_job' after 51.063(s), this was the 4th time calling it.\n",
      "WARNING:__main__:Finished call to '__main__.submit_batch_job' after 51.125(s), this was the 4th time calling it.\n",
      "WARNING:__main__:Finished call to '__main__.submit_batch_job' after 50.719(s), this was the 4th time calling it.\n",
      "WARNING:__main__:Finished call to '__main__.submit_batch_job' after 24.219(s), this was the 4th time calling it.\n"
     ]
    },
    {
     "name": "stdout",
     "output_type": "stream",
     "text": [
      "Submit batch for file id: file-PArMLLVcLezL2Yyv5an18b\n",
      "Submit batch for file id: file-1fDq8cz6i6fWC9p4riYfn8\n",
      "Submit batch for file id: file-Fprg6acBD5mfwJRKg7qhBU\n",
      "Submit batch for file id: file-MKjjGe4CJK4cEyuAZP17ik\n",
      "Submit batch for file id: file-2fXDtEf9HWQp16vYJRKbW7\n",
      "Submit batch for file id: file-8UAk9kX5rpzBaw4XdxDPHC\n"
     ]
    },
    {
     "name": "stderr",
     "output_type": "stream",
     "text": [
      "WARNING:__main__:Finished call to '__main__.submit_batch_job' after 50.796(s), this was the 4th time calling it.\n",
      "WARNING:__main__:Finished call to '__main__.submit_batch_job' after 51.141(s), this was the 4th time calling it.\n",
      "WARNING:__main__:Finished call to '__main__.submit_batch_job' after 50.672(s), this was the 4th time calling it.\n",
      "WARNING:__main__:Finished call to '__main__.submit_batch_job' after 50.484(s), this was the 4th time calling it.\n",
      "WARNING:__main__:Finished call to '__main__.submit_batch_job' after 24.282(s), this was the 4th time calling it.\n",
      "WARNING:__main__:Finished call to '__main__.submit_batch_job' after 24.219(s), this was the 4th time calling it.\n"
     ]
    },
    {
     "name": "stdout",
     "output_type": "stream",
     "text": [
      "Submit batch for file id: file-Dj4JPGJmPNbtDFrc7PvEtb\n",
      "Submit batch for file id: file-Khcv7WqDiZQWtK29NyAVHK\n",
      "Submit batch for file id: file-KGpSmjoPL3664QVP2y99ee\n",
      "Submit batch for file id: file-KZjZHp1tuQw7CjVSefKgH8\n",
      "Submit batch for file id: file-Q77rQfKqLTy7JdP6B53MXR\n",
      "Submit batch for file id: file-L18uPjHMMmG7dko5B4TDvL\n",
      "Submit batch for file id: file-EKGwz4JDNFvAdYi2kiWPs1\n",
      "Submit batch for file id: file-34GkneJBJey5PxfHBjf76d\n",
      "Submit batch for file id: file-5HwBpd5vU8mbS5isXXWtHf\n",
      "Submit batch for file id: file-Fo5ksX8z6SbdXXNTLTH13J\n",
      "Submit batch for file id: file-6LX5UEFn5XPUWdDQowifhb\n"
     ]
    },
    {
     "name": "stderr",
     "output_type": "stream",
     "text": [
      "WARNING:__main__:Finished call to '__main__.submit_batch_job' after 50.563(s), this was the 4th time calling it.\n",
      "WARNING:__main__:Finished call to '__main__.submit_batch_job' after 50.453(s), this was the 4th time calling it.\n",
      "WARNING:__main__:Finished call to '__main__.submit_batch_job' after 50.437(s), this was the 4th time calling it.\n",
      "WARNING:__main__:Finished call to '__main__.submit_batch_job' after 50.546(s), this was the 4th time calling it.\n",
      "WARNING:__main__:Finished call to '__main__.submit_batch_job' after 50.187(s), this was the 4th time calling it.\n",
      "WARNING:__main__:Finished call to '__main__.submit_batch_job' after 50.047(s), this was the 4th time calling it.\n",
      "WARNING:__main__:Finished call to '__main__.submit_batch_job' after 49.891(s), this was the 4th time calling it.\n",
      "WARNING:__main__:Finished call to '__main__.submit_batch_job' after 49.891(s), this was the 4th time calling it.\n",
      "WARNING:__main__:Finished call to '__main__.submit_batch_job' after 49.875(s), this was the 4th time calling it.\n",
      "WARNING:__main__:Finished call to '__main__.submit_batch_job' after 49.812(s), this was the 4th time calling it.\n",
      "WARNING:__main__:Finished call to '__main__.submit_batch_job' after 49.875(s), this was the 4th time calling it.\n"
     ]
    },
    {
     "name": "stdout",
     "output_type": "stream",
     "text": [
      "Submit batch for file id: file-UmdSKAtbz7mytCsPcw4ytH\n",
      "Submit batch for file id: file-KvNYFYP6LV3vBkLhfEteq9\n",
      "Submit batch for file id: file-6hwGTQJkvpNby3vCRzdi8r\n",
      "Submit batch for file id: file-FX3XzucfTo4aRreRY5vW5G\n",
      "Submit batch for file id: file-Weof6ATP6ra6AmywrA4ETG\n",
      "Submit batch for file id: file-BrP9mvdjjaEE4uoPjKTy8e\n",
      "Submit batch for file id: file-R2re44U418x6UDTCX1jeRS\n",
      "Submit batch for file id: file-L3rBpKhbj1kT17QdawZKVx\n",
      "Submit batch for file id: file-5tCKkf9LDpsN5aoKguJHGb\n"
     ]
    },
    {
     "name": "stderr",
     "output_type": "stream",
     "text": [
      "WARNING:__main__:Finished call to '__main__.submit_batch_job' after 49.750(s), this was the 4th time calling it.\n",
      "WARNING:__main__:Finished call to '__main__.submit_batch_job' after 49.750(s), this was the 4th time calling it.\n",
      "WARNING:__main__:Finished call to '__main__.submit_batch_job' after 49.781(s), this was the 4th time calling it.\n",
      "WARNING:__main__:Finished call to '__main__.submit_batch_job' after 49.812(s), this was the 4th time calling it.\n",
      "WARNING:__main__:Finished call to '__main__.submit_batch_job' after 49.750(s), this was the 4th time calling it.\n",
      "WARNING:__main__:Finished call to '__main__.submit_batch_job' after 49.203(s), this was the 4th time calling it.\n",
      "WARNING:__main__:Finished call to '__main__.submit_batch_job' after 49.781(s), this was the 4th time calling it.\n",
      "WARNING:__main__:Finished call to '__main__.submit_batch_job' after 49.704(s), this was the 4th time calling it.\n",
      "WARNING:__main__:Finished call to '__main__.submit_batch_job' after 51.688(s), this was the 4th time calling it.\n"
     ]
    },
    {
     "name": "stdout",
     "output_type": "stream",
     "text": [
      "Submit batch for file id: file-RfqpSJZ8byFyaWm12Aw7EJ\n",
      "Submit batch for file id: file-9PzdXV5aKUbgUEnvjVBRc8\n",
      "Submit batch for file id: file-2GktNG8Fgh57fMM32WsWUc\n",
      "Submit batch for file id: file-VXUmzc7fTWyzxoUPJ9uCGJ\n",
      "Submit batch for file id: file-HQBzF5n1VF7pqCBgiULxp8\n",
      "Submit batch for file id: file-GoXRYrJMdnER63ECcb1DUw\n",
      "Submit batch for file id: file-6w6qWFHB46Q5bz6yNLrpfT\n",
      "Submit batch for file id: file-8svkkDGm6DstHAhtxKWN4d\n",
      "Submit batch for file id: file-WVUgq3Pzipr9EmVoe6epU5\n",
      "Submit batch for file id: file-1AQYB4Rc2rmE784MmJxRK5\n",
      "Submit batch for file id: file-BqLuoDMp7RDSL3vg4Zme5E\n",
      "Submit batch for file id: file-2gEWPEqJvtVEy1XQm9gEJh\n"
     ]
    },
    {
     "name": "stderr",
     "output_type": "stream",
     "text": [
      "WARNING:__main__:Finished call to '__main__.submit_batch_job' after 24.281(s), this was the 4th time calling it.\n",
      "WARNING:__main__:Finished call to '__main__.submit_batch_job' after 49.156(s), this was the 4th time calling it.\n",
      "WARNING:__main__:Finished call to '__main__.submit_batch_job' after 49.172(s), this was the 4th time calling it.\n",
      "WARNING:__main__:Finished call to '__main__.submit_batch_job' after 49.016(s), this was the 4th time calling it.\n",
      "WARNING:__main__:Finished call to '__main__.submit_batch_job' after 49.062(s), this was the 4th time calling it.\n",
      "WARNING:__main__:Finished call to '__main__.submit_batch_job' after 48.953(s), this was the 4th time calling it.\n",
      "WARNING:__main__:Finished call to '__main__.submit_batch_job' after 48.906(s), this was the 4th time calling it.\n",
      "WARNING:__main__:Finished call to '__main__.submit_batch_job' after 48.469(s), this was the 4th time calling it.\n",
      "WARNING:__main__:Finished call to '__main__.submit_batch_job' after 48.703(s), this was the 4th time calling it.\n",
      "WARNING:__main__:Finished call to '__main__.submit_batch_job' after 48.938(s), this was the 4th time calling it.\n",
      "WARNING:__main__:Finished call to '__main__.submit_batch_job' after 48.454(s), this was the 4th time calling it.\n"
     ]
    },
    {
     "name": "stdout",
     "output_type": "stream",
     "text": [
      "Submit batch for file id: file-Y93zkbzQ4n9ZrAkSi1o5f4\n",
      "Submit batch for file id: file-YLn8FVmakzjTvym4ZjDHkx\n",
      "Submit batch for file id: file-39vzF4LaqdajCSPfygAteN\n",
      "Submit batch for file id: file-CXDGiUgoYice4vcgoJyvtF\n",
      "Submit batch for file id: file-9e7SdTfz6YxMvai4wzwZsm\n",
      "Submit batch for file id: file-CVuJGzm57nnPkHVotMCYMz\n",
      "Submit batch for file id: file-JWMMg384xxLy7Jjtznt7Fp\n",
      "Submit batch for file id: file-Dz7fYP8ujbF3Y6HXTpCSPD\n"
     ]
    },
    {
     "name": "stderr",
     "output_type": "stream",
     "text": [
      "WARNING:__main__:Finished call to '__main__.submit_batch_job' after 49.375(s), this was the 4th time calling it.\n",
      "WARNING:__main__:Finished call to '__main__.submit_batch_job' after 48.281(s), this was the 4th time calling it.\n",
      "WARNING:__main__:Finished call to '__main__.submit_batch_job' after 48.468(s), this was the 4th time calling it.\n",
      "WARNING:__main__:Finished call to '__main__.submit_batch_job' after 48.062(s), this was the 4th time calling it.\n",
      "WARNING:__main__:Finished call to '__main__.submit_batch_job' after 47.953(s), this was the 4th time calling it.\n",
      "WARNING:__main__:Finished call to '__main__.submit_batch_job' after 47.937(s), this was the 4th time calling it.\n",
      "WARNING:__main__:Finished call to '__main__.submit_batch_job' after 47.735(s), this was the 4th time calling it.\n",
      "WARNING:__main__:Finished call to '__main__.submit_batch_job' after 47.078(s), this was the 4th time calling it.\n"
     ]
    },
    {
     "name": "stdout",
     "output_type": "stream",
     "text": [
      "Submit batch for file id: file-W8CE6Ej9oUNWhDaC4kipuZ\n",
      "Submit batch for file id: file-MsPvyzEpQnZFTeXbQ2c1sF\n",
      "Submit batch for file id: file-R7zwdPKreYKoKpGqgWYJMh\n",
      "Submit batch for file id: file-4LZVubFvWedm1goW8RqwZx\n",
      "Submit batch for file id: file-6vZzfNQmAZ5iMUNFdt2sMz\n",
      "Submit batch for file id: file-8hhtBWdyi9VfpM67FuJpWK\n",
      "Submit batch for file id: file-Q5euvqtoYoWQmoJUCvvNyu\n",
      "Submit batch for file id: file-XQ7TSQWCDhBiiVZJkdscMM\n",
      "Submit batch for file id: file-MPazBAFopFUQ3TGzaQCvUV\n",
      "Submit batch for file id: file-QbzTdYT5yRo5wdB8YPWCCu\n",
      "Submit batch for file id: file-2VNRAfJfE8uLJeBv68nkcr\n",
      "Submit batch for file id: file-RhT1MjMfQahCFq5EMzqfwK\n",
      "Submit batch for file id: file-HJFDWCvghb97uFooa2WPUK\n",
      "Submit batch for file id: file-JCvBVLSPxu88FrHjhv7MWg\n",
      "Submit batch for file id: file-TZoTML1cBjTi2nZxNtWTmj\n"
     ]
    },
    {
     "name": "stderr",
     "output_type": "stream",
     "text": [
      "WARNING:__main__:Finished call to '__main__.submit_batch_job' after 48.969(s), this was the 4th time calling it.\n",
      "WARNING:__main__:Finished call to '__main__.submit_batch_job' after 46.969(s), this was the 4th time calling it.\n",
      "WARNING:__main__:Finished call to '__main__.submit_batch_job' after 47.672(s), this was the 4th time calling it.\n",
      "WARNING:__main__:Finished call to '__main__.submit_batch_job' after 47.438(s), this was the 4th time calling it.\n",
      "WARNING:__main__:Finished call to '__main__.submit_batch_job' after 47.484(s), this was the 4th time calling it.\n",
      "WARNING:__main__:Finished call to '__main__.submit_batch_job' after 47.578(s), this was the 4th time calling it.\n",
      "WARNING:__main__:Finished call to '__main__.submit_batch_job' after 46.453(s), this was the 4th time calling it.\n",
      "WARNING:__main__:Finished call to '__main__.submit_batch_job' after 46.453(s), this was the 4th time calling it.\n",
      "WARNING:__main__:Finished call to '__main__.submit_batch_job' after 24.250(s), this was the 4th time calling it.\n",
      "WARNING:__main__:Finished call to '__main__.submit_batch_job' after 46.531(s), this was the 4th time calling it.\n",
      "WARNING:__main__:Finished call to '__main__.submit_batch_job' after 46.531(s), this was the 4th time calling it.\n",
      "WARNING:__main__:Finished call to '__main__.submit_batch_job' after 46.297(s), this was the 4th time calling it.\n",
      "WARNING:__main__:Finished call to '__main__.submit_batch_job' after 46.547(s), this was the 4th time calling it.\n",
      "WARNING:__main__:Finished call to '__main__.submit_batch_job' after 46.125(s), this was the 4th time calling it.\n",
      "WARNING:__main__:Finished call to '__main__.submit_batch_job' after 49.219(s), this was the 4th time calling it.\n",
      "WARNING:__main__:Finished call to '__main__.submit_batch_job' after 47.797(s), this was the 4th time calling it.\n"
     ]
    },
    {
     "name": "stdout",
     "output_type": "stream",
     "text": [
      "Submit batch for file id: file-6awy19xdcBWtTJhAP9tjxT\n",
      "Submit batch for file id: file-JCA6qGgzpDMSisGBR7ZZiD\n",
      "Submit batch for file id: file-9Xvqt7PtFSfThGStUCiedy\n",
      "Submit batch for file id: file-7P2Y5dijJGmAYZrEEGSUPc\n",
      "Submit batch for file id: file-SeeGpHaTU54Pn5vfJs5i7a\n",
      "Submit batch for file id: file-DxcRgz27AcV6rBZ55hA2L6\n",
      "Submit batch for file id: file-AH2aU4FJmDZDMzjGLSfnA6\n",
      "Submit batch for file id: file-EZHqfST1ymFHUiPRLEcAVo\n",
      "Submit batch for file id: file-PG6d28LBLJVUhFFqb9y3it\n",
      "Submit batch for file id: file-GbeuaWnD78VE2N4cW2WCJA\n"
     ]
    },
    {
     "name": "stderr",
     "output_type": "stream",
     "text": [
      "WARNING:__main__:Finished call to '__main__.submit_batch_job' after 46.234(s), this was the 4th time calling it.\n",
      "WARNING:__main__:Finished call to '__main__.submit_batch_job' after 48.891(s), this was the 4th time calling it.\n",
      "WARNING:__main__:Finished call to '__main__.submit_batch_job' after 46.125(s), this was the 4th time calling it.\n",
      "WARNING:__main__:Finished call to '__main__.submit_batch_job' after 45.500(s), this was the 4th time calling it.\n",
      "WARNING:__main__:Finished call to '__main__.submit_batch_job' after 45.531(s), this was the 4th time calling it.\n",
      "WARNING:__main__:Finished call to '__main__.submit_batch_job' after 46.219(s), this was the 4th time calling it.\n",
      "WARNING:__main__:Finished call to '__main__.submit_batch_job' after 45.516(s), this was the 4th time calling it.\n",
      "WARNING:__main__:Finished call to '__main__.submit_batch_job' after 45.375(s), this was the 4th time calling it.\n",
      "WARNING:__main__:Finished call to '__main__.submit_batch_job' after 45.172(s), this was the 4th time calling it.\n"
     ]
    },
    {
     "name": "stdout",
     "output_type": "stream",
     "text": [
      "Submit batch for file id: file-AvYasrXaMb2PaUBr7KsUuj\n",
      "Submit batch for file id: file-7SAcxb657Lmspvy3jPvqEA\n",
      "Submit batch for file id: file-D2AGbCD8rynDVymHhZD4Uk\n",
      "Submit batch for file id: file-Kn8BaWsVXTonkcGkWFHnJR\n",
      "Submit batch for file id: file-Gq1ZtdRHmkxbKX3uqBmHHa\n",
      "Submit batch for file id: file-DLj9HK5z54wRKkfGkM2BDA\n",
      "Submit batch for file id: file-PBCWt6VC4PdusBVdypB6Kk\n",
      "Submit batch for file id: file-EPiN4kAQni5obnyRf37yJX\n",
      "Submit batch for file id: file-5JP5KfPcU4H7pfwYVeuGzf\n",
      "Submit batch for file id: file-UJd11Zaj3nUhDRk5PnBdKb\n",
      "Submit batch for file id: file-6XD8DC3eDgnMiYMmeaf7tM\n",
      "Submit batch for file id: file-AWLD8ue4aEtao94hJzhmRo\n",
      "Submit batch for file id: file-88MsoJMotSSdgMZZQHmUsf\n",
      "Submit batch for file id: file-WtCzUQsVSPL1Y65sNJEc7g\n",
      "Submit batch for file id: file-FB6JmWT9ujn1oyNeHZEc1w\n",
      "Submit batch for file id: file-Mt67XkaLqcyKF6b5UKwDAi\n"
     ]
    },
    {
     "name": "stderr",
     "output_type": "stream",
     "text": [
      "WARNING:__main__:Finished call to '__main__.submit_batch_job' after 45.391(s), this was the 4th time calling it.\n",
      "WARNING:__main__:Finished call to '__main__.submit_batch_job' after 44.875(s), this was the 4th time calling it.\n",
      "WARNING:__main__:Finished call to '__main__.submit_batch_job' after 44.922(s), this was the 4th time calling it.\n",
      "WARNING:__main__:Finished call to '__main__.submit_batch_job' after 45.203(s), this was the 4th time calling it.\n",
      "WARNING:__main__:Finished call to '__main__.submit_batch_job' after 44.922(s), this was the 4th time calling it.\n",
      "WARNING:__main__:Finished call to '__main__.submit_batch_job' after 44.578(s), this was the 4th time calling it.\n",
      "WARNING:__main__:Finished call to '__main__.submit_batch_job' after 44.391(s), this was the 4th time calling it.\n",
      "WARNING:__main__:Finished call to '__main__.submit_batch_job' after 45.015(s), this was the 4th time calling it.\n",
      "WARNING:__main__:Finished call to '__main__.submit_batch_job' after 44.531(s), this was the 4th time calling it.\n",
      "WARNING:__main__:Finished call to '__main__.submit_batch_job' after 44.531(s), this was the 4th time calling it.\n",
      "WARNING:__main__:Finished call to '__main__.submit_batch_job' after 45.062(s), this was the 4th time calling it.\n",
      "WARNING:__main__:Finished call to '__main__.submit_batch_job' after 44.937(s), this was the 4th time calling it.\n",
      "WARNING:__main__:Finished call to '__main__.submit_batch_job' after 44.578(s), this was the 4th time calling it.\n",
      "WARNING:__main__:Finished call to '__main__.submit_batch_job' after 24.203(s), this was the 4th time calling it.\n",
      "WARNING:__main__:Finished call to '__main__.submit_batch_job' after 44.297(s), this was the 4th time calling it.\n",
      "WARNING:__main__:Finished call to '__main__.submit_batch_job' after 46.656(s), this was the 4th time calling it.\n"
     ]
    },
    {
     "name": "stdout",
     "output_type": "stream",
     "text": [
      "Submit batch for file id: file-UCapekh7L3faz494LsR6rL\n",
      "Submit batch for file id: file-3Kd917ker4zbzSVRkHGpwC\n",
      "Submit batch for file id: file-1TtRzxoA72k9yC8pbsv89H\n",
      "Submit batch for file id: file-8n8TtNJ4QU7iTjLAmwu4KD\n",
      "Submit batch for file id: file-QxNNDkW5S234Y6vg4Jpk4g\n",
      "Submit batch for file id: file-WQ1hCJVagY6hFQBNXXWeqU\n",
      "Submit batch for file id: file-HQy3KopReGQ4XxSRtr8zFf\n",
      "Submit batch for file id: file-LjX7A3bhUk5aC3iwdrnvSU\n",
      "Submit batch for file id: file-1DC97oBbDR9b9L6J9xuwUN\n",
      "Submit batch for file id: file-KKr2PrCzPicACpGM3jmm2N\n",
      "Submit batch for file id: file-9neMc7wz17qcqiYswev27L\n",
      "Submit batch for file id: file-VL7eoJqsPh3JttMQFXxcX2\n",
      "Submit batch for file id: file-4cVeyM24GbrS97QtpnzkyY\n",
      "Submit batch for file id: file-XARqa9WH45zwwwkhgtx7y3\n",
      "Submit batch for file id: file-H2DKafEw7tpPqYFRKAPsAS\n",
      "Submit batch for file id: file-GQnoTVCR7VndXcAVBwdm6E\n",
      "Submit batch for file id: file-K2y1e5jtZZmttopmiskf2m\n",
      "Submit batch for file id: file-WiP7RB887ZGpFxsSbnTxF3\n"
     ]
    },
    {
     "name": "stderr",
     "output_type": "stream",
     "text": [
      "WARNING:__main__:Finished call to '__main__.submit_batch_job' after 43.437(s), this was the 4th time calling it.\n",
      "WARNING:__main__:Finished call to '__main__.submit_batch_job' after 42.641(s), this was the 4th time calling it.\n",
      "WARNING:__main__:Finished call to '__main__.submit_batch_job' after 43.719(s), this was the 4th time calling it.\n",
      "WARNING:__main__:Finished call to '__main__.submit_batch_job' after 43.141(s), this was the 4th time calling it.\n",
      "WARNING:__main__:Finished call to '__main__.submit_batch_job' after 43.047(s), this was the 4th time calling it.\n",
      "WARNING:__main__:Finished call to '__main__.submit_batch_job' after 41.500(s), this was the 4th time calling it.\n",
      "WARNING:__main__:Finished call to '__main__.submit_batch_job' after 44.641(s), this was the 4th time calling it.\n",
      "WARNING:__main__:Finished call to '__main__.submit_batch_job' after 42.281(s), this was the 4th time calling it.\n",
      "WARNING:__main__:Finished call to '__main__.submit_batch_job' after 42.437(s), this was the 4th time calling it.\n",
      "WARNING:__main__:Finished call to '__main__.submit_batch_job' after 44.203(s), this was the 4th time calling it.\n",
      "WARNING:__main__:Finished call to '__main__.submit_batch_job' after 44.672(s), this was the 4th time calling it.\n",
      "WARNING:__main__:Finished call to '__main__.submit_batch_job' after 42.625(s), this was the 4th time calling it.\n",
      "WARNING:__main__:Finished call to '__main__.submit_batch_job' after 42.796(s), this was the 4th time calling it.\n",
      "WARNING:__main__:Finished call to '__main__.submit_batch_job' after 42.500(s), this was the 4th time calling it.\n",
      "WARNING:__main__:Finished call to '__main__.submit_batch_job' after 42.453(s), this was the 4th time calling it.\n",
      "WARNING:__main__:Finished call to '__main__.submit_batch_job' after 44.516(s), this was the 4th time calling it.\n"
     ]
    },
    {
     "name": "stdout",
     "output_type": "stream",
     "text": [
      "Submit batch for file id: file-1weuXVVN2icyC92PXCefVY\n",
      "Submit batch for file id: file-Y86pUud7eLJQ23JnuF7EXi\n",
      "Submit batch for file id: file-GbbG95fXcUuHLXUkU7UBSv\n",
      "Submit batch for file id: file-RZQfxZurqFWDwkuqyviNxb\n",
      "Submit batch for file id: file-MKsm3ivsfGq29MXMMLossD\n",
      "Submit batch for file id: file-KeZXfSr2AaLQ9hr4KbRYYu\n",
      "Submit batch for file id: file-FfLu7p8zRRdeEV5cMYAFpq\n",
      "Submit batch for file id: file-3M43s57LXh7Njd2aFcmoGU\n",
      "Submit batch for file id: file-TaBS4jG93wG8KnrhnxvsPu\n",
      "Submit batch for file id: file-Hrggj2pPCH18WQUrtKweGp\n",
      "Submit batch for file id: file-UmAcePcSKBczWfVhzi1CUc\n",
      "Submit batch for file id: file-EHeEmhBkMdoZa9L25EaVrn\n",
      "Submit batch for file id: file-LijNRbyaSRL7Q79o6MCkuT\n",
      "Submit batch for file id: file-BrHvWdhETb79rkE6Vwdp9p\n",
      "Submit batch for file id: file-9LBdPJkBAZbumxZZsPiT4M\n",
      "Submit batch for file id: file-ASpVXbwd6tMHgsHms8CZ7f\n",
      "Submit batch for file id: file-Mrg8Mcgi9NLXkhvQF2NGxw\n",
      "Submit batch for file id: file-7L78h4LMtLn4ZjS8gzLcbn\n",
      "Submit batch for file id: file-8STC8RdFtBqvH1PUzJXFj9\n",
      "Submit batch for file id: file-XpA2Tv4pKi6Zk1UbobqKBE\n",
      "Submit batch for file id: file-MrKgNiAENA9k7TgtyTW5XE\n",
      "Submit batch for file id: file-2Ltmg1q16gSE3FXtvNN2BS\n",
      "Submit batch for file id: file-84rTiET5w3U9WSYu4cT85m\n",
      "Submit batch for file id: file-QuTXhwbkuMfzRah2zzV8xq\n",
      "Submit batch for file id: file-F9yZa2Se6WBcXz4ZKxpKJa\n"
     ]
    },
    {
     "name": "stderr",
     "output_type": "stream",
     "text": [
      "WARNING:__main__:Finished call to '__main__.submit_batch_job' after 40.859(s), this was the 4th time calling it.\n",
      "WARNING:__main__:Finished call to '__main__.submit_batch_job' after 40.406(s), this was the 4th time calling it.\n",
      "WARNING:__main__:Finished call to '__main__.submit_batch_job' after 40.297(s), this was the 4th time calling it.\n",
      "WARNING:__main__:Finished call to '__main__.submit_batch_job' after 39.282(s), this was the 4th time calling it.\n",
      "WARNING:__main__:Finished call to '__main__.submit_batch_job' after 40.157(s), this was the 4th time calling it.\n",
      "WARNING:__main__:Finished call to '__main__.submit_batch_job' after 41.547(s), this was the 4th time calling it.\n",
      "WARNING:__main__:Finished call to '__main__.submit_batch_job' after 40.266(s), this was the 4th time calling it.\n",
      "WARNING:__main__:Finished call to '__main__.submit_batch_job' after 38.938(s), this was the 4th time calling it.\n",
      "WARNING:__main__:Finished call to '__main__.submit_batch_job' after 41.094(s), this was the 4th time calling it.\n",
      "WARNING:__main__:Finished call to '__main__.submit_batch_job' after 38.829(s), this was the 4th time calling it.\n",
      "WARNING:__main__:Finished call to '__main__.submit_batch_job' after 39.532(s), this was the 4th time calling it.\n",
      "WARNING:__main__:Finished call to '__main__.submit_batch_job' after 39.985(s), this was the 4th time calling it.\n",
      "WARNING:__main__:Finished call to '__main__.submit_batch_job' after 41.625(s), this was the 4th time calling it.\n",
      "WARNING:__main__:Finished call to '__main__.submit_batch_job' after 38.782(s), this was the 4th time calling it.\n",
      "WARNING:__main__:Finished call to '__main__.submit_batch_job' after 38.766(s), this was the 4th time calling it.\n",
      "WARNING:__main__:Finished call to '__main__.submit_batch_job' after 40.016(s), this was the 4th time calling it.\n",
      "WARNING:__main__:Finished call to '__main__.submit_batch_job' after 40.891(s), this was the 4th time calling it.\n",
      "WARNING:__main__:Finished call to '__main__.submit_batch_job' after 39.563(s), this was the 4th time calling it.\n",
      "WARNING:__main__:Finished call to '__main__.submit_batch_job' after 40.813(s), this was the 4th time calling it.\n",
      "WARNING:__main__:Finished call to '__main__.submit_batch_job' after 39.219(s), this was the 4th time calling it.\n",
      "WARNING:__main__:Finished call to '__main__.submit_batch_job' after 39.375(s), this was the 4th time calling it.\n",
      "WARNING:__main__:Finished call to '__main__.submit_batch_job' after 39.875(s), this was the 4th time calling it.\n",
      "WARNING:__main__:Finished call to '__main__.submit_batch_job' after 40.031(s), this was the 4th time calling it.\n",
      "WARNING:__main__:Finished call to '__main__.submit_batch_job' after 38.766(s), this was the 4th time calling it.\n",
      "WARNING:__main__:Finished call to '__main__.submit_batch_job' after 38.672(s), this was the 4th time calling it.\n",
      "WARNING:__main__:Finished call to '__main__.submit_batch_job' after 38.766(s), this was the 4th time calling it.\n",
      "WARNING:__main__:Finished call to '__main__.submit_batch_job' after 38.468(s), this was the 4th time calling it.\n"
     ]
    },
    {
     "name": "stdout",
     "output_type": "stream",
     "text": [
      "Submit batch for file id: file-8MPjNtSTZ1KwAS3Ra24n4Z\n",
      "Submit batch for file id: file-9hpFDkLex8puaBwK6a5dYf\n",
      "Submit batch for file id: file-HBgr6Kd3WLarVaQ2UepwJM\n",
      "Submit batch for file id: file-QBoUaVBAbhaGjGF4DS97ZR\n",
      "Submit batch for file id: file-QffWa2umHVLU4xUK4tTeDk\n",
      "Submit batch for file id: file-TXibRn1VLSS5PV96ewPG9q\n",
      "Submit batch for file id: file-CFSApXYfKAUGnYPuYHLZcx\n",
      "Submit batch for file id: file-6F9a7NJw4jRjx1hvt7xfwZ\n",
      "Submit batch for file id: file-QpcR7Ehpa7oMizNqxjejVr\n",
      "Submit batch for file id: file-T9jpStdLsFSk8aNsndQKeQ\n",
      "Submit batch for file id: file-4a3aHowwYv9mHJ7VkQyLEf\n",
      "Submit batch for file id: file-9QHdcBjuysNEvRuT8ir5fc\n",
      "Submit batch for file id: file-JUZxiH16PZHH7WCVER69BK\n",
      "Submit batch for file id: file-KB93N3dRX62zbjRnHr38yT\n",
      "Submit batch for file id: file-3Jqap9jryMbuZavWeEJWm4\n"
     ]
    },
    {
     "name": "stderr",
     "output_type": "stream",
     "text": [
      "WARNING:__main__:Finished call to '__main__.submit_batch_job' after 38.531(s), this was the 4th time calling it.\n",
      "WARNING:__main__:Finished call to '__main__.submit_batch_job' after 38.312(s), this was the 4th time calling it.\n",
      "WARNING:__main__:Finished call to '__main__.submit_batch_job' after 38.515(s), this was the 4th time calling it.\n",
      "WARNING:__main__:Finished call to '__main__.submit_batch_job' after 38.140(s), this was the 4th time calling it.\n",
      "WARNING:__main__:Finished call to '__main__.submit_batch_job' after 38.078(s), this was the 4th time calling it.\n"
     ]
    },
    {
     "name": "stdout",
     "output_type": "stream",
     "text": [
      "Submit batch for file id: file-JE7KehiLm1aVXDaZD5bbm5\n",
      "Submit batch for file id: file-46QfZhZgK9puwPQx6Lagqp\n",
      "Submit batch for file id: file-WXNS6EdEQSWSYPggnCttsN\n",
      "Submit batch for file id: file-Q1y94UNAcbK5d3ZqiWTd3m\n",
      "Submit batch for file id: file-SPGQYmrkQioZ9dGRfWmZat\n",
      "Submit batch for file id: file-7AExaetPwDrqEVPbH8yH7h\n",
      "Submit batch for file id: file-JyUvsv2RrpUz36oGKpYABY\n",
      "Submit batch for file id: file-Ne94NDsDQudxkAgf54bP7Q\n",
      "Submit batch for file id: file-5SBs6To3ANVJf1Ubf7odTP\n",
      "Submit batch for file id: file-5k6h1jvUbpmGqzL7xjg4Gn\n",
      "Submit batch for file id: file-Ubg8Ffv37JpcX3ah5bgVk3\n",
      "Submit batch for file id: file-Vq8MY7bSDHH7EBivkdBfzv\n",
      "Submit batch for file id: file-Lf6fXJnhCfoDyWUKDzpEhY\n",
      "Submit batch for file id: file-TFaT6E6pD2DtFH3x2aESRC\n",
      "Submit batch for file id: file-MKM5g1oChwzDNURrxM73aE\n"
     ]
    },
    {
     "name": "stderr",
     "output_type": "stream",
     "text": [
      "WARNING:__main__:Finished call to '__main__.submit_batch_job' after 37.360(s), this was the 4th time calling it.\n",
      "WARNING:__main__:Finished call to '__main__.submit_batch_job' after 36.157(s), this was the 4th time calling it.\n",
      "WARNING:__main__:Finished call to '__main__.submit_batch_job' after 37.110(s), this was the 4th time calling it.\n",
      "WARNING:__main__:Finished call to '__main__.submit_batch_job' after 35.422(s), this was the 4th time calling it.\n",
      "WARNING:__main__:Finished call to '__main__.submit_batch_job' after 36.219(s), this was the 4th time calling it.\n",
      "WARNING:__main__:Finished call to '__main__.submit_batch_job' after 35.265(s), this was the 4th time calling it.\n",
      "WARNING:__main__:Finished call to '__main__.submit_batch_job' after 35.953(s), this was the 4th time calling it.\n",
      "WARNING:__main__:Finished call to '__main__.submit_batch_job' after 36.797(s), this was the 4th time calling it.\n",
      "WARNING:__main__:Finished call to '__main__.submit_batch_job' after 37.312(s), this was the 4th time calling it.\n",
      "WARNING:__main__:Finished call to '__main__.submit_batch_job' after 35.859(s), this was the 4th time calling it.\n",
      "WARNING:__main__:Finished call to '__main__.submit_batch_job' after 37.313(s), this was the 4th time calling it.\n",
      "WARNING:__main__:Finished call to '__main__.submit_batch_job' after 35.922(s), this was the 4th time calling it.\n",
      "WARNING:__main__:Finished call to '__main__.submit_batch_job' after 37.797(s), this was the 4th time calling it.\n",
      "WARNING:__main__:Finished call to '__main__.submit_batch_job' after 38.500(s), this was the 4th time calling it.\n",
      "WARNING:__main__:Finished call to '__main__.submit_batch_job' after 35.235(s), this was the 4th time calling it.\n",
      "WARNING:__main__:Finished call to '__main__.submit_batch_job' after 37.797(s), this was the 4th time calling it.\n",
      "WARNING:__main__:Finished call to '__main__.submit_batch_job' after 38.328(s), this was the 4th time calling it.\n",
      "WARNING:__main__:Finished call to '__main__.submit_batch_job' after 37.860(s), this was the 4th time calling it.\n",
      "WARNING:__main__:Finished call to '__main__.submit_batch_job' after 36.953(s), this was the 4th time calling it.\n",
      "WARNING:__main__:Finished call to '__main__.submit_batch_job' after 36.343(s), this was the 4th time calling it.\n",
      "WARNING:__main__:Finished call to '__main__.submit_batch_job' after 37.062(s), this was the 4th time calling it.\n",
      "WARNING:__main__:Finished call to '__main__.submit_batch_job' after 24.312(s), this was the 4th time calling it.\n",
      "WARNING:__main__:Finished call to '__main__.submit_batch_job' after 36.094(s), this was the 4th time calling it.\n",
      "WARNING:__main__:Finished call to '__main__.submit_batch_job' after 24.375(s), this was the 4th time calling it.\n",
      "WARNING:__main__:Finished call to '__main__.submit_batch_job' after 35.281(s), this was the 4th time calling it.\n"
     ]
    },
    {
     "name": "stdout",
     "output_type": "stream",
     "text": [
      "Submit batch for file id: file-SgVJubzDMPSExd2Nuzd6pu\n",
      "Submit batch for file id: file-WUTBx4NL1crKFUpRxcYc7e\n",
      "Submit batch for file id: file-Aaa6eonHrnDmBfkXJ9G7oV\n",
      "Submit batch for file id: file-Pcf3SemnEWXH7gbE5ck3yY\n",
      "Submit batch for file id: file-T7eUJXbnPPVHG4VSG3QSeT\n",
      "Submit batch for file id: file-DwwzJtfZVPhE9jWsnCfeZR\n",
      "Submit batch for file id: file-ByDUbdQETT5PgvgaZfUwcV\n",
      "Submit batch for file id: file-Dn5JJTfp9iGvZo3TAMZL5S\n",
      "Submit batch for file id: file-QF7wJfxh46iU7UtrUxnixu\n",
      "Submit batch for file id: file-9E3LGoXsq7kbcXH19AUXAH\n",
      "Submit batch for file id: file-QSFV23JwdAFnx24caqf8Cj\n",
      "Submit batch for file id: file-SA3Nk7sFigYoeiaY5sU3uc\n",
      "Submit batch for file id: file-233tPtAXnN3FJeWikNSw6P\n",
      "Submit batch for file id: file-AnScj8EhL9YHAdQUsDUaNJ\n",
      "Submit batch for file id: file-DHcegJiB7KFmVQ9aFT73y2\n",
      "Submit batch for file id: file-4Phphj1wLL8X2gFspuBWcD\n",
      "Submit batch for file id: file-4L4kHV2ujzABGwsCpEKdYS\n",
      "Submit batch for file id: file-AbmMYHBoedsqRjaB228tiM\n",
      "Submit batch for file id: file-NzKKRmWzW97Df5orqJ3Fay\n",
      "Submit batch for file id: file-PaN3tGWY6pioXsym64691H\n",
      "Submit batch for file id: file-4Mg8rPYVTKLu2YHhDaNyUX\n",
      "Submit batch for file id: file-J41NvT2zBZ7fMjCjXi4c8e\n",
      "Submit batch for file id: file-J33qhkwiCVF5nDK88UxFx3\n",
      "Submit batch for file id: file-4mxeqoRRJkBhd2F8HwMh3b\n",
      "Submit batch for file id: file-7YBF14C3UvtnBeXWGekawb\n",
      "Submit batch for file id: file-BRehFfPmnGrDV41VjpqheB\n",
      "Submit batch for file id: file-XySj38C66amMfQUsduJNo8\n",
      "Submit batch for file id: file-MvA9jW3wAS3VeXvqd32ibf\n"
     ]
    },
    {
     "name": "stderr",
     "output_type": "stream",
     "text": [
      "WARNING:__main__:Finished call to '__main__.submit_batch_job' after 34.906(s), this was the 4th time calling it.\n",
      "WARNING:__main__:Finished call to '__main__.submit_batch_job' after 34.969(s), this was the 4th time calling it.\n",
      "WARNING:__main__:Finished call to '__main__.submit_batch_job' after 33.312(s), this was the 4th time calling it.\n",
      "WARNING:__main__:Finished call to '__main__.submit_batch_job' after 32.859(s), this was the 4th time calling it.\n",
      "WARNING:__main__:Finished call to '__main__.submit_batch_job' after 34.719(s), this was the 4th time calling it.\n",
      "WARNING:__main__:Finished call to '__main__.submit_batch_job' after 34.500(s), this was the 4th time calling it.\n",
      "WARNING:__main__:Finished call to '__main__.submit_batch_job' after 33.906(s), this was the 4th time calling it.\n",
      "WARNING:__main__:Finished call to '__main__.submit_batch_job' after 32.828(s), this was the 4th time calling it.\n",
      "WARNING:__main__:Finished call to '__main__.submit_batch_job' after 33.234(s), this was the 4th time calling it.\n",
      "WARNING:__main__:Finished call to '__main__.submit_batch_job' after 33.375(s), this was the 4th time calling it.\n",
      "WARNING:__main__:Finished call to '__main__.submit_batch_job' after 33.438(s), this was the 4th time calling it.\n",
      "WARNING:__main__:Finished call to '__main__.submit_batch_job' after 33.063(s), this was the 4th time calling it.\n",
      "WARNING:__main__:Finished call to '__main__.submit_batch_job' after 34.609(s), this was the 4th time calling it.\n",
      "WARNING:__main__:Finished call to '__main__.submit_batch_job' after 33.703(s), this was the 4th time calling it.\n",
      "WARNING:__main__:Finished call to '__main__.submit_batch_job' after 31.906(s), this was the 4th time calling it.\n",
      "WARNING:__main__:Finished call to '__main__.submit_batch_job' after 33.156(s), this was the 4th time calling it.\n",
      "WARNING:__main__:Finished call to '__main__.submit_batch_job' after 32.922(s), this was the 4th time calling it.\n",
      "WARNING:__main__:Finished call to '__main__.submit_batch_job' after 33.734(s), this was the 4th time calling it.\n",
      "WARNING:__main__:Finished call to '__main__.submit_batch_job' after 32.797(s), this was the 4th time calling it.\n",
      "WARNING:__main__:Finished call to '__main__.submit_batch_job' after 33.984(s), this was the 4th time calling it.\n",
      "WARNING:__main__:Finished call to '__main__.submit_batch_job' after 33.828(s), this was the 4th time calling it.\n",
      "WARNING:__main__:Finished call to '__main__.submit_batch_job' after 33.609(s), this was the 4th time calling it.\n",
      "WARNING:__main__:Finished call to '__main__.submit_batch_job' after 33.141(s), this was the 4th time calling it.\n",
      "WARNING:__main__:Finished call to '__main__.submit_batch_job' after 33.313(s), this was the 4th time calling it.\n",
      "WARNING:__main__:Finished call to '__main__.submit_batch_job' after 33.547(s), this was the 4th time calling it.\n",
      "WARNING:__main__:Finished call to '__main__.submit_batch_job' after 33.938(s), this was the 4th time calling it.\n",
      "WARNING:__main__:Finished call to '__main__.submit_batch_job' after 32.500(s), this was the 4th time calling it.\n",
      "WARNING:__main__:Finished call to '__main__.submit_batch_job' after 32.250(s), this was the 4th time calling it.\n"
     ]
    },
    {
     "name": "stdout",
     "output_type": "stream",
     "text": [
      "Submit batch for file id: file-NubwwqeMToiEKz1CUn2kBM\n",
      "Submit batch for file id: file-WoqMy12NNpwyD4KpdtV69w\n",
      "Submit batch for file id: file-6gPyR5mxt2Z1u2NnFs2ADR\n",
      "Submit batch for file id: file-AfpyVCTP8cahVWBxZ7bmn8\n",
      "Submit batch for file id: file-TpiSQVpTgnNrbre7zw24zX\n",
      "Submit batch for file id: file-QDUfF2WEjkS767sfVE6X48\n",
      "Submit batch for file id: file-FMHGoutAUvzuBckLfieXSq\n",
      "Submit batch for file id: file-NU7jahUpXNTxKDcdFqKqDV\n",
      "Submit batch for file id: file-EZCf3xxGdUQG64VnHbbQC7\n",
      "Submit batch for file id: file-N1qvSo9aoPWYSgSWXaXZ7z\n",
      "Submit batch for file id: file-QQNfXqPKm2AFyuvHJHGKnL\n",
      "Submit batch for file id: file-HLac8aTUBq2Ne2UPDMpoLq\n",
      "Submit batch for file id: file-2MC7TaaAr4dkftq6fFnZQG\n",
      "Submit batch for file id: file-3UBWgPuCGKJ5q22TWXkmJT\n",
      "Submit batch for file id: file-Q8Gnm5pXy82NjV9WfWiZ7T\n",
      "Submit batch for file id: file-TJ4b9bEh8TYxbjsKHjUU1k\n",
      "Submit batch for file id: file-3iGHHm8HTTgLU41De48z6P\n",
      "Submit batch for file id: file-TwuXb97KRrBLNe9qECTPEv\n",
      "Submit batch for file id: file-DgufWyLBVkzRjX5JkUTVWh\n",
      "Submit batch for file id: file-5S94rp8vZBgUuatwzycyoc\n",
      "Submit batch for file id: file-DMtVF1cq3dqPv7imHcbx4J\n",
      "Submit batch for file id: file-XuwxokJjhjkKuknpx99Wet\n",
      "Submit batch for file id: file-2XzbKDc3oNhmgGNBTDpHaM\n",
      "Submit batch for file id: file-Vbsj8VnhZGYt7XgjbSydCb\n",
      "Submit batch for file id: file-F88h5Uk7ehNnX47r63WyyR\n",
      "Submit batch for file id: file-AhYpTwxW2VRxanDHEUwvuk\n",
      "Submit batch for file id: file-FLoV1jnTC1CE51PhbBsVyF\n",
      "Submit batch for file id: file-2AVzgX5Y8RwqRfxzPwPng8\n",
      "Submit batch for file id: file-4UUBuBdpQgdKvzHJSuC8C6\n",
      "Submit batch for file id: file-M2fPBFZVGiMYPfi6ebhnZb\n",
      "Submit batch for file id: file-RpbNLSHeefJMqrdKURxDQA\n"
     ]
    },
    {
     "name": "stderr",
     "output_type": "stream",
     "text": [
      "WARNING:__main__:Finished call to '__main__.submit_batch_job' after 31.828(s), this was the 4th time calling it.\n",
      "WARNING:__main__:Finished call to '__main__.submit_batch_job' after 31.938(s), this was the 4th time calling it.\n",
      "WARNING:__main__:Finished call to '__main__.submit_batch_job' after 24.125(s), this was the 4th time calling it.\n",
      "WARNING:__main__:Finished call to '__main__.submit_batch_job' after 31.484(s), this was the 4th time calling it.\n",
      "WARNING:__main__:Finished call to '__main__.submit_batch_job' after 31.343(s), this was the 4th time calling it.\n",
      "WARNING:__main__:Finished call to '__main__.submit_batch_job' after 31.734(s), this was the 4th time calling it.\n",
      "WARNING:__main__:Finished call to '__main__.submit_batch_job' after 31.687(s), this was the 4th time calling it.\n",
      "WARNING:__main__:Finished call to '__main__.submit_batch_job' after 31.407(s), this was the 4th time calling it.\n",
      "WARNING:__main__:Finished call to '__main__.submit_batch_job' after 31.313(s), this was the 4th time calling it.\n",
      "WARNING:__main__:Finished call to '__main__.submit_batch_job' after 31.250(s), this was the 4th time calling it.\n",
      "WARNING:__main__:Finished call to '__main__.submit_batch_job' after 31.187(s), this was the 4th time calling it.\n",
      "WARNING:__main__:Finished call to '__main__.submit_batch_job' after 28.937(s), this was the 4th time calling it.\n",
      "WARNING:__main__:Finished call to '__main__.submit_batch_job' after 28.937(s), this was the 4th time calling it.\n",
      "WARNING:__main__:Finished call to '__main__.submit_batch_job' after 31.343(s), this was the 4th time calling it.\n",
      "WARNING:__main__:Finished call to '__main__.submit_batch_job' after 30.672(s), this was the 4th time calling it.\n",
      "WARNING:__main__:Finished call to '__main__.submit_batch_job' after 30.640(s), this was the 4th time calling it.\n",
      "WARNING:__main__:Finished call to '__main__.submit_batch_job' after 28.531(s), this was the 4th time calling it.\n",
      "WARNING:__main__:Finished call to '__main__.submit_batch_job' after 28.750(s), this was the 4th time calling it.\n",
      "WARNING:__main__:Finished call to '__main__.submit_batch_job' after 29.297(s), this was the 4th time calling it.\n",
      "WARNING:__main__:Finished call to '__main__.submit_batch_job' after 30.875(s), this was the 4th time calling it.\n",
      "WARNING:__main__:Finished call to '__main__.submit_batch_job' after 31.250(s), this was the 4th time calling it.\n",
      "WARNING:__main__:Finished call to '__main__.submit_batch_job' after 28.750(s), this was the 4th time calling it.\n",
      "WARNING:__main__:Finished call to '__main__.submit_batch_job' after 28.578(s), this was the 4th time calling it.\n",
      "WARNING:__main__:Finished call to '__main__.submit_batch_job' after 30.453(s), this was the 4th time calling it.\n",
      "WARNING:__main__:Finished call to '__main__.submit_batch_job' after 31.360(s), this was the 4th time calling it.\n",
      "WARNING:__main__:Finished call to '__main__.submit_batch_job' after 32.907(s), this was the 4th time calling it.\n",
      "WARNING:__main__:Finished call to '__main__.submit_batch_job' after 28.766(s), this was the 4th time calling it.\n",
      "WARNING:__main__:Finished call to '__main__.submit_batch_job' after 30.141(s), this was the 4th time calling it.\n",
      "WARNING:__main__:Finished call to '__main__.submit_batch_job' after 30.204(s), this was the 4th time calling it.\n",
      "WARNING:__main__:Finished call to '__main__.submit_batch_job' after 28.375(s), this was the 4th time calling it.\n",
      "WARNING:__main__:Finished call to '__main__.submit_batch_job' after 28.563(s), this was the 4th time calling it.\n"
     ]
    },
    {
     "name": "stdout",
     "output_type": "stream",
     "text": [
      "Submit batch for file id: file-8jhq1LgpBuNCYUM74Wki7p\n",
      "Submit batch for file id: file-T8zTV5a2gdXr9XLwcXihjP\n",
      "Submit batch for file id: file-UuFN5cRUBU8YwzcWz7WHDW\n",
      "Submit batch for file id: file-UhbpDxHDRRjVjEu9ssaCGE\n",
      "Submit batch for file id: file-C9YPTJUjuQ3YwsMRSYi57X\n",
      "Submit batch for file id: file-W4PvSGzes5aqB17Y1smkCh\n",
      "Submit batch for file id: file-KmE7z4sf4SrFvHUbk3iKiV\n",
      "Submit batch for file id: file-Q4ijcGU2MDnmFgQo7eme3R\n",
      "Submit batch for file id: file-JAMEqTTNVxndn5Npb8wtka\n",
      "Submit batch for file id: file-2SMBuhsySwVMVRUy5Q8evy\n",
      "Submit batch for file id: file-TvwDRcbEQRBNgqytNJVurE\n",
      "Submit batch for file id: file-VWakNrN2exV4wWRF6EhbPW\n",
      "Submit batch for file id: file-F6bdYEYnB37jMEHyBZYRdw\n",
      "Submit batch for file id: file-4GWZ4dUbAWgyquFqqBeJiP\n",
      "Submit batch for file id: file-WSY4tom2Htqvp2D2XtYugo\n",
      "Submit batch for file id: file-1KBbPBwKpLgcSmwyKnxAdL\n",
      "Submit batch for file id: file-WS5FAGYcmFWhaMwvqeqHNw\n",
      "Submit batch for file id: file-BcY6crxbgCYgyFrQRaz6Pt\n",
      "Submit batch for file id: file-V5cYuxPWYf6haNzQfn666Y\n",
      "Submit batch for file id: file-SK7V9N56wsqrJBMK7sNdMx\n"
     ]
    },
    {
     "name": "stderr",
     "output_type": "stream",
     "text": [
      "WARNING:__main__:Finished call to '__main__.submit_batch_job' after 28.344(s), this was the 4th time calling it.\n",
      "WARNING:__main__:Finished call to '__main__.submit_batch_job' after 27.703(s), this was the 4th time calling it.\n",
      "WARNING:__main__:Finished call to '__main__.submit_batch_job' after 28.235(s), this was the 4th time calling it.\n",
      "WARNING:__main__:Finished call to '__main__.submit_batch_job' after 26.531(s), this was the 4th time calling it.\n",
      "WARNING:__main__:Finished call to '__main__.submit_batch_job' after 26.094(s), this was the 4th time calling it.\n",
      "WARNING:__main__:Finished call to '__main__.submit_batch_job' after 25.718(s), this was the 4th time calling it.\n",
      "WARNING:__main__:Finished call to '__main__.submit_batch_job' after 24.171(s), this was the 4th time calling it.\n",
      "WARNING:__main__:Finished call to '__main__.submit_batch_job' after 25.547(s), this was the 4th time calling it.\n",
      "WARNING:__main__:Finished call to '__main__.submit_batch_job' after 24.156(s), this was the 4th time calling it.\n",
      "WARNING:__main__:Finished call to '__main__.submit_batch_job' after 24.703(s), this was the 4th time calling it.\n",
      "WARNING:__main__:Finished call to '__main__.submit_batch_job' after 24.453(s), this was the 4th time calling it.\n",
      "WARNING:__main__:Finished call to '__main__.submit_batch_job' after 24.500(s), this was the 4th time calling it.\n",
      "WARNING:__main__:Finished call to '__main__.submit_batch_job' after 24.297(s), this was the 4th time calling it.\n",
      "WARNING:__main__:Finished call to '__main__.submit_batch_job' after 24.781(s), this was the 4th time calling it.\n"
     ]
    },
    {
     "name": "stdout",
     "output_type": "stream",
     "text": [
      "Submit batch for file id: file-2jyAyZiAUjteTukuK35NB6\n",
      "Submit batch for file id: file-QpFW9gwRjSDHyAeUgTpAQV\n",
      "Submit batch for file id: file-9sQT68kJppbanW6aKCEvg2\n",
      "Submit batch for file id: file-BgRPvkoMoqXDM66KTaMxfM\n",
      "Submit batch for file id: file-HLFTuazmdsKCPFdEGwfAYx\n",
      "Submit batch for file id: file-VmtMXGxF7wcXrFcGLDeUZh\n",
      "Submit batch for file id: file-W6xedKAk9Zwkn5QYeWKs7N\n"
     ]
    },
    {
     "name": "stderr",
     "output_type": "stream",
     "text": [
      "WARNING:__main__:Finished call to '__main__.submit_batch_job' after 25.781(s), this was the 4th time calling it.\n",
      "WARNING:__main__:Finished call to '__main__.submit_batch_job' after 25.578(s), this was the 4th time calling it.\n",
      "WARNING:__main__:Finished call to '__main__.submit_batch_job' after 25.968(s), this was the 4th time calling it.\n",
      "WARNING:__main__:Finished call to '__main__.submit_batch_job' after 25.406(s), this was the 4th time calling it.\n",
      "WARNING:__main__:Finished call to '__main__.submit_batch_job' after 25.468(s), this was the 4th time calling it.\n",
      "WARNING:__main__:Finished call to '__main__.submit_batch_job' after 24.297(s), this was the 4th time calling it.\n",
      "WARNING:__main__:Finished call to '__main__.submit_batch_job' after 24.578(s), this was the 4th time calling it.\n",
      "WARNING:__main__:Finished call to '__main__.submit_batch_job' after 25.844(s), this was the 4th time calling it.\n",
      "WARNING:__main__:Finished call to '__main__.submit_batch_job' after 24.140(s), this was the 4th time calling it.\n",
      "WARNING:__main__:Finished call to '__main__.submit_batch_job' after 24.078(s), this was the 4th time calling it.\n",
      "WARNING:__main__:Finished call to '__main__.submit_batch_job' after 24.125(s), this was the 4th time calling it.\n",
      "WARNING:__main__:Finished call to '__main__.submit_batch_job' after 27.609(s), this was the 4th time calling it.\n"
     ]
    },
    {
     "name": "stdout",
     "output_type": "stream",
     "text": [
      "Submit batch for file id: file-DbPeHtJ6fBgf4DZeeUnmNn\n",
      "Submit batch for file id: file-RHmvdYBaqLpxSqMaypSZN6\n"
     ]
    },
    {
     "name": "stderr",
     "output_type": "stream",
     "text": [
      "WARNING:__main__:Finished call to '__main__.submit_batch_job' after 24.109(s), this was the 4th time calling it.\n",
      "WARNING:__main__:Finished call to '__main__.submit_batch_job' after 42.625(s), this was the 4th time calling it.\n"
     ]
    },
    {
     "name": "stdout",
     "output_type": "stream",
     "text": [
      "Submit batch for file id: file-MDqCg3P15rFoep9KXowkbK\n",
      "Submit batch for file id: file-8MkDuQwXcvJQZPkr1WRpzN\n",
      "Submit batch for file id: file-PdemxDdFGttGVSVpNmnkCU\n",
      "Submit batch for file id: file-VZp9Bu1g5yFU3AmFoqNGRF\n"
     ]
    },
    {
     "name": "stderr",
     "output_type": "stream",
     "text": [
      "WARNING:__main__:Finished call to '__main__.submit_batch_job' after 24.110(s), this was the 4th time calling it.\n",
      "WARNING:__main__:Finished call to '__main__.submit_batch_job' after 24.531(s), this was the 4th time calling it.\n",
      "WARNING:__main__:Finished call to '__main__.submit_batch_job' after 24.125(s), this was the 4th time calling it.\n",
      "WARNING:__main__:Finished call to '__main__.submit_batch_job' after 24.109(s), this was the 4th time calling it.\n",
      "WARNING:__main__:Finished call to '__main__.submit_batch_job' after 24.140(s), this was the 4th time calling it.\n"
     ]
    },
    {
     "name": "stdout",
     "output_type": "stream",
     "text": [
      "Submit batch for file id: file-PHYb6NuxAo4rdUe3sTykUW\n",
      "Submit batch for file id: file-XL1vWF5Dk46HD2WWcsWmiH\n"
     ]
    },
    {
     "name": "stderr",
     "output_type": "stream",
     "text": [
      "WARNING:__main__:Finished call to '__main__.submit_batch_job' after 24.141(s), this was the 4th time calling it.\n",
      "WARNING:__main__:Finished call to '__main__.submit_batch_job' after 24.625(s), this was the 4th time calling it.\n"
     ]
    },
    {
     "name": "stdout",
     "output_type": "stream",
     "text": [
      "Submit batch for file id: file-H9umBQ55SBNkgKD5DyNEoH\n",
      "Submit batch for file id: file-Tdrw4YXSENM3QfrTGQKBF5\n",
      "Submit batch for file id: file-Ja5B2rwvgBqawbXmZyhSLD\n"
     ]
    },
    {
     "name": "stderr",
     "output_type": "stream",
     "text": [
      "WARNING:__main__:Finished call to '__main__.submit_batch_job' after 24.109(s), this was the 4th time calling it.\n",
      "WARNING:__main__:Finished call to '__main__.submit_batch_job' after 24.110(s), this was the 4th time calling it.\n",
      "WARNING:__main__:Finished call to '__main__.submit_batch_job' after 24.141(s), this was the 4th time calling it.\n"
     ]
    },
    {
     "name": "stdout",
     "output_type": "stream",
     "text": [
      "Submit batch for file id: file-JwQADN93qKJfgkZjWg9piw\n",
      "Submit batch for file id: file-2AXx8RGZweKu1H1KYfPtKu\n"
     ]
    },
    {
     "name": "stderr",
     "output_type": "stream",
     "text": [
      "WARNING:__main__:Finished call to '__main__.submit_batch_job' after 24.172(s), this was the 4th time calling it.\n",
      "WARNING:__main__:Finished call to '__main__.submit_batch_job' after 24.078(s), this was the 4th time calling it.\n"
     ]
    },
    {
     "name": "stdout",
     "output_type": "stream",
     "text": [
      "Submit batch for file id: file-GK4MBhkxWmJnZ7wyRLpgwy\n",
      "Submit batch for file id: file-NPkj8akvzm3xY2Nng3zLhr\n"
     ]
    },
    {
     "name": "stderr",
     "output_type": "stream",
     "text": [
      "WARNING:__main__:Finished call to '__main__.submit_batch_job' after 24.078(s), this was the 4th time calling it.\n",
      "WARNING:__main__:Finished call to '__main__.submit_batch_job' after 24.031(s), this was the 4th time calling it.\n"
     ]
    },
    {
     "name": "stdout",
     "output_type": "stream",
     "text": [
      "Submit batch for file id: file-4Dx4o9pBBkbrHBFB754EBT\n",
      "Submit batch for file id: file-3yHx3RxL5TjHBpqJRwuu5W\n"
     ]
    },
    {
     "name": "stderr",
     "output_type": "stream",
     "text": [
      "WARNING:__main__:Finished call to '__main__.submit_batch_job' after 24.078(s), this was the 4th time calling it.\n",
      "WARNING:__main__:Finished call to '__main__.submit_batch_job' after 24.016(s), this was the 4th time calling it.\n"
     ]
    },
    {
     "name": "stdout",
     "output_type": "stream",
     "text": [
      "Submit batch for file id: file-BMKsPEj3CGi5B6TT6xtSgs\n",
      "Submit batch for file id: file-QPhfFGGDm13XYLfLDuDcVo\n"
     ]
    },
    {
     "name": "stderr",
     "output_type": "stream",
     "text": [
      "WARNING:__main__:Finished call to '__main__.submit_batch_job' after 23.984(s), this was the 4th time calling it.\n",
      "WARNING:__main__:Finished call to '__main__.submit_batch_job' after 24.015(s), this was the 4th time calling it.\n"
     ]
    },
    {
     "name": "stdout",
     "output_type": "stream",
     "text": [
      "Submit batch for file id: file-Pewzr3iPfUGNaz6TuxBZRx\n",
      "Submit batch for file id: file-SdD4uAiAPrNcWE3d9qeMQR\n",
      "Submit batch for file id: file-1u9Bt8e2ibrsQJJjdunnYv\n"
     ]
    },
    {
     "name": "stderr",
     "output_type": "stream",
     "text": [
      "WARNING:__main__:Finished call to '__main__.submit_batch_job' after 23.953(s), this was the 4th time calling it.\n",
      "WARNING:__main__:Finished call to '__main__.submit_batch_job' after 23.953(s), this was the 4th time calling it.\n",
      "WARNING:__main__:Finished call to '__main__.submit_batch_job' after 23.937(s), this was the 4th time calling it.\n"
     ]
    },
    {
     "name": "stdout",
     "output_type": "stream",
     "text": [
      "Submit batch for file id: file-GsjuNhkyucFtemhFqBw9jK\n",
      "Submit batch for file id: file-BLJkpqTaeHRqi71x52mNo2\n"
     ]
    },
    {
     "name": "stderr",
     "output_type": "stream",
     "text": [
      "WARNING:__main__:Finished call to '__main__.submit_batch_job' after 23.953(s), this was the 4th time calling it.\n",
      "WARNING:__main__:Finished call to '__main__.submit_batch_job' after 23.953(s), this was the 4th time calling it.\n"
     ]
    },
    {
     "name": "stdout",
     "output_type": "stream",
     "text": [
      "Submit batch for file id: file-EREeKA86cHncJY5T723gTU\n",
      "Submit batch for file id: file-E9pFaSMNwmSRgnrojGiauK\n"
     ]
    },
    {
     "name": "stderr",
     "output_type": "stream",
     "text": [
      "WARNING:__main__:Finished call to '__main__.submit_batch_job' after 23.906(s), this was the 4th time calling it.\n",
      "WARNING:__main__:Finished call to '__main__.submit_batch_job' after 23.922(s), this was the 4th time calling it.\n"
     ]
    },
    {
     "name": "stdout",
     "output_type": "stream",
     "text": [
      "Submit batch for file id: file-CTQq6gZzf8K4m4RTXH33kZ\n",
      "Submit batch for file id: file-T2TohLGKZbNawbsAJeZXXS\n",
      "Submit batch for file id: file-KEfdb4HG8ZHo7v3irUmPrf\n"
     ]
    },
    {
     "name": "stderr",
     "output_type": "stream",
     "text": [
      "WARNING:__main__:Finished call to '__main__.submit_batch_job' after 23.968(s), this was the 4th time calling it.\n",
      "WARNING:__main__:Finished call to '__main__.submit_batch_job' after 24.000(s), this was the 4th time calling it.\n",
      "WARNING:__main__:Finished call to '__main__.submit_batch_job' after 24.016(s), this was the 4th time calling it.\n"
     ]
    },
    {
     "name": "stdout",
     "output_type": "stream",
     "text": [
      "Submit batch for file id: file-8YSwsw2WxFpt8r4rTXyoB7\n",
      "Submit batch for file id: file-StTXZszJwWqUoK8iCwjRHU\n",
      "Submit batch for file id: file-Kfj1h9e7R5Jpag5oD3KLHs\n",
      "Submit batch for file id: file-92UwsHCxkmjWdH9PXJJy8B\n"
     ]
    },
    {
     "name": "stderr",
     "output_type": "stream",
     "text": [
      "WARNING:__main__:Finished call to '__main__.submit_batch_job' after 23.921(s), this was the 4th time calling it.\n",
      "WARNING:__main__:Finished call to '__main__.submit_batch_job' after 23.968(s), this was the 4th time calling it.\n",
      "WARNING:__main__:Finished call to '__main__.submit_batch_job' after 23.968(s), this was the 4th time calling it.\n",
      "WARNING:__main__:Finished call to '__main__.submit_batch_job' after 24.047(s), this was the 4th time calling it.\n"
     ]
    },
    {
     "name": "stdout",
     "output_type": "stream",
     "text": [
      "Submit batch for file id: file-LnMkodr3RLUicak4j8Hb3t\n"
     ]
    },
    {
     "name": "stderr",
     "output_type": "stream",
     "text": [
      "WARNING:__main__:Finished call to '__main__.submit_batch_job' after 24.000(s), this was the 4th time calling it.\n",
      "WARNING:__main__:Finished call to '__main__.submit_batch_job' after 51.031(s), this was the 4th time calling it.\n",
      "WARNING:__main__:Finished call to '__main__.submit_batch_job' after 24.000(s), this was the 4th time calling it.\n"
     ]
    },
    {
     "name": "stdout",
     "output_type": "stream",
     "text": [
      "Submit batch for file id: file-TGi9iR6bGUYTrFgoCFYSgG\n",
      "Submit batch for file id: file-GMmTXCAPUoEQZ5BTKoW7Xr\n",
      "Submit batch for file id: file-RpfWUuLgJwpAbjB38WjuHK\n",
      "Submit batch for file id: file-CjbMGVaVoWuMTk2BaEHNEc\n",
      "Submit batch for file id: file-ARbcb6daxPvkz321rT8Um2\n",
      "Submit batch for file id: file-48PtGcVKrxLXeRd2Gb6jth\n",
      "Submit batch for file id: file-FNm2ryVaWgk9CDSPqxaTNK\n",
      "Submit batch for file id: file-MobUfaYeC9fQtNvY1idKYQ\n",
      "Submit batch for file id: file-EU6DXJX52qVSNfH47NQZFv\n"
     ]
    },
    {
     "name": "stderr",
     "output_type": "stream",
     "text": [
      "WARNING:__main__:Finished call to '__main__.submit_batch_job' after 24.203(s), this was the 4th time calling it.\n",
      "WARNING:__main__:Finished call to '__main__.submit_batch_job' after 24.375(s), this was the 4th time calling it.\n",
      "WARNING:__main__:Finished call to '__main__.submit_batch_job' after 24.141(s), this was the 4th time calling it.\n",
      "WARNING:__main__:Finished call to '__main__.submit_batch_job' after 24.062(s), this was the 4th time calling it.\n",
      "WARNING:__main__:Finished call to '__main__.submit_batch_job' after 24.032(s), this was the 4th time calling it.\n",
      "WARNING:__main__:Finished call to '__main__.submit_batch_job' after 24.219(s), this was the 4th time calling it.\n",
      "WARNING:__main__:Finished call to '__main__.submit_batch_job' after 24.234(s), this was the 4th time calling it.\n",
      "WARNING:__main__:Finished call to '__main__.submit_batch_job' after 24.031(s), this was the 4th time calling it.\n"
     ]
    },
    {
     "name": "stdout",
     "output_type": "stream",
     "text": [
      "Submit batch for file id: file-BMNRxC48UPsUzZdyBD4XPR\n",
      "Submit batch for file id: file-RgyeJcJutqJBZxkhcVTFYn\n",
      "Submit batch for file id: file-7VTpJZr5MySVvJUQ55JQ8J\n"
     ]
    },
    {
     "name": "stderr",
     "output_type": "stream",
     "text": [
      "WARNING:__main__:Finished call to '__main__.submit_batch_job' after 24.234(s), this was the 4th time calling it.\n",
      "WARNING:__main__:Finished call to '__main__.submit_batch_job' after 24.000(s), this was the 4th time calling it.\n",
      "WARNING:__main__:Finished call to '__main__.submit_batch_job' after 24.062(s), this was the 4th time calling it.\n"
     ]
    },
    {
     "name": "stdout",
     "output_type": "stream",
     "text": [
      "Submit batch for file id: file-WrnJrqEmPukmoVjgfWqDv7\n",
      "Submit batch for file id: file-NThfuvn1fDADecNP8ZYhSR\n",
      "Submit batch for file id: file-LeXQRLFTHd2GMY6naGmM5e\n"
     ]
    },
    {
     "name": "stderr",
     "output_type": "stream",
     "text": [
      "WARNING:__main__:Finished call to '__main__.submit_batch_job' after 24.000(s), this was the 4th time calling it.\n",
      "WARNING:__main__:Finished call to '__main__.submit_batch_job' after 23.922(s), this was the 4th time calling it.\n",
      "WARNING:__main__:Finished call to '__main__.submit_batch_job' after 24.235(s), this was the 4th time calling it.\n"
     ]
    },
    {
     "name": "stdout",
     "output_type": "stream",
     "text": [
      "Submit batch for file id: file-RziAkibZ371jUpgQTtD9XD\n",
      "Submit batch for file id: file-BcYjC8yq24uq3edTcM6sLp\n",
      "Submit batch for file id: file-QYZBaJPyrTsK9HRtkixn1S\n",
      "Submit batch for file id: file-M6vqjx7iJS4UnXAssmNU45\n",
      "Submit batch for file id: file-FgP1tfYxnMRQCnHkab4XCC\n",
      "Submit batch for file id: file-Tr1jAgWvz4F4pfyJZkQZVo\n"
     ]
    },
    {
     "name": "stderr",
     "output_type": "stream",
     "text": [
      "WARNING:__main__:Finished call to '__main__.submit_batch_job' after 23.922(s), this was the 4th time calling it.\n",
      "WARNING:__main__:Finished call to '__main__.submit_batch_job' after 23.937(s), this was the 4th time calling it.\n",
      "WARNING:__main__:Finished call to '__main__.submit_batch_job' after 23.953(s), this was the 4th time calling it.\n",
      "WARNING:__main__:Finished call to '__main__.submit_batch_job' after 23.906(s), this was the 4th time calling it.\n",
      "WARNING:__main__:Finished call to '__main__.submit_batch_job' after 23.859(s), this was the 4th time calling it.\n",
      "WARNING:__main__:Finished call to '__main__.submit_batch_job' after 23.922(s), this was the 4th time calling it.\n"
     ]
    },
    {
     "name": "stdout",
     "output_type": "stream",
     "text": [
      "Submit batch for file id: file-8JjpMKrZycPontb9SVds2h\n",
      "Submit batch for file id: file-4ysB3dATxdLtyFmGoMLJbm\n",
      "Submit batch for file id: file-FKsNVDiy75uq3y1QEVkgrD\n",
      "Submit batch for file id: file-FwXwCpj511e6CWRvvuSouN\n",
      "Submit batch for file id: file-9pmuPCdP8Kzt1xT6bKFBsD\n"
     ]
    },
    {
     "name": "stderr",
     "output_type": "stream",
     "text": [
      "WARNING:__main__:Finished call to '__main__.submit_batch_job' after 23.890(s), this was the 4th time calling it.\n",
      "WARNING:__main__:Finished call to '__main__.submit_batch_job' after 23.969(s), this was the 4th time calling it.\n",
      "WARNING:__main__:Finished call to '__main__.submit_batch_job' after 23.875(s), this was the 4th time calling it.\n",
      "WARNING:__main__:Finished call to '__main__.submit_batch_job' after 23.938(s), this was the 4th time calling it.\n",
      "WARNING:__main__:Finished call to '__main__.submit_batch_job' after 23.938(s), this was the 4th time calling it.\n"
     ]
    },
    {
     "name": "stdout",
     "output_type": "stream",
     "text": [
      "Submit batch for file id: file-QSUvfRzgRr5HpNghTDDWM3\n",
      "Submit batch for file id: file-Wa1JHvq4qG361g9iiWX1N4\n",
      "Submit batch for file id: file-XTF1Vw6ny7HJmK373gw8oR\n",
      "Submit batch for file id: file-MjMR2x32dToxY33RGkjuD7\n",
      "Submit batch for file id: file-AcpkMAU8hZmEdmP8zoi6Qm\n",
      "Submit batch for file id: file-A7iJ41EqiTyJ2VwxDp49qa\n",
      "Submit batch for file id: file-73PzCnFFqM22rsR6CJ9jwd\n",
      "Submit batch for file id: file-U9gTH3LrY4XrxSLfsGvLPM\n",
      "Submit batch for file id: file-TiqaXQszBeB7jLUgJK5zUC\n"
     ]
    },
    {
     "name": "stderr",
     "output_type": "stream",
     "text": [
      "WARNING:__main__:Finished call to '__main__.submit_batch_job' after 23.875(s), this was the 4th time calling it.\n",
      "WARNING:__main__:Finished call to '__main__.submit_batch_job' after 23.875(s), this was the 4th time calling it.\n",
      "WARNING:__main__:Finished call to '__main__.submit_batch_job' after 23.922(s), this was the 4th time calling it.\n",
      "WARNING:__main__:Finished call to '__main__.submit_batch_job' after 23.922(s), this was the 4th time calling it.\n",
      "WARNING:__main__:Finished call to '__main__.submit_batch_job' after 23.891(s), this was the 4th time calling it.\n",
      "WARNING:__main__:Finished call to '__main__.submit_batch_job' after 23.969(s), this was the 4th time calling it.\n",
      "WARNING:__main__:Finished call to '__main__.submit_batch_job' after 23.922(s), this was the 4th time calling it.\n",
      "WARNING:__main__:Finished call to '__main__.submit_batch_job' after 23.906(s), this was the 4th time calling it.\n",
      "WARNING:__main__:Finished call to '__main__.submit_batch_job' after 23.922(s), this was the 4th time calling it.\n"
     ]
    },
    {
     "name": "stdout",
     "output_type": "stream",
     "text": [
      "Submit batch for file id: file-19hekmGRNLex8qyv4jhnFF\n",
      "Submit batch for file id: file-K1PkdGJiqkdhJ4GzKwK9fm\n",
      "Submit batch for file id: file-SGoozFukVkQGkRjNpvqu6M\n",
      "Submit batch for file id: file-5xH83SH3nrjj5FUjM8hE5z\n",
      "Submit batch for file id: file-GmUMG16MtN9gaT5pGe2yUf\n",
      "Submit batch for file id: file-1RSpMvog5uDCq2UMxVmfbV\n",
      "Submit batch for file id: file-2PNqqZAVUw8DUdW6ow24Nk\n",
      "Submit batch for file id: file-FU68rpH3iXMw4a22fBpRHt\n",
      "Submit batch for file id: file-3NHyHyt4fTK2ypn4GpK54T\n",
      "Submit batch for file id: file-FBpbUrfk5hFRS7qQf2wU7i\n"
     ]
    },
    {
     "name": "stderr",
     "output_type": "stream",
     "text": [
      "WARNING:__main__:Finished call to '__main__.submit_batch_job' after 23.906(s), this was the 4th time calling it.\n",
      "WARNING:__main__:Finished call to '__main__.submit_batch_job' after 23.890(s), this was the 4th time calling it.\n",
      "WARNING:__main__:Finished call to '__main__.submit_batch_job' after 23.875(s), this was the 4th time calling it.\n",
      "WARNING:__main__:Finished call to '__main__.submit_batch_job' after 23.890(s), this was the 4th time calling it.\n",
      "WARNING:__main__:Finished call to '__main__.submit_batch_job' after 23.891(s), this was the 4th time calling it.\n",
      "WARNING:__main__:Finished call to '__main__.submit_batch_job' after 23.859(s), this was the 4th time calling it.\n",
      "WARNING:__main__:Finished call to '__main__.submit_batch_job' after 23.813(s), this was the 4th time calling it.\n",
      "WARNING:__main__:Finished call to '__main__.submit_batch_job' after 23.875(s), this was the 4th time calling it.\n",
      "WARNING:__main__:Finished call to '__main__.submit_batch_job' after 23.860(s), this was the 4th time calling it.\n",
      "WARNING:__main__:Finished call to '__main__.submit_batch_job' after 23.890(s), this was the 4th time calling it.\n"
     ]
    },
    {
     "name": "stdout",
     "output_type": "stream",
     "text": [
      "Submit batch for file id: file-Ng8hKcLpo77rK2QwqX7auq\n",
      "Submit batch for file id: file-3M7wi21PaBYezt1qttZRqL\n",
      "Submit batch for file id: file-WdG9GHe5CUPVbZx2Uc1dT5\n",
      "Submit batch for file id: file-KSGYAE72fyQKWzumYLtZLY\n",
      "Submit batch for file id: file-QpWac8fzcNRqMVD1imLZN2\n",
      "Submit batch for file id: file-9WwhAQQH5C9pjPUdQPS7PH\n"
     ]
    },
    {
     "name": "stderr",
     "output_type": "stream",
     "text": [
      "WARNING:__main__:Finished call to '__main__.submit_batch_job' after 23.891(s), this was the 4th time calling it.\n",
      "WARNING:__main__:Finished call to '__main__.submit_batch_job' after 23.937(s), this was the 4th time calling it.\n",
      "WARNING:__main__:Finished call to '__main__.submit_batch_job' after 23.875(s), this was the 4th time calling it.\n",
      "WARNING:__main__:Finished call to '__main__.submit_batch_job' after 23.875(s), this was the 4th time calling it.\n",
      "WARNING:__main__:Finished call to '__main__.submit_batch_job' after 23.906(s), this was the 4th time calling it.\n",
      "WARNING:__main__:Finished call to '__main__.submit_batch_job' after 23.890(s), this was the 4th time calling it.\n"
     ]
    },
    {
     "name": "stdout",
     "output_type": "stream",
     "text": [
      "Submit batch for file id: file-VWbofwLYTc2XKR1tWy27Xm\n",
      "Submit batch for file id: file-QEEnDUbDpxadhah3wi8xeh\n",
      "Submit batch for file id: file-BJ6SoE2jasuvWdQdQzY6QG\n",
      "Submit batch for file id: file-7NHGfB6gapXMomUNiCV9i7\n",
      "Submit batch for file id: file-WtbAvhtw8owkMrg8aThABy\n",
      "Submit batch for file id: file-9tgGZ5CVwidwqHs6vs7Y2D\n",
      "Submit batch for file id: file-F2ytrfRktUCSFpBePnJokc\n",
      "Submit batch for file id: file-FnbEuh9cXtH1rY17Ahq38a\n",
      "Submit batch for file id: file-GhD1dQH9vwfzVy4DwSAZ6D\n",
      "Submit batch for file id: file-14UtbHeH4gqhTEmMB7B6QX\n"
     ]
    },
    {
     "name": "stderr",
     "output_type": "stream",
     "text": [
      "WARNING:__main__:Finished call to '__main__.submit_batch_job' after 23.890(s), this was the 4th time calling it.\n",
      "WARNING:__main__:Finished call to '__main__.submit_batch_job' after 23.875(s), this was the 4th time calling it.\n",
      "WARNING:__main__:Finished call to '__main__.submit_batch_job' after 23.906(s), this was the 4th time calling it.\n",
      "WARNING:__main__:Finished call to '__main__.submit_batch_job' after 23.890(s), this was the 4th time calling it.\n",
      "WARNING:__main__:Finished call to '__main__.submit_batch_job' after 23.875(s), this was the 4th time calling it.\n",
      "WARNING:__main__:Finished call to '__main__.submit_batch_job' after 23.859(s), this was the 4th time calling it.\n",
      "WARNING:__main__:Finished call to '__main__.submit_batch_job' after 23.922(s), this was the 4th time calling it.\n",
      "WARNING:__main__:Finished call to '__main__.submit_batch_job' after 23.860(s), this was the 4th time calling it.\n",
      "WARNING:__main__:Finished call to '__main__.submit_batch_job' after 23.922(s), this was the 4th time calling it.\n",
      "WARNING:__main__:Finished call to '__main__.submit_batch_job' after 23.891(s), this was the 4th time calling it.\n",
      "WARNING:__main__:Finished call to '__main__.submit_batch_job' after 23.890(s), this was the 4th time calling it.\n"
     ]
    },
    {
     "name": "stdout",
     "output_type": "stream",
     "text": [
      "Submit batch for file id: file-MWn3HdNBGpCa3QDR7CiBE6\n",
      "Submit batch for file id: file-Dt7PZkigoGW6CSiksJWKdx\n",
      "Submit batch for file id: file-452kpXTmFLdXh9aRAfhH3A\n",
      "Submit batch for file id: file-C4wp4VMHepZpHQ85ouox9U\n",
      "Submit batch for file id: file-DyynCjH5cKoz3hSsmNynvY\n"
     ]
    },
    {
     "name": "stderr",
     "output_type": "stream",
     "text": [
      "WARNING:__main__:Finished call to '__main__.submit_batch_job' after 23.922(s), this was the 4th time calling it.\n",
      "WARNING:__main__:Finished call to '__main__.submit_batch_job' after 23.922(s), this was the 4th time calling it.\n",
      "WARNING:__main__:Finished call to '__main__.submit_batch_job' after 23.812(s), this was the 4th time calling it.\n",
      "WARNING:__main__:Finished call to '__main__.submit_batch_job' after 23.875(s), this was the 4th time calling it.\n"
     ]
    },
    {
     "name": "stdout",
     "output_type": "stream",
     "text": [
      "Submit batch for file id: file-AMgw3d9pcadAK8ZnQRGSDs\n"
     ]
    },
    {
     "name": "stderr",
     "output_type": "stream",
     "text": [
      "WARNING:__main__:Finished call to '__main__.submit_batch_job' after 23.859(s), this was the 4th time calling it.\n"
     ]
    },
    {
     "name": "stdout",
     "output_type": "stream",
     "text": [
      "Submit batch for file id: file-1uFDWcaPVM8ChELTmdJCcG\n"
     ]
    },
    {
     "name": "stderr",
     "output_type": "stream",
     "text": [
      "WARNING:__main__:Finished call to '__main__.submit_batch_job' after 23.922(s), this was the 4th time calling it.\n"
     ]
    },
    {
     "name": "stdout",
     "output_type": "stream",
     "text": [
      "Submit batch for file id: file-9Es3UigCPuAWFRi3ST68f2\n",
      "Submit batch for file id: file-UeP82H3VUMSuBxtVeLZBFF\n"
     ]
    },
    {
     "name": "stderr",
     "output_type": "stream",
     "text": [
      "WARNING:__main__:Finished call to '__main__.submit_batch_job' after 23.906(s), this was the 4th time calling it.\n",
      "WARNING:__main__:Finished call to '__main__.submit_batch_job' after 23.906(s), this was the 4th time calling it.\n"
     ]
    },
    {
     "name": "stdout",
     "output_type": "stream",
     "text": [
      "Submit batch for file id: file-MqjpxfVDJHZXuRTmUzXggp\n",
      "Submit batch for file id: file-Sfn6y2g3SKoBBdu7meGb4K\n",
      "Submit batch for file id: file-RusKox4cP5mvXYPe2vzKjj\n"
     ]
    },
    {
     "name": "stderr",
     "output_type": "stream",
     "text": [
      "WARNING:__main__:Finished call to '__main__.submit_batch_job' after 64.641(s), this was the 5th time calling it.\n",
      "WARNING:__main__:Finished call to '__main__.submit_batch_job' after 65.953(s), this was the 5th time calling it.\n"
     ]
    },
    {
     "name": "stdout",
     "output_type": "stream",
     "text": [
      "Submit batch for file id: file-4WD4NrziSJua7SdRc3k17V\n",
      "Submit batch for file id: file-DCtZcAb1kQNse8E5BdLLSt\n"
     ]
    },
    {
     "name": "stderr",
     "output_type": "stream",
     "text": [
      "WARNING:__main__:Finished call to '__main__.submit_batch_job' after 54.594(s), this was the 5th time calling it.\n",
      "WARNING:__main__:Finished call to '__main__.submit_batch_job' after 50.891(s), this was the 5th time calling it.\n"
     ]
    },
    {
     "name": "stdout",
     "output_type": "stream",
     "text": [
      "Submit batch for file id: file-QtbZL6tHmRzD1KySbRSojf\n"
     ]
    },
    {
     "name": "stderr",
     "output_type": "stream",
     "text": [
      "WARNING:__main__:Finished call to '__main__.submit_batch_job' after 48.922(s), this was the 5th time calling it.\n"
     ]
    },
    {
     "name": "stdout",
     "output_type": "stream",
     "text": [
      "Submit batch for file id: file-4iELHf65RHG46TRJG97A5m\n",
      "Submit batch for file id: file-UhaPhcmrzRe6AriJi7D8Xn\n",
      "Submit batch for file id: file-ThUzQnduMpC1Uok36nmaua\n"
     ]
    },
    {
     "name": "stderr",
     "output_type": "stream",
     "text": [
      "WARNING:__main__:Finished call to '__main__.submit_batch_job' after 80.016(s), this was the 5th time calling it.\n",
      "WARNING:__main__:Finished call to '__main__.submit_batch_job' after 80.437(s), this was the 5th time calling it.\n",
      "WARNING:__main__:Finished call to '__main__.submit_batch_job' after 78.141(s), this was the 5th time calling it.\n"
     ]
    },
    {
     "name": "stdout",
     "output_type": "stream",
     "text": [
      "Submit batch for file id: file-H4UcdjvzFU3NSvLfV9Lz91\n",
      "Submit batch for file id: file-3fmNDSb9bejhsKQQVEJkeG\n",
      "Submit batch for file id: file-FqRbp1o9UcMyS43rtgozVF\n",
      "Submit batch for file id: file-QxKgbxPLvdvGzS4VTHTkLN\n"
     ]
    },
    {
     "name": "stderr",
     "output_type": "stream",
     "text": [
      "WARNING:__main__:Finished call to '__main__.submit_batch_job' after 77.266(s), this was the 5th time calling it.\n",
      "WARNING:__main__:Finished call to '__main__.submit_batch_job' after 76.672(s), this was the 5th time calling it.\n",
      "WARNING:__main__:Finished call to '__main__.submit_batch_job' after 76.297(s), this was the 5th time calling it.\n"
     ]
    },
    {
     "name": "stdout",
     "output_type": "stream",
     "text": [
      "Submit batch for file id: file-1NMVxFsL8X9gXuXCd1M7aw\n",
      "Submit batch for file id: file-GzunAg1Jw91Jwt7gBFJBHV\n",
      "Submit batch for file id: file-GeQEbs1FumYAywStuHXGz2\n",
      "Submit batch for file id: file-7xLX9EvuFRC8z5d1BkZmwg\n"
     ]
    },
    {
     "name": "stderr",
     "output_type": "stream",
     "text": [
      "WARNING:__main__:Finished call to '__main__.submit_batch_job' after 76.359(s), this was the 5th time calling it.\n",
      "WARNING:__main__:Finished call to '__main__.submit_batch_job' after 76.172(s), this was the 5th time calling it.\n",
      "WARNING:__main__:Finished call to '__main__.submit_batch_job' after 75.593(s), this was the 5th time calling it.\n",
      "WARNING:__main__:Finished call to '__main__.submit_batch_job' after 75.984(s), this was the 5th time calling it.\n"
     ]
    },
    {
     "name": "stdout",
     "output_type": "stream",
     "text": [
      "Submit batch for file id: file-5gqNiwo1LRu7sVuKnG8kaU\n",
      "Submit batch for file id: file-CzMBcRbrD3bdGSTfdLPbkJ\n",
      "Submit batch for file id: file-TRjcj5TSPkxG7Zuu5SiC4X\n",
      "Submit batch for file id: file-LBdJ7yEGUcrf9PUqaYEYYr\n",
      "Submit batch for file id: file-1isXv9KCKi8aFR2XJdh1rr\n",
      "Submit batch for file id: file-Q3nAh4mS6MAXDKjkWrbYBv\n"
     ]
    },
    {
     "name": "stderr",
     "output_type": "stream",
     "text": [
      "WARNING:__main__:Finished call to '__main__.submit_batch_job' after 75.313(s), this was the 5th time calling it.\n",
      "WARNING:__main__:Finished call to '__main__.submit_batch_job' after 75.765(s), this was the 5th time calling it.\n",
      "WARNING:__main__:Finished call to '__main__.submit_batch_job' after 75.578(s), this was the 5th time calling it.\n",
      "WARNING:__main__:Finished call to '__main__.submit_batch_job' after 75.359(s), this was the 5th time calling it.\n",
      "WARNING:__main__:Finished call to '__main__.submit_batch_job' after 75.297(s), this was the 5th time calling it.\n",
      "WARNING:__main__:Finished call to '__main__.submit_batch_job' after 74.922(s), this was the 5th time calling it.\n",
      "WARNING:__main__:Finished call to '__main__.submit_batch_job' after 48.438(s), this was the 5th time calling it.\n"
     ]
    },
    {
     "name": "stdout",
     "output_type": "stream",
     "text": [
      "Submit batch for file id: file-PArMLLVcLezL2Yyv5an18b\n",
      "Submit batch for file id: file-Fprg6acBD5mfwJRKg7qhBU\n",
      "Submit batch for file id: file-1fDq8cz6i6fWC9p4riYfn8\n",
      "Submit batch for file id: file-MKjjGe4CJK4cEyuAZP17ik\n",
      "Submit batch for file id: file-2fXDtEf9HWQp16vYJRKbW7\n",
      "Submit batch for file id: file-8UAk9kX5rpzBaw4XdxDPHC\n"
     ]
    },
    {
     "name": "stderr",
     "output_type": "stream",
     "text": [
      "WARNING:__main__:Finished call to '__main__.submit_batch_job' after 75.000(s), this was the 5th time calling it.\n",
      "WARNING:__main__:Finished call to '__main__.submit_batch_job' after 74.703(s), this was the 5th time calling it.\n",
      "WARNING:__main__:Finished call to '__main__.submit_batch_job' after 75.360(s), this was the 5th time calling it.\n",
      "WARNING:__main__:Finished call to '__main__.submit_batch_job' after 74.906(s), this was the 5th time calling it.\n",
      "WARNING:__main__:Finished call to '__main__.submit_batch_job' after 48.516(s), this was the 5th time calling it.\n",
      "WARNING:__main__:Finished call to '__main__.submit_batch_job' after 48.453(s), this was the 5th time calling it.\n",
      "WARNING:__main__:Finished call to '__main__.submit_batch_job' after 74.656(s), this was the 5th time calling it.\n"
     ]
    },
    {
     "name": "stdout",
     "output_type": "stream",
     "text": [
      "Submit batch for file id: file-Dj4JPGJmPNbtDFrc7PvEtb\n",
      "Submit batch for file id: file-Khcv7WqDiZQWtK29NyAVHK\n",
      "Submit batch for file id: file-KGpSmjoPL3664QVP2y99ee\n",
      "Submit batch for file id: file-Q77rQfKqLTy7JdP6B53MXR\n",
      "Submit batch for file id: file-KZjZHp1tuQw7CjVSefKgH8\n",
      "Submit batch for file id: file-L18uPjHMMmG7dko5B4TDvL\n",
      "Submit batch for file id: file-EKGwz4JDNFvAdYi2kiWPs1\n",
      "Submit batch for file id: file-34GkneJBJey5PxfHBjf76d\n",
      "Submit batch for file id: file-6LX5UEFn5XPUWdDQowifhb\n",
      "Submit batch for file id: file-5HwBpd5vU8mbS5isXXWtHf\n",
      "Submit batch for file id: file-Fo5ksX8z6SbdXXNTLTH13J\n",
      "Submit batch for file id: file-UmdSKAtbz7mytCsPcw4ytH\n"
     ]
    },
    {
     "name": "stderr",
     "output_type": "stream",
     "text": [
      "WARNING:__main__:Finished call to '__main__.submit_batch_job' after 74.797(s), this was the 5th time calling it.\n",
      "WARNING:__main__:Finished call to '__main__.submit_batch_job' after 74.765(s), this was the 5th time calling it.\n",
      "WARNING:__main__:Finished call to '__main__.submit_batch_job' after 74.406(s), this was the 5th time calling it.\n",
      "WARNING:__main__:Finished call to '__main__.submit_batch_job' after 74.656(s), this was the 5th time calling it.\n",
      "WARNING:__main__:Finished call to '__main__.submit_batch_job' after 74.250(s), this was the 5th time calling it.\n",
      "WARNING:__main__:Finished call to '__main__.submit_batch_job' after 74.110(s), this was the 5th time calling it.\n",
      "WARNING:__main__:Finished call to '__main__.submit_batch_job' after 74.016(s), this was the 5th time calling it.\n",
      "WARNING:__main__:Finished call to '__main__.submit_batch_job' after 74.094(s), this was the 5th time calling it.\n",
      "WARNING:__main__:Finished call to '__main__.submit_batch_job' after 74.141(s), this was the 5th time calling it.\n",
      "WARNING:__main__:Finished call to '__main__.submit_batch_job' after 74.094(s), this was the 5th time calling it.\n",
      "WARNING:__main__:Finished call to '__main__.submit_batch_job' after 73.985(s), this was the 5th time calling it.\n"
     ]
    },
    {
     "name": "stdout",
     "output_type": "stream",
     "text": [
      "Submit batch for file id: file-KvNYFYP6LV3vBkLhfEteq9\n",
      "Submit batch for file id: file-6hwGTQJkvpNby3vCRzdi8r\n",
      "Submit batch for file id: file-FX3XzucfTo4aRreRY5vW5G\n",
      "Submit batch for file id: file-Weof6ATP6ra6AmywrA4ETG\n",
      "Submit batch for file id: file-L3rBpKhbj1kT17QdawZKVx\n",
      "Submit batch for file id: file-R2re44U418x6UDTCX1jeRS\n",
      "Submit batch for file id: file-5tCKkf9LDpsN5aoKguJHGb\n",
      "Submit batch for file id: file-BrP9mvdjjaEE4uoPjKTy8e\n",
      "Submit batch for file id: file-2GktNG8Fgh57fMM32WsWUc\n",
      "Submit batch for file id: file-RfqpSJZ8byFyaWm12Aw7EJ\n",
      "Submit batch for file id: file-9PzdXV5aKUbgUEnvjVBRc8\n"
     ]
    },
    {
     "name": "stderr",
     "output_type": "stream",
     "text": [
      "WARNING:__main__:Finished call to '__main__.submit_batch_job' after 73.984(s), this was the 5th time calling it.\n",
      "WARNING:__main__:Finished call to '__main__.submit_batch_job' after 74.000(s), this was the 5th time calling it.\n",
      "WARNING:__main__:Finished call to '__main__.submit_batch_job' after 74.031(s), this was the 5th time calling it.\n",
      "WARNING:__main__:Finished call to '__main__.submit_batch_job' after 73.968(s), this was the 5th time calling it.\n",
      "WARNING:__main__:Finished call to '__main__.submit_batch_job' after 74.000(s), this was the 5th time calling it.\n",
      "WARNING:__main__:Finished call to '__main__.submit_batch_job' after 73.438(s), this was the 5th time calling it.\n",
      "WARNING:__main__:Finished call to '__main__.submit_batch_job' after 73.922(s), this was the 5th time calling it.\n",
      "WARNING:__main__:Finished call to '__main__.submit_batch_job' after 75.922(s), this was the 5th time calling it.\n",
      "WARNING:__main__:Finished call to '__main__.submit_batch_job' after 48.500(s), this was the 5th time calling it.\n",
      "WARNING:__main__:Finished call to '__main__.submit_batch_job' after 73.375(s), this was the 5th time calling it.\n",
      "WARNING:__main__:Finished call to '__main__.submit_batch_job' after 73.375(s), this was the 5th time calling it.\n"
     ]
    },
    {
     "name": "stdout",
     "output_type": "stream",
     "text": [
      "Submit batch for file id: file-VXUmzc7fTWyzxoUPJ9uCGJ\n",
      "Submit batch for file id: file-HQBzF5n1VF7pqCBgiULxp8\n",
      "Submit batch for file id: file-GoXRYrJMdnER63ECcb1DUw\n",
      "Submit batch for file id: file-6w6qWFHB46Q5bz6yNLrpfT\n",
      "Submit batch for file id: file-8svkkDGm6DstHAhtxKWN4d\n",
      "Submit batch for file id: file-WVUgq3Pzipr9EmVoe6epU5\n",
      "Submit batch for file id: file-1AQYB4Rc2rmE784MmJxRK5\n",
      "Submit batch for file id: file-BqLuoDMp7RDSL3vg4Zme5E\n",
      "Submit batch for file id: file-Y93zkbzQ4n9ZrAkSi1o5f4\n",
      "Submit batch for file id: file-YLn8FVmakzjTvym4ZjDHkx\n"
     ]
    },
    {
     "name": "stderr",
     "output_type": "stream",
     "text": [
      "WARNING:__main__:Finished call to '__main__.submit_batch_job' after 73.281(s), this was the 5th time calling it.\n",
      "WARNING:__main__:Finished call to '__main__.submit_batch_job' after 73.266(s), this was the 5th time calling it.\n",
      "WARNING:__main__:Finished call to '__main__.submit_batch_job' after 73.110(s), this was the 5th time calling it.\n",
      "WARNING:__main__:Finished call to '__main__.submit_batch_job' after 73.157(s), this was the 5th time calling it.\n",
      "WARNING:__main__:Finished call to '__main__.submit_batch_job' after 72.906(s), this was the 5th time calling it.\n",
      "WARNING:__main__:Finished call to '__main__.submit_batch_job' after 72.703(s), this was the 5th time calling it.\n",
      "WARNING:__main__:Finished call to '__main__.submit_batch_job' after 73.157(s), this was the 5th time calling it.\n",
      "WARNING:__main__:Finished call to '__main__.submit_batch_job' after 72.672(s), this was the 5th time calling it.\n",
      "WARNING:__main__:Finished call to '__main__.submit_batch_job' after 72.469(s), this was the 5th time calling it.\n",
      "WARNING:__main__:Finished call to '__main__.submit_batch_job' after 73.609(s), this was the 5th time calling it.\n"
     ]
    },
    {
     "name": "stdout",
     "output_type": "stream",
     "text": [
      "Submit batch for file id: file-CXDGiUgoYice4vcgoJyvtF\n",
      "Submit batch for file id: file-39vzF4LaqdajCSPfygAteN\n",
      "Submit batch for file id: file-9e7SdTfz6YxMvai4wzwZsm\n",
      "Submit batch for file id: file-CVuJGzm57nnPkHVotMCYMz\n",
      "Submit batch for file id: file-JWMMg384xxLy7Jjtznt7Fp\n",
      "Submit batch for file id: file-Dz7fYP8ujbF3Y6HXTpCSPD\n",
      "Submit batch for file id: file-MsPvyzEpQnZFTeXbQ2c1sF\n",
      "Submit batch for file id: file-R7zwdPKreYKoKpGqgWYJMh\n",
      "Submit batch for file id: file-W8CE6Ej9oUNWhDaC4kipuZ\n",
      "Submit batch for file id: file-2gEWPEqJvtVEy1XQm9gEJh\n",
      "Submit batch for file id: file-4LZVubFvWedm1goW8RqwZx\n",
      "Submit batch for file id: file-6vZzfNQmAZ5iMUNFdt2sMz\n",
      "Submit batch for file id: file-Q5euvqtoYoWQmoJUCvvNyu\n",
      "Submit batch for file id: file-8hhtBWdyi9VfpM67FuJpWK\n"
     ]
    },
    {
     "name": "stderr",
     "output_type": "stream",
     "text": [
      "WARNING:__main__:Finished call to '__main__.submit_batch_job' after 72.703(s), this was the 5th time calling it.\n",
      "WARNING:__main__:Finished call to '__main__.submit_batch_job' after 72.312(s), this was the 5th time calling it.\n",
      "WARNING:__main__:Finished call to '__main__.submit_batch_job' after 72.156(s), this was the 5th time calling it.\n",
      "WARNING:__main__:Finished call to '__main__.submit_batch_job' after 72.203(s), this was the 5th time calling it.\n",
      "WARNING:__main__:Finished call to '__main__.submit_batch_job' after 71.953(s), this was the 5th time calling it.\n",
      "WARNING:__main__:Finished call to '__main__.submit_batch_job' after 71.297(s), this was the 5th time calling it.\n",
      "WARNING:__main__:Finished call to '__main__.submit_batch_job' after 73.219(s), this was the 5th time calling it.\n",
      "WARNING:__main__:Finished call to '__main__.submit_batch_job' after 71.672(s), this was the 5th time calling it.\n",
      "WARNING:__main__:Finished call to '__main__.submit_batch_job' after 71.203(s), this was the 5th time calling it.\n",
      "WARNING:__main__:Finished call to '__main__.submit_batch_job' after 71.906(s), this was the 5th time calling it.\n",
      "WARNING:__main__:Finished call to '__main__.submit_batch_job' after 70.656(s), this was the 5th time calling it.\n",
      "WARNING:__main__:Finished call to '__main__.submit_batch_job' after 71.703(s), this was the 5th time calling it.\n",
      "WARNING:__main__:Finished call to '__main__.submit_batch_job' after 71.797(s), this was the 5th time calling it.\n",
      "WARNING:__main__:Finished call to '__main__.submit_batch_job' after 70.672(s), this was the 5th time calling it.\n"
     ]
    },
    {
     "name": "stdout",
     "output_type": "stream",
     "text": [
      "Submit batch for file id: file-XQ7TSQWCDhBiiVZJkdscMM\n",
      "Submit batch for file id: file-QbzTdYT5yRo5wdB8YPWCCu\n",
      "Submit batch for file id: file-MPazBAFopFUQ3TGzaQCvUV\n",
      "Submit batch for file id: file-2VNRAfJfE8uLJeBv68nkcr\n",
      "Submit batch for file id: file-HJFDWCvghb97uFooa2WPUK\n",
      "Submit batch for file id: file-JCvBVLSPxu88FrHjhv7MWg\n",
      "Submit batch for file id: file-TZoTML1cBjTi2nZxNtWTmj\n",
      "Submit batch for file id: file-RhT1MjMfQahCFq5EMzqfwK\n",
      "Submit batch for file id: file-JCA6qGgzpDMSisGBR7ZZiD\n",
      "Submit batch for file id: file-6awy19xdcBWtTJhAP9tjxT\n",
      "Submit batch for file id: file-7P2Y5dijJGmAYZrEEGSUPc\n",
      "Submit batch for file id: file-SeeGpHaTU54Pn5vfJs5i7a\n",
      "Submit batch for file id: file-DxcRgz27AcV6rBZ55hA2L6\n",
      "Submit batch for file id: file-9Xvqt7PtFSfThGStUCiedy\n"
     ]
    },
    {
     "name": "stderr",
     "output_type": "stream",
     "text": [
      "WARNING:__main__:Finished call to '__main__.submit_batch_job' after 70.734(s), this was the 5th time calling it.\n",
      "WARNING:__main__:Finished call to '__main__.submit_batch_job' after 70.750(s), this was the 5th time calling it.\n",
      "WARNING:__main__:Finished call to '__main__.submit_batch_job' after 73.422(s), this was the 5th time calling it.\n",
      "WARNING:__main__:Finished call to '__main__.submit_batch_job' after 70.328(s), this was the 5th time calling it.\n",
      "WARNING:__main__:Finished call to '__main__.submit_batch_job' after 48.484(s), this was the 5th time calling it.\n",
      "WARNING:__main__:Finished call to '__main__.submit_batch_job' after 70.750(s), this was the 5th time calling it.\n",
      "WARNING:__main__:Finished call to '__main__.submit_batch_job' after 70.500(s), this was the 5th time calling it.\n",
      "WARNING:__main__:Finished call to '__main__.submit_batch_job' after 72.000(s), this was the 5th time calling it.\n",
      "WARNING:__main__:Finished call to '__main__.submit_batch_job' after 70.453(s), this was the 5th time calling it.\n",
      "WARNING:__main__:Finished call to '__main__.submit_batch_job' after 73.110(s), this was the 5th time calling it.\n",
      "WARNING:__main__:Finished call to '__main__.submit_batch_job' after 70.343(s), this was the 5th time calling it.\n",
      "WARNING:__main__:Finished call to '__main__.submit_batch_job' after 69.719(s), this was the 5th time calling it.\n",
      "WARNING:__main__:Finished call to '__main__.submit_batch_job' after 69.750(s), this was the 5th time calling it.\n",
      "WARNING:__main__:Finished call to '__main__.submit_batch_job' after 70.438(s), this was the 5th time calling it.\n"
     ]
    },
    {
     "name": "stdout",
     "output_type": "stream",
     "text": [
      "Submit batch for file id: file-AH2aU4FJmDZDMzjGLSfnA6\n",
      "Submit batch for file id: file-EZHqfST1ymFHUiPRLEcAVo\n",
      "Submit batch for file id: file-PG6d28LBLJVUhFFqb9y3it\n",
      "Submit batch for file id: file-AvYasrXaMb2PaUBr7KsUuj\n",
      "Submit batch for file id: file-Gq1ZtdRHmkxbKX3uqBmHHa\n",
      "Submit batch for file id: file-D2AGbCD8rynDVymHhZD4Uk\n",
      "Submit batch for file id: file-DLj9HK5z54wRKkfGkM2BDA\n",
      "Submit batch for file id: file-WtCzUQsVSPL1Y65sNJEc7g\n",
      "Submit batch for file id: file-Kn8BaWsVXTonkcGkWFHnJR\n",
      "Submit batch for file id: file-PBCWt6VC4PdusBVdypB6Kk\n",
      "Submit batch for file id: file-AWLD8ue4aEtao94hJzhmRo\n",
      "Submit batch for file id: file-6XD8DC3eDgnMiYMmeaf7tM\n",
      "Submit batch for file id: file-EPiN4kAQni5obnyRf37yJX\n",
      "Submit batch for file id: file-FB6JmWT9ujn1oyNeHZEc1w\n",
      "Submit batch for file id: file-5JP5KfPcU4H7pfwYVeuGzf\n",
      "Submit batch for file id: file-UJd11Zaj3nUhDRk5PnBdKb\n",
      "Submit batch for file id: file-88MsoJMotSSdgMZZQHmUsf\n",
      "Submit batch for file id: file-Mt67XkaLqcyKF6b5UKwDAi\n"
     ]
    },
    {
     "name": "stderr",
     "output_type": "stream",
     "text": [
      "WARNING:__main__:Finished call to '__main__.submit_batch_job' after 69.766(s), this was the 5th time calling it.\n",
      "WARNING:__main__:Finished call to '__main__.submit_batch_job' after 69.391(s), this was the 5th time calling it.\n",
      "WARNING:__main__:Finished call to '__main__.submit_batch_job' after 69.594(s), this was the 5th time calling it.\n",
      "WARNING:__main__:Finished call to '__main__.submit_batch_job' after 69.078(s), this was the 5th time calling it.\n",
      "WARNING:__main__:Finished call to '__main__.submit_batch_job' after 69.625(s), this was the 5th time calling it.\n",
      "WARNING:__main__:Finished call to '__main__.submit_batch_job' after 68.797(s), this was the 5th time calling it.\n",
      "WARNING:__main__:Finished call to '__main__.submit_batch_job' after 68.610(s), this was the 5th time calling it.\n",
      "WARNING:__main__:Finished call to '__main__.submit_batch_job' after 69.234(s), this was the 5th time calling it.\n",
      "WARNING:__main__:Finished call to '__main__.submit_batch_job' after 69.281(s), this was the 5th time calling it.\n",
      "WARNING:__main__:Finished call to '__main__.submit_batch_job' after 68.750(s), this was the 5th time calling it.\n",
      "WARNING:__main__:Finished call to '__main__.submit_batch_job' after 68.750(s), this was the 5th time calling it.\n",
      "WARNING:__main__:Finished call to '__main__.submit_batch_job' after 68.813(s), this was the 5th time calling it.\n",
      "WARNING:__main__:Finished call to '__main__.submit_batch_job' after 69.172(s), this was the 5th time calling it.\n",
      "WARNING:__main__:Finished call to '__main__.submit_batch_job' after 69.172(s), this was the 5th time calling it.\n",
      "WARNING:__main__:Finished call to '__main__.submit_batch_job' after 69.172(s), this was the 5th time calling it.\n",
      "WARNING:__main__:Finished call to '__main__.submit_batch_job' after 69.453(s), this was the 5th time calling it.\n",
      "WARNING:__main__:Finished call to '__main__.submit_batch_job' after 68.500(s), this was the 5th time calling it.\n",
      "WARNING:__main__:Finished call to '__main__.submit_batch_job' after 48.437(s), this was the 5th time calling it.\n"
     ]
    },
    {
     "name": "stdout",
     "output_type": "stream",
     "text": [
      "Submit batch for file id: file-GbeuaWnD78VE2N4cW2WCJA\n",
      "Submit batch for file id: file-UCapekh7L3faz494LsR6rL\n",
      "Submit batch for file id: file-3Kd917ker4zbzSVRkHGpwC\n",
      "Submit batch for file id: file-1DC97oBbDR9b9L6J9xuwUN\n",
      "Submit batch for file id: file-HQy3KopReGQ4XxSRtr8zFf\n",
      "Submit batch for file id: file-9neMc7wz17qcqiYswev27L\n",
      "Submit batch for file id: file-WQ1hCJVagY6hFQBNXXWeqU\n",
      "Submit batch for file id: file-1TtRzxoA72k9yC8pbsv89H\n",
      "Submit batch for file id: file-LjX7A3bhUk5aC3iwdrnvSU\n",
      "Submit batch for file id: file-KKr2PrCzPicACpGM3jmm2N\n",
      "Submit batch for file id: file-QxNNDkW5S234Y6vg4Jpk4g\n",
      "Submit batch for file id: file-8n8TtNJ4QU7iTjLAmwu4KD\n",
      "Submit batch for file id: file-XARqa9WH45zwwwkhgtx7y3\n",
      "Submit batch for file id: file-H2DKafEw7tpPqYFRKAPsAS\n",
      "Submit batch for file id: file-GQnoTVCR7VndXcAVBwdm6E\n",
      "Submit batch for file id: file-VL7eoJqsPh3JttMQFXxcX2\n",
      "Submit batch for file id: file-4cVeyM24GbrS97QtpnzkyY\n"
     ]
    },
    {
     "name": "stderr",
     "output_type": "stream",
     "text": [
      "WARNING:__main__:Finished call to '__main__.submit_batch_job' after 70.875(s), this was the 5th time calling it.\n",
      "WARNING:__main__:Finished call to '__main__.submit_batch_job' after 67.672(s), this was the 5th time calling it.\n",
      "WARNING:__main__:Finished call to '__main__.submit_batch_job' after 66.860(s), this was the 5th time calling it.\n",
      "WARNING:__main__:Finished call to '__main__.submit_batch_job' after 68.406(s), this was the 5th time calling it.\n",
      "WARNING:__main__:Finished call to '__main__.submit_batch_job' after 67.265(s), this was the 5th time calling it.\n",
      "WARNING:__main__:Finished call to '__main__.submit_batch_job' after 68.859(s), this was the 5th time calling it.\n",
      "WARNING:__main__:Finished call to '__main__.submit_batch_job' after 67.937(s), this was the 5th time calling it.\n",
      "WARNING:__main__:Finished call to '__main__.submit_batch_job' after 66.640(s), this was the 5th time calling it.\n",
      "WARNING:__main__:Finished call to '__main__.submit_batch_job' after 67.359(s), this was the 5th time calling it.\n",
      "WARNING:__main__:Finished call to '__main__.submit_batch_job' after 65.734(s), this was the 5th time calling it.\n",
      "WARNING:__main__:Finished call to '__main__.submit_batch_job' after 66.984(s), this was the 5th time calling it.\n",
      "WARNING:__main__:Finished call to '__main__.submit_batch_job' after 68.891(s), this was the 5th time calling it.\n",
      "WARNING:__main__:Finished call to '__main__.submit_batch_job' after 66.500(s), this was the 5th time calling it.\n",
      "WARNING:__main__:Finished call to '__main__.submit_batch_job' after 66.828(s), this was the 5th time calling it.\n",
      "WARNING:__main__:Finished call to '__main__.submit_batch_job' after 66.688(s), this was the 5th time calling it.\n",
      "WARNING:__main__:Finished call to '__main__.submit_batch_job' after 66.687(s), this was the 5th time calling it.\n",
      "WARNING:__main__:Finished call to '__main__.submit_batch_job' after 68.829(s), this was the 5th time calling it.\n"
     ]
    },
    {
     "name": "stdout",
     "output_type": "stream",
     "text": [
      "Submit batch for file id: file-GbbG95fXcUuHLXUkU7UBSv\n",
      "Submit batch for file id: file-Y86pUud7eLJQ23JnuF7EXi\n",
      "Submit batch for file id: file-WiP7RB887ZGpFxsSbnTxF3\n",
      "Submit batch for file id: file-Mrg8Mcgi9NLXkhvQF2NGxw\n",
      "Submit batch for file id: file-Hrggj2pPCH18WQUrtKweGp\n",
      "Submit batch for file id: file-UmAcePcSKBczWfVhzi1CUc\n",
      "Submit batch for file id: file-LijNRbyaSRL7Q79o6MCkuT\n",
      "Submit batch for file id: file-1weuXVVN2icyC92PXCefVY\n",
      "Submit batch for file id: file-FfLu7p8zRRdeEV5cMYAFpq\n",
      "Submit batch for file id: file-ASpVXbwd6tMHgsHms8CZ7f\n",
      "Submit batch for file id: file-7L78h4LMtLn4ZjS8gzLcbn\n",
      "Submit batch for file id: file-MKsm3ivsfGq29MXMMLossD\n",
      "Submit batch for file id: file-KeZXfSr2AaLQ9hr4KbRYYu\n",
      "Submit batch for file id: file-TaBS4jG93wG8KnrhnxvsPu\n",
      "Submit batch for file id: file-9LBdPJkBAZbumxZZsPiT4M\n",
      "Submit batch for file id: file-3M43s57LXh7Njd2aFcmoGU\n",
      "Submit batch for file id: file-EHeEmhBkMdoZa9L25EaVrn\n",
      "Submit batch for file id: file-K2y1e5jtZZmttopmiskf2m\n",
      "Submit batch for file id: file-RZQfxZurqFWDwkuqyviNxb\n",
      "Submit batch for file id: file-XpA2Tv4pKi6Zk1UbobqKBE\n",
      "Submit batch for file id: file-BrHvWdhETb79rkE6Vwdp9p\n",
      "Submit batch for file id: file-2Ltmg1q16gSE3FXtvNN2BS\n",
      "Submit batch for file id: file-MrKgNiAENA9k7TgtyTW5XE\n",
      "Submit batch for file id: file-F9yZa2Se6WBcXz4ZKxpKJa\n",
      "Submit batch for file id: file-84rTiET5w3U9WSYu4cT85m\n",
      "Submit batch for file id: file-8STC8RdFtBqvH1PUzJXFj9\n",
      "Submit batch for file id: file-QuTXhwbkuMfzRah2zzV8xq\n"
     ]
    },
    {
     "name": "stderr",
     "output_type": "stream",
     "text": [
      "WARNING:__main__:Finished call to '__main__.submit_batch_job' after 64.609(s), this was the 5th time calling it.\n",
      "WARNING:__main__:Finished call to '__main__.submit_batch_job' after 65.078(s), this was the 5th time calling it.\n",
      "WARNING:__main__:Finished call to '__main__.submit_batch_job' after 65.312(s), this was the 5th time calling it.\n",
      "WARNING:__main__:Finished call to '__main__.submit_batch_job' after 64.234(s), this was the 5th time calling it.\n",
      "WARNING:__main__:Finished call to '__main__.submit_batch_job' after 63.438(s), this was the 5th time calling it.\n",
      "WARNING:__main__:Finished call to '__main__.submit_batch_job' after 63.063(s), this was the 5th time calling it.\n",
      "WARNING:__main__:Finished call to '__main__.submit_batch_job' after 63.172(s), this was the 5th time calling it.\n",
      "WARNING:__main__:Finished call to '__main__.submit_batch_job' after 64.547(s), this was the 5th time calling it.\n",
      "WARNING:__main__:Finished call to '__main__.submit_batch_job' after 63.797(s), this was the 5th time calling it.\n",
      "WARNING:__main__:Finished call to '__main__.submit_batch_job' after 63.516(s), this was the 5th time calling it.\n",
      "WARNING:__main__:Finished call to '__main__.submit_batch_job' after 65.125(s), this was the 5th time calling it.\n",
      "WARNING:__main__:Finished call to '__main__.submit_batch_job' after 64.219(s), this was the 5th time calling it.\n",
      "WARNING:__main__:Finished call to '__main__.submit_batch_job' after 64.250(s), this was the 5th time calling it.\n",
      "WARNING:__main__:Finished call to '__main__.submit_batch_job' after 65.859(s), this was the 5th time calling it.\n",
      "WARNING:__main__:Finished call to '__main__.submit_batch_job' after 65.781(s), this was the 5th time calling it.\n",
      "WARNING:__main__:Finished call to '__main__.submit_batch_job' after 64.500(s), this was the 5th time calling it.\n",
      "WARNING:__main__:Finished call to '__main__.submit_batch_job' after 63.016(s), this was the 5th time calling it.\n",
      "WARNING:__main__:Finished call to '__main__.submit_batch_job' after 63.766(s), this was the 5th time calling it.\n",
      "WARNING:__main__:Finished call to '__main__.submit_batch_job' after 65.063(s), this was the 5th time calling it.\n",
      "WARNING:__main__:Finished call to '__main__.submit_batch_job' after 63.016(s), this was the 5th time calling it.\n",
      "WARNING:__main__:Finished call to '__main__.submit_batch_job' after 63.610(s), this was the 5th time calling it.\n",
      "WARNING:__main__:Finished call to '__main__.submit_batch_job' after 62.891(s), this was the 5th time calling it.\n",
      "WARNING:__main__:Finished call to '__main__.submit_batch_job' after 64.125(s), this was the 5th time calling it.\n",
      "WARNING:__main__:Finished call to '__main__.submit_batch_job' after 62.687(s), this was the 5th time calling it.\n",
      "WARNING:__main__:Finished call to '__main__.submit_batch_job' after 63.000(s), this was the 5th time calling it.\n",
      "WARNING:__main__:Finished call to '__main__.submit_batch_job' after 64.422(s), this was the 5th time calling it.\n",
      "WARNING:__main__:Finished call to '__main__.submit_batch_job' after 63.000(s), this was the 5th time calling it.\n"
     ]
    },
    {
     "name": "stdout",
     "output_type": "stream",
     "text": [
      "Submit batch for file id: file-8MPjNtSTZ1KwAS3Ra24n4Z\n",
      "Submit batch for file id: file-QBoUaVBAbhaGjGF4DS97ZR\n",
      "Submit batch for file id: file-9hpFDkLex8puaBwK6a5dYf\n",
      "Submit batch for file id: file-HBgr6Kd3WLarVaQ2UepwJM\n",
      "Submit batch for file id: file-QffWa2umHVLU4xUK4tTeDk\n"
     ]
    },
    {
     "name": "stderr",
     "output_type": "stream",
     "text": [
      "WARNING:__main__:Finished call to '__main__.submit_batch_job' after 62.515(s), this was the 5th time calling it.\n",
      "WARNING:__main__:Finished call to '__main__.submit_batch_job' after 62.734(s), this was the 5th time calling it.\n",
      "WARNING:__main__:Finished call to '__main__.submit_batch_job' after 62.359(s), this was the 5th time calling it.\n",
      "WARNING:__main__:Finished call to '__main__.submit_batch_job' after 62.781(s), this was the 5th time calling it.\n",
      "WARNING:__main__:Finished call to '__main__.submit_batch_job' after 62.297(s), this was the 5th time calling it.\n"
     ]
    },
    {
     "name": "stdout",
     "output_type": "stream",
     "text": [
      "Submit batch for file id: file-Ne94NDsDQudxkAgf54bP7Q\n",
      "Submit batch for file id: file-JUZxiH16PZHH7WCVER69BK\n",
      "Submit batch for file id: file-6F9a7NJw4jRjx1hvt7xfwZ\n",
      "Submit batch for file id: file-T9jpStdLsFSk8aNsndQKeQ\n",
      "Submit batch for file id: file-CFSApXYfKAUGnYPuYHLZcx\n",
      "Submit batch for file id: file-9QHdcBjuysNEvRuT8ir5fc\n",
      "Submit batch for file id: file-TXibRn1VLSS5PV96ewPG9q\n",
      "Submit batch for file id: file-Q1y94UNAcbK5d3ZqiWTd3m\n",
      "Submit batch for file id: file-JyUvsv2RrpUz36oGKpYABY\n",
      "Submit batch for file id: file-WXNS6EdEQSWSYPggnCttsN\n",
      "Submit batch for file id: file-Vq8MY7bSDHH7EBivkdBfzv\n",
      "Submit batch for file id: file-5k6h1jvUbpmGqzL7xjg4Gn\n",
      "Submit batch for file id: file-Ubg8Ffv37JpcX3ah5bgVk3\n",
      "Submit batch for file id: file-3Jqap9jryMbuZavWeEJWm4\n",
      "Submit batch for file id: file-7AExaetPwDrqEVPbH8yH7h\n",
      "Submit batch for file id: file-JE7KehiLm1aVXDaZD5bbm5\n",
      "Submit batch for file id: file-4a3aHowwYv9mHJ7VkQyLEf\n",
      "Submit batch for file id: file-Lf6fXJnhCfoDyWUKDzpEhY\n",
      "Submit batch for file id: file-5SBs6To3ANVJf1Ubf7odTP\n",
      "Submit batch for file id: file-QpcR7Ehpa7oMizNqxjejVr\n",
      "Submit batch for file id: file-46QfZhZgK9puwPQx6Lagqp\n",
      "Submit batch for file id: file-SPGQYmrkQioZ9dGRfWmZat\n",
      "Submit batch for file id: file-KB93N3dRX62zbjRnHr38yT\n",
      "Submit batch for file id: file-MKM5g1oChwzDNURrxM73aE\n",
      "Submit batch for file id: file-TFaT6E6pD2DtFH3x2aESRC\n"
     ]
    },
    {
     "name": "stderr",
     "output_type": "stream",
     "text": [
      "WARNING:__main__:Finished call to '__main__.submit_batch_job' after 61.016(s), this was the 5th time calling it.\n",
      "WARNING:__main__:Finished call to '__main__.submit_batch_job' after 61.594(s), this was the 5th time calling it.\n",
      "WARNING:__main__:Finished call to '__main__.submit_batch_job' after 59.484(s), this was the 5th time calling it.\n",
      "WARNING:__main__:Finished call to '__main__.submit_batch_job' after 61.531(s), this was the 5th time calling it.\n",
      "WARNING:__main__:Finished call to '__main__.submit_batch_job' after 60.172(s), this was the 5th time calling it.\n",
      "WARNING:__main__:Finished call to '__main__.submit_batch_job' after 60.391(s), this was the 5th time calling it.\n",
      "WARNING:__main__:Finished call to '__main__.submit_batch_job' after 61.360(s), this was the 5th time calling it.\n",
      "WARNING:__main__:Finished call to '__main__.submit_batch_job' after 60.454(s), this was the 5th time calling it.\n",
      "WARNING:__main__:Finished call to '__main__.submit_batch_job' after 60.094(s), this was the 5th time calling it.\n",
      "WARNING:__main__:Finished call to '__main__.submit_batch_job' after 62.719(s), this was the 5th time calling it.\n",
      "WARNING:__main__:Finished call to '__main__.submit_batch_job' after 60.547(s), this was the 5th time calling it.\n",
      "WARNING:__main__:Finished call to '__main__.submit_batch_job' after 61.266(s), this was the 5th time calling it.\n",
      "WARNING:__main__:Finished call to '__main__.submit_batch_job' after 62.094(s), this was the 5th time calling it.\n",
      "WARNING:__main__:Finished call to '__main__.submit_batch_job' after 61.547(s), this was the 5th time calling it.\n",
      "WARNING:__main__:Finished call to '__main__.submit_batch_job' after 62.031(s), this was the 5th time calling it.\n",
      "WARNING:__main__:Finished call to '__main__.submit_batch_job' after 62.562(s), this was the 5th time calling it.\n",
      "WARNING:__main__:Finished call to '__main__.submit_batch_job' after 62.031(s), this was the 5th time calling it.\n",
      "WARNING:__main__:Finished call to '__main__.submit_batch_job' after 60.156(s), this was the 5th time calling it.\n",
      "WARNING:__main__:Finished call to '__main__.submit_batch_job' after 59.469(s), this was the 5th time calling it.\n",
      "WARNING:__main__:Finished call to '__main__.submit_batch_job' after 48.515(s), this was the 5th time calling it.\n",
      "WARNING:__main__:Finished call to '__main__.submit_batch_job' after 61.188(s), this was the 5th time calling it.\n",
      "WARNING:__main__:Finished call to '__main__.submit_batch_job' after 60.313(s), this was the 5th time calling it.\n",
      "WARNING:__main__:Finished call to '__main__.submit_batch_job' after 59.500(s), this was the 5th time calling it.\n",
      "WARNING:__main__:Finished call to '__main__.submit_batch_job' after 48.610(s), this was the 5th time calling it.\n"
     ]
    },
    {
     "name": "stdout",
     "output_type": "stream",
     "text": [
      "Submit batch for file id: file-SgVJubzDMPSExd2Nuzd6pu\n",
      "Submit batch for file id: file-WUTBx4NL1crKFUpRxcYc7e\n",
      "Submit batch for file id: file-T7eUJXbnPPVHG4VSG3QSeT\n",
      "Submit batch for file id: file-Pcf3SemnEWXH7gbE5ck3yY\n",
      "Submit batch for file id: file-Aaa6eonHrnDmBfkXJ9G7oV\n",
      "Submit batch for file id: file-DwwzJtfZVPhE9jWsnCfeZR\n",
      "Submit batch for file id: file-AnScj8EhL9YHAdQUsDUaNJ\n",
      "Submit batch for file id: file-XySj38C66amMfQUsduJNo8\n",
      "Submit batch for file id: file-QSFV23JwdAFnx24caqf8Cj\n",
      "Submit batch for file id: file-7YBF14C3UvtnBeXWGekawb\n",
      "Submit batch for file id: file-4mxeqoRRJkBhd2F8HwMh3b\n",
      "Submit batch for file id: file-J41NvT2zBZ7fMjCjXi4c8e\n",
      "Submit batch for file id: file-DHcegJiB7KFmVQ9aFT73y2\n",
      "Submit batch for file id: file-4Mg8rPYVTKLu2YHhDaNyUX\n",
      "Submit batch for file id: file-PaN3tGWY6pioXsym64691H\n",
      "Submit batch for file id: file-J33qhkwiCVF5nDK88UxFx3\n",
      "Submit batch for file id: file-AbmMYHBoedsqRjaB228tiM\n",
      "Submit batch for file id: file-Dn5JJTfp9iGvZo3TAMZL5S\n",
      "Submit batch for file id: file-BRehFfPmnGrDV41VjpqheB\n",
      "Submit batch for file id: file-4L4kHV2ujzABGwsCpEKdYS\n",
      "Submit batch for file id: file-4Phphj1wLL8X2gFspuBWcD\n",
      "Submit batch for file id: file-QF7wJfxh46iU7UtrUxnixu\n",
      "Submit batch for file id: file-9E3LGoXsq7kbcXH19AUXAH\n",
      "Submit batch for file id: file-233tPtAXnN3FJeWikNSw6P\n",
      "Submit batch for file id: file-ByDUbdQETT5PgvgaZfUwcV\n",
      "Submit batch for file id: file-MvA9jW3wAS3VeXvqd32ibf\n",
      "Submit batch for file id: file-NzKKRmWzW97Df5orqJ3Fay\n",
      "Submit batch for file id: file-SA3Nk7sFigYoeiaY5sU3uc\n"
     ]
    },
    {
     "name": "stderr",
     "output_type": "stream",
     "text": [
      "WARNING:__main__:Finished call to '__main__.submit_batch_job' after 59.157(s), this was the 5th time calling it.\n",
      "WARNING:__main__:Finished call to '__main__.submit_batch_job' after 59.109(s), this was the 5th time calling it.\n",
      "WARNING:__main__:Finished call to '__main__.submit_batch_job' after 57.516(s), this was the 5th time calling it.\n",
      "WARNING:__main__:Finished call to '__main__.submit_batch_job' after 57.063(s), this was the 5th time calling it.\n",
      "WARNING:__main__:Finished call to '__main__.submit_batch_job' after 58.953(s), this was the 5th time calling it.\n",
      "WARNING:__main__:Finished call to '__main__.submit_batch_job' after 58.109(s), this was the 5th time calling it.\n",
      "WARNING:__main__:Finished call to '__main__.submit_batch_job' after 58.718(s), this was the 5th time calling it.\n",
      "WARNING:__main__:Finished call to '__main__.submit_batch_job' after 57.437(s), this was the 5th time calling it.\n",
      "WARNING:__main__:Finished call to '__main__.submit_batch_job' after 57.047(s), this was the 5th time calling it.\n",
      "WARNING:__main__:Finished call to '__main__.submit_batch_job' after 57.953(s), this was the 5th time calling it.\n",
      "WARNING:__main__:Finished call to '__main__.submit_batch_job' after 57.031(s), this was the 5th time calling it.\n",
      "WARNING:__main__:Finished call to '__main__.submit_batch_job' after 57.843(s), this was the 5th time calling it.\n",
      "WARNING:__main__:Finished call to '__main__.submit_batch_job' after 57.390(s), this was the 5th time calling it.\n",
      "WARNING:__main__:Finished call to '__main__.submit_batch_job' after 56.718(s), this was the 5th time calling it.\n",
      "WARNING:__main__:Finished call to '__main__.submit_batch_job' after 58.218(s), this was the 5th time calling it.\n",
      "WARNING:__main__:Finished call to '__main__.submit_batch_job' after 57.625(s), this was the 5th time calling it.\n",
      "WARNING:__main__:Finished call to '__main__.submit_batch_job' after 56.140(s), this was the 5th time calling it.\n",
      "WARNING:__main__:Finished call to '__main__.submit_batch_job' after 57.672(s), this was the 5th time calling it.\n",
      "WARNING:__main__:Finished call to '__main__.submit_batch_job' after 58.156(s), this was the 5th time calling it.\n",
      "WARNING:__main__:Finished call to '__main__.submit_batch_job' after 57.937(s), this was the 5th time calling it.\n",
      "WARNING:__main__:Finished call to '__main__.submit_batch_job' after 57.375(s), this was the 5th time calling it.\n",
      "WARNING:__main__:Finished call to '__main__.submit_batch_job' after 58.843(s), this was the 5th time calling it.\n",
      "WARNING:__main__:Finished call to '__main__.submit_batch_job' after 57.781(s), this was the 5th time calling it.\n",
      "WARNING:__main__:Finished call to '__main__.submit_batch_job' after 57.297(s), this was the 5th time calling it.\n",
      "WARNING:__main__:Finished call to '__main__.submit_batch_job' after 57.156(s), this was the 5th time calling it.\n",
      "WARNING:__main__:Finished call to '__main__.submit_batch_job' after 57.563(s), this was the 5th time calling it.\n",
      "WARNING:__main__:Finished call to '__main__.submit_batch_job' after 58.078(s), this was the 5th time calling it.\n",
      "WARNING:__main__:Finished call to '__main__.submit_batch_job' after 56.469(s), this was the 5th time calling it.\n"
     ]
    },
    {
     "name": "stdout",
     "output_type": "stream",
     "text": [
      "Submit batch for file id: file-WoqMy12NNpwyD4KpdtV69w\n",
      "Submit batch for file id: file-NubwwqeMToiEKz1CUn2kBM\n",
      "Submit batch for file id: file-6gPyR5mxt2Z1u2NnFs2ADR\n",
      "Submit batch for file id: file-QDUfF2WEjkS767sfVE6X48\n",
      "Submit batch for file id: file-TpiSQVpTgnNrbre7zw24zX\n",
      "Submit batch for file id: file-FMHGoutAUvzuBckLfieXSq\n",
      "Submit batch for file id: file-AfpyVCTP8cahVWBxZ7bmn8\n",
      "Submit batch for file id: file-EZCf3xxGdUQG64VnHbbQC7\n",
      "Submit batch for file id: file-NU7jahUpXNTxKDcdFqKqDV\n",
      "Submit batch for file id: file-DgufWyLBVkzRjX5JkUTVWh\n",
      "Submit batch for file id: file-2MC7TaaAr4dkftq6fFnZQG\n",
      "Submit batch for file id: file-2XzbKDc3oNhmgGNBTDpHaM\n",
      "Submit batch for file id: file-HLac8aTUBq2Ne2UPDMpoLq\n",
      "Submit batch for file id: file-TwuXb97KRrBLNe9qECTPEv\n",
      "Submit batch for file id: file-XuwxokJjhjkKuknpx99Wet\n",
      "Submit batch for file id: file-Vbsj8VnhZGYt7XgjbSydCb\n",
      "Submit batch for file id: file-3iGHHm8HTTgLU41De48z6P\n",
      "Submit batch for file id: file-DMtVF1cq3dqPv7imHcbx4J\n",
      "Submit batch for file id: file-5S94rp8vZBgUuatwzycyoc\n",
      "Submit batch for file id: file-N1qvSo9aoPWYSgSWXaXZ7z\n",
      "Submit batch for file id: file-3UBWgPuCGKJ5q22TWXkmJT\n",
      "Submit batch for file id: file-TJ4b9bEh8TYxbjsKHjUU1k\n",
      "Submit batch for file id: file-Q8Gnm5pXy82NjV9WfWiZ7T\n",
      "Submit batch for file id: file-QQNfXqPKm2AFyuvHJHGKnL\n",
      "Submit batch for file id: file-FLoV1jnTC1CE51PhbBsVyF\n",
      "Submit batch for file id: file-AhYpTwxW2VRxanDHEUwvuk\n",
      "Submit batch for file id: file-4UUBuBdpQgdKvzHJSuC8C6\n",
      "Submit batch for file id: file-F88h5Uk7ehNnX47r63WyyR\n",
      "Submit batch for file id: file-RpbNLSHeefJMqrdKURxDQA\n",
      "Submit batch for file id: file-M2fPBFZVGiMYPfi6ebhnZb\n",
      "Submit batch for file id: file-2AVzgX5Y8RwqRfxzPwPng8\n"
     ]
    },
    {
     "name": "stderr",
     "output_type": "stream",
     "text": [
      "WARNING:__main__:Finished call to '__main__.submit_batch_job' after 56.062(s), this was the 5th time calling it.\n",
      "WARNING:__main__:Finished call to '__main__.submit_batch_job' after 56.172(s), this was the 5th time calling it.\n",
      "WARNING:__main__:Finished call to '__main__.submit_batch_job' after 48.343(s), this was the 5th time calling it.\n",
      "WARNING:__main__:Finished call to '__main__.submit_batch_job' after 55.906(s), this was the 5th time calling it.\n",
      "WARNING:__main__:Finished call to '__main__.submit_batch_job' after 55.953(s), this was the 5th time calling it.\n",
      "WARNING:__main__:Finished call to '__main__.submit_batch_job' after 55.562(s), this was the 5th time calling it.\n",
      "WARNING:__main__:Finished call to '__main__.submit_batch_job' after 55.390(s), this was the 5th time calling it.\n",
      "WARNING:__main__:Finished call to '__main__.submit_batch_job' after 55.546(s), this was the 5th time calling it.\n",
      "WARNING:__main__:Finished call to '__main__.submit_batch_job' after 55.625(s), this was the 5th time calling it.\n",
      "WARNING:__main__:Finished call to '__main__.submit_batch_job' after 53.156(s), this was the 5th time calling it.\n",
      "WARNING:__main__:Finished call to '__main__.submit_batch_job' after 55.485(s), this was the 5th time calling it.\n",
      "WARNING:__main__:Finished call to '__main__.submit_batch_job' after 54.672(s), this was the 5th time calling it.\n",
      "WARNING:__main__:Finished call to '__main__.submit_batch_job' after 54.875(s), this was the 5th time calling it.\n",
      "WARNING:__main__:Finished call to '__main__.submit_batch_job' after 55.563(s), this was the 5th time calling it.\n",
      "WARNING:__main__:Finished call to '__main__.submit_batch_job' after 55.469(s), this was the 5th time calling it.\n",
      "WARNING:__main__:Finished call to '__main__.submit_batch_job' after 55.766(s), this was the 5th time calling it.\n",
      "WARNING:__main__:Finished call to '__main__.submit_batch_job' after 54.907(s), this was the 5th time calling it.\n",
      "WARNING:__main__:Finished call to '__main__.submit_batch_job' after 55.094(s), this was the 5th time calling it.\n",
      "WARNING:__main__:Finished call to '__main__.submit_batch_job' after 53.172(s), this was the 5th time calling it.\n",
      "WARNING:__main__:Finished call to '__main__.submit_batch_job' after 52.969(s), this was the 5th time calling it.\n",
      "WARNING:__main__:Finished call to '__main__.submit_batch_job' after 52.797(s), this was the 5th time calling it.\n",
      "WARNING:__main__:Finished call to '__main__.submit_batch_job' after 52.750(s), this was the 5th time calling it.\n",
      "WARNING:__main__:Finished call to '__main__.submit_batch_job' after 53.516(s), this was the 5th time calling it.\n",
      "WARNING:__main__:Finished call to '__main__.submit_batch_job' after 52.969(s), this was the 5th time calling it.\n"
     ]
    },
    {
     "name": "stdout",
     "output_type": "stream",
     "text": [
      "Submit batch for file id: file-8jhq1LgpBuNCYUM74Wki7p\n",
      "Submit batch for file id: file-T8zTV5a2gdXr9XLwcXihjP\n",
      "Submit batch for file id: file-C9YPTJUjuQ3YwsMRSYi57X\n",
      "Submit batch for file id: file-UuFN5cRUBU8YwzcWz7WHDW\n",
      "Submit batch for file id: file-Q4ijcGU2MDnmFgQo7eme3R\n",
      "Submit batch for file id: file-KmE7z4sf4SrFvHUbk3iKiV\n",
      "Submit batch for file id: file-W4PvSGzes5aqB17Y1smkCh\n",
      "Submit batch for file id: file-2SMBuhsySwVMVRUy5Q8evy\n",
      "Submit batch for file id: file-JAMEqTTNVxndn5Npb8wtka\n",
      "Submit batch for file id: file-TvwDRcbEQRBNgqytNJVurE\n",
      "Submit batch for file id: file-VWakNrN2exV4wWRF6EhbPW\n",
      "Submit batch for file id: file-BcY6crxbgCYgyFrQRaz6Pt\n",
      "Submit batch for file id: file-WS5FAGYcmFWhaMwvqeqHNw\n",
      "Submit batch for file id: file-4GWZ4dUbAWgyquFqqBeJiP\n",
      "Submit batch for file id: file-WSY4tom2Htqvp2D2XtYugo\n",
      "Submit batch for file id: file-F6bdYEYnB37jMEHyBZYRdw\n",
      "Submit batch for file id: file-SK7V9N56wsqrJBMK7sNdMx\n",
      "Submit batch for file id: file-V5cYuxPWYf6haNzQfn666Y\n",
      "Submit batch for file id: file-1KBbPBwKpLgcSmwyKnxAdL\n"
     ]
    },
    {
     "name": "stderr",
     "output_type": "stream",
     "text": [
      "WARNING:__main__:Finished call to '__main__.submit_batch_job' after 55.594(s), this was the 5th time calling it.\n",
      "WARNING:__main__:Finished call to '__main__.submit_batch_job' after 52.609(s), this was the 5th time calling it.\n",
      "WARNING:__main__:Finished call to '__main__.submit_batch_job' after 54.438(s), this was the 5th time calling it.\n",
      "WARNING:__main__:Finished call to '__main__.submit_batch_job' after 54.375(s), this was the 5th time calling it.\n",
      "WARNING:__main__:Finished call to '__main__.submit_batch_job' after 53.016(s), this was the 5th time calling it.\n",
      "WARNING:__main__:Finished call to '__main__.submit_batch_job' after 52.813(s), this was the 5th time calling it.\n",
      "WARNING:__main__:Finished call to '__main__.submit_batch_job' after 57.157(s), this was the 5th time calling it.\n",
      "WARNING:__main__:Finished call to '__main__.submit_batch_job' after 52.688(s), this was the 5th time calling it.\n",
      "WARNING:__main__:Finished call to '__main__.submit_batch_job' after 52.485(s), this was the 5th time calling it.\n",
      "WARNING:__main__:Finished call to '__main__.submit_batch_job' after 51.969(s), this was the 5th time calling it.\n",
      "WARNING:__main__:Finished call to '__main__.submit_batch_job' after 50.781(s), this was the 5th time calling it.\n",
      "WARNING:__main__:Finished call to '__main__.submit_batch_job' after 50.344(s), this was the 5th time calling it.\n",
      "WARNING:__main__:Finished call to '__main__.submit_batch_job' after 49.953(s), this was the 5th time calling it.\n",
      "WARNING:__main__:Finished call to '__main__.submit_batch_job' after 48.375(s), this was the 5th time calling it.\n",
      "WARNING:__main__:Finished call to '__main__.submit_batch_job' after 49.766(s), this was the 5th time calling it.\n",
      "WARNING:__main__:Finished call to '__main__.submit_batch_job' after 48.406(s), this was the 5th time calling it.\n",
      "WARNING:__main__:Finished call to '__main__.submit_batch_job' after 48.922(s), this was the 5th time calling it.\n",
      "WARNING:__main__:Finished call to '__main__.submit_batch_job' after 48.718(s), this was the 5th time calling it.\n",
      "WARNING:__main__:Finished call to '__main__.submit_batch_job' after 48.515(s), this was the 5th time calling it.\n",
      "WARNING:__main__:Finished call to '__main__.submit_batch_job' after 48.671(s), this was the 5th time calling it.\n",
      "WARNING:__main__:Finished call to '__main__.submit_batch_job' after 50.171(s), this was the 5th time calling it.\n",
      "WARNING:__main__:Finished call to '__main__.submit_batch_job' after 49.984(s), this was the 5th time calling it.\n",
      "WARNING:__main__:Finished call to '__main__.submit_batch_job' after 49.797(s), this was the 5th time calling it.\n",
      "WARNING:__main__:Finished call to '__main__.submit_batch_job' after 49.000(s), this was the 5th time calling it.\n",
      "WARNING:__main__:Finished call to '__main__.submit_batch_job' after 49.687(s), this was the 5th time calling it.\n",
      "WARNING:__main__:Finished call to '__main__.submit_batch_job' after 49.625(s), this was the 5th time calling it.\n"
     ]
    },
    {
     "name": "stdout",
     "output_type": "stream",
     "text": [
      "Submit batch for file id: file-9sQT68kJppbanW6aKCEvg2\n",
      "Submit batch for file id: file-2jyAyZiAUjteTukuK35NB6\n",
      "Submit batch for file id: file-QpFW9gwRjSDHyAeUgTpAQV\n",
      "Submit batch for file id: file-BgRPvkoMoqXDM66KTaMxfM\n",
      "Submit batch for file id: file-HLFTuazmdsKCPFdEGwfAYx\n",
      "Submit batch for file id: file-VmtMXGxF7wcXrFcGLDeUZh\n",
      "Submit batch for file id: file-UhbpDxHDRRjVjEu9ssaCGE\n"
     ]
    },
    {
     "name": "stderr",
     "output_type": "stream",
     "text": [
      "WARNING:__main__:Finished call to '__main__.submit_batch_job' after 48.453(s), this was the 5th time calling it.\n",
      "WARNING:__main__:Finished call to '__main__.submit_batch_job' after 48.906(s), this was the 5th time calling it.\n",
      "WARNING:__main__:Finished call to '__main__.submit_batch_job' after 48.359(s), this was the 5th time calling it.\n",
      "WARNING:__main__:Finished call to '__main__.submit_batch_job' after 48.375(s), this was the 5th time calling it.\n",
      "WARNING:__main__:Finished call to '__main__.submit_batch_job' after 50.172(s), this was the 5th time calling it.\n",
      "WARNING:__main__:Finished call to '__main__.submit_batch_job' after 48.625(s), this was the 5th time calling it.\n",
      "WARNING:__main__:Finished call to '__main__.submit_batch_job' after 51.844(s), this was the 5th time calling it.\n"
     ]
    },
    {
     "name": "stdout",
     "output_type": "stream",
     "text": [
      "Submit batch for file id: file-RHmvdYBaqLpxSqMaypSZN6\n",
      "Submit batch for file id: file-DbPeHtJ6fBgf4DZeeUnmNn\n"
     ]
    },
    {
     "name": "stderr",
     "output_type": "stream",
     "text": [
      "WARNING:__main__:Finished call to '__main__.submit_batch_job' after 48.344(s), this was the 5th time calling it.\n",
      "WARNING:__main__:Finished call to '__main__.submit_batch_job' after 66.844(s), this was the 5th time calling it.\n"
     ]
    },
    {
     "name": "stdout",
     "output_type": "stream",
     "text": [
      "Submit batch for file id: file-W6xedKAk9Zwkn5QYeWKs7N\n",
      "Submit batch for file id: file-MDqCg3P15rFoep9KXowkbK\n",
      "Submit batch for file id: file-8MkDuQwXcvJQZPkr1WRpzN\n",
      "Submit batch for file id: file-PdemxDdFGttGVSVpNmnkCU\n",
      "Submit batch for file id: file-VZp9Bu1g5yFU3AmFoqNGRF\n"
     ]
    },
    {
     "name": "stderr",
     "output_type": "stream",
     "text": [
      "WARNING:__main__:Finished call to '__main__.submit_batch_job' after 48.750(s), this was the 5th time calling it.\n",
      "WARNING:__main__:Finished call to '__main__.submit_batch_job' after 48.329(s), this was the 5th time calling it.\n",
      "WARNING:__main__:Finished call to '__main__.submit_batch_job' after 48.344(s), this was the 5th time calling it.\n",
      "WARNING:__main__:Finished call to '__main__.submit_batch_job' after 48.312(s), this was the 5th time calling it.\n",
      "WARNING:__main__:Finished call to '__main__.submit_batch_job' after 48.359(s), this was the 5th time calling it.\n"
     ]
    },
    {
     "name": "stdout",
     "output_type": "stream",
     "text": [
      "Submit batch for file id: file-PHYb6NuxAo4rdUe3sTykUW\n",
      "Submit batch for file id: file-XL1vWF5Dk46HD2WWcsWmiH\n"
     ]
    },
    {
     "name": "stderr",
     "output_type": "stream",
     "text": [
      "WARNING:__main__:Finished call to '__main__.submit_batch_job' after 48.375(s), this was the 5th time calling it.\n",
      "WARNING:__main__:Finished call to '__main__.submit_batch_job' after 48.859(s), this was the 5th time calling it.\n"
     ]
    },
    {
     "name": "stdout",
     "output_type": "stream",
     "text": [
      "Submit batch for file id: file-H9umBQ55SBNkgKD5DyNEoH\n",
      "Submit batch for file id: file-Tdrw4YXSENM3QfrTGQKBF5\n",
      "Submit batch for file id: file-Ja5B2rwvgBqawbXmZyhSLD\n"
     ]
    },
    {
     "name": "stderr",
     "output_type": "stream",
     "text": [
      "WARNING:__main__:Finished call to '__main__.submit_batch_job' after 48.344(s), this was the 5th time calling it.\n",
      "WARNING:__main__:Finished call to '__main__.submit_batch_job' after 48.360(s), this was the 5th time calling it.\n",
      "WARNING:__main__:Finished call to '__main__.submit_batch_job' after 48.375(s), this was the 5th time calling it.\n"
     ]
    },
    {
     "name": "stdout",
     "output_type": "stream",
     "text": [
      "Submit batch for file id: file-JwQADN93qKJfgkZjWg9piw\n",
      "Submit batch for file id: file-2AXx8RGZweKu1H1KYfPtKu\n",
      "Submit batch for file id: file-GK4MBhkxWmJnZ7wyRLpgwy\n"
     ]
    },
    {
     "name": "stderr",
     "output_type": "stream",
     "text": [
      "WARNING:__main__:Finished call to '__main__.submit_batch_job' after 48.391(s), this was the 5th time calling it.\n",
      "WARNING:__main__:Finished call to '__main__.submit_batch_job' after 48.312(s), this was the 5th time calling it.\n",
      "WARNING:__main__:Finished call to '__main__.submit_batch_job' after 48.281(s), this was the 5th time calling it.\n"
     ]
    },
    {
     "name": "stdout",
     "output_type": "stream",
     "text": [
      "Submit batch for file id: file-NPkj8akvzm3xY2Nng3zLhr\n"
     ]
    },
    {
     "name": "stderr",
     "output_type": "stream",
     "text": [
      "WARNING:__main__:Finished call to '__main__.submit_batch_job' after 48.250(s), this was the 5th time calling it.\n"
     ]
    },
    {
     "name": "stdout",
     "output_type": "stream",
     "text": [
      "Submit batch for file id: file-4Dx4o9pBBkbrHBFB754EBT\n",
      "Submit batch for file id: file-3yHx3RxL5TjHBpqJRwuu5W\n"
     ]
    },
    {
     "name": "stderr",
     "output_type": "stream",
     "text": [
      "WARNING:__main__:Finished call to '__main__.submit_batch_job' after 48.297(s), this was the 5th time calling it.\n",
      "WARNING:__main__:Finished call to '__main__.submit_batch_job' after 48.250(s), this was the 5th time calling it.\n"
     ]
    },
    {
     "name": "stdout",
     "output_type": "stream",
     "text": [
      "Submit batch for file id: file-BMKsPEj3CGi5B6TT6xtSgs\n",
      "Submit batch for file id: file-QPhfFGGDm13XYLfLDuDcVo\n"
     ]
    },
    {
     "name": "stderr",
     "output_type": "stream",
     "text": [
      "WARNING:__main__:Finished call to '__main__.submit_batch_job' after 48.203(s), this was the 5th time calling it.\n",
      "WARNING:__main__:Finished call to '__main__.submit_batch_job' after 48.234(s), this was the 5th time calling it.\n"
     ]
    },
    {
     "name": "stdout",
     "output_type": "stream",
     "text": [
      "Submit batch for file id: file-Pewzr3iPfUGNaz6TuxBZRx\n",
      "Submit batch for file id: file-1u9Bt8e2ibrsQJJjdunnYv\n",
      "Submit batch for file id: file-SdD4uAiAPrNcWE3d9qeMQR\n",
      "Submit batch for file id: file-GsjuNhkyucFtemhFqBw9jK\n"
     ]
    },
    {
     "name": "stderr",
     "output_type": "stream",
     "text": [
      "WARNING:__main__:Finished call to '__main__.submit_batch_job' after 48.188(s), this was the 5th time calling it.\n",
      "WARNING:__main__:Finished call to '__main__.submit_batch_job' after 48.156(s), this was the 5th time calling it.\n",
      "WARNING:__main__:Finished call to '__main__.submit_batch_job' after 48.203(s), this was the 5th time calling it.\n",
      "WARNING:__main__:Finished call to '__main__.submit_batch_job' after 48.156(s), this was the 5th time calling it.\n"
     ]
    },
    {
     "name": "stdout",
     "output_type": "stream",
     "text": [
      "Submit batch for file id: file-BLJkpqTaeHRqi71x52mNo2\n",
      "Submit batch for file id: file-EREeKA86cHncJY5T723gTU\n"
     ]
    },
    {
     "name": "stderr",
     "output_type": "stream",
     "text": [
      "WARNING:__main__:Finished call to '__main__.submit_batch_job' after 48.172(s), this was the 5th time calling it.\n",
      "WARNING:__main__:Finished call to '__main__.submit_batch_job' after 48.141(s), this was the 5th time calling it.\n"
     ]
    },
    {
     "name": "stdout",
     "output_type": "stream",
     "text": [
      "Submit batch for file id: file-E9pFaSMNwmSRgnrojGiauK\n",
      "Submit batch for file id: file-CTQq6gZzf8K4m4RTXH33kZ\n",
      "Submit batch for file id: file-T2TohLGKZbNawbsAJeZXXS\n",
      "Submit batch for file id: file-KEfdb4HG8ZHo7v3irUmPrf\n"
     ]
    },
    {
     "name": "stderr",
     "output_type": "stream",
     "text": [
      "WARNING:__main__:Finished call to '__main__.submit_batch_job' after 48.156(s), this was the 5th time calling it.\n",
      "WARNING:__main__:Finished call to '__main__.submit_batch_job' after 48.187(s), this was the 5th time calling it.\n",
      "WARNING:__main__:Finished call to '__main__.submit_batch_job' after 48.218(s), this was the 5th time calling it.\n",
      "WARNING:__main__:Finished call to '__main__.submit_batch_job' after 48.219(s), this was the 5th time calling it.\n"
     ]
    },
    {
     "name": "stdout",
     "output_type": "stream",
     "text": [
      "Submit batch for file id: file-StTXZszJwWqUoK8iCwjRHU\n",
      "Submit batch for file id: file-8YSwsw2WxFpt8r4rTXyoB7\n",
      "Submit batch for file id: file-Kfj1h9e7R5Jpag5oD3KLHs\n",
      "Submit batch for file id: file-92UwsHCxkmjWdH9PXJJy8B\n"
     ]
    },
    {
     "name": "stderr",
     "output_type": "stream",
     "text": [
      "WARNING:__main__:Finished call to '__main__.submit_batch_job' after 48.187(s), this was the 5th time calling it.\n",
      "WARNING:__main__:Finished call to '__main__.submit_batch_job' after 48.187(s), this was the 5th time calling it.\n",
      "WARNING:__main__:Finished call to '__main__.submit_batch_job' after 48.140(s), this was the 5th time calling it.\n",
      "WARNING:__main__:Finished call to '__main__.submit_batch_job' after 48.281(s), this was the 5th time calling it.\n"
     ]
    },
    {
     "name": "stdout",
     "output_type": "stream",
     "text": [
      "Submit batch for file id: file-LnMkodr3RLUicak4j8Hb3t\n",
      "Submit batch for file id: file-7SAcxb657Lmspvy3jPvqEA\n"
     ]
    },
    {
     "name": "stderr",
     "output_type": "stream",
     "text": [
      "WARNING:__main__:Finished call to '__main__.submit_batch_job' after 48.235(s), this was the 5th time calling it.\n",
      "WARNING:__main__:Finished call to '__main__.submit_batch_job' after 75.250(s), this was the 5th time calling it.\n"
     ]
    },
    {
     "name": "stdout",
     "output_type": "stream",
     "text": [
      "Submit batch for file id: file-TGi9iR6bGUYTrFgoCFYSgG\n"
     ]
    },
    {
     "name": "stderr",
     "output_type": "stream",
     "text": [
      "WARNING:__main__:Finished call to '__main__.submit_batch_job' after 48.234(s), this was the 5th time calling it.\n"
     ]
    },
    {
     "name": "stdout",
     "output_type": "stream",
     "text": [
      "Submit batch for file id: file-CjbMGVaVoWuMTk2BaEHNEc\n",
      "Submit batch for file id: file-RpfWUuLgJwpAbjB38WjuHK\n",
      "Submit batch for file id: file-GMmTXCAPUoEQZ5BTKoW7Xr\n",
      "Submit batch for file id: file-ARbcb6daxPvkz321rT8Um2\n"
     ]
    },
    {
     "name": "stderr",
     "output_type": "stream",
     "text": [
      "WARNING:__main__:Finished call to '__main__.submit_batch_job' after 48.438(s), this was the 5th time calling it.\n",
      "WARNING:__main__:Finished call to '__main__.submit_batch_job' after 48.609(s), this was the 5th time calling it.\n",
      "WARNING:__main__:Finished call to '__main__.submit_batch_job' after 48.375(s), this was the 5th time calling it.\n",
      "WARNING:__main__:Finished call to '__main__.submit_batch_job' after 48.281(s), this was the 5th time calling it.\n"
     ]
    },
    {
     "name": "stdout",
     "output_type": "stream",
     "text": [
      "Submit batch for file id: file-FNm2ryVaWgk9CDSPqxaTNK\n",
      "Submit batch for file id: file-EU6DXJX52qVSNfH47NQZFv\n",
      "Submit batch for file id: file-MobUfaYeC9fQtNvY1idKYQ\n",
      "Submit batch for file id: file-48PtGcVKrxLXeRd2Gb6jth\n"
     ]
    },
    {
     "name": "stderr",
     "output_type": "stream",
     "text": [
      "WARNING:__main__:Finished call to '__main__.submit_batch_job' after 48.250(s), this was the 5th time calling it.\n",
      "WARNING:__main__:Finished call to '__main__.submit_batch_job' after 48.437(s), this was the 5th time calling it.\n",
      "WARNING:__main__:Finished call to '__main__.submit_batch_job' after 48.437(s), this was the 5th time calling it.\n",
      "WARNING:__main__:Finished call to '__main__.submit_batch_job' after 48.266(s), this was the 5th time calling it.\n"
     ]
    },
    {
     "name": "stdout",
     "output_type": "stream",
     "text": [
      "Submit batch for file id: file-BMNRxC48UPsUzZdyBD4XPR\n",
      "Submit batch for file id: file-RgyeJcJutqJBZxkhcVTFYn\n"
     ]
    },
    {
     "name": "stderr",
     "output_type": "stream",
     "text": [
      "WARNING:__main__:Finished call to '__main__.submit_batch_job' after 48.438(s), this was the 5th time calling it.\n"
     ]
    },
    {
     "name": "stdout",
     "output_type": "stream",
     "text": [
      "Submit batch for file id: file-7VTpJZr5MySVvJUQ55JQ8J\n",
      "Submit batch for file id: file-WrnJrqEmPukmoVjgfWqDv7\n",
      "Submit batch for file id: file-NThfuvn1fDADecNP8ZYhSR\n",
      "Submit batch for file id: file-LeXQRLFTHd2GMY6naGmM5e\n"
     ]
    },
    {
     "name": "stderr",
     "output_type": "stream",
     "text": [
      "WARNING:__main__:Finished call to '__main__.submit_batch_job' after 48.281(s), this was the 5th time calling it.\n",
      "WARNING:__main__:Finished call to '__main__.submit_batch_job' after 48.219(s), this was the 5th time calling it.\n",
      "WARNING:__main__:Finished call to '__main__.submit_batch_job' after 48.438(s), this was the 5th time calling it.\n",
      "WARNING:__main__:Finished call to '__main__.submit_batch_job' after 48.157(s), this was the 5th time calling it.\n"
     ]
    },
    {
     "name": "stdout",
     "output_type": "stream",
     "text": [
      "Submit batch for file id: file-RziAkibZ371jUpgQTtD9XD\n",
      "Submit batch for file id: file-QYZBaJPyrTsK9HRtkixn1S\n",
      "Submit batch for file id: file-BcYjC8yq24uq3edTcM6sLp\n",
      "Submit batch for file id: file-Tr1jAgWvz4F4pfyJZkQZVo\n",
      "Submit batch for file id: file-M6vqjx7iJS4UnXAssmNU45\n",
      "Submit batch for file id: file-FgP1tfYxnMRQCnHkab4XCC\n"
     ]
    },
    {
     "name": "stderr",
     "output_type": "stream",
     "text": [
      "WARNING:__main__:Finished call to '__main__.submit_batch_job' after 48.156(s), this was the 5th time calling it.\n",
      "WARNING:__main__:Finished call to '__main__.submit_batch_job' after 48.125(s), this was the 5th time calling it.\n",
      "WARNING:__main__:Finished call to '__main__.submit_batch_job' after 48.156(s), this was the 5th time calling it.\n",
      "WARNING:__main__:Finished call to '__main__.submit_batch_job' after 48.063(s), this was the 5th time calling it.\n",
      "WARNING:__main__:Finished call to '__main__.submit_batch_job' after 48.110(s), this was the 5th time calling it.\n",
      "WARNING:__main__:Finished call to '__main__.submit_batch_job' after 48.140(s), this was the 5th time calling it.\n"
     ]
    },
    {
     "name": "stdout",
     "output_type": "stream",
     "text": [
      "Submit batch for file id: file-4ysB3dATxdLtyFmGoMLJbm\n",
      "Submit batch for file id: file-8JjpMKrZycPontb9SVds2h\n",
      "Submit batch for file id: file-FKsNVDiy75uq3y1QEVkgrD\n",
      "Submit batch for file id: file-FwXwCpj511e6CWRvvuSouN\n"
     ]
    },
    {
     "name": "stderr",
     "output_type": "stream",
     "text": [
      "WARNING:__main__:Finished call to '__main__.submit_batch_job' after 48.125(s), this was the 5th time calling it.\n",
      "WARNING:__main__:Finished call to '__main__.submit_batch_job' after 48.188(s), this was the 5th time calling it.\n",
      "WARNING:__main__:Finished call to '__main__.submit_batch_job' after 48.094(s), this was the 5th time calling it.\n"
     ]
    },
    {
     "name": "stdout",
     "output_type": "stream",
     "text": [
      "Submit batch for file id: file-9pmuPCdP8Kzt1xT6bKFBsD\n"
     ]
    },
    {
     "name": "stderr",
     "output_type": "stream",
     "text": [
      "WARNING:__main__:Finished call to '__main__.submit_batch_job' after 48.266(s), this was the 5th time calling it.\n",
      "WARNING:__main__:Finished call to '__main__.submit_batch_job' after 48.266(s), this was the 5th time calling it.\n"
     ]
    },
    {
     "name": "stdout",
     "output_type": "stream",
     "text": [
      "Submit batch for file id: file-QSUvfRzgRr5HpNghTDDWM3\n",
      "Submit batch for file id: file-Wa1JHvq4qG361g9iiWX1N4\n",
      "Submit batch for file id: file-XTF1Vw6ny7HJmK373gw8oR\n",
      "Submit batch for file id: file-MjMR2x32dToxY33RGkjuD7\n",
      "Submit batch for file id: file-AcpkMAU8hZmEdmP8zoi6Qm\n",
      "Submit batch for file id: file-A7iJ41EqiTyJ2VwxDp49qa\n",
      "Submit batch for file id: file-73PzCnFFqM22rsR6CJ9jwd\n",
      "Submit batch for file id: file-U9gTH3LrY4XrxSLfsGvLPM\n",
      "Submit batch for file id: file-TiqaXQszBeB7jLUgJK5zUC\n"
     ]
    },
    {
     "name": "stderr",
     "output_type": "stream",
     "text": [
      "WARNING:__main__:Finished call to '__main__.submit_batch_job' after 48.172(s), this was the 5th time calling it.\n",
      "WARNING:__main__:Finished call to '__main__.submit_batch_job' after 48.172(s), this was the 5th time calling it.\n",
      "WARNING:__main__:Finished call to '__main__.submit_batch_job' after 48.141(s), this was the 5th time calling it.\n",
      "WARNING:__main__:Finished call to '__main__.submit_batch_job' after 48.110(s), this was the 5th time calling it.\n",
      "WARNING:__main__:Finished call to '__main__.submit_batch_job' after 48.156(s), this was the 5th time calling it.\n",
      "WARNING:__main__:Finished call to '__main__.submit_batch_job' after 48.203(s), this was the 5th time calling it.\n",
      "WARNING:__main__:Finished call to '__main__.submit_batch_job' after 48.140(s), this was the 5th time calling it.\n",
      "WARNING:__main__:Finished call to '__main__.submit_batch_job' after 48.109(s), this was the 5th time calling it.\n",
      "WARNING:__main__:Finished call to '__main__.submit_batch_job' after 48.140(s), this was the 5th time calling it.\n",
      "WARNING:__main__:Finished call to '__main__.submit_batch_job' after 48.109(s), this was the 5th time calling it.\n"
     ]
    },
    {
     "name": "stdout",
     "output_type": "stream",
     "text": [
      "Submit batch for file id: file-GmUMG16MtN9gaT5pGe2yUf\n",
      "Submit batch for file id: file-K1PkdGJiqkdhJ4GzKwK9fm\n",
      "Submit batch for file id: file-5xH83SH3nrjj5FUjM8hE5z\n",
      "Submit batch for file id: file-19hekmGRNLex8qyv4jhnFF\n",
      "Submit batch for file id: file-SGoozFukVkQGkRjNpvqu6M\n",
      "Submit batch for file id: file-1RSpMvog5uDCq2UMxVmfbV\n",
      "Submit batch for file id: file-2PNqqZAVUw8DUdW6ow24Nk\n",
      "Submit batch for file id: file-FU68rpH3iXMw4a22fBpRHt\n",
      "Submit batch for file id: file-3NHyHyt4fTK2ypn4GpK54T\n",
      "Submit batch for file id: file-FBpbUrfk5hFRS7qQf2wU7i\n",
      "Submit batch for file id: file-Ng8hKcLpo77rK2QwqX7auq\n",
      "Submit batch for file id: file-KSGYAE72fyQKWzumYLtZLY\n",
      "Submit batch for file id: file-WdG9GHe5CUPVbZx2Uc1dT5\n",
      "Submit batch for file id: file-3M7wi21PaBYezt1qttZRqL\n"
     ]
    },
    {
     "name": "stderr",
     "output_type": "stream",
     "text": [
      "WARNING:__main__:Finished call to '__main__.submit_batch_job' after 48.094(s), this was the 5th time calling it.\n",
      "WARNING:__main__:Finished call to '__main__.submit_batch_job' after 48.109(s), this was the 5th time calling it.\n",
      "WARNING:__main__:Finished call to '__main__.submit_batch_job' after 48.141(s), this was the 5th time calling it.\n",
      "WARNING:__main__:Finished call to '__main__.submit_batch_job' after 48.110(s), this was the 5th time calling it.\n",
      "WARNING:__main__:Finished call to '__main__.submit_batch_job' after 48.062(s), this was the 5th time calling it.\n",
      "WARNING:__main__:Finished call to '__main__.submit_batch_job' after 48.032(s), this was the 5th time calling it.\n",
      "WARNING:__main__:Finished call to '__main__.submit_batch_job' after 48.078(s), this was the 5th time calling it.\n",
      "WARNING:__main__:Finished call to '__main__.submit_batch_job' after 48.109(s), this was the 5th time calling it.\n",
      "WARNING:__main__:Finished call to '__main__.submit_batch_job' after 48.125(s), this was the 5th time calling it.\n",
      "WARNING:__main__:Finished call to '__main__.submit_batch_job' after 48.078(s), this was the 5th time calling it.\n",
      "WARNING:__main__:Finished call to '__main__.submit_batch_job' after 48.094(s), this was the 5th time calling it.\n",
      "WARNING:__main__:Finished call to '__main__.submit_batch_job' after 48.156(s), this was the 5th time calling it.\n",
      "WARNING:__main__:Finished call to '__main__.submit_batch_job' after 48.125(s), this was the 5th time calling it.\n"
     ]
    },
    {
     "name": "stdout",
     "output_type": "stream",
     "text": [
      "Submit batch for file id: file-QpWac8fzcNRqMVD1imLZN2\n",
      "Submit batch for file id: file-9WwhAQQH5C9pjPUdQPS7PH\n",
      "Submit batch for file id: file-VWbofwLYTc2XKR1tWy27Xm\n"
     ]
    },
    {
     "name": "stderr",
     "output_type": "stream",
     "text": [
      "WARNING:__main__:Finished call to '__main__.submit_batch_job' after 48.125(s), this was the 5th time calling it.\n",
      "WARNING:__main__:Finished call to '__main__.submit_batch_job' after 48.094(s), this was the 5th time calling it.\n",
      "WARNING:__main__:Finished call to '__main__.submit_batch_job' after 48.109(s), this was the 5th time calling it.\n"
     ]
    },
    {
     "name": "stdout",
     "output_type": "stream",
     "text": [
      "Submit batch for file id: file-QEEnDUbDpxadhah3wi8xeh\n",
      "Submit batch for file id: file-BJ6SoE2jasuvWdQdQzY6QG\n",
      "Submit batch for file id: file-F2ytrfRktUCSFpBePnJokc\n",
      "Submit batch for file id: file-7NHGfB6gapXMomUNiCV9i7\n",
      "Submit batch for file id: file-WtbAvhtw8owkMrg8aThABy\n",
      "Submit batch for file id: file-9tgGZ5CVwidwqHs6vs7Y2D\n",
      "Submit batch for file id: file-FnbEuh9cXtH1rY17Ahq38a\n",
      "Submit batch for file id: file-GhD1dQH9vwfzVy4DwSAZ6D\n",
      "Submit batch for file id: file-14UtbHeH4gqhTEmMB7B6QX\n",
      "Submit batch for file id: file-MWn3HdNBGpCa3QDR7CiBE6\n"
     ]
    },
    {
     "name": "stderr",
     "output_type": "stream",
     "text": [
      "WARNING:__main__:Finished call to '__main__.submit_batch_job' after 48.109(s), this was the 5th time calling it.\n",
      "WARNING:__main__:Finished call to '__main__.submit_batch_job' after 48.063(s), this was the 5th time calling it.\n",
      "WARNING:__main__:Finished call to '__main__.submit_batch_job' after 48.109(s), this was the 5th time calling it.\n",
      "WARNING:__main__:Finished call to '__main__.submit_batch_job' after 48.125(s), this was the 5th time calling it.\n",
      "WARNING:__main__:Finished call to '__main__.submit_batch_job' after 48.141(s), this was the 5th time calling it.\n",
      "WARNING:__main__:Finished call to '__main__.submit_batch_job' after 48.109(s), this was the 5th time calling it.\n",
      "WARNING:__main__:Finished call to '__main__.submit_batch_job' after 48.078(s), this was the 5th time calling it.\n",
      "WARNING:__main__:Finished call to '__main__.submit_batch_job' after 48.141(s), this was the 5th time calling it.\n",
      "WARNING:__main__:Finished call to '__main__.submit_batch_job' after 48.141(s), this was the 5th time calling it.\n",
      "WARNING:__main__:Finished call to '__main__.submit_batch_job' after 48.125(s), this was the 5th time calling it.\n"
     ]
    },
    {
     "name": "stdout",
     "output_type": "stream",
     "text": [
      "Submit batch for file id: file-452kpXTmFLdXh9aRAfhH3A\n",
      "Submit batch for file id: file-Dt7PZkigoGW6CSiksJWKdx\n",
      "Submit batch for file id: file-C4wp4VMHepZpHQ85ouox9U\n",
      "Submit batch for file id: file-DyynCjH5cKoz3hSsmNynvY\n"
     ]
    },
    {
     "name": "stderr",
     "output_type": "stream",
     "text": [
      "WARNING:__main__:Finished call to '__main__.submit_batch_job' after 48.140(s), this was the 5th time calling it.\n",
      "WARNING:__main__:Finished call to '__main__.submit_batch_job' after 48.140(s), this was the 5th time calling it.\n",
      "WARNING:__main__:Finished call to '__main__.submit_batch_job' after 48.016(s), this was the 5th time calling it.\n",
      "WARNING:__main__:Finished call to '__main__.submit_batch_job' after 48.093(s), this was the 5th time calling it.\n"
     ]
    },
    {
     "name": "stdout",
     "output_type": "stream",
     "text": [
      "Submit batch for file id: file-AMgw3d9pcadAK8ZnQRGSDs\n"
     ]
    },
    {
     "name": "stderr",
     "output_type": "stream",
     "text": [
      "WARNING:__main__:Finished call to '__main__.submit_batch_job' after 48.078(s), this was the 5th time calling it.\n"
     ]
    },
    {
     "name": "stdout",
     "output_type": "stream",
     "text": [
      "Submit batch for file id: file-1uFDWcaPVM8ChELTmdJCcG\n"
     ]
    },
    {
     "name": "stderr",
     "output_type": "stream",
     "text": [
      "WARNING:__main__:Finished call to '__main__.submit_batch_job' after 48.141(s), this was the 5th time calling it.\n"
     ]
    },
    {
     "name": "stdout",
     "output_type": "stream",
     "text": [
      "Submit batch for file id: file-9Es3UigCPuAWFRi3ST68f2\n",
      "Submit batch for file id: file-UeP82H3VUMSuBxtVeLZBFF\n"
     ]
    },
    {
     "name": "stderr",
     "output_type": "stream",
     "text": [
      "WARNING:__main__:Finished call to '__main__.submit_batch_job' after 48.140(s), this was the 5th time calling it.\n",
      "WARNING:__main__:Finished call to '__main__.submit_batch_job' after 48.125(s), this was the 5th time calling it.\n",
      "WARNING:__main__:Finished call to '__main__.submit_batch_job' after 53.125(s), this was the 5th time calling it.\n",
      "WARNING:__main__:Finished call to '__main__.submit_batch_job' after 83.656(s), this was the 5th time calling it.\n",
      "WARNING:__main__:Finished call to '__main__.submit_batch_job' after 70.750(s), this was the 5th time calling it.\n"
     ]
    },
    {
     "name": "stdout",
     "output_type": "stream",
     "text": [
      "Submit batch for file id: file-MqjpxfVDJHZXuRTmUzXggp\n",
      "Submit batch for file id: file-Sfn6y2g3SKoBBdu7meGb4K\n"
     ]
    },
    {
     "name": "stderr",
     "output_type": "stream",
     "text": [
      "WARNING:__main__:Finished call to '__main__.submit_batch_job' after 113.047(s), this was the 6th time calling it.\n",
      "WARNING:__main__:Finished call to '__main__.submit_batch_job' after 114.375(s), this was the 6th time calling it.\n"
     ]
    },
    {
     "name": "stdout",
     "output_type": "stream",
     "text": [
      "Submit batch for file id: file-4WD4NrziSJua7SdRc3k17V\n",
      "Submit batch for file id: file-DCtZcAb1kQNse8E5BdLLSt\n"
     ]
    },
    {
     "name": "stderr",
     "output_type": "stream",
     "text": [
      "WARNING:__main__:Finished call to '__main__.submit_batch_job' after 102.813(s), this was the 6th time calling it.\n",
      "WARNING:__main__:Finished call to '__main__.submit_batch_job' after 99.172(s), this was the 6th time calling it.\n"
     ]
    },
    {
     "name": "stdout",
     "output_type": "stream",
     "text": [
      "Submit batch for file id: file-QtbZL6tHmRzD1KySbRSojf\n"
     ]
    },
    {
     "name": "stderr",
     "output_type": "stream",
     "text": [
      "WARNING:__main__:Finished call to '__main__.submit_batch_job' after 97.141(s), this was the 6th time calling it.\n"
     ]
    },
    {
     "name": "stdout",
     "output_type": "stream",
     "text": [
      "Submit batch for file id: file-4iELHf65RHG46TRJG97A5m\n",
      "Submit batch for file id: file-UhaPhcmrzRe6AriJi7D8Xn\n",
      "Submit batch for file id: file-ThUzQnduMpC1Uok36nmaua\n"
     ]
    },
    {
     "name": "stderr",
     "output_type": "stream",
     "text": [
      "WARNING:__main__:Finished call to '__main__.submit_batch_job' after 128.250(s), this was the 6th time calling it.\n",
      "WARNING:__main__:Finished call to '__main__.submit_batch_job' after 128.671(s), this was the 6th time calling it.\n"
     ]
    },
    {
     "name": "stdout",
     "output_type": "stream",
     "text": [
      "Submit batch for file id: file-H4UcdjvzFU3NSvLfV9Lz91\n",
      "Submit batch for file id: file-3fmNDSb9bejhsKQQVEJkeG\n",
      "Submit batch for file id: file-FqRbp1o9UcMyS43rtgozVF\n",
      "Submit batch for file id: file-1NMVxFsL8X9gXuXCd1M7aw\n"
     ]
    },
    {
     "name": "stderr",
     "output_type": "stream",
     "text": [
      "WARNING:__main__:Finished call to '__main__.submit_batch_job' after 124.906(s), this was the 6th time calling it.\n",
      "WARNING:__main__:Finished call to '__main__.submit_batch_job' after 126.516(s), this was the 6th time calling it.\n"
     ]
    },
    {
     "name": "stdout",
     "output_type": "stream",
     "text": [
      "Submit batch for file id: file-QxKgbxPLvdvGzS4VTHTkLN\n",
      "Submit batch for file id: file-GeQEbs1FumYAywStuHXGz2\n",
      "Submit batch for file id: file-GzunAg1Jw91Jwt7gBFJBHV\n",
      "Submit batch for file id: file-7xLX9EvuFRC8z5d1BkZmwg\n",
      "Submit batch for file id: file-5gqNiwo1LRu7sVuKnG8kaU\n",
      "Submit batch for file id: file-CzMBcRbrD3bdGSTfdLPbkJ\n"
     ]
    },
    {
     "name": "stderr",
     "output_type": "stream",
     "text": [
      "WARNING:__main__:Finished call to '__main__.submit_batch_job' after 125.735(s), this was the 6th time calling it.\n",
      "WARNING:__main__:Finished call to '__main__.submit_batch_job' after 124.640(s), this was the 6th time calling it.\n",
      "WARNING:__main__:Finished call to '__main__.submit_batch_job' after 123.843(s), this was the 6th time calling it.\n"
     ]
    },
    {
     "name": "stdout",
     "output_type": "stream",
     "text": [
      "Submit batch for file id: file-1isXv9KCKi8aFR2XJdh1rr\n",
      "Submit batch for file id: file-LBdJ7yEGUcrf9PUqaYEYYr\n",
      "Submit batch for file id: file-TRjcj5TSPkxG7Zuu5SiC4X\n",
      "Submit batch for file id: file-Q3nAh4mS6MAXDKjkWrbYBv\n",
      "Submit batch for file id: file-PArMLLVcLezL2Yyv5an18b\n"
     ]
    },
    {
     "name": "stderr",
     "output_type": "stream",
     "text": [
      "WARNING:__main__:Finished call to '__main__.submit_batch_job' after 124.859(s), this was the 6th time calling it.\n",
      "WARNING:__main__:Finished call to '__main__.submit_batch_job' after 123.641(s), this was the 6th time calling it.\n",
      "WARNING:__main__:Finished call to '__main__.submit_batch_job' after 123.141(s), this was the 6th time calling it.\n",
      "WARNING:__main__:Finished call to '__main__.submit_batch_job' after 124.718(s), this was the 6th time calling it.\n",
      "WARNING:__main__:Finished call to '__main__.submit_batch_job' after 124.437(s), this was the 6th time calling it.\n",
      "WARNING:__main__:Finished call to '__main__.submit_batch_job' after 123.250(s), this was the 6th time calling it.\n",
      "WARNING:__main__:Finished call to '__main__.submit_batch_job' after 124.047(s), this was the 6th time calling it.\n"
     ]
    },
    {
     "name": "stdout",
     "output_type": "stream",
     "text": [
      "Submit batch for file id: file-MKjjGe4CJK4cEyuAZP17ik\n",
      "Submit batch for file id: file-1fDq8cz6i6fWC9p4riYfn8\n",
      "Submit batch for file id: file-Fprg6acBD5mfwJRKg7qhBU\n",
      "Submit batch for file id: file-2fXDtEf9HWQp16vYJRKbW7\n",
      "Submit batch for file id: file-8UAk9kX5rpzBaw4XdxDPHC\n",
      "Submit batch for file id: file-Khcv7WqDiZQWtK29NyAVHK\n",
      "Submit batch for file id: file-Dj4JPGJmPNbtDFrc7PvEtb\n",
      "Submit batch for file id: file-KZjZHp1tuQw7CjVSefKgH8\n",
      "Submit batch for file id: file-Q77rQfKqLTy7JdP6B53MXR\n",
      "Submit batch for file id: file-KGpSmjoPL3664QVP2y99ee\n"
     ]
    },
    {
     "name": "stderr",
     "output_type": "stream",
     "text": [
      "WARNING:__main__:Finished call to '__main__.submit_batch_job' after 124.250(s), this was the 6th time calling it.\n",
      "WARNING:__main__:Finished call to '__main__.submit_batch_job' after 123.750(s), this was the 6th time calling it.\n",
      "WARNING:__main__:Finished call to '__main__.submit_batch_job' after 123.688(s), this was the 6th time calling it.\n",
      "WARNING:__main__:Finished call to '__main__.submit_batch_job' after 96.828(s), this was the 6th time calling it.\n",
      "WARNING:__main__:Finished call to '__main__.submit_batch_job' after 122.937(s), this was the 6th time calling it.\n",
      "WARNING:__main__:Finished call to '__main__.submit_batch_job' after 96.735(s), this was the 6th time calling it.\n",
      "WARNING:__main__:Finished call to '__main__.submit_batch_job' after 96.687(s), this was the 6th time calling it.\n",
      "WARNING:__main__:Finished call to '__main__.submit_batch_job' after 122.891(s), this was the 6th time calling it.\n",
      "WARNING:__main__:Finished call to '__main__.submit_batch_job' after 123.016(s), this was the 6th time calling it.\n",
      "WARNING:__main__:Finished call to '__main__.submit_batch_job' after 123.281(s), this was the 6th time calling it.\n"
     ]
    },
    {
     "name": "stdout",
     "output_type": "stream",
     "text": [
      "Submit batch for file id: file-L18uPjHMMmG7dko5B4TDvL\n",
      "Submit batch for file id: file-34GkneJBJey5PxfHBjf76d\n",
      "Submit batch for file id: file-5HwBpd5vU8mbS5isXXWtHf\n",
      "Submit batch for file id: file-6LX5UEFn5XPUWdDQowifhb\n",
      "Submit batch for file id: file-EKGwz4JDNFvAdYi2kiWPs1\n",
      "Submit batch for file id: file-Fo5ksX8z6SbdXXNTLTH13J\n",
      "Submit batch for file id: file-UmdSKAtbz7mytCsPcw4ytH\n"
     ]
    },
    {
     "name": "stderr",
     "output_type": "stream",
     "text": [
      "WARNING:__main__:Finished call to '__main__.submit_batch_job' after 123.750(s), this was the 6th time calling it.\n",
      "WARNING:__main__:Finished call to '__main__.submit_batch_job' after 122.968(s), this was the 6th time calling it.\n",
      "WARNING:__main__:Finished call to '__main__.submit_batch_job' after 122.625(s), this was the 6th time calling it.\n",
      "WARNING:__main__:Finished call to '__main__.submit_batch_job' after 122.469(s), this was the 6th time calling it.\n",
      "WARNING:__main__:Finished call to '__main__.submit_batch_job' after 122.282(s), this was the 6th time calling it.\n",
      "WARNING:__main__:Finished call to '__main__.submit_batch_job' after 122.234(s), this was the 6th time calling it.\n",
      "WARNING:__main__:Finished call to '__main__.submit_batch_job' after 122.328(s), this was the 6th time calling it.\n",
      "WARNING:__main__:Finished call to '__main__.submit_batch_job' after 122.375(s), this was the 6th time calling it.\n",
      "WARNING:__main__:Finished call to '__main__.submit_batch_job' after 122.344(s), this was the 6th time calling it.\n",
      "WARNING:__main__:Finished call to '__main__.submit_batch_job' after 123.062(s), this was the 6th time calling it.\n",
      "WARNING:__main__:Finished call to '__main__.submit_batch_job' after 122.250(s), this was the 6th time calling it.\n"
     ]
    },
    {
     "name": "stdout",
     "output_type": "stream",
     "text": [
      "Submit batch for file id: file-KvNYFYP6LV3vBkLhfEteq9\n",
      "Submit batch for file id: file-6hwGTQJkvpNby3vCRzdi8r\n",
      "Submit batch for file id: file-FX3XzucfTo4aRreRY5vW5G\n",
      "Submit batch for file id: file-Weof6ATP6ra6AmywrA4ETG\n",
      "Submit batch for file id: file-L3rBpKhbj1kT17QdawZKVx\n",
      "Submit batch for file id: file-R2re44U418x6UDTCX1jeRS\n",
      "Submit batch for file id: file-5tCKkf9LDpsN5aoKguJHGb\n",
      "Submit batch for file id: file-BrP9mvdjjaEE4uoPjKTy8e\n",
      "Submit batch for file id: file-RfqpSJZ8byFyaWm12Aw7EJ\n",
      "Submit batch for file id: file-2GktNG8Fgh57fMM32WsWUc\n",
      "Submit batch for file id: file-9PzdXV5aKUbgUEnvjVBRc8\n"
     ]
    },
    {
     "name": "stderr",
     "output_type": "stream",
     "text": [
      "WARNING:__main__:Finished call to '__main__.submit_batch_job' after 122.203(s), this was the 6th time calling it.\n",
      "WARNING:__main__:Finished call to '__main__.submit_batch_job' after 122.187(s), this was the 6th time calling it.\n",
      "WARNING:__main__:Finished call to '__main__.submit_batch_job' after 122.281(s), this was the 6th time calling it.\n",
      "WARNING:__main__:Finished call to '__main__.submit_batch_job' after 122.203(s), this was the 6th time calling it.\n",
      "WARNING:__main__:Finished call to '__main__.submit_batch_job' after 122.218(s), this was the 6th time calling it.\n",
      "WARNING:__main__:Finished call to '__main__.submit_batch_job' after 122.125(s), this was the 6th time calling it.\n",
      "WARNING:__main__:Finished call to '__main__.submit_batch_job' after 121.703(s), this was the 6th time calling it.\n",
      "WARNING:__main__:Finished call to '__main__.submit_batch_job' after 124.172(s), this was the 6th time calling it.\n",
      "WARNING:__main__:Finished call to '__main__.submit_batch_job' after 121.594(s), this was the 6th time calling it.\n",
      "WARNING:__main__:Finished call to '__main__.submit_batch_job' after 96.765(s), this was the 6th time calling it.\n",
      "WARNING:__main__:Finished call to '__main__.submit_batch_job' after 121.640(s), this was the 6th time calling it.\n"
     ]
    },
    {
     "name": "stdout",
     "output_type": "stream",
     "text": [
      "Submit batch for file id: file-HQBzF5n1VF7pqCBgiULxp8\n",
      "Submit batch for file id: file-GoXRYrJMdnER63ECcb1DUw\n",
      "Submit batch for file id: file-VXUmzc7fTWyzxoUPJ9uCGJ\n",
      "Submit batch for file id: file-6w6qWFHB46Q5bz6yNLrpfT\n",
      "Submit batch for file id: file-WVUgq3Pzipr9EmVoe6epU5\n",
      "Submit batch for file id: file-8svkkDGm6DstHAhtxKWN4d\n",
      "Submit batch for file id: file-1AQYB4Rc2rmE784MmJxRK5\n",
      "Submit batch for file id: file-BqLuoDMp7RDSL3vg4Zme5E\n",
      "Submit batch for file id: file-YLn8FVmakzjTvym4ZjDHkx\n",
      "Submit batch for file id: file-Y93zkbzQ4n9ZrAkSi1o5f4\n"
     ]
    },
    {
     "name": "stderr",
     "output_type": "stream",
     "text": [
      "WARNING:__main__:Finished call to '__main__.submit_batch_job' after 121.094(s), this was the 6th time calling it.\n",
      "WARNING:__main__:Finished call to '__main__.submit_batch_job' after 121.500(s), this was the 6th time calling it.\n",
      "WARNING:__main__:Finished call to '__main__.submit_batch_job' after 121.407(s), this was the 6th time calling it.\n",
      "WARNING:__main__:Finished call to '__main__.submit_batch_job' after 121.360(s), this was the 6th time calling it.\n",
      "WARNING:__main__:Finished call to '__main__.submit_batch_job' after 121.593(s), this was the 6th time calling it.\n",
      "WARNING:__main__:Finished call to '__main__.submit_batch_job' after 121.391(s), this was the 6th time calling it.\n",
      "WARNING:__main__:Finished call to '__main__.submit_batch_job' after 120.907(s), this was the 6th time calling it.\n",
      "WARNING:__main__:Finished call to '__main__.submit_batch_job' after 120.688(s), this was the 6th time calling it.\n",
      "WARNING:__main__:Finished call to '__main__.submit_batch_job' after 121.000(s), this was the 6th time calling it.\n"
     ]
    },
    {
     "name": "stdout",
     "output_type": "stream",
     "text": [
      "Submit batch for file id: file-CXDGiUgoYice4vcgoJyvtF\n",
      "Submit batch for file id: file-39vzF4LaqdajCSPfygAteN\n",
      "Submit batch for file id: file-9e7SdTfz6YxMvai4wzwZsm\n",
      "Submit batch for file id: file-CVuJGzm57nnPkHVotMCYMz\n",
      "Submit batch for file id: file-JWMMg384xxLy7Jjtznt7Fp\n",
      "Submit batch for file id: file-Dz7fYP8ujbF3Y6HXTpCSPD\n",
      "Submit batch for file id: file-W8CE6Ej9oUNWhDaC4kipuZ\n",
      "Submit batch for file id: file-2gEWPEqJvtVEy1XQm9gEJh\n",
      "Submit batch for file id: file-MsPvyzEpQnZFTeXbQ2c1sF\n",
      "Submit batch for file id: file-R7zwdPKreYKoKpGqgWYJMh\n",
      "Submit batch for file id: file-6vZzfNQmAZ5iMUNFdt2sMz\n",
      "Submit batch for file id: file-4LZVubFvWedm1goW8RqwZx\n"
     ]
    },
    {
     "name": "stderr",
     "output_type": "stream",
     "text": [
      "WARNING:__main__:Finished call to '__main__.submit_batch_job' after 121.906(s), this was the 6th time calling it.\n",
      "WARNING:__main__:Finished call to '__main__.submit_batch_job' after 120.531(s), this was the 6th time calling it.\n",
      "WARNING:__main__:Finished call to '__main__.submit_batch_job' after 120.937(s), this was the 6th time calling it.\n",
      "WARNING:__main__:Finished call to '__main__.submit_batch_job' after 120.359(s), this was the 6th time calling it.\n",
      "WARNING:__main__:Finished call to '__main__.submit_batch_job' after 120.453(s), this was the 6th time calling it.\n",
      "WARNING:__main__:Finished call to '__main__.submit_batch_job' after 120.188(s), this was the 6th time calling it.\n",
      "WARNING:__main__:Finished call to '__main__.submit_batch_job' after 119.515(s), this was the 6th time calling it.\n"
     ]
    },
    {
     "name": "stdout",
     "output_type": "stream",
     "text": [
      "Submit batch for file id: file-Q5euvqtoYoWQmoJUCvvNyu\n",
      "Submit batch for file id: file-8hhtBWdyi9VfpM67FuJpWK\n",
      "Submit batch for file id: file-MPazBAFopFUQ3TGzaQCvUV\n",
      "Submit batch for file id: file-TZoTML1cBjTi2nZxNtWTmj\n",
      "Submit batch for file id: file-XQ7TSQWCDhBiiVZJkdscMM\n",
      "Submit batch for file id: file-QbzTdYT5yRo5wdB8YPWCCu\n",
      "Submit batch for file id: file-JCvBVLSPxu88FrHjhv7MWg\n",
      "Submit batch for file id: file-2VNRAfJfE8uLJeBv68nkcr\n",
      "Submit batch for file id: file-HJFDWCvghb97uFooa2WPUK\n",
      "Submit batch for file id: file-RhT1MjMfQahCFq5EMzqfwK\n",
      "Submit batch for file id: file-JCA6qGgzpDMSisGBR7ZZiD\n",
      "Submit batch for file id: file-6awy19xdcBWtTJhAP9tjxT\n",
      "Submit batch for file id: file-7P2Y5dijJGmAYZrEEGSUPc\n"
     ]
    },
    {
     "name": "stderr",
     "output_type": "stream",
     "text": [
      "WARNING:__main__:Finished call to '__main__.submit_batch_job' after 119.922(s), this was the 6th time calling it.\n",
      "WARNING:__main__:Finished call to '__main__.submit_batch_job' after 119.453(s), this was the 6th time calling it.\n",
      "WARNING:__main__:Finished call to '__main__.submit_batch_job' after 120.172(s), this was the 6th time calling it.\n",
      "WARNING:__main__:Finished call to '__main__.submit_batch_job' after 121.485(s), this was the 6th time calling it.\n",
      "WARNING:__main__:Finished call to '__main__.submit_batch_job' after 120.063(s), this was the 6th time calling it.\n",
      "WARNING:__main__:Finished call to '__main__.submit_batch_job' after 118.969(s), this was the 6th time calling it.\n",
      "WARNING:__main__:Finished call to '__main__.submit_batch_job' after 118.984(s), this was the 6th time calling it.\n",
      "WARNING:__main__:Finished call to '__main__.submit_batch_job' after 119.000(s), this was the 6th time calling it.\n",
      "WARNING:__main__:Finished call to '__main__.submit_batch_job' after 120.047(s), this was the 6th time calling it.\n",
      "WARNING:__main__:Finished call to '__main__.submit_batch_job' after 119.016(s), this was the 6th time calling it.\n",
      "WARNING:__main__:Finished call to '__main__.submit_batch_job' after 96.750(s), this was the 6th time calling it.\n",
      "WARNING:__main__:Finished call to '__main__.submit_batch_job' after 121.734(s), this was the 6th time calling it.\n"
     ]
    },
    {
     "name": "stdout",
     "output_type": "stream",
     "text": [
      "Submit batch for file id: file-9Xvqt7PtFSfThGStUCiedy\n",
      "Submit batch for file id: file-SeeGpHaTU54Pn5vfJs5i7a\n",
      "Submit batch for file id: file-DxcRgz27AcV6rBZ55hA2L6\n",
      "Submit batch for file id: file-EZHqfST1ymFHUiPRLEcAVo\n",
      "Submit batch for file id: file-PG6d28LBLJVUhFFqb9y3it\n",
      "Submit batch for file id: file-AH2aU4FJmDZDMzjGLSfnA6\n"
     ]
    },
    {
     "name": "stderr",
     "output_type": "stream",
     "text": [
      "WARNING:__main__:Finished call to '__main__.submit_batch_job' after 118.703(s), this was the 6th time calling it.\n",
      "WARNING:__main__:Finished call to '__main__.submit_batch_job' after 118.562(s), this was the 6th time calling it.\n",
      "WARNING:__main__:Finished call to '__main__.submit_batch_job' after 117.969(s), this was the 6th time calling it.\n",
      "WARNING:__main__:Finished call to '__main__.submit_batch_job' after 121.360(s), this was the 6th time calling it.\n",
      "WARNING:__main__:Finished call to '__main__.submit_batch_job' after 118.656(s), this was the 6th time calling it.\n",
      "WARNING:__main__:Finished call to '__main__.submit_batch_job' after 117.844(s), this was the 6th time calling it.\n",
      "WARNING:__main__:Finished call to '__main__.submit_batch_job' after 120.469(s), this was the 6th time calling it.\n",
      "WARNING:__main__:Finished call to '__main__.submit_batch_job' after 118.016(s), this was the 6th time calling it.\n",
      "WARNING:__main__:Finished call to '__main__.submit_batch_job' after 117.641(s), this was the 6th time calling it.\n",
      "WARNING:__main__:Finished call to '__main__.submit_batch_job' after 118.828(s), this was the 6th time calling it.\n",
      "WARNING:__main__:Finished call to '__main__.submit_batch_job' after 119.000(s), this was the 6th time calling it.\n"
     ]
    },
    {
     "name": "stdout",
     "output_type": "stream",
     "text": [
      "Submit batch for file id: file-Gq1ZtdRHmkxbKX3uqBmHHa\n",
      "Submit batch for file id: file-AvYasrXaMb2PaUBr7KsUuj\n",
      "Submit batch for file id: file-DLj9HK5z54wRKkfGkM2BDA\n",
      "Submit batch for file id: file-6XD8DC3eDgnMiYMmeaf7tM\n",
      "Submit batch for file id: file-5JP5KfPcU4H7pfwYVeuGzf\n",
      "Submit batch for file id: file-EPiN4kAQni5obnyRf37yJX\n",
      "Submit batch for file id: file-WtCzUQsVSPL1Y65sNJEc7g\n",
      "Submit batch for file id: file-Kn8BaWsVXTonkcGkWFHnJR\n",
      "Submit batch for file id: file-AWLD8ue4aEtao94hJzhmRo\n",
      "Submit batch for file id: file-PBCWt6VC4PdusBVdypB6Kk\n",
      "Submit batch for file id: file-UJd11Zaj3nUhDRk5PnBdKb\n",
      "Submit batch for file id: file-D2AGbCD8rynDVymHhZD4Uk\n",
      "Submit batch for file id: file-Mt67XkaLqcyKF6b5UKwDAi\n",
      "Submit batch for file id: file-FB6JmWT9ujn1oyNeHZEc1w\n",
      "Submit batch for file id: file-88MsoJMotSSdgMZZQHmUsf\n",
      "Submit batch for file id: file-GbeuaWnD78VE2N4cW2WCJA\n"
     ]
    },
    {
     "name": "stderr",
     "output_type": "stream",
     "text": [
      "WARNING:__main__:Finished call to '__main__.submit_batch_job' after 118.141(s), this was the 6th time calling it.\n",
      "WARNING:__main__:Finished call to '__main__.submit_batch_job' after 117.281(s), this was the 6th time calling it.\n",
      "WARNING:__main__:Finished call to '__main__.submit_batch_job' after 117.578(s), this was the 6th time calling it.\n",
      "WARNING:__main__:Finished call to '__main__.submit_batch_job' after 119.453(s), this was the 6th time calling it.\n",
      "WARNING:__main__:Finished call to '__main__.submit_batch_job' after 117.125(s), this was the 6th time calling it.\n",
      "WARNING:__main__:Finished call to '__main__.submit_batch_job' after 117.469(s), this was the 6th time calling it.\n",
      "WARNING:__main__:Finished call to '__main__.submit_batch_job' after 117.750(s), this was the 6th time calling it.\n",
      "WARNING:__main__:Finished call to '__main__.submit_batch_job' after 117.063(s), this was the 6th time calling it.\n",
      "WARNING:__main__:Finished call to '__main__.submit_batch_job' after 117.469(s), this was the 6th time calling it.\n",
      "WARNING:__main__:Finished call to '__main__.submit_batch_job' after 117.469(s), this was the 6th time calling it.\n",
      "WARNING:__main__:Finished call to '__main__.submit_batch_job' after 117.547(s), this was the 6th time calling it.\n",
      "WARNING:__main__:Finished call to '__main__.submit_batch_job' after 117.063(s), this was the 6th time calling it.\n",
      "WARNING:__main__:Finished call to '__main__.submit_batch_job' after 119.094(s), this was the 6th time calling it.\n",
      "WARNING:__main__:Finished call to '__main__.submit_batch_job' after 117.985(s), this was the 6th time calling it.\n",
      "WARNING:__main__:Finished call to '__main__.submit_batch_job' after 116.953(s), this was the 6th time calling it.\n"
     ]
    },
    {
     "name": "stdout",
     "output_type": "stream",
     "text": [
      "Submit batch for file id: file-3Kd917ker4zbzSVRkHGpwC\n",
      "Submit batch for file id: file-UCapekh7L3faz494LsR6rL\n",
      "Submit batch for file id: file-KKr2PrCzPicACpGM3jmm2N\n",
      "Submit batch for file id: file-1TtRzxoA72k9yC8pbsv89H\n",
      "Submit batch for file id: file-9neMc7wz17qcqiYswev27L\n",
      "Submit batch for file id: file-QxNNDkW5S234Y6vg4Jpk4g\n",
      "Submit batch for file id: file-1DC97oBbDR9b9L6J9xuwUN\n",
      "Submit batch for file id: file-WQ1hCJVagY6hFQBNXXWeqU\n",
      "Submit batch for file id: file-8n8TtNJ4QU7iTjLAmwu4KD\n",
      "Submit batch for file id: file-GQnoTVCR7VndXcAVBwdm6E\n",
      "Submit batch for file id: file-LjX7A3bhUk5aC3iwdrnvSU\n",
      "Submit batch for file id: file-H2DKafEw7tpPqYFRKAPsAS\n",
      "Submit batch for file id: file-HQy3KopReGQ4XxSRtr8zFf\n",
      "Submit batch for file id: file-XARqa9WH45zwwwkhgtx7y3\n",
      "Submit batch for file id: file-4cVeyM24GbrS97QtpnzkyY\n",
      "Submit batch for file id: file-VL7eoJqsPh3JttMQFXxcX2\n"
     ]
    },
    {
     "name": "stderr",
     "output_type": "stream",
     "text": [
      "WARNING:__main__:Finished call to '__main__.submit_batch_job' after 117.015(s), this was the 6th time calling it.\n",
      "WARNING:__main__:Finished call to '__main__.submit_batch_job' after 115.203(s), this was the 6th time calling it.\n",
      "WARNING:__main__:Finished call to '__main__.submit_batch_job' after 116.015(s), this was the 6th time calling it.\n",
      "WARNING:__main__:Finished call to '__main__.submit_batch_job' after 114.968(s), this was the 6th time calling it.\n",
      "WARNING:__main__:Finished call to '__main__.submit_batch_job' after 116.265(s), this was the 6th time calling it.\n",
      "WARNING:__main__:Finished call to '__main__.submit_batch_job' after 117.187(s), this was the 6th time calling it.\n",
      "WARNING:__main__:Finished call to '__main__.submit_batch_job' after 115.593(s), this was the 6th time calling it.\n",
      "WARNING:__main__:Finished call to '__main__.submit_batch_job' after 96.937(s), this was the 6th time calling it.\n",
      "WARNING:__main__:Finished call to '__main__.submit_batch_job' after 116.734(s), this was the 6th time calling it.\n",
      "WARNING:__main__:Finished call to '__main__.submit_batch_job' after 117.328(s), this was the 6th time calling it.\n"
     ]
    },
    {
     "name": "stdout",
     "output_type": "stream",
     "text": [
      "Submit batch for file id: file-GbbG95fXcUuHLXUkU7UBSv\n",
      "Submit batch for file id: file-Y86pUud7eLJQ23JnuF7EXi\n",
      "Submit batch for file id: file-UmAcePcSKBczWfVhzi1CUc\n",
      "Submit batch for file id: file-BrHvWdhETb79rkE6Vwdp9p\n",
      "Submit batch for file id: file-WiP7RB887ZGpFxsSbnTxF3\n",
      "Submit batch for file id: file-9LBdPJkBAZbumxZZsPiT4M\n",
      "Submit batch for file id: file-ASpVXbwd6tMHgsHms8CZ7f\n",
      "Submit batch for file id: file-KeZXfSr2AaLQ9hr4KbRYYu\n",
      "Submit batch for file id: file-3M43s57LXh7Njd2aFcmoGU\n",
      "Submit batch for file id: file-1weuXVVN2icyC92PXCefVY\n",
      "Submit batch for file id: file-TaBS4jG93wG8KnrhnxvsPu\n",
      "Submit batch for file id: file-RZQfxZurqFWDwkuqyviNxb\n",
      "Submit batch for file id: file-FfLu7p8zRRdeEV5cMYAFpq\n",
      "Submit batch for file id: file-7L78h4LMtLn4ZjS8gzLcbn\n",
      "Submit batch for file id: file-2Ltmg1q16gSE3FXtvNN2BS\n",
      "Submit batch for file id: file-Mrg8Mcgi9NLXkhvQF2NGxw\n",
      "Submit batch for file id: file-EHeEmhBkMdoZa9L25EaVrn\n",
      "Submit batch for file id: file-LijNRbyaSRL7Q79o6MCkuT\n",
      "Submit batch for file id: file-MrKgNiAENA9k7TgtyTW5XE\n",
      "Submit batch for file id: file-84rTiET5w3U9WSYu4cT85m\n",
      "Submit batch for file id: file-K2y1e5jtZZmttopmiskf2m\n",
      "Submit batch for file id: file-Hrggj2pPCH18WQUrtKweGp\n",
      "Submit batch for file id: file-8STC8RdFtBqvH1PUzJXFj9\n",
      "Submit batch for file id: file-MKsm3ivsfGq29MXMMLossD\n",
      "Submit batch for file id: file-QuTXhwbkuMfzRah2zzV8xq\n",
      "Submit batch for file id: file-XpA2Tv4pKi6Zk1UbobqKBE\n",
      "Submit batch for file id: file-F9yZa2Se6WBcXz4ZKxpKJa\n"
     ]
    },
    {
     "name": "stderr",
     "output_type": "stream",
     "text": [
      "WARNING:__main__:Finished call to '__main__.submit_batch_job' after 117.172(s), this was the 6th time calling it.\n",
      "WARNING:__main__:Finished call to '__main__.submit_batch_job' after 112.516(s), this was the 6th time calling it.\n",
      "WARNING:__main__:Finished call to '__main__.submit_batch_job' after 113.375(s), this was the 6th time calling it.\n",
      "WARNING:__main__:Finished call to '__main__.submit_batch_job' after 113.594(s), this was the 6th time calling it.\n",
      "WARNING:__main__:Finished call to '__main__.submit_batch_job' after 112.485(s), this was the 6th time calling it.\n",
      "WARNING:__main__:Finished call to '__main__.submit_batch_job' after 114.047(s), this was the 6th time calling it.\n",
      "WARNING:__main__:Finished call to '__main__.submit_batch_job' after 112.032(s), this was the 6th time calling it.\n",
      "WARNING:__main__:Finished call to '__main__.submit_batch_job' after 112.922(s), this was the 6th time calling it.\n",
      "WARNING:__main__:Finished call to '__main__.submit_batch_job' after 112.813(s), this was the 6th time calling it.\n",
      "WARNING:__main__:Finished call to '__main__.submit_batch_job' after 114.125(s), this was the 6th time calling it.\n",
      "WARNING:__main__:Finished call to '__main__.submit_batch_job' after 113.406(s), this was the 6th time calling it.\n",
      "WARNING:__main__:Finished call to '__main__.submit_batch_job' after 112.531(s), this was the 6th time calling it.\n",
      "WARNING:__main__:Finished call to '__main__.submit_batch_job' after 112.781(s), this was the 6th time calling it.\n",
      "WARNING:__main__:Finished call to '__main__.submit_batch_job' after 115.031(s), this was the 6th time calling it.\n",
      "WARNING:__main__:Finished call to '__main__.submit_batch_job' after 114.265(s), this was the 6th time calling it.\n",
      "WARNING:__main__:Finished call to '__main__.submit_batch_job' after 115.359(s), this was the 6th time calling it.\n",
      "WARNING:__main__:Finished call to '__main__.submit_batch_job' after 115.156(s), this was the 6th time calling it.\n",
      "WARNING:__main__:Finished call to '__main__.submit_batch_job' after 117.422(s), this was the 6th time calling it.\n",
      "WARNING:__main__:Finished call to '__main__.submit_batch_job' after 115.219(s), this was the 6th time calling it.\n",
      "WARNING:__main__:Finished call to '__main__.submit_batch_job' after 115.515(s), this was the 6th time calling it.\n",
      "WARNING:__main__:Finished call to '__main__.submit_batch_job' after 115.906(s), this was the 6th time calling it.\n"
     ]
    },
    {
     "name": "stdout",
     "output_type": "stream",
     "text": [
      "Submit batch for file id: file-9hpFDkLex8puaBwK6a5dYf\n",
      "Submit batch for file id: file-HBgr6Kd3WLarVaQ2UepwJM\n",
      "Submit batch for file id: file-QBoUaVBAbhaGjGF4DS97ZR\n",
      "Submit batch for file id: file-8MPjNtSTZ1KwAS3Ra24n4Z\n",
      "Submit batch for file id: file-QffWa2umHVLU4xUK4tTeDk\n",
      "Submit batch for file id: file-Ne94NDsDQudxkAgf54bP7Q\n",
      "Submit batch for file id: file-WXNS6EdEQSWSYPggnCttsN\n",
      "Submit batch for file id: file-TXibRn1VLSS5PV96ewPG9q\n",
      "Submit batch for file id: file-JyUvsv2RrpUz36oGKpYABY\n",
      "Submit batch for file id: file-Q1y94UNAcbK5d3ZqiWTd3m\n",
      "Submit batch for file id: file-6F9a7NJw4jRjx1hvt7xfwZ\n",
      "Submit batch for file id: file-QpcR7Ehpa7oMizNqxjejVr\n",
      "Submit batch for file id: file-Lf6fXJnhCfoDyWUKDzpEhY\n",
      "Submit batch for file id: file-CFSApXYfKAUGnYPuYHLZcx\n",
      "Submit batch for file id: file-JUZxiH16PZHH7WCVER69BK\n",
      "Submit batch for file id: file-Vq8MY7bSDHH7EBivkdBfzv\n",
      "Submit batch for file id: file-9QHdcBjuysNEvRuT8ir5fc\n",
      "Submit batch for file id: file-SPGQYmrkQioZ9dGRfWmZat\n",
      "Submit batch for file id: file-3Jqap9jryMbuZavWeEJWm4\n",
      "Submit batch for file id: file-46QfZhZgK9puwPQx6Lagqp\n",
      "Submit batch for file id: file-Ubg8Ffv37JpcX3ah5bgVk3\n",
      "Submit batch for file id: file-5k6h1jvUbpmGqzL7xjg4Gn\n",
      "Submit batch for file id: file-7AExaetPwDrqEVPbH8yH7h\n",
      "Submit batch for file id: file-4a3aHowwYv9mHJ7VkQyLEf\n",
      "Submit batch for file id: file-JE7KehiLm1aVXDaZD5bbm5\n"
     ]
    },
    {
     "name": "stderr",
     "output_type": "stream",
     "text": [
      "WARNING:__main__:Finished call to '__main__.submit_batch_job' after 110.765(s), this was the 6th time calling it.\n",
      "WARNING:__main__:Finished call to '__main__.submit_batch_job' after 110.531(s), this was the 6th time calling it.\n",
      "WARNING:__main__:Finished call to '__main__.submit_batch_job' after 110.609(s), this was the 6th time calling it.\n",
      "WARNING:__main__:Finished call to '__main__.submit_batch_job' after 111.031(s), this was the 6th time calling it.\n",
      "WARNING:__main__:Finished call to '__main__.submit_batch_job' after 111.000(s), this was the 6th time calling it.\n",
      "WARNING:__main__:Finished call to '__main__.submit_batch_job' after 112.063(s), this was the 6th time calling it.\n",
      "WARNING:__main__:Finished call to '__main__.submit_batch_job' after 112.578(s), this was the 6th time calling it.\n",
      "WARNING:__main__:Finished call to '__main__.submit_batch_job' after 113.531(s), this was the 6th time calling it.\n",
      "WARNING:__main__:Finished call to '__main__.submit_batch_job' after 111.656(s), this was the 6th time calling it.\n",
      "WARNING:__main__:Finished call to '__main__.submit_batch_job' after 112.281(s), this was the 6th time calling it.\n",
      "WARNING:__main__:Finished call to '__main__.submit_batch_job' after 111.453(s), this was the 6th time calling it.\n",
      "WARNING:__main__:Finished call to '__main__.submit_batch_job' after 111.359(s), this was the 6th time calling it.\n",
      "WARNING:__main__:Finished call to '__main__.submit_batch_job' after 112.875(s), this was the 6th time calling it.\n",
      "WARNING:__main__:Finished call to '__main__.submit_batch_job' after 111.500(s), this was the 6th time calling it.\n",
      "WARNING:__main__:Finished call to '__main__.submit_batch_job' after 111.922(s), this was the 6th time calling it.\n",
      "WARNING:__main__:Finished call to '__main__.submit_batch_job' after 111.469(s), this was the 6th time calling it.\n",
      "WARNING:__main__:Finished call to '__main__.submit_batch_job' after 111.563(s), this was the 6th time calling it.\n",
      "WARNING:__main__:Finished call to '__main__.submit_batch_job' after 111.500(s), this was the 6th time calling it.\n",
      "WARNING:__main__:Finished call to '__main__.submit_batch_job' after 112.016(s), this was the 6th time calling it.\n",
      "WARNING:__main__:Finished call to '__main__.submit_batch_job' after 111.156(s), this was the 6th time calling it.\n"
     ]
    },
    {
     "name": "stdout",
     "output_type": "stream",
     "text": [
      "Submit batch for file id: file-KB93N3dRX62zbjRnHr38yT\n",
      "Submit batch for file id: file-5SBs6To3ANVJf1Ubf7odTP\n",
      "Submit batch for file id: file-MKM5g1oChwzDNURrxM73aE\n",
      "Submit batch for file id: file-TFaT6E6pD2DtFH3x2aESRC\n",
      "Submit batch for file id: file-WUTBx4NL1crKFUpRxcYc7e\n",
      "Submit batch for file id: file-SgVJubzDMPSExd2Nuzd6pu\n",
      "Submit batch for file id: file-T7eUJXbnPPVHG4VSG3QSeT\n",
      "Submit batch for file id: file-Pcf3SemnEWXH7gbE5ck3yY\n"
     ]
    },
    {
     "name": "stderr",
     "output_type": "stream",
     "text": [
      "WARNING:__main__:Finished call to '__main__.submit_batch_job' after 108.704(s), this was the 6th time calling it.\n",
      "WARNING:__main__:Finished call to '__main__.submit_batch_job' after 107.750(s), this was the 6th time calling it.\n",
      "WARNING:__main__:Finished call to '__main__.submit_batch_job' after 108.672(s), this was the 6th time calling it.\n",
      "WARNING:__main__:Finished call to '__main__.submit_batch_job' after 108.406(s), this was the 6th time calling it.\n",
      "WARNING:__main__:Finished call to '__main__.submit_batch_job' after 110.281(s), this was the 6th time calling it.\n",
      "WARNING:__main__:Finished call to '__main__.submit_batch_job' after 110.984(s), this was the 6th time calling it.\n",
      "WARNING:__main__:Finished call to '__main__.submit_batch_job' after 108.812(s), this was the 6th time calling it.\n",
      "WARNING:__main__:Finished call to '__main__.submit_batch_job' after 109.812(s), this was the 6th time calling it.\n",
      "WARNING:__main__:Finished call to '__main__.submit_batch_job' after 108.547(s), this was the 6th time calling it.\n",
      "WARNING:__main__:Finished call to '__main__.submit_batch_job' after 107.719(s), this was the 6th time calling it.\n",
      "WARNING:__main__:Finished call to '__main__.submit_batch_job' after 109.547(s), this was the 6th time calling it.\n",
      "WARNING:__main__:Finished call to '__main__.submit_batch_job' after 109.813(s), this was the 6th time calling it.\n",
      "WARNING:__main__:Finished call to '__main__.submit_batch_job' after 109.438(s), this was the 6th time calling it.\n",
      "WARNING:__main__:Finished call to '__main__.submit_batch_job' after 109.641(s), this was the 6th time calling it.\n",
      "WARNING:__main__:Finished call to '__main__.submit_batch_job' after 108.469(s), this was the 6th time calling it.\n",
      "WARNING:__main__:Finished call to '__main__.submit_batch_job' after 110.297(s), this was the 6th time calling it.\n",
      "WARNING:__main__:Finished call to '__main__.submit_batch_job' after 108.375(s), this was the 6th time calling it.\n",
      "WARNING:__main__:Finished call to '__main__.submit_batch_job' after 110.360(s), this was the 6th time calling it.\n",
      "WARNING:__main__:Finished call to '__main__.submit_batch_job' after 96.781(s), this was the 6th time calling it.\n",
      "WARNING:__main__:Finished call to '__main__.submit_batch_job' after 109.313(s), this was the 6th time calling it.\n",
      "WARNING:__main__:Finished call to '__main__.submit_batch_job' after 110.828(s), this was the 6th time calling it.\n",
      "WARNING:__main__:Finished call to '__main__.submit_batch_job' after 109.891(s), this was the 6th time calling it.\n",
      "WARNING:__main__:Finished call to '__main__.submit_batch_job' after 107.359(s), this was the 6th time calling it.\n"
     ]
    },
    {
     "name": "stdout",
     "output_type": "stream",
     "text": [
      "Submit batch for file id: file-XySj38C66amMfQUsduJNo8\n",
      "Submit batch for file id: file-Aaa6eonHrnDmBfkXJ9G7oV\n",
      "Submit batch for file id: file-DwwzJtfZVPhE9jWsnCfeZR\n",
      "Submit batch for file id: file-AnScj8EhL9YHAdQUsDUaNJ\n",
      "Submit batch for file id: file-QSFV23JwdAFnx24caqf8Cj\n",
      "Submit batch for file id: file-7YBF14C3UvtnBeXWGekawb\n",
      "Submit batch for file id: file-ByDUbdQETT5PgvgaZfUwcV\n",
      "Submit batch for file id: file-4Phphj1wLL8X2gFspuBWcD\n",
      "Submit batch for file id: file-QF7wJfxh46iU7UtrUxnixu\n",
      "Submit batch for file id: file-AbmMYHBoedsqRjaB228tiM\n",
      "Submit batch for file id: file-BRehFfPmnGrDV41VjpqheB\n",
      "Submit batch for file id: file-4mxeqoRRJkBhd2F8HwMh3b\n",
      "Submit batch for file id: file-233tPtAXnN3FJeWikNSw6P\n",
      "Submit batch for file id: file-PaN3tGWY6pioXsym64691H\n",
      "Submit batch for file id: file-DHcegJiB7KFmVQ9aFT73y2\n",
      "Submit batch for file id: file-NzKKRmWzW97Df5orqJ3Fay\n",
      "Submit batch for file id: file-Dn5JJTfp9iGvZo3TAMZL5S\n",
      "Submit batch for file id: file-MvA9jW3wAS3VeXvqd32ibf\n",
      "Submit batch for file id: file-4L4kHV2ujzABGwsCpEKdYS\n",
      "Submit batch for file id: file-J41NvT2zBZ7fMjCjXi4c8e\n",
      "Submit batch for file id: file-J33qhkwiCVF5nDK88UxFx3\n",
      "Submit batch for file id: file-4Mg8rPYVTKLu2YHhDaNyUX\n",
      "Submit batch for file id: file-9E3LGoXsq7kbcXH19AUXAH\n",
      "Submit batch for file id: file-SA3Nk7sFigYoeiaY5sU3uc\n",
      "Submit batch for file id: file-WoqMy12NNpwyD4KpdtV69w\n",
      "Submit batch for file id: file-NubwwqeMToiEKz1CUn2kBM\n",
      "Submit batch for file id: file-6gPyR5mxt2Z1u2NnFs2ADR\n"
     ]
    },
    {
     "name": "stderr",
     "output_type": "stream",
     "text": [
      "WARNING:__main__:Finished call to '__main__.submit_batch_job' after 105.281(s), this was the 6th time calling it.\n",
      "WARNING:__main__:Finished call to '__main__.submit_batch_job' after 105.734(s), this was the 6th time calling it.\n",
      "WARNING:__main__:Finished call to '__main__.submit_batch_job' after 96.938(s), this was the 6th time calling it.\n",
      "WARNING:__main__:Finished call to '__main__.submit_batch_job' after 107.438(s), this was the 6th time calling it.\n",
      "WARNING:__main__:Finished call to '__main__.submit_batch_job' after 107.828(s), this was the 6th time calling it.\n",
      "WARNING:__main__:Finished call to '__main__.submit_batch_job' after 106.313(s), this was the 6th time calling it.\n",
      "WARNING:__main__:Finished call to '__main__.submit_batch_job' after 105.641(s), this was the 6th time calling it.\n",
      "WARNING:__main__:Finished call to '__main__.submit_batch_job' after 107.172(s), this was the 6th time calling it.\n",
      "WARNING:__main__:Finished call to '__main__.submit_batch_job' after 105.266(s), this was the 6th time calling it.\n",
      "WARNING:__main__:Finished call to '__main__.submit_batch_job' after 106.156(s), this was the 6th time calling it.\n",
      "WARNING:__main__:Finished call to '__main__.submit_batch_job' after 106.094(s), this was the 6th time calling it.\n",
      "WARNING:__main__:Finished call to '__main__.submit_batch_job' after 104.766(s), this was the 6th time calling it.\n",
      "WARNING:__main__:Finished call to '__main__.submit_batch_job' after 105.953(s), this was the 6th time calling it.\n",
      "WARNING:__main__:Finished call to '__main__.submit_batch_job' after 105.625(s), this was the 6th time calling it.\n",
      "WARNING:__main__:Finished call to '__main__.submit_batch_job' after 106.390(s), this was the 6th time calling it.\n",
      "WARNING:__main__:Finished call to '__main__.submit_batch_job' after 105.718(s), this was the 6th time calling it.\n",
      "WARNING:__main__:Finished call to '__main__.submit_batch_job' after 104.468(s), this was the 6th time calling it.\n",
      "WARNING:__main__:Finished call to '__main__.submit_batch_job' after 105.703(s), this was the 6th time calling it.\n",
      "WARNING:__main__:Finished call to '__main__.submit_batch_job' after 107.171(s), this was the 6th time calling it.\n",
      "WARNING:__main__:Finished call to '__main__.submit_batch_job' after 106.016(s), this was the 6th time calling it.\n"
     ]
    },
    {
     "name": "stdout",
     "output_type": "stream",
     "text": [
      "Submit batch for file id: file-AfpyVCTP8cahVWBxZ7bmn8\n",
      "Submit batch for file id: file-QDUfF2WEjkS767sfVE6X48\n",
      "Submit batch for file id: file-TpiSQVpTgnNrbre7zw24zX\n",
      "Submit batch for file id: file-XuwxokJjhjkKuknpx99Wet\n",
      "Submit batch for file id: file-DgufWyLBVkzRjX5JkUTVWh\n",
      "Submit batch for file id: file-2MC7TaaAr4dkftq6fFnZQG\n",
      "Submit batch for file id: file-NU7jahUpXNTxKDcdFqKqDV\n",
      "Submit batch for file id: file-5S94rp8vZBgUuatwzycyoc\n",
      "Submit batch for file id: file-DMtVF1cq3dqPv7imHcbx4J\n",
      "Submit batch for file id: file-Q8Gnm5pXy82NjV9WfWiZ7T\n",
      "Submit batch for file id: file-3iGHHm8HTTgLU41De48z6P\n",
      "Submit batch for file id: file-QQNfXqPKm2AFyuvHJHGKnL\n",
      "Submit batch for file id: file-FMHGoutAUvzuBckLfieXSq\n",
      "Submit batch for file id: file-HLac8aTUBq2Ne2UPDMpoLq\n",
      "Submit batch for file id: file-TJ4b9bEh8TYxbjsKHjUU1k\n",
      "Submit batch for file id: file-TwuXb97KRrBLNe9qECTPEv\n",
      "Submit batch for file id: file-N1qvSo9aoPWYSgSWXaXZ7z\n",
      "Submit batch for file id: file-Vbsj8VnhZGYt7XgjbSydCb\n",
      "Submit batch for file id: file-2XzbKDc3oNhmgGNBTDpHaM\n",
      "Submit batch for file id: file-EZCf3xxGdUQG64VnHbbQC7\n",
      "Submit batch for file id: file-3UBWgPuCGKJ5q22TWXkmJT\n",
      "Submit batch for file id: file-M2fPBFZVGiMYPfi6ebhnZb\n",
      "Submit batch for file id: file-FLoV1jnTC1CE51PhbBsVyF\n",
      "Submit batch for file id: file-AhYpTwxW2VRxanDHEUwvuk\n",
      "Submit batch for file id: file-4UUBuBdpQgdKvzHJSuC8C6\n",
      "Submit batch for file id: file-RpbNLSHeefJMqrdKURxDQA\n",
      "Submit batch for file id: file-F88h5Uk7ehNnX47r63WyyR\n",
      "Submit batch for file id: file-2AVzgX5Y8RwqRfxzPwPng8\n"
     ]
    },
    {
     "name": "stderr",
     "output_type": "stream",
     "text": [
      "WARNING:__main__:Finished call to '__main__.submit_batch_job' after 106.312(s), this was the 6th time calling it.\n",
      "WARNING:__main__:Finished call to '__main__.submit_batch_job' after 104.328(s), this was the 6th time calling it.\n",
      "WARNING:__main__:Finished call to '__main__.submit_batch_job' after 105.062(s), this was the 6th time calling it.\n",
      "WARNING:__main__:Finished call to '__main__.submit_batch_job' after 96.562(s), this was the 6th time calling it.\n",
      "WARNING:__main__:Finished call to '__main__.submit_batch_job' after 106.562(s), this was the 6th time calling it.\n",
      "WARNING:__main__:Finished call to '__main__.submit_batch_job' after 105.891(s), this was the 6th time calling it.\n",
      "WARNING:__main__:Finished call to '__main__.submit_batch_job' after 105.500(s), this was the 6th time calling it.\n",
      "WARNING:__main__:Finished call to '__main__.submit_batch_job' after 106.500(s), this was the 6th time calling it.\n",
      "WARNING:__main__:Finished call to '__main__.submit_batch_job' after 105.375(s), this was the 6th time calling it.\n",
      "WARNING:__main__:Finished call to '__main__.submit_batch_job' after 104.156(s), this was the 6th time calling it.\n",
      "WARNING:__main__:Finished call to '__main__.submit_batch_job' after 104.109(s), this was the 6th time calling it.\n",
      "WARNING:__main__:Finished call to '__main__.submit_batch_job' after 104.453(s), this was the 6th time calling it.\n",
      "WARNING:__main__:Finished call to '__main__.submit_batch_job' after 103.765(s), this was the 6th time calling it.\n",
      "WARNING:__main__:Finished call to '__main__.submit_batch_job' after 106.344(s), this was the 6th time calling it.\n",
      "WARNING:__main__:Finished call to '__main__.submit_batch_job' after 107.297(s), this was the 6th time calling it.\n",
      "WARNING:__main__:Finished call to '__main__.submit_batch_job' after 100.890(s), this was the 6th time calling it.\n",
      "WARNING:__main__:Finished call to '__main__.submit_batch_job' after 101.484(s), this was the 6th time calling it.\n",
      "WARNING:__main__:Finished call to '__main__.submit_batch_job' after 101.281(s), this was the 6th time calling it.\n",
      "WARNING:__main__:Finished call to '__main__.submit_batch_job' after 103.734(s), this was the 6th time calling it.\n",
      "WARNING:__main__:Finished call to '__main__.submit_batch_job' after 101.828(s), this was the 6th time calling it.\n",
      "WARNING:__main__:Finished call to '__main__.submit_batch_job' after 101.484(s), this was the 6th time calling it.\n",
      "WARNING:__main__:Finished call to '__main__.submit_batch_job' after 103.891(s), this was the 6th time calling it.\n",
      "WARNING:__main__:Finished call to '__main__.submit_batch_job' after 104.094(s), this was the 6th time calling it.\n",
      "WARNING:__main__:Finished call to '__main__.submit_batch_job' after 103.797(s), this was the 6th time calling it.\n",
      "WARNING:__main__:Finished call to '__main__.submit_batch_job' after 103.985(s), this was the 6th time calling it.\n",
      "WARNING:__main__:Finished call to '__main__.submit_batch_job' after 103.422(s), this was the 6th time calling it.\n",
      "WARNING:__main__:Finished call to '__main__.submit_batch_job' after 101.125(s), this was the 6th time calling it.\n",
      "WARNING:__main__:Finished call to '__main__.submit_batch_job' after 103.813(s), this was the 6th time calling it.\n",
      "WARNING:__main__:Finished call to '__main__.submit_batch_job' after 101.297(s), this was the 6th time calling it.\n",
      "WARNING:__main__:Finished call to '__main__.submit_batch_job' after 102.735(s), this was the 6th time calling it.\n",
      "WARNING:__main__:Finished call to '__main__.submit_batch_job' after 101.078(s), this was the 6th time calling it.\n",
      "WARNING:__main__:Finished call to '__main__.submit_batch_job' after 103.235(s), this was the 6th time calling it.\n",
      "WARNING:__main__:Finished call to '__main__.submit_batch_job' after 103.906(s), this was the 6th time calling it.\n",
      "WARNING:__main__:Finished call to '__main__.submit_batch_job' after 103.203(s), this was the 6th time calling it.\n",
      "WARNING:__main__:Finished call to '__main__.submit_batch_job' after 103.000(s), this was the 6th time calling it.\n"
     ]
    },
    {
     "name": "stdout",
     "output_type": "stream",
     "text": [
      "Submit batch for file id: file-8jhq1LgpBuNCYUM74Wki7p\n",
      "Submit batch for file id: file-C9YPTJUjuQ3YwsMRSYi57X\n",
      "Submit batch for file id: file-T8zTV5a2gdXr9XLwcXihjP\n",
      "Submit batch for file id: file-W4PvSGzes5aqB17Y1smkCh\n",
      "Submit batch for file id: file-Q4ijcGU2MDnmFgQo7eme3R\n",
      "Submit batch for file id: file-KmE7z4sf4SrFvHUbk3iKiV\n",
      "Submit batch for file id: file-UuFN5cRUBU8YwzcWz7WHDW\n",
      "Submit batch for file id: file-2SMBuhsySwVMVRUy5Q8evy\n",
      "Submit batch for file id: file-TvwDRcbEQRBNgqytNJVurE\n",
      "Submit batch for file id: file-JAMEqTTNVxndn5Npb8wtka\n",
      "Submit batch for file id: file-1KBbPBwKpLgcSmwyKnxAdL\n",
      "Submit batch for file id: file-VWakNrN2exV4wWRF6EhbPW\n",
      "Submit batch for file id: file-V5cYuxPWYf6haNzQfn666Y\n",
      "Submit batch for file id: file-WS5FAGYcmFWhaMwvqeqHNw\n",
      "Submit batch for file id: file-BcY6crxbgCYgyFrQRaz6Pt\n",
      "Submit batch for file id: file-F6bdYEYnB37jMEHyBZYRdw\n",
      "Submit batch for file id: file-4GWZ4dUbAWgyquFqqBeJiP\n",
      "Submit batch for file id: file-SK7V9N56wsqrJBMK7sNdMx\n",
      "Submit batch for file id: file-WSY4tom2Htqvp2D2XtYugo\n"
     ]
    },
    {
     "name": "stderr",
     "output_type": "stream",
     "text": [
      "WARNING:__main__:Finished call to '__main__.submit_batch_job' after 100.797(s), this was the 6th time calling it.\n",
      "WARNING:__main__:Finished call to '__main__.submit_batch_job' after 100.281(s), this was the 6th time calling it.\n",
      "WARNING:__main__:Finished call to '__main__.submit_batch_job' after 101.000(s), this was the 6th time calling it.\n",
      "WARNING:__main__:Finished call to '__main__.submit_batch_job' after 98.250(s), this was the 6th time calling it.\n",
      "WARNING:__main__:Finished call to '__main__.submit_batch_job' after 97.000(s), this was the 6th time calling it.\n",
      "WARNING:__main__:Finished call to '__main__.submit_batch_job' after 98.063(s), this was the 6th time calling it.\n",
      "WARNING:__main__:Finished call to '__main__.submit_batch_job' after 96.703(s), this was the 6th time calling it.\n",
      "WARNING:__main__:Finished call to '__main__.submit_batch_job' after 97.234(s), this was the 6th time calling it.\n",
      "WARNING:__main__:Finished call to '__main__.submit_batch_job' after 98.468(s), this was the 6th time calling it.\n",
      "WARNING:__main__:Finished call to '__main__.submit_batch_job' after 97.968(s), this was the 6th time calling it.\n",
      "WARNING:__main__:Finished call to '__main__.submit_batch_job' after 97.906(s), this was the 6th time calling it.\n",
      "WARNING:__main__:Finished call to '__main__.submit_batch_job' after 96.687(s), this was the 6th time calling it.\n",
      "WARNING:__main__:Finished call to '__main__.submit_batch_job' after 98.078(s), this was the 6th time calling it.\n",
      "WARNING:__main__:Finished call to '__main__.submit_batch_job' after 97.281(s), this was the 6th time calling it.\n",
      "WARNING:__main__:Finished call to '__main__.submit_batch_job' after 99.093(s), this was the 6th time calling it.\n",
      "WARNING:__main__:Finished call to '__main__.submit_batch_job' after 98.656(s), this was the 6th time calling it.\n",
      "WARNING:__main__:Finished call to '__main__.submit_batch_job' after 98.281(s), this was the 6th time calling it.\n",
      "WARNING:__main__:Finished call to '__main__.submit_batch_job' after 96.984(s), this was the 6th time calling it.\n",
      "WARNING:__main__:Finished call to '__main__.submit_batch_job' after 96.828(s), this was the 6th time calling it.\n",
      "WARNING:__main__:Finished call to '__main__.submit_batch_job' after 101.297(s), this was the 6th time calling it.\n",
      "WARNING:__main__:Finished call to '__main__.submit_batch_job' after 101.500(s), this was the 6th time calling it.\n",
      "WARNING:__main__:Finished call to '__main__.submit_batch_job' after 102.875(s), this was the 6th time calling it.\n",
      "WARNING:__main__:Finished call to '__main__.submit_batch_job' after 105.657(s), this was the 6th time calling it.\n",
      "WARNING:__main__:Finished call to '__main__.submit_batch_job' after 104.110(s), this was the 6th time calling it.\n"
     ]
    },
    {
     "name": "stdout",
     "output_type": "stream",
     "text": [
      "Submit batch for file id: file-HLFTuazmdsKCPFdEGwfAYx\n",
      "Submit batch for file id: file-2jyAyZiAUjteTukuK35NB6\n",
      "Submit batch for file id: file-VmtMXGxF7wcXrFcGLDeUZh\n",
      "Submit batch for file id: file-BgRPvkoMoqXDM66KTaMxfM\n",
      "Submit batch for file id: file-9sQT68kJppbanW6aKCEvg2\n",
      "Submit batch for file id: file-UhbpDxHDRRjVjEu9ssaCGE\n",
      "Submit batch for file id: file-QpFW9gwRjSDHyAeUgTpAQV\n",
      "Submit batch for file id: file-DbPeHtJ6fBgf4DZeeUnmNn\n",
      "Submit batch for file id: file-RHmvdYBaqLpxSqMaypSZN6\n"
     ]
    },
    {
     "name": "stderr",
     "output_type": "stream",
     "text": [
      "WARNING:__main__:Finished call to '__main__.submit_batch_job' after 100.140(s), this was the 6th time calling it.\n",
      "WARNING:__main__:Finished call to '__main__.submit_batch_job' after 97.218(s), this was the 6th time calling it.\n",
      "WARNING:__main__:Finished call to '__main__.submit_batch_job' after 96.937(s), this was the 6th time calling it.\n",
      "WARNING:__main__:Finished call to '__main__.submit_batch_job' after 98.484(s), this was the 6th time calling it.\n",
      "WARNING:__main__:Finished call to '__main__.submit_batch_job' after 96.671(s), this was the 6th time calling it.\n",
      "WARNING:__main__:Finished call to '__main__.submit_batch_job' after 96.765(s), this was the 6th time calling it.\n",
      "WARNING:__main__:Finished call to '__main__.submit_batch_job' after 96.687(s), this was the 6th time calling it.\n",
      "WARNING:__main__:Finished call to '__main__.submit_batch_job' after 115.172(s), this was the 6th time calling it.\n",
      "WARNING:__main__:Finished call to '__main__.submit_batch_job' after 96.672(s), this was the 6th time calling it.\n"
     ]
    },
    {
     "name": "stdout",
     "output_type": "stream",
     "text": [
      "Submit batch for file id: file-W6xedKAk9Zwkn5QYeWKs7N\n",
      "Submit batch for file id: file-MDqCg3P15rFoep9KXowkbK\n",
      "Submit batch for file id: file-8MkDuQwXcvJQZPkr1WRpzN\n",
      "Submit batch for file id: file-PdemxDdFGttGVSVpNmnkCU\n",
      "Submit batch for file id: file-VZp9Bu1g5yFU3AmFoqNGRF\n"
     ]
    },
    {
     "name": "stderr",
     "output_type": "stream",
     "text": [
      "WARNING:__main__:Finished call to '__main__.submit_batch_job' after 96.641(s), this was the 6th time calling it.\n",
      "WARNING:__main__:Finished call to '__main__.submit_batch_job' after 97.078(s), this was the 6th time calling it.\n",
      "WARNING:__main__:Finished call to '__main__.submit_batch_job' after 96.641(s), this was the 6th time calling it.\n",
      "WARNING:__main__:Finished call to '__main__.submit_batch_job' after 96.531(s), this was the 6th time calling it.\n"
     ]
    },
    {
     "name": "stdout",
     "output_type": "stream",
     "text": [
      "Submit batch for file id: file-PHYb6NuxAo4rdUe3sTykUW\n",
      "Submit batch for file id: file-XL1vWF5Dk46HD2WWcsWmiH\n"
     ]
    },
    {
     "name": "stderr",
     "output_type": "stream",
     "text": [
      "WARNING:__main__:Finished call to '__main__.submit_batch_job' after 96.703(s), this was the 6th time calling it.\n",
      "WARNING:__main__:Finished call to '__main__.submit_batch_job' after 96.594(s), this was the 6th time calling it.\n",
      "WARNING:__main__:Finished call to '__main__.submit_batch_job' after 97.203(s), this was the 6th time calling it.\n"
     ]
    },
    {
     "name": "stdout",
     "output_type": "stream",
     "text": [
      "Submit batch for file id: file-H9umBQ55SBNkgKD5DyNEoH\n",
      "Submit batch for file id: file-Tdrw4YXSENM3QfrTGQKBF5\n"
     ]
    },
    {
     "name": "stderr",
     "output_type": "stream",
     "text": [
      "WARNING:__main__:Finished call to '__main__.submit_batch_job' after 96.578(s), this was the 6th time calling it.\n",
      "WARNING:__main__:Finished call to '__main__.submit_batch_job' after 96.656(s), this was the 6th time calling it.\n"
     ]
    },
    {
     "name": "stdout",
     "output_type": "stream",
     "text": [
      "Submit batch for file id: file-Ja5B2rwvgBqawbXmZyhSLD\n",
      "Submit batch for file id: file-JwQADN93qKJfgkZjWg9piw\n",
      "Submit batch for file id: file-2AXx8RGZweKu1H1KYfPtKu\n",
      "Submit batch for file id: file-GK4MBhkxWmJnZ7wyRLpgwy\n"
     ]
    },
    {
     "name": "stderr",
     "output_type": "stream",
     "text": [
      "WARNING:__main__:Finished call to '__main__.submit_batch_job' after 96.594(s), this was the 6th time calling it.\n",
      "WARNING:__main__:Finished call to '__main__.submit_batch_job' after 96.609(s), this was the 6th time calling it.\n",
      "WARNING:__main__:Finished call to '__main__.submit_batch_job' after 96.485(s), this was the 6th time calling it.\n",
      "WARNING:__main__:Finished call to '__main__.submit_batch_job' after 96.640(s), this was the 6th time calling it.\n"
     ]
    },
    {
     "name": "stdout",
     "output_type": "stream",
     "text": [
      "Submit batch for file id: file-NPkj8akvzm3xY2Nng3zLhr\n"
     ]
    },
    {
     "name": "stderr",
     "output_type": "stream",
     "text": [
      "WARNING:__main__:Finished call to '__main__.submit_batch_job' after 96.515(s), this was the 6th time calling it.\n"
     ]
    },
    {
     "name": "stdout",
     "output_type": "stream",
     "text": [
      "Submit batch for file id: file-4Dx4o9pBBkbrHBFB754EBT\n",
      "Submit batch for file id: file-3yHx3RxL5TjHBpqJRwuu5W\n"
     ]
    },
    {
     "name": "stderr",
     "output_type": "stream",
     "text": [
      "WARNING:__main__:Finished call to '__main__.submit_batch_job' after 96.562(s), this was the 6th time calling it.\n",
      "WARNING:__main__:Finished call to '__main__.submit_batch_job' after 96.469(s), this was the 6th time calling it.\n",
      "WARNING:__main__:Finished call to '__main__.submit_batch_job' after 96.422(s), this was the 6th time calling it.\n"
     ]
    },
    {
     "name": "stdout",
     "output_type": "stream",
     "text": [
      "Submit batch for file id: file-BMKsPEj3CGi5B6TT6xtSgs\n",
      "Submit batch for file id: file-QPhfFGGDm13XYLfLDuDcVo\n"
     ]
    },
    {
     "name": "stderr",
     "output_type": "stream",
     "text": [
      "WARNING:__main__:Finished call to '__main__.submit_batch_job' after 96.500(s), this was the 6th time calling it.\n"
     ]
    },
    {
     "name": "stdout",
     "output_type": "stream",
     "text": [
      "Submit batch for file id: file-Pewzr3iPfUGNaz6TuxBZRx\n",
      "Submit batch for file id: file-1u9Bt8e2ibrsQJJjdunnYv\n",
      "Submit batch for file id: file-SdD4uAiAPrNcWE3d9qeMQR\n",
      "Submit batch for file id: file-GsjuNhkyucFtemhFqBw9jK\n"
     ]
    },
    {
     "name": "stderr",
     "output_type": "stream",
     "text": [
      "WARNING:__main__:Finished call to '__main__.submit_batch_job' after 96.438(s), this was the 6th time calling it.\n",
      "WARNING:__main__:Finished call to '__main__.submit_batch_job' after 96.375(s), this was the 6th time calling it.\n",
      "WARNING:__main__:Finished call to '__main__.submit_batch_job' after 96.484(s), this was the 6th time calling it.\n",
      "WARNING:__main__:Finished call to '__main__.submit_batch_job' after 96.515(s), this was the 6th time calling it.\n"
     ]
    },
    {
     "name": "stdout",
     "output_type": "stream",
     "text": [
      "Submit batch for file id: file-BLJkpqTaeHRqi71x52mNo2\n"
     ]
    },
    {
     "name": "stderr",
     "output_type": "stream",
     "text": [
      "WARNING:__main__:Finished call to '__main__.submit_batch_job' after 96.391(s), this was the 6th time calling it.\n"
     ]
    },
    {
     "name": "stdout",
     "output_type": "stream",
     "text": [
      "Submit batch for file id: file-EREeKA86cHncJY5T723gTU\n"
     ]
    },
    {
     "name": "stderr",
     "output_type": "stream",
     "text": [
      "WARNING:__main__:Finished call to '__main__.submit_batch_job' after 96.375(s), this was the 6th time calling it.\n"
     ]
    },
    {
     "name": "stdout",
     "output_type": "stream",
     "text": [
      "Submit batch for file id: file-E9pFaSMNwmSRgnrojGiauK\n",
      "Submit batch for file id: file-CTQq6gZzf8K4m4RTXH33kZ\n",
      "Submit batch for file id: file-T2TohLGKZbNawbsAJeZXXS\n",
      "Submit batch for file id: file-KEfdb4HG8ZHo7v3irUmPrf\n"
     ]
    },
    {
     "name": "stderr",
     "output_type": "stream",
     "text": [
      "WARNING:__main__:Finished call to '__main__.submit_batch_job' after 96.390(s), this was the 6th time calling it.\n",
      "WARNING:__main__:Finished call to '__main__.submit_batch_job' after 96.390(s), this was the 6th time calling it.\n",
      "WARNING:__main__:Finished call to '__main__.submit_batch_job' after 96.453(s), this was the 6th time calling it.\n",
      "WARNING:__main__:Finished call to '__main__.submit_batch_job' after 96.453(s), this was the 6th time calling it.\n",
      "WARNING:__main__:Finished call to '__main__.submit_batch_job' after 96.390(s), this was the 6th time calling it.\n"
     ]
    },
    {
     "name": "stdout",
     "output_type": "stream",
     "text": [
      "Submit batch for file id: file-Kfj1h9e7R5Jpag5oD3KLHs\n",
      "Submit batch for file id: file-StTXZszJwWqUoK8iCwjRHU\n",
      "Submit batch for file id: file-8YSwsw2WxFpt8r4rTXyoB7\n",
      "Submit batch for file id: file-92UwsHCxkmjWdH9PXJJy8B\n"
     ]
    },
    {
     "name": "stderr",
     "output_type": "stream",
     "text": [
      "WARNING:__main__:Finished call to '__main__.submit_batch_job' after 96.406(s), this was the 6th time calling it.\n",
      "WARNING:__main__:Finished call to '__main__.submit_batch_job' after 96.375(s), this was the 6th time calling it.\n",
      "WARNING:__main__:Finished call to '__main__.submit_batch_job' after 96.500(s), this was the 6th time calling it.\n"
     ]
    },
    {
     "name": "stdout",
     "output_type": "stream",
     "text": [
      "Submit batch for file id: file-LnMkodr3RLUicak4j8Hb3t\n",
      "Submit batch for file id: file-7SAcxb657Lmspvy3jPvqEA\n"
     ]
    },
    {
     "name": "stderr",
     "output_type": "stream",
     "text": [
      "WARNING:__main__:Finished call to '__main__.submit_batch_job' after 96.469(s), this was the 6th time calling it.\n",
      "WARNING:__main__:Finished call to '__main__.submit_batch_job' after 123.484(s), this was the 6th time calling it.\n"
     ]
    },
    {
     "name": "stdout",
     "output_type": "stream",
     "text": [
      "Submit batch for file id: file-TGi9iR6bGUYTrFgoCFYSgG\n"
     ]
    },
    {
     "name": "stderr",
     "output_type": "stream",
     "text": [
      "WARNING:__main__:Finished call to '__main__.submit_batch_job' after 96.453(s), this was the 6th time calling it.\n"
     ]
    },
    {
     "name": "stdout",
     "output_type": "stream",
     "text": [
      "Submit batch for file id: file-CjbMGVaVoWuMTk2BaEHNEc\n",
      "Submit batch for file id: file-RpfWUuLgJwpAbjB38WjuHK\n",
      "Submit batch for file id: file-GMmTXCAPUoEQZ5BTKoW7Xr\n",
      "Submit batch for file id: file-ARbcb6daxPvkz321rT8Um2\n"
     ]
    },
    {
     "name": "stderr",
     "output_type": "stream",
     "text": [
      "WARNING:__main__:Finished call to '__main__.submit_batch_job' after 96.656(s), this was the 6th time calling it.\n",
      "WARNING:__main__:Finished call to '__main__.submit_batch_job' after 96.828(s), this was the 6th time calling it.\n",
      "WARNING:__main__:Finished call to '__main__.submit_batch_job' after 96.594(s), this was the 6th time calling it.\n",
      "WARNING:__main__:Finished call to '__main__.submit_batch_job' after 96.500(s), this was the 6th time calling it.\n"
     ]
    },
    {
     "name": "stdout",
     "output_type": "stream",
     "text": [
      "Submit batch for file id: file-EU6DXJX52qVSNfH47NQZFv\n",
      "Submit batch for file id: file-48PtGcVKrxLXeRd2Gb6jth\n",
      "Submit batch for file id: file-FNm2ryVaWgk9CDSPqxaTNK\n",
      "Submit batch for file id: file-MobUfaYeC9fQtNvY1idKYQ\n"
     ]
    },
    {
     "name": "stderr",
     "output_type": "stream",
     "text": [
      "WARNING:__main__:Finished call to '__main__.submit_batch_job' after 96.656(s), this was the 6th time calling it.\n",
      "WARNING:__main__:Finished call to '__main__.submit_batch_job' after 96.656(s), this was the 6th time calling it.\n",
      "WARNING:__main__:Finished call to '__main__.submit_batch_job' after 96.500(s), this was the 6th time calling it.\n",
      "WARNING:__main__:Finished call to '__main__.submit_batch_job' after 96.484(s), this was the 6th time calling it.\n"
     ]
    },
    {
     "name": "stdout",
     "output_type": "stream",
     "text": [
      "Submit batch for file id: file-BMNRxC48UPsUzZdyBD4XPR\n"
     ]
    },
    {
     "name": "stderr",
     "output_type": "stream",
     "text": [
      "WARNING:__main__:Finished call to '__main__.submit_batch_job' after 96.688(s), this was the 6th time calling it.\n"
     ]
    },
    {
     "name": "stdout",
     "output_type": "stream",
     "text": [
      "Submit batch for file id: file-7VTpJZr5MySVvJUQ55JQ8J\n",
      "Submit batch for file id: file-WrnJrqEmPukmoVjgfWqDv7\n",
      "Submit batch for file id: file-LeXQRLFTHd2GMY6naGmM5e\n",
      "Submit batch for file id: file-NThfuvn1fDADecNP8ZYhSR\n"
     ]
    },
    {
     "name": "stderr",
     "output_type": "stream",
     "text": [
      "WARNING:__main__:Finished call to '__main__.submit_batch_job' after 96.515(s), this was the 6th time calling it.\n",
      "WARNING:__main__:Finished call to '__main__.submit_batch_job' after 96.437(s), this was the 6th time calling it.\n",
      "WARNING:__main__:Finished call to '__main__.submit_batch_job' after 96.391(s), this was the 6th time calling it.\n",
      "WARNING:__main__:Finished call to '__main__.submit_batch_job' after 96.704(s), this was the 6th time calling it.\n"
     ]
    },
    {
     "name": "stdout",
     "output_type": "stream",
     "text": [
      "Submit batch for file id: file-RziAkibZ371jUpgQTtD9XD\n",
      "Submit batch for file id: file-BcYjC8yq24uq3edTcM6sLp\n",
      "Submit batch for file id: file-QYZBaJPyrTsK9HRtkixn1S\n",
      "Submit batch for file id: file-Tr1jAgWvz4F4pfyJZkQZVo\n",
      "Submit batch for file id: file-M6vqjx7iJS4UnXAssmNU45\n",
      "Submit batch for file id: file-FgP1tfYxnMRQCnHkab4XCC\n"
     ]
    },
    {
     "name": "stderr",
     "output_type": "stream",
     "text": [
      "WARNING:__main__:Finished call to '__main__.submit_batch_job' after 96.375(s), this was the 6th time calling it.\n",
      "WARNING:__main__:Finished call to '__main__.submit_batch_job' after 96.390(s), this was the 6th time calling it.\n",
      "WARNING:__main__:Finished call to '__main__.submit_batch_job' after 96.375(s), this was the 6th time calling it.\n",
      "WARNING:__main__:Finished call to '__main__.submit_batch_job' after 96.297(s), this was the 6th time calling it.\n",
      "WARNING:__main__:Finished call to '__main__.submit_batch_job' after 96.360(s), this was the 6th time calling it.\n",
      "WARNING:__main__:Finished call to '__main__.submit_batch_job' after 96.375(s), this was the 6th time calling it.\n"
     ]
    },
    {
     "name": "stdout",
     "output_type": "stream",
     "text": [
      "Submit batch for file id: file-4ysB3dATxdLtyFmGoMLJbm\n",
      "Submit batch for file id: file-8JjpMKrZycPontb9SVds2h\n",
      "Submit batch for file id: file-FKsNVDiy75uq3y1QEVkgrD\n"
     ]
    },
    {
     "name": "stderr",
     "output_type": "stream",
     "text": [
      "WARNING:__main__:Finished call to '__main__.submit_batch_job' after 96.343(s), this was the 6th time calling it.\n",
      "WARNING:__main__:Finished call to '__main__.submit_batch_job' after 96.406(s), this was the 6th time calling it.\n",
      "WARNING:__main__:Finished call to '__main__.submit_batch_job' after 96.328(s), this was the 6th time calling it.\n"
     ]
    },
    {
     "name": "stdout",
     "output_type": "stream",
     "text": [
      "Submit batch for file id: file-9pmuPCdP8Kzt1xT6bKFBsD\n",
      "Submit batch for file id: file-FwXwCpj511e6CWRvvuSouN\n"
     ]
    },
    {
     "name": "stderr",
     "output_type": "stream",
     "text": [
      "WARNING:__main__:Finished call to '__main__.submit_batch_job' after 96.500(s), this was the 6th time calling it.\n",
      "WARNING:__main__:Finished call to '__main__.submit_batch_job' after 96.532(s), this was the 6th time calling it.\n",
      "WARNING:__main__:Finished call to '__main__.submit_batch_job' after 96.313(s), this was the 6th time calling it.\n"
     ]
    },
    {
     "name": "stdout",
     "output_type": "stream",
     "text": [
      "Submit batch for file id: file-MjMR2x32dToxY33RGkjuD7\n",
      "Submit batch for file id: file-QSUvfRzgRr5HpNghTDDWM3\n",
      "Submit batch for file id: file-XTF1Vw6ny7HJmK373gw8oR\n",
      "Submit batch for file id: file-AcpkMAU8hZmEdmP8zoi6Qm\n",
      "Submit batch for file id: file-Wa1JHvq4qG361g9iiWX1N4\n",
      "Submit batch for file id: file-U9gTH3LrY4XrxSLfsGvLPM\n",
      "Submit batch for file id: file-73PzCnFFqM22rsR6CJ9jwd\n",
      "Submit batch for file id: file-A7iJ41EqiTyJ2VwxDp49qa\n",
      "Submit batch for file id: file-TiqaXQszBeB7jLUgJK5zUC\n",
      "Submit batch for file id: file-SGoozFukVkQGkRjNpvqu6M\n",
      "Submit batch for file id: file-GmUMG16MtN9gaT5pGe2yUf\n",
      "Submit batch for file id: file-K1PkdGJiqkdhJ4GzKwK9fm\n",
      "Submit batch for file id: file-19hekmGRNLex8qyv4jhnFF\n",
      "Submit batch for file id: file-5xH83SH3nrjj5FUjM8hE5z\n",
      "Submit batch for file id: file-1RSpMvog5uDCq2UMxVmfbV\n"
     ]
    },
    {
     "name": "stderr",
     "output_type": "stream",
     "text": [
      "WARNING:__main__:Finished call to '__main__.submit_batch_job' after 96.390(s), this was the 6th time calling it.\n",
      "WARNING:__main__:Finished call to '__main__.submit_batch_job' after 96.359(s), this was the 6th time calling it.\n",
      "WARNING:__main__:Finished call to '__main__.submit_batch_job' after 96.375(s), this was the 6th time calling it.\n",
      "WARNING:__main__:Finished call to '__main__.submit_batch_job' after 96.422(s), this was the 6th time calling it.\n",
      "WARNING:__main__:Finished call to '__main__.submit_batch_job' after 96.313(s), this was the 6th time calling it.\n",
      "WARNING:__main__:Finished call to '__main__.submit_batch_job' after 96.407(s), this was the 6th time calling it.\n",
      "WARNING:__main__:Finished call to '__main__.submit_batch_job' after 96.359(s), this was the 6th time calling it.\n",
      "WARNING:__main__:Finished call to '__main__.submit_batch_job' after 96.359(s), this was the 6th time calling it.\n",
      "WARNING:__main__:Finished call to '__main__.submit_batch_job' after 96.328(s), this was the 6th time calling it.\n",
      "WARNING:__main__:Finished call to '__main__.submit_batch_job' after 96.313(s), this was the 6th time calling it.\n",
      "WARNING:__main__:Finished call to '__main__.submit_batch_job' after 96.328(s), this was the 6th time calling it.\n",
      "WARNING:__main__:Finished call to '__main__.submit_batch_job' after 96.329(s), this was the 6th time calling it.\n",
      "WARNING:__main__:Finished call to '__main__.submit_batch_job' after 96.360(s), this was the 6th time calling it.\n",
      "WARNING:__main__:Finished call to '__main__.submit_batch_job' after 96.281(s), this was the 6th time calling it.\n"
     ]
    },
    {
     "name": "stdout",
     "output_type": "stream",
     "text": [
      "Submit batch for file id: file-2PNqqZAVUw8DUdW6ow24Nk\n",
      "Submit batch for file id: file-FBpbUrfk5hFRS7qQf2wU7i\n",
      "Submit batch for file id: file-FU68rpH3iXMw4a22fBpRHt\n",
      "Submit batch for file id: file-3NHyHyt4fTK2ypn4GpK54T\n",
      "Submit batch for file id: file-WdG9GHe5CUPVbZx2Uc1dT5\n",
      "Submit batch for file id: file-Ng8hKcLpo77rK2QwqX7auq\n",
      "Submit batch for file id: file-KSGYAE72fyQKWzumYLtZLY\n",
      "Submit batch for file id: file-3M7wi21PaBYezt1qttZRqL\n"
     ]
    },
    {
     "name": "stderr",
     "output_type": "stream",
     "text": [
      "WARNING:__main__:Finished call to '__main__.submit_batch_job' after 96.266(s), this was the 6th time calling it.\n",
      "WARNING:__main__:Finished call to '__main__.submit_batch_job' after 96.297(s), this was the 6th time calling it.\n",
      "WARNING:__main__:Finished call to '__main__.submit_batch_job' after 96.328(s), this was the 6th time calling it.\n",
      "WARNING:__main__:Finished call to '__main__.submit_batch_job' after 96.375(s), this was the 6th time calling it.\n",
      "WARNING:__main__:Finished call to '__main__.submit_batch_job' after 96.344(s), this was the 6th time calling it.\n",
      "WARNING:__main__:Finished call to '__main__.submit_batch_job' after 96.313(s), this was the 6th time calling it.\n",
      "WARNING:__main__:Finished call to '__main__.submit_batch_job' after 96.375(s), this was the 6th time calling it.\n",
      "WARNING:__main__:Finished call to '__main__.submit_batch_job' after 96.313(s), this was the 6th time calling it.\n"
     ]
    },
    {
     "name": "stdout",
     "output_type": "stream",
     "text": [
      "Submit batch for file id: file-QpWac8fzcNRqMVD1imLZN2\n",
      "Submit batch for file id: file-9WwhAQQH5C9pjPUdQPS7PH\n"
     ]
    },
    {
     "name": "stderr",
     "output_type": "stream",
     "text": [
      "WARNING:__main__:Finished call to '__main__.submit_batch_job' after 96.344(s), this was the 6th time calling it.\n",
      "WARNING:__main__:Finished call to '__main__.submit_batch_job' after 96.312(s), this was the 6th time calling it.\n"
     ]
    },
    {
     "name": "stdout",
     "output_type": "stream",
     "text": [
      "Submit batch for file id: file-VWbofwLYTc2XKR1tWy27Xm\n",
      "Submit batch for file id: file-QEEnDUbDpxadhah3wi8xeh\n",
      "Submit batch for file id: file-F2ytrfRktUCSFpBePnJokc\n",
      "Submit batch for file id: file-BJ6SoE2jasuvWdQdQzY6QG\n",
      "Submit batch for file id: file-WtbAvhtw8owkMrg8aThABy\n",
      "Submit batch for file id: file-7NHGfB6gapXMomUNiCV9i7\n",
      "Submit batch for file id: file-FnbEuh9cXtH1rY17Ahq38a\n",
      "Submit batch for file id: file-9tgGZ5CVwidwqHs6vs7Y2D\n",
      "Submit batch for file id: file-GhD1dQH9vwfzVy4DwSAZ6D\n"
     ]
    },
    {
     "name": "stderr",
     "output_type": "stream",
     "text": [
      "WARNING:__main__:Finished call to '__main__.submit_batch_job' after 96.359(s), this was the 6th time calling it.\n",
      "WARNING:__main__:Finished call to '__main__.submit_batch_job' after 96.328(s), this was the 6th time calling it.\n",
      "WARNING:__main__:Finished call to '__main__.submit_batch_job' after 96.282(s), this was the 6th time calling it.\n",
      "WARNING:__main__:Finished call to '__main__.submit_batch_job' after 96.343(s), this was the 6th time calling it.\n",
      "WARNING:__main__:Finished call to '__main__.submit_batch_job' after 96.282(s), this was the 6th time calling it.\n",
      "WARNING:__main__:Finished call to '__main__.submit_batch_job' after 96.328(s), this was the 6th time calling it.\n",
      "WARNING:__main__:Finished call to '__main__.submit_batch_job' after 96.375(s), this was the 6th time calling it.\n",
      "WARNING:__main__:Finished call to '__main__.submit_batch_job' after 96.359(s), this was the 6th time calling it.\n",
      "WARNING:__main__:Finished call to '__main__.submit_batch_job' after 96.375(s), this was the 6th time calling it.\n"
     ]
    },
    {
     "name": "stdout",
     "output_type": "stream",
     "text": [
      "Submit batch for file id: file-14UtbHeH4gqhTEmMB7B6QX\n",
      "Submit batch for file id: file-MWn3HdNBGpCa3QDR7CiBE6\n",
      "Submit batch for file id: file-Dt7PZkigoGW6CSiksJWKdx\n",
      "Submit batch for file id: file-452kpXTmFLdXh9aRAfhH3A\n",
      "Submit batch for file id: file-C4wp4VMHepZpHQ85ouox9U\n",
      "Submit batch for file id: file-DyynCjH5cKoz3hSsmNynvY\n"
     ]
    },
    {
     "name": "stderr",
     "output_type": "stream",
     "text": [
      "WARNING:__main__:Finished call to '__main__.submit_batch_job' after 96.359(s), this was the 6th time calling it.\n",
      "WARNING:__main__:Finished call to '__main__.submit_batch_job' after 96.344(s), this was the 6th time calling it.\n",
      "WARNING:__main__:Finished call to '__main__.submit_batch_job' after 96.343(s), this was the 6th time calling it.\n",
      "WARNING:__main__:Finished call to '__main__.submit_batch_job' after 96.359(s), this was the 6th time calling it.\n",
      "WARNING:__main__:Finished call to '__main__.submit_batch_job' after 96.250(s), this was the 6th time calling it.\n",
      "WARNING:__main__:Finished call to '__main__.submit_batch_job' after 96.359(s), this was the 6th time calling it.\n"
     ]
    },
    {
     "name": "stdout",
     "output_type": "stream",
     "text": [
      "Submit batch for file id: file-AMgw3d9pcadAK8ZnQRGSDs\n"
     ]
    },
    {
     "name": "stderr",
     "output_type": "stream",
     "text": [
      "WARNING:__main__:Finished call to '__main__.submit_batch_job' after 96.297(s), this was the 6th time calling it.\n"
     ]
    },
    {
     "name": "stdout",
     "output_type": "stream",
     "text": [
      "Submit batch for file id: file-1uFDWcaPVM8ChELTmdJCcG\n"
     ]
    },
    {
     "name": "stderr",
     "output_type": "stream",
     "text": [
      "WARNING:__main__:Finished call to '__main__.submit_batch_job' after 96.344(s), this was the 6th time calling it.\n"
     ]
    },
    {
     "name": "stdout",
     "output_type": "stream",
     "text": [
      "Submit batch for file id: file-9Es3UigCPuAWFRi3ST68f2\n",
      "Submit batch for file id: file-UeP82H3VUMSuBxtVeLZBFF\n"
     ]
    },
    {
     "name": "stderr",
     "output_type": "stream",
     "text": [
      "WARNING:__main__:Finished call to '__main__.submit_batch_job' after 96.359(s), this was the 6th time calling it.\n",
      "WARNING:__main__:Finished call to '__main__.submit_batch_job' after 96.375(s), this was the 6th time calling it.\n"
     ]
    },
    {
     "name": "stdout",
     "output_type": "stream",
     "text": [
      "Submit batch for file id: file-RgyeJcJutqJBZxkhcVTFYn\n",
      "Submit batch for file id: file-RusKox4cP5mvXYPe2vzKjj\n",
      "Submit batch for file id: file-T9jpStdLsFSk8aNsndQKeQ\n"
     ]
    },
    {
     "name": "stderr",
     "output_type": "stream",
     "text": [
      "WARNING:__main__:Finished call to '__main__.submit_batch_job' after 101.344(s), this was the 6th time calling it.\n",
      "WARNING:__main__:Finished call to '__main__.submit_batch_job' after 118.984(s), this was the 6th time calling it.\n",
      "WARNING:__main__:Finished call to '__main__.submit_batch_job' after 131.906(s), this was the 6th time calling it.\n"
     ]
    },
    {
     "name": "stdout",
     "output_type": "stream",
     "text": [
      "Submit batch for file id: file-MqjpxfVDJHZXuRTmUzXggp\n",
      "Submit batch for file id: file-Sfn6y2g3SKoBBdu7meGb4K\n"
     ]
    },
    {
     "name": "stderr",
     "output_type": "stream",
     "text": [
      "WARNING:__main__:Finished call to '__main__.submit_batch_job' after 209.469(s), this was the 7th time calling it.\n",
      "WARNING:__main__:Finished call to '__main__.submit_batch_job' after 210.796(s), this was the 7th time calling it.\n"
     ]
    },
    {
     "name": "stdout",
     "output_type": "stream",
     "text": [
      "Submit batch for file id: file-4WD4NrziSJua7SdRc3k17V\n",
      "Submit batch for file id: file-DCtZcAb1kQNse8E5BdLLSt\n"
     ]
    },
    {
     "name": "stderr",
     "output_type": "stream",
     "text": [
      "WARNING:__main__:Finished call to '__main__.submit_batch_job' after 199.063(s), this was the 7th time calling it.\n",
      "WARNING:__main__:Finished call to '__main__.submit_batch_job' after 195.391(s), this was the 7th time calling it.\n"
     ]
    },
    {
     "name": "stdout",
     "output_type": "stream",
     "text": [
      "Submit batch for file id: file-QtbZL6tHmRzD1KySbRSojf\n"
     ]
    },
    {
     "name": "stderr",
     "output_type": "stream",
     "text": [
      "WARNING:__main__:Finished call to '__main__.submit_batch_job' after 193.359(s), this was the 7th time calling it.\n"
     ]
    },
    {
     "name": "stdout",
     "output_type": "stream",
     "text": [
      "Submit batch for file id: file-UhaPhcmrzRe6AriJi7D8Xn\n",
      "Submit batch for file id: file-4iELHf65RHG46TRJG97A5m\n"
     ]
    },
    {
     "name": "stderr",
     "output_type": "stream",
     "text": [
      "WARNING:__main__:Finished call to '__main__.submit_batch_job' after 224.469(s), this was the 7th time calling it.\n",
      "WARNING:__main__:Finished call to '__main__.submit_batch_job' after 224.906(s), this was the 7th time calling it.\n"
     ]
    },
    {
     "name": "stdout",
     "output_type": "stream",
     "text": [
      "Submit batch for file id: file-ThUzQnduMpC1Uok36nmaua\n",
      "Submit batch for file id: file-3fmNDSb9bejhsKQQVEJkeG\n",
      "Submit batch for file id: file-H4UcdjvzFU3NSvLfV9Lz91\n",
      "Submit batch for file id: file-FqRbp1o9UcMyS43rtgozVF\n"
     ]
    },
    {
     "name": "stderr",
     "output_type": "stream",
     "text": [
      "WARNING:__main__:Finished call to '__main__.submit_batch_job' after 222.750(s), this was the 7th time calling it.\n",
      "WARNING:__main__:Finished call to '__main__.submit_batch_job' after 221.140(s), this was the 7th time calling it.\n"
     ]
    },
    {
     "name": "stdout",
     "output_type": "stream",
     "text": [
      "Submit batch for file id: file-GeQEbs1FumYAywStuHXGz2\n",
      "Submit batch for file id: file-7xLX9EvuFRC8z5d1BkZmwg\n",
      "Submit batch for file id: file-1NMVxFsL8X9gXuXCd1M7aw\n",
      "Submit batch for file id: file-1isXv9KCKi8aFR2XJdh1rr\n"
     ]
    },
    {
     "name": "stderr",
     "output_type": "stream",
     "text": [
      "WARNING:__main__:Finished call to '__main__.submit_batch_job' after 222.125(s), this was the 7th time calling it.\n",
      "WARNING:__main__:Finished call to '__main__.submit_batch_job' after 221.031(s), this was the 7th time calling it.\n",
      "WARNING:__main__:Finished call to '__main__.submit_batch_job' after 219.875(s), this was the 7th time calling it.\n",
      "WARNING:__main__:Finished call to '__main__.submit_batch_job' after 221.093(s), this was the 7th time calling it.\n",
      "WARNING:__main__:Finished call to '__main__.submit_batch_job' after 220.218(s), this was the 7th time calling it.\n"
     ]
    },
    {
     "name": "stdout",
     "output_type": "stream",
     "text": [
      "Submit batch for file id: file-QxKgbxPLvdvGzS4VTHTkLN\n",
      "Submit batch for file id: file-GzunAg1Jw91Jwt7gBFJBHV\n",
      "Submit batch for file id: file-PArMLLVcLezL2Yyv5an18b\n",
      "Submit batch for file id: file-TRjcj5TSPkxG7Zuu5SiC4X\n",
      "Submit batch for file id: file-LBdJ7yEGUcrf9PUqaYEYYr\n",
      "Submit batch for file id: file-5gqNiwo1LRu7sVuKnG8kaU\n",
      "Submit batch for file id: file-CzMBcRbrD3bdGSTfdLPbkJ\n",
      "Submit batch for file id: file-Q3nAh4mS6MAXDKjkWrbYBv\n",
      "Submit batch for file id: file-MKjjGe4CJK4cEyuAZP17ik\n",
      "Submit batch for file id: file-2fXDtEf9HWQp16vYJRKbW7\n"
     ]
    },
    {
     "name": "stderr",
     "output_type": "stream",
     "text": [
      "WARNING:__main__:Finished call to '__main__.submit_batch_job' after 219.516(s), this was the 7th time calling it.\n",
      "WARNING:__main__:Finished call to '__main__.submit_batch_job' after 219.922(s), this was the 7th time calling it.\n",
      "WARNING:__main__:Finished call to '__main__.submit_batch_job' after 219.171(s), this was the 7th time calling it.\n",
      "WARNING:__main__:Finished call to '__main__.submit_batch_job' after 221.109(s), this was the 7th time calling it.\n",
      "WARNING:__main__:Finished call to '__main__.submit_batch_job' after 192.969(s), this was the 7th time calling it.\n",
      "WARNING:__main__:Finished call to '__main__.submit_batch_job' after 220.812(s), this was the 7th time calling it.\n"
     ]
    },
    {
     "name": "stdout",
     "output_type": "stream",
     "text": [
      "Submit batch for file id: file-8UAk9kX5rpzBaw4XdxDPHC\n",
      "Submit batch for file id: file-Dj4JPGJmPNbtDFrc7PvEtb\n",
      "Submit batch for file id: file-Khcv7WqDiZQWtK29NyAVHK\n",
      "Submit batch for file id: file-1fDq8cz6i6fWC9p4riYfn8\n",
      "Submit batch for file id: file-Fprg6acBD5mfwJRKg7qhBU\n",
      "Submit batch for file id: file-Q77rQfKqLTy7JdP6B53MXR\n",
      "Submit batch for file id: file-KZjZHp1tuQw7CjVSefKgH8\n",
      "Submit batch for file id: file-L18uPjHMMmG7dko5B4TDvL\n",
      "Submit batch for file id: file-5HwBpd5vU8mbS5isXXWtHf\n",
      "Submit batch for file id: file-34GkneJBJey5PxfHBjf76d\n",
      "Submit batch for file id: file-6LX5UEFn5XPUWdDQowifhb\n"
     ]
    },
    {
     "name": "stderr",
     "output_type": "stream",
     "text": [
      "WARNING:__main__:Finished call to '__main__.submit_batch_job' after 219.640(s), this was the 7th time calling it.\n",
      "WARNING:__main__:Finished call to '__main__.submit_batch_job' after 192.906(s), this was the 7th time calling it.\n",
      "WARNING:__main__:Finished call to '__main__.submit_batch_job' after 220.125(s), this was the 7th time calling it.\n",
      "WARNING:__main__:Finished call to '__main__.submit_batch_job' after 219.234(s), this was the 7th time calling it.\n",
      "WARNING:__main__:Finished call to '__main__.submit_batch_job' after 220.437(s), this was the 7th time calling it.\n",
      "WARNING:__main__:Finished call to '__main__.submit_batch_job' after 193.203(s), this was the 7th time calling it.\n",
      "WARNING:__main__:Finished call to '__main__.submit_batch_job' after 220.656(s), this was the 7th time calling it.\n",
      "WARNING:__main__:Finished call to '__main__.submit_batch_job' after 218.688(s), this was the 7th time calling it.\n",
      "WARNING:__main__:Finished call to '__main__.submit_batch_job' after 218.437(s), this was the 7th time calling it.\n",
      "WARNING:__main__:Finished call to '__main__.submit_batch_job' after 218.547(s), this was the 7th time calling it.\n",
      "WARNING:__main__:Finished call to '__main__.submit_batch_job' after 218.516(s), this was the 7th time calling it.\n",
      "WARNING:__main__:Finished call to '__main__.submit_batch_job' after 219.641(s), this was the 7th time calling it.\n"
     ]
    },
    {
     "name": "stdout",
     "output_type": "stream",
     "text": [
      "Submit batch for file id: file-EKGwz4JDNFvAdYi2kiWPs1\n",
      "Submit batch for file id: file-Fo5ksX8z6SbdXXNTLTH13J\n",
      "Submit batch for file id: file-KGpSmjoPL3664QVP2y99ee\n",
      "Submit batch for file id: file-UmdSKAtbz7mytCsPcw4ytH\n",
      "Submit batch for file id: file-6hwGTQJkvpNby3vCRzdi8r\n",
      "Submit batch for file id: file-KvNYFYP6LV3vBkLhfEteq9\n",
      "Submit batch for file id: file-Weof6ATP6ra6AmywrA4ETG\n",
      "Submit batch for file id: file-FX3XzucfTo4aRreRY5vW5G\n",
      "Submit batch for file id: file-R2re44U418x6UDTCX1jeRS\n",
      "Submit batch for file id: file-5tCKkf9LDpsN5aoKguJHGb\n"
     ]
    },
    {
     "name": "stderr",
     "output_type": "stream",
     "text": [
      "WARNING:__main__:Finished call to '__main__.submit_batch_job' after 219.266(s), this was the 7th time calling it.\n",
      "WARNING:__main__:Finished call to '__main__.submit_batch_job' after 220.125(s), this was the 7th time calling it.\n",
      "WARNING:__main__:Finished call to '__main__.submit_batch_job' after 218.984(s), this was the 7th time calling it.\n",
      "WARNING:__main__:Finished call to '__main__.submit_batch_job' after 219.343(s), this was the 7th time calling it.\n",
      "WARNING:__main__:Finished call to '__main__.submit_batch_job' after 218.578(s), this was the 7th time calling it.\n",
      "WARNING:__main__:Finished call to '__main__.submit_batch_job' after 218.563(s), this was the 7th time calling it.\n",
      "WARNING:__main__:Finished call to '__main__.submit_batch_job' after 219.266(s), this was the 7th time calling it.\n",
      "WARNING:__main__:Finished call to '__main__.submit_batch_job' after 218.422(s), this was the 7th time calling it.\n",
      "WARNING:__main__:Finished call to '__main__.submit_batch_job' after 218.422(s), this was the 7th time calling it.\n",
      "WARNING:__main__:Finished call to '__main__.submit_batch_job' after 218.485(s), this was the 7th time calling it.\n",
      "WARNING:__main__:Finished call to '__main__.submit_batch_job' after 218.422(s), this was the 7th time calling it.\n",
      "WARNING:__main__:Finished call to '__main__.submit_batch_job' after 218.500(s), this was the 7th time calling it.\n",
      "WARNING:__main__:Finished call to '__main__.submit_batch_job' after 218.360(s), this was the 7th time calling it.\n"
     ]
    },
    {
     "name": "stdout",
     "output_type": "stream",
     "text": [
      "Submit batch for file id: file-L3rBpKhbj1kT17QdawZKVx\n",
      "Submit batch for file id: file-BrP9mvdjjaEE4uoPjKTy8e\n",
      "Submit batch for file id: file-RfqpSJZ8byFyaWm12Aw7EJ\n",
      "Submit batch for file id: file-2GktNG8Fgh57fMM32WsWUc\n",
      "Submit batch for file id: file-9PzdXV5aKUbgUEnvjVBRc8\n",
      "Submit batch for file id: file-VXUmzc7fTWyzxoUPJ9uCGJ\n",
      "Submit batch for file id: file-WVUgq3Pzipr9EmVoe6epU5\n",
      "Submit batch for file id: file-6w6qWFHB46Q5bz6yNLrpfT\n",
      "Submit batch for file id: file-GoXRYrJMdnER63ECcb1DUw\n",
      "Submit batch for file id: file-HQBzF5n1VF7pqCBgiULxp8\n",
      "Submit batch for file id: file-1AQYB4Rc2rmE784MmJxRK5\n"
     ]
    },
    {
     "name": "stderr",
     "output_type": "stream",
     "text": [
      "WARNING:__main__:Finished call to '__main__.submit_batch_job' after 217.922(s), this was the 7th time calling it.\n",
      "WARNING:__main__:Finished call to '__main__.submit_batch_job' after 220.406(s), this was the 7th time calling it.\n",
      "WARNING:__main__:Finished call to '__main__.submit_batch_job' after 217.828(s), this was the 7th time calling it.\n",
      "WARNING:__main__:Finished call to '__main__.submit_batch_job' after 192.984(s), this was the 7th time calling it.\n",
      "WARNING:__main__:Finished call to '__main__.submit_batch_job' after 217.875(s), this was the 7th time calling it.\n",
      "WARNING:__main__:Finished call to '__main__.submit_batch_job' after 217.313(s), this was the 7th time calling it.\n",
      "WARNING:__main__:Finished call to '__main__.submit_batch_job' after 217.719(s), this was the 7th time calling it.\n",
      "WARNING:__main__:Finished call to '__main__.submit_batch_job' after 217.625(s), this was the 7th time calling it.\n",
      "WARNING:__main__:Finished call to '__main__.submit_batch_job' after 217.578(s), this was the 7th time calling it.\n",
      "WARNING:__main__:Finished call to '__main__.submit_batch_job' after 217.781(s), this was the 7th time calling it.\n",
      "WARNING:__main__:Finished call to '__main__.submit_batch_job' after 218.656(s), this was the 7th time calling it.\n",
      "WARNING:__main__:Finished call to '__main__.submit_batch_job' after 217.610(s), this was the 7th time calling it.\n"
     ]
    },
    {
     "name": "stdout",
     "output_type": "stream",
     "text": [
      "Submit batch for file id: file-BqLuoDMp7RDSL3vg4Zme5E\n",
      "Submit batch for file id: file-YLn8FVmakzjTvym4ZjDHkx\n",
      "Submit batch for file id: file-8svkkDGm6DstHAhtxKWN4d\n",
      "Submit batch for file id: file-CXDGiUgoYice4vcgoJyvtF\n",
      "Submit batch for file id: file-39vzF4LaqdajCSPfygAteN\n",
      "Submit batch for file id: file-Y93zkbzQ4n9ZrAkSi1o5f4\n",
      "Submit batch for file id: file-9e7SdTfz6YxMvai4wzwZsm\n",
      "Submit batch for file id: file-CVuJGzm57nnPkHVotMCYMz\n",
      "Submit batch for file id: file-JWMMg384xxLy7Jjtznt7Fp\n",
      "Submit batch for file id: file-Dz7fYP8ujbF3Y6HXTpCSPD\n"
     ]
    },
    {
     "name": "stderr",
     "output_type": "stream",
     "text": [
      "WARNING:__main__:Finished call to '__main__.submit_batch_job' after 217.125(s), this was the 7th time calling it.\n",
      "WARNING:__main__:Finished call to '__main__.submit_batch_job' after 216.906(s), this was the 7th time calling it.\n",
      "WARNING:__main__:Finished call to '__main__.submit_batch_job' after 217.219(s), this was the 7th time calling it.\n",
      "WARNING:__main__:Finished call to '__main__.submit_batch_job' after 217.156(s), this was the 7th time calling it.\n",
      "WARNING:__main__:Finished call to '__main__.submit_batch_job' after 216.750(s), this was the 7th time calling it.\n",
      "WARNING:__main__:Finished call to '__main__.submit_batch_job' after 216.562(s), this was the 7th time calling it.\n",
      "WARNING:__main__:Finished call to '__main__.submit_batch_job' after 218.140(s), this was the 7th time calling it.\n",
      "WARNING:__main__:Finished call to '__main__.submit_batch_job' after 215.703(s), this was the 7th time calling it.\n",
      "WARNING:__main__:Finished call to '__main__.submit_batch_job' after 216.672(s), this was the 7th time calling it.\n",
      "WARNING:__main__:Finished call to '__main__.submit_batch_job' after 216.422(s), this was the 7th time calling it.\n"
     ]
    },
    {
     "name": "stdout",
     "output_type": "stream",
     "text": [
      "Submit batch for file id: file-W8CE6Ej9oUNWhDaC4kipuZ\n",
      "Submit batch for file id: file-2gEWPEqJvtVEy1XQm9gEJh\n",
      "Submit batch for file id: file-MsPvyzEpQnZFTeXbQ2c1sF\n",
      "Submit batch for file id: file-R7zwdPKreYKoKpGqgWYJMh\n",
      "Submit batch for file id: file-8hhtBWdyi9VfpM67FuJpWK\n",
      "Submit batch for file id: file-Q5euvqtoYoWQmoJUCvvNyu\n",
      "Submit batch for file id: file-6vZzfNQmAZ5iMUNFdt2sMz\n",
      "Submit batch for file id: file-MPazBAFopFUQ3TGzaQCvUV\n",
      "Submit batch for file id: file-4LZVubFvWedm1goW8RqwZx\n",
      "Submit batch for file id: file-QbzTdYT5yRo5wdB8YPWCCu\n",
      "Submit batch for file id: file-XQ7TSQWCDhBiiVZJkdscMM\n"
     ]
    },
    {
     "name": "stderr",
     "output_type": "stream",
     "text": [
      "WARNING:__main__:Finished call to '__main__.submit_batch_job' after 217.703(s), this was the 7th time calling it.\n",
      "WARNING:__main__:Finished call to '__main__.submit_batch_job' after 216.156(s), this was the 7th time calling it.\n",
      "WARNING:__main__:Finished call to '__main__.submit_batch_job' after 215.687(s), this was the 7th time calling it.\n",
      "WARNING:__main__:Finished call to '__main__.submit_batch_job' after 216.406(s), this was the 7th time calling it.\n",
      "WARNING:__main__:Finished call to '__main__.submit_batch_job' after 216.282(s), this was the 7th time calling it.\n",
      "WARNING:__main__:Finished call to '__main__.submit_batch_job' after 215.203(s), this was the 7th time calling it.\n",
      "WARNING:__main__:Finished call to '__main__.submit_batch_job' after 215.203(s), this was the 7th time calling it.\n",
      "WARNING:__main__:Finished call to '__main__.submit_batch_job' after 216.281(s), this was the 7th time calling it.\n",
      "WARNING:__main__:Finished call to '__main__.submit_batch_job' after 215.234(s), this was the 7th time calling it.\n",
      "WARNING:__main__:Finished call to '__main__.submit_batch_job' after 192.968(s), this was the 7th time calling it.\n",
      "WARNING:__main__:Finished call to '__main__.submit_batch_job' after 215.266(s), this was the 7th time calling it.\n"
     ]
    },
    {
     "name": "stdout",
     "output_type": "stream",
     "text": [
      "Submit batch for file id: file-TZoTML1cBjTi2nZxNtWTmj\n",
      "Submit batch for file id: file-JCA6qGgzpDMSisGBR7ZZiD\n",
      "Submit batch for file id: file-7P2Y5dijJGmAYZrEEGSUPc\n",
      "Submit batch for file id: file-6awy19xdcBWtTJhAP9tjxT\n",
      "Submit batch for file id: file-9Xvqt7PtFSfThGStUCiedy\n",
      "Submit batch for file id: file-DxcRgz27AcV6rBZ55hA2L6\n",
      "Submit batch for file id: file-HJFDWCvghb97uFooa2WPUK\n",
      "Submit batch for file id: file-RhT1MjMfQahCFq5EMzqfwK\n",
      "Submit batch for file id: file-PG6d28LBLJVUhFFqb9y3it\n",
      "Submit batch for file id: file-JCvBVLSPxu88FrHjhv7MWg\n",
      "Submit batch for file id: file-EZHqfST1ymFHUiPRLEcAVo\n",
      "Submit batch for file id: file-AH2aU4FJmDZDMzjGLSfnA6\n"
     ]
    },
    {
     "name": "stderr",
     "output_type": "stream",
     "text": [
      "WARNING:__main__:Finished call to '__main__.submit_batch_job' after 217.953(s), this was the 7th time calling it.\n",
      "WARNING:__main__:Finished call to '__main__.submit_batch_job' after 214.781(s), this was the 7th time calling it.\n",
      "WARNING:__main__:Finished call to '__main__.submit_batch_job' after 214.922(s), this was the 7th time calling it.\n",
      "WARNING:__main__:Finished call to '__main__.submit_batch_job' after 214.187(s), this was the 7th time calling it.\n",
      "WARNING:__main__:Finished call to '__main__.submit_batch_job' after 214.859(s), this was the 7th time calling it.\n",
      "WARNING:__main__:Finished call to '__main__.submit_batch_job' after 217.594(s), this was the 7th time calling it.\n",
      "WARNING:__main__:Finished call to '__main__.submit_batch_job' after 215.219(s), this was the 7th time calling it.\n",
      "WARNING:__main__:Finished call to '__main__.submit_batch_job' after 216.688(s), this was the 7th time calling it.\n",
      "WARNING:__main__:Finished call to '__main__.submit_batch_job' after 214.063(s), this was the 7th time calling it.\n",
      "WARNING:__main__:Finished call to '__main__.submit_batch_job' after 213.860(s), this was the 7th time calling it.\n",
      "WARNING:__main__:Finished call to '__main__.submit_batch_job' after 215.047(s), this was the 7th time calling it.\n",
      "WARNING:__main__:Finished call to '__main__.submit_batch_job' after 214.250(s), this was the 7th time calling it.\n"
     ]
    },
    {
     "name": "stdout",
     "output_type": "stream",
     "text": [
      "Submit batch for file id: file-SeeGpHaTU54Pn5vfJs5i7a\n",
      "Submit batch for file id: file-Gq1ZtdRHmkxbKX3uqBmHHa\n",
      "Submit batch for file id: file-5JP5KfPcU4H7pfwYVeuGzf\n",
      "Submit batch for file id: file-EPiN4kAQni5obnyRf37yJX\n",
      "Submit batch for file id: file-Kn8BaWsVXTonkcGkWFHnJR\n",
      "Submit batch for file id: file-2VNRAfJfE8uLJeBv68nkcr\n",
      "Submit batch for file id: file-GbeuaWnD78VE2N4cW2WCJA\n",
      "Submit batch for file id: file-DLj9HK5z54wRKkfGkM2BDA\n",
      "Submit batch for file id: file-6XD8DC3eDgnMiYMmeaf7tM\n",
      "Submit batch for file id: file-UJd11Zaj3nUhDRk5PnBdKb\n",
      "Submit batch for file id: file-AWLD8ue4aEtao94hJzhmRo\n",
      "Submit batch for file id: file-PBCWt6VC4PdusBVdypB6Kk\n",
      "Submit batch for file id: file-D2AGbCD8rynDVymHhZD4Uk\n",
      "Submit batch for file id: file-AvYasrXaMb2PaUBr7KsUuj\n",
      "Submit batch for file id: file-WtCzUQsVSPL1Y65sNJEc7g\n"
     ]
    },
    {
     "name": "stderr",
     "output_type": "stream",
     "text": [
      "WARNING:__main__:Finished call to '__main__.submit_batch_job' after 214.360(s), this was the 7th time calling it.\n",
      "WARNING:__main__:Finished call to '__main__.submit_batch_job' after 213.485(s), this was the 7th time calling it.\n",
      "WARNING:__main__:Finished call to '__main__.submit_batch_job' after 213.672(s), this was the 7th time calling it.\n",
      "WARNING:__main__:Finished call to '__main__.submit_batch_job' after 213.812(s), this was the 7th time calling it.\n",
      "WARNING:__main__:Finished call to '__main__.submit_batch_job' after 215.312(s), this was the 7th time calling it.\n",
      "WARNING:__main__:Finished call to '__main__.submit_batch_job' after 213.343(s), this was the 7th time calling it.\n",
      "WARNING:__main__:Finished call to '__main__.submit_batch_job' after 213.765(s), this was the 7th time calling it.\n",
      "WARNING:__main__:Finished call to '__main__.submit_batch_job' after 213.281(s), this was the 7th time calling it.\n",
      "WARNING:__main__:Finished call to '__main__.submit_batch_job' after 213.687(s), this was the 7th time calling it.\n",
      "WARNING:__main__:Finished call to '__main__.submit_batch_job' after 213.297(s), this was the 7th time calling it.\n",
      "WARNING:__main__:Finished call to '__main__.submit_batch_job' after 213.984(s), this was the 7th time calling it.\n",
      "WARNING:__main__:Finished call to '__main__.submit_batch_job' after 215.703(s), this was the 7th time calling it.\n",
      "WARNING:__main__:Finished call to '__main__.submit_batch_job' after 214.375(s), this was the 7th time calling it.\n",
      "WARNING:__main__:Finished call to '__main__.submit_batch_job' after 213.859(s), this was the 7th time calling it.\n",
      "WARNING:__main__:Finished call to '__main__.submit_batch_job' after 213.344(s), this was the 7th time calling it.\n"
     ]
    },
    {
     "name": "stdout",
     "output_type": "stream",
     "text": [
      "Submit batch for file id: file-88MsoJMotSSdgMZZQHmUsf\n",
      "Submit batch for file id: file-FB6JmWT9ujn1oyNeHZEc1w\n",
      "Submit batch for file id: file-9neMc7wz17qcqiYswev27L\n",
      "Submit batch for file id: file-1TtRzxoA72k9yC8pbsv89H\n",
      "Submit batch for file id: file-KKr2PrCzPicACpGM3jmm2N\n",
      "Submit batch for file id: file-UCapekh7L3faz494LsR6rL\n",
      "Submit batch for file id: file-3Kd917ker4zbzSVRkHGpwC\n",
      "Submit batch for file id: file-Mt67XkaLqcyKF6b5UKwDAi\n",
      "Submit batch for file id: file-QxNNDkW5S234Y6vg4Jpk4g\n",
      "Submit batch for file id: file-1DC97oBbDR9b9L6J9xuwUN\n",
      "Submit batch for file id: file-VL7eoJqsPh3JttMQFXxcX2\n"
     ]
    },
    {
     "name": "stderr",
     "output_type": "stream",
     "text": [
      "WARNING:__main__:Finished call to '__main__.submit_batch_job' after 213.532(s), this was the 7th time calling it.\n",
      "WARNING:__main__:Finished call to '__main__.submit_batch_job' after 193.141(s), this was the 7th time calling it.\n",
      "WARNING:__main__:Finished call to '__main__.submit_batch_job' after 212.953(s), this was the 7th time calling it.\n",
      "WARNING:__main__:Finished call to '__main__.submit_batch_job' after 212.484(s), this was the 7th time calling it.\n",
      "WARNING:__main__:Finished call to '__main__.submit_batch_job' after 213.422(s), this was the 7th time calling it.\n",
      "WARNING:__main__:Finished call to '__main__.submit_batch_job' after 213.250(s), this was the 7th time calling it.\n",
      "WARNING:__main__:Finished call to '__main__.submit_batch_job' after 212.250(s), this was the 7th time calling it.\n",
      "WARNING:__main__:Finished call to '__main__.submit_batch_job' after 211.438(s), this was the 7th time calling it.\n",
      "WARNING:__main__:Finished call to '__main__.submit_batch_job' after 211.968(s), this was the 7th time calling it.\n",
      "WARNING:__main__:Finished call to '__main__.submit_batch_job' after 213.375(s), this was the 7th time calling it.\n",
      "WARNING:__main__:Finished call to '__main__.submit_batch_job' after 209.031(s), this was the 7th time calling it.\n"
     ]
    },
    {
     "name": "stdout",
     "output_type": "stream",
     "text": [
      "Submit batch for file id: file-9LBdPJkBAZbumxZZsPiT4M\n",
      "Submit batch for file id: file-GbbG95fXcUuHLXUkU7UBSv\n",
      "Submit batch for file id: file-KeZXfSr2AaLQ9hr4KbRYYu\n",
      "Submit batch for file id: file-UmAcePcSKBczWfVhzi1CUc\n",
      "Submit batch for file id: file-Y86pUud7eLJQ23JnuF7EXi\n",
      "Submit batch for file id: file-ASpVXbwd6tMHgsHms8CZ7f\n",
      "Submit batch for file id: file-WiP7RB887ZGpFxsSbnTxF3\n",
      "Submit batch for file id: file-1weuXVVN2icyC92PXCefVY\n",
      "Submit batch for file id: file-TaBS4jG93wG8KnrhnxvsPu\n",
      "Submit batch for file id: file-WQ1hCJVagY6hFQBNXXWeqU\n",
      "Submit batch for file id: file-RZQfxZurqFWDwkuqyviNxb\n",
      "Submit batch for file id: file-3M43s57LXh7Njd2aFcmoGU\n",
      "Submit batch for file id: file-BrHvWdhETb79rkE6Vwdp9p\n",
      "Submit batch for file id: file-8n8TtNJ4QU7iTjLAmwu4KD\n",
      "Submit batch for file id: file-LjX7A3bhUk5aC3iwdrnvSU\n",
      "Submit batch for file id: file-XARqa9WH45zwwwkhgtx7y3\n",
      "Submit batch for file id: file-4cVeyM24GbrS97QtpnzkyY\n",
      "Submit batch for file id: file-HQy3KopReGQ4XxSRtr8zFf\n",
      "Submit batch for file id: file-H2DKafEw7tpPqYFRKAPsAS\n",
      "Submit batch for file id: file-GQnoTVCR7VndXcAVBwdm6E\n",
      "Submit batch for file id: file-9hpFDkLex8puaBwK6a5dYf\n",
      "Submit batch for file id: file-QffWa2umHVLU4xUK4tTeDk\n",
      "Submit batch for file id: file-HBgr6Kd3WLarVaQ2UepwJM\n",
      "Submit batch for file id: file-8MPjNtSTZ1KwAS3Ra24n4Z\n"
     ]
    },
    {
     "name": "stderr",
     "output_type": "stream",
     "text": [
      "WARNING:__main__:Finished call to '__main__.submit_batch_job' after 209.593(s), this was the 7th time calling it.\n",
      "WARNING:__main__:Finished call to '__main__.submit_batch_job' after 208.250(s), this was the 7th time calling it.\n",
      "WARNING:__main__:Finished call to '__main__.submit_batch_job' after 208.734(s), this was the 7th time calling it.\n",
      "WARNING:__main__:Finished call to '__main__.submit_batch_job' after 211.390(s), this was the 7th time calling it.\n",
      "WARNING:__main__:Finished call to '__main__.submit_batch_job' after 208.703(s), this was the 7th time calling it.\n",
      "WARNING:__main__:Finished call to '__main__.submit_batch_job' after 209.156(s), this was the 7th time calling it.\n",
      "WARNING:__main__:Finished call to '__main__.submit_batch_job' after 210.281(s), this was the 7th time calling it.\n",
      "WARNING:__main__:Finished call to '__main__.submit_batch_job' after 209.828(s), this was the 7th time calling it.\n",
      "WARNING:__main__:Finished call to '__main__.submit_batch_job' after 210.359(s), this was the 7th time calling it.\n",
      "WARNING:__main__:Finished call to '__main__.submit_batch_job' after 212.125(s), this was the 7th time calling it.\n",
      "WARNING:__main__:Finished call to '__main__.submit_batch_job' after 209.625(s), this was the 7th time calling it.\n",
      "WARNING:__main__:Finished call to '__main__.submit_batch_job' after 211.859(s), this was the 7th time calling it.\n",
      "WARNING:__main__:Finished call to '__main__.submit_batch_job' after 213.782(s), this was the 7th time calling it.\n",
      "WARNING:__main__:Finished call to '__main__.submit_batch_job' after 208.906(s), this was the 7th time calling it.\n",
      "WARNING:__main__:Finished call to '__main__.submit_batch_job' after 211.531(s), this was the 7th time calling it.\n",
      "WARNING:__main__:Finished call to '__main__.submit_batch_job' after 211.734(s), this was the 7th time calling it.\n",
      "WARNING:__main__:Finished call to '__main__.submit_batch_job' after 211.594(s), this was the 7th time calling it.\n",
      "WARNING:__main__:Finished call to '__main__.submit_batch_job' after 211.406(s), this was the 7th time calling it.\n",
      "WARNING:__main__:Finished call to '__main__.submit_batch_job' after 210.640(s), this was the 7th time calling it.\n",
      "WARNING:__main__:Finished call to '__main__.submit_batch_job' after 209.156(s), this was the 7th time calling it.\n",
      "WARNING:__main__:Finished call to '__main__.submit_batch_job' after 206.750(s), this was the 7th time calling it.\n"
     ]
    },
    {
     "name": "stdout",
     "output_type": "stream",
     "text": [
      "Submit batch for file id: file-QBoUaVBAbhaGjGF4DS97ZR\n",
      "Submit batch for file id: file-MrKgNiAENA9k7TgtyTW5XE\n",
      "Submit batch for file id: file-F9yZa2Se6WBcXz4ZKxpKJa\n",
      "Submit batch for file id: file-Mrg8Mcgi9NLXkhvQF2NGxw\n",
      "Submit batch for file id: file-84rTiET5w3U9WSYu4cT85m\n",
      "Submit batch for file id: file-MKsm3ivsfGq29MXMMLossD\n",
      "Submit batch for file id: file-K2y1e5jtZZmttopmiskf2m\n",
      "Submit batch for file id: file-FfLu7p8zRRdeEV5cMYAFpq\n",
      "Submit batch for file id: file-XpA2Tv4pKi6Zk1UbobqKBE\n",
      "Submit batch for file id: file-7L78h4LMtLn4ZjS8gzLcbn\n",
      "Submit batch for file id: file-EHeEmhBkMdoZa9L25EaVrn\n",
      "Submit batch for file id: file-QuTXhwbkuMfzRah2zzV8xq\n",
      "Submit batch for file id: file-Hrggj2pPCH18WQUrtKweGp\n",
      "Submit batch for file id: file-LijNRbyaSRL7Q79o6MCkuT\n",
      "Submit batch for file id: file-8STC8RdFtBqvH1PUzJXFj9\n",
      "Submit batch for file id: file-2Ltmg1q16gSE3FXtvNN2BS\n",
      "Submit batch for file id: file-TXibRn1VLSS5PV96ewPG9q\n",
      "Submit batch for file id: file-CFSApXYfKAUGnYPuYHLZcx\n",
      "Submit batch for file id: file-KB93N3dRX62zbjRnHr38yT\n",
      "Submit batch for file id: file-Ubg8Ffv37JpcX3ah5bgVk3\n",
      "Submit batch for file id: file-3Jqap9jryMbuZavWeEJWm4\n",
      "Submit batch for file id: file-QpcR7Ehpa7oMizNqxjejVr\n",
      "Submit batch for file id: file-6F9a7NJw4jRjx1hvt7xfwZ\n",
      "Submit batch for file id: file-Vq8MY7bSDHH7EBivkdBfzv\n",
      "Submit batch for file id: file-WXNS6EdEQSWSYPggnCttsN\n"
     ]
    },
    {
     "name": "stderr",
     "output_type": "stream",
     "text": [
      "WARNING:__main__:Finished call to '__main__.submit_batch_job' after 207.250(s), this was the 7th time calling it.\n",
      "WARNING:__main__:Finished call to '__main__.submit_batch_job' after 208.281(s), this was the 7th time calling it.\n",
      "WARNING:__main__:Finished call to '__main__.submit_batch_job' after 206.859(s), this was the 7th time calling it.\n",
      "WARNING:__main__:Finished call to '__main__.submit_batch_job' after 209.750(s), this was the 7th time calling it.\n",
      "WARNING:__main__:Finished call to '__main__.submit_batch_job' after 207.578(s), this was the 7th time calling it.\n",
      "WARNING:__main__:Finished call to '__main__.submit_batch_job' after 207.031(s), this was the 7th time calling it.\n",
      "WARNING:__main__:Finished call to '__main__.submit_batch_job' after 207.672(s), this was the 7th time calling it.\n",
      "WARNING:__main__:Finished call to '__main__.submit_batch_job' after 209.094(s), this was the 7th time calling it.\n",
      "WARNING:__main__:Finished call to '__main__.submit_batch_job' after 207.719(s), this was the 7th time calling it.\n",
      "WARNING:__main__:Finished call to '__main__.submit_batch_job' after 207.234(s), this was the 7th time calling it.\n",
      "WARNING:__main__:Finished call to '__main__.submit_batch_job' after 207.375(s), this was the 7th time calling it.\n",
      "WARNING:__main__:Finished call to '__main__.submit_batch_job' after 207.719(s), this was the 7th time calling it.\n",
      "WARNING:__main__:Finished call to '__main__.submit_batch_job' after 208.157(s), this was the 7th time calling it.\n",
      "WARNING:__main__:Finished call to '__main__.submit_batch_job' after 207.703(s), this was the 7th time calling it.\n",
      "WARNING:__main__:Finished call to '__main__.submit_batch_job' after 208.250(s), this was the 7th time calling it.\n",
      "WARNING:__main__:Finished call to '__main__.submit_batch_job' after 207.797(s), this was the 7th time calling it.\n",
      "WARNING:__main__:Finished call to '__main__.submit_batch_job' after 208.016(s), this was the 7th time calling it.\n",
      "WARNING:__main__:Finished call to '__main__.submit_batch_job' after 208.656(s), this was the 7th time calling it.\n"
     ]
    },
    {
     "name": "stdout",
     "output_type": "stream",
     "text": [
      "Submit batch for file id: file-5SBs6To3ANVJf1Ubf7odTP\n",
      "Submit batch for file id: file-Lf6fXJnhCfoDyWUKDzpEhY\n",
      "Submit batch for file id: file-Ne94NDsDQudxkAgf54bP7Q\n",
      "Submit batch for file id: file-JE7KehiLm1aVXDaZD5bbm5\n",
      "Submit batch for file id: file-9QHdcBjuysNEvRuT8ir5fc\n",
      "Submit batch for file id: file-JUZxiH16PZHH7WCVER69BK\n",
      "Submit batch for file id: file-7AExaetPwDrqEVPbH8yH7h\n",
      "Submit batch for file id: file-4a3aHowwYv9mHJ7VkQyLEf\n",
      "Submit batch for file id: file-SPGQYmrkQioZ9dGRfWmZat\n",
      "Submit batch for file id: file-JyUvsv2RrpUz36oGKpYABY\n",
      "Submit batch for file id: file-5k6h1jvUbpmGqzL7xjg4Gn\n",
      "Submit batch for file id: file-46QfZhZgK9puwPQx6Lagqp\n",
      "Submit batch for file id: file-Q1y94UNAcbK5d3ZqiWTd3m\n",
      "Submit batch for file id: file-SgVJubzDMPSExd2Nuzd6pu\n",
      "Submit batch for file id: file-Pcf3SemnEWXH7gbE5ck3yY\n"
     ]
    },
    {
     "name": "stderr",
     "output_type": "stream",
     "text": [
      "WARNING:__main__:Finished call to '__main__.submit_batch_job' after 205.015(s), this was the 7th time calling it.\n",
      "WARNING:__main__:Finished call to '__main__.submit_batch_job' after 203.968(s), this was the 7th time calling it.\n",
      "WARNING:__main__:Finished call to '__main__.submit_batch_job' after 204.922(s), this was the 7th time calling it.\n",
      "WARNING:__main__:Finished call to '__main__.submit_batch_job' after 206.500(s), this was the 7th time calling it.\n",
      "WARNING:__main__:Finished call to '__main__.submit_batch_job' after 208.969(s), this was the 7th time calling it.\n",
      "WARNING:__main__:Finished call to '__main__.submit_batch_job' after 204.766(s), this was the 7th time calling it.\n",
      "WARNING:__main__:Finished call to '__main__.submit_batch_job' after 204.625(s), this was the 7th time calling it.\n",
      "WARNING:__main__:Finished call to '__main__.submit_batch_job' after 205.750(s), this was the 7th time calling it.\n",
      "WARNING:__main__:Finished call to '__main__.submit_batch_job' after 206.032(s), this was the 7th time calling it.\n",
      "WARNING:__main__:Finished call to '__main__.submit_batch_job' after 206.110(s), this was the 7th time calling it.\n",
      "WARNING:__main__:Finished call to '__main__.submit_batch_job' after 206.516(s), this was the 7th time calling it.\n",
      "WARNING:__main__:Finished call to '__main__.submit_batch_job' after 204.594(s), this was the 7th time calling it.\n",
      "WARNING:__main__:Finished call to '__main__.submit_batch_job' after 193.000(s), this was the 7th time calling it.\n",
      "WARNING:__main__:Finished call to '__main__.submit_batch_job' after 205.860(s), this was the 7th time calling it.\n",
      "WARNING:__main__:Finished call to '__main__.submit_batch_job' after 207.047(s), this was the 7th time calling it.\n",
      "WARNING:__main__:Finished call to '__main__.submit_batch_job' after 205.657(s), this was the 7th time calling it.\n",
      "WARNING:__main__:Finished call to '__main__.submit_batch_job' after 207.328(s), this was the 7th time calling it.\n",
      "WARNING:__main__:Finished call to '__main__.submit_batch_job' after 205.032(s), this was the 7th time calling it.\n",
      "WARNING:__main__:Finished call to '__main__.submit_batch_job' after 206.172(s), this was the 7th time calling it.\n",
      "WARNING:__main__:Finished call to '__main__.submit_batch_job' after 204.110(s), this was the 7th time calling it.\n",
      "WARNING:__main__:Finished call to '__main__.submit_batch_job' after 206.750(s), this was the 7th time calling it.\n"
     ]
    },
    {
     "name": "stdout",
     "output_type": "stream",
     "text": [
      "Submit batch for file id: file-T7eUJXbnPPVHG4VSG3QSeT\n",
      "Submit batch for file id: file-WUTBx4NL1crKFUpRxcYc7e\n",
      "Submit batch for file id: file-MKM5g1oChwzDNURrxM73aE\n",
      "Submit batch for file id: file-TFaT6E6pD2DtFH3x2aESRC\n",
      "Submit batch for file id: file-XySj38C66amMfQUsduJNo8\n",
      "Submit batch for file id: file-AnScj8EhL9YHAdQUsDUaNJ\n",
      "Submit batch for file id: file-Aaa6eonHrnDmBfkXJ9G7oV\n",
      "Submit batch for file id: file-QSFV23JwdAFnx24caqf8Cj\n",
      "Submit batch for file id: file-J33qhkwiCVF5nDK88UxFx3\n",
      "Submit batch for file id: file-DHcegJiB7KFmVQ9aFT73y2\n",
      "Submit batch for file id: file-4L4kHV2ujzABGwsCpEKdYS\n",
      "Submit batch for file id: file-PaN3tGWY6pioXsym64691H\n",
      "Submit batch for file id: file-J41NvT2zBZ7fMjCjXi4c8e\n",
      "Submit batch for file id: file-4Phphj1wLL8X2gFspuBWcD\n",
      "Submit batch for file id: file-9E3LGoXsq7kbcXH19AUXAH\n",
      "Submit batch for file id: file-QF7wJfxh46iU7UtrUxnixu\n",
      "Submit batch for file id: file-SA3Nk7sFigYoeiaY5sU3uc\n",
      "Submit batch for file id: file-233tPtAXnN3FJeWikNSw6P\n"
     ]
    },
    {
     "name": "stderr",
     "output_type": "stream",
     "text": [
      "WARNING:__main__:Finished call to '__main__.submit_batch_job' after 205.703(s), this was the 7th time calling it.\n",
      "WARNING:__main__:Finished call to '__main__.submit_batch_job' after 204.859(s), this was the 7th time calling it.\n",
      "WARNING:__main__:Finished call to '__main__.submit_batch_job' after 201.484(s), this was the 7th time calling it.\n",
      "WARNING:__main__:Finished call to '__main__.submit_batch_job' after 203.562(s), this was the 7th time calling it.\n",
      "WARNING:__main__:Finished call to '__main__.submit_batch_job' after 193.141(s), this was the 7th time calling it.\n",
      "WARNING:__main__:Finished call to '__main__.submit_batch_job' after 203.657(s), this was the 7th time calling it.\n",
      "WARNING:__main__:Finished call to '__main__.submit_batch_job' after 201.969(s), this was the 7th time calling it.\n",
      "WARNING:__main__:Finished call to '__main__.submit_batch_job' after 202.531(s), this was the 7th time calling it.\n",
      "WARNING:__main__:Finished call to '__main__.submit_batch_job' after 201.859(s), this was the 7th time calling it.\n",
      "WARNING:__main__:Finished call to '__main__.submit_batch_job' after 204.078(s), this was the 7th time calling it.\n",
      "WARNING:__main__:Finished call to '__main__.submit_batch_job' after 203.391(s), this was the 7th time calling it.\n",
      "WARNING:__main__:Finished call to '__main__.submit_batch_job' after 201.500(s), this was the 7th time calling it.\n"
     ]
    },
    {
     "name": "stdout",
     "output_type": "stream",
     "text": [
      "Submit batch for file id: file-Dn5JJTfp9iGvZo3TAMZL5S\n",
      "Submit batch for file id: file-AbmMYHBoedsqRjaB228tiM\n",
      "Submit batch for file id: file-4Mg8rPYVTKLu2YHhDaNyUX\n",
      "Submit batch for file id: file-NubwwqeMToiEKz1CUn2kBM\n",
      "Submit batch for file id: file-MvA9jW3wAS3VeXvqd32ibf\n",
      "Submit batch for file id: file-BRehFfPmnGrDV41VjpqheB\n",
      "Submit batch for file id: file-6gPyR5mxt2Z1u2NnFs2ADR\n",
      "Submit batch for file id: file-7YBF14C3UvtnBeXWGekawb\n",
      "Submit batch for file id: file-4mxeqoRRJkBhd2F8HwMh3b\n",
      "Submit batch for file id: file-NzKKRmWzW97Df5orqJ3Fay\n",
      "Submit batch for file id: file-WoqMy12NNpwyD4KpdtV69w\n",
      "Submit batch for file id: file-QDUfF2WEjkS767sfVE6X48\n",
      "Submit batch for file id: file-AfpyVCTP8cahVWBxZ7bmn8\n",
      "Submit batch for file id: file-TpiSQVpTgnNrbre7zw24zX\n",
      "Submit batch for file id: file-ByDUbdQETT5PgvgaZfUwcV\n"
     ]
    },
    {
     "name": "stderr",
     "output_type": "stream",
     "text": [
      "WARNING:__main__:Finished call to '__main__.submit_batch_job' after 202.157(s), this was the 7th time calling it.\n",
      "WARNING:__main__:Finished call to '__main__.submit_batch_job' after 201.000(s), this was the 7th time calling it.\n",
      "WARNING:__main__:Finished call to '__main__.submit_batch_job' after 202.609(s), this was the 7th time calling it.\n",
      "WARNING:__main__:Finished call to '__main__.submit_batch_job' after 202.390(s), this was the 7th time calling it.\n",
      "WARNING:__main__:Finished call to '__main__.submit_batch_job' after 201.937(s), this was the 7th time calling it.\n",
      "WARNING:__main__:Finished call to '__main__.submit_batch_job' after 200.687(s), this was the 7th time calling it.\n",
      "WARNING:__main__:Finished call to '__main__.submit_batch_job' after 201.922(s), this was the 7th time calling it.\n",
      "WARNING:__main__:Finished call to '__main__.submit_batch_job' after 202.328(s), this was the 7th time calling it.\n",
      "WARNING:__main__:Finished call to '__main__.submit_batch_job' after 203.390(s), this was the 7th time calling it.\n",
      "WARNING:__main__:Finished call to '__main__.submit_batch_job' after 202.094(s), this was the 7th time calling it.\n",
      "WARNING:__main__:Finished call to '__main__.submit_batch_job' after 201.281(s), this was the 7th time calling it.\n",
      "WARNING:__main__:Finished call to '__main__.submit_batch_job' after 192.781(s), this was the 7th time calling it.\n",
      "WARNING:__main__:Finished call to '__main__.submit_batch_job' after 202.781(s), this was the 7th time calling it.\n",
      "WARNING:__main__:Finished call to '__main__.submit_batch_job' after 200.656(s), this was the 7th time calling it.\n",
      "WARNING:__main__:Finished call to '__main__.submit_batch_job' after 201.734(s), this was the 7th time calling it.\n",
      "WARNING:__main__:Finished call to '__main__.submit_batch_job' after 201.609(s), this was the 7th time calling it.\n",
      "WARNING:__main__:Finished call to '__main__.submit_batch_job' after 200.562(s), this was the 7th time calling it.\n",
      "WARNING:__main__:Finished call to '__main__.submit_batch_job' after 200.359(s), this was the 7th time calling it.\n",
      "WARNING:__main__:Finished call to '__main__.submit_batch_job' after 202.734(s), this was the 7th time calling it.\n",
      "WARNING:__main__:Finished call to '__main__.submit_batch_job' after 202.546(s), this was the 7th time calling it.\n",
      "WARNING:__main__:Finished call to '__main__.submit_batch_job' after 202.250(s), this was the 7th time calling it.\n",
      "WARNING:__main__:Finished call to '__main__.submit_batch_job' after 199.984(s), this was the 7th time calling it.\n",
      "WARNING:__main__:Finished call to '__main__.submit_batch_job' after 200.328(s), this was the 7th time calling it.\n",
      "WARNING:__main__:Finished call to '__main__.submit_batch_job' after 202.578(s), this was the 7th time calling it.\n",
      "WARNING:__main__:Finished call to '__main__.submit_batch_job' after 201.938(s), this was the 7th time calling it.\n"
     ]
    },
    {
     "name": "stdout",
     "output_type": "stream",
     "text": [
      "Submit batch for file id: file-DwwzJtfZVPhE9jWsnCfeZR\n",
      "Submit batch for file id: file-N1qvSo9aoPWYSgSWXaXZ7z\n",
      "Submit batch for file id: file-3UBWgPuCGKJ5q22TWXkmJT\n",
      "Submit batch for file id: file-DgufWyLBVkzRjX5JkUTVWh\n",
      "Submit batch for file id: file-Vbsj8VnhZGYt7XgjbSydCb\n",
      "Submit batch for file id: file-M2fPBFZVGiMYPfi6ebhnZb\n",
      "Submit batch for file id: file-FLoV1jnTC1CE51PhbBsVyF\n",
      "Submit batch for file id: file-Q8Gnm5pXy82NjV9WfWiZ7T\n",
      "Submit batch for file id: file-QQNfXqPKm2AFyuvHJHGKnL\n",
      "Submit batch for file id: file-DMtVF1cq3dqPv7imHcbx4J\n",
      "Submit batch for file id: file-5S94rp8vZBgUuatwzycyoc\n",
      "Submit batch for file id: file-NU7jahUpXNTxKDcdFqKqDV\n",
      "Submit batch for file id: file-FMHGoutAUvzuBckLfieXSq\n",
      "Submit batch for file id: file-EZCf3xxGdUQG64VnHbbQC7\n",
      "Submit batch for file id: file-TwuXb97KRrBLNe9qECTPEv\n",
      "Submit batch for file id: file-TJ4b9bEh8TYxbjsKHjUU1k\n",
      "Submit batch for file id: file-2MC7TaaAr4dkftq6fFnZQG\n",
      "Submit batch for file id: file-3iGHHm8HTTgLU41De48z6P\n",
      "Submit batch for file id: file-HLac8aTUBq2Ne2UPDMpoLq\n",
      "Submit batch for file id: file-XuwxokJjhjkKuknpx99Wet\n",
      "Submit batch for file id: file-2XzbKDc3oNhmgGNBTDpHaM\n",
      "Submit batch for file id: file-T8zTV5a2gdXr9XLwcXihjP\n",
      "Submit batch for file id: file-8jhq1LgpBuNCYUM74Wki7p\n",
      "Submit batch for file id: file-C9YPTJUjuQ3YwsMRSYi57X\n",
      "Submit batch for file id: file-WSY4tom2Htqvp2D2XtYugo\n",
      "Submit batch for file id: file-KmE7z4sf4SrFvHUbk3iKiV\n",
      "Submit batch for file id: file-VWakNrN2exV4wWRF6EhbPW\n",
      "Submit batch for file id: file-Q4ijcGU2MDnmFgQo7eme3R\n",
      "Submit batch for file id: file-1KBbPBwKpLgcSmwyKnxAdL\n",
      "Submit batch for file id: file-UuFN5cRUBU8YwzcWz7WHDW\n",
      "Submit batch for file id: file-4GWZ4dUbAWgyquFqqBeJiP\n",
      "Submit batch for file id: file-F6bdYEYnB37jMEHyBZYRdw\n",
      "Submit batch for file id: file-JAMEqTTNVxndn5Npb8wtka\n",
      "Submit batch for file id: file-SK7V9N56wsqrJBMK7sNdMx\n",
      "Submit batch for file id: file-V5cYuxPWYf6haNzQfn666Y\n",
      "Submit batch for file id: file-W4PvSGzes5aqB17Y1smkCh\n",
      "Submit batch for file id: file-TvwDRcbEQRBNgqytNJVurE\n",
      "Submit batch for file id: file-2SMBuhsySwVMVRUy5Q8evy\n"
     ]
    },
    {
     "name": "stderr",
     "output_type": "stream",
     "text": [
      "WARNING:__main__:Finished call to '__main__.submit_batch_job' after 197.687(s), this was the 7th time calling it.\n",
      "WARNING:__main__:Finished call to '__main__.submit_batch_job' after 197.500(s), this was the 7th time calling it.\n",
      "WARNING:__main__:Finished call to '__main__.submit_batch_job' after 203.531(s), this was the 7th time calling it.\n",
      "WARNING:__main__:Finished call to '__main__.submit_batch_job' after 197.109(s), this was the 7th time calling it.\n",
      "WARNING:__main__:Finished call to '__main__.submit_batch_job' after 198.063(s), this was the 7th time calling it.\n",
      "WARNING:__main__:Finished call to '__main__.submit_batch_job' after 199.641(s), this was the 7th time calling it.\n",
      "WARNING:__main__:Finished call to '__main__.submit_batch_job' after 197.531(s), this was the 7th time calling it.\n",
      "WARNING:__main__:Finished call to '__main__.submit_batch_job' after 197.734(s), this was the 7th time calling it.\n",
      "WARNING:__main__:Finished call to '__main__.submit_batch_job' after 199.469(s), this was the 7th time calling it.\n",
      "WARNING:__main__:Finished call to '__main__.submit_batch_job' after 198.969(s), this was the 7th time calling it.\n",
      "WARNING:__main__:Finished call to '__main__.submit_batch_job' after 197.359(s), this was the 7th time calling it.\n",
      "WARNING:__main__:Finished call to '__main__.submit_batch_job' after 200.031(s), this was the 7th time calling it.\n",
      "WARNING:__main__:Finished call to '__main__.submit_batch_job' after 200.047(s), this was the 7th time calling it.\n",
      "WARNING:__main__:Finished call to '__main__.submit_batch_job' after 200.219(s), this was the 7th time calling it.\n",
      "WARNING:__main__:Finished call to '__main__.submit_batch_job' after 199.437(s), this was the 7th time calling it.\n",
      "WARNING:__main__:Finished call to '__main__.submit_batch_job' after 200.156(s), this was the 7th time calling it.\n",
      "WARNING:__main__:Finished call to '__main__.submit_batch_job' after 200.141(s), this was the 7th time calling it.\n",
      "WARNING:__main__:Finished call to '__main__.submit_batch_job' after 200.000(s), this was the 7th time calling it.\n",
      "WARNING:__main__:Finished call to '__main__.submit_batch_job' after 200.344(s), this was the 7th time calling it.\n",
      "WARNING:__main__:Finished call to '__main__.submit_batch_job' after 197.328(s), this was the 7th time calling it.\n",
      "WARNING:__main__:Finished call to '__main__.submit_batch_job' after 199.250(s), this was the 7th time calling it.\n",
      "WARNING:__main__:Finished call to '__main__.submit_batch_job' after 194.844(s), this was the 7th time calling it.\n",
      "WARNING:__main__:Finished call to '__main__.submit_batch_job' after 194.094(s), this was the 7th time calling it.\n",
      "WARNING:__main__:Finished call to '__main__.submit_batch_job' after 195.281(s), this was the 7th time calling it.\n",
      "WARNING:__main__:Finished call to '__main__.submit_batch_job' after 197.031(s), this was the 7th time calling it.\n"
     ]
    },
    {
     "name": "stdout",
     "output_type": "stream",
     "text": [
      "Submit batch for file id: file-4UUBuBdpQgdKvzHJSuC8C6\n",
      "Submit batch for file id: file-F88h5Uk7ehNnX47r63WyyR\n",
      "Submit batch for file id: file-2AVzgX5Y8RwqRfxzPwPng8\n",
      "Submit batch for file id: file-BcY6crxbgCYgyFrQRaz6Pt\n",
      "Submit batch for file id: file-WS5FAGYcmFWhaMwvqeqHNw\n",
      "Submit batch for file id: file-AhYpTwxW2VRxanDHEUwvuk\n",
      "Submit batch for file id: file-RpbNLSHeefJMqrdKURxDQA\n",
      "Submit batch for file id: file-BgRPvkoMoqXDM66KTaMxfM\n",
      "Submit batch for file id: file-VmtMXGxF7wcXrFcGLDeUZh\n",
      "Submit batch for file id: file-9sQT68kJppbanW6aKCEvg2\n",
      "Submit batch for file id: file-QpFW9gwRjSDHyAeUgTpAQV\n",
      "Submit batch for file id: file-UhbpDxHDRRjVjEu9ssaCGE\n",
      "Submit batch for file id: file-2jyAyZiAUjteTukuK35NB6\n",
      "Submit batch for file id: file-HLFTuazmdsKCPFdEGwfAYx\n"
     ]
    },
    {
     "name": "stderr",
     "output_type": "stream",
     "text": [
      "WARNING:__main__:Finished call to '__main__.submit_batch_job' after 192.921(s), this was the 7th time calling it.\n",
      "WARNING:__main__:Finished call to '__main__.submit_batch_job' after 192.890(s), this was the 7th time calling it.\n",
      "WARNING:__main__:Finished call to '__main__.submit_batch_job' after 194.468(s), this was the 7th time calling it.\n",
      "WARNING:__main__:Finished call to '__main__.submit_batch_job' after 194.671(s), this was the 7th time calling it.\n",
      "WARNING:__main__:Finished call to '__main__.submit_batch_job' after 193.437(s), this was the 7th time calling it.\n",
      "WARNING:__main__:Finished call to '__main__.submit_batch_job' after 194.281(s), this was the 7th time calling it.\n",
      "WARNING:__main__:Finished call to '__main__.submit_batch_job' after 197.234(s), this was the 7th time calling it.\n",
      "WARNING:__main__:Finished call to '__main__.submit_batch_job' after 196.515(s), this was the 7th time calling it.\n",
      "WARNING:__main__:Finished call to '__main__.submit_batch_job' after 193.218(s), this was the 7th time calling it.\n",
      "WARNING:__main__:Finished call to '__main__.submit_batch_job' after 194.171(s), this was the 7th time calling it.\n",
      "WARNING:__main__:Finished call to '__main__.submit_batch_job' after 194.500(s), this was the 7th time calling it.\n",
      "WARNING:__main__:Finished call to '__main__.submit_batch_job' after 194.297(s), this was the 7th time calling it.\n",
      "WARNING:__main__:Finished call to '__main__.submit_batch_job' after 199.078(s), this was the 7th time calling it.\n",
      "WARNING:__main__:Finished call to '__main__.submit_batch_job' after 193.500(s), this was the 7th time calling it.\n",
      "WARNING:__main__:Finished call to '__main__.submit_batch_job' after 193.047(s), this was the 7th time calling it.\n",
      "WARNING:__main__:Finished call to '__main__.submit_batch_job' after 197.719(s), this was the 7th time calling it.\n",
      "WARNING:__main__:Finished call to '__main__.submit_batch_job' after 200.313(s), this was the 7th time calling it.\n",
      "WARNING:__main__:Finished call to '__main__.submit_batch_job' after 197.531(s), this was the 7th time calling it.\n",
      "WARNING:__main__:Finished call to '__main__.submit_batch_job' after 201.875(s), this was the 7th time calling it.\n",
      "WARNING:__main__:Finished call to '__main__.submit_batch_job' after 193.343(s), this was the 7th time calling it.\n",
      "WARNING:__main__:Finished call to '__main__.submit_batch_job' after 192.969(s), this was the 7th time calling it.\n",
      "WARNING:__main__:Finished call to '__main__.submit_batch_job' after 193.437(s), this was the 7th time calling it.\n",
      "WARNING:__main__:Finished call to '__main__.submit_batch_job' after 196.359(s), this was the 7th time calling it.\n",
      "WARNING:__main__:Finished call to '__main__.submit_batch_job' after 194.719(s), this was the 7th time calling it.\n",
      "WARNING:__main__:Finished call to '__main__.submit_batch_job' after 192.906(s), this was the 7th time calling it.\n",
      "WARNING:__main__:Finished call to '__main__.submit_batch_job' after 192.922(s), this was the 7th time calling it.\n",
      "WARNING:__main__:Finished call to '__main__.submit_batch_job' after 193.187(s), this was the 7th time calling it.\n"
     ]
    },
    {
     "name": "stdout",
     "output_type": "stream",
     "text": [
      "Submit batch for file id: file-RHmvdYBaqLpxSqMaypSZN6\n",
      "Submit batch for file id: file-DbPeHtJ6fBgf4DZeeUnmNn\n"
     ]
    },
    {
     "name": "stderr",
     "output_type": "stream",
     "text": [
      "WARNING:__main__:Finished call to '__main__.submit_batch_job' after 192.891(s), this was the 7th time calling it.\n",
      "WARNING:__main__:Finished call to '__main__.submit_batch_job' after 211.406(s), this was the 7th time calling it.\n"
     ]
    },
    {
     "name": "stdout",
     "output_type": "stream",
     "text": [
      "Submit batch for file id: file-MDqCg3P15rFoep9KXowkbK\n",
      "Submit batch for file id: file-8MkDuQwXcvJQZPkr1WRpzN\n",
      "Submit batch for file id: file-W6xedKAk9Zwkn5QYeWKs7N\n",
      "Submit batch for file id: file-PdemxDdFGttGVSVpNmnkCU\n"
     ]
    },
    {
     "name": "stderr",
     "output_type": "stream",
     "text": [
      "WARNING:__main__:Finished call to '__main__.submit_batch_job' after 192.844(s), this was the 7th time calling it.\n",
      "WARNING:__main__:Finished call to '__main__.submit_batch_job' after 192.875(s), this was the 7th time calling it.\n",
      "WARNING:__main__:Finished call to '__main__.submit_batch_job' after 193.296(s), this was the 7th time calling it.\n",
      "WARNING:__main__:Finished call to '__main__.submit_batch_job' after 192.750(s), this was the 7th time calling it.\n"
     ]
    },
    {
     "name": "stdout",
     "output_type": "stream",
     "text": [
      "Submit batch for file id: file-PHYb6NuxAo4rdUe3sTykUW\n",
      "Submit batch for file id: file-VZp9Bu1g5yFU3AmFoqNGRF\n"
     ]
    },
    {
     "name": "stderr",
     "output_type": "stream",
     "text": [
      "WARNING:__main__:Finished call to '__main__.submit_batch_job' after 192.797(s), this was the 7th time calling it.\n",
      "WARNING:__main__:Finished call to '__main__.submit_batch_job' after 192.922(s), this was the 7th time calling it.\n"
     ]
    },
    {
     "name": "stdout",
     "output_type": "stream",
     "text": [
      "Submit batch for file id: file-XL1vWF5Dk46HD2WWcsWmiH\n",
      "Submit batch for file id: file-H9umBQ55SBNkgKD5DyNEoH\n"
     ]
    },
    {
     "name": "stderr",
     "output_type": "stream",
     "text": [
      "WARNING:__main__:Finished call to '__main__.submit_batch_job' after 193.437(s), this was the 7th time calling it.\n",
      "WARNING:__main__:Finished call to '__main__.submit_batch_job' after 192.797(s), this was the 7th time calling it.\n"
     ]
    },
    {
     "name": "stdout",
     "output_type": "stream",
     "text": [
      "Submit batch for file id: file-Tdrw4YXSENM3QfrTGQKBF5\n",
      "Submit batch for file id: file-Ja5B2rwvgBqawbXmZyhSLD\n",
      "Submit batch for file id: file-JwQADN93qKJfgkZjWg9piw\n"
     ]
    },
    {
     "name": "stderr",
     "output_type": "stream",
     "text": [
      "WARNING:__main__:Finished call to '__main__.submit_batch_job' after 192.906(s), this was the 7th time calling it.\n",
      "WARNING:__main__:Finished call to '__main__.submit_batch_job' after 192.812(s), this was the 7th time calling it.\n",
      "WARNING:__main__:Finished call to '__main__.submit_batch_job' after 192.828(s), this was the 7th time calling it.\n"
     ]
    },
    {
     "name": "stdout",
     "output_type": "stream",
     "text": [
      "Submit batch for file id: file-2AXx8RGZweKu1H1KYfPtKu\n",
      "Submit batch for file id: file-GK4MBhkxWmJnZ7wyRLpgwy\n"
     ]
    },
    {
     "name": "stderr",
     "output_type": "stream",
     "text": [
      "WARNING:__main__:Finished call to '__main__.submit_batch_job' after 192.719(s), this was the 7th time calling it.\n",
      "WARNING:__main__:Finished call to '__main__.submit_batch_job' after 192.859(s), this was the 7th time calling it.\n"
     ]
    },
    {
     "name": "stdout",
     "output_type": "stream",
     "text": [
      "Submit batch for file id: file-NPkj8akvzm3xY2Nng3zLhr\n"
     ]
    },
    {
     "name": "stderr",
     "output_type": "stream",
     "text": [
      "WARNING:__main__:Finished call to '__main__.submit_batch_job' after 192.750(s), this was the 7th time calling it.\n"
     ]
    },
    {
     "name": "stdout",
     "output_type": "stream",
     "text": [
      "Submit batch for file id: file-4Dx4o9pBBkbrHBFB754EBT\n",
      "Submit batch for file id: file-3yHx3RxL5TjHBpqJRwuu5W\n"
     ]
    },
    {
     "name": "stderr",
     "output_type": "stream",
     "text": [
      "WARNING:__main__:Finished call to '__main__.submit_batch_job' after 192.797(s), this was the 7th time calling it.\n",
      "WARNING:__main__:Finished call to '__main__.submit_batch_job' after 192.672(s), this was the 7th time calling it.\n"
     ]
    },
    {
     "name": "stdout",
     "output_type": "stream",
     "text": [
      "Submit batch for file id: file-BMKsPEj3CGi5B6TT6xtSgs\n",
      "Submit batch for file id: file-QPhfFGGDm13XYLfLDuDcVo\n"
     ]
    },
    {
     "name": "stderr",
     "output_type": "stream",
     "text": [
      "WARNING:__main__:Finished call to '__main__.submit_batch_job' after 192.656(s), this was the 7th time calling it.\n",
      "WARNING:__main__:Finished call to '__main__.submit_batch_job' after 192.718(s), this was the 7th time calling it.\n"
     ]
    },
    {
     "name": "stdout",
     "output_type": "stream",
     "text": [
      "Submit batch for file id: file-Pewzr3iPfUGNaz6TuxBZRx\n",
      "Submit batch for file id: file-GsjuNhkyucFtemhFqBw9jK\n",
      "Submit batch for file id: file-1u9Bt8e2ibrsQJJjdunnYv\n",
      "Submit batch for file id: file-SdD4uAiAPrNcWE3d9qeMQR\n"
     ]
    },
    {
     "name": "stderr",
     "output_type": "stream",
     "text": [
      "WARNING:__main__:Finished call to '__main__.submit_batch_job' after 192.672(s), this was the 7th time calling it.\n",
      "WARNING:__main__:Finished call to '__main__.submit_batch_job' after 192.609(s), this was the 7th time calling it.\n",
      "WARNING:__main__:Finished call to '__main__.submit_batch_job' after 192.750(s), this was the 7th time calling it.\n"
     ]
    },
    {
     "name": "stdout",
     "output_type": "stream",
     "text": [
      "Submit batch for file id: file-BLJkpqTaeHRqi71x52mNo2\n"
     ]
    },
    {
     "name": "stderr",
     "output_type": "stream",
     "text": [
      "WARNING:__main__:Finished call to '__main__.submit_batch_job' after 192.750(s), this was the 7th time calling it.\n",
      "WARNING:__main__:Finished call to '__main__.submit_batch_job' after 192.625(s), this was the 7th time calling it.\n"
     ]
    },
    {
     "name": "stdout",
     "output_type": "stream",
     "text": [
      "Submit batch for file id: file-EREeKA86cHncJY5T723gTU\n"
     ]
    },
    {
     "name": "stderr",
     "output_type": "stream",
     "text": [
      "WARNING:__main__:Finished call to '__main__.submit_batch_job' after 192.594(s), this was the 7th time calling it.\n"
     ]
    },
    {
     "name": "stdout",
     "output_type": "stream",
     "text": [
      "Submit batch for file id: file-E9pFaSMNwmSRgnrojGiauK\n",
      "Submit batch for file id: file-CTQq6gZzf8K4m4RTXH33kZ\n",
      "Submit batch for file id: file-T2TohLGKZbNawbsAJeZXXS\n",
      "Submit batch for file id: file-KEfdb4HG8ZHo7v3irUmPrf\n"
     ]
    },
    {
     "name": "stderr",
     "output_type": "stream",
     "text": [
      "WARNING:__main__:Finished call to '__main__.submit_batch_job' after 192.609(s), this was the 7th time calling it.\n",
      "WARNING:__main__:Finished call to '__main__.submit_batch_job' after 192.625(s), this was the 7th time calling it.\n",
      "WARNING:__main__:Finished call to '__main__.submit_batch_job' after 192.672(s), this was the 7th time calling it.\n",
      "WARNING:__main__:Finished call to '__main__.submit_batch_job' after 192.672(s), this was the 7th time calling it.\n"
     ]
    },
    {
     "name": "stdout",
     "output_type": "stream",
     "text": [
      "Submit batch for file id: file-StTXZszJwWqUoK8iCwjRHU\n",
      "Submit batch for file id: file-8YSwsw2WxFpt8r4rTXyoB7\n",
      "Submit batch for file id: file-Kfj1h9e7R5Jpag5oD3KLHs\n",
      "Submit batch for file id: file-92UwsHCxkmjWdH9PXJJy8B\n"
     ]
    },
    {
     "name": "stderr",
     "output_type": "stream",
     "text": [
      "WARNING:__main__:Finished call to '__main__.submit_batch_job' after 192.593(s), this was the 7th time calling it.\n",
      "WARNING:__main__:Finished call to '__main__.submit_batch_job' after 192.640(s), this was the 7th time calling it.\n",
      "WARNING:__main__:Finished call to '__main__.submit_batch_job' after 192.593(s), this was the 7th time calling it.\n",
      "WARNING:__main__:Finished call to '__main__.submit_batch_job' after 192.718(s), this was the 7th time calling it.\n"
     ]
    },
    {
     "name": "stdout",
     "output_type": "stream",
     "text": [
      "Submit batch for file id: file-LnMkodr3RLUicak4j8Hb3t\n",
      "Submit batch for file id: file-7SAcxb657Lmspvy3jPvqEA\n"
     ]
    },
    {
     "name": "stderr",
     "output_type": "stream",
     "text": [
      "WARNING:__main__:Finished call to '__main__.submit_batch_job' after 192.703(s), this was the 7th time calling it.\n",
      "WARNING:__main__:Finished call to '__main__.submit_batch_job' after 219.734(s), this was the 7th time calling it.\n"
     ]
    },
    {
     "name": "stdout",
     "output_type": "stream",
     "text": [
      "Submit batch for file id: file-TGi9iR6bGUYTrFgoCFYSgG\n"
     ]
    },
    {
     "name": "stderr",
     "output_type": "stream",
     "text": [
      "WARNING:__main__:Finished call to '__main__.submit_batch_job' after 192.687(s), this was the 7th time calling it.\n"
     ]
    },
    {
     "name": "stdout",
     "output_type": "stream",
     "text": [
      "Submit batch for file id: file-CjbMGVaVoWuMTk2BaEHNEc\n",
      "Submit batch for file id: file-RpfWUuLgJwpAbjB38WjuHK\n",
      "Submit batch for file id: file-GMmTXCAPUoEQZ5BTKoW7Xr\n",
      "Submit batch for file id: file-ARbcb6daxPvkz321rT8Um2\n"
     ]
    },
    {
     "name": "stderr",
     "output_type": "stream",
     "text": [
      "WARNING:__main__:Finished call to '__main__.submit_batch_job' after 192.891(s), this was the 7th time calling it.\n",
      "WARNING:__main__:Finished call to '__main__.submit_batch_job' after 192.797(s), this was the 7th time calling it.\n",
      "WARNING:__main__:Finished call to '__main__.submit_batch_job' after 193.046(s), this was the 7th time calling it.\n",
      "WARNING:__main__:Finished call to '__main__.submit_batch_job' after 192.719(s), this was the 7th time calling it.\n"
     ]
    },
    {
     "name": "stdout",
     "output_type": "stream",
     "text": [
      "Submit batch for file id: file-48PtGcVKrxLXeRd2Gb6jth\n",
      "Submit batch for file id: file-EU6DXJX52qVSNfH47NQZFv\n",
      "Submit batch for file id: file-MobUfaYeC9fQtNvY1idKYQ\n",
      "Submit batch for file id: file-FNm2ryVaWgk9CDSPqxaTNK\n"
     ]
    },
    {
     "name": "stderr",
     "output_type": "stream",
     "text": [
      "WARNING:__main__:Finished call to '__main__.submit_batch_job' after 192.875(s), this was the 7th time calling it.\n",
      "WARNING:__main__:Finished call to '__main__.submit_batch_job' after 192.875(s), this was the 7th time calling it.\n",
      "WARNING:__main__:Finished call to '__main__.submit_batch_job' after 192.703(s), this was the 7th time calling it.\n",
      "WARNING:__main__:Finished call to '__main__.submit_batch_job' after 192.750(s), this was the 7th time calling it.\n"
     ]
    },
    {
     "name": "stdout",
     "output_type": "stream",
     "text": [
      "Submit batch for file id: file-BMNRxC48UPsUzZdyBD4XPR\n"
     ]
    },
    {
     "name": "stderr",
     "output_type": "stream",
     "text": [
      "WARNING:__main__:Finished call to '__main__.submit_batch_job' after 192.922(s), this was the 7th time calling it.\n"
     ]
    },
    {
     "name": "stdout",
     "output_type": "stream",
     "text": [
      "Submit batch for file id: file-7VTpJZr5MySVvJUQ55JQ8J\n",
      "Submit batch for file id: file-WrnJrqEmPukmoVjgfWqDv7\n",
      "Submit batch for file id: file-NThfuvn1fDADecNP8ZYhSR\n",
      "Submit batch for file id: file-LeXQRLFTHd2GMY6naGmM5e\n"
     ]
    },
    {
     "name": "stderr",
     "output_type": "stream",
     "text": [
      "WARNING:__main__:Finished call to '__main__.submit_batch_job' after 192.734(s), this was the 7th time calling it.\n",
      "WARNING:__main__:Finished call to '__main__.submit_batch_job' after 192.656(s), this was the 7th time calling it.\n",
      "WARNING:__main__:Finished call to '__main__.submit_batch_job' after 192.610(s), this was the 7th time calling it.\n",
      "WARNING:__main__:Finished call to '__main__.submit_batch_job' after 192.922(s), this was the 7th time calling it.\n"
     ]
    },
    {
     "name": "stdout",
     "output_type": "stream",
     "text": [
      "Submit batch for file id: file-RziAkibZ371jUpgQTtD9XD\n",
      "Submit batch for file id: file-QYZBaJPyrTsK9HRtkixn1S\n",
      "Submit batch for file id: file-BcYjC8yq24uq3edTcM6sLp\n",
      "Submit batch for file id: file-M6vqjx7iJS4UnXAssmNU45\n",
      "Submit batch for file id: file-Tr1jAgWvz4F4pfyJZkQZVo\n",
      "Submit batch for file id: file-FgP1tfYxnMRQCnHkab4XCC\n"
     ]
    },
    {
     "name": "stderr",
     "output_type": "stream",
     "text": [
      "WARNING:__main__:Finished call to '__main__.submit_batch_job' after 192.609(s), this was the 7th time calling it.\n",
      "WARNING:__main__:Finished call to '__main__.submit_batch_job' after 192.594(s), this was the 7th time calling it.\n",
      "WARNING:__main__:Finished call to '__main__.submit_batch_job' after 192.531(s), this was the 7th time calling it.\n",
      "WARNING:__main__:Finished call to '__main__.submit_batch_job' after 192.578(s), this was the 7th time calling it.\n",
      "WARNING:__main__:Finished call to '__main__.submit_batch_job' after 192.609(s), this was the 7th time calling it.\n"
     ]
    },
    {
     "name": "stdout",
     "output_type": "stream",
     "text": [
      "Submit batch for file id: file-8JjpMKrZycPontb9SVds2h\n",
      "Submit batch for file id: file-4ysB3dATxdLtyFmGoMLJbm\n",
      "Submit batch for file id: file-FKsNVDiy75uq3y1QEVkgrD\n"
     ]
    },
    {
     "name": "stderr",
     "output_type": "stream",
     "text": [
      "WARNING:__main__:Finished call to '__main__.submit_batch_job' after 192.547(s), this was the 7th time calling it.\n",
      "WARNING:__main__:Finished call to '__main__.submit_batch_job' after 192.610(s), this was the 7th time calling it.\n",
      "WARNING:__main__:Finished call to '__main__.submit_batch_job' after 192.922(s), this was the 7th time calling it.\n",
      "WARNING:__main__:Finished call to '__main__.submit_batch_job' after 192.547(s), this was the 7th time calling it.\n"
     ]
    },
    {
     "name": "stdout",
     "output_type": "stream",
     "text": [
      "Submit batch for file id: file-FwXwCpj511e6CWRvvuSouN\n",
      "Submit batch for file id: file-9pmuPCdP8Kzt1xT6bKFBsD\n"
     ]
    },
    {
     "name": "stderr",
     "output_type": "stream",
     "text": [
      "WARNING:__main__:Finished call to '__main__.submit_batch_job' after 192.703(s), this was the 7th time calling it.\n",
      "WARNING:__main__:Finished call to '__main__.submit_batch_job' after 192.750(s), this was the 7th time calling it.\n"
     ]
    },
    {
     "name": "stdout",
     "output_type": "stream",
     "text": [
      "Submit batch for file id: file-MjMR2x32dToxY33RGkjuD7\n",
      "Submit batch for file id: file-QSUvfRzgRr5HpNghTDDWM3\n",
      "Submit batch for file id: file-AcpkMAU8hZmEdmP8zoi6Qm\n",
      "Submit batch for file id: file-Wa1JHvq4qG361g9iiWX1N4\n",
      "Submit batch for file id: file-U9gTH3LrY4XrxSLfsGvLPM\n",
      "Submit batch for file id: file-XTF1Vw6ny7HJmK373gw8oR\n",
      "Submit batch for file id: file-A7iJ41EqiTyJ2VwxDp49qa\n",
      "Submit batch for file id: file-73PzCnFFqM22rsR6CJ9jwd\n",
      "Submit batch for file id: file-TiqaXQszBeB7jLUgJK5zUC\n",
      "Submit batch for file id: file-K1PkdGJiqkdhJ4GzKwK9fm\n",
      "Submit batch for file id: file-GmUMG16MtN9gaT5pGe2yUf\n",
      "Submit batch for file id: file-5xH83SH3nrjj5FUjM8hE5z\n",
      "Submit batch for file id: file-SGoozFukVkQGkRjNpvqu6M\n",
      "Submit batch for file id: file-19hekmGRNLex8qyv4jhnFF\n",
      "Submit batch for file id: file-1RSpMvog5uDCq2UMxVmfbV\n"
     ]
    },
    {
     "name": "stderr",
     "output_type": "stream",
     "text": [
      "WARNING:__main__:Finished call to '__main__.submit_batch_job' after 192.609(s), this was the 7th time calling it.\n",
      "WARNING:__main__:Finished call to '__main__.submit_batch_job' after 192.578(s), this was the 7th time calling it.\n",
      "WARNING:__main__:Finished call to '__main__.submit_batch_job' after 192.563(s), this was the 7th time calling it.\n",
      "WARNING:__main__:Finished call to '__main__.submit_batch_job' after 192.640(s), this was the 7th time calling it.\n",
      "WARNING:__main__:Finished call to '__main__.submit_batch_job' after 192.609(s), this was the 7th time calling it.\n",
      "WARNING:__main__:Finished call to '__main__.submit_batch_job' after 192.625(s), this was the 7th time calling it.\n",
      "WARNING:__main__:Finished call to '__main__.submit_batch_job' after 192.531(s), this was the 7th time calling it.\n",
      "WARNING:__main__:Finished call to '__main__.submit_batch_job' after 192.609(s), this was the 7th time calling it.\n",
      "WARNING:__main__:Finished call to '__main__.submit_batch_job' after 192.578(s), this was the 7th time calling it.\n",
      "WARNING:__main__:Finished call to '__main__.submit_batch_job' after 192.562(s), this was the 7th time calling it.\n",
      "WARNING:__main__:Finished call to '__main__.submit_batch_job' after 192.563(s), this was the 7th time calling it.\n",
      "WARNING:__main__:Finished call to '__main__.submit_batch_job' after 192.594(s), this was the 7th time calling it.\n",
      "WARNING:__main__:Finished call to '__main__.submit_batch_job' after 192.578(s), this was the 7th time calling it.\n",
      "WARNING:__main__:Finished call to '__main__.submit_batch_job' after 192.500(s), this was the 7th time calling it.\n",
      "WARNING:__main__:Finished call to '__main__.submit_batch_job' after 192.563(s), this was the 7th time calling it.\n"
     ]
    },
    {
     "name": "stdout",
     "output_type": "stream",
     "text": [
      "Submit batch for file id: file-2PNqqZAVUw8DUdW6ow24Nk\n",
      "Submit batch for file id: file-FBpbUrfk5hFRS7qQf2wU7i\n",
      "Submit batch for file id: file-FU68rpH3iXMw4a22fBpRHt\n",
      "Submit batch for file id: file-WdG9GHe5CUPVbZx2Uc1dT5\n",
      "Submit batch for file id: file-KSGYAE72fyQKWzumYLtZLY\n",
      "Submit batch for file id: file-Ng8hKcLpo77rK2QwqX7auq\n",
      "Submit batch for file id: file-3NHyHyt4fTK2ypn4GpK54T\n",
      "Submit batch for file id: file-3M7wi21PaBYezt1qttZRqL\n"
     ]
    },
    {
     "name": "stderr",
     "output_type": "stream",
     "text": [
      "WARNING:__main__:Finished call to '__main__.submit_batch_job' after 192.485(s), this was the 7th time calling it.\n",
      "WARNING:__main__:Finished call to '__main__.submit_batch_job' after 192.500(s), this was the 7th time calling it.\n",
      "WARNING:__main__:Finished call to '__main__.submit_batch_job' after 192.547(s), this was the 7th time calling it.\n",
      "WARNING:__main__:Finished call to '__main__.submit_batch_job' after 192.531(s), this was the 7th time calling it.\n",
      "WARNING:__main__:Finished call to '__main__.submit_batch_job' after 192.547(s), this was the 7th time calling it.\n",
      "WARNING:__main__:Finished call to '__main__.submit_batch_job' after 192.625(s), this was the 7th time calling it.\n",
      "WARNING:__main__:Finished call to '__main__.submit_batch_job' after 192.594(s), this was the 7th time calling it.\n",
      "WARNING:__main__:Finished call to '__main__.submit_batch_job' after 192.640(s), this was the 7th time calling it.\n"
     ]
    },
    {
     "name": "stdout",
     "output_type": "stream",
     "text": [
      "Submit batch for file id: file-QpWac8fzcNRqMVD1imLZN2\n",
      "Submit batch for file id: file-9WwhAQQH5C9pjPUdQPS7PH\n"
     ]
    },
    {
     "name": "stderr",
     "output_type": "stream",
     "text": [
      "WARNING:__main__:Finished call to '__main__.submit_batch_job' after 192.578(s), this was the 7th time calling it.\n",
      "WARNING:__main__:Finished call to '__main__.submit_batch_job' after 192.531(s), this was the 7th time calling it.\n"
     ]
    },
    {
     "name": "stdout",
     "output_type": "stream",
     "text": [
      "Submit batch for file id: file-VWbofwLYTc2XKR1tWy27Xm\n",
      "Submit batch for file id: file-QEEnDUbDpxadhah3wi8xeh\n",
      "Submit batch for file id: file-F2ytrfRktUCSFpBePnJokc\n",
      "Submit batch for file id: file-BJ6SoE2jasuvWdQdQzY6QG\n",
      "Submit batch for file id: file-FnbEuh9cXtH1rY17Ahq38a\n",
      "Submit batch for file id: file-9tgGZ5CVwidwqHs6vs7Y2D\n",
      "Submit batch for file id: file-WtbAvhtw8owkMrg8aThABy\n",
      "Submit batch for file id: file-7NHGfB6gapXMomUNiCV9i7\n",
      "Submit batch for file id: file-GhD1dQH9vwfzVy4DwSAZ6D\n"
     ]
    },
    {
     "name": "stderr",
     "output_type": "stream",
     "text": [
      "WARNING:__main__:Finished call to '__main__.submit_batch_job' after 192.578(s), this was the 7th time calling it.\n",
      "WARNING:__main__:Finished call to '__main__.submit_batch_job' after 192.547(s), this was the 7th time calling it.\n",
      "WARNING:__main__:Finished call to '__main__.submit_batch_job' after 192.546(s), this was the 7th time calling it.\n",
      "WARNING:__main__:Finished call to '__main__.submit_batch_job' after 192.516(s), this was the 7th time calling it.\n",
      "WARNING:__main__:Finished call to '__main__.submit_batch_job' after 192.547(s), this was the 7th time calling it.\n",
      "WARNING:__main__:Finished call to '__main__.submit_batch_job' after 192.578(s), this was the 7th time calling it.\n",
      "WARNING:__main__:Finished call to '__main__.submit_batch_job' after 192.500(s), this was the 7th time calling it.\n",
      "WARNING:__main__:Finished call to '__main__.submit_batch_job' after 192.563(s), this was the 7th time calling it.\n",
      "WARNING:__main__:Finished call to '__main__.submit_batch_job' after 192.594(s), this was the 7th time calling it.\n"
     ]
    },
    {
     "name": "stdout",
     "output_type": "stream",
     "text": [
      "Submit batch for file id: file-14UtbHeH4gqhTEmMB7B6QX\n",
      "Submit batch for file id: file-MWn3HdNBGpCa3QDR7CiBE6\n",
      "Submit batch for file id: file-Dt7PZkigoGW6CSiksJWKdx\n",
      "Submit batch for file id: file-452kpXTmFLdXh9aRAfhH3A\n",
      "Submit batch for file id: file-C4wp4VMHepZpHQ85ouox9U\n"
     ]
    },
    {
     "name": "stderr",
     "output_type": "stream",
     "text": [
      "WARNING:__main__:Finished call to '__main__.submit_batch_job' after 192.578(s), this was the 7th time calling it.\n",
      "WARNING:__main__:Finished call to '__main__.submit_batch_job' after 192.547(s), this was the 7th time calling it.\n",
      "WARNING:__main__:Finished call to '__main__.submit_batch_job' after 192.578(s), this was the 7th time calling it.\n",
      "WARNING:__main__:Finished call to '__main__.submit_batch_job' after 192.578(s), this was the 7th time calling it.\n",
      "WARNING:__main__:Finished call to '__main__.submit_batch_job' after 192.469(s), this was the 7th time calling it.\n"
     ]
    },
    {
     "name": "stdout",
     "output_type": "stream",
     "text": [
      "Submit batch for file id: file-DyynCjH5cKoz3hSsmNynvY\n",
      "Submit batch for file id: file-AMgw3d9pcadAK8ZnQRGSDs\n"
     ]
    },
    {
     "name": "stderr",
     "output_type": "stream",
     "text": [
      "WARNING:__main__:Finished call to '__main__.submit_batch_job' after 192.578(s), this was the 7th time calling it.\n",
      "WARNING:__main__:Finished call to '__main__.submit_batch_job' after 192.516(s), this was the 7th time calling it.\n"
     ]
    },
    {
     "name": "stdout",
     "output_type": "stream",
     "text": [
      "Submit batch for file id: file-1uFDWcaPVM8ChELTmdJCcG\n"
     ]
    },
    {
     "name": "stderr",
     "output_type": "stream",
     "text": [
      "WARNING:__main__:Finished call to '__main__.submit_batch_job' after 192.594(s), this was the 7th time calling it.\n"
     ]
    },
    {
     "name": "stdout",
     "output_type": "stream",
     "text": [
      "Submit batch for file id: file-9Es3UigCPuAWFRi3ST68f2\n",
      "Submit batch for file id: file-UeP82H3VUMSuBxtVeLZBFF\n"
     ]
    },
    {
     "name": "stderr",
     "output_type": "stream",
     "text": [
      "WARNING:__main__:Finished call to '__main__.submit_batch_job' after 192.562(s), this was the 7th time calling it.\n",
      "WARNING:__main__:Finished call to '__main__.submit_batch_job' after 192.609(s), this was the 7th time calling it.\n"
     ]
    },
    {
     "name": "stdout",
     "output_type": "stream",
     "text": [
      "Submit batch for file id: file-RgyeJcJutqJBZxkhcVTFYn\n",
      "Submit batch for file id: file-RusKox4cP5mvXYPe2vzKjj\n",
      "Submit batch for file id: file-T9jpStdLsFSk8aNsndQKeQ\n"
     ]
    },
    {
     "name": "stderr",
     "output_type": "stream",
     "text": [
      "WARNING:__main__:Finished call to '__main__.submit_batch_job' after 197.563(s), this was the 7th time calling it.\n",
      "WARNING:__main__:Finished call to '__main__.submit_batch_job' after 228.125(s), this was the 7th time calling it.\n",
      "WARNING:__main__:Finished call to '__main__.submit_batch_job' after 215.203(s), this was the 7th time calling it.\n"
     ]
    },
    {
     "name": "stdout",
     "output_type": "stream",
     "text": [
      "Submit batch for file id: file-Sfn6y2g3SKoBBdu7meGb4K\n",
      "Submit batch for file id: file-MqjpxfVDJHZXuRTmUzXggp\n"
     ]
    },
    {
     "name": "stderr",
     "output_type": "stream",
     "text": [
      "WARNING:__main__:Finished call to '__main__.submit_batch_job' after 401.891(s), this was the 8th time calling it.\n",
      "WARNING:__main__:Finished call to '__main__.submit_batch_job' after 403.203(s), this was the 8th time calling it.\n"
     ]
    },
    {
     "name": "stdout",
     "output_type": "stream",
     "text": [
      "Submit batch for file id: file-4WD4NrziSJua7SdRc3k17V\n"
     ]
    },
    {
     "name": "stderr",
     "output_type": "stream",
     "text": [
      "WARNING:__main__:Finished call to '__main__.submit_batch_job' after 391.281(s), this was the 8th time calling it.\n"
     ]
    },
    {
     "name": "stdout",
     "output_type": "stream",
     "text": [
      "Submit batch for file id: file-DCtZcAb1kQNse8E5BdLLSt\n"
     ]
    },
    {
     "name": "stderr",
     "output_type": "stream",
     "text": [
      "WARNING:__main__:Finished call to '__main__.submit_batch_job' after 387.609(s), this was the 8th time calling it.\n"
     ]
    },
    {
     "name": "stdout",
     "output_type": "stream",
     "text": [
      "Submit batch for file id: file-QtbZL6tHmRzD1KySbRSojf\n"
     ]
    },
    {
     "name": "stderr",
     "output_type": "stream",
     "text": [
      "WARNING:__main__:Finished call to '__main__.submit_batch_job' after 385.578(s), this was the 8th time calling it.\n"
     ]
    },
    {
     "name": "stdout",
     "output_type": "stream",
     "text": [
      "Submit batch for file id: file-4iELHf65RHG46TRJG97A5m\n",
      "Submit batch for file id: file-UhaPhcmrzRe6AriJi7D8Xn\n"
     ]
    },
    {
     "name": "stderr",
     "output_type": "stream",
     "text": [
      "WARNING:__main__:Finished call to '__main__.submit_batch_job' after 416.688(s), this was the 8th time calling it.\n",
      "WARNING:__main__:Finished call to '__main__.submit_batch_job' after 417.140(s), this was the 8th time calling it.\n"
     ]
    },
    {
     "name": "stdout",
     "output_type": "stream",
     "text": [
      "Submit batch for file id: file-3fmNDSb9bejhsKQQVEJkeG\n",
      "Submit batch for file id: file-ThUzQnduMpC1Uok36nmaua\n"
     ]
    },
    {
     "name": "stderr",
     "output_type": "stream",
     "text": [
      "WARNING:__main__:Finished call to '__main__.submit_batch_job' after 414.969(s), this was the 8th time calling it.\n",
      "WARNING:__main__:Finished call to '__main__.submit_batch_job' after 413.375(s), this was the 8th time calling it.\n"
     ]
    },
    {
     "name": "stdout",
     "output_type": "stream",
     "text": [
      "Submit batch for file id: file-H4UcdjvzFU3NSvLfV9Lz91\n",
      "Submit batch for file id: file-FqRbp1o9UcMyS43rtgozVF\n",
      "Submit batch for file id: file-GeQEbs1FumYAywStuHXGz2\n",
      "Submit batch for file id: file-1NMVxFsL8X9gXuXCd1M7aw\n",
      "Submit batch for file id: file-7xLX9EvuFRC8z5d1BkZmwg\n"
     ]
    },
    {
     "name": "stderr",
     "output_type": "stream",
     "text": [
      "WARNING:__main__:Finished call to '__main__.submit_batch_job' after 414.328(s), this was the 8th time calling it.\n",
      "WARNING:__main__:Finished call to '__main__.submit_batch_job' after 413.234(s), this was the 8th time calling it.\n"
     ]
    },
    {
     "name": "stdout",
     "output_type": "stream",
     "text": [
      "Submit batch for file id: file-1isXv9KCKi8aFR2XJdh1rr\n",
      "Submit batch for file id: file-TRjcj5TSPkxG7Zuu5SiC4X\n",
      "Submit batch for file id: file-MKjjGe4CJK4cEyuAZP17ik\n",
      "Submit batch for file id: file-2fXDtEf9HWQp16vYJRKbW7\n",
      "Submit batch for file id: file-GzunAg1Jw91Jwt7gBFJBHV\n",
      "Submit batch for file id: file-QxKgbxPLvdvGzS4VTHTkLN\n",
      "Submit batch for file id: file-PArMLLVcLezL2Yyv5an18b\n",
      "Submit batch for file id: file-8UAk9kX5rpzBaw4XdxDPHC\n",
      "Submit batch for file id: file-LBdJ7yEGUcrf9PUqaYEYYr\n",
      "Submit batch for file id: file-CzMBcRbrD3bdGSTfdLPbkJ\n",
      "Submit batch for file id: file-Dj4JPGJmPNbtDFrc7PvEtb\n"
     ]
    },
    {
     "name": "stderr",
     "output_type": "stream",
     "text": [
      "WARNING:__main__:Finished call to '__main__.submit_batch_job' after 411.735(s), this was the 8th time calling it.\n",
      "WARNING:__main__:Finished call to '__main__.submit_batch_job' after 412.578(s), this was the 8th time calling it.\n",
      "WARNING:__main__:Finished call to '__main__.submit_batch_job' after 412.250(s), this was the 8th time calling it.\n",
      "WARNING:__main__:Finished call to '__main__.submit_batch_job' after 413.484(s), this was the 8th time calling it.\n",
      "WARNING:__main__:Finished call to '__main__.submit_batch_job' after 411.390(s), this was the 8th time calling it.\n",
      "WARNING:__main__:Finished call to '__main__.submit_batch_job' after 412.282(s), this was the 8th time calling it.\n"
     ]
    },
    {
     "name": "stdout",
     "output_type": "stream",
     "text": [
      "Submit batch for file id: file-Q3nAh4mS6MAXDKjkWrbYBv\n",
      "Submit batch for file id: file-5gqNiwo1LRu7sVuKnG8kaU\n",
      "Submit batch for file id: file-L18uPjHMMmG7dko5B4TDvL\n",
      "Submit batch for file id: file-6LX5UEFn5XPUWdDQowifhb\n",
      "Submit batch for file id: file-34GkneJBJey5PxfHBjf76d\n",
      "Submit batch for file id: file-5HwBpd5vU8mbS5isXXWtHf\n",
      "Submit batch for file id: file-Khcv7WqDiZQWtK29NyAVHK\n",
      "Submit batch for file id: file-Fprg6acBD5mfwJRKg7qhBU\n",
      "Submit batch for file id: file-Q77rQfKqLTy7JdP6B53MXR\n",
      "Submit batch for file id: file-1fDq8cz6i6fWC9p4riYfn8\n",
      "Submit batch for file id: file-KZjZHp1tuQw7CjVSefKgH8\n",
      "Submit batch for file id: file-EKGwz4JDNFvAdYi2kiWPs1\n",
      "Submit batch for file id: file-Fo5ksX8z6SbdXXNTLTH13J\n",
      "Submit batch for file id: file-KGpSmjoPL3664QVP2y99ee\n"
     ]
    },
    {
     "name": "stderr",
     "output_type": "stream",
     "text": [
      "WARNING:__main__:Finished call to '__main__.submit_batch_job' after 385.344(s), this was the 8th time calling it.\n",
      "WARNING:__main__:Finished call to '__main__.submit_batch_job' after 413.203(s), this was the 8th time calling it.\n",
      "WARNING:__main__:Finished call to '__main__.submit_batch_job' after 410.907(s), this was the 8th time calling it.\n",
      "WARNING:__main__:Finished call to '__main__.submit_batch_job' after 413.500(s), this was the 8th time calling it.\n",
      "WARNING:__main__:Finished call to '__main__.submit_batch_job' after 410.641(s), this was the 8th time calling it.\n",
      "WARNING:__main__:Finished call to '__main__.submit_batch_job' after 385.266(s), this was the 8th time calling it.\n",
      "WARNING:__main__:Finished call to '__main__.submit_batch_job' after 412.015(s), this was the 8th time calling it.\n",
      "WARNING:__main__:Finished call to '__main__.submit_batch_job' after 411.578(s), this was the 8th time calling it.\n",
      "WARNING:__main__:Finished call to '__main__.submit_batch_job' after 412.484(s), this was the 8th time calling it.\n",
      "WARNING:__main__:Finished call to '__main__.submit_batch_job' after 412.797(s), this was the 8th time calling it.\n",
      "WARNING:__main__:Finished call to '__main__.submit_batch_job' after 410.766(s), this was the 8th time calling it.\n",
      "WARNING:__main__:Finished call to '__main__.submit_batch_job' after 410.750(s), this was the 8th time calling it.\n",
      "WARNING:__main__:Finished call to '__main__.submit_batch_job' after 385.578(s), this was the 8th time calling it.\n",
      "WARNING:__main__:Finished call to '__main__.submit_batch_job' after 413.015(s), this was the 8th time calling it.\n",
      "WARNING:__main__:Finished call to '__main__.submit_batch_job' after 411.484(s), this was the 8th time calling it.\n"
     ]
    },
    {
     "name": "stdout",
     "output_type": "stream",
     "text": [
      "Submit batch for file id: file-6hwGTQJkvpNby3vCRzdi8r\n",
      "Submit batch for file id: file-KvNYFYP6LV3vBkLhfEteq9\n",
      "Submit batch for file id: file-UmdSKAtbz7mytCsPcw4ytH\n",
      "Submit batch for file id: file-Weof6ATP6ra6AmywrA4ETG\n",
      "Submit batch for file id: file-FX3XzucfTo4aRreRY5vW5G\n",
      "Submit batch for file id: file-5tCKkf9LDpsN5aoKguJHGb\n",
      "Submit batch for file id: file-L3rBpKhbj1kT17QdawZKVx\n",
      "Submit batch for file id: file-BrP9mvdjjaEE4uoPjKTy8e\n",
      "Submit batch for file id: file-RfqpSJZ8byFyaWm12Aw7EJ\n"
     ]
    },
    {
     "name": "stderr",
     "output_type": "stream",
     "text": [
      "WARNING:__main__:Finished call to '__main__.submit_batch_job' after 410.625(s), this was the 8th time calling it.\n",
      "WARNING:__main__:Finished call to '__main__.submit_batch_job' after 410.625(s), this was the 8th time calling it.\n",
      "WARNING:__main__:Finished call to '__main__.submit_batch_job' after 412.485(s), this was the 8th time calling it.\n",
      "WARNING:__main__:Finished call to '__main__.submit_batch_job' after 411.703(s), this was the 8th time calling it.\n",
      "WARNING:__main__:Finished call to '__main__.submit_batch_job' after 411.344(s), this was the 8th time calling it.\n",
      "WARNING:__main__:Finished call to '__main__.submit_batch_job' after 410.703(s), this was the 8th time calling it.\n",
      "WARNING:__main__:Finished call to '__main__.submit_batch_job' after 410.625(s), this was the 8th time calling it.\n",
      "WARNING:__main__:Finished call to '__main__.submit_batch_job' after 410.922(s), this was the 8th time calling it.\n",
      "WARNING:__main__:Finished call to '__main__.submit_batch_job' after 412.047(s), this was the 8th time calling it.\n",
      "WARNING:__main__:Finished call to '__main__.submit_batch_job' after 410.969(s), this was the 8th time calling it.\n",
      "WARNING:__main__:Finished call to '__main__.submit_batch_job' after 411.641(s), this was the 8th time calling it.\n",
      "WARNING:__main__:Finished call to '__main__.submit_batch_job' after 410.579(s), this was the 8th time calling it.\n",
      "WARNING:__main__:Finished call to '__main__.submit_batch_job' after 412.594(s), this was the 8th time calling it.\n",
      "WARNING:__main__:Finished call to '__main__.submit_batch_job' after 410.172(s), this was the 8th time calling it.\n",
      "WARNING:__main__:Finished call to '__main__.submit_batch_job' after 410.844(s), this was the 8th time calling it.\n",
      "WARNING:__main__:Finished call to '__main__.submit_batch_job' after 410.062(s), this was the 8th time calling it.\n"
     ]
    },
    {
     "name": "stdout",
     "output_type": "stream",
     "text": [
      "Submit batch for file id: file-2GktNG8Fgh57fMM32WsWUc\n",
      "Submit batch for file id: file-9PzdXV5aKUbgUEnvjVBRc8\n",
      "Submit batch for file id: file-VXUmzc7fTWyzxoUPJ9uCGJ\n",
      "Submit batch for file id: file-WVUgq3Pzipr9EmVoe6epU5\n",
      "Submit batch for file id: file-GoXRYrJMdnER63ECcb1DUw\n",
      "Submit batch for file id: file-6w6qWFHB46Q5bz6yNLrpfT\n",
      "Submit batch for file id: file-HQBzF5n1VF7pqCBgiULxp8\n",
      "Submit batch for file id: file-R2re44U418x6UDTCX1jeRS\n",
      "Submit batch for file id: file-1AQYB4Rc2rmE784MmJxRK5\n",
      "Submit batch for file id: file-BqLuoDMp7RDSL3vg4Zme5E\n",
      "Submit batch for file id: file-YLn8FVmakzjTvym4ZjDHkx\n",
      "Submit batch for file id: file-8svkkDGm6DstHAhtxKWN4d\n"
     ]
    },
    {
     "name": "stderr",
     "output_type": "stream",
     "text": [
      "WARNING:__main__:Finished call to '__main__.submit_batch_job' after 385.203(s), this was the 8th time calling it.\n",
      "WARNING:__main__:Finished call to '__main__.submit_batch_job' after 410.094(s), this was the 8th time calling it.\n",
      "WARNING:__main__:Finished call to '__main__.submit_batch_job' after 409.922(s), this was the 8th time calling it.\n",
      "WARNING:__main__:Finished call to '__main__.submit_batch_job' after 409.828(s), this was the 8th time calling it.\n",
      "WARNING:__main__:Finished call to '__main__.submit_batch_job' after 409.547(s), this was the 8th time calling it.\n",
      "WARNING:__main__:Finished call to '__main__.submit_batch_job' after 409.813(s), this was the 8th time calling it.\n",
      "WARNING:__main__:Finished call to '__main__.submit_batch_job' after 410.000(s), this was the 8th time calling it.\n",
      "WARNING:__main__:Finished call to '__main__.submit_batch_job' after 410.890(s), this was the 8th time calling it.\n",
      "WARNING:__main__:Finished call to '__main__.submit_batch_job' after 409.829(s), this was the 8th time calling it.\n",
      "WARNING:__main__:Finished call to '__main__.submit_batch_job' after 409.141(s), this was the 8th time calling it.\n",
      "WARNING:__main__:Finished call to '__main__.submit_batch_job' after 409.360(s), this was the 8th time calling it.\n",
      "WARNING:__main__:Finished call to '__main__.submit_batch_job' after 409.453(s), this was the 8th time calling it.\n"
     ]
    },
    {
     "name": "stdout",
     "output_type": "stream",
     "text": [
      "Submit batch for file id: file-39vzF4LaqdajCSPfygAteN\n",
      "Submit batch for file id: file-CXDGiUgoYice4vcgoJyvtF\n",
      "Submit batch for file id: file-9e7SdTfz6YxMvai4wzwZsm\n",
      "Submit batch for file id: file-Y93zkbzQ4n9ZrAkSi1o5f4\n",
      "Submit batch for file id: file-Dz7fYP8ujbF3Y6HXTpCSPD\n",
      "Submit batch for file id: file-CVuJGzm57nnPkHVotMCYMz\n",
      "Submit batch for file id: file-JWMMg384xxLy7Jjtznt7Fp\n",
      "Submit batch for file id: file-2gEWPEqJvtVEy1XQm9gEJh\n",
      "Submit batch for file id: file-W8CE6Ej9oUNWhDaC4kipuZ\n",
      "Submit batch for file id: file-R7zwdPKreYKoKpGqgWYJMh\n"
     ]
    },
    {
     "name": "stderr",
     "output_type": "stream",
     "text": [
      "WARNING:__main__:Finished call to '__main__.submit_batch_job' after 409.375(s), this was the 8th time calling it.\n",
      "WARNING:__main__:Finished call to '__main__.submit_batch_job' after 408.766(s), this was the 8th time calling it.\n",
      "WARNING:__main__:Finished call to '__main__.submit_batch_job' after 410.344(s), this was the 8th time calling it.\n",
      "WARNING:__main__:Finished call to '__main__.submit_batch_job' after 408.984(s), this was the 8th time calling it.\n",
      "WARNING:__main__:Finished call to '__main__.submit_batch_job' after 408.625(s), this was the 8th time calling it.\n",
      "WARNING:__main__:Finished call to '__main__.submit_batch_job' after 407.937(s), this was the 8th time calling it.\n",
      "WARNING:__main__:Finished call to '__main__.submit_batch_job' after 408.890(s), this was the 8th time calling it.\n",
      "WARNING:__main__:Finished call to '__main__.submit_batch_job' after 408.375(s), this was the 8th time calling it.\n"
     ]
    },
    {
     "name": "stdout",
     "output_type": "stream",
     "text": [
      "Submit batch for file id: file-MsPvyzEpQnZFTeXbQ2c1sF\n",
      "Submit batch for file id: file-8hhtBWdyi9VfpM67FuJpWK\n",
      "Submit batch for file id: file-6vZzfNQmAZ5iMUNFdt2sMz\n",
      "Submit batch for file id: file-Q5euvqtoYoWQmoJUCvvNyu\n",
      "Submit batch for file id: file-4LZVubFvWedm1goW8RqwZx\n",
      "Submit batch for file id: file-MPazBAFopFUQ3TGzaQCvUV\n",
      "Submit batch for file id: file-XQ7TSQWCDhBiiVZJkdscMM\n",
      "Submit batch for file id: file-QbzTdYT5yRo5wdB8YPWCCu\n",
      "Submit batch for file id: file-7P2Y5dijJGmAYZrEEGSUPc\n",
      "Submit batch for file id: file-JCA6qGgzpDMSisGBR7ZZiD\n",
      "Submit batch for file id: file-TZoTML1cBjTi2nZxNtWTmj\n",
      "Submit batch for file id: file-9Xvqt7PtFSfThGStUCiedy\n",
      "Submit batch for file id: file-6awy19xdcBWtTJhAP9tjxT\n",
      "Submit batch for file id: file-DxcRgz27AcV6rBZ55hA2L6\n"
     ]
    },
    {
     "name": "stderr",
     "output_type": "stream",
     "text": [
      "WARNING:__main__:Finished call to '__main__.submit_batch_job' after 407.906(s), this was the 8th time calling it.\n",
      "WARNING:__main__:Finished call to '__main__.submit_batch_job' after 409.938(s), this was the 8th time calling it.\n",
      "WARNING:__main__:Finished call to '__main__.submit_batch_job' after 408.640(s), this was the 8th time calling it.\n",
      "WARNING:__main__:Finished call to '__main__.submit_batch_job' after 408.500(s), this was the 8th time calling it.\n",
      "WARNING:__main__:Finished call to '__main__.submit_batch_job' after 407.422(s), this was the 8th time calling it.\n",
      "WARNING:__main__:Finished call to '__main__.submit_batch_job' after 408.469(s), this was the 8th time calling it.\n",
      "WARNING:__main__:Finished call to '__main__.submit_batch_job' after 407.437(s), this was the 8th time calling it.\n",
      "WARNING:__main__:Finished call to '__main__.submit_batch_job' after 385.171(s), this was the 8th time calling it.\n",
      "WARNING:__main__:Finished call to '__main__.submit_batch_job' after 407.437(s), this was the 8th time calling it.\n",
      "WARNING:__main__:Finished call to '__main__.submit_batch_job' after 407.484(s), this was the 8th time calling it.\n",
      "WARNING:__main__:Finished call to '__main__.submit_batch_job' after 406.391(s), this was the 8th time calling it.\n",
      "WARNING:__main__:Finished call to '__main__.submit_batch_job' after 407.141(s), this was the 8th time calling it.\n",
      "WARNING:__main__:Finished call to '__main__.submit_batch_job' after 407.000(s), this was the 8th time calling it.\n",
      "WARNING:__main__:Finished call to '__main__.submit_batch_job' after 410.203(s), this was the 8th time calling it.\n",
      "WARNING:__main__:Finished call to '__main__.submit_batch_job' after 407.094(s), this was the 8th time calling it.\n",
      "WARNING:__main__:Finished call to '__main__.submit_batch_job' after 409.844(s), this was the 8th time calling it.\n"
     ]
    },
    {
     "name": "stdout",
     "output_type": "stream",
     "text": [
      "Submit batch for file id: file-EZHqfST1ymFHUiPRLEcAVo\n",
      "Submit batch for file id: file-RhT1MjMfQahCFq5EMzqfwK\n",
      "Submit batch for file id: file-HJFDWCvghb97uFooa2WPUK\n",
      "Submit batch for file id: file-PG6d28LBLJVUhFFqb9y3it\n",
      "Submit batch for file id: file-JCvBVLSPxu88FrHjhv7MWg\n",
      "Submit batch for file id: file-AH2aU4FJmDZDMzjGLSfnA6\n",
      "Submit batch for file id: file-SeeGpHaTU54Pn5vfJs5i7a\n",
      "Submit batch for file id: file-Gq1ZtdRHmkxbKX3uqBmHHa\n"
     ]
    },
    {
     "name": "stderr",
     "output_type": "stream",
     "text": [
      "WARNING:__main__:Finished call to '__main__.submit_batch_job' after 407.437(s), this was the 8th time calling it.\n",
      "WARNING:__main__:Finished call to '__main__.submit_batch_job' after 407.297(s), this was the 8th time calling it.\n",
      "WARNING:__main__:Finished call to '__main__.submit_batch_job' after 406.313(s), this was the 8th time calling it.\n",
      "WARNING:__main__:Finished call to '__main__.submit_batch_job' after 406.110(s), this was the 8th time calling it.\n",
      "WARNING:__main__:Finished call to '__main__.submit_batch_job' after 406.485(s), this was the 8th time calling it.\n",
      "WARNING:__main__:Finished call to '__main__.submit_batch_job' after 408.953(s), this was the 8th time calling it.\n",
      "WARNING:__main__:Finished call to '__main__.submit_batch_job' after 406.594(s), this was the 8th time calling it.\n",
      "WARNING:__main__:Finished call to '__main__.submit_batch_job' after 405.719(s), this was the 8th time calling it.\n"
     ]
    },
    {
     "name": "stdout",
     "output_type": "stream",
     "text": [
      "Submit batch for file id: file-UJd11Zaj3nUhDRk5PnBdKb\n",
      "Submit batch for file id: file-GbeuaWnD78VE2N4cW2WCJA\n",
      "Submit batch for file id: file-EPiN4kAQni5obnyRf37yJX\n",
      "Submit batch for file id: file-DLj9HK5z54wRKkfGkM2BDA\n",
      "Submit batch for file id: file-5JP5KfPcU4H7pfwYVeuGzf\n",
      "Submit batch for file id: file-AWLD8ue4aEtao94hJzhmRo\n",
      "Submit batch for file id: file-Kn8BaWsVXTonkcGkWFHnJR\n",
      "Submit batch for file id: file-6XD8DC3eDgnMiYMmeaf7tM\n",
      "Submit batch for file id: file-PBCWt6VC4PdusBVdypB6Kk\n",
      "Submit batch for file id: file-2VNRAfJfE8uLJeBv68nkcr\n",
      "Submit batch for file id: file-D2AGbCD8rynDVymHhZD4Uk\n",
      "Submit batch for file id: file-AvYasrXaMb2PaUBr7KsUuj\n"
     ]
    },
    {
     "name": "stderr",
     "output_type": "stream",
     "text": [
      "WARNING:__main__:Finished call to '__main__.submit_batch_job' after 407.547(s), this was the 8th time calling it.\n",
      "WARNING:__main__:Finished call to '__main__.submit_batch_job' after 405.922(s), this was the 8th time calling it.\n",
      "WARNING:__main__:Finished call to '__main__.submit_batch_job' after 406.047(s), this was the 8th time calling it.\n",
      "WARNING:__main__:Finished call to '__main__.submit_batch_job' after 405.531(s), this was the 8th time calling it.\n",
      "WARNING:__main__:Finished call to '__main__.submit_batch_job' after 405.593(s), this was the 8th time calling it.\n",
      "WARNING:__main__:Finished call to '__main__.submit_batch_job' after 407.937(s), this was the 8th time calling it.\n",
      "WARNING:__main__:Finished call to '__main__.submit_batch_job' after 406.015(s), this was the 8th time calling it.\n",
      "WARNING:__main__:Finished call to '__main__.submit_batch_job' after 406.218(s), this was the 8th time calling it.\n",
      "WARNING:__main__:Finished call to '__main__.submit_batch_job' after 405.937(s), this was the 8th time calling it.\n",
      "WARNING:__main__:Finished call to '__main__.submit_batch_job' after 405.531(s), this was the 8th time calling it.\n",
      "WARNING:__main__:Finished call to '__main__.submit_batch_job' after 406.578(s), this was the 8th time calling it.\n",
      "WARNING:__main__:Finished call to '__main__.submit_batch_job' after 406.078(s), this was the 8th time calling it.\n"
     ]
    },
    {
     "name": "stdout",
     "output_type": "stream",
     "text": [
      "Submit batch for file id: file-FB6JmWT9ujn1oyNeHZEc1w\n",
      "Submit batch for file id: file-WtCzUQsVSPL1Y65sNJEc7g\n",
      "Submit batch for file id: file-QxNNDkW5S234Y6vg4Jpk4g\n",
      "Submit batch for file id: file-88MsoJMotSSdgMZZQHmUsf\n",
      "Submit batch for file id: file-UCapekh7L3faz494LsR6rL\n",
      "Submit batch for file id: file-1TtRzxoA72k9yC8pbsv89H\n",
      "Submit batch for file id: file-3Kd917ker4zbzSVRkHGpwC\n",
      "Submit batch for file id: file-Mt67XkaLqcyKF6b5UKwDAi\n",
      "Submit batch for file id: file-9neMc7wz17qcqiYswev27L\n",
      "Submit batch for file id: file-VL7eoJqsPh3JttMQFXxcX2\n",
      "Submit batch for file id: file-1DC97oBbDR9b9L6J9xuwUN\n"
     ]
    },
    {
     "name": "stderr",
     "output_type": "stream",
     "text": [
      "WARNING:__main__:Finished call to '__main__.submit_batch_job' after 405.750(s), this was the 8th time calling it.\n",
      "WARNING:__main__:Finished call to '__main__.submit_batch_job' after 405.578(s), this was the 8th time calling it.\n",
      "WARNING:__main__:Finished call to '__main__.submit_batch_job' after 405.156(s), this was the 8th time calling it.\n",
      "WARNING:__main__:Finished call to '__main__.submit_batch_job' after 385.359(s), this was the 8th time calling it.\n",
      "WARNING:__main__:Finished call to '__main__.submit_batch_job' after 405.484(s), this was the 8th time calling it.\n",
      "WARNING:__main__:Finished call to '__main__.submit_batch_job' after 404.734(s), this was the 8th time calling it.\n",
      "WARNING:__main__:Finished call to '__main__.submit_batch_job' after 403.672(s), this was the 8th time calling it.\n",
      "WARNING:__main__:Finished call to '__main__.submit_batch_job' after 405.656(s), this was the 8th time calling it.\n",
      "WARNING:__main__:Finished call to '__main__.submit_batch_job' after 404.500(s), this was the 8th time calling it.\n",
      "WARNING:__main__:Finished call to '__main__.submit_batch_job' after 404.187(s), this was the 8th time calling it.\n",
      "WARNING:__main__:Finished call to '__main__.submit_batch_job' after 405.610(s), this was the 8th time calling it.\n"
     ]
    },
    {
     "name": "stdout",
     "output_type": "stream",
     "text": [
      "Submit batch for file id: file-KeZXfSr2AaLQ9hr4KbRYYu\n",
      "Submit batch for file id: file-KKr2PrCzPicACpGM3jmm2N\n",
      "Submit batch for file id: file-Y86pUud7eLJQ23JnuF7EXi\n",
      "Submit batch for file id: file-TaBS4jG93wG8KnrhnxvsPu\n",
      "Submit batch for file id: file-9LBdPJkBAZbumxZZsPiT4M\n",
      "Submit batch for file id: file-RZQfxZurqFWDwkuqyviNxb\n",
      "Submit batch for file id: file-GbbG95fXcUuHLXUkU7UBSv\n",
      "Submit batch for file id: file-ASpVXbwd6tMHgsHms8CZ7f\n",
      "Submit batch for file id: file-1weuXVVN2icyC92PXCefVY\n",
      "Submit batch for file id: file-UmAcePcSKBczWfVhzi1CUc\n",
      "Submit batch for file id: file-WiP7RB887ZGpFxsSbnTxF3\n",
      "Submit batch for file id: file-WQ1hCJVagY6hFQBNXXWeqU\n",
      "Submit batch for file id: file-H2DKafEw7tpPqYFRKAPsAS\n",
      "Submit batch for file id: file-8n8TtNJ4QU7iTjLAmwu4KD\n",
      "Submit batch for file id: file-BrHvWdhETb79rkE6Vwdp9p\n",
      "Submit batch for file id: file-3M43s57LXh7Njd2aFcmoGU\n",
      "Submit batch for file id: file-GQnoTVCR7VndXcAVBwdm6E\n",
      "Submit batch for file id: file-4cVeyM24GbrS97QtpnzkyY\n",
      "Submit batch for file id: file-HQy3KopReGQ4XxSRtr8zFf\n",
      "Submit batch for file id: file-XARqa9WH45zwwwkhgtx7y3\n",
      "Submit batch for file id: file-LjX7A3bhUk5aC3iwdrnvSU\n"
     ]
    },
    {
     "name": "stderr",
     "output_type": "stream",
     "text": [
      "WARNING:__main__:Finished call to '__main__.submit_batch_job' after 401.234(s), this was the 8th time calling it.\n",
      "WARNING:__main__:Finished call to '__main__.submit_batch_job' after 401.796(s), this was the 8th time calling it.\n",
      "WARNING:__main__:Finished call to '__main__.submit_batch_job' after 400.937(s), this was the 8th time calling it.\n",
      "WARNING:__main__:Finished call to '__main__.submit_batch_job' after 400.453(s), this was the 8th time calling it.\n",
      "WARNING:__main__:Finished call to '__main__.submit_batch_job' after 403.609(s), this was the 8th time calling it.\n",
      "WARNING:__main__:Finished call to '__main__.submit_batch_job' after 401.859(s), this was the 8th time calling it.\n",
      "WARNING:__main__:Finished call to '__main__.submit_batch_job' after 401.390(s), this was the 8th time calling it.\n",
      "WARNING:__main__:Finished call to '__main__.submit_batch_job' after 400.953(s), this was the 8th time calling it.\n",
      "WARNING:__main__:Finished call to '__main__.submit_batch_job' after 404.375(s), this was the 8th time calling it.\n",
      "WARNING:__main__:Finished call to '__main__.submit_batch_job' after 402.078(s), this was the 8th time calling it.\n",
      "WARNING:__main__:Finished call to '__main__.submit_batch_job' after 402.609(s), this was the 8th time calling it.\n",
      "WARNING:__main__:Finished call to '__main__.submit_batch_job' after 402.531(s), this was the 8th time calling it.\n",
      "WARNING:__main__:Finished call to '__main__.submit_batch_job' after 404.078(s), this was the 8th time calling it.\n"
     ]
    },
    {
     "name": "stdout",
     "output_type": "stream",
     "text": [
      "Submit batch for file id: file-QffWa2umHVLU4xUK4tTeDk\n",
      "Submit batch for file id: file-8MPjNtSTZ1KwAS3Ra24n4Z\n",
      "Submit batch for file id: file-MrKgNiAENA9k7TgtyTW5XE\n",
      "Submit batch for file id: file-Mrg8Mcgi9NLXkhvQF2NGxw\n",
      "Submit batch for file id: file-F9yZa2Se6WBcXz4ZKxpKJa\n",
      "Submit batch for file id: file-QBoUaVBAbhaGjGF4DS97ZR\n",
      "Submit batch for file id: file-MKsm3ivsfGq29MXMMLossD\n",
      "Submit batch for file id: file-9hpFDkLex8puaBwK6a5dYf\n",
      "Submit batch for file id: file-84rTiET5w3U9WSYu4cT85m\n",
      "Submit batch for file id: file-HBgr6Kd3WLarVaQ2UepwJM\n",
      "Submit batch for file id: file-K2y1e5jtZZmttopmiskf2m\n",
      "Submit batch for file id: file-Hrggj2pPCH18WQUrtKweGp\n",
      "Submit batch for file id: file-QuTXhwbkuMfzRah2zzV8xq\n",
      "Submit batch for file id: file-2Ltmg1q16gSE3FXtvNN2BS\n",
      "Submit batch for file id: file-LijNRbyaSRL7Q79o6MCkuT\n",
      "Submit batch for file id: file-EHeEmhBkMdoZa9L25EaVrn\n",
      "Submit batch for file id: file-8STC8RdFtBqvH1PUzJXFj9\n",
      "Submit batch for file id: file-7L78h4LMtLn4ZjS8gzLcbn\n",
      "Submit batch for file id: file-FfLu7p8zRRdeEV5cMYAFpq\n",
      "Submit batch for file id: file-QpcR7Ehpa7oMizNqxjejVr\n",
      "Submit batch for file id: file-TXibRn1VLSS5PV96ewPG9q\n",
      "Submit batch for file id: file-CFSApXYfKAUGnYPuYHLZcx\n"
     ]
    },
    {
     "name": "stderr",
     "output_type": "stream",
     "text": [
      "WARNING:__main__:Finished call to '__main__.submit_batch_job' after 403.953(s), this was the 8th time calling it.\n",
      "WARNING:__main__:Finished call to '__main__.submit_batch_job' after 401.125(s), this was the 8th time calling it.\n",
      "WARNING:__main__:Finished call to '__main__.submit_batch_job' after 403.625(s), this was the 8th time calling it.\n",
      "WARNING:__main__:Finished call to '__main__.submit_batch_job' after 403.750(s), this was the 8th time calling it.\n",
      "WARNING:__main__:Finished call to '__main__.submit_batch_job' after 402.875(s), this was the 8th time calling it.\n",
      "WARNING:__main__:Finished call to '__main__.submit_batch_job' after 401.391(s), this was the 8th time calling it.\n",
      "WARNING:__main__:Finished call to '__main__.submit_batch_job' after 406.032(s), this was the 8th time calling it.\n",
      "WARNING:__main__:Finished call to '__main__.submit_batch_job' after 403.844(s), this was the 8th time calling it.\n",
      "WARNING:__main__:Finished call to '__main__.submit_batch_job' after 398.984(s), this was the 8th time calling it.\n",
      "WARNING:__main__:Finished call to '__main__.submit_batch_job' after 399.484(s), this was the 8th time calling it.\n",
      "WARNING:__main__:Finished call to '__main__.submit_batch_job' after 400.500(s), this was the 8th time calling it.\n",
      "WARNING:__main__:Finished call to '__main__.submit_batch_job' after 399.875(s), this was the 8th time calling it.\n",
      "WARNING:__main__:Finished call to '__main__.submit_batch_job' after 399.453(s), this was the 8th time calling it.\n",
      "WARNING:__main__:Finished call to '__main__.submit_batch_job' after 401.313(s), this was the 8th time calling it.\n",
      "WARNING:__main__:Finished call to '__main__.submit_batch_job' after 399.953(s), this was the 8th time calling it.\n",
      "WARNING:__main__:Finished call to '__main__.submit_batch_job' after 399.265(s), this was the 8th time calling it.\n",
      "WARNING:__main__:Finished call to '__main__.submit_batch_job' after 399.969(s), this was the 8th time calling it.\n",
      "WARNING:__main__:Finished call to '__main__.submit_batch_job' after 400.234(s), this was the 8th time calling it.\n"
     ]
    },
    {
     "name": "stdout",
     "output_type": "stream",
     "text": [
      "Submit batch for file id: file-3Jqap9jryMbuZavWeEJWm4\n",
      "Submit batch for file id: file-Ubg8Ffv37JpcX3ah5bgVk3\n",
      "Submit batch for file id: file-KB93N3dRX62zbjRnHr38yT\n",
      "Submit batch for file id: file-XpA2Tv4pKi6Zk1UbobqKBE\n",
      "Submit batch for file id: file-Lf6fXJnhCfoDyWUKDzpEhY\n",
      "Submit batch for file id: file-Ne94NDsDQudxkAgf54bP7Q\n",
      "Submit batch for file id: file-7AExaetPwDrqEVPbH8yH7h\n",
      "Submit batch for file id: file-SPGQYmrkQioZ9dGRfWmZat\n",
      "Submit batch for file id: file-JUZxiH16PZHH7WCVER69BK\n",
      "Submit batch for file id: file-9QHdcBjuysNEvRuT8ir5fc\n",
      "Submit batch for file id: file-4a3aHowwYv9mHJ7VkQyLEf\n",
      "Submit batch for file id: file-JE7KehiLm1aVXDaZD5bbm5\n",
      "Submit batch for file id: file-5SBs6To3ANVJf1Ubf7odTP\n",
      "Submit batch for file id: file-Vq8MY7bSDHH7EBivkdBfzv\n",
      "Submit batch for file id: file-6F9a7NJw4jRjx1hvt7xfwZ\n",
      "Submit batch for file id: file-WXNS6EdEQSWSYPggnCttsN\n",
      "Submit batch for file id: file-5k6h1jvUbpmGqzL7xjg4Gn\n",
      "Submit batch for file id: file-SgVJubzDMPSExd2Nuzd6pu\n",
      "Submit batch for file id: file-Q1y94UNAcbK5d3ZqiWTd3m\n",
      "Submit batch for file id: file-Pcf3SemnEWXH7gbE5ck3yY\n",
      "Submit batch for file id: file-JyUvsv2RrpUz36oGKpYABY\n",
      "Submit batch for file id: file-46QfZhZgK9puwPQx6Lagqp\n"
     ]
    },
    {
     "name": "stderr",
     "output_type": "stream",
     "text": [
      "WARNING:__main__:Finished call to '__main__.submit_batch_job' after 397.218(s), this was the 8th time calling it.\n",
      "WARNING:__main__:Finished call to '__main__.submit_batch_job' after 397.125(s), this was the 8th time calling it.\n",
      "WARNING:__main__:Finished call to '__main__.submit_batch_job' after 400.859(s), this was the 8th time calling it.\n",
      "WARNING:__main__:Finished call to '__main__.submit_batch_job' after 396.171(s), this was the 8th time calling it.\n",
      "WARNING:__main__:Finished call to '__main__.submit_batch_job' after 402.125(s), this was the 8th time calling it.\n",
      "WARNING:__main__:Finished call to '__main__.submit_batch_job' after 399.250(s), this was the 8th time calling it.\n",
      "WARNING:__main__:Finished call to '__main__.submit_batch_job' after 400.157(s), this was the 8th time calling it.\n",
      "WARNING:__main__:Finished call to '__main__.submit_batch_job' after 399.984(s), this was the 8th time calling it.\n",
      "WARNING:__main__:Finished call to '__main__.submit_batch_job' after 397.000(s), this was the 8th time calling it.\n",
      "WARNING:__main__:Finished call to '__main__.submit_batch_job' after 398.734(s), this was the 8th time calling it.\n",
      "WARNING:__main__:Finished call to '__main__.submit_batch_job' after 401.203(s), this was the 8th time calling it.\n",
      "WARNING:__main__:Finished call to '__main__.submit_batch_job' after 396.859(s), this was the 8th time calling it.\n",
      "WARNING:__main__:Finished call to '__main__.submit_batch_job' after 400.547(s), this was the 8th time calling it.\n",
      "WARNING:__main__:Finished call to '__main__.submit_batch_job' after 398.078(s), this was the 8th time calling it.\n",
      "WARNING:__main__:Finished call to '__main__.submit_batch_job' after 398.266(s), this was the 8th time calling it.\n",
      "WARNING:__main__:Finished call to '__main__.submit_batch_job' after 400.094(s), this was the 8th time calling it.\n",
      "WARNING:__main__:Finished call to '__main__.submit_batch_job' after 385.234(s), this was the 8th time calling it.\n",
      "WARNING:__main__:Finished call to '__main__.submit_batch_job' after 398.750(s), this was the 8th time calling it.\n",
      "WARNING:__main__:Finished call to '__main__.submit_batch_job' after 396.828(s), this was the 8th time calling it.\n",
      "WARNING:__main__:Finished call to '__main__.submit_batch_job' after 400.641(s), this was the 8th time calling it.\n",
      "WARNING:__main__:Finished call to '__main__.submit_batch_job' after 399.781(s), this was the 8th time calling it.\n",
      "WARNING:__main__:Finished call to '__main__.submit_batch_job' after 398.344(s), this was the 8th time calling it.\n",
      "WARNING:__main__:Finished call to '__main__.submit_batch_job' after 399.547(s), this was the 8th time calling it.\n",
      "WARNING:__main__:Finished call to '__main__.submit_batch_job' after 397.282(s), this was the 8th time calling it.\n"
     ]
    },
    {
     "name": "stdout",
     "output_type": "stream",
     "text": [
      "Submit batch for file id: file-MKM5g1oChwzDNURrxM73aE\n",
      "Submit batch for file id: file-WUTBx4NL1crKFUpRxcYc7e\n",
      "Submit batch for file id: file-T7eUJXbnPPVHG4VSG3QSeT\n",
      "Submit batch for file id: file-XySj38C66amMfQUsduJNo8\n",
      "Submit batch for file id: file-AnScj8EhL9YHAdQUsDUaNJ\n",
      "Submit batch for file id: file-TFaT6E6pD2DtFH3x2aESRC\n",
      "Submit batch for file id: file-Aaa6eonHrnDmBfkXJ9G7oV\n",
      "Submit batch for file id: file-QSFV23JwdAFnx24caqf8Cj\n"
     ]
    },
    {
     "name": "stderr",
     "output_type": "stream",
     "text": [
      "WARNING:__main__:Finished call to '__main__.submit_batch_job' after 398.422(s), this was the 8th time calling it.\n",
      "WARNING:__main__:Finished call to '__main__.submit_batch_job' after 396.329(s), this was the 8th time calling it.\n",
      "WARNING:__main__:Finished call to '__main__.submit_batch_job' after 395.781(s), this was the 8th time calling it.\n",
      "WARNING:__main__:Finished call to '__main__.submit_batch_job' after 398.156(s), this was the 8th time calling it.\n",
      "WARNING:__main__:Finished call to '__main__.submit_batch_job' after 398.047(s), this was the 8th time calling it.\n",
      "WARNING:__main__:Finished call to '__main__.submit_batch_job' after 397.078(s), this was the 8th time calling it.\n",
      "WARNING:__main__:Finished call to '__main__.submit_batch_job' after 397.922(s), this was the 8th time calling it.\n",
      "WARNING:__main__:Finished call to '__main__.submit_batch_job' after 398.969(s), this was the 8th time calling it.\n",
      "WARNING:__main__:Finished call to '__main__.submit_batch_job' after 399.437(s), this was the 8th time calling it.\n",
      "WARNING:__main__:Finished call to '__main__.submit_batch_job' after 385.344(s), this was the 8th time calling it.\n",
      "WARNING:__main__:Finished call to '__main__.submit_batch_job' after 394.187(s), this was the 8th time calling it.\n",
      "WARNING:__main__:Finished call to '__main__.submit_batch_job' after 394.062(s), this was the 8th time calling it.\n",
      "WARNING:__main__:Finished call to '__main__.submit_batch_job' after 394.750(s), this was the 8th time calling it.\n",
      "WARNING:__main__:Finished call to '__main__.submit_batch_job' after 395.907(s), this was the 8th time calling it.\n",
      "WARNING:__main__:Finished call to '__main__.submit_batch_job' after 396.297(s), this was the 8th time calling it.\n",
      "WARNING:__main__:Finished call to '__main__.submit_batch_job' after 393.719(s), this was the 8th time calling it.\n",
      "WARNING:__main__:Finished call to '__main__.submit_batch_job' after 395.641(s), this was the 8th time calling it.\n"
     ]
    },
    {
     "name": "stdout",
     "output_type": "stream",
     "text": [
      "Submit batch for file id: file-QF7wJfxh46iU7UtrUxnixu\n",
      "Submit batch for file id: file-SA3Nk7sFigYoeiaY5sU3uc\n",
      "Submit batch for file id: file-9E3LGoXsq7kbcXH19AUXAH\n",
      "Submit batch for file id: file-4L4kHV2ujzABGwsCpEKdYS\n",
      "Submit batch for file id: file-J33qhkwiCVF5nDK88UxFx3\n",
      "Submit batch for file id: file-PaN3tGWY6pioXsym64691H\n",
      "Submit batch for file id: file-J41NvT2zBZ7fMjCjXi4c8e\n",
      "Submit batch for file id: file-DHcegJiB7KFmVQ9aFT73y2\n",
      "Submit batch for file id: file-4Mg8rPYVTKLu2YHhDaNyUX\n",
      "Submit batch for file id: file-233tPtAXnN3FJeWikNSw6P\n",
      "Submit batch for file id: file-NzKKRmWzW97Df5orqJ3Fay\n",
      "Submit batch for file id: file-BRehFfPmnGrDV41VjpqheB\n",
      "Submit batch for file id: file-6gPyR5mxt2Z1u2NnFs2ADR\n",
      "Submit batch for file id: file-NubwwqeMToiEKz1CUn2kBM\n",
      "Submit batch for file id: file-7YBF14C3UvtnBeXWGekawb\n",
      "Submit batch for file id: file-WoqMy12NNpwyD4KpdtV69w\n",
      "Submit batch for file id: file-Dn5JJTfp9iGvZo3TAMZL5S\n",
      "Submit batch for file id: file-AbmMYHBoedsqRjaB228tiM\n",
      "Submit batch for file id: file-AfpyVCTP8cahVWBxZ7bmn8\n",
      "Submit batch for file id: file-MvA9jW3wAS3VeXvqd32ibf\n",
      "Submit batch for file id: file-4mxeqoRRJkBhd2F8HwMh3b\n",
      "Submit batch for file id: file-TpiSQVpTgnNrbre7zw24zX\n",
      "Submit batch for file id: file-QDUfF2WEjkS767sfVE6X48\n",
      "Submit batch for file id: file-4Phphj1wLL8X2gFspuBWcD\n",
      "Submit batch for file id: file-ByDUbdQETT5PgvgaZfUwcV\n"
     ]
    },
    {
     "name": "stderr",
     "output_type": "stream",
     "text": [
      "WARNING:__main__:Finished call to '__main__.submit_batch_job' after 394.593(s), this was the 8th time calling it.\n",
      "WARNING:__main__:Finished call to '__main__.submit_batch_job' after 394.140(s), this was the 8th time calling it.\n",
      "WARNING:__main__:Finished call to '__main__.submit_batch_job' after 393.203(s), this was the 8th time calling it.\n",
      "WARNING:__main__:Finished call to '__main__.submit_batch_job' after 394.812(s), this was the 8th time calling it.\n",
      "WARNING:__main__:Finished call to '__main__.submit_batch_job' after 395.593(s), this was the 8th time calling it.\n",
      "WARNING:__main__:Finished call to '__main__.submit_batch_job' after 394.125(s), this was the 8th time calling it.\n",
      "WARNING:__main__:Finished call to '__main__.submit_batch_job' after 394.547(s), this was the 8th time calling it.\n",
      "WARNING:__main__:Finished call to '__main__.submit_batch_job' after 392.906(s), this was the 8th time calling it.\n",
      "WARNING:__main__:Finished call to '__main__.submit_batch_job' after 394.391(s), this was the 8th time calling it.\n",
      "WARNING:__main__:Finished call to '__main__.submit_batch_job' after 392.860(s), this was the 8th time calling it.\n",
      "WARNING:__main__:Finished call to '__main__.submit_batch_job' after 394.750(s), this was the 8th time calling it.\n",
      "WARNING:__main__:Finished call to '__main__.submit_batch_job' after 394.454(s), this was the 8th time calling it.\n",
      "WARNING:__main__:Finished call to '__main__.submit_batch_job' after 393.813(s), this was the 8th time calling it.\n",
      "WARNING:__main__:Finished call to '__main__.submit_batch_job' after 393.500(s), this was the 8th time calling it.\n",
      "WARNING:__main__:Finished call to '__main__.submit_batch_job' after 385.000(s), this was the 8th time calling it.\n",
      "WARNING:__main__:Finished call to '__main__.submit_batch_job' after 392.766(s), this was the 8th time calling it.\n",
      "WARNING:__main__:Finished call to '__main__.submit_batch_job' after 395.000(s), this was the 8th time calling it.\n",
      "WARNING:__main__:Finished call to '__main__.submit_batch_job' after 392.563(s), this was the 8th time calling it.\n",
      "WARNING:__main__:Finished call to '__main__.submit_batch_job' after 394.938(s), this was the 8th time calling it.\n",
      "WARNING:__main__:Finished call to '__main__.submit_batch_job' after 393.953(s), this was the 8th time calling it.\n",
      "WARNING:__main__:Finished call to '__main__.submit_batch_job' after 394.344(s), this was the 8th time calling it.\n",
      "WARNING:__main__:Finished call to '__main__.submit_batch_job' after 392.203(s), this was the 8th time calling it.\n",
      "WARNING:__main__:Finished call to '__main__.submit_batch_job' after 392.547(s), this was the 8th time calling it.\n",
      "WARNING:__main__:Finished call to '__main__.submit_batch_job' after 394.812(s), this was the 8th time calling it.\n",
      "WARNING:__main__:Finished call to '__main__.submit_batch_job' after 394.172(s), this was the 8th time calling it.\n"
     ]
    },
    {
     "name": "stdout",
     "output_type": "stream",
     "text": [
      "Submit batch for file id: file-3UBWgPuCGKJ5q22TWXkmJT\n",
      "Submit batch for file id: file-DwwzJtfZVPhE9jWsnCfeZR\n",
      "Submit batch for file id: file-Vbsj8VnhZGYt7XgjbSydCb\n",
      "Submit batch for file id: file-M2fPBFZVGiMYPfi6ebhnZb\n",
      "Submit batch for file id: file-QQNfXqPKm2AFyuvHJHGKnL\n",
      "Submit batch for file id: file-N1qvSo9aoPWYSgSWXaXZ7z\n",
      "Submit batch for file id: file-NU7jahUpXNTxKDcdFqKqDV\n",
      "Submit batch for file id: file-TwuXb97KRrBLNe9qECTPEv\n",
      "Submit batch for file id: file-TJ4b9bEh8TYxbjsKHjUU1k\n",
      "Submit batch for file id: file-5S94rp8vZBgUuatwzycyoc\n",
      "Submit batch for file id: file-2MC7TaaAr4dkftq6fFnZQG\n",
      "Submit batch for file id: file-Q8Gnm5pXy82NjV9WfWiZ7T\n",
      "Submit batch for file id: file-FLoV1jnTC1CE51PhbBsVyF\n",
      "Submit batch for file id: file-HLac8aTUBq2Ne2UPDMpoLq\n",
      "Submit batch for file id: file-DgufWyLBVkzRjX5JkUTVWh\n",
      "Submit batch for file id: file-FMHGoutAUvzuBckLfieXSq\n",
      "Submit batch for file id: file-XuwxokJjhjkKuknpx99Wet\n",
      "Submit batch for file id: file-2XzbKDc3oNhmgGNBTDpHaM\n",
      "Submit batch for file id: file-DMtVF1cq3dqPv7imHcbx4J\n",
      "Submit batch for file id: file-3iGHHm8HTTgLU41De48z6P\n",
      "Submit batch for file id: file-EZCf3xxGdUQG64VnHbbQC7\n",
      "Submit batch for file id: file-4GWZ4dUbAWgyquFqqBeJiP\n",
      "Submit batch for file id: file-Q4ijcGU2MDnmFgQo7eme3R\n",
      "Submit batch for file id: file-VWakNrN2exV4wWRF6EhbPW\n",
      "Submit batch for file id: file-T8zTV5a2gdXr9XLwcXihjP\n",
      "Submit batch for file id: file-TvwDRcbEQRBNgqytNJVurE\n",
      "Submit batch for file id: file-V5cYuxPWYf6haNzQfn666Y\n",
      "Submit batch for file id: file-C9YPTJUjuQ3YwsMRSYi57X\n",
      "Submit batch for file id: file-8jhq1LgpBuNCYUM74Wki7p\n",
      "Submit batch for file id: file-2SMBuhsySwVMVRUy5Q8evy\n",
      "Submit batch for file id: file-KmE7z4sf4SrFvHUbk3iKiV\n",
      "Submit batch for file id: file-JAMEqTTNVxndn5Npb8wtka\n",
      "Submit batch for file id: file-W4PvSGzes5aqB17Y1smkCh\n",
      "Submit batch for file id: file-UuFN5cRUBU8YwzcWz7WHDW\n"
     ]
    },
    {
     "name": "stderr",
     "output_type": "stream",
     "text": [
      "WARNING:__main__:Finished call to '__main__.submit_batch_job' after 389.906(s), this was the 8th time calling it.\n",
      "WARNING:__main__:Finished call to '__main__.submit_batch_job' after 389.703(s), this was the 8th time calling it.\n",
      "WARNING:__main__:Finished call to '__main__.submit_batch_job' after 395.750(s), this was the 8th time calling it.\n",
      "WARNING:__main__:Finished call to '__main__.submit_batch_job' after 389.328(s), this was the 8th time calling it.\n",
      "WARNING:__main__:Finished call to '__main__.submit_batch_job' after 392.219(s), this was the 8th time calling it.\n",
      "WARNING:__main__:Finished call to '__main__.submit_batch_job' after 392.422(s), this was the 8th time calling it.\n",
      "WARNING:__main__:Finished call to '__main__.submit_batch_job' after 389.734(s), this was the 8th time calling it.\n",
      "WARNING:__main__:Finished call to '__main__.submit_batch_job' after 391.672(s), this was the 8th time calling it.\n",
      "WARNING:__main__:Finished call to '__main__.submit_batch_job' after 391.859(s), this was the 8th time calling it.\n",
      "WARNING:__main__:Finished call to '__main__.submit_batch_job' after 389.937(s), this was the 8th time calling it.\n",
      "WARNING:__main__:Finished call to '__main__.submit_batch_job' after 391.172(s), this was the 8th time calling it.\n",
      "WARNING:__main__:Finished call to '__main__.submit_batch_job' after 389.562(s), this was the 8th time calling it.\n",
      "WARNING:__main__:Finished call to '__main__.submit_batch_job' after 390.281(s), this was the 8th time calling it.\n",
      "WARNING:__main__:Finished call to '__main__.submit_batch_job' after 391.469(s), this was the 8th time calling it.\n",
      "WARNING:__main__:Finished call to '__main__.submit_batch_job' after 392.375(s), this was the 8th time calling it.\n",
      "WARNING:__main__:Finished call to '__main__.submit_batch_job' after 392.563(s), this was the 8th time calling it.\n",
      "WARNING:__main__:Finished call to '__main__.submit_batch_job' after 392.219(s), this was the 8th time calling it.\n",
      "WARNING:__main__:Finished call to '__main__.submit_batch_job' after 392.360(s), this was the 8th time calling it.\n",
      "WARNING:__main__:Finished call to '__main__.submit_batch_job' after 389.547(s), this was the 8th time calling it.\n",
      "WARNING:__main__:Finished call to '__main__.submit_batch_job' after 391.687(s), this was the 8th time calling it.\n",
      "WARNING:__main__:Finished call to '__main__.submit_batch_job' after 394.297(s), this was the 8th time calling it.\n",
      "WARNING:__main__:Finished call to '__main__.submit_batch_job' after 392.407(s), this was the 8th time calling it.\n"
     ]
    },
    {
     "name": "stdout",
     "output_type": "stream",
     "text": [
      "Submit batch for file id: file-4UUBuBdpQgdKvzHJSuC8C6\n",
      "Submit batch for file id: file-F6bdYEYnB37jMEHyBZYRdw\n",
      "Submit batch for file id: file-WSY4tom2Htqvp2D2XtYugo\n",
      "Submit batch for file id: file-1KBbPBwKpLgcSmwyKnxAdL\n",
      "Submit batch for file id: file-SK7V9N56wsqrJBMK7sNdMx\n",
      "Submit batch for file id: file-AhYpTwxW2VRxanDHEUwvuk\n",
      "Submit batch for file id: file-F88h5Uk7ehNnX47r63WyyR\n",
      "Submit batch for file id: file-BcY6crxbgCYgyFrQRaz6Pt\n",
      "Submit batch for file id: file-RpbNLSHeefJMqrdKURxDQA\n",
      "Submit batch for file id: file-2AVzgX5Y8RwqRfxzPwPng8\n",
      "Submit batch for file id: file-WS5FAGYcmFWhaMwvqeqHNw\n"
     ]
    },
    {
     "name": "stderr",
     "output_type": "stream",
     "text": [
      "WARNING:__main__:Finished call to '__main__.submit_batch_job' after 386.687(s), this was the 8th time calling it.\n",
      "WARNING:__main__:Finished call to '__main__.submit_batch_job' after 387.078(s), this was the 8th time calling it.\n",
      "WARNING:__main__:Finished call to '__main__.submit_batch_job' after 385.656(s), this was the 8th time calling it.\n",
      "WARNING:__main__:Finished call to '__main__.submit_batch_job' after 389.250(s), this was the 8th time calling it.\n",
      "WARNING:__main__:Finished call to '__main__.submit_batch_job' after 386.890(s), this was the 8th time calling it.\n",
      "WARNING:__main__:Finished call to '__main__.submit_batch_job' after 385.109(s), this was the 8th time calling it.\n",
      "WARNING:__main__:Finished call to '__main__.submit_batch_job' after 389.453(s), this was the 8th time calling it.\n",
      "WARNING:__main__:Finished call to '__main__.submit_batch_job' after 386.328(s), this was the 8th time calling it.\n",
      "WARNING:__main__:Finished call to '__main__.submit_batch_job' after 385.156(s), this was the 8th time calling it.\n",
      "WARNING:__main__:Finished call to '__main__.submit_batch_job' after 388.750(s), this was the 8th time calling it.\n",
      "WARNING:__main__:Finished call to '__main__.submit_batch_job' after 386.516(s), this was the 8th time calling it.\n",
      "WARNING:__main__:Finished call to '__main__.submit_batch_job' after 387.531(s), this was the 8th time calling it.\n",
      "WARNING:__main__:Finished call to '__main__.submit_batch_job' after 385.453(s), this was the 8th time calling it.\n",
      "WARNING:__main__:Finished call to '__main__.submit_batch_job' after 391.297(s), this was the 8th time calling it.\n",
      "WARNING:__main__:Finished call to '__main__.submit_batch_job' after 392.516(s), this was the 8th time calling it.\n",
      "WARNING:__main__:Finished call to '__main__.submit_batch_job' after 389.953(s), this was the 8th time calling it.\n",
      "WARNING:__main__:Finished call to '__main__.submit_batch_job' after 385.859(s), this was the 8th time calling it.\n",
      "WARNING:__main__:Finished call to '__main__.submit_batch_job' after 386.875(s), this was the 8th time calling it.\n"
     ]
    },
    {
     "name": "stdout",
     "output_type": "stream",
     "text": [
      "Submit batch for file id: file-BgRPvkoMoqXDM66KTaMxfM\n",
      "Submit batch for file id: file-UhbpDxHDRRjVjEu9ssaCGE\n",
      "Submit batch for file id: file-2jyAyZiAUjteTukuK35NB6\n",
      "Submit batch for file id: file-VmtMXGxF7wcXrFcGLDeUZh\n",
      "Submit batch for file id: file-9sQT68kJppbanW6aKCEvg2\n",
      "Submit batch for file id: file-HLFTuazmdsKCPFdEGwfAYx\n",
      "Submit batch for file id: file-QpFW9gwRjSDHyAeUgTpAQV\n"
     ]
    },
    {
     "name": "stderr",
     "output_type": "stream",
     "text": [
      "WARNING:__main__:Finished call to '__main__.submit_batch_job' after 386.672(s), this was the 8th time calling it.\n",
      "WARNING:__main__:Finished call to '__main__.submit_batch_job' after 385.562(s), this was the 8th time calling it.\n",
      "WARNING:__main__:Finished call to '__main__.submit_batch_job' after 385.422(s), this was the 8th time calling it.\n",
      "WARNING:__main__:Finished call to '__main__.submit_batch_job' after 385.625(s), this was the 8th time calling it.\n",
      "WARNING:__main__:Finished call to '__main__.submit_batch_job' after 385.172(s), this was the 8th time calling it.\n",
      "WARNING:__main__:Finished call to '__main__.submit_batch_job' after 386.578(s), this was the 8th time calling it.\n",
      "WARNING:__main__:Finished call to '__main__.submit_batch_job' after 389.906(s), this was the 8th time calling it.\n",
      "WARNING:__main__:Finished call to '__main__.submit_batch_job' after 388.562(s), this was the 8th time calling it.\n",
      "WARNING:__main__:Finished call to '__main__.submit_batch_job' after 394.250(s), this was the 8th time calling it.\n",
      "WARNING:__main__:Finished call to '__main__.submit_batch_job' after 385.125(s), this was the 8th time calling it.\n",
      "WARNING:__main__:Finished call to '__main__.submit_batch_job' after 385.141(s), this was the 8th time calling it.\n",
      "WARNING:__main__:Finished call to '__main__.submit_batch_job' after 385.391(s), this was the 8th time calling it.\n",
      "WARNING:__main__:Finished call to '__main__.submit_batch_job' after 386.938(s), this was the 8th time calling it.\n",
      "WARNING:__main__:Finished call to '__main__.submit_batch_job' after 403.594(s), this was the 8th time calling it.\n"
     ]
    },
    {
     "name": "stdout",
     "output_type": "stream",
     "text": [
      "Submit batch for file id: file-DbPeHtJ6fBgf4DZeeUnmNn\n",
      "Submit batch for file id: file-RHmvdYBaqLpxSqMaypSZN6\n"
     ]
    },
    {
     "name": "stderr",
     "output_type": "stream",
     "text": [
      "WARNING:__main__:Finished call to '__main__.submit_batch_job' after 385.109(s), this was the 8th time calling it.\n"
     ]
    },
    {
     "name": "stdout",
     "output_type": "stream",
     "text": [
      "Submit batch for file id: file-8MkDuQwXcvJQZPkr1WRpzN\n",
      "Submit batch for file id: file-MDqCg3P15rFoep9KXowkbK\n",
      "Submit batch for file id: file-W6xedKAk9Zwkn5QYeWKs7N\n",
      "Submit batch for file id: file-PdemxDdFGttGVSVpNmnkCU\n"
     ]
    },
    {
     "name": "stderr",
     "output_type": "stream",
     "text": [
      "WARNING:__main__:Finished call to '__main__.submit_batch_job' after 385.063(s), this was the 8th time calling it.\n",
      "WARNING:__main__:Finished call to '__main__.submit_batch_job' after 385.094(s), this was the 8th time calling it.\n",
      "WARNING:__main__:Finished call to '__main__.submit_batch_job' after 385.515(s), this was the 8th time calling it.\n",
      "WARNING:__main__:Finished call to '__main__.submit_batch_job' after 384.984(s), this was the 8th time calling it.\n"
     ]
    },
    {
     "name": "stdout",
     "output_type": "stream",
     "text": [
      "Submit batch for file id: file-PHYb6NuxAo4rdUe3sTykUW\n",
      "Submit batch for file id: file-VZp9Bu1g5yFU3AmFoqNGRF\n"
     ]
    },
    {
     "name": "stderr",
     "output_type": "stream",
     "text": [
      "WARNING:__main__:Finished call to '__main__.submit_batch_job' after 385.140(s), this was the 8th time calling it.\n",
      "WARNING:__main__:Finished call to '__main__.submit_batch_job' after 385.031(s), this was the 8th time calling it.\n"
     ]
    },
    {
     "name": "stdout",
     "output_type": "stream",
     "text": [
      "Submit batch for file id: file-XL1vWF5Dk46HD2WWcsWmiH\n",
      "Submit batch for file id: file-H9umBQ55SBNkgKD5DyNEoH\n",
      "Submit batch for file id: file-JwQADN93qKJfgkZjWg9piw\n"
     ]
    },
    {
     "name": "stderr",
     "output_type": "stream",
     "text": [
      "WARNING:__main__:Finished call to '__main__.submit_batch_job' after 385.656(s), this was the 8th time calling it.\n",
      "WARNING:__main__:Finished call to '__main__.submit_batch_job' after 385.047(s), this was the 8th time calling it.\n"
     ]
    },
    {
     "name": "stdout",
     "output_type": "stream",
     "text": [
      "Submit batch for file id: file-Tdrw4YXSENM3QfrTGQKBF5\n",
      "Submit batch for file id: file-Ja5B2rwvgBqawbXmZyhSLD\n",
      "Submit batch for file id: file-2AXx8RGZweKu1H1KYfPtKu\n",
      "Submit batch for file id: file-GK4MBhkxWmJnZ7wyRLpgwy\n"
     ]
    },
    {
     "name": "stderr",
     "output_type": "stream",
     "text": [
      "WARNING:__main__:Finished call to '__main__.submit_batch_job' after 385.031(s), this was the 8th time calling it.\n",
      "WARNING:__main__:Finished call to '__main__.submit_batch_job' after 385.125(s), this was the 8th time calling it.\n",
      "WARNING:__main__:Finished call to '__main__.submit_batch_job' after 385.047(s), this was the 8th time calling it.\n",
      "WARNING:__main__:Finished call to '__main__.submit_batch_job' after 384.938(s), this was the 8th time calling it.\n",
      "WARNING:__main__:Finished call to '__main__.submit_batch_job' after 385.093(s), this was the 8th time calling it.\n"
     ]
    },
    {
     "name": "stdout",
     "output_type": "stream",
     "text": [
      "Submit batch for file id: file-NPkj8akvzm3xY2Nng3zLhr\n"
     ]
    },
    {
     "name": "stderr",
     "output_type": "stream",
     "text": [
      "WARNING:__main__:Finished call to '__main__.submit_batch_job' after 384.984(s), this was the 8th time calling it.\n"
     ]
    },
    {
     "name": "stdout",
     "output_type": "stream",
     "text": [
      "Submit batch for file id: file-4Dx4o9pBBkbrHBFB754EBT\n",
      "Submit batch for file id: file-3yHx3RxL5TjHBpqJRwuu5W\n"
     ]
    },
    {
     "name": "stderr",
     "output_type": "stream",
     "text": [
      "WARNING:__main__:Finished call to '__main__.submit_batch_job' after 385.016(s), this was the 8th time calling it.\n",
      "WARNING:__main__:Finished call to '__main__.submit_batch_job' after 384.906(s), this was the 8th time calling it.\n"
     ]
    },
    {
     "name": "stdout",
     "output_type": "stream",
     "text": [
      "Submit batch for file id: file-BMKsPEj3CGi5B6TT6xtSgs\n",
      "Submit batch for file id: file-QPhfFGGDm13XYLfLDuDcVo\n"
     ]
    },
    {
     "name": "stderr",
     "output_type": "stream",
     "text": [
      "WARNING:__main__:Finished call to '__main__.submit_batch_job' after 384.875(s), this was the 8th time calling it.\n",
      "WARNING:__main__:Finished call to '__main__.submit_batch_job' after 384.937(s), this was the 8th time calling it.\n"
     ]
    },
    {
     "name": "stdout",
     "output_type": "stream",
     "text": [
      "Submit batch for file id: file-Pewzr3iPfUGNaz6TuxBZRx\n",
      "Submit batch for file id: file-GsjuNhkyucFtemhFqBw9jK\n",
      "Submit batch for file id: file-SdD4uAiAPrNcWE3d9qeMQR\n"
     ]
    },
    {
     "name": "stderr",
     "output_type": "stream",
     "text": [
      "WARNING:__main__:Finished call to '__main__.submit_batch_job' after 384.907(s), this was the 8th time calling it.\n",
      "WARNING:__main__:Finished call to '__main__.submit_batch_job' after 384.828(s), this was the 8th time calling it.\n",
      "WARNING:__main__:Finished call to '__main__.submit_batch_job' after 384.984(s), this was the 8th time calling it.\n"
     ]
    },
    {
     "name": "stdout",
     "output_type": "stream",
     "text": [
      "Submit batch for file id: file-1u9Bt8e2ibrsQJJjdunnYv\n",
      "Submit batch for file id: file-BLJkpqTaeHRqi71x52mNo2\n"
     ]
    },
    {
     "name": "stderr",
     "output_type": "stream",
     "text": [
      "WARNING:__main__:Finished call to '__main__.submit_batch_job' after 384.969(s), this was the 8th time calling it.\n",
      "WARNING:__main__:Finished call to '__main__.submit_batch_job' after 384.844(s), this was the 8th time calling it.\n"
     ]
    },
    {
     "name": "stdout",
     "output_type": "stream",
     "text": [
      "Submit batch for file id: file-EREeKA86cHncJY5T723gTU\n"
     ]
    },
    {
     "name": "stderr",
     "output_type": "stream",
     "text": [
      "WARNING:__main__:Finished call to '__main__.submit_batch_job' after 384.813(s), this was the 8th time calling it.\n"
     ]
    },
    {
     "name": "stdout",
     "output_type": "stream",
     "text": [
      "Submit batch for file id: file-CTQq6gZzf8K4m4RTXH33kZ\n",
      "Submit batch for file id: file-E9pFaSMNwmSRgnrojGiauK\n",
      "Submit batch for file id: file-T2TohLGKZbNawbsAJeZXXS\n",
      "Submit batch for file id: file-KEfdb4HG8ZHo7v3irUmPrf\n"
     ]
    },
    {
     "name": "stderr",
     "output_type": "stream",
     "text": [
      "WARNING:__main__:Finished call to '__main__.submit_batch_job' after 384.828(s), this was the 8th time calling it.\n",
      "WARNING:__main__:Finished call to '__main__.submit_batch_job' after 384.843(s), this was the 8th time calling it.\n",
      "WARNING:__main__:Finished call to '__main__.submit_batch_job' after 384.890(s), this was the 8th time calling it.\n"
     ]
    },
    {
     "name": "stdout",
     "output_type": "stream",
     "text": [
      "Submit batch for file id: file-StTXZszJwWqUoK8iCwjRHU\n",
      "Submit batch for file id: file-Kfj1h9e7R5Jpag5oD3KLHs\n",
      "Submit batch for file id: file-8YSwsw2WxFpt8r4rTXyoB7\n",
      "Submit batch for file id: file-92UwsHCxkmjWdH9PXJJy8B\n"
     ]
    },
    {
     "name": "stderr",
     "output_type": "stream",
     "text": [
      "WARNING:__main__:Finished call to '__main__.submit_batch_job' after 384.938(s), this was the 8th time calling it.\n",
      "WARNING:__main__:Finished call to '__main__.submit_batch_job' after 384.812(s), this was the 8th time calling it.\n",
      "WARNING:__main__:Finished call to '__main__.submit_batch_job' after 384.812(s), this was the 8th time calling it.\n",
      "WARNING:__main__:Finished call to '__main__.submit_batch_job' after 384.875(s), this was the 8th time calling it.\n",
      "WARNING:__main__:Finished call to '__main__.submit_batch_job' after 384.968(s), this was the 8th time calling it.\n"
     ]
    },
    {
     "name": "stdout",
     "output_type": "stream",
     "text": [
      "Submit batch for file id: file-LnMkodr3RLUicak4j8Hb3t\n",
      "Submit batch for file id: file-7SAcxb657Lmspvy3jPvqEA\n"
     ]
    },
    {
     "name": "stderr",
     "output_type": "stream",
     "text": [
      "WARNING:__main__:Finished call to '__main__.submit_batch_job' after 384.953(s), this was the 8th time calling it.\n",
      "WARNING:__main__:Finished call to '__main__.submit_batch_job' after 411.969(s), this was the 8th time calling it.\n"
     ]
    },
    {
     "name": "stdout",
     "output_type": "stream",
     "text": [
      "Submit batch for file id: file-TGi9iR6bGUYTrFgoCFYSgG\n"
     ]
    },
    {
     "name": "stderr",
     "output_type": "stream",
     "text": [
      "WARNING:__main__:Finished call to '__main__.submit_batch_job' after 384.922(s), this was the 8th time calling it.\n"
     ]
    },
    {
     "name": "stdout",
     "output_type": "stream",
     "text": [
      "Submit batch for file id: file-RpfWUuLgJwpAbjB38WjuHK\n",
      "Submit batch for file id: file-CjbMGVaVoWuMTk2BaEHNEc\n",
      "Submit batch for file id: file-GMmTXCAPUoEQZ5BTKoW7Xr\n",
      "Submit batch for file id: file-ARbcb6daxPvkz321rT8Um2\n",
      "Submit batch for file id: file-48PtGcVKrxLXeRd2Gb6jth\n"
     ]
    },
    {
     "name": "stderr",
     "output_type": "stream",
     "text": [
      "WARNING:__main__:Finished call to '__main__.submit_batch_job' after 385.016(s), this was the 8th time calling it.\n",
      "WARNING:__main__:Finished call to '__main__.submit_batch_job' after 385.265(s), this was the 8th time calling it.\n",
      "WARNING:__main__:Finished call to '__main__.submit_batch_job' after 385.125(s), this was the 8th time calling it.\n",
      "WARNING:__main__:Finished call to '__main__.submit_batch_job' after 384.937(s), this was the 8th time calling it.\n"
     ]
    },
    {
     "name": "stdout",
     "output_type": "stream",
     "text": [
      "Submit batch for file id: file-EU6DXJX52qVSNfH47NQZFv\n",
      "Submit batch for file id: file-MobUfaYeC9fQtNvY1idKYQ\n",
      "Submit batch for file id: file-FNm2ryVaWgk9CDSPqxaTNK\n"
     ]
    },
    {
     "name": "stderr",
     "output_type": "stream",
     "text": [
      "WARNING:__main__:Finished call to '__main__.submit_batch_job' after 385.078(s), this was the 8th time calling it.\n",
      "WARNING:__main__:Finished call to '__main__.submit_batch_job' after 385.109(s), this was the 8th time calling it.\n",
      "WARNING:__main__:Finished call to '__main__.submit_batch_job' after 384.922(s), this was the 8th time calling it.\n",
      "WARNING:__main__:Finished call to '__main__.submit_batch_job' after 384.969(s), this was the 8th time calling it.\n"
     ]
    },
    {
     "name": "stdout",
     "output_type": "stream",
     "text": [
      "Submit batch for file id: file-BMNRxC48UPsUzZdyBD4XPR\n"
     ]
    },
    {
     "name": "stderr",
     "output_type": "stream",
     "text": [
      "WARNING:__main__:Finished call to '__main__.submit_batch_job' after 385.141(s), this was the 8th time calling it.\n"
     ]
    },
    {
     "name": "stdout",
     "output_type": "stream",
     "text": [
      "Submit batch for file id: file-WrnJrqEmPukmoVjgfWqDv7\n",
      "Submit batch for file id: file-7VTpJZr5MySVvJUQ55JQ8J\n",
      "Submit batch for file id: file-NThfuvn1fDADecNP8ZYhSR\n",
      "Submit batch for file id: file-LeXQRLFTHd2GMY6naGmM5e\n"
     ]
    },
    {
     "name": "stderr",
     "output_type": "stream",
     "text": [
      "WARNING:__main__:Finished call to '__main__.submit_batch_job' after 384.953(s), this was the 8th time calling it.\n",
      "WARNING:__main__:Finished call to '__main__.submit_batch_job' after 384.890(s), this was the 8th time calling it.\n",
      "WARNING:__main__:Finished call to '__main__.submit_batch_job' after 384.844(s), this was the 8th time calling it.\n",
      "WARNING:__main__:Finished call to '__main__.submit_batch_job' after 385.141(s), this was the 8th time calling it.\n"
     ]
    },
    {
     "name": "stdout",
     "output_type": "stream",
     "text": [
      "Submit batch for file id: file-RziAkibZ371jUpgQTtD9XD\n",
      "Submit batch for file id: file-QYZBaJPyrTsK9HRtkixn1S\n",
      "Submit batch for file id: file-M6vqjx7iJS4UnXAssmNU45\n",
      "Submit batch for file id: file-Tr1jAgWvz4F4pfyJZkQZVo\n",
      "Submit batch for file id: file-FgP1tfYxnMRQCnHkab4XCC\n"
     ]
    },
    {
     "name": "stderr",
     "output_type": "stream",
     "text": [
      "WARNING:__main__:Finished call to '__main__.submit_batch_job' after 384.844(s), this was the 8th time calling it.\n",
      "WARNING:__main__:Finished call to '__main__.submit_batch_job' after 384.781(s), this was the 8th time calling it.\n",
      "WARNING:__main__:Finished call to '__main__.submit_batch_job' after 384.734(s), this was the 8th time calling it.\n",
      "WARNING:__main__:Finished call to '__main__.submit_batch_job' after 384.828(s), this was the 8th time calling it.\n"
     ]
    },
    {
     "name": "stdout",
     "output_type": "stream",
     "text": [
      "Submit batch for file id: file-4ysB3dATxdLtyFmGoMLJbm\n",
      "Submit batch for file id: file-8JjpMKrZycPontb9SVds2h\n",
      "Submit batch for file id: file-BcYjC8yq24uq3edTcM6sLp\n",
      "Submit batch for file id: file-FKsNVDiy75uq3y1QEVkgrD\n"
     ]
    },
    {
     "name": "stderr",
     "output_type": "stream",
     "text": [
      "WARNING:__main__:Finished call to '__main__.submit_batch_job' after 384.781(s), this was the 8th time calling it.\n",
      "WARNING:__main__:Finished call to '__main__.submit_batch_job' after 384.860(s), this was the 8th time calling it.\n",
      "WARNING:__main__:Finished call to '__main__.submit_batch_job' after 384.969(s), this was the 8th time calling it.\n",
      "WARNING:__main__:Finished call to '__main__.submit_batch_job' after 385.140(s), this was the 8th time calling it.\n",
      "WARNING:__main__:Finished call to '__main__.submit_batch_job' after 384.766(s), this was the 8th time calling it.\n"
     ]
    },
    {
     "name": "stdout",
     "output_type": "stream",
     "text": [
      "Submit batch for file id: file-FwXwCpj511e6CWRvvuSouN\n",
      "Submit batch for file id: file-9pmuPCdP8Kzt1xT6bKFBsD\n"
     ]
    },
    {
     "name": "stderr",
     "output_type": "stream",
     "text": [
      "WARNING:__main__:Finished call to '__main__.submit_batch_job' after 384.922(s), this was the 8th time calling it.\n",
      "WARNING:__main__:Finished call to '__main__.submit_batch_job' after 384.985(s), this was the 8th time calling it.\n",
      "WARNING:__main__:Finished call to '__main__.submit_batch_job' after 384.828(s), this was the 8th time calling it.\n"
     ]
    },
    {
     "name": "stdout",
     "output_type": "stream",
     "text": [
      "Submit batch for file id: file-QSUvfRzgRr5HpNghTDDWM3\n",
      "Submit batch for file id: file-MjMR2x32dToxY33RGkjuD7\n",
      "Submit batch for file id: file-AcpkMAU8hZmEdmP8zoi6Qm\n",
      "Submit batch for file id: file-U9gTH3LrY4XrxSLfsGvLPM\n",
      "Submit batch for file id: file-A7iJ41EqiTyJ2VwxDp49qa\n",
      "Submit batch for file id: file-XTF1Vw6ny7HJmK373gw8oR\n",
      "Submit batch for file id: file-Wa1JHvq4qG361g9iiWX1N4\n",
      "Submit batch for file id: file-73PzCnFFqM22rsR6CJ9jwd\n",
      "Submit batch for file id: file-TiqaXQszBeB7jLUgJK5zUC\n",
      "Submit batch for file id: file-SGoozFukVkQGkRjNpvqu6M\n",
      "Submit batch for file id: file-19hekmGRNLex8qyv4jhnFF\n",
      "Submit batch for file id: file-K1PkdGJiqkdhJ4GzKwK9fm\n",
      "Submit batch for file id: file-1RSpMvog5uDCq2UMxVmfbV\n",
      "Submit batch for file id: file-GmUMG16MtN9gaT5pGe2yUf\n",
      "Submit batch for file id: file-5xH83SH3nrjj5FUjM8hE5z\n"
     ]
    },
    {
     "name": "stderr",
     "output_type": "stream",
     "text": [
      "WARNING:__main__:Finished call to '__main__.submit_batch_job' after 384.797(s), this was the 8th time calling it.\n",
      "WARNING:__main__:Finished call to '__main__.submit_batch_job' after 384.781(s), this was the 8th time calling it.\n",
      "WARNING:__main__:Finished call to '__main__.submit_batch_job' after 384.734(s), this was the 8th time calling it.\n",
      "WARNING:__main__:Finished call to '__main__.submit_batch_job' after 384.828(s), this was the 8th time calling it.\n",
      "WARNING:__main__:Finished call to '__main__.submit_batch_job' after 384.843(s), this was the 8th time calling it.\n",
      "WARNING:__main__:Finished call to '__main__.submit_batch_job' after 384.812(s), this was the 8th time calling it.\n",
      "WARNING:__main__:Finished call to '__main__.submit_batch_job' after 384.797(s), this was the 8th time calling it.\n",
      "WARNING:__main__:Finished call to '__main__.submit_batch_job' after 384.781(s), this was the 8th time calling it.\n",
      "WARNING:__main__:Finished call to '__main__.submit_batch_job' after 384.797(s), this was the 8th time calling it.\n",
      "WARNING:__main__:Finished call to '__main__.submit_batch_job' after 384.719(s), this was the 8th time calling it.\n"
     ]
    },
    {
     "name": "stdout",
     "output_type": "stream",
     "text": [
      "Submit batch for file id: file-2PNqqZAVUw8DUdW6ow24Nk\n",
      "Submit batch for file id: file-FBpbUrfk5hFRS7qQf2wU7i\n",
      "Submit batch for file id: file-FU68rpH3iXMw4a22fBpRHt\n",
      "Submit batch for file id: file-KSGYAE72fyQKWzumYLtZLY\n",
      "Submit batch for file id: file-WdG9GHe5CUPVbZx2Uc1dT5\n",
      "Submit batch for file id: file-Ng8hKcLpo77rK2QwqX7auq\n",
      "Submit batch for file id: file-3NHyHyt4fTK2ypn4GpK54T\n",
      "Submit batch for file id: file-3M7wi21PaBYezt1qttZRqL\n"
     ]
    },
    {
     "name": "stderr",
     "output_type": "stream",
     "text": [
      "WARNING:__main__:Finished call to '__main__.submit_batch_job' after 384.797(s), this was the 8th time calling it.\n",
      "WARNING:__main__:Finished call to '__main__.submit_batch_job' after 384.828(s), this was the 8th time calling it.\n",
      "WARNING:__main__:Finished call to '__main__.submit_batch_job' after 384.813(s), this was the 8th time calling it.\n",
      "WARNING:__main__:Finished call to '__main__.submit_batch_job' after 384.719(s), this was the 8th time calling it.\n",
      "WARNING:__main__:Finished call to '__main__.submit_batch_job' after 384.719(s), this was the 8th time calling it.\n",
      "WARNING:__main__:Finished call to '__main__.submit_batch_job' after 384.781(s), this was the 8th time calling it.\n",
      "WARNING:__main__:Finished call to '__main__.submit_batch_job' after 384.750(s), this was the 8th time calling it.\n",
      "WARNING:__main__:Finished call to '__main__.submit_batch_job' after 384.766(s), this was the 8th time calling it.\n",
      "WARNING:__main__:Finished call to '__main__.submit_batch_job' after 384.797(s), this was the 8th time calling it.\n",
      "WARNING:__main__:Finished call to '__main__.submit_batch_job' after 384.828(s), this was the 8th time calling it.\n",
      "WARNING:__main__:Finished call to '__main__.submit_batch_job' after 384.843(s), this was the 8th time calling it.\n"
     ]
    },
    {
     "name": "stdout",
     "output_type": "stream",
     "text": [
      "Submit batch for file id: file-QpWac8fzcNRqMVD1imLZN2\n",
      "Submit batch for file id: file-9WwhAQQH5C9pjPUdQPS7PH\n"
     ]
    },
    {
     "name": "stderr",
     "output_type": "stream",
     "text": [
      "WARNING:__main__:Finished call to '__main__.submit_batch_job' after 384.813(s), this was the 8th time calling it.\n",
      "WARNING:__main__:Finished call to '__main__.submit_batch_job' after 384.750(s), this was the 8th time calling it.\n",
      "WARNING:__main__:Finished call to '__main__.submit_batch_job' after 385.328(s), this was the 8th time calling it.\n"
     ]
    },
    {
     "name": "stdout",
     "output_type": "stream",
     "text": [
      "Submit batch for file id: file-VWbofwLYTc2XKR1tWy27Xm\n",
      "Submit batch for file id: file-QEEnDUbDpxadhah3wi8xeh\n",
      "Submit batch for file id: file-BJ6SoE2jasuvWdQdQzY6QG\n",
      "Submit batch for file id: file-F2ytrfRktUCSFpBePnJokc\n",
      "Submit batch for file id: file-7NHGfB6gapXMomUNiCV9i7\n",
      "Submit batch for file id: file-FnbEuh9cXtH1rY17Ahq38a\n",
      "Submit batch for file id: file-WtbAvhtw8owkMrg8aThABy\n",
      "Submit batch for file id: file-9tgGZ5CVwidwqHs6vs7Y2D\n",
      "Submit batch for file id: file-GhD1dQH9vwfzVy4DwSAZ6D\n"
     ]
    },
    {
     "name": "stderr",
     "output_type": "stream",
     "text": [
      "WARNING:__main__:Finished call to '__main__.submit_batch_job' after 384.812(s), this was the 8th time calling it.\n",
      "WARNING:__main__:Finished call to '__main__.submit_batch_job' after 384.766(s), this was the 8th time calling it.\n",
      "WARNING:__main__:Finished call to '__main__.submit_batch_job' after 384.750(s), this was the 8th time calling it.\n",
      "WARNING:__main__:Finished call to '__main__.submit_batch_job' after 384.750(s), this was the 8th time calling it.\n",
      "WARNING:__main__:Finished call to '__main__.submit_batch_job' after 384.766(s), this was the 8th time calling it.\n",
      "WARNING:__main__:Finished call to '__main__.submit_batch_job' after 384.703(s), this was the 8th time calling it.\n",
      "WARNING:__main__:Finished call to '__main__.submit_batch_job' after 384.750(s), this was the 8th time calling it.\n",
      "WARNING:__main__:Finished call to '__main__.submit_batch_job' after 384.781(s), this was the 8th time calling it.\n",
      "WARNING:__main__:Finished call to '__main__.submit_batch_job' after 384.797(s), this was the 8th time calling it.\n"
     ]
    },
    {
     "name": "stdout",
     "output_type": "stream",
     "text": [
      "Submit batch for file id: file-14UtbHeH4gqhTEmMB7B6QX\n",
      "Submit batch for file id: file-MWn3HdNBGpCa3QDR7CiBE6\n",
      "Submit batch for file id: file-Dt7PZkigoGW6CSiksJWKdx\n",
      "Submit batch for file id: file-452kpXTmFLdXh9aRAfhH3A\n",
      "Submit batch for file id: file-C4wp4VMHepZpHQ85ouox9U\n"
     ]
    },
    {
     "name": "stderr",
     "output_type": "stream",
     "text": [
      "WARNING:__main__:Finished call to '__main__.submit_batch_job' after 384.797(s), this was the 8th time calling it.\n",
      "WARNING:__main__:Finished call to '__main__.submit_batch_job' after 384.765(s), this was the 8th time calling it.\n",
      "WARNING:__main__:Finished call to '__main__.submit_batch_job' after 384.812(s), this was the 8th time calling it.\n",
      "WARNING:__main__:Finished call to '__main__.submit_batch_job' after 384.828(s), this was the 8th time calling it.\n",
      "WARNING:__main__:Finished call to '__main__.submit_batch_job' after 384.687(s), this was the 8th time calling it.\n"
     ]
    },
    {
     "name": "stdout",
     "output_type": "stream",
     "text": [
      "Submit batch for file id: file-DyynCjH5cKoz3hSsmNynvY\n",
      "Submit batch for file id: file-AMgw3d9pcadAK8ZnQRGSDs\n"
     ]
    },
    {
     "name": "stderr",
     "output_type": "stream",
     "text": [
      "WARNING:__main__:Finished call to '__main__.submit_batch_job' after 384.797(s), this was the 8th time calling it.\n",
      "WARNING:__main__:Finished call to '__main__.submit_batch_job' after 384.766(s), this was the 8th time calling it.\n"
     ]
    },
    {
     "name": "stdout",
     "output_type": "stream",
     "text": [
      "Submit batch for file id: file-1uFDWcaPVM8ChELTmdJCcG\n"
     ]
    },
    {
     "name": "stderr",
     "output_type": "stream",
     "text": [
      "WARNING:__main__:Finished call to '__main__.submit_batch_job' after 384.813(s), this was the 8th time calling it.\n"
     ]
    },
    {
     "name": "stdout",
     "output_type": "stream",
     "text": [
      "Submit batch for file id: file-9Es3UigCPuAWFRi3ST68f2\n"
     ]
    },
    {
     "name": "stderr",
     "output_type": "stream",
     "text": [
      "WARNING:__main__:Finished call to '__main__.submit_batch_job' after 384.812(s), this was the 8th time calling it.\n"
     ]
    },
    {
     "name": "stdout",
     "output_type": "stream",
     "text": [
      "Submit batch for file id: file-UeP82H3VUMSuBxtVeLZBFF\n"
     ]
    },
    {
     "name": "stderr",
     "output_type": "stream",
     "text": [
      "WARNING:__main__:Finished call to '__main__.submit_batch_job' after 384.828(s), this was the 8th time calling it.\n"
     ]
    },
    {
     "name": "stdout",
     "output_type": "stream",
     "text": [
      "Submit batch for file id: file-RgyeJcJutqJBZxkhcVTFYn\n",
      "Submit batch for file id: file-T9jpStdLsFSk8aNsndQKeQ\n",
      "Submit batch for file id: file-RusKox4cP5mvXYPe2vzKjj\n"
     ]
    },
    {
     "name": "stderr",
     "output_type": "stream",
     "text": [
      "WARNING:__main__:Finished call to '__main__.submit_batch_job' after 389.797(s), this was the 8th time calling it.\n",
      "WARNING:__main__:Finished call to '__main__.submit_batch_job' after 420.469(s), this was the 8th time calling it.\n",
      "WARNING:__main__:Finished call to '__main__.submit_batch_job' after 407.547(s), this was the 8th time calling it.\n"
     ]
    }
   ],
   "source": [
    "import os\n",
    "import json\n",
    "import asyncio\n",
    "import aiohttp\n",
    "import logging\n",
    "from pathlib import Path\n",
    "from datetime import datetime\n",
    "from tenacity import retry, stop_after_attempt, wait_exponential, retry_if_exception, after_log\n",
    "\n",
    "# Set up logging\n",
    "logger = logging.getLogger(__name__)\n",
    "logging.basicConfig(level=logging.INFO)\n",
    "\n",
    "# Define the output directory\n",
    "output_dir = Path('output_jsonl')\n",
    "tracking_dir = output_dir / \"tracking\"\n",
    "tracking_dir.mkdir(parents=True, exist_ok=True)\n",
    "\n",
    "# Ensure OpenAI API key is set\n",
    "api_key = os.getenv('OPENAI_API_KEY')\n",
    "if not api_key:\n",
    "    raise ValueError(\"Please set the OPENAI_API_KEY environment variable.\")\n",
    "\n",
    "def is_rate_limit_error(exception):\n",
    "    \"\"\"Checks if the exception is due to a rate limit.\"\"\"\n",
    "    return \"rate_limit_exceeded\" in str(exception)\n",
    "\n",
    "async def load_tracking_files():\n",
    "    \"\"\"Load all existing tracking metadata.\"\"\"\n",
    "    tracking_data = {}\n",
    "    for file in tracking_dir.glob(\"*_metadata.json\"):\n",
    "        with open(file, \"r\") as f:\n",
    "            metadata = json.load(f)\n",
    "            tracking_data[metadata[\"file_id\"]] = metadata\n",
    "    return tracking_data\n",
    "\n",
    "async def save_tracking_file(file_id, tracking_info):\n",
    "    \"\"\"Save tracking information for a file.\"\"\"\n",
    "    tracking_file = tracking_dir / f\"{file_id}_metadata.json\"\n",
    "    with open(tracking_file, \"w\") as f:\n",
    "        json.dump(tracking_info, f, indent=2)\n",
    "\n",
    "@retry(\n",
    "    after=after_log(logger, logging.WARN),\n",
    "    stop=stop_after_attempt(5),\n",
    "    wait=wait_exponential(multiplier=3, min=5, max=360),\n",
    "    retry=retry_if_exception(is_rate_limit_error)\n",
    ")\n",
    "async def submit_batch_job(session, file_id):\n",
    "    \"\"\"Submit the uploaded file for batch processing and return the batch_id, with retries.\"\"\"\n",
    "    url = 'https://api.openai.com/v1/batches'\n",
    "    headers = {\n",
    "        'Authorization': f\"Bearer {api_key}\",\n",
    "        'Content-Type': 'application/json'\n",
    "    }\n",
    "    data = {\n",
    "        'file_id': file_id,\n",
    "        'purpose': 'batch'\n",
    "    }\n",
    "\n",
    "    print(f\"Submitting batch for file id: {file_id}\")\n",
    "    async with session.post(url, headers=headers, json=data) as response:\n",
    "        response_json = await response.json()\n",
    "        if response.status != 200:\n",
    "            error_message = response_json.get(\"error\", {}).get(\"message\", \"Unknown error\")\n",
    "            raise Exception(f\"Error submitting batch job for file {file_id}: {error_message}\")\n",
    "\n",
    "        batch_id = response_json.get('id')\n",
    "        if not batch_id:\n",
    "            raise Exception(f\"Received null batch_id for file {file_id}, retrying...\")\n",
    "        return batch_id\n",
    "\n",
    "@retry(\n",
    "    after=after_log(logger, logging.WARN),\n",
    "    stop=stop_after_attempt(5),\n",
    "    wait=wait_exponential(multiplier=3, min=5, max=360),\n",
    "    retry=retry_if_exception(is_rate_limit_error)\n",
    ")\n",
    "async def upload_file(session, jsonl_path):\n",
    "    \"\"\"Upload a JSONL file to OpenAI and return the file_id.\"\"\"\n",
    "    url = 'https://api.openai.com/v1/files'\n",
    "    headers = {\n",
    "        'Authorization': f\"Bearer {api_key}\",\n",
    "    }\n",
    "    data = aiohttp.FormData()\n",
    "    data.add_field('purpose', 'batch')\n",
    "    data.add_field('file', jsonl_path.open('rb'), filename=jsonl_path.name, content_type='application/jsonl')\n",
    "\n",
    "    async with session.post(url, headers=headers, data=data) as response:\n",
    "        response_json = await response.json()\n",
    "        if response.status != 200:\n",
    "            error_message = response_json.get(\"error\", {}).get(\"message\", \"Unknown error\")\n",
    "            raise Exception(f\"Error uploading {jsonl_path.name}: {error_message}\")\n",
    "\n",
    "        file_id = response_json['id']\n",
    "        print(f\"File {jsonl_path.name} uploaded successfully. File ID: {file_id}\")\n",
    "        return file_id\n",
    "\n",
    "async def process_file(session, jsonl_path, tracking_data):\n",
    "    \"\"\"Process a file: Upload and track, then submit to batch processing.\"\"\"\n",
    "    # If the file has already been processed, skip it.\n",
    "    for metadata in tracking_data.values():\n",
    "        if metadata[\"original_filename\"] == jsonl_path.name and metadata[\"status\"] == \"batch_submitted\":\n",
    "            print(f\"Skipping already processed file: {jsonl_path.name}\")\n",
    "            return None\n",
    "\n",
    "    file_id = await upload_file(session, jsonl_path)\n",
    "\n",
    "    tracking_info = {\n",
    "        \"file_id\": file_id,\n",
    "        \"batch_id\": None,  # No batch ID yet\n",
    "        \"original_filename\": jsonl_path.name,\n",
    "        \"status\": \"uploaded\",  # Mark as uploaded but not batched\n",
    "        \"created_at\": datetime.now().isoformat()\n",
    "    }\n",
    "\n",
    "    await save_tracking_file(file_id, tracking_info)\n",
    "\n",
    "    return tracking_info\n",
    "\n",
    "async def submit_batches(session, tracking_data):\n",
    "    \"\"\"Attempt to submit all files that are uploaded but not yet batched.\"\"\"\n",
    "    for file_id, metadata in tracking_data.items():\n",
    "        if metadata.get(\"batch_id\") is None and metadata.get(\"status\") == \"uploaded\":\n",
    "            try:\n",
    "                batch_id = await submit_batch_job(session, file_id)\n",
    "                metadata[\"batch_id\"] = batch_id\n",
    "                metadata[\"status\"] = \"batch_submitted\"\n",
    "                await save_tracking_file(file_id, metadata)\n",
    "                print(f\"Batch submitted successfully for file ID: {file_id}\")\n",
    "            except Exception as e:\n",
    "                metadata[\"status\"] = \"failed\"\n",
    "                await save_tracking_file(file_id, metadata)\n",
    "                print(f\"Failed to submit batch for file {file_id}: {e}\")\n",
    "\n",
    "async def main_upload():\n",
    "    \"\"\"Main function to upload all batch files asynchronously.\"\"\"\n",
    "    tracking_data = await load_tracking_files()\n",
    "\n",
    "    async with aiohttp.ClientSession() as session:\n",
    "        tasks = []\n",
    "        for batch_file in sorted(output_dir.glob(\"batch_*.jsonl\")):\n",
    "            print(f\"Processing {batch_file.name} ...\")\n",
    "            task = process_file(session, batch_file, tracking_data)\n",
    "            tasks.append(task)\n",
    "            await asyncio.sleep(1)  # Brief delay to avoid rate limits\n",
    "\n",
    "        uploaded_files = await asyncio.gather(*tasks)\n",
    "\n",
    "        # Only keep successfully processed files\n",
    "        uploaded_files = [file for file in uploaded_files if file]\n",
    "\n",
    "        # Now attempt to submit batch jobs\n",
    "        await submit_batches(session, tracking_data)\n",
    "\n",
    "        print(\"\\nBatch processing finished.\")\n",
    "\n",
    "# Run the upload function within the existing event loop\n",
    "await main_upload()\n"
   ]
  },
  {
   "cell_type": "code",
   "execution_count": 18,
   "metadata": {},
   "outputs": [
    {
     "name": "stdout",
     "output_type": "stream",
     "text": [
      "No batch_id found in metadata file-14kUprdXHVfy4c9QFkGbrF_metadata.json. Skipping.\n",
      "No batch_id found in metadata file-14wPTMV99qr2uNevJawPRd_metadata.json. Skipping.\n",
      "No batch_id found in metadata file-1aDJ7SoQhDh12BAGzFNbgm_metadata.json. Skipping.\n",
      "No batch_id found in metadata file-1ip9b9hkBn5hn6H8aFjRWy_metadata.json. Skipping.\n",
      "No batch_id found in metadata file-1Kd8cmQieKgDQCnXmd5La5_metadata.json. Skipping.\n",
      "No batch_id found in metadata file-1tHtrGc4YUDvVikckkYSJh_metadata.json. Skipping.\n",
      "No batch_id found in metadata file-1trT6Y1JFP6y9tPP3ZvMjo_metadata.json. Skipping.\n",
      "No batch_id found in metadata file-1xSYGqcq6bgi3nrGpi89Lw_metadata.json. Skipping.\n",
      "No batch_id found in metadata file-2Bx2AnihwVWttqq4hnZk2T_metadata.json. Skipping.\n",
      "No batch_id found in metadata file-2C7cEJYYYmT9q2DyNtQ8RM_metadata.json. Skipping.\n",
      "No batch_id found in metadata file-2TB2XdH27JgaSA6qWwu8ih_metadata.json. Skipping.\n",
      "No batch_id found in metadata file-2uV4Hyee78BvXhRgiSPsoh_metadata.json. Skipping.\n",
      "No batch_id found in metadata file-2uXBAUtPgkwD7SWrrvnTA3_metadata.json. Skipping.\n",
      "No batch_id found in metadata file-2VaFG4bWa7dQJG8bSsL2RK_metadata.json. Skipping.\n",
      "No batch_id found in metadata file-2WrJCB9HmPXZuQESRVn2ms_metadata.json. Skipping.\n",
      "No batch_id found in metadata file-2ZKu2KLsgrWvnA7Fbzm4DY_metadata.json. Skipping.\n",
      "No batch_id found in metadata file-32RcAyXQoHTs7xXCP6LyFv_metadata.json. Skipping.\n",
      "No batch_id found in metadata file-3AnqosnhE6seB3FPqeA9eo_metadata.json. Skipping.\n",
      "No batch_id found in metadata file-3ckrz4rEg8hushubpStocy_metadata.json. Skipping.\n",
      "No batch_id found in metadata file-3Dzj5qdhwk9Mn8WsHx19gN_metadata.json. Skipping.\n",
      "No batch_id found in metadata file-3rAJ3gi8hAeNx3efTW1577_metadata.json. Skipping.\n",
      "No batch_id found in metadata file-3W7SnFUAEGTvR5rPdSdyGa_metadata.json. Skipping.\n",
      "No batch_id found in metadata file-3xpYBGYD9fp26XurVppPwA_metadata.json. Skipping.\n",
      "No batch_id found in metadata file-4acYAejLi1J3ssBCkXXo4e_metadata.json. Skipping.\n",
      "No batch_id found in metadata file-4Au9EvcvFQdzR9vztq7Mi9_metadata.json. Skipping.\n",
      "No batch_id found in metadata file-4CugNy71pfCB2g3EEHrPKC_metadata.json. Skipping.\n",
      "No batch_id found in metadata file-4mhUuHHHT7kzXfDRm88HAR_metadata.json. Skipping.\n",
      "No batch_id found in metadata file-4qfAbVH3qxLDwE8cbDPWjj_metadata.json. Skipping.\n",
      "No batch_id found in metadata file-4QQ9PgzS26PFTpyCixSwJp_metadata.json. Skipping.\n",
      "No batch_id found in metadata file-4RAyqJjDWHFbcb1J5GFKt7_metadata.json. Skipping.\n",
      "No batch_id found in metadata file-4uzSQsJdin7keVga5hf6vQ_metadata.json. Skipping.\n",
      "No batch_id found in metadata file-4VCe4jN3AUqE5oZUkJsxdq_metadata.json. Skipping.\n",
      "No batch_id found in metadata file-4xcT6za7C9feMi8J9JZmQ5_metadata.json. Skipping.\n",
      "No batch_id found in metadata file-58HwBeSYMjggo7rfh9v4tw_metadata.json. Skipping.\n",
      "No batch_id found in metadata file-5Ab2rFvcVshtBKAMeJTy6E_metadata.json. Skipping.\n",
      "No batch_id found in metadata file-5DEz8cproJfb2fYGeNUjU9_metadata.json. Skipping.\n",
      "No batch_id found in metadata file-5dj68kNAfWvJoK8Z3WzDpR_metadata.json. Skipping.\n",
      "No batch_id found in metadata file-5iuuTjcRYMUnzNa3RfS9R3_metadata.json. Skipping.\n",
      "No batch_id found in metadata file-5jG89CWKB9WM9XVXMDvG6a_metadata.json. Skipping.\n",
      "No batch_id found in metadata file-5JuWQSNwTBsAcMVZ8VrNQf_metadata.json. Skipping.\n",
      "No batch_id found in metadata file-5qgENiV9xVRhq4aS6WXjJg_metadata.json. Skipping.\n",
      "No batch_id found in metadata file-5sTdvp8n1KKpeJSnsTVbPA_metadata.json. Skipping.\n",
      "No batch_id found in metadata file-5sykfC9DRiFhXXXGFRzrnx_metadata.json. Skipping.\n",
      "No batch_id found in metadata file-5T21QFmw3JgZrFKya2mtBB_metadata.json. Skipping.\n",
      "No batch_id found in metadata file-5XmQPRNvx3d1qciXvJRsYg_metadata.json. Skipping.\n",
      "No batch_id found in metadata file-5Y8yTLKzAfCGqwHrH4Epoy_metadata.json. Skipping.\n",
      "No batch_id found in metadata file-63CYinvav9orV2uJTH3wan_metadata.json. Skipping.\n",
      "No batch_id found in metadata file-65M9WtLWVnTK3hBWerm6mS_metadata.json. Skipping.\n",
      "No batch_id found in metadata file-65yD8sYNixJpYh13jpGpNY_metadata.json. Skipping.\n",
      "No batch_id found in metadata file-684uLGcsnunQ4ZK41r5tdL_metadata.json. Skipping.\n",
      "No batch_id found in metadata file-6AHp78NgQ2sTjUecTq9kJV_metadata.json. Skipping.\n",
      "No batch_id found in metadata file-6bjFyCtGF7ZhxEz9JdwTNa_metadata.json. Skipping.\n",
      "No batch_id found in metadata file-6DDxV4HidwrMpgi9acYtU5_metadata.json. Skipping.\n",
      "No batch_id found in metadata file-6dyWdTSRyxWB6NQeHsyaP6_metadata.json. Skipping.\n",
      "No batch_id found in metadata file-6H53dph26ke3wKeURQtmVg_metadata.json. Skipping.\n",
      "No batch_id found in metadata file-6H8tmHHnmRLGyKmTk8qyXr_metadata.json. Skipping.\n",
      "No batch_id found in metadata file-6MDDgJWjLYD7w46Z29rHZ3_metadata.json. Skipping.\n",
      "No batch_id found in metadata file-6r2fhQZHiezNPn62PvGaeo_metadata.json. Skipping.\n",
      "No batch_id found in metadata file-6u2XFB1k2iXJVyvk9WJGKy_metadata.json. Skipping.\n",
      "No batch_id found in metadata file-6x6Sqp94TMzTxGMjtjhzCa_metadata.json. Skipping.\n",
      "No batch_id found in metadata file-75kX9V2x8mHdbAqPNndTC6_metadata.json. Skipping.\n",
      "No batch_id found in metadata file-7Bnqie3SamzMUGa7mUnwPi_metadata.json. Skipping.\n",
      "No batch_id found in metadata file-7bXjrBfr1cBuymWNUqXFrU_metadata.json. Skipping.\n",
      "No batch_id found in metadata file-7C3UppM6AxaiqTKEZrAHoi_metadata.json. Skipping.\n",
      "No batch_id found in metadata file-7CsXyTExN7vircjZk1rwss_metadata.json. Skipping.\n",
      "No batch_id found in metadata file-7D1y4gg717coVwV2Z3duiA_metadata.json. Skipping.\n",
      "No batch_id found in metadata file-7Dyek34uoLwJHRsSWzyTnH_metadata.json. Skipping.\n",
      "No batch_id found in metadata file-7fTxXBkxr3eDZff4KUUnyC_metadata.json. Skipping.\n",
      "No batch_id found in metadata file-7hpY5XHctFRsYyHxUJCDKP_metadata.json. Skipping.\n",
      "No batch_id found in metadata file-7iKjrFwYPYhCTtPa6L6BaC_metadata.json. Skipping.\n",
      "No batch_id found in metadata file-7L1jTBnYcNWJonNNRx84RV_metadata.json. Skipping.\n",
      "No batch_id found in metadata file-7MayKbWgwGqMtYPw6WqNiZ_metadata.json. Skipping.\n",
      "No batch_id found in metadata file-7NEsLyFo4T4nysgbx3LcTy_metadata.json. Skipping.\n",
      "No batch_id found in metadata file-7ocMUNNwSPTRhkhoY5bTQr_metadata.json. Skipping.\n",
      "No batch_id found in metadata file-7qtba2YHkXaiTecVmaNAzj_metadata.json. Skipping.\n",
      "No batch_id found in metadata file-7RSibG6JJpJU9htKcBmwUY_metadata.json. Skipping.\n",
      "No batch_id found in metadata file-7U4CRvGg83fmXNiE2Pem85_metadata.json. Skipping.\n",
      "No batch_id found in metadata file-85g6E7poRZhCV86LE7x14j_metadata.json. Skipping.\n",
      "No batch_id found in metadata file-8DCWH6DuJxhACgLkAJcPhc_metadata.json. Skipping.\n",
      "No batch_id found in metadata file-8F23UnL9DwUiNDCoWaUK86_metadata.json. Skipping.\n",
      "No batch_id found in metadata file-8MjU35ZDvKrPgFt4jpGCMo_metadata.json. Skipping.\n",
      "No batch_id found in metadata file-8Rkb3fecN9WZXoTsiYQ8VM_metadata.json. Skipping.\n",
      "No batch_id found in metadata file-8UsMRA7FFYJEyEjcMyMCoE_metadata.json. Skipping.\n",
      "No batch_id found in metadata file-95LLS5fCj7nwSpeJ4DrbYz_metadata.json. Skipping.\n",
      "No batch_id found in metadata file-979MhLKHgckCWxC3iXY6iR_metadata.json. Skipping.\n",
      "No batch_id found in metadata file-9FBR97VybNANEuKe2FoAiz_metadata.json. Skipping.\n",
      "No batch_id found in metadata file-9fRBne42tz7jyoD7mcagTs_metadata.json. Skipping.\n",
      "No batch_id found in metadata file-9GjqzeEoFMjEHgxFNNeE16_metadata.json. Skipping.\n",
      "No batch_id found in metadata file-9k3E8SjShwMkMAKi3GSxPp_metadata.json. Skipping.\n",
      "No batch_id found in metadata file-9MDunjSs1FR1upvMi1tZFG_metadata.json. Skipping.\n",
      "No batch_id found in metadata file-9p7wU9gERPtrEGZZbeT2vo_metadata.json. Skipping.\n",
      "No batch_id found in metadata file-9VYwgNqxaKr2DwmwPsNKsN_metadata.json. Skipping.\n",
      "No batch_id found in metadata file-9X1PTUfwZFjcwodjKzytam_metadata.json. Skipping.\n",
      "No batch_id found in metadata file-9xmocj7ENLBdCnmRmdQYXq_metadata.json. Skipping.\n",
      "No batch_id found in metadata file-9ysFDBfM3o6gx5pEfQAV1j_metadata.json. Skipping.\n",
      "No batch_id found in metadata file-A1YAodK1ScA7ydxdoLLA3p_metadata.json. Skipping.\n",
      "No batch_id found in metadata file-A3Cvy7qTe2Me36N99hA8ci_metadata.json. Skipping.\n",
      "No batch_id found in metadata file-A3VjSV2GSmF7hr8YyBsJSP_metadata.json. Skipping.\n",
      "No batch_id found in metadata file-A7Q98nbXPmUQwtKLxWnNkp_metadata.json. Skipping.\n",
      "No batch_id found in metadata file-AaJb8iT98rhVSE4EU4MMgF_metadata.json. Skipping.\n",
      "No batch_id found in metadata file-AEWmjnq9KLWvhwGVqYq3bN_metadata.json. Skipping.\n",
      "No batch_id found in metadata file-AHEuiTz9D1dx2coSzVjMn4_metadata.json. Skipping.\n",
      "No batch_id found in metadata file-AjqUvdJZpz8BEHpb5xoY6P_metadata.json. Skipping.\n",
      "No batch_id found in metadata file-AKSC5LYQAAJTSjcjm74iwE_metadata.json. Skipping.\n",
      "No batch_id found in metadata file-AoBxhsFNWocXP8GxwfuSMJ_metadata.json. Skipping.\n",
      "No batch_id found in metadata file-AS2axTW9zwCpyhKmgHvnoh_metadata.json. Skipping.\n",
      "No batch_id found in metadata file-AU2jtgGPEHP2TzKDn5jxJD_metadata.json. Skipping.\n",
      "No batch_id found in metadata file-AuvQZE4JiJw4Y8QpLe69Rb_metadata.json. Skipping.\n",
      "No batch_id found in metadata file-AwEHsQ5K4NB7sQv8XcdDkA_metadata.json. Skipping.\n",
      "No batch_id found in metadata file-AyXMbW7CFfMwVcoov1Vg85_metadata.json. Skipping.\n",
      "No batch_id found in metadata file-AZB64Kqr7PB5FMoPnYMmJH_metadata.json. Skipping.\n",
      "No batch_id found in metadata file-BEJ8t8dK99YXX9WbiW9F3W_metadata.json. Skipping.\n",
      "No batch_id found in metadata file-BeMr9mgFuVnQGxEoFin72b_metadata.json. Skipping.\n",
      "No batch_id found in metadata file-BGC5UGqdgL2wtv4rH1qYQF_metadata.json. Skipping.\n",
      "No batch_id found in metadata file-Bq7x1zNY4rGxioSbGQGzGT_metadata.json. Skipping.\n",
      "No batch_id found in metadata file-BTwrinsHe2mCaYhqw6DJhe_metadata.json. Skipping.\n",
      "No batch_id found in metadata file-BVaRUPETsRMgWkbhWrKbsp_metadata.json. Skipping.\n",
      "No batch_id found in metadata file-BZJHJnTj4ogNmwdEudZsRv_metadata.json. Skipping.\n",
      "No batch_id found in metadata file-C2AnETqP24GdU3TLwrDor2_metadata.json. Skipping.\n",
      "No batch_id found in metadata file-C8YNxrmg8m5tc8UVCsngVd_metadata.json. Skipping.\n",
      "No batch_id found in metadata file-C9sMDQTaAgpHqtZJSayFAu_metadata.json. Skipping.\n",
      "No batch_id found in metadata file-CcotsEKm78GUQrvkHanqQS_metadata.json. Skipping.\n",
      "No batch_id found in metadata file-CeBVv7MHoYvUfmw12aYW5h_metadata.json. Skipping.\n",
      "No batch_id found in metadata file-CLgzS3wg9dFifH9XzHt6Md_metadata.json. Skipping.\n",
      "No batch_id found in metadata file-CLsxNWrKtAmjBjqqmF2psW_metadata.json. Skipping.\n",
      "No batch_id found in metadata file-CpZTCg8iFmSUYBsTpbQaFB_metadata.json. Skipping.\n",
      "No batch_id found in metadata file-CRcnHHrHSDEXNnBamaHvKD_metadata.json. Skipping.\n",
      "No batch_id found in metadata file-CRMeNTkRjqW7fDraZ2XegM_metadata.json. Skipping.\n",
      "No batch_id found in metadata file-CseprJRHw4wWZSmQuwMPE8_metadata.json. Skipping.\n",
      "No batch_id found in metadata file-Cwm1DxWGVUYoJP2ZNvnq6J_metadata.json. Skipping.\n",
      "No batch_id found in metadata file-CXhz9Fgs8jw1t61Z3F2Ec9_metadata.json. Skipping.\n",
      "No batch_id found in metadata file-D9xmSVLd4qVGFGeT99L5S5_metadata.json. Skipping.\n",
      "No batch_id found in metadata file-DabXQgvF7v1FvtJEVwqokq_metadata.json. Skipping.\n",
      "No batch_id found in metadata file-DEZngmfNGmgq9AAn7cHNjj_metadata.json. Skipping.\n",
      "No batch_id found in metadata file-DHZs4nEfNLyQYUjLULhUBV_metadata.json. Skipping.\n",
      "No batch_id found in metadata file-DMrXWFRZ6EjPg2kgYHGCAw_metadata.json. Skipping.\n",
      "No batch_id found in metadata file-Drt7RTefcWAiSrVHRT4fZa_metadata.json. Skipping.\n",
      "No batch_id found in metadata file-Ds7jxzUHW23EWpaT1E8hHn_metadata.json. Skipping.\n",
      "No batch_id found in metadata file-DtTzbHNmzaWZ2ZGvUtFpKw_metadata.json. Skipping.\n",
      "No batch_id found in metadata file-DWhenWbkhrnchvCLLSP6oj_metadata.json. Skipping.\n",
      "No batch_id found in metadata file-DxLQA62mdnuRmaLBDfhU5v_metadata.json. Skipping.\n",
      "No batch_id found in metadata file-Dz3Ay4mL8EsanWcntMcYzx_metadata.json. Skipping.\n",
      "No batch_id found in metadata file-E3D4fjCb6JZvSzz1H4nWT2_metadata.json. Skipping.\n",
      "No batch_id found in metadata file-E5jxCYt6FojGdTAVJGnC82_metadata.json. Skipping.\n",
      "No batch_id found in metadata file-EGd4yUcCHpqVjnpe5QiVeZ_metadata.json. Skipping.\n",
      "No batch_id found in metadata file-EHb6RFbDzXs4GNTK51CXTF_metadata.json. Skipping.\n",
      "No batch_id found in metadata file-EHd6nnm26ugyNPtoiq9d6N_metadata.json. Skipping.\n",
      "No batch_id found in metadata file-EKoPhUsmrtAeJ6njSdtn7E_metadata.json. Skipping.\n",
      "No batch_id found in metadata file-Eq2UxK8Z68htdcHTeDZYHr_metadata.json. Skipping.\n",
      "No batch_id found in metadata file-EuLoyQbxhWQoRTcLjrqXSn_metadata.json. Skipping.\n",
      "No batch_id found in metadata file-EvMjuuswSZG15mgHQMN4oa_metadata.json. Skipping.\n",
      "No batch_id found in metadata file-F8UrurMLpoYQZBHFDpzWsd_metadata.json. Skipping.\n",
      "No batch_id found in metadata file-FDNWcnSBMygRJnWY3kaMf2_metadata.json. Skipping.\n",
      "No batch_id found in metadata file-FgnsdYvTuaNsDTyQ6J1fTF_metadata.json. Skipping.\n",
      "No batch_id found in metadata file-FJqYEaLjopZbHXCk5nFPXZ_metadata.json. Skipping.\n",
      "No batch_id found in metadata file-FMA9Dyc4wZhrRtErNd2yak_metadata.json. Skipping.\n",
      "No batch_id found in metadata file-FW9zC89qxuog5RA8srQVBM_metadata.json. Skipping.\n",
      "No batch_id found in metadata file-FYbopazGu3rfrDisMMuYEW_metadata.json. Skipping.\n",
      "No batch_id found in metadata file-FzB7wcodic3Y3Px4YMXcTn_metadata.json. Skipping.\n",
      "No batch_id found in metadata file-G3JtRQ7f5NLAqAXk8kDozC_metadata.json. Skipping.\n",
      "No batch_id found in metadata file-G4YpKynx1pSwFAhDoiuNYw_metadata.json. Skipping.\n",
      "No batch_id found in metadata file-G5WsAs1sEjwwzEdr31W2S5_metadata.json. Skipping.\n",
      "No batch_id found in metadata file-G78yJ3885NrRXgG2hULp6t_metadata.json. Skipping.\n",
      "No batch_id found in metadata file-G7u8m6WDJmqgqCrbxfwqH5_metadata.json. Skipping.\n",
      "No batch_id found in metadata file-GaLT5KzNLjDHjapkYJ6MN2_metadata.json. Skipping.\n",
      "No batch_id found in metadata file-GCCLsyD1R4PrnzyFQ9p8CJ_metadata.json. Skipping.\n",
      "No batch_id found in metadata file-GfUX64V3X98rsiVqd6rUJi_metadata.json. Skipping.\n",
      "No batch_id found in metadata file-GmbKTrLdJrGag5pyCU1n2F_metadata.json. Skipping.\n",
      "No batch_id found in metadata file-GpyLQMa9dWXMELwC77dtZD_metadata.json. Skipping.\n",
      "No batch_id found in metadata file-Gu5ucTyjGrKDn1kDAZAtg5_metadata.json. Skipping.\n",
      "No batch_id found in metadata file-Gyo5YkmThtuSvyZ4UPeaeV_metadata.json. Skipping.\n",
      "No batch_id found in metadata file-GysmVEfD1ncgYoz1cKcsrx_metadata.json. Skipping.\n",
      "No batch_id found in metadata file-Gz8FfxDyVGhfRF3rEJNwBH_metadata.json. Skipping.\n",
      "No batch_id found in metadata file-H3beDZc5v21q4sTpUX9VpS_metadata.json. Skipping.\n",
      "No batch_id found in metadata file-H4vNE9SfhwB2Y1BHmoTLeF_metadata.json. Skipping.\n",
      "No batch_id found in metadata file-H64XuVXVL4hikyvsXFqKa8_metadata.json. Skipping.\n",
      "No batch_id found in metadata file-H69gN4anqsRSogiTPVtUKn_metadata.json. Skipping.\n",
      "No batch_id found in metadata file-H7cTqwnCQp3LUA7gXyq17d_metadata.json. Skipping.\n",
      "No batch_id found in metadata file-H9iHzZPjJAh7TD2RCRHyo5_metadata.json. Skipping.\n",
      "No batch_id found in metadata file-Ha8vnTUzj23T9hYMhuN65w_metadata.json. Skipping.\n",
      "No batch_id found in metadata file-HAooNN29VrVtTpM8u9TY1E_metadata.json. Skipping.\n",
      "No batch_id found in metadata file-HgSaLCFXd4ULuz2W5nks1b_metadata.json. Skipping.\n",
      "No batch_id found in metadata file-Hke7gxjHNZHJwKmaYX934r_metadata.json. Skipping.\n",
      "No batch_id found in metadata file-HqcSqnRndHdWWQCm7hijjr_metadata.json. Skipping.\n",
      "No batch_id found in metadata file-HxUAdhTt7pwPEYKZHprNnT_metadata.json. Skipping.\n",
      "No batch_id found in metadata file-J1NGuKaqZm3XvkkCmVoc3Q_metadata.json. Skipping.\n",
      "No batch_id found in metadata file-J1yxvQjmwaMgCzwaaEWRL2_metadata.json. Skipping.\n",
      "No batch_id found in metadata file-J9Y7pbJLGYANPeqkGbNByN_metadata.json. Skipping.\n",
      "No batch_id found in metadata file-JBrxjA6M6BMcedc9523ye6_metadata.json. Skipping.\n",
      "No batch_id found in metadata file-Ji7B1YjymApK1efCDaWrhr_metadata.json. Skipping.\n",
      "No batch_id found in metadata file-Jk6zAWsG3JzMbZNpYNCPpp_metadata.json. Skipping.\n",
      "No batch_id found in metadata file-JKyJXgLu8vJmRyE89chcoM_metadata.json. Skipping.\n",
      "No batch_id found in metadata file-JpGPtGeuGKuP4zz5CdjHj1_metadata.json. Skipping.\n",
      "No batch_id found in metadata file-JsXTdVbfX5PXeGXxRp4aZH_metadata.json. Skipping.\n",
      "No batch_id found in metadata file-JuJA66AkRNkJ3fgpzrBNS1_metadata.json. Skipping.\n",
      "No batch_id found in metadata file-JxMdiA7BDe5wwYBPpCv3Ja_metadata.json. Skipping.\n",
      "No batch_id found in metadata file-JyS75w7HrpaRYZSoqL85RH_metadata.json. Skipping.\n",
      "No batch_id found in metadata file-K5h7RCLnUijNvHsb4uKoxH_metadata.json. Skipping.\n",
      "No batch_id found in metadata file-K5yuQmn3WiaauXdXmivHwY_metadata.json. Skipping.\n",
      "No batch_id found in metadata file-K7Z572RtwYdRWVJSHmNJj4_metadata.json. Skipping.\n",
      "No batch_id found in metadata file-K9PuGrMcN7hCTicE6p3PZu_metadata.json. Skipping.\n",
      "No batch_id found in metadata file-KdEXLHMxYshqhA3oaEdWm1_metadata.json. Skipping.\n",
      "No batch_id found in metadata file-KE77yswsZNQSRG9HcPUo9c_metadata.json. Skipping.\n",
      "No batch_id found in metadata file-KfC6bfmKavG1YtcSojmymX_metadata.json. Skipping.\n",
      "No batch_id found in metadata file-KJUnhuTchxPGRNgqgG7EYp_metadata.json. Skipping.\n",
      "No batch_id found in metadata file-KoLFRoWZHbKbQ2SWc9ZnSd_metadata.json. Skipping.\n",
      "No batch_id found in metadata file-KQTaF3GqCynzdPtagb69ig_metadata.json. Skipping.\n",
      "No batch_id found in metadata file-Kr539uTeQvGAvb9Mf6imDs_metadata.json. Skipping.\n",
      "No batch_id found in metadata file-KRtb8jzrcvZ16qntnGUdQF_metadata.json. Skipping.\n",
      "No batch_id found in metadata file-KtPy8rRhL2NDeP6XceZeCx_metadata.json. Skipping.\n",
      "No batch_id found in metadata file-KuXMx4L8f8aALiBDjFPXwE_metadata.json. Skipping.\n",
      "No batch_id found in metadata file-KVypRose5g9nhH9n4dYCrs_metadata.json. Skipping.\n",
      "No batch_id found in metadata file-KW3kwxKLVT3haAP1WqxQjU_metadata.json. Skipping.\n",
      "No batch_id found in metadata file-KXTnzptN2VR6sZj53dfCRR_metadata.json. Skipping.\n",
      "No batch_id found in metadata file-KZ5KGSfWwUo4rBJB8jmRqh_metadata.json. Skipping.\n",
      "No batch_id found in metadata file-KzuWokbuCQk9qpbawyWJpE_metadata.json. Skipping.\n",
      "No batch_id found in metadata file-L2JhQCJQ2vSowHs1jBCPwc_metadata.json. Skipping.\n",
      "No batch_id found in metadata file-L9jhTVjaGviiLWKdc45Hcd_metadata.json. Skipping.\n",
      "No batch_id found in metadata file-LcuHS1f7hq9bVvmr9RajPZ_metadata.json. Skipping.\n",
      "No batch_id found in metadata file-LEdafnx2xqfk5gGv7w9e1n_metadata.json. Skipping.\n",
      "No batch_id found in metadata file-LGQsXYEJPYibK2rhq4xAng_metadata.json. Skipping.\n",
      "No batch_id found in metadata file-LGZYGHtDRbHtET9XcNvFLa_metadata.json. Skipping.\n",
      "No batch_id found in metadata file-LHDME88WDSGBop64Gu1DjT_metadata.json. Skipping.\n",
      "No batch_id found in metadata file-LjSkppnwd4Wt3jbefXCseW_metadata.json. Skipping.\n",
      "No batch_id found in metadata file-LLrzVYJzyrjg8nrE8qgs87_metadata.json. Skipping.\n",
      "No batch_id found in metadata file-LLXBk1eMaywZMhfyHr8HBe_metadata.json. Skipping.\n",
      "No batch_id found in metadata file-LnvEr2yaNdzNLtJek8S3CN_metadata.json. Skipping.\n",
      "No batch_id found in metadata file-LYaf76e7xEdxjjhv81SuE5_metadata.json. Skipping.\n",
      "No batch_id found in metadata file-LZcc9NFFQZfERVapHPU9NU_metadata.json. Skipping.\n",
      "No batch_id found in metadata file-M3fa4EaD9AwHFeVh8mmfjy_metadata.json. Skipping.\n",
      "No batch_id found in metadata file-MBCWxo3LtJBTNq1CtfTJae_metadata.json. Skipping.\n",
      "No batch_id found in metadata file-MBnV7Uhz5KUu8kre1YkWgU_metadata.json. Skipping.\n",
      "No batch_id found in metadata file-MdU2xQ2kHPV4iKn8dwgkmh_metadata.json. Skipping.\n",
      "No batch_id found in metadata file-MF5WGfmypbe4fjz5GVY4cB_metadata.json. Skipping.\n",
      "No batch_id found in metadata file-MgfG7z1yA3r1ghV29iHTYb_metadata.json. Skipping.\n",
      "No batch_id found in metadata file-MH7oQvB8xNBMQ8wyCJto1R_metadata.json. Skipping.\n",
      "No batch_id found in metadata file-MHBf218Fdf3M3PiW37nWt3_metadata.json. Skipping.\n",
      "No batch_id found in metadata file-Micr9BxyXAQ3u7FUMpCfEJ_metadata.json. Skipping.\n",
      "No batch_id found in metadata file-MjgMCMARUv5AtvKsWzByFt_metadata.json. Skipping.\n",
      "No batch_id found in metadata file-MK9FqTFcqUvJwgCMe5Ltas_metadata.json. Skipping.\n",
      "No batch_id found in metadata file-MkoXgbpdNt7Y1NNk9JLkA4_metadata.json. Skipping.\n",
      "No batch_id found in metadata file-MMuCwoZoRmChe2YTNqkjEE_metadata.json. Skipping.\n",
      "No batch_id found in metadata file-Mocw4Rx3rMmQqo8eLT38jk_metadata.json. Skipping.\n",
      "No batch_id found in metadata file-Mp1fFQLDaTPC7RYkRBGK7u_metadata.json. Skipping.\n",
      "No batch_id found in metadata file-MpiBGHEWcnQNdfBM65YgpA_metadata.json. Skipping.\n",
      "No batch_id found in metadata file-MqvSjNBbzK3jNdpuixJRYU_metadata.json. Skipping.\n",
      "No batch_id found in metadata file-MSnH2YEiRUgtu4dcFskNoR_metadata.json. Skipping.\n",
      "No batch_id found in metadata file-MvKPgaLiWZ33pKxJ7b8yS9_metadata.json. Skipping.\n",
      "No batch_id found in metadata file-Mwop1x42kjWrjHtyhRjp68_metadata.json. Skipping.\n",
      "No batch_id found in metadata file-N5z3yeX556jWMXSCt5GcMg_metadata.json. Skipping.\n",
      "No batch_id found in metadata file-N6bozUnTVP3mL3yfk5gkXh_metadata.json. Skipping.\n",
      "No batch_id found in metadata file-NCCBq5datGTPX6P46Cjnfg_metadata.json. Skipping.\n",
      "No batch_id found in metadata file-NGFHZKXM6rm4FZLR2Ac2Pu_metadata.json. Skipping.\n",
      "No batch_id found in metadata file-NKiEMVrrDT5Uki39HQLhzr_metadata.json. Skipping.\n",
      "No batch_id found in metadata file-NmM4D3PNkkY8QsScdD49La_metadata.json. Skipping.\n",
      "No batch_id found in metadata file-NNGcMewK1D49Kiq3G4QmFo_metadata.json. Skipping.\n",
      "No batch_id found in metadata file-NnzoCdWPaipMRdYqz9bJJw_metadata.json. Skipping.\n",
      "No batch_id found in metadata file-Ns3p2iRoCW1CYZFPe7xyHV_metadata.json. Skipping.\n",
      "No batch_id found in metadata file-Nx1Fjxaj8jnVgtir4EhKtA_metadata.json. Skipping.\n",
      "No batch_id found in metadata file-NzCRSL6fvbKRfJL7vssY18_metadata.json. Skipping.\n",
      "No batch_id found in metadata file-P7svt85yEYtwubSMJmkmBp_metadata.json. Skipping.\n",
      "No batch_id found in metadata file-PbzPkDg3qkBk4CqZ6o41Vt_metadata.json. Skipping.\n",
      "No batch_id found in metadata file-PdrGnPZ3ARWQogJRmJhgJP_metadata.json. Skipping.\n",
      "No batch_id found in metadata file-Ph7iqXm8CXEufJ5Sfdbu9s_metadata.json. Skipping.\n",
      "No batch_id found in metadata file-PmB9CJRTu57qoK29jrj8PB_metadata.json. Skipping.\n",
      "No batch_id found in metadata file-PmpphV9a9dBmw1W1MBm5oZ_metadata.json. Skipping.\n",
      "No batch_id found in metadata file-PUkDWoML4iLk1zNBR7bQef_metadata.json. Skipping.\n",
      "No batch_id found in metadata file-PvHRm98vaFiivdSTs9WHRn_metadata.json. Skipping.\n",
      "No batch_id found in metadata file-PW9KsC1hgJqWwyX8PZfbS6_metadata.json. Skipping.\n",
      "No batch_id found in metadata file-PWbtaCSwqb1xpQHKU4vv1K_metadata.json. Skipping.\n",
      "No batch_id found in metadata file-Q4SBjZXCVWDwBb4VT6AVRt_metadata.json. Skipping.\n",
      "No batch_id found in metadata file-Q8Nq6rsboy2VHDKtZygfkC_metadata.json. Skipping.\n",
      "No batch_id found in metadata file-QbMumer3A7jTFQ8W9vEUVh_metadata.json. Skipping.\n",
      "No batch_id found in metadata file-QbqELbvGvJTmXRyqF5wJPS_metadata.json. Skipping.\n",
      "No batch_id found in metadata file-QbzUUJUW7pqFNeGKqxxwqF_metadata.json. Skipping.\n",
      "No batch_id found in metadata file-QC8v4sheZTj4qXXgxhVeaL_metadata.json. Skipping.\n",
      "No batch_id found in metadata file-QeRrPJNjspPsGAtYP5d9VE_metadata.json. Skipping.\n",
      "No batch_id found in metadata file-QJNvBvZR23EFhB5hS6RwM4_metadata.json. Skipping.\n",
      "No batch_id found in metadata file-QLmzQvqRYzNLAQ6HVdJLiU_metadata.json. Skipping.\n",
      "No batch_id found in metadata file-QnKfHGfXfRXUXzxa1oMAtF_metadata.json. Skipping.\n",
      "No batch_id found in metadata file-QQrHicmdgwqhgkeoYRsffc_metadata.json. Skipping.\n",
      "No batch_id found in metadata file-QUnU4hjMSwWE7q1djB81nq_metadata.json. Skipping.\n",
      "No batch_id found in metadata file-QVg2Nv7APicWXbRkQa9uPF_metadata.json. Skipping.\n",
      "No batch_id found in metadata file-Qxte6oWrzRkXzSrUKEvwWn_metadata.json. Skipping.\n",
      "No batch_id found in metadata file-QYpDwX2MDTqK3TMtNj3jfA_metadata.json. Skipping.\n",
      "No batch_id found in metadata file-R2Fp4WVoEhsiuuG65QznRH_metadata.json. Skipping.\n",
      "No batch_id found in metadata file-R4g3yqTkWod6vZdevibNNJ_metadata.json. Skipping.\n",
      "No batch_id found in metadata file-R6exWfJXzdTEfB3mjyNKFJ_metadata.json. Skipping.\n",
      "No batch_id found in metadata file-R7xPQcVFV7xzb4HoSkCH8h_metadata.json. Skipping.\n",
      "No batch_id found in metadata file-RJKJJ4F5bDpX2RqwZBRiwT_metadata.json. Skipping.\n",
      "No batch_id found in metadata file-RK8bL1JGPTYr7cqJZjW3e9_metadata.json. Skipping.\n",
      "No batch_id found in metadata file-RQiY2WB828rCmR5KT61kfd_metadata.json. Skipping.\n",
      "No batch_id found in metadata file-RwRtA6438ZjRjDJBFsTftv_metadata.json. Skipping.\n",
      "No batch_id found in metadata file-RZihjevzPf8adrhNebueyr_metadata.json. Skipping.\n",
      "No batch_id found in metadata file-RZVDyts6ncom1pA1nqsnH2_metadata.json. Skipping.\n",
      "No batch_id found in metadata file-S1hYA2KMGHhoWikaWSnMUz_metadata.json. Skipping.\n",
      "No batch_id found in metadata file-S43uPDgCxo8Bepebjj1qm4_metadata.json. Skipping.\n",
      "No batch_id found in metadata file-S4CUcJJCg4uEHXYQck6rEv_metadata.json. Skipping.\n",
      "No batch_id found in metadata file-S4RQn3bL9qBXcnSV2S7QuE_metadata.json. Skipping.\n",
      "No batch_id found in metadata file-S5dhtR69WK4qekbgNRjcAJ_metadata.json. Skipping.\n",
      "No batch_id found in metadata file-S5Xr6PJpZ9NWSLN7C6VmXH_metadata.json. Skipping.\n",
      "No batch_id found in metadata file-SaMdPChzPHqN3dEGtpyrGC_metadata.json. Skipping.\n",
      "No batch_id found in metadata file-ScSvpeD2BavXdH9ST7XRpY_metadata.json. Skipping.\n",
      "No batch_id found in metadata file-SEA5Y4K6FXrJGSCkpPUiqc_metadata.json. Skipping.\n",
      "No batch_id found in metadata file-SFciRamtTLT6zdmDF6tTNM_metadata.json. Skipping.\n",
      "No batch_id found in metadata file-SftGzJCJVoo5aUY68QFAia_metadata.json. Skipping.\n",
      "No batch_id found in metadata file-SgtX48aWUwNLwc7w4inWoK_metadata.json. Skipping.\n",
      "No batch_id found in metadata file-SHdqRkrhyS6GJwmB8qQHRV_metadata.json. Skipping.\n",
      "No batch_id found in metadata file-Siu24ZYxoEeUbQWPmvcDV1_metadata.json. Skipping.\n",
      "No batch_id found in metadata file-SivBbJqLjexyfYDZNmYd5C_metadata.json. Skipping.\n",
      "No batch_id found in metadata file-SKCgYKpkktcz4JcxU7EdWn_metadata.json. Skipping.\n",
      "No batch_id found in metadata file-SLZXE3WM316CzRHJCxBiZh_metadata.json. Skipping.\n",
      "No batch_id found in metadata file-SMw6RbLHEbJraVjSsYVpoB_metadata.json. Skipping.\n",
      "No batch_id found in metadata file-SqaZStmRWsYriJXG74SBYR_metadata.json. Skipping.\n",
      "No batch_id found in metadata file-SU6nsrFDngGmtJRrLRbfYS_metadata.json. Skipping.\n",
      "No batch_id found in metadata file-SvwkPtYBAobnhBZAnSkZvn_metadata.json. Skipping.\n",
      "No batch_id found in metadata file-T9Nb7LbdA3TqXtaXZxKsci_metadata.json. Skipping.\n",
      "No batch_id found in metadata file-TAcLPgjuCCtA2p8U1F9iXA_metadata.json. Skipping.\n",
      "No batch_id found in metadata file-TBsqNb3NZMfYUAtkehfLkk_metadata.json. Skipping.\n",
      "No batch_id found in metadata file-Tehr6tFrus234o1ZpXy8NG_metadata.json. Skipping.\n",
      "No batch_id found in metadata file-TiVUmogjN19sYZ3VF1aXGB_metadata.json. Skipping.\n",
      "No batch_id found in metadata file-TmgW2v4LWMKG7JRW9XHoKH_metadata.json. Skipping.\n",
      "No batch_id found in metadata file-ToMmR8K5a9fY5tVTS3zPZj_metadata.json. Skipping.\n",
      "No batch_id found in metadata file-TRL3fpGkFfoukM2VVtA19u_metadata.json. Skipping.\n",
      "No batch_id found in metadata file-Ts7cAVSgzbKJxmMAZphqbb_metadata.json. Skipping.\n",
      "No batch_id found in metadata file-TsMGL6MpL7xY7suNZNvJ6o_metadata.json. Skipping.\n",
      "No batch_id found in metadata file-TVjbyaCEq5WaruJZVppsdS_metadata.json. Skipping.\n",
      "No batch_id found in metadata file-TZhFBpj5noYeX1VhTzHTtX_metadata.json. Skipping.\n",
      "No batch_id found in metadata file-TZuAV8qpTEMxJN5q7rth45_metadata.json. Skipping.\n",
      "No batch_id found in metadata file-U2gbEP5aAtDcrFCtaXECxe_metadata.json. Skipping.\n",
      "No batch_id found in metadata file-U32TkcSjsWE3e6Uh4H8BSS_metadata.json. Skipping.\n",
      "No batch_id found in metadata file-U654FTNtBZiUFjQyk5W9Nm_metadata.json. Skipping.\n",
      "No batch_id found in metadata file-U9JFCt7Vm3gZF1tmEXN6Bx_metadata.json. Skipping.\n",
      "No batch_id found in metadata file-UGqRLyi3Avg37iPYWp62Dr_metadata.json. Skipping.\n",
      "No batch_id found in metadata file-UgShL1CURszK6X5WKu7Fsr_metadata.json. Skipping.\n",
      "No batch_id found in metadata file-UiywJgDuWKxmb4dzxqWfZ1_metadata.json. Skipping.\n",
      "No batch_id found in metadata file-UjjPDCiGmYXwhN13mtPfue_metadata.json. Skipping.\n",
      "No batch_id found in metadata file-UoYZM23oKDFP1A6HZFQ9hb_metadata.json. Skipping.\n",
      "No batch_id found in metadata file-UQyC33LNWtqFM3trZa6Khp_metadata.json. Skipping.\n",
      "No batch_id found in metadata file-UTeYayEQe4ok22HqBz9iyS_metadata.json. Skipping.\n",
      "No batch_id found in metadata file-UtHN4wuYyCjCRFt195rK2X_metadata.json. Skipping.\n",
      "No batch_id found in metadata file-VBM3msArtJAwXo9PdKEsXK_metadata.json. Skipping.\n",
      "No batch_id found in metadata file-VbwzyBBxuDewZK1HPm4QAE_metadata.json. Skipping.\n",
      "No batch_id found in metadata file-VERWWGCH1o6XEu51HvFJfm_metadata.json. Skipping.\n",
      "No batch_id found in metadata file-VFE88w1hJxy4BY12TzgsWL_metadata.json. Skipping.\n",
      "No batch_id found in metadata file-Vjqx9zu2wpVAgdfTKC811y_metadata.json. Skipping.\n",
      "No batch_id found in metadata file-VKqucm1gUU4Ju8x3jQNS7M_metadata.json. Skipping.\n",
      "No batch_id found in metadata file-VU87Y5f4rgChAw19uL7fRd_metadata.json. Skipping.\n",
      "No batch_id found in metadata file-VuELEh3UpTP9asU1pzZQVM_metadata.json. Skipping.\n",
      "No batch_id found in metadata file-VX44sd2erfXQtt5DkYVU8g_metadata.json. Skipping.\n",
      "No batch_id found in metadata file-W1uWUoWqrY3cAhc83kjjtE_metadata.json. Skipping.\n",
      "No batch_id found in metadata file-W87eGWatpDRvkuJdX4nbtg_metadata.json. Skipping.\n",
      "No batch_id found in metadata file-WAg92LCdsnf6gmvVDXtiHY_metadata.json. Skipping.\n",
      "No batch_id found in metadata file-WCWFLNgfbmTg7noJWByrFq_metadata.json. Skipping.\n",
      "No batch_id found in metadata file-WEEJYDEvhrtLym9PBA3r75_metadata.json. Skipping.\n",
      "No batch_id found in metadata file-WEzWEgB5QvJnBYms1Q38bi_metadata.json. Skipping.\n",
      "No batch_id found in metadata file-WJUZhRD8skueAVTW5MgBRQ_metadata.json. Skipping.\n",
      "No batch_id found in metadata file-WKRU3PmYsn4PujBXvydtr5_metadata.json. Skipping.\n",
      "No batch_id found in metadata file-WMYRo36w3EnT37EGrqUnaz_metadata.json. Skipping.\n",
      "No batch_id found in metadata file-WnsHCzMiE4AnrPrtVFqsis_metadata.json. Skipping.\n",
      "No batch_id found in metadata file-WNtv9698BdNgcjRaWPbinA_metadata.json. Skipping.\n",
      "No batch_id found in metadata file-WP1qA4fjWzQeU6f3GQJezV_metadata.json. Skipping.\n",
      "No batch_id found in metadata file-WYZkqGy3qGc6xL7RGz42x7_metadata.json. Skipping.\n",
      "No batch_id found in metadata file-X32QEAH4mCDAxDaCNxYxrc_metadata.json. Skipping.\n",
      "No batch_id found in metadata file-X3hKwkdjWRhf6xRTZSELPV_metadata.json. Skipping.\n",
      "No batch_id found in metadata file-XHw9SjS8pjY1ML95XZsYzt_metadata.json. Skipping.\n",
      "No batch_id found in metadata file-XJkUC4bVLiohLFbVC9z7vK_metadata.json. Skipping.\n",
      "No batch_id found in metadata file-XKLDQGY5rrC6NDnxvTthjL_metadata.json. Skipping.\n",
      "No batch_id found in metadata file-XSSGK7p2QCFWxBw8PqcDgf_metadata.json. Skipping.\n",
      "No batch_id found in metadata file-XTqGn3MgjVEb6PeSnnNf6d_metadata.json. Skipping.\n",
      "No batch_id found in metadata file-XwtvVKEFPrLBLpEtzsYF1G_metadata.json. Skipping.\n",
      "No batch_id found in metadata file-Y3pTprcBRrf9cjSpgYzfLn_metadata.json. Skipping.\n",
      "No batch_id found in metadata file-YUrhnXS81A3AP4BABMojgu_metadata.json. Skipping.\n"
     ]
    }
   ],
   "source": [
    "import os\n",
    "import json\n",
    "import asyncio\n",
    "import aiohttp\n",
    "from pathlib import Path\n",
    "from datetime import datetime, timedelta\n",
    "import openai\n",
    "from tenacity import retry, stop_after_attempt, wait_exponential\n",
    "\n",
    "# Set your OpenAI API key\n",
    "openai.api_key = os.getenv('OPENAI_API_KEY')\n",
    "if not openai.api_key:\n",
    "    raise ValueError(\"Please set the OPENAI_API_KEY environment variable.\")\n",
    "\n",
    "# Define directories\n",
    "tracking_dir = Path('output_jsonl/tracking')\n",
    "results_dir = tracking_dir / \"results\"\n",
    "results_dir.mkdir(parents=True, exist_ok=True)\n",
    "\n",
    "# Retry configuration: 3 attempts with exponential backoff\n",
    "@retry(stop=stop_after_attempt(3), wait=wait_exponential(multiplier=1, min=4, max=60))\n",
    "async def fetch_batch_status(session, batch_id):\n",
    "    \"\"\"Fetch the status of a batch job.\"\"\"\n",
    "    url = f'https://api.openai.com/v1/batches/{batch_id}'\n",
    "    headers = {\n",
    "        'Authorization': f\"Bearer {openai.api_key}\",\n",
    "    }\n",
    "    async with session.get(url, headers=headers) as response:\n",
    "        if response.status == 200:\n",
    "            return await response.json()\n",
    "        else:\n",
    "            error_text = await response.text()\n",
    "            raise Exception(f\"Error fetching status for batch {batch_id}: {error_text}\")\n",
    "\n",
    "@retry(stop=stop_after_attempt(3), wait=wait_exponential(multiplier=1, min=4, max=60))\n",
    "async def download_file(session, file_id, destination):\n",
    "    \"\"\"Download a file from OpenAI and save it to the destination.\"\"\"\n",
    "    url = f'https://api.openai.com/v1/files/{file_id}/content'\n",
    "    headers = {\n",
    "        'Authorization': f\"Bearer {openai.api_key}\",\n",
    "    }\n",
    "    async with session.get(url, headers=headers) as response:\n",
    "        if response.status == 200:\n",
    "            with open(destination, 'wb') as f:\n",
    "                f.write(await response.read())\n",
    "        else:\n",
    "            error_text = await response.text()\n",
    "            raise Exception(f\"Error downloading file {file_id}: {error_text}\")\n",
    "\n",
    "async def process_batch(session, metadata_path):\n",
    "    \"\"\"Process a single batch based on its metadata file.\"\"\"\n",
    "    with open(metadata_path, 'r') as f:\n",
    "        metadata = json.load(f)\n",
    "\n",
    "    batch_id = metadata.get('batch_id')\n",
    "    if not batch_id:\n",
    "        print(f\"No batch_id found in metadata {metadata_path.name}. Skipping.\")\n",
    "        return\n",
    "\n",
    "    # Check batch status\n",
    "    try:\n",
    "        print(f\"Checking status for batch {batch_id}...\")\n",
    "        batch_status = await fetch_batch_status(session, batch_id)\n",
    "        metadata['batch_status'] = batch_status['status']\n",
    "\n",
    "        # Save updated metadata\n",
    "        with open(metadata_path, 'w') as f:\n",
    "            json.dump(metadata, f, indent=2)\n",
    "\n",
    "        if batch_status['status'] == 'completed':\n",
    "            output_file_id = batch_status.get('output_file_id')\n",
    "            if output_file_id:\n",
    "                output_path = results_dir / f\"{batch_id}_results.jsonl\"\n",
    "                await download_file(session, output_file_id, output_path)\n",
    "                print(f\"Results for batch {batch_id} saved to {output_path}\")\n",
    "            else:\n",
    "                print(f\"Batch {batch_id} completed, but no output file found.\")\n",
    "        elif batch_status['status'] in ['failed', 'expired']:\n",
    "            print(f\"Batch {batch_id} failed or expired.\")\n",
    "\n",
    "    except Exception as e:\n",
    "        print(f\"Error processing batch {batch_id}: {e}\")\n",
    "\n",
    "async def main_check_batches():\n",
    "    \"\"\"Main function to check the status of all batch jobs.\"\"\"\n",
    "    async with aiohttp.ClientSession() as session:\n",
    "        tasks = []\n",
    "        for metadata_file in tracking_dir.glob(\"*_metadata.json\"):\n",
    "            tasks.append(process_batch(session, metadata_file))\n",
    "\n",
    "        await asyncio.gather(*tasks)\n",
    "\n",
    "# Run the batch checking function\n",
    "await main_check_batches()\n"
   ]
  },
  {
   "cell_type": "code",
   "execution_count": null,
   "metadata": {},
   "outputs": [],
   "source": []
  }
 ],
 "metadata": {
  "kernelspec": {
   "display_name": ".venv",
   "language": "python",
   "name": "python3"
  },
  "language_info": {
   "codemirror_mode": {
    "name": "ipython",
    "version": 3
   },
   "file_extension": ".py",
   "mimetype": "text/x-python",
   "name": "python",
   "nbconvert_exporter": "python",
   "pygments_lexer": "ipython3",
   "version": "3.11.8"
  }
 },
 "nbformat": 4,
 "nbformat_minor": 2
}
